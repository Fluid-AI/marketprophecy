{
  "nbformat": 4,
  "nbformat_minor": 0,
  "metadata": {
    "colab": {
      "name": "Stock_market_prize_prediction.ipynb",
      "provenance": [],
      "collapsed_sections": []
    },
    "kernelspec": {
      "name": "python3",
      "display_name": "Python 3"
    },
    "language_info": {
      "name": "python"
    }
  },
  "cells": [
    {
      "cell_type": "markdown",
      "source": [
        "# Importing required libraries"
      ],
      "metadata": {
        "id": "it2IH9bGEEMl"
      }
    },
    {
      "cell_type": "code",
      "execution_count": 5,
      "metadata": {
        "id": "ao-W1TCwIjen"
      },
      "outputs": [],
      "source": [
        "import pandas as pd\n",
        "import numpy as np\n",
        "from google.colab import files\n",
        "import io\n",
        "import matplotlib.pyplot as plt\n",
        "from keras.layers import Dense, Activation\n",
        "from keras.models import Sequential"
      ]
    },
    {
      "cell_type": "markdown",
      "source": [
        "# Uploading CSV file "
      ],
      "metadata": {
        "id": "lyAYvxVj_nr4"
      }
    },
    {
      "cell_type": "code",
      "source": [
        ""
      ],
      "metadata": {
        "id": "SysxMSYN_nLV"
      },
      "execution_count": null,
      "outputs": []
    },
    {
      "cell_type": "code",
      "source": [
        "data = files.upload()"
      ],
      "metadata": {
        "colab": {
          "resources": {
            "http://localhost:8080/nbextensions/google.colab/files.js": {
              "data": "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",
              "ok": true,
              "headers": [
                [
                  "content-type",
                  "application/javascript"
                ]
              ],
              "status": 200,
              "status_text": ""
            }
          },
          "base_uri": "https://localhost:8080/",
          "height": 73
        },
        "id": "919YWkaJQ_tj",
        "outputId": "6a80dfdb-79cf-4c5f-ddde-56771cbb09a7"
      },
      "execution_count": 2,
      "outputs": [
        {
          "output_type": "display_data",
          "data": {
            "text/html": [
              "\n",
              "     <input type=\"file\" id=\"files-61a88ae7-cb81-4aaf-8f46-45d17bb00a65\" name=\"files[]\" multiple disabled\n",
              "        style=\"border:none\" />\n",
              "     <output id=\"result-61a88ae7-cb81-4aaf-8f46-45d17bb00a65\">\n",
              "      Upload widget is only available when the cell has been executed in the\n",
              "      current browser session. Please rerun this cell to enable.\n",
              "      </output>\n",
              "      <script src=\"/nbextensions/google.colab/files.js\"></script> "
            ],
            "text/plain": [
              "<IPython.core.display.HTML object>"
            ]
          },
          "metadata": {}
        },
        {
          "output_type": "stream",
          "name": "stdout",
          "text": [
            "Saving NSE Training Data.csv to NSE Training Data.csv\n"
          ]
        }
      ]
    },
    {
      "cell_type": "markdown",
      "source": [
        "# converting csv file to dataframe"
      ],
      "metadata": {
        "id": "OQq6BfKgAEJR"
      }
    },
    {
      "cell_type": "code",
      "source": [
        "df = pd.read_csv(io.StringIO(data['NSE Training Data.csv'].decode('utf-8')))"
      ],
      "metadata": {
        "id": "CgqPU4_BRUa1"
      },
      "execution_count": 7,
      "outputs": []
    },
    {
      "cell_type": "markdown",
      "source": [
        "# Data inspection.."
      ],
      "metadata": {
        "id": "ZP8mZuQsAMpE"
      }
    },
    {
      "cell_type": "code",
      "source": [
        "df.head(5)"
      ],
      "metadata": {
        "colab": {
          "base_uri": "https://localhost:8080/",
          "height": 206
        },
        "id": "g4U7YLDwcdnW",
        "outputId": "3e80ae4b-bd50-415b-92cb-f4ffe2348b37"
      },
      "execution_count": 8,
      "outputs": [
        {
          "output_type": "execute_result",
          "data": {
            "text/html": [
              "\n",
              "  <div id=\"df-4ba16ae6-b040-4d62-a147-041c32b76ef1\">\n",
              "    <div class=\"colab-df-container\">\n",
              "      <div>\n",
              "<style scoped>\n",
              "    .dataframe tbody tr th:only-of-type {\n",
              "        vertical-align: middle;\n",
              "    }\n",
              "\n",
              "    .dataframe tbody tr th {\n",
              "        vertical-align: top;\n",
              "    }\n",
              "\n",
              "    .dataframe thead th {\n",
              "        text-align: right;\n",
              "    }\n",
              "</style>\n",
              "<table border=\"1\" class=\"dataframe\">\n",
              "  <thead>\n",
              "    <tr style=\"text-align: right;\">\n",
              "      <th></th>\n",
              "      <th>Date</th>\n",
              "      <th>Open</th>\n",
              "      <th>High</th>\n",
              "      <th>Low</th>\n",
              "      <th>Close</th>\n",
              "      <th>Adj Close</th>\n",
              "      <th>Volume</th>\n",
              "    </tr>\n",
              "  </thead>\n",
              "  <tbody>\n",
              "    <tr>\n",
              "      <th>0</th>\n",
              "      <td>2016-01-04</td>\n",
              "      <td>7924.549805</td>\n",
              "      <td>7937.549805</td>\n",
              "      <td>7781.100098</td>\n",
              "      <td>7791.299805</td>\n",
              "      <td>7791.299805</td>\n",
              "      <td>134700.0</td>\n",
              "    </tr>\n",
              "    <tr>\n",
              "      <th>1</th>\n",
              "      <td>2016-01-05</td>\n",
              "      <td>7828.399902</td>\n",
              "      <td>7831.200195</td>\n",
              "      <td>7763.250000</td>\n",
              "      <td>7784.649902</td>\n",
              "      <td>7784.649902</td>\n",
              "      <td>145200.0</td>\n",
              "    </tr>\n",
              "    <tr>\n",
              "      <th>2</th>\n",
              "      <td>2016-01-06</td>\n",
              "      <td>7788.049805</td>\n",
              "      <td>7800.950195</td>\n",
              "      <td>7721.200195</td>\n",
              "      <td>7741.000000</td>\n",
              "      <td>7741.000000</td>\n",
              "      <td>147100.0</td>\n",
              "    </tr>\n",
              "    <tr>\n",
              "      <th>3</th>\n",
              "      <td>2016-01-07</td>\n",
              "      <td>7673.350098</td>\n",
              "      <td>7674.950195</td>\n",
              "      <td>7556.600098</td>\n",
              "      <td>7568.299805</td>\n",
              "      <td>7568.299805</td>\n",
              "      <td>188900.0</td>\n",
              "    </tr>\n",
              "    <tr>\n",
              "      <th>4</th>\n",
              "      <td>2016-01-08</td>\n",
              "      <td>7611.649902</td>\n",
              "      <td>7634.100098</td>\n",
              "      <td>7581.049805</td>\n",
              "      <td>7601.350098</td>\n",
              "      <td>7601.350098</td>\n",
              "      <td>157400.0</td>\n",
              "    </tr>\n",
              "  </tbody>\n",
              "</table>\n",
              "</div>\n",
              "      <button class=\"colab-df-convert\" onclick=\"convertToInteractive('df-4ba16ae6-b040-4d62-a147-041c32b76ef1')\"\n",
              "              title=\"Convert this dataframe to an interactive table.\"\n",
              "              style=\"display:none;\">\n",
              "        \n",
              "  <svg xmlns=\"http://www.w3.org/2000/svg\" height=\"24px\"viewBox=\"0 0 24 24\"\n",
              "       width=\"24px\">\n",
              "    <path d=\"M0 0h24v24H0V0z\" fill=\"none\"/>\n",
              "    <path d=\"M18.56 5.44l.94 2.06.94-2.06 2.06-.94-2.06-.94-.94-2.06-.94 2.06-2.06.94zm-11 1L8.5 8.5l.94-2.06 2.06-.94-2.06-.94L8.5 2.5l-.94 2.06-2.06.94zm10 10l.94 2.06.94-2.06 2.06-.94-2.06-.94-.94-2.06-.94 2.06-2.06.94z\"/><path d=\"M17.41 7.96l-1.37-1.37c-.4-.4-.92-.59-1.43-.59-.52 0-1.04.2-1.43.59L10.3 9.45l-7.72 7.72c-.78.78-.78 2.05 0 2.83L4 21.41c.39.39.9.59 1.41.59.51 0 1.02-.2 1.41-.59l7.78-7.78 2.81-2.81c.8-.78.8-2.07 0-2.86zM5.41 20L4 18.59l7.72-7.72 1.47 1.35L5.41 20z\"/>\n",
              "  </svg>\n",
              "      </button>\n",
              "      \n",
              "  <style>\n",
              "    .colab-df-container {\n",
              "      display:flex;\n",
              "      flex-wrap:wrap;\n",
              "      gap: 12px;\n",
              "    }\n",
              "\n",
              "    .colab-df-convert {\n",
              "      background-color: #E8F0FE;\n",
              "      border: none;\n",
              "      border-radius: 50%;\n",
              "      cursor: pointer;\n",
              "      display: none;\n",
              "      fill: #1967D2;\n",
              "      height: 32px;\n",
              "      padding: 0 0 0 0;\n",
              "      width: 32px;\n",
              "    }\n",
              "\n",
              "    .colab-df-convert:hover {\n",
              "      background-color: #E2EBFA;\n",
              "      box-shadow: 0px 1px 2px rgba(60, 64, 67, 0.3), 0px 1px 3px 1px rgba(60, 64, 67, 0.15);\n",
              "      fill: #174EA6;\n",
              "    }\n",
              "\n",
              "    [theme=dark] .colab-df-convert {\n",
              "      background-color: #3B4455;\n",
              "      fill: #D2E3FC;\n",
              "    }\n",
              "\n",
              "    [theme=dark] .colab-df-convert:hover {\n",
              "      background-color: #434B5C;\n",
              "      box-shadow: 0px 1px 3px 1px rgba(0, 0, 0, 0.15);\n",
              "      filter: drop-shadow(0px 1px 2px rgba(0, 0, 0, 0.3));\n",
              "      fill: #FFFFFF;\n",
              "    }\n",
              "  </style>\n",
              "\n",
              "      <script>\n",
              "        const buttonEl =\n",
              "          document.querySelector('#df-4ba16ae6-b040-4d62-a147-041c32b76ef1 button.colab-df-convert');\n",
              "        buttonEl.style.display =\n",
              "          google.colab.kernel.accessAllowed ? 'block' : 'none';\n",
              "\n",
              "        async function convertToInteractive(key) {\n",
              "          const element = document.querySelector('#df-4ba16ae6-b040-4d62-a147-041c32b76ef1');\n",
              "          const dataTable =\n",
              "            await google.colab.kernel.invokeFunction('convertToInteractive',\n",
              "                                                     [key], {});\n",
              "          if (!dataTable) return;\n",
              "\n",
              "          const docLinkHtml = 'Like what you see? Visit the ' +\n",
              "            '<a target=\"_blank\" href=https://colab.research.google.com/notebooks/data_table.ipynb>data table notebook</a>'\n",
              "            + ' to learn more about interactive tables.';\n",
              "          element.innerHTML = '';\n",
              "          dataTable['output_type'] = 'display_data';\n",
              "          await google.colab.output.renderOutput(dataTable, element);\n",
              "          const docLink = document.createElement('div');\n",
              "          docLink.innerHTML = docLinkHtml;\n",
              "          element.appendChild(docLink);\n",
              "        }\n",
              "      </script>\n",
              "    </div>\n",
              "  </div>\n",
              "  "
            ],
            "text/plain": [
              "         Date         Open         High  ...        Close    Adj Close    Volume\n",
              "0  2016-01-04  7924.549805  7937.549805  ...  7791.299805  7791.299805  134700.0\n",
              "1  2016-01-05  7828.399902  7831.200195  ...  7784.649902  7784.649902  145200.0\n",
              "2  2016-01-06  7788.049805  7800.950195  ...  7741.000000  7741.000000  147100.0\n",
              "3  2016-01-07  7673.350098  7674.950195  ...  7568.299805  7568.299805  188900.0\n",
              "4  2016-01-08  7611.649902  7634.100098  ...  7601.350098  7601.350098  157400.0\n",
              "\n",
              "[5 rows x 7 columns]"
            ]
          },
          "metadata": {},
          "execution_count": 8
        }
      ]
    },
    {
      "cell_type": "code",
      "source": [
        "df.shape"
      ],
      "metadata": {
        "colab": {
          "base_uri": "https://localhost:8080/"
        },
        "id": "TU2A-0FWc4Dx",
        "outputId": "a42e7844-a1b9-435b-ffa0-03d2a1960add"
      },
      "execution_count": 9,
      "outputs": [
        {
          "output_type": "execute_result",
          "data": {
            "text/plain": [
              "(1481, 7)"
            ]
          },
          "metadata": {},
          "execution_count": 9
        }
      ]
    },
    {
      "cell_type": "code",
      "source": [
        "df.describe()"
      ],
      "metadata": {
        "colab": {
          "base_uri": "https://localhost:8080/",
          "height": 300
        },
        "id": "exA8qx7ldlh4",
        "outputId": "886eaed9-2a86-476b-f1f6-ec5f03e9b3c8"
      },
      "execution_count": 11,
      "outputs": [
        {
          "output_type": "execute_result",
          "data": {
            "text/html": [
              "\n",
              "  <div id=\"df-569efa7c-8761-4d78-a2f8-673e364e6bc6\">\n",
              "    <div class=\"colab-df-container\">\n",
              "      <div>\n",
              "<style scoped>\n",
              "    .dataframe tbody tr th:only-of-type {\n",
              "        vertical-align: middle;\n",
              "    }\n",
              "\n",
              "    .dataframe tbody tr th {\n",
              "        vertical-align: top;\n",
              "    }\n",
              "\n",
              "    .dataframe thead th {\n",
              "        text-align: right;\n",
              "    }\n",
              "</style>\n",
              "<table border=\"1\" class=\"dataframe\">\n",
              "  <thead>\n",
              "    <tr style=\"text-align: right;\">\n",
              "      <th></th>\n",
              "      <th>Open</th>\n",
              "      <th>High</th>\n",
              "      <th>Low</th>\n",
              "      <th>Close</th>\n",
              "      <th>Adj Close</th>\n",
              "      <th>Volume</th>\n",
              "    </tr>\n",
              "  </thead>\n",
              "  <tbody>\n",
              "    <tr>\n",
              "      <th>count</th>\n",
              "      <td>1475.000000</td>\n",
              "      <td>1475.000000</td>\n",
              "      <td>1475.000000</td>\n",
              "      <td>1475.000000</td>\n",
              "      <td>1475.000000</td>\n",
              "      <td>1.475000e+03</td>\n",
              "    </tr>\n",
              "    <tr>\n",
              "      <th>mean</th>\n",
              "      <td>11190.630103</td>\n",
              "      <td>11243.279798</td>\n",
              "      <td>11114.862019</td>\n",
              "      <td>11180.224847</td>\n",
              "      <td>11180.224847</td>\n",
              "      <td>3.672148e+05</td>\n",
              "    </tr>\n",
              "    <tr>\n",
              "      <th>std</th>\n",
              "      <td>2605.404423</td>\n",
              "      <td>2613.649325</td>\n",
              "      <td>2588.183872</td>\n",
              "      <td>2602.005796</td>\n",
              "      <td>2602.005796</td>\n",
              "      <td>2.277599e+05</td>\n",
              "    </tr>\n",
              "    <tr>\n",
              "      <th>min</th>\n",
              "      <td>7023.649902</td>\n",
              "      <td>7034.200195</td>\n",
              "      <td>6825.799805</td>\n",
              "      <td>6970.600098</td>\n",
              "      <td>6970.600098</td>\n",
              "      <td>0.000000e+00</td>\n",
              "    </tr>\n",
              "    <tr>\n",
              "      <th>25%</th>\n",
              "      <td>9362.950195</td>\n",
              "      <td>9404.100098</td>\n",
              "      <td>9290.100097</td>\n",
              "      <td>9315.899902</td>\n",
              "      <td>9315.899902</td>\n",
              "      <td>1.956000e+05</td>\n",
              "    </tr>\n",
              "    <tr>\n",
              "      <th>50%</th>\n",
              "      <td>10781.849609</td>\n",
              "      <td>10816.349609</td>\n",
              "      <td>10718.750000</td>\n",
              "      <td>10769.150391</td>\n",
              "      <td>10769.150391</td>\n",
              "      <td>2.906000e+05</td>\n",
              "    </tr>\n",
              "    <tr>\n",
              "      <th>75%</th>\n",
              "      <td>11925.699707</td>\n",
              "      <td>11968.899903</td>\n",
              "      <td>11847.475097</td>\n",
              "      <td>11914.125000</td>\n",
              "      <td>11914.125000</td>\n",
              "      <td>5.092500e+05</td>\n",
              "    </tr>\n",
              "    <tr>\n",
              "      <th>max</th>\n",
              "      <td>18602.349609</td>\n",
              "      <td>18604.449219</td>\n",
              "      <td>18445.300781</td>\n",
              "      <td>18477.050781</td>\n",
              "      <td>18477.050781</td>\n",
              "      <td>1.811000e+06</td>\n",
              "    </tr>\n",
              "  </tbody>\n",
              "</table>\n",
              "</div>\n",
              "      <button class=\"colab-df-convert\" onclick=\"convertToInteractive('df-569efa7c-8761-4d78-a2f8-673e364e6bc6')\"\n",
              "              title=\"Convert this dataframe to an interactive table.\"\n",
              "              style=\"display:none;\">\n",
              "        \n",
              "  <svg xmlns=\"http://www.w3.org/2000/svg\" height=\"24px\"viewBox=\"0 0 24 24\"\n",
              "       width=\"24px\">\n",
              "    <path d=\"M0 0h24v24H0V0z\" fill=\"none\"/>\n",
              "    <path d=\"M18.56 5.44l.94 2.06.94-2.06 2.06-.94-2.06-.94-.94-2.06-.94 2.06-2.06.94zm-11 1L8.5 8.5l.94-2.06 2.06-.94-2.06-.94L8.5 2.5l-.94 2.06-2.06.94zm10 10l.94 2.06.94-2.06 2.06-.94-2.06-.94-.94-2.06-.94 2.06-2.06.94z\"/><path d=\"M17.41 7.96l-1.37-1.37c-.4-.4-.92-.59-1.43-.59-.52 0-1.04.2-1.43.59L10.3 9.45l-7.72 7.72c-.78.78-.78 2.05 0 2.83L4 21.41c.39.39.9.59 1.41.59.51 0 1.02-.2 1.41-.59l7.78-7.78 2.81-2.81c.8-.78.8-2.07 0-2.86zM5.41 20L4 18.59l7.72-7.72 1.47 1.35L5.41 20z\"/>\n",
              "  </svg>\n",
              "      </button>\n",
              "      \n",
              "  <style>\n",
              "    .colab-df-container {\n",
              "      display:flex;\n",
              "      flex-wrap:wrap;\n",
              "      gap: 12px;\n",
              "    }\n",
              "\n",
              "    .colab-df-convert {\n",
              "      background-color: #E8F0FE;\n",
              "      border: none;\n",
              "      border-radius: 50%;\n",
              "      cursor: pointer;\n",
              "      display: none;\n",
              "      fill: #1967D2;\n",
              "      height: 32px;\n",
              "      padding: 0 0 0 0;\n",
              "      width: 32px;\n",
              "    }\n",
              "\n",
              "    .colab-df-convert:hover {\n",
              "      background-color: #E2EBFA;\n",
              "      box-shadow: 0px 1px 2px rgba(60, 64, 67, 0.3), 0px 1px 3px 1px rgba(60, 64, 67, 0.15);\n",
              "      fill: #174EA6;\n",
              "    }\n",
              "\n",
              "    [theme=dark] .colab-df-convert {\n",
              "      background-color: #3B4455;\n",
              "      fill: #D2E3FC;\n",
              "    }\n",
              "\n",
              "    [theme=dark] .colab-df-convert:hover {\n",
              "      background-color: #434B5C;\n",
              "      box-shadow: 0px 1px 3px 1px rgba(0, 0, 0, 0.15);\n",
              "      filter: drop-shadow(0px 1px 2px rgba(0, 0, 0, 0.3));\n",
              "      fill: #FFFFFF;\n",
              "    }\n",
              "  </style>\n",
              "\n",
              "      <script>\n",
              "        const buttonEl =\n",
              "          document.querySelector('#df-569efa7c-8761-4d78-a2f8-673e364e6bc6 button.colab-df-convert');\n",
              "        buttonEl.style.display =\n",
              "          google.colab.kernel.accessAllowed ? 'block' : 'none';\n",
              "\n",
              "        async function convertToInteractive(key) {\n",
              "          const element = document.querySelector('#df-569efa7c-8761-4d78-a2f8-673e364e6bc6');\n",
              "          const dataTable =\n",
              "            await google.colab.kernel.invokeFunction('convertToInteractive',\n",
              "                                                     [key], {});\n",
              "          if (!dataTable) return;\n",
              "\n",
              "          const docLinkHtml = 'Like what you see? Visit the ' +\n",
              "            '<a target=\"_blank\" href=https://colab.research.google.com/notebooks/data_table.ipynb>data table notebook</a>'\n",
              "            + ' to learn more about interactive tables.';\n",
              "          element.innerHTML = '';\n",
              "          dataTable['output_type'] = 'display_data';\n",
              "          await google.colab.output.renderOutput(dataTable, element);\n",
              "          const docLink = document.createElement('div');\n",
              "          docLink.innerHTML = docLinkHtml;\n",
              "          element.appendChild(docLink);\n",
              "        }\n",
              "      </script>\n",
              "    </div>\n",
              "  </div>\n",
              "  "
            ],
            "text/plain": [
              "               Open          High  ...     Adj Close        Volume\n",
              "count   1475.000000   1475.000000  ...   1475.000000  1.475000e+03\n",
              "mean   11190.630103  11243.279798  ...  11180.224847  3.672148e+05\n",
              "std     2605.404423   2613.649325  ...   2602.005796  2.277599e+05\n",
              "min     7023.649902   7034.200195  ...   6970.600098  0.000000e+00\n",
              "25%     9362.950195   9404.100098  ...   9315.899902  1.956000e+05\n",
              "50%    10781.849609  10816.349609  ...  10769.150391  2.906000e+05\n",
              "75%    11925.699707  11968.899903  ...  11914.125000  5.092500e+05\n",
              "max    18602.349609  18604.449219  ...  18477.050781  1.811000e+06\n",
              "\n",
              "[8 rows x 6 columns]"
            ]
          },
          "metadata": {},
          "execution_count": 11
        }
      ]
    },
    {
      "cell_type": "markdown",
      "source": [
        "# Removing Unnecessary columns"
      ],
      "metadata": {
        "id": "28PLuMedATAs"
      }
    },
    {
      "cell_type": "code",
      "source": [
        "df = df.drop(['Date','Adj Close'], axis=1)"
      ],
      "metadata": {
        "id": "Sh2D-q14dpSi"
      },
      "execution_count": 12,
      "outputs": []
    },
    {
      "cell_type": "code",
      "source": [
        "df.head(4)"
      ],
      "metadata": {
        "colab": {
          "base_uri": "https://localhost:8080/",
          "height": 175
        },
        "id": "iSqC_yONdueY",
        "outputId": "0d64541b-7277-4c4b-c8f8-245e80bfedfd"
      },
      "execution_count": 13,
      "outputs": [
        {
          "output_type": "execute_result",
          "data": {
            "text/html": [
              "\n",
              "  <div id=\"df-4492ca48-4748-4c92-891c-aa588918613f\">\n",
              "    <div class=\"colab-df-container\">\n",
              "      <div>\n",
              "<style scoped>\n",
              "    .dataframe tbody tr th:only-of-type {\n",
              "        vertical-align: middle;\n",
              "    }\n",
              "\n",
              "    .dataframe tbody tr th {\n",
              "        vertical-align: top;\n",
              "    }\n",
              "\n",
              "    .dataframe thead th {\n",
              "        text-align: right;\n",
              "    }\n",
              "</style>\n",
              "<table border=\"1\" class=\"dataframe\">\n",
              "  <thead>\n",
              "    <tr style=\"text-align: right;\">\n",
              "      <th></th>\n",
              "      <th>Open</th>\n",
              "      <th>High</th>\n",
              "      <th>Low</th>\n",
              "      <th>Close</th>\n",
              "      <th>Volume</th>\n",
              "    </tr>\n",
              "  </thead>\n",
              "  <tbody>\n",
              "    <tr>\n",
              "      <th>0</th>\n",
              "      <td>7924.549805</td>\n",
              "      <td>7937.549805</td>\n",
              "      <td>7781.100098</td>\n",
              "      <td>7791.299805</td>\n",
              "      <td>134700.0</td>\n",
              "    </tr>\n",
              "    <tr>\n",
              "      <th>1</th>\n",
              "      <td>7828.399902</td>\n",
              "      <td>7831.200195</td>\n",
              "      <td>7763.250000</td>\n",
              "      <td>7784.649902</td>\n",
              "      <td>145200.0</td>\n",
              "    </tr>\n",
              "    <tr>\n",
              "      <th>2</th>\n",
              "      <td>7788.049805</td>\n",
              "      <td>7800.950195</td>\n",
              "      <td>7721.200195</td>\n",
              "      <td>7741.000000</td>\n",
              "      <td>147100.0</td>\n",
              "    </tr>\n",
              "    <tr>\n",
              "      <th>3</th>\n",
              "      <td>7673.350098</td>\n",
              "      <td>7674.950195</td>\n",
              "      <td>7556.600098</td>\n",
              "      <td>7568.299805</td>\n",
              "      <td>188900.0</td>\n",
              "    </tr>\n",
              "  </tbody>\n",
              "</table>\n",
              "</div>\n",
              "      <button class=\"colab-df-convert\" onclick=\"convertToInteractive('df-4492ca48-4748-4c92-891c-aa588918613f')\"\n",
              "              title=\"Convert this dataframe to an interactive table.\"\n",
              "              style=\"display:none;\">\n",
              "        \n",
              "  <svg xmlns=\"http://www.w3.org/2000/svg\" height=\"24px\"viewBox=\"0 0 24 24\"\n",
              "       width=\"24px\">\n",
              "    <path d=\"M0 0h24v24H0V0z\" fill=\"none\"/>\n",
              "    <path d=\"M18.56 5.44l.94 2.06.94-2.06 2.06-.94-2.06-.94-.94-2.06-.94 2.06-2.06.94zm-11 1L8.5 8.5l.94-2.06 2.06-.94-2.06-.94L8.5 2.5l-.94 2.06-2.06.94zm10 10l.94 2.06.94-2.06 2.06-.94-2.06-.94-.94-2.06-.94 2.06-2.06.94z\"/><path d=\"M17.41 7.96l-1.37-1.37c-.4-.4-.92-.59-1.43-.59-.52 0-1.04.2-1.43.59L10.3 9.45l-7.72 7.72c-.78.78-.78 2.05 0 2.83L4 21.41c.39.39.9.59 1.41.59.51 0 1.02-.2 1.41-.59l7.78-7.78 2.81-2.81c.8-.78.8-2.07 0-2.86zM5.41 20L4 18.59l7.72-7.72 1.47 1.35L5.41 20z\"/>\n",
              "  </svg>\n",
              "      </button>\n",
              "      \n",
              "  <style>\n",
              "    .colab-df-container {\n",
              "      display:flex;\n",
              "      flex-wrap:wrap;\n",
              "      gap: 12px;\n",
              "    }\n",
              "\n",
              "    .colab-df-convert {\n",
              "      background-color: #E8F0FE;\n",
              "      border: none;\n",
              "      border-radius: 50%;\n",
              "      cursor: pointer;\n",
              "      display: none;\n",
              "      fill: #1967D2;\n",
              "      height: 32px;\n",
              "      padding: 0 0 0 0;\n",
              "      width: 32px;\n",
              "    }\n",
              "\n",
              "    .colab-df-convert:hover {\n",
              "      background-color: #E2EBFA;\n",
              "      box-shadow: 0px 1px 2px rgba(60, 64, 67, 0.3), 0px 1px 3px 1px rgba(60, 64, 67, 0.15);\n",
              "      fill: #174EA6;\n",
              "    }\n",
              "\n",
              "    [theme=dark] .colab-df-convert {\n",
              "      background-color: #3B4455;\n",
              "      fill: #D2E3FC;\n",
              "    }\n",
              "\n",
              "    [theme=dark] .colab-df-convert:hover {\n",
              "      background-color: #434B5C;\n",
              "      box-shadow: 0px 1px 3px 1px rgba(0, 0, 0, 0.15);\n",
              "      filter: drop-shadow(0px 1px 2px rgba(0, 0, 0, 0.3));\n",
              "      fill: #FFFFFF;\n",
              "    }\n",
              "  </style>\n",
              "\n",
              "      <script>\n",
              "        const buttonEl =\n",
              "          document.querySelector('#df-4492ca48-4748-4c92-891c-aa588918613f button.colab-df-convert');\n",
              "        buttonEl.style.display =\n",
              "          google.colab.kernel.accessAllowed ? 'block' : 'none';\n",
              "\n",
              "        async function convertToInteractive(key) {\n",
              "          const element = document.querySelector('#df-4492ca48-4748-4c92-891c-aa588918613f');\n",
              "          const dataTable =\n",
              "            await google.colab.kernel.invokeFunction('convertToInteractive',\n",
              "                                                     [key], {});\n",
              "          if (!dataTable) return;\n",
              "\n",
              "          const docLinkHtml = 'Like what you see? Visit the ' +\n",
              "            '<a target=\"_blank\" href=https://colab.research.google.com/notebooks/data_table.ipynb>data table notebook</a>'\n",
              "            + ' to learn more about interactive tables.';\n",
              "          element.innerHTML = '';\n",
              "          dataTable['output_type'] = 'display_data';\n",
              "          await google.colab.output.renderOutput(dataTable, element);\n",
              "          const docLink = document.createElement('div');\n",
              "          docLink.innerHTML = docLinkHtml;\n",
              "          element.appendChild(docLink);\n",
              "        }\n",
              "      </script>\n",
              "    </div>\n",
              "  </div>\n",
              "  "
            ],
            "text/plain": [
              "          Open         High          Low        Close    Volume\n",
              "0  7924.549805  7937.549805  7781.100098  7791.299805  134700.0\n",
              "1  7828.399902  7831.200195  7763.250000  7784.649902  145200.0\n",
              "2  7788.049805  7800.950195  7721.200195  7741.000000  147100.0\n",
              "3  7673.350098  7674.950195  7556.600098  7568.299805  188900.0"
            ]
          },
          "metadata": {},
          "execution_count": 13
        }
      ]
    },
    {
      "cell_type": "markdown",
      "source": [
        "# Checking and filling the null values"
      ],
      "metadata": {
        "id": "RmgHUqg8AcJ7"
      }
    },
    {
      "cell_type": "code",
      "source": [
        "df.isnull().sum()"
      ],
      "metadata": {
        "colab": {
          "base_uri": "https://localhost:8080/"
        },
        "id": "m_I_rsUzd0lj",
        "outputId": "f534f9eb-cc02-459f-e60b-022a5cc379d6"
      },
      "execution_count": 15,
      "outputs": [
        {
          "output_type": "execute_result",
          "data": {
            "text/plain": [
              "Open      6\n",
              "High      6\n",
              "Low       6\n",
              "Close     6\n",
              "Volume    6\n",
              "dtype: int64"
            ]
          },
          "metadata": {},
          "execution_count": 15
        }
      ]
    },
    {
      "cell_type": "code",
      "source": [
        "df['Open'] = df['Open'].fillna(df['Open'].mean())\n",
        "df['High'] = df['High'].fillna(df['High'].mean())\n",
        "df['Low'] = df['Low'].fillna(df['Low'].mean())\n",
        "df['Close'] = df['Close'].fillna(df['Close'].mean())\n",
        "df['Volume'] = df['Volume'].fillna(df['Volume'].mean())"
      ],
      "metadata": {
        "id": "zub60YWNd-O_"
      },
      "execution_count": 16,
      "outputs": []
    },
    {
      "cell_type": "code",
      "source": [
        "df.isnull().sum()"
      ],
      "metadata": {
        "colab": {
          "base_uri": "https://localhost:8080/"
        },
        "id": "v1yTHCRbe8Vd",
        "outputId": "93c7fe10-ef84-4788-d9c8-2ab15d058b62"
      },
      "execution_count": 17,
      "outputs": [
        {
          "output_type": "execute_result",
          "data": {
            "text/plain": [
              "Open      0\n",
              "High      0\n",
              "Low       0\n",
              "Close     0\n",
              "Volume    0\n",
              "dtype: int64"
            ]
          },
          "metadata": {},
          "execution_count": 17
        }
      ]
    },
    {
      "cell_type": "markdown",
      "source": [
        "# Visualizing the data on the basis of 'Close' column"
      ],
      "metadata": {
        "id": "lPhtOMtiAzIT"
      }
    },
    {
      "cell_type": "code",
      "source": [
        "plt.figure(figsize=(14,8))\n",
        "plt.plot(df.Close)"
      ],
      "metadata": {
        "colab": {
          "base_uri": "https://localhost:8080/",
          "height": 500
        },
        "id": "vZZysoH0fAGh",
        "outputId": "bb5c95b3-2532-4334-8702-a426d331cb89"
      },
      "execution_count": 67,
      "outputs": [
        {
          "output_type": "execute_result",
          "data": {
            "text/plain": [
              "[<matplotlib.lines.Line2D at 0x7fad3ab28a10>]"
            ]
          },
          "metadata": {},
          "execution_count": 67
        },
        {
          "output_type": "display_data",
          "data": {
            "image/png": "[encoded data removed]",
            "text/plain": [
              "<Figure size 1008x576 with 1 Axes>"
            ]
          },
          "metadata": {
            "needs_background": "light"
          }
        }
      ]
    },
    {
      "cell_type": "markdown",
      "source": [
        "# Visualizing 30 day moving average of stock prize"
      ],
      "metadata": {
        "id": "GeVfYdaZA9ES"
      }
    },
    {
      "cell_type": "code",
      "source": [
        "mv_avg = df.Close.rolling(30).mean()"
      ],
      "metadata": {
        "id": "Xy-jzLO2fKoD"
      },
      "execution_count": 23,
      "outputs": []
    },
    {
      "cell_type": "code",
      "source": [
        "plt.figure(figsize=(14,8))\n",
        "plt.plot(df.Close)\n",
        "plt.plot(mv_avg, 'r')"
      ],
      "metadata": {
        "colab": {
          "base_uri": "https://localhost:8080/",
          "height": 500
        },
        "id": "mdlfG_42gPVw",
        "outputId": "4a6c7d43-926c-4951-f588-17a51aa5d93f"
      },
      "execution_count": 24,
      "outputs": [
        {
          "output_type": "execute_result",
          "data": {
            "text/plain": [
              "[<matplotlib.lines.Line2D at 0x7fad46509250>]"
            ]
          },
          "metadata": {},
          "execution_count": 24
        },
        {
          "output_type": "display_data",
          "data": {
            "image/png": "[encoded data removed]",
            "text/plain": [
              "<Figure size 1008x576 with 1 Axes>"
            ]
          },
          "metadata": {
            "needs_background": "light"
          }
        }
      ]
    },
    {
      "cell_type": "markdown",
      "source": [
        "# Splitting the data for training and testing"
      ],
      "metadata": {
        "id": "6hlX8Le7lO3C"
      }
    },
    {
      "cell_type": "code",
      "source": [
        "data_train = pd.DataFrame(df['Close'][0:int(len(df)*0.80)])\n",
        "data_test = pd.DataFrame(df['Close'][int(len(df)*0.80): int(len(df))])\n",
        "print(data_train.shape)\n",
        "print(data_test.shape)"
      ],
      "metadata": {
        "colab": {
          "base_uri": "https://localhost:8080/"
        },
        "id": "_-ek3ft7go2j",
        "outputId": "7b423fa1-e163-41ab-b801-955cb799af76"
      },
      "execution_count": 28,
      "outputs": [
        {
          "output_type": "stream",
          "name": "stdout",
          "text": [
            "(1184, 1)\n",
            "(297, 1)\n"
          ]
        }
      ]
    },
    {
      "cell_type": "code",
      "source": [
        "data_train.head(4)"
      ],
      "metadata": {
        "colab": {
          "base_uri": "https://localhost:8080/",
          "height": 175
        },
        "id": "DnkDfXAjj5H4",
        "outputId": "0eb79cdd-dabd-494f-d691-56cdc0540eb0"
      },
      "execution_count": 29,
      "outputs": [
        {
          "output_type": "execute_result",
          "data": {
            "text/html": [
              "\n",
              "  <div id=\"df-21f0fd51-2de3-4735-8506-7f7a47359cd3\">\n",
              "    <div class=\"colab-df-container\">\n",
              "      <div>\n",
              "<style scoped>\n",
              "    .dataframe tbody tr th:only-of-type {\n",
              "        vertical-align: middle;\n",
              "    }\n",
              "\n",
              "    .dataframe tbody tr th {\n",
              "        vertical-align: top;\n",
              "    }\n",
              "\n",
              "    .dataframe thead th {\n",
              "        text-align: right;\n",
              "    }\n",
              "</style>\n",
              "<table border=\"1\" class=\"dataframe\">\n",
              "  <thead>\n",
              "    <tr style=\"text-align: right;\">\n",
              "      <th></th>\n",
              "      <th>Close</th>\n",
              "    </tr>\n",
              "  </thead>\n",
              "  <tbody>\n",
              "    <tr>\n",
              "      <th>0</th>\n",
              "      <td>7791.299805</td>\n",
              "    </tr>\n",
              "    <tr>\n",
              "      <th>1</th>\n",
              "      <td>7784.649902</td>\n",
              "    </tr>\n",
              "    <tr>\n",
              "      <th>2</th>\n",
              "      <td>7741.000000</td>\n",
              "    </tr>\n",
              "    <tr>\n",
              "      <th>3</th>\n",
              "      <td>7568.299805</td>\n",
              "    </tr>\n",
              "  </tbody>\n",
              "</table>\n",
              "</div>\n",
              "      <button class=\"colab-df-convert\" onclick=\"convertToInteractive('df-21f0fd51-2de3-4735-8506-7f7a47359cd3')\"\n",
              "              title=\"Convert this dataframe to an interactive table.\"\n",
              "              style=\"display:none;\">\n",
              "        \n",
              "  <svg xmlns=\"http://www.w3.org/2000/svg\" height=\"24px\"viewBox=\"0 0 24 24\"\n",
              "       width=\"24px\">\n",
              "    <path d=\"M0 0h24v24H0V0z\" fill=\"none\"/>\n",
              "    <path d=\"M18.56 5.44l.94 2.06.94-2.06 2.06-.94-2.06-.94-.94-2.06-.94 2.06-2.06.94zm-11 1L8.5 8.5l.94-2.06 2.06-.94-2.06-.94L8.5 2.5l-.94 2.06-2.06.94zm10 10l.94 2.06.94-2.06 2.06-.94-2.06-.94-.94-2.06-.94 2.06-2.06.94z\"/><path d=\"M17.41 7.96l-1.37-1.37c-.4-.4-.92-.59-1.43-.59-.52 0-1.04.2-1.43.59L10.3 9.45l-7.72 7.72c-.78.78-.78 2.05 0 2.83L4 21.41c.39.39.9.59 1.41.59.51 0 1.02-.2 1.41-.59l7.78-7.78 2.81-2.81c.8-.78.8-2.07 0-2.86zM5.41 20L4 18.59l7.72-7.72 1.47 1.35L5.41 20z\"/>\n",
              "  </svg>\n",
              "      </button>\n",
              "      \n",
              "  <style>\n",
              "    .colab-df-container {\n",
              "      display:flex;\n",
              "      flex-wrap:wrap;\n",
              "      gap: 12px;\n",
              "    }\n",
              "\n",
              "    .colab-df-convert {\n",
              "      background-color: #E8F0FE;\n",
              "      border: none;\n",
              "      border-radius: 50%;\n",
              "      cursor: pointer;\n",
              "      display: none;\n",
              "      fill: #1967D2;\n",
              "      height: 32px;\n",
              "      padding: 0 0 0 0;\n",
              "      width: 32px;\n",
              "    }\n",
              "\n",
              "    .colab-df-convert:hover {\n",
              "      background-color: #E2EBFA;\n",
              "      box-shadow: 0px 1px 2px rgba(60, 64, 67, 0.3), 0px 1px 3px 1px rgba(60, 64, 67, 0.15);\n",
              "      fill: #174EA6;\n",
              "    }\n",
              "\n",
              "    [theme=dark] .colab-df-convert {\n",
              "      background-color: #3B4455;\n",
              "      fill: #D2E3FC;\n",
              "    }\n",
              "\n",
              "    [theme=dark] .colab-df-convert:hover {\n",
              "      background-color: #434B5C;\n",
              "      box-shadow: 0px 1px 3px 1px rgba(0, 0, 0, 0.15);\n",
              "      filter: drop-shadow(0px 1px 2px rgba(0, 0, 0, 0.3));\n",
              "      fill: #FFFFFF;\n",
              "    }\n",
              "  </style>\n",
              "\n",
              "      <script>\n",
              "        const buttonEl =\n",
              "          document.querySelector('#df-21f0fd51-2de3-4735-8506-7f7a47359cd3 button.colab-df-convert');\n",
              "        buttonEl.style.display =\n",
              "          google.colab.kernel.accessAllowed ? 'block' : 'none';\n",
              "\n",
              "        async function convertToInteractive(key) {\n",
              "          const element = document.querySelector('#df-21f0fd51-2de3-4735-8506-7f7a47359cd3');\n",
              "          const dataTable =\n",
              "            await google.colab.kernel.invokeFunction('convertToInteractive',\n",
              "                                                     [key], {});\n",
              "          if (!dataTable) return;\n",
              "\n",
              "          const docLinkHtml = 'Like what you see? Visit the ' +\n",
              "            '<a target=\"_blank\" href=https://colab.research.google.com/notebooks/data_table.ipynb>data table notebook</a>'\n",
              "            + ' to learn more about interactive tables.';\n",
              "          element.innerHTML = '';\n",
              "          dataTable['output_type'] = 'display_data';\n",
              "          await google.colab.output.renderOutput(dataTable, element);\n",
              "          const docLink = document.createElement('div');\n",
              "          docLink.innerHTML = docLinkHtml;\n",
              "          element.appendChild(docLink);\n",
              "        }\n",
              "      </script>\n",
              "    </div>\n",
              "  </div>\n",
              "  "
            ],
            "text/plain": [
              "         Close\n",
              "0  7791.299805\n",
              "1  7784.649902\n",
              "2  7741.000000\n",
              "3  7568.299805"
            ]
          },
          "metadata": {},
          "execution_count": 29
        }
      ]
    },
    {
      "cell_type": "code",
      "source": [
        "data_test.head(4)"
      ],
      "metadata": {
        "colab": {
          "base_uri": "https://localhost:8080/",
          "height": 175
        },
        "id": "60OuvHJikEdF",
        "outputId": "feb53135-413e-4c87-9eb4-8b8735905713"
      },
      "execution_count": 30,
      "outputs": [
        {
          "output_type": "execute_result",
          "data": {
            "text/html": [
              "\n",
              "  <div id=\"df-909f2589-1d9a-4af2-b55a-6209ee085a5b\">\n",
              "    <div class=\"colab-df-container\">\n",
              "      <div>\n",
              "<style scoped>\n",
              "    .dataframe tbody tr th:only-of-type {\n",
              "        vertical-align: middle;\n",
              "    }\n",
              "\n",
              "    .dataframe tbody tr th {\n",
              "        vertical-align: top;\n",
              "    }\n",
              "\n",
              "    .dataframe thead th {\n",
              "        text-align: right;\n",
              "    }\n",
              "</style>\n",
              "<table border=\"1\" class=\"dataframe\">\n",
              "  <thead>\n",
              "    <tr style=\"text-align: right;\">\n",
              "      <th></th>\n",
              "      <th>Close</th>\n",
              "    </tr>\n",
              "  </thead>\n",
              "  <tbody>\n",
              "    <tr>\n",
              "      <th>1184</th>\n",
              "      <td>11896.450195</td>\n",
              "    </tr>\n",
              "    <tr>\n",
              "      <th>1185</th>\n",
              "      <td>11930.349609</td>\n",
              "    </tr>\n",
              "    <tr>\n",
              "      <th>1186</th>\n",
              "      <td>11767.750000</td>\n",
              "    </tr>\n",
              "    <tr>\n",
              "      <th>1187</th>\n",
              "      <td>11889.400391</td>\n",
              "    </tr>\n",
              "  </tbody>\n",
              "</table>\n",
              "</div>\n",
              "      <button class=\"colab-df-convert\" onclick=\"convertToInteractive('df-909f2589-1d9a-4af2-b55a-6209ee085a5b')\"\n",
              "              title=\"Convert this dataframe to an interactive table.\"\n",
              "              style=\"display:none;\">\n",
              "        \n",
              "  <svg xmlns=\"http://www.w3.org/2000/svg\" height=\"24px\"viewBox=\"0 0 24 24\"\n",
              "       width=\"24px\">\n",
              "    <path d=\"M0 0h24v24H0V0z\" fill=\"none\"/>\n",
              "    <path d=\"M18.56 5.44l.94 2.06.94-2.06 2.06-.94-2.06-.94-.94-2.06-.94 2.06-2.06.94zm-11 1L8.5 8.5l.94-2.06 2.06-.94-2.06-.94L8.5 2.5l-.94 2.06-2.06.94zm10 10l.94 2.06.94-2.06 2.06-.94-2.06-.94-.94-2.06-.94 2.06-2.06.94z\"/><path d=\"M17.41 7.96l-1.37-1.37c-.4-.4-.92-.59-1.43-.59-.52 0-1.04.2-1.43.59L10.3 9.45l-7.72 7.72c-.78.78-.78 2.05 0 2.83L4 21.41c.39.39.9.59 1.41.59.51 0 1.02-.2 1.41-.59l7.78-7.78 2.81-2.81c.8-.78.8-2.07 0-2.86zM5.41 20L4 18.59l7.72-7.72 1.47 1.35L5.41 20z\"/>\n",
              "  </svg>\n",
              "      </button>\n",
              "      \n",
              "  <style>\n",
              "    .colab-df-container {\n",
              "      display:flex;\n",
              "      flex-wrap:wrap;\n",
              "      gap: 12px;\n",
              "    }\n",
              "\n",
              "    .colab-df-convert {\n",
              "      background-color: #E8F0FE;\n",
              "      border: none;\n",
              "      border-radius: 50%;\n",
              "      cursor: pointer;\n",
              "      display: none;\n",
              "      fill: #1967D2;\n",
              "      height: 32px;\n",
              "      padding: 0 0 0 0;\n",
              "      width: 32px;\n",
              "    }\n",
              "\n",
              "    .colab-df-convert:hover {\n",
              "      background-color: #E2EBFA;\n",
              "      box-shadow: 0px 1px 2px rgba(60, 64, 67, 0.3), 0px 1px 3px 1px rgba(60, 64, 67, 0.15);\n",
              "      fill: #174EA6;\n",
              "    }\n",
              "\n",
              "    [theme=dark] .colab-df-convert {\n",
              "      background-color: #3B4455;\n",
              "      fill: #D2E3FC;\n",
              "    }\n",
              "\n",
              "    [theme=dark] .colab-df-convert:hover {\n",
              "      background-color: #434B5C;\n",
              "      box-shadow: 0px 1px 3px 1px rgba(0, 0, 0, 0.15);\n",
              "      filter: drop-shadow(0px 1px 2px rgba(0, 0, 0, 0.3));\n",
              "      fill: #FFFFFF;\n",
              "    }\n",
              "  </style>\n",
              "\n",
              "      <script>\n",
              "        const buttonEl =\n",
              "          document.querySelector('#df-909f2589-1d9a-4af2-b55a-6209ee085a5b button.colab-df-convert');\n",
              "        buttonEl.style.display =\n",
              "          google.colab.kernel.accessAllowed ? 'block' : 'none';\n",
              "\n",
              "        async function convertToInteractive(key) {\n",
              "          const element = document.querySelector('#df-909f2589-1d9a-4af2-b55a-6209ee085a5b');\n",
              "          const dataTable =\n",
              "            await google.colab.kernel.invokeFunction('convertToInteractive',\n",
              "                                                     [key], {});\n",
              "          if (!dataTable) return;\n",
              "\n",
              "          const docLinkHtml = 'Like what you see? Visit the ' +\n",
              "            '<a target=\"_blank\" href=https://colab.research.google.com/notebooks/data_table.ipynb>data table notebook</a>'\n",
              "            + ' to learn more about interactive tables.';\n",
              "          element.innerHTML = '';\n",
              "          dataTable['output_type'] = 'display_data';\n",
              "          await google.colab.output.renderOutput(dataTable, element);\n",
              "          const docLink = document.createElement('div');\n",
              "          docLink.innerHTML = docLinkHtml;\n",
              "          element.appendChild(docLink);\n",
              "        }\n",
              "      </script>\n",
              "    </div>\n",
              "  </div>\n",
              "  "
            ],
            "text/plain": [
              "             Close\n",
              "1184  11896.450195\n",
              "1185  11930.349609\n",
              "1186  11767.750000\n",
              "1187  11889.400391"
            ]
          },
          "metadata": {},
          "execution_count": 30
        }
      ]
    },
    {
      "cell_type": "markdown",
      "source": [
        "# Scaling the data between 0 to 1"
      ],
      "metadata": {
        "id": "1yZsndIrBMSO"
      }
    },
    {
      "cell_type": "code",
      "source": [
        "from sklearn.preprocessing import MinMaxScaler\n",
        "scalar = MinMaxScaler()"
      ],
      "metadata": {
        "id": "PE_uXVftkH2a"
      },
      "execution_count": 31,
      "outputs": []
    },
    {
      "cell_type": "code",
      "source": [
        "data_train_sc = scalar.fit_transform(data_train)\n",
        "data_train_sc"
      ],
      "metadata": {
        "colab": {
          "base_uri": "https://localhost:8080/"
        },
        "id": "ki-crqtuoLfn",
        "outputId": "f6d5a1c0-7ed8-42f4-96ad-294a393c43ab"
      },
      "execution_count": 32,
      "outputs": [
        {
          "output_type": "execute_result",
          "data": {
            "text/plain": [
              "array([[0.1522154 ],\n",
              "       [0.15098204],\n",
              "       [0.14288628],\n",
              "       ...,\n",
              "       [0.90925867],\n",
              "       [0.91366359],\n",
              "       [0.92124016]])"
            ]
          },
          "metadata": {},
          "execution_count": 32
        }
      ]
    },
    {
      "cell_type": "markdown",
      "source": [
        "# Taking at a time 70 data elements as a 1 step to predict the future price based on the previous step"
      ],
      "metadata": {
        "id": "-LTsvCxYBaaB"
      }
    },
    {
      "cell_type": "code",
      "source": [
        "x_train = []\n",
        "y_train = []\n",
        "\n",
        "for i in range(70,data_train_sc.shape[0]):\n",
        "  x_train.append(data_train_sc[i-70: i])\n",
        "  y_train.append(data_train_sc[i,0])\n",
        "\n",
        "x_train, y_train = np.array(x_train), np.array(y_train)\n",
        "print(x_train.shape)\n",
        "print(y_train.shape)"
      ],
      "metadata": {
        "colab": {
          "base_uri": "https://localhost:8080/"
        },
        "id": "4KiB8zpzoe5h",
        "outputId": "4fbf6b4e-513a-455a-909d-33a75d3ec3f4"
      },
      "execution_count": 34,
      "outputs": [
        {
          "output_type": "stream",
          "name": "stdout",
          "text": [
            "(1114, 70, 1)\n",
            "(1114,)\n"
          ]
        }
      ]
    },
    {
      "cell_type": "markdown",
      "source": [
        "# Building the recurrent neural network model"
      ],
      "metadata": {
        "id": "Yagjk20lB6gz"
      }
    },
    {
      "cell_type": "code",
      "source": [
        "from keras.backend import dropout\n",
        "from keras.layers.recurrent_v2 import LSTM\n",
        "model = Sequential()\n",
        "model.add(LSTM(units=40, activation='relu', return_sequences=True, input_shape=(x_train.shape[1],1)))\n",
        "model.add(LSTM(units=50, activation='relu', return_sequences=True, input_shape=(x_train.shape[1],1)))\n",
        "model.add(LSTM(units=60, activation='relu', return_sequences=True, input_shape=(x_train.shape[1],1)))\n",
        "model.add(LSTM(units=70, activation='relu', return_sequences=True, input_shape=(x_train.shape[1],1)))\n",
        "model.add(LSTM(units=80, activation='relu', return_sequences=True, input_shape=(x_train.shape[1],1)))\n",
        "model.add(LSTM(units=100, activation='relu'))\n",
        "model.add(Dense(units=1))"
      ],
      "metadata": {
        "id": "3TGQYs7tpT2T"
      },
      "execution_count": 39,
      "outputs": []
    },
    {
      "cell_type": "code",
      "source": [
        "model.summary()"
      ],
      "metadata": {
        "colab": {
          "base_uri": "https://localhost:8080/"
        },
        "id": "VnyHmw_ssjc8",
        "outputId": "4e73cbf9-11ea-4ee3-80e8-75291946702a"
      },
      "execution_count": 40,
      "outputs": [
        {
          "output_type": "stream",
          "name": "stdout",
          "text": [
            "Model: \"sequential_4\"\n",
            "_________________________________________________________________\n",
            " Layer (type)                Output Shape              Param #   \n",
            "=================================================================\n",
            " lstm_6 (LSTM)               (None, 70, 40)            6720      \n",
            "                                                                 \n",
            " lstm_7 (LSTM)               (None, 70, 50)            18200     \n",
            "                                                                 \n",
            " lstm_8 (LSTM)               (None, 70, 60)            26640     \n",
            "                                                                 \n",
            " lstm_9 (LSTM)               (None, 70, 70)            36680     \n",
            "                                                                 \n",
            " lstm_10 (LSTM)              (None, 70, 80)            48320     \n",
            "                                                                 \n",
            " lstm_11 (LSTM)              (None, 100)               72400     \n",
            "                                                                 \n",
            " dense (Dense)               (None, 1)                 101       \n",
            "                                                                 \n",
            "=================================================================\n",
            "Total params: 209,061\n",
            "Trainable params: 209,061\n",
            "Non-trainable params: 0\n",
            "_________________________________________________________________\n"
          ]
        }
      ]
    },
    {
      "cell_type": "code",
      "source": [
        "model.compile(optimizer='adam', loss='mean_squared_error')\n",
        "result = model.fit(x_train, y_train, epochs=15)"
      ],
      "metadata": {
        "colab": {
          "base_uri": "https://localhost:8080/"
        },
        "id": "zLFTtKhGuOH6",
        "outputId": "e0079c3e-fe25-44f3-ffce-26597b5fc0ea"
      },
      "execution_count": 62,
      "outputs": [
        {
          "output_type": "stream",
          "name": "stdout",
          "text": [
            "Epoch 1/15\n",
            "35/35 [==============================] - 16s 257ms/step - loss: 0.0106\n",
            "Epoch 2/15\n",
            "35/35 [==============================] - 9s 253ms/step - loss: 0.0036\n",
            "Epoch 3/15\n",
            "35/35 [==============================] - 9s 253ms/step - loss: 0.0027\n",
            "Epoch 4/15\n",
            "35/35 [==============================] - 9s 254ms/step - loss: 0.0026\n",
            "Epoch 5/15\n",
            "35/35 [==============================] - 9s 256ms/step - loss: 0.0024\n",
            "Epoch 6/15\n",
            "35/35 [==============================] - 9s 255ms/step - loss: 0.0023\n",
            "Epoch 7/15\n",
            "35/35 [==============================] - 9s 254ms/step - loss: 0.0029\n",
            "Epoch 8/15\n",
            "35/35 [==============================] - 9s 255ms/step - loss: 0.0024\n",
            "Epoch 9/15\n",
            "35/35 [==============================] - 9s 253ms/step - loss: 0.0021\n",
            "Epoch 10/15\n",
            "35/35 [==============================] - 9s 255ms/step - loss: 0.0023\n",
            "Epoch 11/15\n",
            "35/35 [==============================] - 9s 254ms/step - loss: 0.0023\n",
            "Epoch 12/15\n",
            "35/35 [==============================] - 9s 255ms/step - loss: 0.0022\n",
            "Epoch 13/15\n",
            "35/35 [==============================] - 9s 254ms/step - loss: 0.0020\n",
            "Epoch 14/15\n",
            "35/35 [==============================] - 9s 254ms/step - loss: 0.0021\n",
            "Epoch 15/15\n",
            "35/35 [==============================] - 9s 255ms/step - loss: 0.0019\n"
          ]
        }
      ]
    },
    {
      "cell_type": "code",
      "source": [
        "tail_70_records = data_train.tail(70)"
      ],
      "metadata": {
        "id": "j_0HVnnYuoha"
      },
      "execution_count": 43,
      "outputs": []
    },
    {
      "cell_type": "code",
      "source": [
        "final_test_data = tail_70_records.append(data_test, ignore_index = True)"
      ],
      "metadata": {
        "id": "Qz6qbOOexR3W"
      },
      "execution_count": 44,
      "outputs": []
    },
    {
      "cell_type": "code",
      "source": [
        "\n",
        "input_test_data = scalar.fit_transform(final_test_data)\n"
      ],
      "metadata": {
        "colab": {
          "base_uri": "https://localhost:8080/"
        },
        "id": "AfyhuBx3xsq0",
        "outputId": "ef70dafd-86a9-4776-a1f3-752ffffc7301"
      },
      "execution_count": 45,
      "outputs": [
        {
          "output_type": "execute_result",
          "data": {
            "text/plain": [
              "array([[0.        ],\n",
              "       [0.01549209],\n",
              "       [0.03607398],\n",
              "       [0.05140701],\n",
              "       [0.06922766],\n",
              "       [0.06545479],\n",
              "       [0.07599712],\n",
              "       [0.07328682],\n",
              "       [0.06535302],\n",
              "       [0.08682562],\n",
              "       [0.07439376],\n",
              "       [0.06158028],\n",
              "       [0.05792832],\n",
              "       [0.03478873],\n",
              "       [0.06070224],\n",
              "       [0.06151665],\n",
              "       [0.07405029],\n",
              "       [0.07581893],\n",
              "       [0.08295745],\n",
              "       [0.08961868],\n",
              "       [0.08782457],\n",
              "       [0.08681295],\n",
              "       [0.07128271],\n",
              "       [0.08002435],\n",
              "       [0.09761598],\n",
              "       [0.10054908],\n",
              "       [0.08830808],\n",
              "       [0.09586636],\n",
              "       [0.10793563],\n",
              "       [0.10867363],\n",
              "       [0.11851598],\n",
              "       [0.11974395],\n",
              "       [0.130986  ],\n",
              "       [0.09788961],\n",
              "       [0.10841914],\n",
              "       [0.11665826],\n",
              "       [0.11569758],\n",
              "       [0.09106286],\n",
              "       [0.09376048],\n",
              "       [0.08896332],\n",
              "       [0.08395627],\n",
              "       [0.10574699],\n",
              "       [0.10768114],\n",
              "       [0.10457631],\n",
              "       [0.1149786 ],\n",
              "       [0.12550813],\n",
              "       [0.11425327],\n",
              "       [0.11283457],\n",
              "       [0.08046337],\n",
              "       [0.0681334 ],\n",
              "       [0.06535936],\n",
              "       [0.02383931],\n",
              "       [0.05497621],\n",
              "       [0.07753673],\n",
              "       [0.0768815 ],\n",
              "       [0.08008164],\n",
              "       [0.101637  ],\n",
              "       [0.1126309 ],\n",
              "       [0.13286933],\n",
              "       [0.14259711],\n",
              "       [0.15478083],\n",
              "       [0.16490961],\n",
              "       [0.16704097],\n",
              "       [0.16749266],\n",
              "       [0.17214344],\n",
              "       [0.13515328],\n",
              "       [0.14560017],\n",
              "       [0.15967343],\n",
              "       [0.1626955 ],\n",
              "       [0.16789353],\n",
              "       [0.16265101],\n",
              "       [0.16696455],\n",
              "       [0.14627455],\n",
              "       [0.16175396],\n",
              "       [0.1414201 ],\n",
              "       [0.13393811],\n",
              "       [0.13032443],\n",
              "       [0.13372823],\n",
              "       [0.15209601],\n",
              "       [0.16418429],\n",
              "       [0.19113477],\n",
              "       [0.20936263],\n",
              "       [0.23449353],\n",
              "       [0.25613153],\n",
              "       [0.27115291],\n",
              "       [0.26372808],\n",
              "       [0.26743733],\n",
              "       [0.07151487],\n",
              "       [0.28706488],\n",
              "       [0.2952149 ],\n",
              "       [0.27402226],\n",
              "       [0.28513707],\n",
              "       [0.29371343],\n",
              "       [0.3100899 ],\n",
              "       [0.28505443],\n",
              "       [0.3014181 ],\n",
              "       [0.29912135],\n",
              "       [0.31694834],\n",
              "       [0.31754641],\n",
              "       [0.32011045],\n",
              "       [0.33597147],\n",
              "       [0.34833972],\n",
              "       [0.35307326],\n",
              "       [0.3703976 ],\n",
              "       [0.36393358],\n",
              "       [0.36845711],\n",
              "       [0.37409417],\n",
              "       [0.37532835],\n",
              "       [0.38994252],\n",
              "       [0.39732273],\n",
              "       [0.3998485 ],\n",
              "       [0.34485962],\n",
              "       [0.36240664],\n",
              "       [0.37955925],\n",
              "       [0.39841065],\n",
              "       [0.41418271],\n",
              "       [0.42174099],\n",
              "       [0.42802061],\n",
              "       [0.42799513],\n",
              "       [0.07151487],\n",
              "       [0.44722828],\n",
              "       [0.45570275],\n",
              "       [0.44892695],\n",
              "       [0.44779442],\n",
              "       [0.47450321],\n",
              "       [0.4919994 ],\n",
              "       [0.50201362],\n",
              "       [0.50219168],\n",
              "       [0.50610447],\n",
              "       [0.48550357],\n",
              "       [0.46611137],\n",
              "       [0.49663117],\n",
              "       [0.51235228],\n",
              "       [0.50543643],\n",
              "       [0.47763985],\n",
              "       [0.46071625],\n",
              "       [0.42618189],\n",
              "       [0.40710147],\n",
              "       [0.38382196],\n",
              "       [0.46609869],\n",
              "       [0.51275303],\n",
              "       [0.53083462],\n",
              "       [0.54428445],\n",
              "       [0.54792361],\n",
              "       [0.57229738],\n",
              "       [0.57147029],\n",
              "       [0.57111403],\n",
              "       [0.57961397],\n",
              "       [0.57834152],\n",
              "       [0.59760648],\n",
              "       [0.59744742],\n",
              "       [0.58414397],\n",
              "       [0.57269825],\n",
              "       [0.5552402 ],\n",
              "       [0.51629688],\n",
              "       [0.52038139],\n",
              "       [0.55527202],\n",
              "       [0.56994968],\n",
              "       [0.49764913],\n",
              "       [0.52722081],\n",
              "       [0.54726825],\n",
              "       [0.58881377],\n",
              "       [0.56783747],\n",
              "       [0.54968591],\n",
              "       [0.55198912],\n",
              "       [0.57008339],\n",
              "       [0.57980484],\n",
              "       [0.56150069],\n",
              "       [0.54859165],\n",
              "       [0.54616766],\n",
              "       [0.5220992 ],\n",
              "       [0.50130097],\n",
              "       [0.52498769],\n",
              "       [0.52402068],\n",
              "       [0.53399028],\n",
              "       [0.50022585],\n",
              "       [0.47165933],\n",
              "       [0.49486876],\n",
              "       [0.53785212],\n",
              "       [0.51820555],\n",
              "       [0.54068332],\n",
              "       [0.51147424],\n",
              "       [0.51728936],\n",
              "       [0.53453741],\n",
              "       [0.54150407],\n",
              "       [0.53654785],\n",
              "       [0.4698651 ],\n",
              "       [0.49455064],\n",
              "       [0.50430403],\n",
              "       [0.50893567],\n",
              "       [0.47605562],\n",
              "       [0.46803284],\n",
              "       [0.48199799],\n",
              "       [0.47375241],\n",
              "       [0.49203122],\n",
              "       [0.51341472],\n",
              "       [0.54032706],\n",
              "       [0.54418902],\n",
              "       [0.51062167],\n",
              "       [0.51100987],\n",
              "       [0.49349453],\n",
              "       [0.50893567],\n",
              "       [0.52254456],\n",
              "       [0.53505919],\n",
              "       [0.5502267 ],\n",
              "       [0.5385711 ],\n",
              "       [0.51894355],\n",
              "       [0.51656404],\n",
              "       [0.54778369],\n",
              "       [0.57131757],\n",
              "       [0.56139892],\n",
              "       [0.54560773],\n",
              "       [0.57986846],\n",
              "       [0.5827188 ],\n",
              "       [0.58408669],\n",
              "       [0.59592048],\n",
              "       [0.60055212],\n",
              "       [0.61299679],\n",
              "       [0.63172083],\n",
              "       [0.63070921],\n",
              "       [0.63088106],\n",
              "       [0.64540601],\n",
              "       [0.64284844],\n",
              "       [0.65320623],\n",
              "       [0.65173645],\n",
              "       [0.63840753],\n",
              "       [0.65143748],\n",
              "       [0.65927572],\n",
              "       [0.66086629],\n",
              "       [0.6681702 ],\n",
              "       [0.65522936],\n",
              "       [0.64553972],\n",
              "       [0.6445153 ],\n",
              "       [0.65255087],\n",
              "       [0.65589106],\n",
              "       [0.64497345],\n",
              "       [0.65814332],\n",
              "       [0.66703767],\n",
              "       [0.66122901],\n",
              "       [0.65279902],\n",
              "       [0.64936975],\n",
              "       [0.64408908],\n",
              "       [0.64945884],\n",
              "       [0.6637293 ],\n",
              "       [0.66168071],\n",
              "       [0.6694936 ],\n",
              "       [0.65018416],\n",
              "       [0.64533605],\n",
              "       [0.64569231],\n",
              "       [0.66092991],\n",
              "       [0.66622338],\n",
              "       [0.67516235],\n",
              "       [0.67506058],\n",
              "       [0.65330167],\n",
              "       [0.63799399],\n",
              "       [0.6624187 ],\n",
              "       [0.66649054],\n",
              "       [0.66246965],\n",
              "       [0.65254453],\n",
              "       [0.64783013],\n",
              "       [0.65661638],\n",
              "       [0.65465675],\n",
              "       [0.67019345],\n",
              "       [0.70144479],\n",
              "       [0.7177385 ],\n",
              "       [0.72229385],\n",
              "       [0.7151173 ],\n",
              "       [0.71766854],\n",
              "       [0.72044879],\n",
              "       [0.72072242],\n",
              "       [0.73117565],\n",
              "       [0.75213282],\n",
              "       [0.75645293],\n",
              "       [0.76301227],\n",
              "       [0.75719081],\n",
              "       [0.7421314 ],\n",
              "       [0.74797821],\n",
              "       [0.76428472],\n",
              "       [0.76556363],\n",
              "       [0.76584993],\n",
              "       [0.77454062],\n",
              "       [0.80327912],\n",
              "       [0.82887427],\n",
              "       [0.82175501],\n",
              "       [0.84184705],\n",
              "       [0.85322902],\n",
              "       [0.86012586],\n",
              "       [0.85812796],\n",
              "       [0.8570337 ],\n",
              "       [0.85903781],\n",
              "       [0.85726284],\n",
              "       [0.8604057 ],\n",
              "       [0.87814992],\n",
              "       [0.89215334],\n",
              "       [0.88651007],\n",
              "       [0.86255619],\n",
              "       [0.8835643 ],\n",
              "       [0.88161114],\n",
              "       [0.9167688 ],\n",
              "       [0.92061796],\n",
              "       [0.92085978],\n",
              "       [0.90730818],\n",
              "       [0.90256209],\n",
              "       [0.89070916],\n",
              "       [0.87975341],\n",
              "       [0.90001072],\n",
              "       [0.91668629],\n",
              "       [0.89425288],\n",
              "       [0.91262066],\n",
              "       [0.92596226],\n",
              "       [0.93241994],\n",
              "       [0.93827322],\n",
              "       [0.95987953],\n",
              "       [0.98237656],\n",
              "       [1.        ],\n",
              "       [0.99258151],\n",
              "       [0.97322113],\n",
              "       [0.96195994],\n",
              "       [0.95391815],\n",
              "       [0.95525422],\n",
              "       [0.97345027],\n",
              "       [0.96613989],\n",
              "       [0.92113341],\n",
              "       [0.89751677],\n",
              "       [0.930346  ],\n",
              "       [0.92516698],\n",
              "       [0.91756408],\n",
              "       [0.92871095],\n",
              "       [0.94802039],\n",
              "       [0.94492823],\n",
              "       [0.94148616],\n",
              "       [0.92321381],\n",
              "       [0.95237207],\n",
              "       [0.95322451],\n",
              "       [0.93919574],\n",
              "       [0.9264014 ],\n",
              "       [0.9093697 ],\n",
              "       [0.8650566 ],\n",
              "       [0.87610133],\n",
              "       [0.86486573],\n",
              "       [0.88028774],\n",
              "       [0.8154181 ],\n",
              "       [0.81891734],\n",
              "       [0.80991475],\n",
              "       [0.83328982],\n",
              "       [0.8631606 ],\n",
              "       [0.83708157],\n",
              "       [0.80088681],\n",
              "       [0.83453667],\n",
              "       [0.87182594],\n",
              "       [0.87781913],\n",
              "       [0.87711307],\n",
              "       [0.85891057],\n",
              "       [0.85339454],\n",
              "       [0.84022468],\n",
              "       [0.84366029],\n",
              "       [0.81016924],\n",
              "       [0.76296132],\n",
              "       [0.78289431],\n",
              "       [0.8063837 ],\n",
              "       [0.82129051],\n",
              "       [0.81252974],\n",
              "       [0.82302746],\n",
              "       [0.84173248],\n",
              "       [0.83923207],\n",
              "       [0.8380041 ],\n",
              "       [0.85710379]])"
            ]
          },
          "metadata": {},
          "execution_count": 45
        }
      ]
    },
    {
      "cell_type": "code",
      "source": [
        "input_test_data.shape"
      ],
      "metadata": {
        "colab": {
          "base_uri": "https://localhost:8080/"
        },
        "id": "EYskO_54yISl",
        "outputId": "c7d8b0e7-99a2-4e0e-8131-41e4e9b2a0fe"
      },
      "execution_count": 46,
      "outputs": [
        {
          "output_type": "execute_result",
          "data": {
            "text/plain": [
              "(367, 1)"
            ]
          },
          "metadata": {},
          "execution_count": 46
        }
      ]
    },
    {
      "cell_type": "markdown",
      "source": [
        "# Taking at a time 70 data elements as a 1 step to predict the future price based on the previous step for test data"
      ],
      "metadata": {
        "id": "_aFygFg4Cda5"
      }
    },
    {
      "cell_type": "code",
      "source": [
        "x_test = []\n",
        "y_test = []\n",
        "\n",
        "for i in range(70,input_test_data.shape[0]):\n",
        "  x_test.append(input_test_data[i-70: i])\n",
        "  y_test.append(input_test_data[i, 0])\n",
        "\n",
        "x_test, y_test = np.array(x_test), np.array(y_test)\n",
        "print(x_test.shape)\n",
        "print(y_test.shape)"
      ],
      "metadata": {
        "colab": {
          "base_uri": "https://localhost:8080/"
        },
        "id": "RNle5DO4yN-g",
        "outputId": "aebc00da-29c0-444b-83c3-d3d1a257765d"
      },
      "execution_count": 47,
      "outputs": [
        {
          "output_type": "stream",
          "name": "stdout",
          "text": [
            "(297, 70, 1)\n",
            "(297,)\n"
          ]
        }
      ]
    },
    {
      "cell_type": "code",
      "source": [
        "y_pred = model.predict(x_test)"
      ],
      "metadata": {
        "id": "AFOWJew2zWUZ"
      },
      "execution_count": 48,
      "outputs": []
    },
    {
      "cell_type": "code",
      "source": [
        "y_pred.shape"
      ],
      "metadata": {
        "colab": {
          "base_uri": "https://localhost:8080/"
        },
        "id": "xIboWNaZzj3g",
        "outputId": "96f7141b-bdef-4a60-d7bd-8ce13d791f33"
      },
      "execution_count": 49,
      "outputs": [
        {
          "output_type": "execute_result",
          "data": {
            "text/plain": [
              "(297, 1)"
            ]
          },
          "metadata": {},
          "execution_count": 49
        }
      ]
    },
    {
      "cell_type": "code",
      "source": [
        "scalar.scale_"
      ],
      "metadata": {
        "colab": {
          "base_uri": "https://localhost:8080/"
        },
        "id": "ZAoAjm4PzpQU",
        "outputId": "471ba90c-d568-4609-9005-18fa35c8224c"
      },
      "execution_count": 50,
      "outputs": [
        {
          "output_type": "execute_result",
          "data": {
            "text/plain": [
              "array([0.00012725])"
            ]
          },
          "metadata": {},
          "execution_count": 50
        }
      ]
    },
    {
      "cell_type": "markdown",
      "source": [
        "# Reverse scalling and visualize the original prize and predicted prize"
      ],
      "metadata": {
        "id": "YbAq0ht0Ddie"
      }
    },
    {
      "cell_type": "code",
      "source": [
        "sc_factor = 1/0.00012725\n",
        "y_pred = y_pred * sc_factor\n",
        "y_test = y_test * sc_factor"
      ],
      "metadata": {
        "id": "5cuYu3GMz6hZ"
      },
      "execution_count": 51,
      "outputs": []
    },
    {
      "cell_type": "code",
      "source": [
        "plt.figure(figsize=(14,8))\n",
        "plt.plot(y_test,'b', label='Original price')\n",
        "plt.plot(y_pred,'g', label='Predicted price')\n",
        "plt.xlabel('Time')\n",
        "plt.ylabel('Price')\n",
        "plt.legend()\n",
        "plt.show()"
      ],
      "metadata": {
        "colab": {
          "base_uri": "https://localhost:8080/",
          "height": 497
        },
        "id": "t9pxo0Cl0mxl",
        "outputId": "5299dd75-c9cc-45db-9872-8527a75539e2"
      },
      "execution_count": 52,
      "outputs": [
        {
          "output_type": "display_data",
          "data": {
            "image/png": "[encoded data removed]",
            "text/plain": [
              "<Figure size 1008x576 with 1 Axes>"
            ]
          },
          "metadata": {
            "needs_background": "light"
          }
        }
      ]
    },
    {
      "cell_type": "markdown",
      "source": [
        "# End of an assignment"
      ],
      "metadata": {
        "id": "y-gPmbzSD06c"
      }
    }
  ]
}