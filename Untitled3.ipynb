{
  "nbformat": 4,
  "nbformat_minor": 0,
  "metadata": {
    "colab": {
      "name": "Untitled3.ipynb",
      "provenance": [],
      "include_colab_link": true
    },
    "kernelspec": {
      "name": "python3",
      "display_name": "Python 3"
    },
    "language_info": {
      "name": "python"
    }
  },
  "cells": [
    {
      "cell_type": "markdown",
      "metadata": {
        "id": "view-in-github",
        "colab_type": "text"
      },
      "source": [
        "<a href=\"https://colab.research.google.com/github/VishnuVijayan173/marketprophecy/blob/main/Untitled3.ipynb\" target=\"_parent\"><img src=\"https://colab.research.google.com/assets/colab-badge.svg\" alt=\"Open In Colab\"/></a>"
      ]
    },
    {
      "cell_type": "code",
      "execution_count": null,
      "metadata": {
        "id": "_7X81cqwyYI3"
      },
      "outputs": [],
      "source": [
        "#dependencies\n",
        "import quandl\n",
        "import numpy as np\n",
        "import pandas as pd\n",
        "from sklearn.linear_model import LinearRegression\n",
        "from sklearn.svm import SVR\n",
        "from sklearn.model_selection import train_test_split\n"
      ]
    },
    {
      "cell_type": "code",
      "source": [
        "#data\n",
        "url='https://raw.githubusercontent.com/Fluid-AI/marketprophecy/main/BTC%20USD/BTC-USD%20Out%20of%20Time%20Testing%201st%20Jan%202022%20to%204th%20Feb%202022.csv'\n",
        "df = pd.read_csv(url, index_col=\"Date\", parse_dates=True)\n",
        "print(df.head())"
      ],
      "metadata": {
        "id": "nDKexlYw2NFR"
      },
      "execution_count": null,
      "outputs": []
    },
    {
      "cell_type": "code",
      "source": [
        "#get Adj close price\n",
        "df = df[['Adj Close']]\n",
        "print(df.head())"
      ],
      "metadata": {
        "id": "iCtPbGfD3Xt3"
      },
      "execution_count": null,
      "outputs": []
    },
    {
      "cell_type": "code",
      "source": [
        "#variable for predicting n days\n",
        "forecast_out = 30\n",
        "df['Prediction'] = df[['Adj Close']].shift(-forecast_out)\n",
        "print(df.tail())\n"
      ],
      "metadata": {
        "id": "Ma3Td9Q7AtJj"
      },
      "execution_count": null,
      "outputs": []
    },
    {
      "cell_type": "code",
      "source": [
        "#independant dataset\n",
        "x = np.array(df.drop(['Prediction'],1))\n",
        "x = x[:-forecast_out]\n",
        "print(x)"
      ],
      "metadata": {
        "id": "sqV5Fl4cDD3L"
      },
      "execution_count": null,
      "outputs": []
    },
    {
      "cell_type": "code",
      "source": [
        "#dependant dataset\n",
        "y = np.array(df['Prediction'])\n",
        "y = y[:-forecast_out]\n",
        "print(y)"
      ],
      "metadata": {
        "id": "NjvP0wiQDvm-"
      },
      "execution_count": null,
      "outputs": []
    },
    {
      "cell_type": "code",
      "source": [
        "#split 80:20\n",
        "x_train, x_test, y_train, y_test = train_test_split(x, y, test_size=0.2)"
      ],
      "metadata": {
        "id": "5h13S_cfEjqh"
      },
      "execution_count": null,
      "outputs": []
    },
    {
      "cell_type": "code",
      "source": [
        "#svm\n",
        "svr_rbf = SVR(kernel='rbf', C=1e3, gamma=0.1)\n",
        "svr_rbf.fit(x_train, y_train)"
      ],
      "metadata": {
        "id": "oS8hPF2cFKOp"
      },
      "execution_count": null,
      "outputs": []
    },
    {
      "cell_type": "code",
      "source": [
        "#testing\n",
        "svm_confidence = svr_rbf.score(x_test, y_test)\n",
        "print(\"svm confidence: \", svm_confidence)\n"
      ],
      "metadata": {
        "id": "97GCFel-GW6R"
      },
      "execution_count": null,
      "outputs": []
    },
    {
      "cell_type": "code",
      "source": [
        "#linear reg model\n",
        "lr = LinearRegression()\n",
        "lr.fit(x_train, y_train)"
      ],
      "metadata": {
        "id": "tWDyfda8OLE5"
      },
      "execution_count": null,
      "outputs": []
    },
    {
      "cell_type": "code",
      "source": [
        "#testing\n",
        "lr_confidence = lr.score(x_test, y_test)\n",
        "print(\"lr confidence: \", lr_confidence)"
      ],
      "metadata": {
        "id": "tK0mXaMOOgHe"
      },
      "execution_count": null,
      "outputs": []
    },
    {
      "cell_type": "code",
      "source": [
        "x_forecast = np.array(df.drop(['Prediction'],1))[-forecast_out:]\n",
        "print(x_forecast)"
      ],
      "metadata": {
        "id": "2YyoIN7LPFPl"
      },
      "execution_count": null,
      "outputs": []
    },
    {
      "cell_type": "code",
      "source": [
        "lr_prediction = lr.predict(x_forecast)\n",
        "print(lr_prediction)\n",
        "svm_prediction = svr_rbf.predict(x_forecast)\n",
        "print(svm_prediction)\n"
      ],
      "metadata": {
        "id": "n81qxTyKPoBQ"
      },
      "execution_count": null,
      "outputs": []
    }
  ]
}