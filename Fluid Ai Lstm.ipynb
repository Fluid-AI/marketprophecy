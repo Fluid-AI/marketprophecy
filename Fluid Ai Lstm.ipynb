{
 "cells": [
  {
   "cell_type": "code",
   "execution_count": 1,
   "id": "71266cd1",
   "metadata": {},
   "outputs": [],
   "source": [
    "import pandas as pd"
   ]
  },
  {
   "cell_type": "code",
   "execution_count": 2,
   "id": "77108d7e",
   "metadata": {},
   "outputs": [],
   "source": [
    "df=pd.read_csv('NSE Data/NSE Training Data - 1st Jan 2016 to 1st Jan 2022.csv')"
   ]
  },
  {
   "cell_type": "code",
   "execution_count": 3,
   "id": "cd2c460e",
   "metadata": {},
   "outputs": [
    {
     "data": {
      "text/html": [
       "<div>\n",
       "<style scoped>\n",
       "    .dataframe tbody tr th:only-of-type {\n",
       "        vertical-align: middle;\n",
       "    }\n",
       "\n",
       "    .dataframe tbody tr th {\n",
       "        vertical-align: top;\n",
       "    }\n",
       "\n",
       "    .dataframe thead th {\n",
       "        text-align: right;\n",
       "    }\n",
       "</style>\n",
       "<table border=\"1\" class=\"dataframe\">\n",
       "  <thead>\n",
       "    <tr style=\"text-align: right;\">\n",
       "      <th></th>\n",
       "      <th>Date</th>\n",
       "      <th>Open</th>\n",
       "      <th>High</th>\n",
       "      <th>Low</th>\n",
       "      <th>Close</th>\n",
       "      <th>Adj Close</th>\n",
       "      <th>Volume</th>\n",
       "    </tr>\n",
       "  </thead>\n",
       "  <tbody>\n",
       "    <tr>\n",
       "      <th>0</th>\n",
       "      <td>2016-01-04</td>\n",
       "      <td>7924.549805</td>\n",
       "      <td>7937.549805</td>\n",
       "      <td>7781.100098</td>\n",
       "      <td>7791.299805</td>\n",
       "      <td>7791.299805</td>\n",
       "      <td>134700.0</td>\n",
       "    </tr>\n",
       "    <tr>\n",
       "      <th>1</th>\n",
       "      <td>2016-01-05</td>\n",
       "      <td>7828.399902</td>\n",
       "      <td>7831.200195</td>\n",
       "      <td>7763.250000</td>\n",
       "      <td>7784.649902</td>\n",
       "      <td>7784.649902</td>\n",
       "      <td>145200.0</td>\n",
       "    </tr>\n",
       "    <tr>\n",
       "      <th>2</th>\n",
       "      <td>2016-01-06</td>\n",
       "      <td>7788.049805</td>\n",
       "      <td>7800.950195</td>\n",
       "      <td>7721.200195</td>\n",
       "      <td>7741.000000</td>\n",
       "      <td>7741.000000</td>\n",
       "      <td>147100.0</td>\n",
       "    </tr>\n",
       "    <tr>\n",
       "      <th>3</th>\n",
       "      <td>2016-01-07</td>\n",
       "      <td>7673.350098</td>\n",
       "      <td>7674.950195</td>\n",
       "      <td>7556.600098</td>\n",
       "      <td>7568.299805</td>\n",
       "      <td>7568.299805</td>\n",
       "      <td>188900.0</td>\n",
       "    </tr>\n",
       "    <tr>\n",
       "      <th>4</th>\n",
       "      <td>2016-01-08</td>\n",
       "      <td>7611.649902</td>\n",
       "      <td>7634.100098</td>\n",
       "      <td>7581.049805</td>\n",
       "      <td>7601.350098</td>\n",
       "      <td>7601.350098</td>\n",
       "      <td>157400.0</td>\n",
       "    </tr>\n",
       "  </tbody>\n",
       "</table>\n",
       "</div>"
      ],
      "text/plain": [
       "         Date         Open         High          Low        Close  \\\n",
       "0  2016-01-04  7924.549805  7937.549805  7781.100098  7791.299805   \n",
       "1  2016-01-05  7828.399902  7831.200195  7763.250000  7784.649902   \n",
       "2  2016-01-06  7788.049805  7800.950195  7721.200195  7741.000000   \n",
       "3  2016-01-07  7673.350098  7674.950195  7556.600098  7568.299805   \n",
       "4  2016-01-08  7611.649902  7634.100098  7581.049805  7601.350098   \n",
       "\n",
       "     Adj Close    Volume  \n",
       "0  7791.299805  134700.0  \n",
       "1  7784.649902  145200.0  \n",
       "2  7741.000000  147100.0  \n",
       "3  7568.299805  188900.0  \n",
       "4  7601.350098  157400.0  "
      ]
     },
     "execution_count": 3,
     "metadata": {},
     "output_type": "execute_result"
    }
   ],
   "source": [
    "df.head()"
   ]
  },
  {
   "cell_type": "code",
   "execution_count": 4,
   "id": "2157957b",
   "metadata": {},
   "outputs": [
    {
     "name": "stdout",
     "output_type": "stream",
     "text": [
      "<class 'pandas.core.frame.DataFrame'>\n",
      "RangeIndex: 1481 entries, 0 to 1480\n",
      "Data columns (total 7 columns):\n",
      " #   Column     Non-Null Count  Dtype  \n",
      "---  ------     --------------  -----  \n",
      " 0   Date       1481 non-null   object \n",
      " 1   Open       1475 non-null   float64\n",
      " 2   High       1475 non-null   float64\n",
      " 3   Low        1475 non-null   float64\n",
      " 4   Close      1475 non-null   float64\n",
      " 5   Adj Close  1475 non-null   float64\n",
      " 6   Volume     1475 non-null   float64\n",
      "dtypes: float64(6), object(1)\n",
      "memory usage: 81.1+ KB\n"
     ]
    }
   ],
   "source": [
    "df.info()"
   ]
  },
  {
   "cell_type": "code",
   "execution_count": 5,
   "id": "81dae5cf",
   "metadata": {},
   "outputs": [
    {
     "data": {
      "text/html": [
       "<div>\n",
       "<style scoped>\n",
       "    .dataframe tbody tr th:only-of-type {\n",
       "        vertical-align: middle;\n",
       "    }\n",
       "\n",
       "    .dataframe tbody tr th {\n",
       "        vertical-align: top;\n",
       "    }\n",
       "\n",
       "    .dataframe thead th {\n",
       "        text-align: right;\n",
       "    }\n",
       "</style>\n",
       "<table border=\"1\" class=\"dataframe\">\n",
       "  <thead>\n",
       "    <tr style=\"text-align: right;\">\n",
       "      <th></th>\n",
       "      <th>Date</th>\n",
       "      <th>Open</th>\n",
       "      <th>High</th>\n",
       "      <th>Low</th>\n",
       "      <th>Close</th>\n",
       "      <th>Adj Close</th>\n",
       "      <th>Volume</th>\n",
       "    </tr>\n",
       "  </thead>\n",
       "  <tbody>\n",
       "    <tr>\n",
       "      <th>151</th>\n",
       "      <td>2016-08-12</td>\n",
       "      <td>NaN</td>\n",
       "      <td>NaN</td>\n",
       "      <td>NaN</td>\n",
       "      <td>NaN</td>\n",
       "      <td>NaN</td>\n",
       "      <td>NaN</td>\n",
       "    </tr>\n",
       "    <tr>\n",
       "      <th>493</th>\n",
       "      <td>2018-01-01</td>\n",
       "      <td>NaN</td>\n",
       "      <td>NaN</td>\n",
       "      <td>NaN</td>\n",
       "      <td>NaN</td>\n",
       "      <td>NaN</td>\n",
       "      <td>NaN</td>\n",
       "    </tr>\n",
       "    <tr>\n",
       "      <th>739</th>\n",
       "      <td>2019-01-01</td>\n",
       "      <td>NaN</td>\n",
       "      <td>NaN</td>\n",
       "      <td>NaN</td>\n",
       "      <td>NaN</td>\n",
       "      <td>NaN</td>\n",
       "      <td>NaN</td>\n",
       "    </tr>\n",
       "    <tr>\n",
       "      <th>937</th>\n",
       "      <td>2019-10-27</td>\n",
       "      <td>NaN</td>\n",
       "      <td>NaN</td>\n",
       "      <td>NaN</td>\n",
       "      <td>NaN</td>\n",
       "      <td>NaN</td>\n",
       "      <td>NaN</td>\n",
       "    </tr>\n",
       "    <tr>\n",
       "      <th>1201</th>\n",
       "      <td>2020-11-14</td>\n",
       "      <td>NaN</td>\n",
       "      <td>NaN</td>\n",
       "      <td>NaN</td>\n",
       "      <td>NaN</td>\n",
       "      <td>NaN</td>\n",
       "      <td>NaN</td>\n",
       "    </tr>\n",
       "    <tr>\n",
       "      <th>1233</th>\n",
       "      <td>2021-01-01</td>\n",
       "      <td>NaN</td>\n",
       "      <td>NaN</td>\n",
       "      <td>NaN</td>\n",
       "      <td>NaN</td>\n",
       "      <td>NaN</td>\n",
       "      <td>NaN</td>\n",
       "    </tr>\n",
       "  </tbody>\n",
       "</table>\n",
       "</div>"
      ],
      "text/plain": [
       "            Date  Open  High  Low  Close  Adj Close  Volume\n",
       "151   2016-08-12   NaN   NaN  NaN    NaN        NaN     NaN\n",
       "493   2018-01-01   NaN   NaN  NaN    NaN        NaN     NaN\n",
       "739   2019-01-01   NaN   NaN  NaN    NaN        NaN     NaN\n",
       "937   2019-10-27   NaN   NaN  NaN    NaN        NaN     NaN\n",
       "1201  2020-11-14   NaN   NaN  NaN    NaN        NaN     NaN\n",
       "1233  2021-01-01   NaN   NaN  NaN    NaN        NaN     NaN"
      ]
     },
     "execution_count": 5,
     "metadata": {},
     "output_type": "execute_result"
    }
   ],
   "source": [
    "df[df['Close'].isnull()]"
   ]
  },
  {
   "cell_type": "code",
   "execution_count": 6,
   "id": "e71c09c6",
   "metadata": {},
   "outputs": [
    {
     "data": {
      "text/html": [
       "<div>\n",
       "<style scoped>\n",
       "    .dataframe tbody tr th:only-of-type {\n",
       "        vertical-align: middle;\n",
       "    }\n",
       "\n",
       "    .dataframe tbody tr th {\n",
       "        vertical-align: top;\n",
       "    }\n",
       "\n",
       "    .dataframe thead th {\n",
       "        text-align: right;\n",
       "    }\n",
       "</style>\n",
       "<table border=\"1\" class=\"dataframe\">\n",
       "  <thead>\n",
       "    <tr style=\"text-align: right;\">\n",
       "      <th></th>\n",
       "      <th>Date</th>\n",
       "      <th>Open</th>\n",
       "      <th>High</th>\n",
       "      <th>Low</th>\n",
       "      <th>Close</th>\n",
       "      <th>Adj Close</th>\n",
       "      <th>Volume</th>\n",
       "    </tr>\n",
       "  </thead>\n",
       "  <tbody>\n",
       "    <tr>\n",
       "      <th>148</th>\n",
       "      <td>2016-08-09</td>\n",
       "      <td>8727.799805</td>\n",
       "      <td>8728.349609</td>\n",
       "      <td>8638.200195</td>\n",
       "      <td>8678.250000</td>\n",
       "      <td>8678.250000</td>\n",
       "      <td>200100.0</td>\n",
       "    </tr>\n",
       "    <tr>\n",
       "      <th>149</th>\n",
       "      <td>2016-08-10</td>\n",
       "      <td>8686.700195</td>\n",
       "      <td>8690.099609</td>\n",
       "      <td>8564.599609</td>\n",
       "      <td>8575.299805</td>\n",
       "      <td>8575.299805</td>\n",
       "      <td>173600.0</td>\n",
       "    </tr>\n",
       "    <tr>\n",
       "      <th>150</th>\n",
       "      <td>2016-08-11</td>\n",
       "      <td>8572.799805</td>\n",
       "      <td>8601.150391</td>\n",
       "      <td>8540.049805</td>\n",
       "      <td>8592.150391</td>\n",
       "      <td>8592.150391</td>\n",
       "      <td>189200.0</td>\n",
       "    </tr>\n",
       "    <tr>\n",
       "      <th>151</th>\n",
       "      <td>2016-08-12</td>\n",
       "      <td>8621.524903</td>\n",
       "      <td>8641.750000</td>\n",
       "      <td>8570.250000</td>\n",
       "      <td>8617.350098</td>\n",
       "      <td>8617.350098</td>\n",
       "      <td>207000.0</td>\n",
       "    </tr>\n",
       "    <tr>\n",
       "      <th>152</th>\n",
       "      <td>2016-08-16</td>\n",
       "      <td>8670.250000</td>\n",
       "      <td>8682.349609</td>\n",
       "      <td>8600.450195</td>\n",
       "      <td>8642.549805</td>\n",
       "      <td>8642.549805</td>\n",
       "      <td>224800.0</td>\n",
       "    </tr>\n",
       "    <tr>\n",
       "      <th>153</th>\n",
       "      <td>2016-08-17</td>\n",
       "      <td>8639.799805</td>\n",
       "      <td>8667.099609</td>\n",
       "      <td>8603.599609</td>\n",
       "      <td>8624.049805</td>\n",
       "      <td>8624.049805</td>\n",
       "      <td>174100.0</td>\n",
       "    </tr>\n",
       "    <tr>\n",
       "      <th>154</th>\n",
       "      <td>2016-08-18</td>\n",
       "      <td>8648.849609</td>\n",
       "      <td>8690.700195</td>\n",
       "      <td>8645.049805</td>\n",
       "      <td>8673.250000</td>\n",
       "      <td>8673.250000</td>\n",
       "      <td>164300.0</td>\n",
       "    </tr>\n",
       "  </tbody>\n",
       "</table>\n",
       "</div>"
      ],
      "text/plain": [
       "           Date         Open         High          Low        Close  \\\n",
       "148  2016-08-09  8727.799805  8728.349609  8638.200195  8678.250000   \n",
       "149  2016-08-10  8686.700195  8690.099609  8564.599609  8575.299805   \n",
       "150  2016-08-11  8572.799805  8601.150391  8540.049805  8592.150391   \n",
       "151  2016-08-12  8621.524903  8641.750000  8570.250000  8617.350098   \n",
       "152  2016-08-16  8670.250000  8682.349609  8600.450195  8642.549805   \n",
       "153  2016-08-17  8639.799805  8667.099609  8603.599609  8624.049805   \n",
       "154  2016-08-18  8648.849609  8690.700195  8645.049805  8673.250000   \n",
       "\n",
       "       Adj Close    Volume  \n",
       "148  8678.250000  200100.0  \n",
       "149  8575.299805  173600.0  \n",
       "150  8592.150391  189200.0  \n",
       "151  8617.350098  207000.0  \n",
       "152  8642.549805  224800.0  \n",
       "153  8624.049805  174100.0  \n",
       "154  8673.250000  164300.0  "
      ]
     },
     "execution_count": 6,
     "metadata": {},
     "output_type": "execute_result"
    }
   ],
   "source": [
    "df1=df.interpolate(limit_direction=\"both\")\n",
    "df1.iloc[148:155,:]"
   ]
  },
  {
   "cell_type": "code",
   "execution_count": 7,
   "id": "27d1c784",
   "metadata": {},
   "outputs": [],
   "source": [
    "df2=df1.reset_index()['Close']"
   ]
  },
  {
   "cell_type": "code",
   "execution_count": 8,
   "id": "00f44851",
   "metadata": {},
   "outputs": [
    {
     "data": {
      "text/plain": [
       "0    7791.299805\n",
       "1    7784.649902\n",
       "2    7741.000000\n",
       "3    7568.299805\n",
       "4    7601.350098\n",
       "Name: Close, dtype: float64"
      ]
     },
     "execution_count": 8,
     "metadata": {},
     "output_type": "execute_result"
    }
   ],
   "source": [
    "df2.head()"
   ]
  },
  {
   "cell_type": "code",
   "execution_count": 9,
   "id": "bc481f84",
   "metadata": {},
   "outputs": [
    {
     "data": {
      "text/plain": [
       "[<matplotlib.lines.Line2D at 0x190253db130>]"
      ]
     },
     "execution_count": 9,
     "metadata": {},
     "output_type": "execute_result"
    },
    {
     "data": {
      "image/png": "[encoded data removed]",
      "text/plain": [
       "<Figure size 432x288 with 1 Axes>"
      ]
     },
     "metadata": {
      "needs_background": "light"
     },
     "output_type": "display_data"
    }
   ],
   "source": [
    "import matplotlib.pyplot as plt\n",
    "plt.plot(df2)"
   ]
  },
  {
   "cell_type": "code",
   "execution_count": 10,
   "id": "8e51f15a",
   "metadata": {},
   "outputs": [],
   "source": [
    "import numpy as np\n",
    "from sklearn.preprocessing import MinMaxScaler\n",
    "scaler=MinMaxScaler(feature_range=(0,1))\n"
   ]
  },
  {
   "cell_type": "code",
   "execution_count": 11,
   "id": "e9637417",
   "metadata": {},
   "outputs": [],
   "source": [
    "data=np.array(df2).reshape(-1,1)"
   ]
  },
  {
   "cell_type": "code",
   "execution_count": 12,
   "id": "6c4db886",
   "metadata": {},
   "outputs": [],
   "source": [
    "Sdata=scaler.fit_transform(data)"
   ]
  },
  {
   "cell_type": "code",
   "execution_count": 13,
   "id": "5794a66f",
   "metadata": {},
   "outputs": [
    {
     "data": {
      "text/plain": [
       "(9, 1)"
      ]
     },
     "execution_count": 13,
     "metadata": {},
     "output_type": "execute_result"
    }
   ],
   "source": [
    "Sdata[1:10].shape"
   ]
  },
  {
   "cell_type": "code",
   "execution_count": 14,
   "id": "7d38cef8",
   "metadata": {},
   "outputs": [],
   "source": [
    "train_size=int(len(Sdata)*0.65)\n",
    "test_size=len(Sdata)-train_size\n",
    "train_data,test_data=Sdata[:train_size,:],Sdata[train_size:,:]"
   ]
  },
  {
   "cell_type": "code",
   "execution_count": 15,
   "id": "536fed42",
   "metadata": {},
   "outputs": [
    {
     "data": {
      "text/plain": [
       "((962, 1), (519, 1))"
      ]
     },
     "execution_count": 15,
     "metadata": {},
     "output_type": "execute_result"
    }
   ],
   "source": [
    "train_data.shape,test_data.shape"
   ]
  },
  {
   "cell_type": "code",
   "execution_count": 16,
   "id": "16a6394c",
   "metadata": {},
   "outputs": [
    {
     "data": {
      "text/plain": [
       "(962, 519)"
      ]
     },
     "execution_count": 16,
     "metadata": {},
     "output_type": "execute_result"
    }
   ],
   "source": [
    "len(train_data),len(test_data)"
   ]
  },
  {
   "cell_type": "code",
   "execution_count": 17,
   "id": "0ad74e4c",
   "metadata": {},
   "outputs": [
    {
     "data": {
      "text/plain": [
       "(1, 1)"
      ]
     },
     "execution_count": 17,
     "metadata": {},
     "output_type": "execute_result"
    }
   ],
   "source": [
    "train_data[1:2,:].shape"
   ]
  },
  {
   "cell_type": "code",
   "execution_count": 18,
   "id": "6974971c",
   "metadata": {},
   "outputs": [],
   "source": [
    "#taking 30 days as time step dvividing \n",
    "def traintestsplit(data,times_tep):\n",
    "    X,Y=[],[]\n",
    "    for i in range(len(data)-time_step-1):\n",
    "        X.append(data[i:i+time_step,0])\n",
    "        Y.append(data[i+time_step,0])\n",
    "        \n",
    "    return np.array(X),np.array(Y)    \n",
    "        \n",
    "    "
   ]
  },
  {
   "cell_type": "code",
   "execution_count": 19,
   "id": "0ebf57d1",
   "metadata": {},
   "outputs": [],
   "source": [
    "time_step = 30\n",
    "X_train, Y_train = traintestsplit(train_data, time_step)\n",
    "X_test, Y_test = traintestsplit(test_data, time_step)"
   ]
  },
  {
   "cell_type": "code",
   "execution_count": 20,
   "id": "e61bd5e8",
   "metadata": {},
   "outputs": [
    {
     "name": "stdout",
     "output_type": "stream",
     "text": [
      "(931, 30)\n",
      "(931,)\n"
     ]
    },
    {
     "data": {
      "text/plain": [
       "(None, None)"
      ]
     },
     "execution_count": 20,
     "metadata": {},
     "output_type": "execute_result"
    }
   ],
   "source": [
    "print(X_train.shape), print(Y_train.shape)"
   ]
  },
  {
   "cell_type": "code",
   "execution_count": 21,
   "id": "7f6f4db4",
   "metadata": {},
   "outputs": [],
   "source": [
    "X_train =X_train.reshape(X_train.shape[0],X_train.shape[1] , 1)\n",
    "X_test = X_test.reshape(X_test.shape[0],X_test.shape[1] , 1)"
   ]
  },
  {
   "cell_type": "code",
   "execution_count": 22,
   "id": "7545dc68",
   "metadata": {},
   "outputs": [],
   "source": [
    "from tensorflow.keras.models import Sequential\n",
    "from tensorflow.keras.layers import Dense\n",
    "from tensorflow.keras.layers import LSTM"
   ]
  },
  {
   "cell_type": "code",
   "execution_count": 23,
   "id": "e8dcf0ab",
   "metadata": {},
   "outputs": [],
   "source": [
    "model=Sequential()\n",
    "model.add(LSTM(100,return_sequences=True,input_shape=(30,1)))\n",
    "model.add(LSTM(100,return_sequences=True))\n",
    "model.add(LSTM(100))\n",
    "model.add(Dense(1))\n",
    "model.compile(loss='mean_squared_error',optimizer='adam')"
   ]
  },
  {
   "cell_type": "code",
   "execution_count": 24,
   "id": "091551e1",
   "metadata": {},
   "outputs": [
    {
     "name": "stdout",
     "output_type": "stream",
     "text": [
      "Model: \"sequential\"\n",
      "_________________________________________________________________\n",
      " Layer (type)                Output Shape              Param #   \n",
      "=================================================================\n",
      " lstm (LSTM)                 (None, 30, 100)           40800     \n",
      "                                                                 \n",
      " lstm_1 (LSTM)               (None, 30, 100)           80400     \n",
      "                                                                 \n",
      " lstm_2 (LSTM)               (None, 100)               80400     \n",
      "                                                                 \n",
      " dense (Dense)               (None, 1)                 101       \n",
      "                                                                 \n",
      "=================================================================\n",
      "Total params: 201,701\n",
      "Trainable params: 201,701\n",
      "Non-trainable params: 0\n",
      "_________________________________________________________________\n"
     ]
    }
   ],
   "source": [
    "model.summary()"
   ]
  },
  {
   "cell_type": "code",
   "execution_count": 25,
   "id": "4785c538",
   "metadata": {},
   "outputs": [
    {
     "name": "stdout",
     "output_type": "stream",
     "text": [
      "Epoch 1/50\n",
      "15/15 [==============================] - 30s 718ms/step - loss: 0.0154 - val_loss: 0.0140\n",
      "Epoch 2/50\n",
      "15/15 [==============================] - 5s 300ms/step - loss: 0.0020 - val_loss: 0.0048\n",
      "Epoch 3/50\n",
      "15/15 [==============================] - 3s 208ms/step - loss: 5.4389e-04 - val_loss: 0.0022\n",
      "Epoch 4/50\n",
      "15/15 [==============================] - 2s 167ms/step - loss: 4.2049e-04 - val_loss: 0.0029\n",
      "Epoch 5/50\n",
      "15/15 [==============================] - 2s 162ms/step - loss: 3.6473e-04 - val_loss: 0.0027\n",
      "Epoch 6/50\n",
      "15/15 [==============================] - 3s 210ms/step - loss: 3.6235e-04 - val_loss: 0.0032\n",
      "Epoch 7/50\n",
      "15/15 [==============================] - 3s 186ms/step - loss: 3.5843e-04 - val_loss: 0.0028\n",
      "Epoch 8/50\n",
      "15/15 [==============================] - 3s 173ms/step - loss: 3.4189e-04 - val_loss: 0.0023\n",
      "Epoch 9/50\n",
      "15/15 [==============================] - 2s 161ms/step - loss: 3.4478e-04 - val_loss: 0.0021\n",
      "Epoch 10/50\n",
      "15/15 [==============================] - 2s 158ms/step - loss: 3.3777e-04 - val_loss: 0.0024\n",
      "Epoch 11/50\n",
      "15/15 [==============================] - 2s 159ms/step - loss: 3.2320e-04 - val_loss: 0.0022\n",
      "Epoch 12/50\n",
      "15/15 [==============================] - 2s 160ms/step - loss: 3.1777e-04 - val_loss: 0.0026\n",
      "Epoch 13/50\n",
      "15/15 [==============================] - 2s 160ms/step - loss: 3.1606e-04 - val_loss: 0.0022\n",
      "Epoch 14/50\n",
      "15/15 [==============================] - 2s 159ms/step - loss: 3.1833e-04 - val_loss: 0.0026\n",
      "Epoch 15/50\n",
      "15/15 [==============================] - 2s 160ms/step - loss: 3.0029e-04 - val_loss: 0.0022\n",
      "Epoch 16/50\n",
      "15/15 [==============================] - 2s 163ms/step - loss: 3.2593e-04 - val_loss: 0.0027\n",
      "Epoch 17/50\n",
      "15/15 [==============================] - 2s 161ms/step - loss: 3.4561e-04 - val_loss: 0.0023\n",
      "Epoch 18/50\n",
      "15/15 [==============================] - 2s 160ms/step - loss: 2.8881e-04 - val_loss: 0.0016\n",
      "Epoch 19/50\n",
      "15/15 [==============================] - 2s 160ms/step - loss: 3.0029e-04 - val_loss: 0.0019\n",
      "Epoch 20/50\n",
      "15/15 [==============================] - 2s 161ms/step - loss: 2.8768e-04 - val_loss: 0.0015\n",
      "Epoch 21/50\n",
      "15/15 [==============================] - 2s 167ms/step - loss: 2.8725e-04 - val_loss: 0.0020\n",
      "Epoch 22/50\n",
      "15/15 [==============================] - 3s 174ms/step - loss: 2.5716e-04 - val_loss: 0.0022\n",
      "Epoch 23/50\n",
      "15/15 [==============================] - 2s 160ms/step - loss: 2.6465e-04 - val_loss: 0.0029\n",
      "Epoch 24/50\n",
      "15/15 [==============================] - 3s 170ms/step - loss: 3.0307e-04 - val_loss: 0.0014\n",
      "Epoch 25/50\n",
      "15/15 [==============================] - 3s 199ms/step - loss: 2.8769e-04 - val_loss: 0.0024\n",
      "Epoch 26/50\n",
      "15/15 [==============================] - 2s 165ms/step - loss: 2.8822e-04 - val_loss: 0.0033\n",
      "Epoch 27/50\n",
      "15/15 [==============================] - 2s 166ms/step - loss: 2.6959e-04 - val_loss: 0.0013\n",
      "Epoch 28/50\n",
      "15/15 [==============================] - 2s 158ms/step - loss: 3.1739e-04 - val_loss: 0.0050\n",
      "Epoch 29/50\n",
      "15/15 [==============================] - 2s 160ms/step - loss: 2.8254e-04 - val_loss: 0.0024\n",
      "Epoch 30/50\n",
      "15/15 [==============================] - 2s 169ms/step - loss: 2.7715e-04 - val_loss: 0.0015\n",
      "Epoch 31/50\n",
      "15/15 [==============================] - 3s 175ms/step - loss: 2.3900e-04 - val_loss: 0.0015\n",
      "Epoch 32/50\n",
      "15/15 [==============================] - 3s 182ms/step - loss: 2.2268e-04 - val_loss: 0.0031\n",
      "Epoch 33/50\n",
      "15/15 [==============================] - 2s 158ms/step - loss: 2.2333e-04 - val_loss: 0.0027\n",
      "Epoch 34/50\n",
      "15/15 [==============================] - 3s 185ms/step - loss: 2.1192e-04 - val_loss: 0.0012\n",
      "Epoch 35/50\n",
      "15/15 [==============================] - 3s 209ms/step - loss: 2.1600e-04 - val_loss: 0.0029\n",
      "Epoch 36/50\n",
      "15/15 [==============================] - 2s 158ms/step - loss: 2.1796e-04 - val_loss: 0.0018\n",
      "Epoch 37/50\n",
      "15/15 [==============================] - 3s 170ms/step - loss: 1.9446e-04 - val_loss: 0.0013\n",
      "Epoch 38/50\n",
      "15/15 [==============================] - 2s 167ms/step - loss: 2.2575e-04 - val_loss: 0.0023\n",
      "Epoch 39/50\n",
      "15/15 [==============================] - 2s 158ms/step - loss: 2.1047e-04 - val_loss: 0.0020\n",
      "Epoch 40/50\n",
      "15/15 [==============================] - 2s 166ms/step - loss: 1.9141e-04 - val_loss: 0.0024\n",
      "Epoch 41/50\n",
      "15/15 [==============================] - 2s 160ms/step - loss: 2.0901e-04 - val_loss: 0.0011\n",
      "Epoch 42/50\n",
      "15/15 [==============================] - 2s 156ms/step - loss: 2.0576e-04 - val_loss: 0.0015\n",
      "Epoch 43/50\n",
      "15/15 [==============================] - 2s 159ms/step - loss: 2.0061e-04 - val_loss: 0.0017\n",
      "Epoch 44/50\n",
      "15/15 [==============================] - 2s 157ms/step - loss: 2.2084e-04 - val_loss: 0.0027\n",
      "Epoch 45/50\n",
      "15/15 [==============================] - 2s 166ms/step - loss: 2.1519e-04 - val_loss: 0.0010\n",
      "Epoch 46/50\n",
      "15/15 [==============================] - 3s 183ms/step - loss: 2.1770e-04 - val_loss: 0.0013\n",
      "Epoch 47/50\n",
      "15/15 [==============================] - 2s 169ms/step - loss: 1.7518e-04 - val_loss: 0.0015\n",
      "Epoch 48/50\n",
      "15/15 [==============================] - 2s 157ms/step - loss: 1.8059e-04 - val_loss: 0.0013\n",
      "Epoch 49/50\n",
      "15/15 [==============================] - 2s 155ms/step - loss: 1.7445e-04 - val_loss: 0.0013\n",
      "Epoch 50/50\n",
      "15/15 [==============================] - 3s 174ms/step - loss: 1.8690e-04 - val_loss: 0.0017\n"
     ]
    },
    {
     "data": {
      "text/plain": [
       "<keras.callbacks.History at 0x190377e0670>"
      ]
     },
     "execution_count": 25,
     "metadata": {},
     "output_type": "execute_result"
    }
   ],
   "source": [
    "model.fit(X_train,Y_train,validation_data=(X_test,Y_test),epochs=50,batch_size=64,verbose=1)"
   ]
  },
  {
   "cell_type": "code",
   "execution_count": 26,
   "id": "bbea38b1",
   "metadata": {},
   "outputs": [],
   "source": [
    "train_predict=model.predict(X_train)\n",
    "test_predict=model.predict(X_test)"
   ]
  },
  {
   "cell_type": "code",
   "execution_count": 27,
   "id": "5b4f2676",
   "metadata": {},
   "outputs": [],
   "source": [
    "train_predict=scaler.inverse_transform(train_predict)\n",
    "test_predict=scaler.inverse_transform(test_predict)"
   ]
  },
  {
   "cell_type": "code",
   "execution_count": 28,
   "id": "98bf5ac8",
   "metadata": {},
   "outputs": [
    {
     "data": {
      "text/plain": [
       "10067.02159364343"
      ]
     },
     "execution_count": 28,
     "metadata": {},
     "output_type": "execute_result"
    }
   ],
   "source": [
    "import math\n",
    "from sklearn.metrics import mean_squared_error\n",
    "math.sqrt(mean_squared_error(Y_train,train_predict))"
   ]
  },
  {
   "cell_type": "code",
   "execution_count": 29,
   "id": "b2c08959",
   "metadata": {},
   "outputs": [
    {
     "data": {
      "text/plain": [
       "13576.60237929829"
      ]
     },
     "execution_count": 29,
     "metadata": {},
     "output_type": "execute_result"
    }
   ],
   "source": [
    "math.sqrt(mean_squared_error(Y_test,test_predict))"
   ]
  },
  {
   "cell_type": "code",
   "execution_count": 30,
   "id": "694dad28",
   "metadata": {},
   "outputs": [
    {
     "data": {
      "image/png": "[encoded data removed]",
      "text/plain": [
       "<Figure size 864x648 with 1 Axes>"
      ]
     },
     "metadata": {
      "needs_background": "light"
     },
     "output_type": "display_data"
    }
   ],
   "source": [
    "plt.figure(figsize=(12,9))\n",
    "look_back=30\n",
    "trainPredictPlot = np.empty_like(data)\n",
    "trainPredictPlot[:, :] = np.nan\n",
    "trainPredictPlot[look_back:len(train_predict)+look_back, :] = train_predict\n",
    "# shift test predictions for plotting\n",
    "testPredictPlot = np.empty_like(data)\n",
    "testPredictPlot[:, :] = np.nan\n",
    "testPredictPlot[len(train_predict)+(look_back*2)+1:len(data)-1, :] = test_predict\n",
    "# plot baseline and predictions\n",
    "plt.plot(data,label='actual')\n",
    "plt.plot(trainPredictPlot,label='train',)\n",
    "plt.plot(testPredictPlot,label='test')\n",
    "plt.legend()\n",
    "plt.show()\n"
   ]
  },
  {
   "cell_type": "code",
   "execution_count": null,
   "id": "c86760cd",
   "metadata": {},
   "outputs": [],
   "source": []
  }
 ],
 "metadata": {
  "kernelspec": {
   "display_name": "Python 3 (ipykernel)",
   "language": "python",
   "name": "python3"
  },
  "language_info": {
   "codemirror_mode": {
    "name": "ipython",
    "version": 3
   },
   "file_extension": ".py",
   "mimetype": "text/x-python",
   "name": "python",
   "nbconvert_exporter": "python",
   "pygments_lexer": "ipython3",
   "version": "3.9.7"
  }
 },
 "nbformat": 4,
 "nbformat_minor": 5
}
