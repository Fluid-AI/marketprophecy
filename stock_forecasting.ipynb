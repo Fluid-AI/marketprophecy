{
  "nbformat": 4,
  "nbformat_minor": 0,
  "metadata": {
    "colab": {
      "name": "stock_forecasting.ipynb",
      "provenance": [],
      "collapsed_sections": []
    },
    "kernelspec": {
      "name": "python3",
      "display_name": "Python 3"
    },
    "language_info": {
      "name": "python"
    }
  },
  "cells": [
    {
      "cell_type": "code",
      "execution_count": null,
      "metadata": {
        "id": "kWZVjNWv6LWo"
      },
      "outputs": [],
      "source": [
        "\n",
        "import pandas as pd\n",
        "from statsmodels.tsa.stattools import adfuller\n",
        "import plotly.express as px\n",
        "import numpy as np\n",
        "from statsmodels.tsa.stattools import adfuller\n",
        "from statsmodels.tsa.seasonal import seasonal_decompose\n",
        "from matplotlib import pyplot as plt\n",
        "import statsmodels.graphics.tsaplots as tsa_plots\n",
        "from sklearn.metrics import mean_squared_log_error\n",
        "import pmdarima as pm\n",
        "import statsmodels.api as sm\n",
        "from math import sqrt\n"
      ]
    },
    {
      "cell_type": "code",
      "source": [
        "df = pd.read_csv(\"/content/drive/MyDrive/NSE Training Data - 1st Jan 2016 to 1st Jan 2022.csv\")"
      ],
      "metadata": {
        "id": "RTHUytsx8y_v"
      },
      "execution_count": null,
      "outputs": []
    },
    {
      "cell_type": "code",
      "source": [
        "df[\"Date\"]=pd.to_datetime(df[\"Date\"])"
      ],
      "metadata": {
        "id": "lYoRCt499gYf"
      },
      "execution_count": null,
      "outputs": []
    },
    {
      "cell_type": "code",
      "source": [
        "fig=px.scatter(df,x=\"Date\",y=\"Close\",color=\"Close\")\n",
        "fig.show()"
      ],
      "metadata": {
        "id": "uuMb37egEEML"
      },
      "execution_count": null,
      "outputs": []
    },
    {
      "cell_type": "code",
      "source": [
        "fig=px.scatter(df,x=\"Date\",y=\"High\",color=\"High\")\n",
        "fig.show()"
      ],
      "metadata": {
        "id": "wGPIYzBPEEXK"
      },
      "execution_count": null,
      "outputs": []
    },
    {
      "cell_type": "code",
      "source": [
        "fig=px.scatter(df,x=\"Date\",y=\"Low\",color=\"Low\")\n",
        "fig.show()"
      ],
      "metadata": {
        "id": "RypVcEMDE4v2"
      },
      "execution_count": null,
      "outputs": []
    },
    {
      "cell_type": "code",
      "source": [
        "df.describe()"
      ],
      "metadata": {
        "id": "hQsMH-95GZvs"
      },
      "execution_count": null,
      "outputs": []
    },
    {
      "cell_type": "code",
      "source": [
        "df.isnull().sum()"
      ],
      "metadata": {
        "id": "o1cIVtx09gp_"
      },
      "execution_count": null,
      "outputs": []
    },
    {
      "cell_type": "code",
      "source": [
        "df[df[\"Close\"].isnull()]"
      ],
      "metadata": {
        "id": "5iUP1Jd3B6I5"
      },
      "execution_count": null,
      "outputs": []
    },
    {
      "cell_type": "code",
      "source": [
        "loc=np.where(df[\"Close\"].astype(\"str\")==\"nan\")\n",
        "\n",
        "for i in list(loc[0]):\n",
        "    df[\"Close\"][i]=(df[\"Close\"][i-1]+df[\"Close\"][i+1])/2\n",
        "    df[\"Open\"][i]=(df[\"Open\"][i-1]+df[\"Open\"][i+1])/2   \n",
        "    df[\"High\"][i]=(df[\"High\"][i-1]+df[\"High\"][i+1])/2\n",
        "    df[\"Low\"][i]=(df[\"Low\"][i-1]+df[\"Low\"][i+1])/2\n",
        "    df[\"Adj Close\"][i]=(df[\"Adj Close\"][i-1]+df[\"Adj Close\"][i+1])/2\n",
        "    df[\"Volume\"][i]=(df[\"Volume\"][i-1]+df[\"Volume\"][i+1])/2"
      ],
      "metadata": {
        "id": "kNNzXeKeK0oz"
      },
      "execution_count": null,
      "outputs": []
    },
    {
      "cell_type": "code",
      "source": [
        "df.isnull().sum()"
      ],
      "metadata": {
        "id": "DlxAico2OFb5"
      },
      "execution_count": null,
      "outputs": []
    },
    {
      "cell_type": "code",
      "source": [
        "adft_close = adfuller(df[\"Close\"],autolag='AIC')\n",
        "adft_close"
      ],
      "metadata": {
        "id": "bPogUO7bLGHg"
      },
      "execution_count": null,
      "outputs": []
    },
    {
      "cell_type": "code",
      "source": [
        "rmean = df[\"Close\"].rolling(12).mean()\n",
        "df[\"rmean\"]=rmean\n",
        "fig=px.scatter(df,x=\"Date\",y=\"rmean\",color=\"rmean\")\n",
        "fig.show()\n"
      ],
      "metadata": {
        "id": "dn2RnFOqPeBF"
      },
      "execution_count": null,
      "outputs": []
    },
    {
      "cell_type": "code",
      "source": [
        "rstd = df[\"Close\"].rolling(12).std()\n",
        "df[\"rstd\"]=rstd\n",
        "fig=px.scatter(df,x=\"Date\",y=\"rstd\",color=\"rstd\")\n",
        "fig.show()"
      ],
      "metadata": {
        "id": "K3o2tNoTBh0q"
      },
      "execution_count": null,
      "outputs": []
    },
    {
      "cell_type": "code",
      "source": [
        "result = seasonal_decompose(df[\"Close\"], model='multiplicative', period= 12)\n",
        "fig = plt.figure()  \n",
        "fig = result.plot()  \n",
        "fig.set_size_inches(16, 9)"
      ],
      "metadata": {
        "id": "UsRJPKDW9gsI"
      },
      "execution_count": null,
      "outputs": []
    },
    {
      "cell_type": "code",
      "source": [
        "df[\"close_log\"]=np.log(df[\"Close\"])\n",
        "df[\"close_log_diff\"]= df[\"close_log\"]-df[\"close_log\"].shift().dropna()"
      ],
      "metadata": {
        "id": "V3qh7uT_9gv1"
      },
      "execution_count": null,
      "outputs": []
    },
    {
      "cell_type": "code",
      "source": [
        "adft_close_log = adfuller(df[\"close_log\"],autolag='AIC')\n",
        "adft_close_log"
      ],
      "metadata": {
        "id": "9R90crXU9gxx"
      },
      "execution_count": null,
      "outputs": []
    },
    {
      "cell_type": "code",
      "source": [
        "adft_close_log_diff = adfuller(df[\"close_log_diff\"].dropna(),autolag='AIC')\n",
        "adft_close_log_diff"
      ],
      "metadata": {
        "id": "pEqI2HDO9g1_"
      },
      "execution_count": null,
      "outputs": []
    },
    {
      "cell_type": "code",
      "source": [
        "tsa_plots.plot_acf(df[\"Close\"], lags = 12)\n",
        "tsa_plots.plot_pacf(df[\"Close\"], lags = 12)"
      ],
      "metadata": {
        "id": "MCXMdGDNJGZ9",
        "colab": {
          "base_uri": "https://localhost:8080/",
          "height": 898
        },
        "outputId": "d075ae82-6f4e-412d-bf39-e5a5609f8310"
      },
      "execution_count": null,
      "outputs": [
        {
          "output_type": "stream",
          "name": "stderr",
          "text": [
            "/usr/local/lib/python3.7/dist-packages/statsmodels/graphics/tsaplots.py:353: FutureWarning:\n",
            "\n",
            "The default method 'yw' can produce PACF values outside of the [-1,1] interval. After 0.13, the default will change tounadjusted Yule-Walker ('ywm'). You can use this method now by setting method='ywm'.\n",
            "\n"
          ]
        },
        {
          "output_type": "execute_result",
          "data": {
            "image/png": "[encoded data removed]",
            "text/plain": [
              "<Figure size 432x288 with 1 Axes>"
            ]
          },
          "metadata": {},
          "execution_count": 51
        },
        {
          "output_type": "display_data",
          "data": {
            "image/png": "[encoded data removed]",
            "text/plain": [
              "<Figure size 432x288 with 1 Axes>"
            ]
          },
          "metadata": {
            "needs_background": "light"
          }
        },
        {
          "output_type": "display_data",
          "data": {
            "image/png": "[encoded data removed]",
            "text/plain": [
              "<Figure size 432x288 with 1 Axes>"
            ]
          },
          "metadata": {
            "needs_background": "light"
          }
        }
      ]
    },
    {
      "cell_type": "code",
      "source": [
        "tsa_plots.plot_acf(df[\"close_log\"],lags = 12)\n"
      ],
      "metadata": {
        "id": "pQwkxyv7nJu7"
      },
      "execution_count": null,
      "outputs": []
    },
    {
      "cell_type": "code",
      "source": [
        "tsa_plots.plot_acf(df[\"close_log_diff\"].dropna(), lags = 12)\n"
      ],
      "metadata": {
        "id": "7UUpUX23nJyx",
        "colab": {
          "base_uri": "https://localhost:8080/",
          "height": 545
        },
        "outputId": "c6b4aed1-b3e1-4609-e1dc-d66f3a8a9575"
      },
      "execution_count": null,
      "outputs": [
        {
          "output_type": "execute_result",
          "data": {
            "image/png": "[encoded data removed]",
            "text/plain": [
              "<Figure size 432x288 with 1 Axes>"
            ]
          },
          "metadata": {},
          "execution_count": 50
        },
        {
          "output_type": "display_data",
          "data": {
            "image/png": "[encoded data removed]",
            "text/plain": [
              "<Figure size 432x288 with 1 Axes>"
            ]
          },
          "metadata": {
            "needs_background": "light"
          }
        }
      ]
    },
    {
      "cell_type": "code",
      "source": [
        "train=df[\"Close\"].iloc[:1458,]\n",
        "train"
      ],
      "metadata": {
        "id": "G17cEiQprYFf"
      },
      "execution_count": null,
      "outputs": []
    },
    {
      "cell_type": "code",
      "source": [
        "train_log_diff=df[\"close_log_diff\"].iloc[1:1458,]\n",
        "train_log_diff"
      ],
      "metadata": {
        "id": "av-rvf9xucop"
      },
      "execution_count": null,
      "outputs": []
    },
    {
      "cell_type": "code",
      "source": [
        "test=df[\"Close\"].iloc[1458:,]\n",
        "test"
      ],
      "metadata": {
        "id": "bHAzBI91syik"
      },
      "execution_count": null,
      "outputs": []
    },
    {
      "cell_type": "code",
      "source": [
        "ar_model = pm.auto_arima(train, start_p=0, start_q=0,max_p=12, max_q=12, m=1,d=None,seasonal=False,start_P=0, trace=True,error_action='warn', stepwise=True)\n"
      ],
      "metadata": {
        "id": "CwL9NyLHnJ2B",
        "colab": {
          "base_uri": "https://localhost:8080/"
        },
        "outputId": "ea862681-aa5a-4ea0-88ee-04092171337d"
      },
      "execution_count": null,
      "outputs": [
        {
          "output_type": "stream",
          "name": "stdout",
          "text": [
            "Performing stepwise search to minimize aic\n",
            " ARIMA(0,1,0)(0,0,0)[0] intercept   : AIC=18049.297, Time=0.03 sec\n",
            " ARIMA(1,1,0)(0,0,0)[0] intercept   : AIC=18051.238, Time=0.06 sec\n",
            " ARIMA(0,1,1)(0,0,0)[0] intercept   : AIC=18051.246, Time=0.11 sec\n",
            " ARIMA(0,1,0)(0,0,0)[0]             : AIC=18051.432, Time=0.03 sec\n",
            " ARIMA(1,1,1)(0,0,0)[0] intercept   : AIC=18052.435, Time=0.69 sec\n",
            "\n",
            "Best model:  ARIMA(0,1,0)(0,0,0)[0] intercept\n",
            "Total fit time: 0.926 seconds\n"
          ]
        }
      ]
    },
    {
      "cell_type": "code",
      "source": [
        "model=sm.tsa.statespace.SARIMAX(train,order=(0,1,0),seasonal_order=(0,1,0,12))\n"
      ],
      "metadata": {
        "id": "Zlcd8bqNnJ5M"
      },
      "execution_count": null,
      "outputs": []
    },
    {
      "cell_type": "code",
      "source": [
        "results=model.fit()"
      ],
      "metadata": {
        "id": "JyWeL91_xQq3"
      },
      "execution_count": null,
      "outputs": []
    },
    {
      "cell_type": "code",
      "source": [
        "df['forecast']=results.predict(start=1458,end=1482,dynamic=True)\n"
      ],
      "metadata": {
        "id": "VizFDhBDxQd9"
      },
      "execution_count": null,
      "outputs": []
    },
    {
      "cell_type": "code",
      "source": [
        "df[['Close','forecast']].plot(figsize=(12,8))"
      ],
      "metadata": {
        "id": "J38Ynhcp2L8r",
        "colab": {
          "base_uri": "https://localhost:8080/",
          "height": 500
        },
        "outputId": "5f027b80-1d08-43e9-ade9-8bb7262344cd"
      },
      "execution_count": null,
      "outputs": [
        {
          "output_type": "execute_result",
          "data": {
            "text/plain": [
              "<matplotlib.axes._subplots.AxesSubplot at 0x7f378912c550>"
            ]
          },
          "metadata": {},
          "execution_count": 63
        },
        {
          "output_type": "display_data",
          "data": {
            "image/png": "[encoded data removed]",
            "text/plain": [
              "<Figure size 864x576 with 1 Axes>"
            ]
          },
          "metadata": {
            "needs_background": "light"
          }
        }
      ]
    },
    {
      "cell_type": "code",
      "source": [
        "df"
      ],
      "metadata": {
        "id": "UemCGGTJ4e99"
      },
      "execution_count": null,
      "outputs": []
    },
    {
      "cell_type": "code",
      "source": [
        "test_accuracy= sqrt(mean_squared_log_error(test, df[\"forecast\"].iloc[1458:,]))\n",
        "test_accuracy"
      ],
      "metadata": {
        "colab": {
          "base_uri": "https://localhost:8080/"
        },
        "id": "NrkDR7lb27fs",
        "outputId": "833e4f93-50db-47c3-8507-e7fed147a7e8"
      },
      "execution_count": null,
      "outputs": [
        {
          "output_type": "execute_result",
          "data": {
            "text/plain": [
              "0.06511699663345828"
            ]
          },
          "metadata": {},
          "execution_count": 64
        }
      ]
    },
    {
      "cell_type": "code",
      "source": [
        "final_model=sm.tsa.statespace.SARIMAX(df[\"Close\"],order=(0, 1, 0),seasonal_order=(0,1,0,12))\n"
      ],
      "metadata": {
        "id": "32upJTOV5QV8"
      },
      "execution_count": null,
      "outputs": []
    },
    {
      "cell_type": "code",
      "source": [
        "final_result=model.fit()"
      ],
      "metadata": {
        "id": "COTLL7qR5Qe5"
      },
      "execution_count": null,
      "outputs": []
    },
    {
      "cell_type": "code",
      "source": [
        "pred=final_result.predict(start=1481,end=1503).reset_index(drop=True)\n",
        "pred"
      ],
      "metadata": {
        "colab": {
          "base_uri": "https://localhost:8080/"
        },
        "id": "MSk30BOb8P7F",
        "outputId": "2d4af093-ccb5-49e4-d23e-790f5606ac09"
      },
      "execution_count": null,
      "outputs": [
        {
          "output_type": "execute_result",
          "data": {
            "text/plain": [
              "0     15202.398439\n",
              "1     15431.548830\n",
              "2     15438.248049\n",
              "3     15327.998049\n",
              "4     15227.449221\n",
              "5     15093.599611\n",
              "6     14745.349611\n",
              "7     14832.148439\n",
              "8     14743.849611\n",
              "9     14865.048830\n",
              "10    14355.248049\n",
              "11    14382.748049\n",
              "12    14311.998049\n",
              "13    14541.148440\n",
              "14    14547.847659\n",
              "15    14437.597659\n",
              "16    14337.048831\n",
              "17    14203.199221\n",
              "18    13854.949221\n",
              "19    13941.748049\n",
              "20    13853.449221\n",
              "21    13974.648440\n",
              "22    13464.847659\n",
              "Name: predicted_mean, dtype: float64"
            ]
          },
          "metadata": {},
          "execution_count": 67
        }
      ]
    },
    {
      "cell_type": "code",
      "source": [
        "forecasting=pd.read_csv(\"/content/drive/MyDrive/NSE Out of Time Testing Data - 1st Jan 2022 to 4th Feb 2022.csv\")"
      ],
      "metadata": {
        "id": "jo5xA5xn5Qh9"
      },
      "execution_count": null,
      "outputs": []
    },
    {
      "cell_type": "code",
      "source": [
        "forecasting['pred']=pred\n"
      ],
      "metadata": {
        "id": "Ax_fPq2r5QoW"
      },
      "execution_count": null,
      "outputs": []
    },
    {
      "cell_type": "code",
      "source": [
        "forecasting"
      ],
      "metadata": {
        "id": "r1mz7A3h7urn",
        "colab": {
          "base_uri": "https://localhost:8080/",
          "height": 770
        },
        "outputId": "ce1401c9-c49c-4d8d-e136-e432f5394d94"
      },
      "execution_count": null,
      "outputs": [
        {
          "output_type": "execute_result",
          "data": {
            "text/html": [
              "\n",
              "  <div id=\"df-969f0564-09dd-4b99-a6ef-3683871c4dee\">\n",
              "    <div class=\"colab-df-container\">\n",
              "      <div>\n",
              "<style scoped>\n",
              "    .dataframe tbody tr th:only-of-type {\n",
              "        vertical-align: middle;\n",
              "    }\n",
              "\n",
              "    .dataframe tbody tr th {\n",
              "        vertical-align: top;\n",
              "    }\n",
              "\n",
              "    .dataframe thead th {\n",
              "        text-align: right;\n",
              "    }\n",
              "</style>\n",
              "<table border=\"1\" class=\"dataframe\">\n",
              "  <thead>\n",
              "    <tr style=\"text-align: right;\">\n",
              "      <th></th>\n",
              "      <th>Date</th>\n",
              "      <th>Open</th>\n",
              "      <th>High</th>\n",
              "      <th>Low</th>\n",
              "      <th>Close</th>\n",
              "      <th>Adj Close</th>\n",
              "      <th>Volume</th>\n",
              "      <th>pred</th>\n",
              "    </tr>\n",
              "  </thead>\n",
              "  <tbody>\n",
              "    <tr>\n",
              "      <th>0</th>\n",
              "      <td>2022-01-03</td>\n",
              "      <td>17387.150391</td>\n",
              "      <td>17646.650391</td>\n",
              "      <td>17383.300781</td>\n",
              "      <td>17625.699219</td>\n",
              "      <td>17625.699219</td>\n",
              "      <td>200500</td>\n",
              "      <td>16970.610130</td>\n",
              "    </tr>\n",
              "    <tr>\n",
              "      <th>1</th>\n",
              "      <td>2022-01-04</td>\n",
              "      <td>17681.400391</td>\n",
              "      <td>17827.599609</td>\n",
              "      <td>17593.550781</td>\n",
              "      <td>17805.250000</td>\n",
              "      <td>17805.250000</td>\n",
              "      <td>247400</td>\n",
              "      <td>16960.317843</td>\n",
              "    </tr>\n",
              "    <tr>\n",
              "      <th>2</th>\n",
              "      <td>2022-01-05</td>\n",
              "      <td>17820.099609</td>\n",
              "      <td>17944.699219</td>\n",
              "      <td>17748.849609</td>\n",
              "      <td>17925.250000</td>\n",
              "      <td>17925.250000</td>\n",
              "      <td>251500</td>\n",
              "      <td>16955.056170</td>\n",
              "    </tr>\n",
              "    <tr>\n",
              "      <th>3</th>\n",
              "      <td>2022-01-06</td>\n",
              "      <td>17768.500000</td>\n",
              "      <td>17797.949219</td>\n",
              "      <td>17655.550781</td>\n",
              "      <td>17745.900391</td>\n",
              "      <td>17745.900391</td>\n",
              "      <td>236500</td>\n",
              "      <td>16952.308662</td>\n",
              "    </tr>\n",
              "    <tr>\n",
              "      <th>4</th>\n",
              "      <td>2022-01-07</td>\n",
              "      <td>17797.599609</td>\n",
              "      <td>17905.000000</td>\n",
              "      <td>17704.550781</td>\n",
              "      <td>17812.699219</td>\n",
              "      <td>17812.699219</td>\n",
              "      <td>239300</td>\n",
              "      <td>16934.642343</td>\n",
              "    </tr>\n",
              "    <tr>\n",
              "      <th>5</th>\n",
              "      <td>2022-01-10</td>\n",
              "      <td>17913.300781</td>\n",
              "      <td>18017.449219</td>\n",
              "      <td>17879.150391</td>\n",
              "      <td>18003.300781</td>\n",
              "      <td>18003.300781</td>\n",
              "      <td>232400</td>\n",
              "      <td>16951.087838</td>\n",
              "    </tr>\n",
              "    <tr>\n",
              "      <th>6</th>\n",
              "      <td>2022-01-11</td>\n",
              "      <td>17997.750000</td>\n",
              "      <td>18081.250000</td>\n",
              "      <td>17964.400391</td>\n",
              "      <td>18055.750000</td>\n",
              "      <td>18055.750000</td>\n",
              "      <td>220200</td>\n",
              "      <td>16937.567856</td>\n",
              "    </tr>\n",
              "    <tr>\n",
              "      <th>7</th>\n",
              "      <td>2022-01-12</td>\n",
              "      <td>18170.400391</td>\n",
              "      <td>18227.949219</td>\n",
              "      <td>18128.800781</td>\n",
              "      <td>18212.349609</td>\n",
              "      <td>18212.349609</td>\n",
              "      <td>245000</td>\n",
              "      <td>16929.292459</td>\n",
              "    </tr>\n",
              "    <tr>\n",
              "      <th>8</th>\n",
              "      <td>2022-01-13</td>\n",
              "      <td>18257.000000</td>\n",
              "      <td>18272.250000</td>\n",
              "      <td>18163.800781</td>\n",
              "      <td>18257.800781</td>\n",
              "      <td>18257.800781</td>\n",
              "      <td>303700</td>\n",
              "      <td>16934.402663</td>\n",
              "    </tr>\n",
              "    <tr>\n",
              "      <th>9</th>\n",
              "      <td>2022-01-14</td>\n",
              "      <td>18185.000000</td>\n",
              "      <td>18286.949219</td>\n",
              "      <td>18119.650391</td>\n",
              "      <td>18255.750000</td>\n",
              "      <td>18255.750000</td>\n",
              "      <td>229500</td>\n",
              "      <td>16932.969077</td>\n",
              "    </tr>\n",
              "    <tr>\n",
              "      <th>10</th>\n",
              "      <td>2022-01-17</td>\n",
              "      <td>18235.650391</td>\n",
              "      <td>18321.550781</td>\n",
              "      <td>18228.750000</td>\n",
              "      <td>18308.099609</td>\n",
              "      <td>18308.099609</td>\n",
              "      <td>266700</td>\n",
              "      <td>16959.080303</td>\n",
              "    </tr>\n",
              "    <tr>\n",
              "      <th>11</th>\n",
              "      <td>2022-01-18</td>\n",
              "      <td>18337.199219</td>\n",
              "      <td>18350.949219</td>\n",
              "      <td>18085.900391</td>\n",
              "      <td>18113.050781</td>\n",
              "      <td>18113.050781</td>\n",
              "      <td>227500</td>\n",
              "      <td>16949.145624</td>\n",
              "    </tr>\n",
              "    <tr>\n",
              "      <th>12</th>\n",
              "      <td>2022-01-19</td>\n",
              "      <td>18129.199219</td>\n",
              "      <td>18129.199219</td>\n",
              "      <td>17884.900391</td>\n",
              "      <td>17938.400391</td>\n",
              "      <td>17938.400391</td>\n",
              "      <td>276700</td>\n",
              "      <td>16955.437172</td>\n",
              "    </tr>\n",
              "    <tr>\n",
              "      <th>13</th>\n",
              "      <td>2022-01-20</td>\n",
              "      <td>17921.000000</td>\n",
              "      <td>17943.699219</td>\n",
              "      <td>17648.449219</td>\n",
              "      <td>17757.000000</td>\n",
              "      <td>17757.000000</td>\n",
              "      <td>258100</td>\n",
              "      <td>16977.806752</td>\n",
              "    </tr>\n",
              "    <tr>\n",
              "      <th>14</th>\n",
              "      <td>2022-01-21</td>\n",
              "      <td>17613.699219</td>\n",
              "      <td>17707.599609</td>\n",
              "      <td>17485.849609</td>\n",
              "      <td>17617.150391</td>\n",
              "      <td>17617.150391</td>\n",
              "      <td>277600</td>\n",
              "      <td>16972.456127</td>\n",
              "    </tr>\n",
              "    <tr>\n",
              "      <th>15</th>\n",
              "      <td>2022-01-24</td>\n",
              "      <td>17575.150391</td>\n",
              "      <td>17599.400391</td>\n",
              "      <td>16997.849609</td>\n",
              "      <td>17149.099609</td>\n",
              "      <td>17149.099609</td>\n",
              "      <td>323800</td>\n",
              "      <td>16986.709927</td>\n",
              "    </tr>\n",
              "    <tr>\n",
              "      <th>16</th>\n",
              "      <td>2022-01-25</td>\n",
              "      <td>17001.550781</td>\n",
              "      <td>17309.150391</td>\n",
              "      <td>16836.800781</td>\n",
              "      <td>17277.949219</td>\n",
              "      <td>17277.949219</td>\n",
              "      <td>326500</td>\n",
              "      <td>16978.121513</td>\n",
              "    </tr>\n",
              "    <tr>\n",
              "      <th>17</th>\n",
              "      <td>2022-01-27</td>\n",
              "      <td>17062.000000</td>\n",
              "      <td>17182.500000</td>\n",
              "      <td>16866.750000</td>\n",
              "      <td>17110.150391</td>\n",
              "      <td>17110.150391</td>\n",
              "      <td>395600</td>\n",
              "      <td>16974.724707</td>\n",
              "    </tr>\n",
              "    <tr>\n",
              "      <th>18</th>\n",
              "      <td>2022-01-28</td>\n",
              "      <td>17208.300781</td>\n",
              "      <td>17373.500000</td>\n",
              "      <td>17077.099609</td>\n",
              "      <td>17101.949219</td>\n",
              "      <td>17101.949219</td>\n",
              "      <td>355300</td>\n",
              "      <td>16966.520963</td>\n",
              "    </tr>\n",
              "    <tr>\n",
              "      <th>19</th>\n",
              "      <td>2022-01-31</td>\n",
              "      <td>17301.050781</td>\n",
              "      <td>17410.000000</td>\n",
              "      <td>17264.150391</td>\n",
              "      <td>17339.849609</td>\n",
              "      <td>17339.849609</td>\n",
              "      <td>321700</td>\n",
              "      <td>16963.200529</td>\n",
              "    </tr>\n",
              "    <tr>\n",
              "      <th>20</th>\n",
              "      <td>2022-02-01</td>\n",
              "      <td>17529.449219</td>\n",
              "      <td>17622.400391</td>\n",
              "      <td>17244.550781</td>\n",
              "      <td>17576.849609</td>\n",
              "      <td>17576.849609</td>\n",
              "      <td>386400</td>\n",
              "      <td>16954.395357</td>\n",
              "    </tr>\n",
              "    <tr>\n",
              "      <th>21</th>\n",
              "      <td>2022-02-02</td>\n",
              "      <td>17706.199219</td>\n",
              "      <td>17794.599609</td>\n",
              "      <td>17674.800781</td>\n",
              "      <td>17780.000000</td>\n",
              "      <td>17780.000000</td>\n",
              "      <td>271200</td>\n",
              "      <td>16954.674419</td>\n",
              "    </tr>\n",
              "    <tr>\n",
              "      <th>22</th>\n",
              "      <td>2022-02-03</td>\n",
              "      <td>17767.750000</td>\n",
              "      <td>17781.150391</td>\n",
              "      <td>17511.150391</td>\n",
              "      <td>17560.199219</td>\n",
              "      <td>17560.199219</td>\n",
              "      <td>226600</td>\n",
              "      <td>16939.753145</td>\n",
              "    </tr>\n",
              "  </tbody>\n",
              "</table>\n",
              "</div>\n",
              "      <button class=\"colab-df-convert\" onclick=\"convertToInteractive('df-969f0564-09dd-4b99-a6ef-3683871c4dee')\"\n",
              "              title=\"Convert this dataframe to an interactive table.\"\n",
              "              style=\"display:none;\">\n",
              "        \n",
              "  <svg xmlns=\"http://www.w3.org/2000/svg\" height=\"24px\"viewBox=\"0 0 24 24\"\n",
              "       width=\"24px\">\n",
              "    <path d=\"M0 0h24v24H0V0z\" fill=\"none\"/>\n",
              "    <path d=\"M18.56 5.44l.94 2.06.94-2.06 2.06-.94-2.06-.94-.94-2.06-.94 2.06-2.06.94zm-11 1L8.5 8.5l.94-2.06 2.06-.94-2.06-.94L8.5 2.5l-.94 2.06-2.06.94zm10 10l.94 2.06.94-2.06 2.06-.94-2.06-.94-.94-2.06-.94 2.06-2.06.94z\"/><path d=\"M17.41 7.96l-1.37-1.37c-.4-.4-.92-.59-1.43-.59-.52 0-1.04.2-1.43.59L10.3 9.45l-7.72 7.72c-.78.78-.78 2.05 0 2.83L4 21.41c.39.39.9.59 1.41.59.51 0 1.02-.2 1.41-.59l7.78-7.78 2.81-2.81c.8-.78.8-2.07 0-2.86zM5.41 20L4 18.59l7.72-7.72 1.47 1.35L5.41 20z\"/>\n",
              "  </svg>\n",
              "      </button>\n",
              "      \n",
              "  <style>\n",
              "    .colab-df-container {\n",
              "      display:flex;\n",
              "      flex-wrap:wrap;\n",
              "      gap: 12px;\n",
              "    }\n",
              "\n",
              "    .colab-df-convert {\n",
              "      background-color: #E8F0FE;\n",
              "      border: none;\n",
              "      border-radius: 50%;\n",
              "      cursor: pointer;\n",
              "      display: none;\n",
              "      fill: #1967D2;\n",
              "      height: 32px;\n",
              "      padding: 0 0 0 0;\n",
              "      width: 32px;\n",
              "    }\n",
              "\n",
              "    .colab-df-convert:hover {\n",
              "      background-color: #E2EBFA;\n",
              "      box-shadow: 0px 1px 2px rgba(60, 64, 67, 0.3), 0px 1px 3px 1px rgba(60, 64, 67, 0.15);\n",
              "      fill: #174EA6;\n",
              "    }\n",
              "\n",
              "    [theme=dark] .colab-df-convert {\n",
              "      background-color: #3B4455;\n",
              "      fill: #D2E3FC;\n",
              "    }\n",
              "\n",
              "    [theme=dark] .colab-df-convert:hover {\n",
              "      background-color: #434B5C;\n",
              "      box-shadow: 0px 1px 3px 1px rgba(0, 0, 0, 0.15);\n",
              "      filter: drop-shadow(0px 1px 2px rgba(0, 0, 0, 0.3));\n",
              "      fill: #FFFFFF;\n",
              "    }\n",
              "  </style>\n",
              "\n",
              "      <script>\n",
              "        const buttonEl =\n",
              "          document.querySelector('#df-969f0564-09dd-4b99-a6ef-3683871c4dee button.colab-df-convert');\n",
              "        buttonEl.style.display =\n",
              "          google.colab.kernel.accessAllowed ? 'block' : 'none';\n",
              "\n",
              "        async function convertToInteractive(key) {\n",
              "          const element = document.querySelector('#df-969f0564-09dd-4b99-a6ef-3683871c4dee');\n",
              "          const dataTable =\n",
              "            await google.colab.kernel.invokeFunction('convertToInteractive',\n",
              "                                                     [key], {});\n",
              "          if (!dataTable) return;\n",
              "\n",
              "          const docLinkHtml = 'Like what you see? Visit the ' +\n",
              "            '<a target=\"_blank\" href=https://colab.research.google.com/notebooks/data_table.ipynb>data table notebook</a>'\n",
              "            + ' to learn more about interactive tables.';\n",
              "          element.innerHTML = '';\n",
              "          dataTable['output_type'] = 'display_data';\n",
              "          await google.colab.output.renderOutput(dataTable, element);\n",
              "          const docLink = document.createElement('div');\n",
              "          docLink.innerHTML = docLinkHtml;\n",
              "          element.appendChild(docLink);\n",
              "        }\n",
              "      </script>\n",
              "    </div>\n",
              "  </div>\n",
              "  "
            ],
            "text/plain": [
              "          Date          Open          High  ...     Adj Close  Volume          pred\n",
              "0   2022-01-03  17387.150391  17646.650391  ...  17625.699219  200500  16970.610130\n",
              "1   2022-01-04  17681.400391  17827.599609  ...  17805.250000  247400  16960.317843\n",
              "2   2022-01-05  17820.099609  17944.699219  ...  17925.250000  251500  16955.056170\n",
              "3   2022-01-06  17768.500000  17797.949219  ...  17745.900391  236500  16952.308662\n",
              "4   2022-01-07  17797.599609  17905.000000  ...  17812.699219  239300  16934.642343\n",
              "5   2022-01-10  17913.300781  18017.449219  ...  18003.300781  232400  16951.087838\n",
              "6   2022-01-11  17997.750000  18081.250000  ...  18055.750000  220200  16937.567856\n",
              "7   2022-01-12  18170.400391  18227.949219  ...  18212.349609  245000  16929.292459\n",
              "8   2022-01-13  18257.000000  18272.250000  ...  18257.800781  303700  16934.402663\n",
              "9   2022-01-14  18185.000000  18286.949219  ...  18255.750000  229500  16932.969077\n",
              "10  2022-01-17  18235.650391  18321.550781  ...  18308.099609  266700  16959.080303\n",
              "11  2022-01-18  18337.199219  18350.949219  ...  18113.050781  227500  16949.145624\n",
              "12  2022-01-19  18129.199219  18129.199219  ...  17938.400391  276700  16955.437172\n",
              "13  2022-01-20  17921.000000  17943.699219  ...  17757.000000  258100  16977.806752\n",
              "14  2022-01-21  17613.699219  17707.599609  ...  17617.150391  277600  16972.456127\n",
              "15  2022-01-24  17575.150391  17599.400391  ...  17149.099609  323800  16986.709927\n",
              "16  2022-01-25  17001.550781  17309.150391  ...  17277.949219  326500  16978.121513\n",
              "17  2022-01-27  17062.000000  17182.500000  ...  17110.150391  395600  16974.724707\n",
              "18  2022-01-28  17208.300781  17373.500000  ...  17101.949219  355300  16966.520963\n",
              "19  2022-01-31  17301.050781  17410.000000  ...  17339.849609  321700  16963.200529\n",
              "20  2022-02-01  17529.449219  17622.400391  ...  17576.849609  386400  16954.395357\n",
              "21  2022-02-02  17706.199219  17794.599609  ...  17780.000000  271200  16954.674419\n",
              "22  2022-02-03  17767.750000  17781.150391  ...  17560.199219  226600  16939.753145\n",
              "\n",
              "[23 rows x 8 columns]"
            ]
          },
          "metadata": {},
          "execution_count": 54
        }
      ]
    },
    {
      "cell_type": "code",
      "source": [
        "final_accuracy=sqrt(mean_squared_log_error(forecasting[\"Close\"], forecasting[\"pred\"]))\n",
        "final_accuracy"
      ],
      "metadata": {
        "colab": {
          "base_uri": "https://localhost:8080/"
        },
        "id": "VcjkYAOh_hSi",
        "outputId": "5a6cfbfe-a6e4-4e57-cb1a-0b9b00297789"
      },
      "execution_count": null,
      "outputs": [
        {
          "output_type": "execute_result",
          "data": {
            "text/plain": [
              "0.05048201418003353"
            ]
          },
          "metadata": {},
          "execution_count": 55
        }
      ]
    },
    {
      "cell_type": "code",
      "source": [
        ""
      ],
      "metadata": {
        "id": "lRPEn7_8-1Gu"
      },
      "execution_count": null,
      "outputs": []
    }
  ]
}