{
 "cells": [
  {
   "cell_type": "code",
   "execution_count": 52,
   "metadata": {},
   "outputs": [],
   "source": [
    "import pandas as pd\n",
    "import os\n",
    "import numpy as np"
   ]
  },
  {
   "cell_type": "code",
   "execution_count": 86,
   "metadata": {},
   "outputs": [
    {
     "data": {
      "text/plain": [
       "'C:\\\\Users\\\\Richard\\\\Downloads'"
      ]
     },
     "execution_count": 86,
     "metadata": {},
     "output_type": "execute_result"
    }
   ],
   "source": [
    "os.getcwd()"
   ]
  },
  {
   "cell_type": "code",
   "execution_count": 87,
   "metadata": {},
   "outputs": [
    {
     "data": {
      "text/html": [
       "<div>\n",
       "<style scoped>\n",
       "    .dataframe tbody tr th:only-of-type {\n",
       "        vertical-align: middle;\n",
       "    }\n",
       "\n",
       "    .dataframe tbody tr th {\n",
       "        vertical-align: top;\n",
       "    }\n",
       "\n",
       "    .dataframe thead th {\n",
       "        text-align: right;\n",
       "    }\n",
       "</style>\n",
       "<table border=\"1\" class=\"dataframe\">\n",
       "  <thead>\n",
       "    <tr style=\"text-align: right;\">\n",
       "      <th></th>\n",
       "      <th>Date</th>\n",
       "      <th>Open</th>\n",
       "      <th>High</th>\n",
       "      <th>Low</th>\n",
       "      <th>Close</th>\n",
       "      <th>Adj Close</th>\n",
       "      <th>Volume</th>\n",
       "    </tr>\n",
       "  </thead>\n",
       "  <tbody>\n",
       "    <tr>\n",
       "      <th>0</th>\n",
       "      <td>2016-01-04</td>\n",
       "      <td>7924.549805</td>\n",
       "      <td>7937.549805</td>\n",
       "      <td>7781.100098</td>\n",
       "      <td>7791.299805</td>\n",
       "      <td>7791.299805</td>\n",
       "      <td>134700.0</td>\n",
       "    </tr>\n",
       "    <tr>\n",
       "      <th>1</th>\n",
       "      <td>2016-01-05</td>\n",
       "      <td>7828.399902</td>\n",
       "      <td>7831.200195</td>\n",
       "      <td>7763.250000</td>\n",
       "      <td>7784.649902</td>\n",
       "      <td>7784.649902</td>\n",
       "      <td>145200.0</td>\n",
       "    </tr>\n",
       "    <tr>\n",
       "      <th>2</th>\n",
       "      <td>2016-01-06</td>\n",
       "      <td>7788.049805</td>\n",
       "      <td>7800.950195</td>\n",
       "      <td>7721.200195</td>\n",
       "      <td>7741.000000</td>\n",
       "      <td>7741.000000</td>\n",
       "      <td>147100.0</td>\n",
       "    </tr>\n",
       "    <tr>\n",
       "      <th>3</th>\n",
       "      <td>2016-01-07</td>\n",
       "      <td>7673.350098</td>\n",
       "      <td>7674.950195</td>\n",
       "      <td>7556.600098</td>\n",
       "      <td>7568.299805</td>\n",
       "      <td>7568.299805</td>\n",
       "      <td>188900.0</td>\n",
       "    </tr>\n",
       "    <tr>\n",
       "      <th>4</th>\n",
       "      <td>2016-01-08</td>\n",
       "      <td>7611.649902</td>\n",
       "      <td>7634.100098</td>\n",
       "      <td>7581.049805</td>\n",
       "      <td>7601.350098</td>\n",
       "      <td>7601.350098</td>\n",
       "      <td>157400.0</td>\n",
       "    </tr>\n",
       "    <tr>\n",
       "      <th>...</th>\n",
       "      <td>...</td>\n",
       "      <td>...</td>\n",
       "      <td>...</td>\n",
       "      <td>...</td>\n",
       "      <td>...</td>\n",
       "      <td>...</td>\n",
       "      <td>...</td>\n",
       "    </tr>\n",
       "    <tr>\n",
       "      <th>1476</th>\n",
       "      <td>2021-12-27</td>\n",
       "      <td>16937.750000</td>\n",
       "      <td>17112.050781</td>\n",
       "      <td>16833.199219</td>\n",
       "      <td>17086.250000</td>\n",
       "      <td>17086.250000</td>\n",
       "      <td>144800.0</td>\n",
       "    </tr>\n",
       "    <tr>\n",
       "      <th>1477</th>\n",
       "      <td>2021-12-28</td>\n",
       "      <td>17177.599609</td>\n",
       "      <td>17250.250000</td>\n",
       "      <td>17161.150391</td>\n",
       "      <td>17233.250000</td>\n",
       "      <td>17233.250000</td>\n",
       "      <td>176000.0</td>\n",
       "    </tr>\n",
       "    <tr>\n",
       "      <th>1478</th>\n",
       "      <td>2021-12-29</td>\n",
       "      <td>17220.099609</td>\n",
       "      <td>17285.949219</td>\n",
       "      <td>17176.650391</td>\n",
       "      <td>17213.599609</td>\n",
       "      <td>17213.599609</td>\n",
       "      <td>161700.0</td>\n",
       "    </tr>\n",
       "    <tr>\n",
       "      <th>1479</th>\n",
       "      <td>2021-12-30</td>\n",
       "      <td>17201.449219</td>\n",
       "      <td>17264.050781</td>\n",
       "      <td>17146.349609</td>\n",
       "      <td>17203.949219</td>\n",
       "      <td>17203.949219</td>\n",
       "      <td>320800.0</td>\n",
       "    </tr>\n",
       "    <tr>\n",
       "      <th>1480</th>\n",
       "      <td>2021-12-31</td>\n",
       "      <td>17244.500000</td>\n",
       "      <td>17400.800781</td>\n",
       "      <td>17238.500000</td>\n",
       "      <td>17354.050781</td>\n",
       "      <td>17354.050781</td>\n",
       "      <td>167000.0</td>\n",
       "    </tr>\n",
       "  </tbody>\n",
       "</table>\n",
       "<p>1481 rows × 7 columns</p>\n",
       "</div>"
      ],
      "text/plain": [
       "            Date          Open          High           Low         Close  \\\n",
       "0     2016-01-04   7924.549805   7937.549805   7781.100098   7791.299805   \n",
       "1     2016-01-05   7828.399902   7831.200195   7763.250000   7784.649902   \n",
       "2     2016-01-06   7788.049805   7800.950195   7721.200195   7741.000000   \n",
       "3     2016-01-07   7673.350098   7674.950195   7556.600098   7568.299805   \n",
       "4     2016-01-08   7611.649902   7634.100098   7581.049805   7601.350098   \n",
       "...          ...           ...           ...           ...           ...   \n",
       "1476  2021-12-27  16937.750000  17112.050781  16833.199219  17086.250000   \n",
       "1477  2021-12-28  17177.599609  17250.250000  17161.150391  17233.250000   \n",
       "1478  2021-12-29  17220.099609  17285.949219  17176.650391  17213.599609   \n",
       "1479  2021-12-30  17201.449219  17264.050781  17146.349609  17203.949219   \n",
       "1480  2021-12-31  17244.500000  17400.800781  17238.500000  17354.050781   \n",
       "\n",
       "         Adj Close    Volume  \n",
       "0      7791.299805  134700.0  \n",
       "1      7784.649902  145200.0  \n",
       "2      7741.000000  147100.0  \n",
       "3      7568.299805  188900.0  \n",
       "4      7601.350098  157400.0  \n",
       "...            ...       ...  \n",
       "1476  17086.250000  144800.0  \n",
       "1477  17233.250000  176000.0  \n",
       "1478  17213.599609  161700.0  \n",
       "1479  17203.949219  320800.0  \n",
       "1480  17354.050781  167000.0  \n",
       "\n",
       "[1481 rows x 7 columns]"
      ]
     },
     "execution_count": 87,
     "metadata": {},
     "output_type": "execute_result"
    }
   ],
   "source": [
    "df=pd.read_csv('NSE Training Data - 1st Jan 2016 to 1st Jan 2022.csv')\n",
    "df"
   ]
  },
  {
   "cell_type": "code",
   "execution_count": 88,
   "metadata": {},
   "outputs": [
    {
     "data": {
      "text/plain": [
       "(1481, 7)"
      ]
     },
     "execution_count": 88,
     "metadata": {},
     "output_type": "execute_result"
    }
   ],
   "source": [
    "df.shape"
   ]
  },
  {
   "cell_type": "code",
   "execution_count": 92,
   "metadata": {},
   "outputs": [
    {
     "data": {
      "text/plain": [
       "Date         0\n",
       "Open         0\n",
       "High         0\n",
       "Low          0\n",
       "Close        0\n",
       "Adj Close    0\n",
       "Volume       0\n",
       "dtype: int64"
      ]
     },
     "execution_count": 92,
     "metadata": {},
     "output_type": "execute_result"
    }
   ],
   "source": [
    "df.isnull().sum()\n"
   ]
  },
  {
   "cell_type": "code",
   "execution_count": 91,
   "metadata": {},
   "outputs": [],
   "source": [
    "df.dropna(how = 'any', inplace = True)"
   ]
  },
  {
   "cell_type": "code",
   "execution_count": 93,
   "metadata": {},
   "outputs": [
    {
     "data": {
      "text/plain": [
       "0        7791.299805\n",
       "1        7784.649902\n",
       "2        7741.000000\n",
       "3        7568.299805\n",
       "4        7601.350098\n",
       "            ...     \n",
       "1470    17086.250000\n",
       "1471    17233.250000\n",
       "1472    17213.599609\n",
       "1473    17203.949219\n",
       "1474    17354.050781\n",
       "Name: Close, Length: 1475, dtype: float64"
      ]
     },
     "execution_count": 93,
     "metadata": {},
     "output_type": "execute_result"
    }
   ],
   "source": [
    "df1=df.reset_index()['Close']\n",
    "df1"
   ]
  },
  {
   "cell_type": "code",
   "execution_count": 95,
   "metadata": {},
   "outputs": [
    {
     "data": {
      "image/png": "[encoded data removed]",
      "text/plain": [
       "<Figure size 720x576 with 1 Axes>"
      ]
     },
     "metadata": {
      "needs_background": "light"
     },
     "output_type": "display_data"
    }
   ],
   "source": [
    "import matplotlib.pyplot as plt\n",
    "plt.figure(figsize = (10,8))\n",
    "plt.plot(df1.index.values, df['Close'])\n",
    "plt.title(\"Time Series Plot\")\n",
    "plt.xlabel(\"Days\")\n",
    "plt.ylabel(\" Close\")\n",
    "plt.show()"
   ]
  },
  {
   "cell_type": "code",
   "execution_count": null,
   "metadata": {},
   "outputs": [],
   "source": [
    "### LSTM are sensitive to the scale of the data. so we apply MinMax scaler "
   ]
  },
  {
   "cell_type": "code",
   "execution_count": 96,
   "metadata": {},
   "outputs": [],
   "source": [
    "from sklearn.preprocessing import MinMaxScaler\n",
    "scaler=MinMaxScaler(feature_range=(0,1))\n",
    "df1=scaler.fit_transform(np.array(df1).reshape(-1,1))"
   ]
  },
  {
   "cell_type": "code",
   "execution_count": 97,
   "metadata": {},
   "outputs": [
    {
     "name": "stdout",
     "output_type": "stream",
     "text": [
      "[[0.07132518]\n",
      " [0.07074726]\n",
      " [0.06695374]\n",
      " ...\n",
      " [0.89019627]\n",
      " [0.88935758]\n",
      " [0.90240257]]\n"
     ]
    }
   ],
   "source": [
    "print(df1)"
   ]
  },
  {
   "cell_type": "code",
   "execution_count": 98,
   "metadata": {},
   "outputs": [],
   "source": [
    "##splitting dataset into train and test split\n",
    "training_size=int(len(df1)*0.65)\n",
    "test_size=len(df1)-training_size\n",
    "train_data,test_data=df1[0:training_size,:],df1[training_size:len(df1),:1]"
   ]
  },
  {
   "cell_type": "code",
   "execution_count": 99,
   "metadata": {},
   "outputs": [
    {
     "data": {
      "text/plain": [
       "(958, 517)"
      ]
     },
     "execution_count": 99,
     "metadata": {},
     "output_type": "execute_result"
    }
   ],
   "source": [
    "training_size,test_size"
   ]
  },
  {
   "cell_type": "code",
   "execution_count": 100,
   "metadata": {},
   "outputs": [],
   "source": [
    "import numpy\n",
    "# convert an array of values into a dataset matrix\n",
    "def create_dataset(dataset, time_step=1):\n",
    "\tdataX, dataY = [], []\n",
    "\tfor i in range(len(dataset)-time_step-1):\n",
    "\t\ta = dataset[i:(i+time_step), 0]   ###i=0, 0,1,2,3-----99   100 \n",
    "\t\tdataX.append(a)\n",
    "\t\tdataY.append(dataset[i + time_step, 0])\n",
    "\treturn numpy.array(dataX), numpy.array(dataY)"
   ]
  },
  {
   "cell_type": "code",
   "execution_count": 101,
   "metadata": {},
   "outputs": [],
   "source": [
    "# reshape into X=t,t+1,t+2,t+3 and Y=t+4\n",
    "time_step = 100\n",
    "X_train, y_train = create_dataset(train_data, time_step)\n",
    "X_test, ytest = create_dataset(test_data, time_step)"
   ]
  },
  {
   "cell_type": "code",
   "execution_count": 102,
   "metadata": {},
   "outputs": [
    {
     "name": "stdout",
     "output_type": "stream",
     "text": [
      "(857, 100)\n",
      "(857,)\n"
     ]
    },
    {
     "data": {
      "text/plain": [
       "(None, None)"
      ]
     },
     "execution_count": 102,
     "metadata": {},
     "output_type": "execute_result"
    }
   ],
   "source": [
    "print(X_train.shape), print(y_train.shape)"
   ]
  },
  {
   "cell_type": "code",
   "execution_count": 103,
   "metadata": {},
   "outputs": [
    {
     "name": "stdout",
     "output_type": "stream",
     "text": [
      "(416, 100)\n",
      "(416,)\n"
     ]
    },
    {
     "data": {
      "text/plain": [
       "(None, None)"
      ]
     },
     "execution_count": 103,
     "metadata": {},
     "output_type": "execute_result"
    }
   ],
   "source": [
    "print(X_test.shape), print(ytest.shape)"
   ]
  },
  {
   "cell_type": "code",
   "execution_count": 104,
   "metadata": {},
   "outputs": [],
   "source": [
    "# reshape input to be [samples, time steps, features] which is required for LSTM\n",
    "X_train =X_train.reshape(X_train.shape[0],X_train.shape[1] , 1)\n",
    "X_test = X_test.reshape(X_test.shape[0],X_test.shape[1] , 1)"
   ]
  },
  {
   "cell_type": "code",
   "execution_count": 105,
   "metadata": {},
   "outputs": [],
   "source": [
    "### Create the Stacked LSTM model\n",
    "from tensorflow.keras.models import Sequential\n",
    "from tensorflow.keras.layers import Dense\n",
    "from tensorflow.keras.layers import LSTM"
   ]
  },
  {
   "cell_type": "code",
   "execution_count": 106,
   "metadata": {},
   "outputs": [],
   "source": [
    "model=Sequential()\n",
    "model.add(LSTM(50,return_sequences=True,input_shape=(100,1)))\n",
    "model.add(LSTM(50,return_sequences=True))\n",
    "model.add(LSTM(50))\n",
    "model.add(Dense(1))\n",
    "model.compile(loss='mean_squared_error',optimizer='adam')"
   ]
  },
  {
   "cell_type": "code",
   "execution_count": 107,
   "metadata": {},
   "outputs": [
    {
     "name": "stdout",
     "output_type": "stream",
     "text": [
      "Model: \"sequential_1\"\n",
      "_________________________________________________________________\n",
      "Layer (type)                 Output Shape              Param #   \n",
      "=================================================================\n",
      "lstm_3 (LSTM)                (None, 100, 50)           10400     \n",
      "_________________________________________________________________\n",
      "lstm_4 (LSTM)                (None, 100, 50)           20200     \n",
      "_________________________________________________________________\n",
      "lstm_5 (LSTM)                (None, 50)                20200     \n",
      "_________________________________________________________________\n",
      "dense_1 (Dense)              (None, 1)                 51        \n",
      "=================================================================\n",
      "Total params: 50,851\n",
      "Trainable params: 50,851\n",
      "Non-trainable params: 0\n",
      "_________________________________________________________________\n"
     ]
    }
   ],
   "source": [
    "model.summary()"
   ]
  },
  {
   "cell_type": "code",
   "execution_count": 108,
   "metadata": {},
   "outputs": [
    {
     "name": "stdout",
     "output_type": "stream",
     "text": [
      "Epoch 1/100\n",
      "14/14 [==============================] - 19s 595ms/step - loss: 0.0127 - val_loss: 0.0639\n",
      "Epoch 2/100\n",
      "14/14 [==============================] - 5s 381ms/step - loss: 0.0022 - val_loss: 0.0410\n",
      "Epoch 3/100\n",
      "14/14 [==============================] - 5s 386ms/step - loss: 0.0014 - val_loss: 0.0176\n",
      "Epoch 4/100\n",
      "14/14 [==============================] - 5s 381ms/step - loss: 6.2243e-04 - val_loss: 0.0075\n",
      "Epoch 5/100\n",
      "14/14 [==============================] - 5s 377ms/step - loss: 4.4376e-04 - val_loss: 0.0046\n",
      "Epoch 6/100\n",
      "14/14 [==============================] - 5s 389ms/step - loss: 4.1206e-04 - val_loss: 0.0052\n",
      "Epoch 7/100\n",
      "14/14 [==============================] - 5s 386ms/step - loss: 4.0654e-04 - val_loss: 0.0046\n",
      "Epoch 8/100\n",
      "14/14 [==============================] - 5s 377ms/step - loss: 3.9471e-04 - val_loss: 0.0048\n",
      "Epoch 9/100\n",
      "14/14 [==============================] - 5s 388ms/step - loss: 3.9944e-04 - val_loss: 0.0036\n",
      "Epoch 10/100\n",
      "14/14 [==============================] - 5s 383ms/step - loss: 3.9786e-04 - val_loss: 0.0038\n",
      "Epoch 11/100\n",
      "14/14 [==============================] - 5s 380ms/step - loss: 3.8585e-04 - val_loss: 0.0038\n",
      "Epoch 12/100\n",
      "14/14 [==============================] - 5s 383ms/step - loss: 4.1713e-04 - val_loss: 0.0051\n",
      "Epoch 13/100\n",
      "14/14 [==============================] - 5s 388ms/step - loss: 3.9677e-04 - val_loss: 0.0023\n",
      "Epoch 14/100\n",
      "14/14 [==============================] - 5s 379ms/step - loss: 3.8751e-04 - val_loss: 0.0032\n",
      "Epoch 15/100\n",
      "14/14 [==============================] - 5s 374ms/step - loss: 3.5998e-04 - val_loss: 0.0026\n",
      "Epoch 16/100\n",
      "14/14 [==============================] - 5s 382ms/step - loss: 3.5098e-04 - val_loss: 0.0021\n",
      "Epoch 17/100\n",
      "14/14 [==============================] - 5s 371ms/step - loss: 3.5408e-04 - val_loss: 0.0029\n",
      "Epoch 18/100\n",
      "14/14 [==============================] - 5s 379ms/step - loss: 3.4179e-04 - val_loss: 0.0025\n",
      "Epoch 19/100\n",
      "14/14 [==============================] - 5s 379ms/step - loss: 3.5806e-04 - val_loss: 0.0033\n",
      "Epoch 20/100\n",
      "14/14 [==============================] - 5s 385ms/step - loss: 3.5567e-04 - val_loss: 0.0038\n",
      "Epoch 21/100\n",
      "14/14 [==============================] - 5s 380ms/step - loss: 3.6861e-04 - val_loss: 0.0014\n",
      "Epoch 22/100\n",
      "14/14 [==============================] - 5s 376ms/step - loss: 3.6304e-04 - val_loss: 0.0026\n",
      "Epoch 23/100\n",
      "14/14 [==============================] - 5s 383ms/step - loss: 3.3757e-04 - val_loss: 0.0035\n",
      "Epoch 24/100\n",
      "14/14 [==============================] - 5s 382ms/step - loss: 3.3200e-04 - val_loss: 0.0018\n",
      "Epoch 25/100\n",
      "14/14 [==============================] - 5s 380ms/step - loss: 3.2658e-04 - val_loss: 0.0011\n",
      "Epoch 26/100\n",
      "14/14 [==============================] - 5s 386ms/step - loss: 3.2714e-04 - val_loss: 0.0022\n",
      "Epoch 27/100\n",
      "14/14 [==============================] - 5s 381ms/step - loss: 2.9577e-04 - val_loss: 0.0023\n",
      "Epoch 28/100\n",
      "14/14 [==============================] - 5s 376ms/step - loss: 2.9197e-04 - val_loss: 0.0021\n",
      "Epoch 29/100\n",
      "14/14 [==============================] - 5s 377ms/step - loss: 2.8147e-04 - val_loss: 0.0022\n",
      "Epoch 30/100\n",
      "14/14 [==============================] - 5s 388ms/step - loss: 2.9882e-04 - val_loss: 0.0034\n",
      "Epoch 31/100\n",
      "14/14 [==============================] - 5s 377ms/step - loss: 2.7120e-04 - val_loss: 0.0021\n",
      "Epoch 32/100\n",
      "14/14 [==============================] - 5s 372ms/step - loss: 2.5720e-04 - val_loss: 0.0023\n",
      "Epoch 33/100\n",
      "14/14 [==============================] - 5s 372ms/step - loss: 2.7631e-04 - val_loss: 0.0041\n",
      "Epoch 34/100\n",
      "14/14 [==============================] - 5s 374ms/step - loss: 2.6245e-04 - val_loss: 0.0026\n",
      "Epoch 35/100\n",
      "14/14 [==============================] - 5s 378ms/step - loss: 2.4834e-04 - val_loss: 0.0025\n",
      "Epoch 36/100\n",
      "14/14 [==============================] - 5s 379ms/step - loss: 2.6063e-04 - val_loss: 0.0043\n",
      "Epoch 37/100\n",
      "14/14 [==============================] - 5s 377ms/step - loss: 2.5225e-04 - val_loss: 0.0030\n",
      "Epoch 38/100\n",
      "14/14 [==============================] - 5s 372ms/step - loss: 2.5459e-04 - val_loss: 0.0039\n",
      "Epoch 39/100\n",
      "14/14 [==============================] - 5s 382ms/step - loss: 2.4807e-04 - val_loss: 0.0042\n",
      "Epoch 40/100\n",
      "14/14 [==============================] - 5s 377ms/step - loss: 2.6097e-04 - val_loss: 0.0016\n",
      "Epoch 41/100\n",
      "14/14 [==============================] - 5s 378ms/step - loss: 2.5968e-04 - val_loss: 0.0029\n",
      "Epoch 42/100\n",
      "14/14 [==============================] - 5s 378ms/step - loss: 2.4487e-04 - val_loss: 0.0051\n",
      "Epoch 43/100\n",
      "14/14 [==============================] - 5s 370ms/step - loss: 2.4188e-04 - val_loss: 0.0048\n",
      "Epoch 44/100\n",
      "14/14 [==============================] - 5s 382ms/step - loss: 2.3085e-04 - val_loss: 0.0050\n",
      "Epoch 45/100\n",
      "14/14 [==============================] - 5s 384ms/step - loss: 2.7745e-04 - val_loss: 0.0032\n",
      "Epoch 46/100\n",
      "14/14 [==============================] - 5s 390ms/step - loss: 2.3578e-04 - val_loss: 0.0029\n",
      "Epoch 47/100\n",
      "14/14 [==============================] - 6s 401ms/step - loss: 2.3418e-04 - val_loss: 0.0032\n",
      "Epoch 48/100\n",
      "14/14 [==============================] - 6s 411ms/step - loss: 2.2619e-04 - val_loss: 0.0025\n",
      "Epoch 49/100\n",
      "14/14 [==============================] - 5s 396ms/step - loss: 2.3532e-04 - val_loss: 0.0036\n",
      "Epoch 50/100\n",
      "14/14 [==============================] - 5s 394ms/step - loss: 2.2041e-04 - val_loss: 0.0039\n",
      "Epoch 51/100\n",
      "14/14 [==============================] - 5s 378ms/step - loss: 2.1937e-04 - val_loss: 0.0041\n",
      "Epoch 52/100\n",
      "14/14 [==============================] - 5s 385ms/step - loss: 2.1426e-04 - val_loss: 0.0059\n",
      "Epoch 53/100\n",
      "14/14 [==============================] - 5s 387ms/step - loss: 2.2117e-04 - val_loss: 0.0027\n",
      "Epoch 54/100\n",
      "14/14 [==============================] - 5s 368ms/step - loss: 2.2355e-04 - val_loss: 0.0039\n",
      "Epoch 55/100\n",
      "14/14 [==============================] - 5s 382ms/step - loss: 2.2346e-04 - val_loss: 0.0055\n",
      "Epoch 56/100\n",
      "14/14 [==============================] - 5s 372ms/step - loss: 2.0895e-04 - val_loss: 0.0050\n",
      "Epoch 57/100\n",
      "14/14 [==============================] - 5s 388ms/step - loss: 2.1298e-04 - val_loss: 0.0054\n",
      "Epoch 58/100\n",
      "14/14 [==============================] - 5s 375ms/step - loss: 2.1509e-04 - val_loss: 0.0032\n",
      "Epoch 59/100\n",
      "14/14 [==============================] - 5s 376ms/step - loss: 2.1620e-04 - val_loss: 0.0037\n",
      "Epoch 60/100\n",
      "14/14 [==============================] - 5s 377ms/step - loss: 2.1050e-04 - val_loss: 0.0050\n",
      "Epoch 61/100\n",
      "14/14 [==============================] - 5s 371ms/step - loss: 2.3302e-04 - val_loss: 0.0071\n",
      "Epoch 62/100\n",
      "14/14 [==============================] - 5s 373ms/step - loss: 2.6517e-04 - val_loss: 0.0040\n",
      "Epoch 63/100\n",
      "14/14 [==============================] - 5s 372ms/step - loss: 2.2269e-04 - val_loss: 0.0024\n",
      "Epoch 64/100\n",
      "14/14 [==============================] - 5s 368ms/step - loss: 2.1058e-04 - val_loss: 0.0029\n",
      "Epoch 65/100\n",
      "14/14 [==============================] - 5s 372ms/step - loss: 1.9057e-04 - val_loss: 0.0052\n",
      "Epoch 66/100\n",
      "14/14 [==============================] - 5s 389ms/step - loss: 1.9189e-04 - val_loss: 0.0043\n",
      "Epoch 67/100\n",
      "14/14 [==============================] - 5s 371ms/step - loss: 2.0364e-04 - val_loss: 0.0049\n",
      "Epoch 68/100\n",
      "14/14 [==============================] - 3s 236ms/step - loss: 1.9675e-04 - val_loss: 0.0027\n",
      "Epoch 69/100\n",
      "14/14 [==============================] - 4s 274ms/step - loss: 1.9659e-04 - val_loss: 0.0035\n",
      "Epoch 70/100\n",
      "14/14 [==============================] - 5s 388ms/step - loss: 1.9715e-04 - val_loss: 0.0025\n",
      "Epoch 71/100\n",
      "14/14 [==============================] - 5s 390ms/step - loss: 1.9381e-04 - val_loss: 0.0042\n",
      "Epoch 72/100\n",
      "14/14 [==============================] - 5s 381ms/step - loss: 1.9154e-04 - val_loss: 0.0040\n",
      "Epoch 73/100\n",
      "14/14 [==============================] - 5s 373ms/step - loss: 1.9987e-04 - val_loss: 0.0031\n",
      "Epoch 74/100\n",
      "14/14 [==============================] - 5s 384ms/step - loss: 1.8952e-04 - val_loss: 0.0034\n",
      "Epoch 75/100\n",
      "14/14 [==============================] - 5s 374ms/step - loss: 1.8879e-04 - val_loss: 0.0042\n",
      "Epoch 76/100\n",
      "14/14 [==============================] - 5s 378ms/step - loss: 1.9243e-04 - val_loss: 0.0048\n",
      "Epoch 77/100\n",
      "14/14 [==============================] - 5s 373ms/step - loss: 1.9214e-04 - val_loss: 0.0049\n",
      "Epoch 78/100\n"
     ]
    },
    {
     "name": "stdout",
     "output_type": "stream",
     "text": [
      "14/14 [==============================] - 5s 384ms/step - loss: 2.0336e-04 - val_loss: 0.0034\n",
      "Epoch 79/100\n",
      "14/14 [==============================] - 5s 376ms/step - loss: 2.2172e-04 - val_loss: 0.0040\n",
      "Epoch 80/100\n",
      "14/14 [==============================] - 5s 374ms/step - loss: 1.8760e-04 - val_loss: 0.0035\n",
      "Epoch 81/100\n",
      "14/14 [==============================] - 5s 379ms/step - loss: 1.8069e-04 - val_loss: 0.0037\n",
      "Epoch 82/100\n",
      "14/14 [==============================] - 5s 385ms/step - loss: 1.8807e-04 - val_loss: 0.0026\n",
      "Epoch 83/100\n",
      "14/14 [==============================] - 5s 378ms/step - loss: 1.8432e-04 - val_loss: 0.0026\n",
      "Epoch 84/100\n",
      "14/14 [==============================] - 5s 389ms/step - loss: 1.7460e-04 - val_loss: 0.0042\n",
      "Epoch 85/100\n",
      "14/14 [==============================] - 5s 378ms/step - loss: 1.8311e-04 - val_loss: 0.0053\n",
      "Epoch 86/100\n",
      "14/14 [==============================] - 5s 381ms/step - loss: 1.7455e-04 - val_loss: 0.0028\n",
      "Epoch 87/100\n",
      "14/14 [==============================] - 5s 380ms/step - loss: 1.6946e-04 - val_loss: 0.0029\n",
      "Epoch 88/100\n",
      "14/14 [==============================] - 5s 377ms/step - loss: 1.8966e-04 - val_loss: 0.0018\n",
      "Epoch 89/100\n",
      "14/14 [==============================] - 5s 391ms/step - loss: 2.1370e-04 - val_loss: 0.0046\n",
      "Epoch 90/100\n",
      "14/14 [==============================] - 5s 369ms/step - loss: 1.7958e-04 - val_loss: 0.0039\n",
      "Epoch 91/100\n",
      "14/14 [==============================] - 5s 390ms/step - loss: 1.7058e-04 - val_loss: 0.0018\n",
      "Epoch 92/100\n",
      "14/14 [==============================] - 5s 388ms/step - loss: 1.7172e-04 - val_loss: 0.0022\n",
      "Epoch 93/100\n",
      "14/14 [==============================] - 6s 395ms/step - loss: 2.0583e-04 - val_loss: 0.0016\n",
      "Epoch 94/100\n",
      "14/14 [==============================] - 6s 415ms/step - loss: 1.8688e-04 - val_loss: 0.0024\n",
      "Epoch 95/100\n",
      "14/14 [==============================] - 6s 402ms/step - loss: 1.6229e-04 - val_loss: 0.0022\n",
      "Epoch 96/100\n",
      "14/14 [==============================] - 6s 412ms/step - loss: 1.7803e-04 - val_loss: 0.0015\n",
      "Epoch 97/100\n",
      "14/14 [==============================] - 6s 408ms/step - loss: 1.6795e-04 - val_loss: 0.0034\n",
      "Epoch 98/100\n",
      "14/14 [==============================] - 6s 420ms/step - loss: 1.7494e-04 - val_loss: 0.0035\n",
      "Epoch 99/100\n",
      "14/14 [==============================] - 5s 393ms/step - loss: 1.6073e-04 - val_loss: 0.0027\n",
      "Epoch 100/100\n",
      "14/14 [==============================] - 6s 394ms/step - loss: 1.5778e-04 - val_loss: 0.0027\n"
     ]
    },
    {
     "data": {
      "text/plain": [
       "<keras.callbacks.History at 0x263f0f9b280>"
      ]
     },
     "execution_count": 108,
     "metadata": {},
     "output_type": "execute_result"
    }
   ],
   "source": [
    "model.fit(X_train,y_train,validation_data=(X_test,ytest),epochs=100,batch_size=64,verbose=1)"
   ]
  },
  {
   "cell_type": "code",
   "execution_count": 109,
   "metadata": {},
   "outputs": [],
   "source": [
    "import tensorflow as tf"
   ]
  },
  {
   "cell_type": "code",
   "execution_count": 113,
   "metadata": {},
   "outputs": [],
   "source": [
    "### Lets Do the prediction and check performance metrics\n",
    "train_predict=model.predict(X_train)\n",
    "test_predict=model.predict(X_test)"
   ]
  },
  {
   "cell_type": "code",
   "execution_count": 111,
   "metadata": {},
   "outputs": [],
   "source": [
    "##Transformback to original form\n",
    "train_predict=scaler.inverse_transform(train_predict)\n",
    "test_predict=scaler.inverse_transform(test_predict)"
   ]
  },
  {
   "cell_type": "code",
   "execution_count": 114,
   "metadata": {},
   "outputs": [
    {
     "data": {
      "text/plain": [
       "0.012281896291019667"
      ]
     },
     "execution_count": 114,
     "metadata": {},
     "output_type": "execute_result"
    }
   ],
   "source": [
    "### Calculate RMSE performance metrics\n",
    "import math\n",
    "from sklearn.metrics import mean_squared_error\n",
    "math.sqrt(mean_squared_error(y_train,train_predict))"
   ]
  },
  {
   "cell_type": "code",
   "execution_count": 115,
   "metadata": {},
   "outputs": [
    {
     "data": {
      "text/plain": [
       "0.0516818244784449"
      ]
     },
     "execution_count": 115,
     "metadata": {},
     "output_type": "execute_result"
    }
   ],
   "source": [
    "### Test Data RMSE\n",
    "math.sqrt(mean_squared_error(ytest,test_predict))"
   ]
  },
  {
   "cell_type": "code",
   "execution_count": 116,
   "metadata": {},
   "outputs": [
    {
     "data": {
      "text/plain": [
       "517"
      ]
     },
     "execution_count": 116,
     "metadata": {},
     "output_type": "execute_result"
    }
   ],
   "source": [
    "len(test_data)"
   ]
  },
  {
   "cell_type": "code",
   "execution_count": 121,
   "metadata": {},
   "outputs": [
    {
     "data": {
      "text/plain": [
       "(1, 100)"
      ]
     },
     "execution_count": 121,
     "metadata": {},
     "output_type": "execute_result"
    }
   ],
   "source": [
    "x_input=test_data[417:].reshape(1,-1)\n",
    "x_input.shape\n"
   ]
  },
  {
   "cell_type": "code",
   "execution_count": 122,
   "metadata": {},
   "outputs": [],
   "source": [
    "temp_input=list(x_input)\n",
    "temp_input=temp_input[0].tolist()"
   ]
  },
  {
   "cell_type": "code",
   "execution_count": 123,
   "metadata": {},
   "outputs": [
    {
     "data": {
      "text/plain": [
       "[0.8071689661627691,\n",
       " 0.809067867014296,\n",
       " 0.8092547527064388,\n",
       " 0.8163942602108137,\n",
       " 0.8307079024048688,\n",
       " 0.8336585231423445,\n",
       " 0.8381385169666918,\n",
       " 0.8341624863678218,\n",
       " 0.8238769854552898,\n",
       " 0.8278703297337199,\n",
       " 0.8390075946932211,\n",
       " 0.8398810857702607,\n",
       " 0.8400766282587299,\n",
       " 0.8460123272750134,\n",
       " 0.8656405834786126,\n",
       " 0.8831219461978027,\n",
       " 0.8782595241928434,\n",
       " 0.8919822954756759,\n",
       " 0.8997561277776,\n",
       " 0.9044666309112969,\n",
       " 0.9031020770247365,\n",
       " 0.9023547041608607,\n",
       " 0.903723501580144,\n",
       " 0.9025112060266066,\n",
       " 0.9046577601361626,\n",
       " 0.9167769811576393,\n",
       " 0.926341249413062,\n",
       " 0.9224869236768446,\n",
       " 0.9061265354749358,\n",
       " 0.920474974758991,\n",
       " 0.919140974429708,\n",
       " 0.9431534901577953,\n",
       " 0.9457824502805455,\n",
       " 0.9459476089426176,\n",
       " 0.9366919311550835,\n",
       " 0.9334503730910398,\n",
       " 0.9253548801743904,\n",
       " 0.917872154843007,\n",
       " 0.9317078043743786,\n",
       " 0.9430971358555121,\n",
       " 0.9277752276618348,\n",
       " 0.9403203306633422,\n",
       " 0.9494325767319675,\n",
       " 0.9538431461941023,\n",
       " 0.9578409037361358,\n",
       " 0.9725979114075692,\n",
       " 0.9879632734875731,\n",
       " 1.0,\n",
       " 0.9949332089793653,\n",
       " 0.9817101573892871,\n",
       " 0.9740188195095051,\n",
       " 0.9685263162397199,\n",
       " 0.9694388478525754,\n",
       " 0.9818666593419404,\n",
       " 0.9768737059471214,\n",
       " 0.9461344946347604,\n",
       " 0.9300044460113207,\n",
       " 0.9524266513557696,\n",
       " 0.9488894031528868,\n",
       " 0.9436966637368759,\n",
       " 0.9513099203712113,\n",
       " 0.9644981748712894,\n",
       " 0.9623862481208533,\n",
       " 0.9600353249956216,\n",
       " 0.9475554027366963,\n",
       " 0.9674703528210481,\n",
       " 0.9680525670228518,\n",
       " 0.9584709850878693,\n",
       " 0.9497325104035296,\n",
       " 0.9380999389279702,\n",
       " 0.9078343071015967,\n",
       " 0.9153777999119591,\n",
       " 0.9077039454426176,\n",
       " 0.9182370996131787,\n",
       " 0.8739314492397584,\n",
       " 0.8763214129877132,\n",
       " 0.8701726880725204,\n",
       " 0.8861377477647682,\n",
       " 0.906539347395037,\n",
       " 0.8887274975339151,\n",
       " 0.8640066494777675,\n",
       " 0.8869893420808569,\n",
       " 0.9124577327317606,\n",
       " 0.9165510548427732,\n",
       " 0.9160688185604594,\n",
       " 0.903636593807491,\n",
       " 0.8998691758439267,\n",
       " 0.8908742213743513,\n",
       " 0.8932207312359798,\n",
       " 0.8703465036178261,\n",
       " 0.8381037199635993,\n",
       " 0.8517178564437079,\n",
       " 0.8677609973814023,\n",
       " 0.8779422768417214,\n",
       " 0.8719587106755081,\n",
       " 0.8791286019193726,\n",
       " 0.8919040444993492,\n",
       " 0.8901962727857805,\n",
       " 0.8893575788856486,\n",
       " 0.9024025713107905]"
      ]
     },
     "execution_count": 123,
     "metadata": {},
     "output_type": "execute_result"
    }
   ],
   "source": [
    "temp_input"
   ]
  },
  {
   "cell_type": "code",
   "execution_count": 125,
   "metadata": {},
   "outputs": [
    {
     "name": "stdout",
     "output_type": "stream",
     "text": [
      "0 day input [0.91914097 0.94315349 0.94578245 0.94594761 0.93669193 0.93345037\n",
      " 0.92535488 0.91787215 0.9317078  0.94309714 0.92777523 0.94032033\n",
      " 0.94943258 0.95384315 0.9578409  0.97259791 0.98796327 1.\n",
      " 0.99493321 0.98171016 0.97401882 0.96852632 0.96943885 0.98186666\n",
      " 0.97687371 0.94613449 0.93000445 0.95242665 0.9488894  0.94369666\n",
      " 0.95130992 0.96449817 0.96238625 0.96003532 0.9475554  0.96747035\n",
      " 0.96805257 0.95847099 0.94973251 0.93809994 0.90783431 0.9153778\n",
      " 0.90770395 0.9182371  0.87393145 0.87632141 0.87017269 0.88613775\n",
      " 0.90653935 0.8887275  0.86400665 0.88698934 0.91245773 0.91655105\n",
      " 0.91606882 0.90363659 0.89986918 0.89087422 0.89322073 0.8703465\n",
      " 0.83810372 0.85171786 0.867761   0.87794228 0.87195871 0.8791286\n",
      " 0.89190404 0.89019627 0.88935758 0.90240257 0.81690681 0.81029022\n",
      " 0.79221869 0.76711345 0.73817742 0.70734459 0.67573905 0.64407277\n",
      " 0.61287028 0.58256328 0.55351722 0.52603149 0.50033581 0.47658861\n",
      " 0.45488128 0.43524435 0.4176572  0.40205669 0.38834703 0.37640896\n",
      " 0.36610752 0.357299   0.34983698 0.34357679 0.33837926 0.33411312\n",
      " 0.33065644 0.32789782 0.32573664 0.32408267]\n",
      "0 day output [[0.32285652]]\n",
      "1 day input [0.94315349 0.94578245 0.94594761 0.93669193 0.93345037 0.92535488\n",
      " 0.91787215 0.9317078  0.94309714 0.92777523 0.94032033 0.94943258\n",
      " 0.95384315 0.9578409  0.97259791 0.98796327 1.         0.99493321\n",
      " 0.98171016 0.97401882 0.96852632 0.96943885 0.98186666 0.97687371\n",
      " 0.94613449 0.93000445 0.95242665 0.9488894  0.94369666 0.95130992\n",
      " 0.96449817 0.96238625 0.96003532 0.9475554  0.96747035 0.96805257\n",
      " 0.95847099 0.94973251 0.93809994 0.90783431 0.9153778  0.90770395\n",
      " 0.9182371  0.87393145 0.87632141 0.87017269 0.88613775 0.90653935\n",
      " 0.8887275  0.86400665 0.88698934 0.91245773 0.91655105 0.91606882\n",
      " 0.90363659 0.89986918 0.89087422 0.89322073 0.8703465  0.83810372\n",
      " 0.85171786 0.867761   0.87794228 0.87195871 0.8791286  0.89190404\n",
      " 0.89019627 0.88935758 0.90240257 0.81690681 0.81029022 0.79221869\n",
      " 0.76711345 0.73817742 0.70734459 0.67573905 0.64407277 0.61287028\n",
      " 0.58256328 0.55351722 0.52603149 0.50033581 0.47658861 0.45488128\n",
      " 0.43524435 0.4176572  0.40205669 0.38834703 0.37640896 0.36610752\n",
      " 0.357299   0.34983698 0.34357679 0.33837926 0.33411312 0.33065644\n",
      " 0.32789782 0.32573664 0.32408267 0.32285652]\n",
      "1 day output [[0.321988]]\n",
      "2 day input [0.94578245 0.94594761 0.93669193 0.93345037 0.92535488 0.91787215\n",
      " 0.9317078  0.94309714 0.92777523 0.94032033 0.94943258 0.95384315\n",
      " 0.9578409  0.97259791 0.98796327 1.         0.99493321 0.98171016\n",
      " 0.97401882 0.96852632 0.96943885 0.98186666 0.97687371 0.94613449\n",
      " 0.93000445 0.95242665 0.9488894  0.94369666 0.95130992 0.96449817\n",
      " 0.96238625 0.96003532 0.9475554  0.96747035 0.96805257 0.95847099\n",
      " 0.94973251 0.93809994 0.90783431 0.9153778  0.90770395 0.9182371\n",
      " 0.87393145 0.87632141 0.87017269 0.88613775 0.90653935 0.8887275\n",
      " 0.86400665 0.88698934 0.91245773 0.91655105 0.91606882 0.90363659\n",
      " 0.89986918 0.89087422 0.89322073 0.8703465  0.83810372 0.85171786\n",
      " 0.867761   0.87794228 0.87195871 0.8791286  0.89190404 0.89019627\n",
      " 0.88935758 0.90240257 0.81690681 0.81029022 0.79221869 0.76711345\n",
      " 0.73817742 0.70734459 0.67573905 0.64407277 0.61287028 0.58256328\n",
      " 0.55351722 0.52603149 0.50033581 0.47658861 0.45488128 0.43524435\n",
      " 0.4176572  0.40205669 0.38834703 0.37640896 0.36610752 0.357299\n",
      " 0.34983698 0.34357679 0.33837926 0.33411312 0.33065644 0.32789782\n",
      " 0.32573664 0.32408267 0.32285652 0.32198799]\n",
      "2 day output [[0.32141647]]\n",
      "3 day input [0.94594761 0.93669193 0.93345037 0.92535488 0.91787215 0.9317078\n",
      " 0.94309714 0.92777523 0.94032033 0.94943258 0.95384315 0.9578409\n",
      " 0.97259791 0.98796327 1.         0.99493321 0.98171016 0.97401882\n",
      " 0.96852632 0.96943885 0.98186666 0.97687371 0.94613449 0.93000445\n",
      " 0.95242665 0.9488894  0.94369666 0.95130992 0.96449817 0.96238625\n",
      " 0.96003532 0.9475554  0.96747035 0.96805257 0.95847099 0.94973251\n",
      " 0.93809994 0.90783431 0.9153778  0.90770395 0.9182371  0.87393145\n",
      " 0.87632141 0.87017269 0.88613775 0.90653935 0.8887275  0.86400665\n",
      " 0.88698934 0.91245773 0.91655105 0.91606882 0.90363659 0.89986918\n",
      " 0.89087422 0.89322073 0.8703465  0.83810372 0.85171786 0.867761\n",
      " 0.87794228 0.87195871 0.8791286  0.89190404 0.89019627 0.88935758\n",
      " 0.90240257 0.81690681 0.81029022 0.79221869 0.76711345 0.73817742\n",
      " 0.70734459 0.67573905 0.64407277 0.61287028 0.58256328 0.55351722\n",
      " 0.52603149 0.50033581 0.47658861 0.45488128 0.43524435 0.4176572\n",
      " 0.40205669 0.38834703 0.37640896 0.36610752 0.357299   0.34983698\n",
      " 0.34357679 0.33837926 0.33411312 0.33065644 0.32789782 0.32573664\n",
      " 0.32408267 0.32285652 0.32198799 0.32141647]\n",
      "3 day output [[0.3210891]]\n",
      "4 day input [0.93669193 0.93345037 0.92535488 0.91787215 0.9317078  0.94309714\n",
      " 0.92777523 0.94032033 0.94943258 0.95384315 0.9578409  0.97259791\n",
      " 0.98796327 1.         0.99493321 0.98171016 0.97401882 0.96852632\n",
      " 0.96943885 0.98186666 0.97687371 0.94613449 0.93000445 0.95242665\n",
      " 0.9488894  0.94369666 0.95130992 0.96449817 0.96238625 0.96003532\n",
      " 0.9475554  0.96747035 0.96805257 0.95847099 0.94973251 0.93809994\n",
      " 0.90783431 0.9153778  0.90770395 0.9182371  0.87393145 0.87632141\n",
      " 0.87017269 0.88613775 0.90653935 0.8887275  0.86400665 0.88698934\n",
      " 0.91245773 0.91655105 0.91606882 0.90363659 0.89986918 0.89087422\n",
      " 0.89322073 0.8703465  0.83810372 0.85171786 0.867761   0.87794228\n",
      " 0.87195871 0.8791286  0.89190404 0.89019627 0.88935758 0.90240257\n",
      " 0.81690681 0.81029022 0.79221869 0.76711345 0.73817742 0.70734459\n",
      " 0.67573905 0.64407277 0.61287028 0.58256328 0.55351722 0.52603149\n",
      " 0.50033581 0.47658861 0.45488128 0.43524435 0.4176572  0.40205669\n",
      " 0.38834703 0.37640896 0.36610752 0.357299   0.34983698 0.34357679\n",
      " 0.33837926 0.33411312 0.33065644 0.32789782 0.32573664 0.32408267\n",
      " 0.32285652 0.32198799 0.32141647 0.32108909]\n",
      "4 day output [[0.3209609]]\n",
      "5 day input [0.93345037 0.92535488 0.91787215 0.9317078  0.94309714 0.92777523\n",
      " 0.94032033 0.94943258 0.95384315 0.9578409  0.97259791 0.98796327\n",
      " 1.         0.99493321 0.98171016 0.97401882 0.96852632 0.96943885\n",
      " 0.98186666 0.97687371 0.94613449 0.93000445 0.95242665 0.9488894\n",
      " 0.94369666 0.95130992 0.96449817 0.96238625 0.96003532 0.9475554\n",
      " 0.96747035 0.96805257 0.95847099 0.94973251 0.93809994 0.90783431\n",
      " 0.9153778  0.90770395 0.9182371  0.87393145 0.87632141 0.87017269\n",
      " 0.88613775 0.90653935 0.8887275  0.86400665 0.88698934 0.91245773\n",
      " 0.91655105 0.91606882 0.90363659 0.89986918 0.89087422 0.89322073\n",
      " 0.8703465  0.83810372 0.85171786 0.867761   0.87794228 0.87195871\n",
      " 0.8791286  0.89190404 0.89019627 0.88935758 0.90240257 0.81690681\n",
      " 0.81029022 0.79221869 0.76711345 0.73817742 0.70734459 0.67573905\n",
      " 0.64407277 0.61287028 0.58256328 0.55351722 0.52603149 0.50033581\n",
      " 0.47658861 0.45488128 0.43524435 0.4176572  0.40205669 0.38834703\n",
      " 0.37640896 0.36610752 0.357299   0.34983698 0.34357679 0.33837926\n",
      " 0.33411312 0.33065644 0.32789782 0.32573664 0.32408267 0.32285652\n",
      " 0.32198799 0.32141647 0.32108909 0.32096091]\n",
      "5 day output [[0.3209935]]\n",
      "6 day input [0.92535488 0.91787215 0.9317078  0.94309714 0.92777523 0.94032033\n",
      " 0.94943258 0.95384315 0.9578409  0.97259791 0.98796327 1.\n",
      " 0.99493321 0.98171016 0.97401882 0.96852632 0.96943885 0.98186666\n",
      " 0.97687371 0.94613449 0.93000445 0.95242665 0.9488894  0.94369666\n",
      " 0.95130992 0.96449817 0.96238625 0.96003532 0.9475554  0.96747035\n",
      " 0.96805257 0.95847099 0.94973251 0.93809994 0.90783431 0.9153778\n",
      " 0.90770395 0.9182371  0.87393145 0.87632141 0.87017269 0.88613775\n",
      " 0.90653935 0.8887275  0.86400665 0.88698934 0.91245773 0.91655105\n",
      " 0.91606882 0.90363659 0.89986918 0.89087422 0.89322073 0.8703465\n",
      " 0.83810372 0.85171786 0.867761   0.87794228 0.87195871 0.8791286\n",
      " 0.89190404 0.89019627 0.88935758 0.90240257 0.81690681 0.81029022\n",
      " 0.79221869 0.76711345 0.73817742 0.70734459 0.67573905 0.64407277\n",
      " 0.61287028 0.58256328 0.55351722 0.52603149 0.50033581 0.47658861\n",
      " 0.45488128 0.43524435 0.4176572  0.40205669 0.38834703 0.37640896\n",
      " 0.36610752 0.357299   0.34983698 0.34357679 0.33837926 0.33411312\n",
      " 0.33065644 0.32789782 0.32573664 0.32408267 0.32285652 0.32198799\n",
      " 0.32141647 0.32108909 0.32096091 0.32099351]\n",
      "6 day output [[0.3211547]]\n",
      "7 day input [0.91787215 0.9317078  0.94309714 0.92777523 0.94032033 0.94943258\n",
      " 0.95384315 0.9578409  0.97259791 0.98796327 1.         0.99493321\n",
      " 0.98171016 0.97401882 0.96852632 0.96943885 0.98186666 0.97687371\n",
      " 0.94613449 0.93000445 0.95242665 0.9488894  0.94369666 0.95130992\n",
      " 0.96449817 0.96238625 0.96003532 0.9475554  0.96747035 0.96805257\n",
      " 0.95847099 0.94973251 0.93809994 0.90783431 0.9153778  0.90770395\n",
      " 0.9182371  0.87393145 0.87632141 0.87017269 0.88613775 0.90653935\n",
      " 0.8887275  0.86400665 0.88698934 0.91245773 0.91655105 0.91606882\n",
      " 0.90363659 0.89986918 0.89087422 0.89322073 0.8703465  0.83810372\n",
      " 0.85171786 0.867761   0.87794228 0.87195871 0.8791286  0.89190404\n",
      " 0.89019627 0.88935758 0.90240257 0.81690681 0.81029022 0.79221869\n",
      " 0.76711345 0.73817742 0.70734459 0.67573905 0.64407277 0.61287028\n",
      " 0.58256328 0.55351722 0.52603149 0.50033581 0.47658861 0.45488128\n",
      " 0.43524435 0.4176572  0.40205669 0.38834703 0.37640896 0.36610752\n",
      " 0.357299   0.34983698 0.34357679 0.33837926 0.33411312 0.33065644\n",
      " 0.32789782 0.32573664 0.32408267 0.32285652 0.32198799 0.32141647\n",
      " 0.32108909 0.32096091 0.32099351 0.32115471]\n",
      "7 day output [[0.3214171]]\n",
      "8 day input [0.9317078  0.94309714 0.92777523 0.94032033 0.94943258 0.95384315\n",
      " 0.9578409  0.97259791 0.98796327 1.         0.99493321 0.98171016\n",
      " 0.97401882 0.96852632 0.96943885 0.98186666 0.97687371 0.94613449\n",
      " 0.93000445 0.95242665 0.9488894  0.94369666 0.95130992 0.96449817\n",
      " 0.96238625 0.96003532 0.9475554  0.96747035 0.96805257 0.95847099\n",
      " 0.94973251 0.93809994 0.90783431 0.9153778  0.90770395 0.9182371\n",
      " 0.87393145 0.87632141 0.87017269 0.88613775 0.90653935 0.8887275\n",
      " 0.86400665 0.88698934 0.91245773 0.91655105 0.91606882 0.90363659\n",
      " 0.89986918 0.89087422 0.89322073 0.8703465  0.83810372 0.85171786\n",
      " 0.867761   0.87794228 0.87195871 0.8791286  0.89190404 0.89019627\n",
      " 0.88935758 0.90240257 0.81690681 0.81029022 0.79221869 0.76711345\n",
      " 0.73817742 0.70734459 0.67573905 0.64407277 0.61287028 0.58256328\n",
      " 0.55351722 0.52603149 0.50033581 0.47658861 0.45488128 0.43524435\n",
      " 0.4176572  0.40205669 0.38834703 0.37640896 0.36610752 0.357299\n",
      " 0.34983698 0.34357679 0.33837926 0.33411312 0.33065644 0.32789782\n",
      " 0.32573664 0.32408267 0.32285652 0.32198799 0.32141647 0.32108909\n",
      " 0.32096091 0.32099351 0.32115471 0.32141709]\n"
     ]
    },
    {
     "name": "stdout",
     "output_type": "stream",
     "text": [
      "8 day output [[0.32175827]]\n",
      "9 day input [0.94309714 0.92777523 0.94032033 0.94943258 0.95384315 0.9578409\n",
      " 0.97259791 0.98796327 1.         0.99493321 0.98171016 0.97401882\n",
      " 0.96852632 0.96943885 0.98186666 0.97687371 0.94613449 0.93000445\n",
      " 0.95242665 0.9488894  0.94369666 0.95130992 0.96449817 0.96238625\n",
      " 0.96003532 0.9475554  0.96747035 0.96805257 0.95847099 0.94973251\n",
      " 0.93809994 0.90783431 0.9153778  0.90770395 0.9182371  0.87393145\n",
      " 0.87632141 0.87017269 0.88613775 0.90653935 0.8887275  0.86400665\n",
      " 0.88698934 0.91245773 0.91655105 0.91606882 0.90363659 0.89986918\n",
      " 0.89087422 0.89322073 0.8703465  0.83810372 0.85171786 0.867761\n",
      " 0.87794228 0.87195871 0.8791286  0.89190404 0.89019627 0.88935758\n",
      " 0.90240257 0.81690681 0.81029022 0.79221869 0.76711345 0.73817742\n",
      " 0.70734459 0.67573905 0.64407277 0.61287028 0.58256328 0.55351722\n",
      " 0.52603149 0.50033581 0.47658861 0.45488128 0.43524435 0.4176572\n",
      " 0.40205669 0.38834703 0.37640896 0.36610752 0.357299   0.34983698\n",
      " 0.34357679 0.33837926 0.33411312 0.33065644 0.32789782 0.32573664\n",
      " 0.32408267 0.32285652 0.32198799 0.32141647 0.32108909 0.32096091\n",
      " 0.32099351 0.32115471 0.32141709 0.32175827]\n",
      "9 day output [[0.32215956]]\n",
      "10 day input [0.92777523 0.94032033 0.94943258 0.95384315 0.9578409  0.97259791\n",
      " 0.98796327 1.         0.99493321 0.98171016 0.97401882 0.96852632\n",
      " 0.96943885 0.98186666 0.97687371 0.94613449 0.93000445 0.95242665\n",
      " 0.9488894  0.94369666 0.95130992 0.96449817 0.96238625 0.96003532\n",
      " 0.9475554  0.96747035 0.96805257 0.95847099 0.94973251 0.93809994\n",
      " 0.90783431 0.9153778  0.90770395 0.9182371  0.87393145 0.87632141\n",
      " 0.87017269 0.88613775 0.90653935 0.8887275  0.86400665 0.88698934\n",
      " 0.91245773 0.91655105 0.91606882 0.90363659 0.89986918 0.89087422\n",
      " 0.89322073 0.8703465  0.83810372 0.85171786 0.867761   0.87794228\n",
      " 0.87195871 0.8791286  0.89190404 0.89019627 0.88935758 0.90240257\n",
      " 0.81690681 0.81029022 0.79221869 0.76711345 0.73817742 0.70734459\n",
      " 0.67573905 0.64407277 0.61287028 0.58256328 0.55351722 0.52603149\n",
      " 0.50033581 0.47658861 0.45488128 0.43524435 0.4176572  0.40205669\n",
      " 0.38834703 0.37640896 0.36610752 0.357299   0.34983698 0.34357679\n",
      " 0.33837926 0.33411312 0.33065644 0.32789782 0.32573664 0.32408267\n",
      " 0.32285652 0.32198799 0.32141647 0.32108909 0.32096091 0.32099351\n",
      " 0.32115471 0.32141709 0.32175827 0.32215956]\n",
      "10 day output [[0.32260585]]\n",
      "11 day input [0.94032033 0.94943258 0.95384315 0.9578409  0.97259791 0.98796327\n",
      " 1.         0.99493321 0.98171016 0.97401882 0.96852632 0.96943885\n",
      " 0.98186666 0.97687371 0.94613449 0.93000445 0.95242665 0.9488894\n",
      " 0.94369666 0.95130992 0.96449817 0.96238625 0.96003532 0.9475554\n",
      " 0.96747035 0.96805257 0.95847099 0.94973251 0.93809994 0.90783431\n",
      " 0.9153778  0.90770395 0.9182371  0.87393145 0.87632141 0.87017269\n",
      " 0.88613775 0.90653935 0.8887275  0.86400665 0.88698934 0.91245773\n",
      " 0.91655105 0.91606882 0.90363659 0.89986918 0.89087422 0.89322073\n",
      " 0.8703465  0.83810372 0.85171786 0.867761   0.87794228 0.87195871\n",
      " 0.8791286  0.89190404 0.89019627 0.88935758 0.90240257 0.81690681\n",
      " 0.81029022 0.79221869 0.76711345 0.73817742 0.70734459 0.67573905\n",
      " 0.64407277 0.61287028 0.58256328 0.55351722 0.52603149 0.50033581\n",
      " 0.47658861 0.45488128 0.43524435 0.4176572  0.40205669 0.38834703\n",
      " 0.37640896 0.36610752 0.357299   0.34983698 0.34357679 0.33837926\n",
      " 0.33411312 0.33065644 0.32789782 0.32573664 0.32408267 0.32285652\n",
      " 0.32198799 0.32141647 0.32108909 0.32096091 0.32099351 0.32115471\n",
      " 0.32141709 0.32175827 0.32215956 0.32260585]\n",
      "11 day output [[0.3230848]]\n",
      "12 day input [0.94943258 0.95384315 0.9578409  0.97259791 0.98796327 1.\n",
      " 0.99493321 0.98171016 0.97401882 0.96852632 0.96943885 0.98186666\n",
      " 0.97687371 0.94613449 0.93000445 0.95242665 0.9488894  0.94369666\n",
      " 0.95130992 0.96449817 0.96238625 0.96003532 0.9475554  0.96747035\n",
      " 0.96805257 0.95847099 0.94973251 0.93809994 0.90783431 0.9153778\n",
      " 0.90770395 0.9182371  0.87393145 0.87632141 0.87017269 0.88613775\n",
      " 0.90653935 0.8887275  0.86400665 0.88698934 0.91245773 0.91655105\n",
      " 0.91606882 0.90363659 0.89986918 0.89087422 0.89322073 0.8703465\n",
      " 0.83810372 0.85171786 0.867761   0.87794228 0.87195871 0.8791286\n",
      " 0.89190404 0.89019627 0.88935758 0.90240257 0.81690681 0.81029022\n",
      " 0.79221869 0.76711345 0.73817742 0.70734459 0.67573905 0.64407277\n",
      " 0.61287028 0.58256328 0.55351722 0.52603149 0.50033581 0.47658861\n",
      " 0.45488128 0.43524435 0.4176572  0.40205669 0.38834703 0.37640896\n",
      " 0.36610752 0.357299   0.34983698 0.34357679 0.33837926 0.33411312\n",
      " 0.33065644 0.32789782 0.32573664 0.32408267 0.32285652 0.32198799\n",
      " 0.32141647 0.32108909 0.32096091 0.32099351 0.32115471 0.32141709\n",
      " 0.32175827 0.32215956 0.32260585 0.3230848 ]\n",
      "12 day output [[0.3235866]]\n",
      "13 day input [0.95384315 0.9578409  0.97259791 0.98796327 1.         0.99493321\n",
      " 0.98171016 0.97401882 0.96852632 0.96943885 0.98186666 0.97687371\n",
      " 0.94613449 0.93000445 0.95242665 0.9488894  0.94369666 0.95130992\n",
      " 0.96449817 0.96238625 0.96003532 0.9475554  0.96747035 0.96805257\n",
      " 0.95847099 0.94973251 0.93809994 0.90783431 0.9153778  0.90770395\n",
      " 0.9182371  0.87393145 0.87632141 0.87017269 0.88613775 0.90653935\n",
      " 0.8887275  0.86400665 0.88698934 0.91245773 0.91655105 0.91606882\n",
      " 0.90363659 0.89986918 0.89087422 0.89322073 0.8703465  0.83810372\n",
      " 0.85171786 0.867761   0.87794228 0.87195871 0.8791286  0.89190404\n",
      " 0.89019627 0.88935758 0.90240257 0.81690681 0.81029022 0.79221869\n",
      " 0.76711345 0.73817742 0.70734459 0.67573905 0.64407277 0.61287028\n",
      " 0.58256328 0.55351722 0.52603149 0.50033581 0.47658861 0.45488128\n",
      " 0.43524435 0.4176572  0.40205669 0.38834703 0.37640896 0.36610752\n",
      " 0.357299   0.34983698 0.34357679 0.33837926 0.33411312 0.33065644\n",
      " 0.32789782 0.32573664 0.32408267 0.32285652 0.32198799 0.32141647\n",
      " 0.32108909 0.32096091 0.32099351 0.32115471 0.32141709 0.32175827\n",
      " 0.32215956 0.32260585 0.3230848  0.32358661]\n",
      "13 day output [[0.3241035]]\n",
      "14 day input [0.9578409  0.97259791 0.98796327 1.         0.99493321 0.98171016\n",
      " 0.97401882 0.96852632 0.96943885 0.98186666 0.97687371 0.94613449\n",
      " 0.93000445 0.95242665 0.9488894  0.94369666 0.95130992 0.96449817\n",
      " 0.96238625 0.96003532 0.9475554  0.96747035 0.96805257 0.95847099\n",
      " 0.94973251 0.93809994 0.90783431 0.9153778  0.90770395 0.9182371\n",
      " 0.87393145 0.87632141 0.87017269 0.88613775 0.90653935 0.8887275\n",
      " 0.86400665 0.88698934 0.91245773 0.91655105 0.91606882 0.90363659\n",
      " 0.89986918 0.89087422 0.89322073 0.8703465  0.83810372 0.85171786\n",
      " 0.867761   0.87794228 0.87195871 0.8791286  0.89190404 0.89019627\n",
      " 0.88935758 0.90240257 0.81690681 0.81029022 0.79221869 0.76711345\n",
      " 0.73817742 0.70734459 0.67573905 0.64407277 0.61287028 0.58256328\n",
      " 0.55351722 0.52603149 0.50033581 0.47658861 0.45488128 0.43524435\n",
      " 0.4176572  0.40205669 0.38834703 0.37640896 0.36610752 0.357299\n",
      " 0.34983698 0.34357679 0.33837926 0.33411312 0.33065644 0.32789782\n",
      " 0.32573664 0.32408267 0.32285652 0.32198799 0.32141647 0.32108909\n",
      " 0.32096091 0.32099351 0.32115471 0.32141709 0.32175827 0.32215956\n",
      " 0.32260585 0.3230848  0.32358661 0.3241035 ]\n",
      "14 day output [[0.32462934]]\n",
      "15 day input [0.97259791 0.98796327 1.         0.99493321 0.98171016 0.97401882\n",
      " 0.96852632 0.96943885 0.98186666 0.97687371 0.94613449 0.93000445\n",
      " 0.95242665 0.9488894  0.94369666 0.95130992 0.96449817 0.96238625\n",
      " 0.96003532 0.9475554  0.96747035 0.96805257 0.95847099 0.94973251\n",
      " 0.93809994 0.90783431 0.9153778  0.90770395 0.9182371  0.87393145\n",
      " 0.87632141 0.87017269 0.88613775 0.90653935 0.8887275  0.86400665\n",
      " 0.88698934 0.91245773 0.91655105 0.91606882 0.90363659 0.89986918\n",
      " 0.89087422 0.89322073 0.8703465  0.83810372 0.85171786 0.867761\n",
      " 0.87794228 0.87195871 0.8791286  0.89190404 0.89019627 0.88935758\n",
      " 0.90240257 0.81690681 0.81029022 0.79221869 0.76711345 0.73817742\n",
      " 0.70734459 0.67573905 0.64407277 0.61287028 0.58256328 0.55351722\n",
      " 0.52603149 0.50033581 0.47658861 0.45488128 0.43524435 0.4176572\n",
      " 0.40205669 0.38834703 0.37640896 0.36610752 0.357299   0.34983698\n",
      " 0.34357679 0.33837926 0.33411312 0.33065644 0.32789782 0.32573664\n",
      " 0.32408267 0.32285652 0.32198799 0.32141647 0.32108909 0.32096091\n",
      " 0.32099351 0.32115471 0.32141709 0.32175827 0.32215956 0.32260585\n",
      " 0.3230848  0.32358661 0.3241035  0.32462934]\n",
      "15 day output [[0.32515943]]\n",
      "16 day input [0.98796327 1.         0.99493321 0.98171016 0.97401882 0.96852632\n",
      " 0.96943885 0.98186666 0.97687371 0.94613449 0.93000445 0.95242665\n",
      " 0.9488894  0.94369666 0.95130992 0.96449817 0.96238625 0.96003532\n",
      " 0.9475554  0.96747035 0.96805257 0.95847099 0.94973251 0.93809994\n",
      " 0.90783431 0.9153778  0.90770395 0.9182371  0.87393145 0.87632141\n",
      " 0.87017269 0.88613775 0.90653935 0.8887275  0.86400665 0.88698934\n",
      " 0.91245773 0.91655105 0.91606882 0.90363659 0.89986918 0.89087422\n",
      " 0.89322073 0.8703465  0.83810372 0.85171786 0.867761   0.87794228\n",
      " 0.87195871 0.8791286  0.89190404 0.89019627 0.88935758 0.90240257\n",
      " 0.81690681 0.81029022 0.79221869 0.76711345 0.73817742 0.70734459\n",
      " 0.67573905 0.64407277 0.61287028 0.58256328 0.55351722 0.52603149\n",
      " 0.50033581 0.47658861 0.45488128 0.43524435 0.4176572  0.40205669\n",
      " 0.38834703 0.37640896 0.36610752 0.357299   0.34983698 0.34357679\n",
      " 0.33837926 0.33411312 0.33065644 0.32789782 0.32573664 0.32408267\n",
      " 0.32285652 0.32198799 0.32141647 0.32108909 0.32096091 0.32099351\n",
      " 0.32115471 0.32141709 0.32175827 0.32215956 0.32260585 0.3230848\n",
      " 0.32358661 0.3241035  0.32462934 0.32515943]\n"
     ]
    },
    {
     "name": "stdout",
     "output_type": "stream",
     "text": [
      "16 day output [[0.3256904]]\n",
      "17 day input [1.         0.99493321 0.98171016 0.97401882 0.96852632 0.96943885\n",
      " 0.98186666 0.97687371 0.94613449 0.93000445 0.95242665 0.9488894\n",
      " 0.94369666 0.95130992 0.96449817 0.96238625 0.96003532 0.9475554\n",
      " 0.96747035 0.96805257 0.95847099 0.94973251 0.93809994 0.90783431\n",
      " 0.9153778  0.90770395 0.9182371  0.87393145 0.87632141 0.87017269\n",
      " 0.88613775 0.90653935 0.8887275  0.86400665 0.88698934 0.91245773\n",
      " 0.91655105 0.91606882 0.90363659 0.89986918 0.89087422 0.89322073\n",
      " 0.8703465  0.83810372 0.85171786 0.867761   0.87794228 0.87195871\n",
      " 0.8791286  0.89190404 0.89019627 0.88935758 0.90240257 0.81690681\n",
      " 0.81029022 0.79221869 0.76711345 0.73817742 0.70734459 0.67573905\n",
      " 0.64407277 0.61287028 0.58256328 0.55351722 0.52603149 0.50033581\n",
      " 0.47658861 0.45488128 0.43524435 0.4176572  0.40205669 0.38834703\n",
      " 0.37640896 0.36610752 0.357299   0.34983698 0.34357679 0.33837926\n",
      " 0.33411312 0.33065644 0.32789782 0.32573664 0.32408267 0.32285652\n",
      " 0.32198799 0.32141647 0.32108909 0.32096091 0.32099351 0.32115471\n",
      " 0.32141709 0.32175827 0.32215956 0.32260585 0.3230848  0.32358661\n",
      " 0.3241035  0.32462934 0.32515943 0.32569039]\n",
      "17 day output [[0.32621935]]\n",
      "18 day input [0.99493321 0.98171016 0.97401882 0.96852632 0.96943885 0.98186666\n",
      " 0.97687371 0.94613449 0.93000445 0.95242665 0.9488894  0.94369666\n",
      " 0.95130992 0.96449817 0.96238625 0.96003532 0.9475554  0.96747035\n",
      " 0.96805257 0.95847099 0.94973251 0.93809994 0.90783431 0.9153778\n",
      " 0.90770395 0.9182371  0.87393145 0.87632141 0.87017269 0.88613775\n",
      " 0.90653935 0.8887275  0.86400665 0.88698934 0.91245773 0.91655105\n",
      " 0.91606882 0.90363659 0.89986918 0.89087422 0.89322073 0.8703465\n",
      " 0.83810372 0.85171786 0.867761   0.87794228 0.87195871 0.8791286\n",
      " 0.89190404 0.89019627 0.88935758 0.90240257 0.81690681 0.81029022\n",
      " 0.79221869 0.76711345 0.73817742 0.70734459 0.67573905 0.64407277\n",
      " 0.61287028 0.58256328 0.55351722 0.52603149 0.50033581 0.47658861\n",
      " 0.45488128 0.43524435 0.4176572  0.40205669 0.38834703 0.37640896\n",
      " 0.36610752 0.357299   0.34983698 0.34357679 0.33837926 0.33411312\n",
      " 0.33065644 0.32789782 0.32573664 0.32408267 0.32285652 0.32198799\n",
      " 0.32141647 0.32108909 0.32096091 0.32099351 0.32115471 0.32141709\n",
      " 0.32175827 0.32215956 0.32260585 0.3230848  0.32358661 0.3241035\n",
      " 0.32462934 0.32515943 0.32569039 0.32621935]\n",
      "18 day output [[0.32674465]]\n",
      "19 day input [0.98171016 0.97401882 0.96852632 0.96943885 0.98186666 0.97687371\n",
      " 0.94613449 0.93000445 0.95242665 0.9488894  0.94369666 0.95130992\n",
      " 0.96449817 0.96238625 0.96003532 0.9475554  0.96747035 0.96805257\n",
      " 0.95847099 0.94973251 0.93809994 0.90783431 0.9153778  0.90770395\n",
      " 0.9182371  0.87393145 0.87632141 0.87017269 0.88613775 0.90653935\n",
      " 0.8887275  0.86400665 0.88698934 0.91245773 0.91655105 0.91606882\n",
      " 0.90363659 0.89986918 0.89087422 0.89322073 0.8703465  0.83810372\n",
      " 0.85171786 0.867761   0.87794228 0.87195871 0.8791286  0.89190404\n",
      " 0.89019627 0.88935758 0.90240257 0.81690681 0.81029022 0.79221869\n",
      " 0.76711345 0.73817742 0.70734459 0.67573905 0.64407277 0.61287028\n",
      " 0.58256328 0.55351722 0.52603149 0.50033581 0.47658861 0.45488128\n",
      " 0.43524435 0.4176572  0.40205669 0.38834703 0.37640896 0.36610752\n",
      " 0.357299   0.34983698 0.34357679 0.33837926 0.33411312 0.33065644\n",
      " 0.32789782 0.32573664 0.32408267 0.32285652 0.32198799 0.32141647\n",
      " 0.32108909 0.32096091 0.32099351 0.32115471 0.32141709 0.32175827\n",
      " 0.32215956 0.32260585 0.3230848  0.32358661 0.3241035  0.32462934\n",
      " 0.32515943 0.32569039 0.32621935 0.32674465]\n",
      "19 day output [[0.32726493]]\n",
      "20 day input [0.97401882 0.96852632 0.96943885 0.98186666 0.97687371 0.94613449\n",
      " 0.93000445 0.95242665 0.9488894  0.94369666 0.95130992 0.96449817\n",
      " 0.96238625 0.96003532 0.9475554  0.96747035 0.96805257 0.95847099\n",
      " 0.94973251 0.93809994 0.90783431 0.9153778  0.90770395 0.9182371\n",
      " 0.87393145 0.87632141 0.87017269 0.88613775 0.90653935 0.8887275\n",
      " 0.86400665 0.88698934 0.91245773 0.91655105 0.91606882 0.90363659\n",
      " 0.89986918 0.89087422 0.89322073 0.8703465  0.83810372 0.85171786\n",
      " 0.867761   0.87794228 0.87195871 0.8791286  0.89190404 0.89019627\n",
      " 0.88935758 0.90240257 0.81690681 0.81029022 0.79221869 0.76711345\n",
      " 0.73817742 0.70734459 0.67573905 0.64407277 0.61287028 0.58256328\n",
      " 0.55351722 0.52603149 0.50033581 0.47658861 0.45488128 0.43524435\n",
      " 0.4176572  0.40205669 0.38834703 0.37640896 0.36610752 0.357299\n",
      " 0.34983698 0.34357679 0.33837926 0.33411312 0.33065644 0.32789782\n",
      " 0.32573664 0.32408267 0.32285652 0.32198799 0.32141647 0.32108909\n",
      " 0.32096091 0.32099351 0.32115471 0.32141709 0.32175827 0.32215956\n",
      " 0.32260585 0.3230848  0.32358661 0.3241035  0.32462934 0.32515943\n",
      " 0.32569039 0.32621935 0.32674465 0.32726493]\n",
      "20 day output [[0.32777938]]\n",
      "21 day input [0.96852632 0.96943885 0.98186666 0.97687371 0.94613449 0.93000445\n",
      " 0.95242665 0.9488894  0.94369666 0.95130992 0.96449817 0.96238625\n",
      " 0.96003532 0.9475554  0.96747035 0.96805257 0.95847099 0.94973251\n",
      " 0.93809994 0.90783431 0.9153778  0.90770395 0.9182371  0.87393145\n",
      " 0.87632141 0.87017269 0.88613775 0.90653935 0.8887275  0.86400665\n",
      " 0.88698934 0.91245773 0.91655105 0.91606882 0.90363659 0.89986918\n",
      " 0.89087422 0.89322073 0.8703465  0.83810372 0.85171786 0.867761\n",
      " 0.87794228 0.87195871 0.8791286  0.89190404 0.89019627 0.88935758\n",
      " 0.90240257 0.81690681 0.81029022 0.79221869 0.76711345 0.73817742\n",
      " 0.70734459 0.67573905 0.64407277 0.61287028 0.58256328 0.55351722\n",
      " 0.52603149 0.50033581 0.47658861 0.45488128 0.43524435 0.4176572\n",
      " 0.40205669 0.38834703 0.37640896 0.36610752 0.357299   0.34983698\n",
      " 0.34357679 0.33837926 0.33411312 0.33065644 0.32789782 0.32573664\n",
      " 0.32408267 0.32285652 0.32198799 0.32141647 0.32108909 0.32096091\n",
      " 0.32099351 0.32115471 0.32141709 0.32175827 0.32215956 0.32260585\n",
      " 0.3230848  0.32358661 0.3241035  0.32462934 0.32515943 0.32569039\n",
      " 0.32621935 0.32674465 0.32726493 0.32777938]\n",
      "21 day output [[0.32828748]]\n",
      "22 day input [0.96943885 0.98186666 0.97687371 0.94613449 0.93000445 0.95242665\n",
      " 0.9488894  0.94369666 0.95130992 0.96449817 0.96238625 0.96003532\n",
      " 0.9475554  0.96747035 0.96805257 0.95847099 0.94973251 0.93809994\n",
      " 0.90783431 0.9153778  0.90770395 0.9182371  0.87393145 0.87632141\n",
      " 0.87017269 0.88613775 0.90653935 0.8887275  0.86400665 0.88698934\n",
      " 0.91245773 0.91655105 0.91606882 0.90363659 0.89986918 0.89087422\n",
      " 0.89322073 0.8703465  0.83810372 0.85171786 0.867761   0.87794228\n",
      " 0.87195871 0.8791286  0.89190404 0.89019627 0.88935758 0.90240257\n",
      " 0.81690681 0.81029022 0.79221869 0.76711345 0.73817742 0.70734459\n",
      " 0.67573905 0.64407277 0.61287028 0.58256328 0.55351722 0.52603149\n",
      " 0.50033581 0.47658861 0.45488128 0.43524435 0.4176572  0.40205669\n",
      " 0.38834703 0.37640896 0.36610752 0.357299   0.34983698 0.34357679\n",
      " 0.33837926 0.33411312 0.33065644 0.32789782 0.32573664 0.32408267\n",
      " 0.32285652 0.32198799 0.32141647 0.32108909 0.32096091 0.32099351\n",
      " 0.32115471 0.32141709 0.32175827 0.32215956 0.32260585 0.3230848\n",
      " 0.32358661 0.3241035  0.32462934 0.32515943 0.32569039 0.32621935\n",
      " 0.32674465 0.32726493 0.32777938 0.32828748]\n",
      "22 day output [[0.32878914]]\n",
      "23 day input [0.98186666 0.97687371 0.94613449 0.93000445 0.95242665 0.9488894\n",
      " 0.94369666 0.95130992 0.96449817 0.96238625 0.96003532 0.9475554\n",
      " 0.96747035 0.96805257 0.95847099 0.94973251 0.93809994 0.90783431\n",
      " 0.9153778  0.90770395 0.9182371  0.87393145 0.87632141 0.87017269\n",
      " 0.88613775 0.90653935 0.8887275  0.86400665 0.88698934 0.91245773\n",
      " 0.91655105 0.91606882 0.90363659 0.89986918 0.89087422 0.89322073\n",
      " 0.8703465  0.83810372 0.85171786 0.867761   0.87794228 0.87195871\n",
      " 0.8791286  0.89190404 0.89019627 0.88935758 0.90240257 0.81690681\n",
      " 0.81029022 0.79221869 0.76711345 0.73817742 0.70734459 0.67573905\n",
      " 0.64407277 0.61287028 0.58256328 0.55351722 0.52603149 0.50033581\n",
      " 0.47658861 0.45488128 0.43524435 0.4176572  0.40205669 0.38834703\n",
      " 0.37640896 0.36610752 0.357299   0.34983698 0.34357679 0.33837926\n",
      " 0.33411312 0.33065644 0.32789782 0.32573664 0.32408267 0.32285652\n",
      " 0.32198799 0.32141647 0.32108909 0.32096091 0.32099351 0.32115471\n",
      " 0.32141709 0.32175827 0.32215956 0.32260585 0.3230848  0.32358661\n",
      " 0.3241035  0.32462934 0.32515943 0.32569039 0.32621935 0.32674465\n",
      " 0.32726493 0.32777938 0.32828748 0.32878914]\n",
      "23 day output [[0.32928407]]\n",
      "24 day input [0.97687371 0.94613449 0.93000445 0.95242665 0.9488894  0.94369666\n",
      " 0.95130992 0.96449817 0.96238625 0.96003532 0.9475554  0.96747035\n",
      " 0.96805257 0.95847099 0.94973251 0.93809994 0.90783431 0.9153778\n",
      " 0.90770395 0.9182371  0.87393145 0.87632141 0.87017269 0.88613775\n",
      " 0.90653935 0.8887275  0.86400665 0.88698934 0.91245773 0.91655105\n",
      " 0.91606882 0.90363659 0.89986918 0.89087422 0.89322073 0.8703465\n",
      " 0.83810372 0.85171786 0.867761   0.87794228 0.87195871 0.8791286\n",
      " 0.89190404 0.89019627 0.88935758 0.90240257 0.81690681 0.81029022\n",
      " 0.79221869 0.76711345 0.73817742 0.70734459 0.67573905 0.64407277\n",
      " 0.61287028 0.58256328 0.55351722 0.52603149 0.50033581 0.47658861\n",
      " 0.45488128 0.43524435 0.4176572  0.40205669 0.38834703 0.37640896\n",
      " 0.36610752 0.357299   0.34983698 0.34357679 0.33837926 0.33411312\n",
      " 0.33065644 0.32789782 0.32573664 0.32408267 0.32285652 0.32198799\n",
      " 0.32141647 0.32108909 0.32096091 0.32099351 0.32115471 0.32141709\n",
      " 0.32175827 0.32215956 0.32260585 0.3230848  0.32358661 0.3241035\n",
      " 0.32462934 0.32515943 0.32569039 0.32621935 0.32674465 0.32726493\n",
      " 0.32777938 0.32828748 0.32878914 0.32928407]\n"
     ]
    },
    {
     "name": "stdout",
     "output_type": "stream",
     "text": [
      "24 day output [[0.32977256]]\n",
      "25 day input [0.94613449 0.93000445 0.95242665 0.9488894  0.94369666 0.95130992\n",
      " 0.96449817 0.96238625 0.96003532 0.9475554  0.96747035 0.96805257\n",
      " 0.95847099 0.94973251 0.93809994 0.90783431 0.9153778  0.90770395\n",
      " 0.9182371  0.87393145 0.87632141 0.87017269 0.88613775 0.90653935\n",
      " 0.8887275  0.86400665 0.88698934 0.91245773 0.91655105 0.91606882\n",
      " 0.90363659 0.89986918 0.89087422 0.89322073 0.8703465  0.83810372\n",
      " 0.85171786 0.867761   0.87794228 0.87195871 0.8791286  0.89190404\n",
      " 0.89019627 0.88935758 0.90240257 0.81690681 0.81029022 0.79221869\n",
      " 0.76711345 0.73817742 0.70734459 0.67573905 0.64407277 0.61287028\n",
      " 0.58256328 0.55351722 0.52603149 0.50033581 0.47658861 0.45488128\n",
      " 0.43524435 0.4176572  0.40205669 0.38834703 0.37640896 0.36610752\n",
      " 0.357299   0.34983698 0.34357679 0.33837926 0.33411312 0.33065644\n",
      " 0.32789782 0.32573664 0.32408267 0.32285652 0.32198799 0.32141647\n",
      " 0.32108909 0.32096091 0.32099351 0.32115471 0.32141709 0.32175827\n",
      " 0.32215956 0.32260585 0.3230848  0.32358661 0.3241035  0.32462934\n",
      " 0.32515943 0.32569039 0.32621935 0.32674465 0.32726493 0.32777938\n",
      " 0.32828748 0.32878914 0.32928407 0.32977256]\n",
      "25 day output [[0.3302549]]\n",
      "26 day input [0.93000445 0.95242665 0.9488894  0.94369666 0.95130992 0.96449817\n",
      " 0.96238625 0.96003532 0.9475554  0.96747035 0.96805257 0.95847099\n",
      " 0.94973251 0.93809994 0.90783431 0.9153778  0.90770395 0.9182371\n",
      " 0.87393145 0.87632141 0.87017269 0.88613775 0.90653935 0.8887275\n",
      " 0.86400665 0.88698934 0.91245773 0.91655105 0.91606882 0.90363659\n",
      " 0.89986918 0.89087422 0.89322073 0.8703465  0.83810372 0.85171786\n",
      " 0.867761   0.87794228 0.87195871 0.8791286  0.89190404 0.89019627\n",
      " 0.88935758 0.90240257 0.81690681 0.81029022 0.79221869 0.76711345\n",
      " 0.73817742 0.70734459 0.67573905 0.64407277 0.61287028 0.58256328\n",
      " 0.55351722 0.52603149 0.50033581 0.47658861 0.45488128 0.43524435\n",
      " 0.4176572  0.40205669 0.38834703 0.37640896 0.36610752 0.357299\n",
      " 0.34983698 0.34357679 0.33837926 0.33411312 0.33065644 0.32789782\n",
      " 0.32573664 0.32408267 0.32285652 0.32198799 0.32141647 0.32108909\n",
      " 0.32096091 0.32099351 0.32115471 0.32141709 0.32175827 0.32215956\n",
      " 0.32260585 0.3230848  0.32358661 0.3241035  0.32462934 0.32515943\n",
      " 0.32569039 0.32621935 0.32674465 0.32726493 0.32777938 0.32828748\n",
      " 0.32878914 0.32928407 0.32977256 0.33025491]\n",
      "26 day output [[0.33073115]]\n",
      "27 day input [0.95242665 0.9488894  0.94369666 0.95130992 0.96449817 0.96238625\n",
      " 0.96003532 0.9475554  0.96747035 0.96805257 0.95847099 0.94973251\n",
      " 0.93809994 0.90783431 0.9153778  0.90770395 0.9182371  0.87393145\n",
      " 0.87632141 0.87017269 0.88613775 0.90653935 0.8887275  0.86400665\n",
      " 0.88698934 0.91245773 0.91655105 0.91606882 0.90363659 0.89986918\n",
      " 0.89087422 0.89322073 0.8703465  0.83810372 0.85171786 0.867761\n",
      " 0.87794228 0.87195871 0.8791286  0.89190404 0.89019627 0.88935758\n",
      " 0.90240257 0.81690681 0.81029022 0.79221869 0.76711345 0.73817742\n",
      " 0.70734459 0.67573905 0.64407277 0.61287028 0.58256328 0.55351722\n",
      " 0.52603149 0.50033581 0.47658861 0.45488128 0.43524435 0.4176572\n",
      " 0.40205669 0.38834703 0.37640896 0.36610752 0.357299   0.34983698\n",
      " 0.34357679 0.33837926 0.33411312 0.33065644 0.32789782 0.32573664\n",
      " 0.32408267 0.32285652 0.32198799 0.32141647 0.32108909 0.32096091\n",
      " 0.32099351 0.32115471 0.32141709 0.32175827 0.32215956 0.32260585\n",
      " 0.3230848  0.32358661 0.3241035  0.32462934 0.32515943 0.32569039\n",
      " 0.32621935 0.32674465 0.32726493 0.32777938 0.32828748 0.32878914\n",
      " 0.32928407 0.32977256 0.33025491 0.33073115]\n",
      "27 day output [[0.33120167]]\n",
      "28 day input [0.9488894  0.94369666 0.95130992 0.96449817 0.96238625 0.96003532\n",
      " 0.9475554  0.96747035 0.96805257 0.95847099 0.94973251 0.93809994\n",
      " 0.90783431 0.9153778  0.90770395 0.9182371  0.87393145 0.87632141\n",
      " 0.87017269 0.88613775 0.90653935 0.8887275  0.86400665 0.88698934\n",
      " 0.91245773 0.91655105 0.91606882 0.90363659 0.89986918 0.89087422\n",
      " 0.89322073 0.8703465  0.83810372 0.85171786 0.867761   0.87794228\n",
      " 0.87195871 0.8791286  0.89190404 0.89019627 0.88935758 0.90240257\n",
      " 0.81690681 0.81029022 0.79221869 0.76711345 0.73817742 0.70734459\n",
      " 0.67573905 0.64407277 0.61287028 0.58256328 0.55351722 0.52603149\n",
      " 0.50033581 0.47658861 0.45488128 0.43524435 0.4176572  0.40205669\n",
      " 0.38834703 0.37640896 0.36610752 0.357299   0.34983698 0.34357679\n",
      " 0.33837926 0.33411312 0.33065644 0.32789782 0.32573664 0.32408267\n",
      " 0.32285652 0.32198799 0.32141647 0.32108909 0.32096091 0.32099351\n",
      " 0.32115471 0.32141709 0.32175827 0.32215956 0.32260585 0.3230848\n",
      " 0.32358661 0.3241035  0.32462934 0.32515943 0.32569039 0.32621935\n",
      " 0.32674465 0.32726493 0.32777938 0.32828748 0.32878914 0.32928407\n",
      " 0.32977256 0.33025491 0.33073115 0.33120167]\n",
      "28 day output [[0.3316667]]\n",
      "29 day input [0.94369666 0.95130992 0.96449817 0.96238625 0.96003532 0.9475554\n",
      " 0.96747035 0.96805257 0.95847099 0.94973251 0.93809994 0.90783431\n",
      " 0.9153778  0.90770395 0.9182371  0.87393145 0.87632141 0.87017269\n",
      " 0.88613775 0.90653935 0.8887275  0.86400665 0.88698934 0.91245773\n",
      " 0.91655105 0.91606882 0.90363659 0.89986918 0.89087422 0.89322073\n",
      " 0.8703465  0.83810372 0.85171786 0.867761   0.87794228 0.87195871\n",
      " 0.8791286  0.89190404 0.89019627 0.88935758 0.90240257 0.81690681\n",
      " 0.81029022 0.79221869 0.76711345 0.73817742 0.70734459 0.67573905\n",
      " 0.64407277 0.61287028 0.58256328 0.55351722 0.52603149 0.50033581\n",
      " 0.47658861 0.45488128 0.43524435 0.4176572  0.40205669 0.38834703\n",
      " 0.37640896 0.36610752 0.357299   0.34983698 0.34357679 0.33837926\n",
      " 0.33411312 0.33065644 0.32789782 0.32573664 0.32408267 0.32285652\n",
      " 0.32198799 0.32141647 0.32108909 0.32096091 0.32099351 0.32115471\n",
      " 0.32141709 0.32175827 0.32215956 0.32260585 0.3230848  0.32358661\n",
      " 0.3241035  0.32462934 0.32515943 0.32569039 0.32621935 0.32674465\n",
      " 0.32726493 0.32777938 0.32828748 0.32878914 0.32928407 0.32977256\n",
      " 0.33025491 0.33073115 0.33120167 0.33166671]\n",
      "29 day output [[0.33212665]]\n",
      "[[0.32285651564598083], [0.32198798656463623], [0.3214164674282074], [0.32108908891677856], [0.3209609091281891], [0.3209935128688812], [0.32115471363067627], [0.32141709327697754], [0.3217582702636719], [0.3221595585346222], [0.32260584831237793], [0.3230848014354706], [0.3235866129398346], [0.3241035044193268], [0.3246293365955353], [0.3251594305038452], [0.3256903886795044], [0.3262193500995636], [0.3267446458339691], [0.3272649347782135], [0.3277793824672699], [0.3282874822616577], [0.3287891447544098], [0.32928407192230225], [0.32977256178855896], [0.3302549123764038], [0.3307311534881592], [0.3312016725540161], [0.3316667079925537], [0.332126647233963]]\n"
     ]
    }
   ],
   "source": [
    "from numpy import array\n",
    "\n",
    "lst_output=[]\n",
    "n_steps=100\n",
    "i=0\n",
    "while(i<30):\n",
    "    \n",
    "    if(len(temp_input)>100):\n",
    "        #print(temp_input)\n",
    "        x_input=np.array(temp_input[1:])\n",
    "        print(\"{} day input {}\".format(i,x_input))\n",
    "        x_input=x_input.reshape(1,-1)\n",
    "        x_input = x_input.reshape((1, n_steps, 1))\n",
    "        #print(x_input)\n",
    "        yhat = model.predict(x_input, verbose=0)\n",
    "        print(\"{} day output {}\".format(i,yhat))\n",
    "        temp_input.extend(yhat[0].tolist())\n",
    "        temp_input=temp_input[1:]\n",
    "        #print(temp_input)\n",
    "        lst_output.extend(yhat.tolist())\n",
    "        i=i+1\n",
    "    else:\n",
    "        x_input = x_input.reshape((1, n_steps,1))\n",
    "        yhat = model.predict(x_input, verbose=0)\n",
    "        print(yhat[0])\n",
    "        temp_input.extend(yhat[0].tolist())\n",
    "        print(len(temp_input))\n",
    "        lst_output.extend(yhat.tolist())\n",
    "        i=i+1\n",
    "    \n",
    "\n",
    "print(lst_output)"
   ]
  },
  {
   "cell_type": "code",
   "execution_count": 126,
   "metadata": {},
   "outputs": [],
   "source": [
    "day_new=np.arange(1,101)\n",
    "day_pred=np.arange(101,131)"
   ]
  },
  {
   "cell_type": "code",
   "execution_count": 127,
   "metadata": {},
   "outputs": [
    {
     "data": {
      "text/plain": [
       "1475"
      ]
     },
     "execution_count": 127,
     "metadata": {},
     "output_type": "execute_result"
    }
   ],
   "source": [
    "len(df1)"
   ]
  },
  {
   "cell_type": "code",
   "execution_count": 129,
   "metadata": {},
   "outputs": [
    {
     "data": {
      "text/plain": [
       "[<matplotlib.lines.Line2D at 0x263ddf096d0>]"
      ]
     },
     "execution_count": 129,
     "metadata": {},
     "output_type": "execute_result"
    },
    {
     "data": {
      "image/png": "[encoded data removed]",
      "text/plain": [
       "<Figure size 432x288 with 1 Axes>"
      ]
     },
     "metadata": {
      "needs_background": "light"
     },
     "output_type": "display_data"
    }
   ],
   "source": [
    "plt.plot(day_new,(df1[1375:]))\n",
    "plt.plot(day_pred,(lst_output))"
   ]
  },
  {
   "cell_type": "code",
   "execution_count": null,
   "metadata": {},
   "outputs": [],
   "source": []
  }
 ],
 "metadata": {
  "kernelspec": {
   "display_name": "Python 3",
   "language": "python",
   "name": "python3"
  },
  "language_info": {
   "codemirror_mode": {
    "name": "ipython",
    "version": 3
   },
   "file_extension": ".py",
   "mimetype": "text/x-python",
   "name": "python",
   "nbconvert_exporter": "python",
   "pygments_lexer": "ipython3",
   "version": "3.8.5"
  }
 },
 "nbformat": 4,
 "nbformat_minor": 4
}
