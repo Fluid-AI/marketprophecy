{
 "cells": [
  {
   "cell_type": "markdown",
   "metadata": {},
   "source": [
    "## Importing libraries"
   ]
  },
  {
   "cell_type": "code",
   "execution_count": 1,
   "metadata": {},
   "outputs": [],
   "source": [
    "import numpy as np\n",
    "import pandas as pd\n",
    "import matplotlib.pyplot as plt\n",
    "import seaborn as sns\n",
    "\n",
    "from sklearn.metrics import mean_squared_error, mean_absolute_error\n",
    "from math import sqrt\n",
    "\n",
    "%matplotlib inline\n",
    "\n",
    "from keras.layers import LSTM, Dense, Dropout\n",
    "from keras.models import Sequential\n",
    "from sklearn.model_selection import TimeSeriesSplit"
   ]
  },
  {
   "cell_type": "markdown",
   "metadata": {},
   "source": [
    "## Reading the CSV file"
   ]
  },
  {
   "cell_type": "code",
   "execution_count": 2,
   "metadata": {},
   "outputs": [],
   "source": [
    "df = pd.read_csv(\"NSE Data/NSE Training Data - 1st Jan 2016 to 1st Jan 2022.csv\", parse_dates = True, index_col='Date')"
   ]
  },
  {
   "cell_type": "code",
   "execution_count": 3,
   "metadata": {},
   "outputs": [],
   "source": [
    "# Just copying to another variable df1 for further analysis\n",
    "df1 = df"
   ]
  },
  {
   "cell_type": "code",
   "execution_count": 4,
   "metadata": {},
   "outputs": [
    {
     "data": {
      "text/html": [
       "<div>\n",
       "<style scoped>\n",
       "    .dataframe tbody tr th:only-of-type {\n",
       "        vertical-align: middle;\n",
       "    }\n",
       "\n",
       "    .dataframe tbody tr th {\n",
       "        vertical-align: top;\n",
       "    }\n",
       "\n",
       "    .dataframe thead th {\n",
       "        text-align: right;\n",
       "    }\n",
       "</style>\n",
       "<table border=\"1\" class=\"dataframe\">\n",
       "  <thead>\n",
       "    <tr style=\"text-align: right;\">\n",
       "      <th></th>\n",
       "      <th>Open</th>\n",
       "      <th>High</th>\n",
       "      <th>Low</th>\n",
       "      <th>Close</th>\n",
       "      <th>Adj Close</th>\n",
       "      <th>Volume</th>\n",
       "    </tr>\n",
       "    <tr>\n",
       "      <th>Date</th>\n",
       "      <th></th>\n",
       "      <th></th>\n",
       "      <th></th>\n",
       "      <th></th>\n",
       "      <th></th>\n",
       "      <th></th>\n",
       "    </tr>\n",
       "  </thead>\n",
       "  <tbody>\n",
       "    <tr>\n",
       "      <th>2016-01-04</th>\n",
       "      <td>7924.549805</td>\n",
       "      <td>7937.549805</td>\n",
       "      <td>7781.100098</td>\n",
       "      <td>7791.299805</td>\n",
       "      <td>7791.299805</td>\n",
       "      <td>134700.0</td>\n",
       "    </tr>\n",
       "    <tr>\n",
       "      <th>2016-01-05</th>\n",
       "      <td>7828.399902</td>\n",
       "      <td>7831.200195</td>\n",
       "      <td>7763.250000</td>\n",
       "      <td>7784.649902</td>\n",
       "      <td>7784.649902</td>\n",
       "      <td>145200.0</td>\n",
       "    </tr>\n",
       "    <tr>\n",
       "      <th>2016-01-06</th>\n",
       "      <td>7788.049805</td>\n",
       "      <td>7800.950195</td>\n",
       "      <td>7721.200195</td>\n",
       "      <td>7741.000000</td>\n",
       "      <td>7741.000000</td>\n",
       "      <td>147100.0</td>\n",
       "    </tr>\n",
       "    <tr>\n",
       "      <th>2016-01-07</th>\n",
       "      <td>7673.350098</td>\n",
       "      <td>7674.950195</td>\n",
       "      <td>7556.600098</td>\n",
       "      <td>7568.299805</td>\n",
       "      <td>7568.299805</td>\n",
       "      <td>188900.0</td>\n",
       "    </tr>\n",
       "    <tr>\n",
       "      <th>2016-01-08</th>\n",
       "      <td>7611.649902</td>\n",
       "      <td>7634.100098</td>\n",
       "      <td>7581.049805</td>\n",
       "      <td>7601.350098</td>\n",
       "      <td>7601.350098</td>\n",
       "      <td>157400.0</td>\n",
       "    </tr>\n",
       "  </tbody>\n",
       "</table>\n",
       "</div>"
      ],
      "text/plain": [
       "                   Open         High          Low        Close    Adj Close  \\\n",
       "Date                                                                          \n",
       "2016-01-04  7924.549805  7937.549805  7781.100098  7791.299805  7791.299805   \n",
       "2016-01-05  7828.399902  7831.200195  7763.250000  7784.649902  7784.649902   \n",
       "2016-01-06  7788.049805  7800.950195  7721.200195  7741.000000  7741.000000   \n",
       "2016-01-07  7673.350098  7674.950195  7556.600098  7568.299805  7568.299805   \n",
       "2016-01-08  7611.649902  7634.100098  7581.049805  7601.350098  7601.350098   \n",
       "\n",
       "              Volume  \n",
       "Date                  \n",
       "2016-01-04  134700.0  \n",
       "2016-01-05  145200.0  \n",
       "2016-01-06  147100.0  \n",
       "2016-01-07  188900.0  \n",
       "2016-01-08  157400.0  "
      ]
     },
     "execution_count": 4,
     "metadata": {},
     "output_type": "execute_result"
    }
   ],
   "source": [
    "# Displaying the 5 rows\n",
    "df.head()"
   ]
  },
  {
   "cell_type": "code",
   "execution_count": 5,
   "metadata": {},
   "outputs": [
    {
     "data": {
      "text/plain": [
       "Index(['Open', 'High', 'Low', 'Close', 'Adj Close', 'Volume'], dtype='object')"
      ]
     },
     "execution_count": 5,
     "metadata": {},
     "output_type": "execute_result"
    }
   ],
   "source": [
    "# Displaying the all columns\n",
    "df.columns"
   ]
  },
  {
   "cell_type": "code",
   "execution_count": 6,
   "metadata": {},
   "outputs": [
    {
     "data": {
      "text/plain": [
       "(1481, 6)"
      ]
     },
     "execution_count": 6,
     "metadata": {},
     "output_type": "execute_result"
    }
   ],
   "source": [
    "# Shape of dataframe\n",
    "df.shape"
   ]
  },
  {
   "cell_type": "markdown",
   "metadata": {},
   "source": [
    "so we have 1481 rows and 7 columns."
   ]
  },
  {
   "cell_type": "code",
   "execution_count": 7,
   "metadata": {},
   "outputs": [
    {
     "data": {
      "text/plain": [
       "Open         6\n",
       "High         6\n",
       "Low          6\n",
       "Close        6\n",
       "Adj Close    6\n",
       "Volume       6\n",
       "dtype: int64"
      ]
     },
     "execution_count": 7,
     "metadata": {},
     "output_type": "execute_result"
    }
   ],
   "source": [
    "# Checking for null values\n",
    "df.isnull().sum()"
   ]
  },
  {
   "cell_type": "code",
   "execution_count": 12,
   "metadata": {},
   "outputs": [],
   "source": [
    "# We are dropping the rows who has null value. We can also fill them with some another value\n",
    "# but let's go with this approach\n",
    "df.dropna(inplace = True, axis=0)"
   ]
  },
  {
   "cell_type": "code",
   "execution_count": 9,
   "metadata": {},
   "outputs": [
    {
     "data": {
      "text/plain": [
       "(1475, 6)"
      ]
     },
     "execution_count": 9,
     "metadata": {},
     "output_type": "execute_result"
    }
   ],
   "source": [
    "df.shape"
   ]
  },
  {
   "cell_type": "markdown",
   "metadata": {},
   "source": [
    "So we have delted the 6 rows\n",
    "\n",
    "### Time Series plot of Adj Close "
   ]
  },
  {
   "cell_type": "code",
   "execution_count": 10,
   "metadata": {},
   "outputs": [
    {
     "data": {
      "image/png": "[encoded data removed]",
      "text/plain": [
       "<Figure size 720x504 with 1 Axes>"
      ]
     },
     "metadata": {},
     "output_type": "display_data"
    }
   ],
   "source": [
    "plt.figure(figsize = (10,7))\n",
    "plt.plot(df.index.values, df['Adj Close'])\n",
    "plt.title(\"Time Series Plot of Market\")\n",
    "plt.xlabel(\"Dates\")\n",
    "plt.ylabel(\"Adj Close\")\n",
    "plt.show()"
   ]
  },
  {
   "cell_type": "markdown",
   "metadata": {},
   "source": [
    "From the above plot it is clear that the market has fallen down in at start of the 2020 (may be becuase of COVID) and it is at it max at the end of 2021.\n",
    "\n",
    "\n",
    "Let's plot smoothen time series plot along with the original plot to get more visibility on market trend. We will use pandas rolling_mean() function to achieve same."
   ]
  },
  {
   "cell_type": "code",
   "execution_count": 11,
   "metadata": {},
   "outputs": [],
   "source": [
    "df1.drop(['Open', 'High', 'Low', 'Close', 'Volume'], axis = 1, inplace = True)"
   ]
  },
  {
   "cell_type": "code",
   "execution_count": 12,
   "metadata": {},
   "outputs": [],
   "source": [
    "rolling = df1.rolling(window = 3)\n",
    "rolling_mean = rolling.mean()"
   ]
  },
  {
   "cell_type": "code",
   "execution_count": 13,
   "metadata": {},
   "outputs": [
    {
     "data": {
      "image/png": "[encoded data removed]",
      "text/plain": [
       "<Figure size 720x504 with 1 Axes>"
      ]
     },
     "metadata": {},
     "output_type": "display_data"
    }
   ],
   "source": [
    "plt.figure(figsize = (10,7))\n",
    "plt.plot(df.index.values, df['Adj Close'], label = 'Original time series')\n",
    "plt.plot(df.index.values, rolling_mean, label = 'Smoothed time series')\n",
    "plt.legend()\n",
    "plt.title(\"Time Series Plot of Market\")\n",
    "plt.xlabel(\"Dates\")\n",
    "plt.ylabel(\"Adj Close\") \n",
    "plt.show()"
   ]
  },
  {
   "cell_type": "markdown",
   "metadata": {},
   "source": [
    "Report the scale-dependent Root Mean Squared Error (RMSE) and Mean Absolute Error (MAE) for the method in the errors between your smoothed prices and the true prices.\n",
    "\n",
    "Checking for the null values if any"
   ]
  },
  {
   "cell_type": "code",
   "execution_count": 14,
   "metadata": {},
   "outputs": [
    {
     "data": {
      "text/plain": [
       "Adj Close    2\n",
       "dtype: int64"
      ]
     },
     "execution_count": 14,
     "metadata": {},
     "output_type": "execute_result"
    }
   ],
   "source": [
    "rolling_mean.isnull().sum()"
   ]
  },
  {
   "cell_type": "code",
   "execution_count": 15,
   "metadata": {},
   "outputs": [],
   "source": [
    "# Filling the null values with the mean.\n",
    "rolling_mean.fillna(rolling_mean.mean(), inplace = True)"
   ]
  },
  {
   "cell_type": "code",
   "execution_count": 16,
   "metadata": {},
   "outputs": [
    {
     "name": "stdout",
     "output_type": "stream",
     "text": [
      "Root Mean Squares Error (RMSE):  153.65872867862603\n",
      "Mean Absolute Error (MAE):  67.28371509392174\n"
     ]
    }
   ],
   "source": [
    "rmse = sqrt(mean_squared_error(df['Adj Close'], rolling_mean))\n",
    "mae = mean_absolute_error(df['Adj Close'], rolling_mean)\n",
    "print(\"Root Mean Squares Error (RMSE): \", rmse)\n",
    "print(\"Mean Absolute Error (MAE): \", mae)"
   ]
  },
  {
   "cell_type": "markdown",
   "metadata": {},
   "source": [
    "### CMA-5 Method\n",
    "\n",
    "Using CMA-5 forecasting methods to forecast the last TEN weeks i.e. from 2021-10-31 to 2022-01-01"
   ]
  },
  {
   "cell_type": "code",
   "execution_count": 17,
   "metadata": {},
   "outputs": [
    {
     "name": "stdout",
     "output_type": "stream",
     "text": [
      "               Adj Close\n",
      "Date                    \n",
      "2021-11-01  17929.650391\n",
      "2021-11-02  17888.949219\n",
      "2021-11-03  17829.199219\n",
      "2021-11-04  17916.800781\n",
      "2021-11-08  18068.550781\n",
      "2021-11-09  18044.250000\n",
      "2021-11-10  18017.199219\n",
      "2021-11-11  17873.599609\n",
      "2021-11-12  18102.750000\n",
      "2021-11-15  18109.449219\n",
      "2021-11-16  17999.199219\n",
      "2021-11-17  17898.650391\n",
      "2021-11-18  17764.800781\n",
      "2021-11-22  17416.550781\n",
      "2021-11-23  17503.349609\n",
      "2021-11-24  17415.050781\n",
      "2021-11-25  17536.250000\n",
      "2021-11-26  17026.449219\n",
      "2021-11-29  17053.949219\n",
      "2021-11-30  16983.199219\n",
      "2021-12-01  17166.900391\n",
      "2021-12-02  17401.650391\n",
      "2021-12-03  17196.699219\n",
      "2021-12-06  16912.250000\n",
      "2021-12-07  17176.699219\n",
      "2021-12-08  17469.750000\n",
      "2021-12-09  17516.849609\n",
      "2021-12-10  17511.300781\n",
      "2021-12-13  17368.250000\n",
      "2021-12-14  17324.900391\n",
      "2021-12-15  17221.400391\n",
      "2021-12-16  17248.400391\n",
      "2021-12-17  16985.199219\n",
      "2021-12-20  16614.199219\n",
      "2021-12-21  16770.849609\n",
      "2021-12-22  16955.449219\n",
      "2021-12-23  17072.599609\n",
      "2021-12-24  17003.750000\n",
      "2021-12-27  17086.250000\n",
      "2021-12-28  17233.250000\n",
      "2021-12-29  17213.599609\n",
      "2021-12-30  17203.949219\n",
      "2021-12-31  17354.050781\n"
     ]
    }
   ],
   "source": [
    "# Filtering the values based on the date mentioned.\n",
    "print(df1.loc['2021-10-31':'2022-01-01'])"
   ]
  },
  {
   "cell_type": "code",
   "execution_count": 18,
   "metadata": {},
   "outputs": [],
   "source": [
    "adj_close = df1['Adj Close'].loc['2021-10-31':'2022-01-01'].values"
   ]
  },
  {
   "cell_type": "code",
   "execution_count": 19,
   "metadata": {},
   "outputs": [],
   "source": [
    "y0 = df1['Adj Close'].loc['2021-10-25']\n",
    "y1 = df1['Adj Close'].loc['2021-10-18']\n",
    "y2 = df1['Adj Close'].loc['2021-10-11']\n",
    "y3 = df1['Adj Close'].loc['2021-10-04']\n",
    "y4 = df1['Adj Close'].loc['2021-09-27']"
   ]
  },
  {
   "cell_type": "code",
   "execution_count": 20,
   "metadata": {},
   "outputs": [],
   "source": [
    "cma5 = []\n",
    "for values in adj_close:\n",
    "    sum = y0 + y1 + y2 + y3 + y4\n",
    "    cma5.append(sum/5)\n",
    "    y0 = values\n",
    "    y1 = y0\n",
    "    y2 = y1\n",
    "    y3 = y2\n",
    "    y4 = y3"
   ]
  },
  {
   "cell_type": "code",
   "execution_count": 21,
   "metadata": {},
   "outputs": [
    {
     "name": "stdout",
     "output_type": "stream",
     "text": [
      "*****************RMSE and MAE for CMA-5*****************\n",
      "Root Mean Squares Error (RMSE):  174.8471487417198\n",
      "Mean Absolute Error (MAE):  136.33495634883747\n"
     ]
    }
   ],
   "source": [
    "print(\"*****************RMSE and MAE for CMA-5*****************\")\n",
    "rmse = sqrt(mean_squared_error(cma5, adj_close))\n",
    "mae = mean_absolute_error(cma5, adj_close)\n",
    "print(\"Root Mean Squares Error (RMSE): \", rmse)\n",
    "print(\"Mean Absolute Error (MAE): \", mae)"
   ]
  },
  {
   "cell_type": "markdown",
   "metadata": {},
   "source": [
    "### Weighted MA-5 Method"
   ]
  },
  {
   "cell_type": "code",
   "execution_count": 22,
   "metadata": {},
   "outputs": [],
   "source": [
    "y0 = df1['Adj Close'].loc['2021-10-25']\n",
    "y1 = df1['Adj Close'].loc['2021-10-18']\n",
    "y2 = df1['Adj Close'].loc['2021-10-11']\n",
    "y3 = df1['Adj Close'].loc['2021-10-04']\n",
    "y4 = df1['Adj Close'].loc['2021-09-27']\n",
    "\n",
    "\n",
    "ma5 = []\n",
    "for values in adj_close:\n",
    "    sum = y0 + 2 * y1 + 3 * y2 + 2 * y3 + y4\n",
    "    ma5.append(sum/9)\n",
    "    y0 = values\n",
    "    y1 = y0\n",
    "    y2 = y1\n",
    "    y3 = y2\n",
    "    y4 = y3"
   ]
  },
  {
   "cell_type": "code",
   "execution_count": 23,
   "metadata": {},
   "outputs": [
    {
     "name": "stdout",
     "output_type": "stream",
     "text": [
      "\n",
      " *****************RMSE and MAE for weighted MA-5*****************\n",
      "Root Mean Squares Error (RMSE):  174.82675879897482\n",
      "Mean Absolute Error (MAE):  136.29464425323013\n"
     ]
    }
   ],
   "source": [
    "print(\"\\n *****************RMSE and MAE for weighted MA-5*****************\")\n",
    "rmse = sqrt(mean_squared_error(ma5, adj_close))\n",
    "mae = mean_absolute_error(ma5, adj_close)\n",
    "print(\"Root Mean Squares Error (RMSE): \", rmse)\n",
    "print(\"Mean Absolute Error (MAE): \", mae)"
   ]
  },
  {
   "cell_type": "markdown",
   "metadata": {},
   "source": [
    "Let's check whether this time series {𝑟!: 𝑡 = 2, 3,…, 𝑇} is more predictable then the original time series {𝑌!: 𝑡 = 1, 2,…, 𝑇}.\n",
    "\n",
    "where r! = log(y(t)/y(t-1))"
   ]
  },
  {
   "cell_type": "code",
   "execution_count": 24,
   "metadata": {},
   "outputs": [],
   "source": [
    "rt = []\n",
    "for i in range(1, len(df['Adj Close'])):\n",
    "    val = df['Adj Close'][i] / df['Adj Close'][i-1]\n",
    "    ans = np.log(val)\n",
    "    rt.append(ans)"
   ]
  },
  {
   "cell_type": "code",
   "execution_count": 25,
   "metadata": {},
   "outputs": [
    {
     "data": {
      "image/png": "[encoded data removed]",
      "text/plain": [
       "<Figure size 720x504 with 1 Axes>"
      ]
     },
     "metadata": {},
     "output_type": "display_data"
    }
   ],
   "source": [
    "plt.figure(figsize = (10,7))\n",
    "plt.plot(df.index.values, df['Adj Close'], label = 'Original time series')\n",
    "plt.plot(df.index[1:].values, rt, label = 'Smoothed time series')\n",
    "plt.legend()\n",
    "plt.title(\"Time Series Plot\")\n",
    "plt.xlabel(\"Dates\")\n",
    "plt.ylabel(\"Adj Close\")\n",
    "plt.show()"
   ]
  },
  {
   "cell_type": "markdown",
   "metadata": {},
   "source": [
    "### Holt’s linear\n",
    "\n",
    "Implementation of Holt’s linear trend method on the returns time series. Below is a Python function taking at least three arguments, the time series to be smoothed, the smoothing parameter for level α and the smoothing parameter for the trend β, and returns the smoothed time series, by the Component form at https://otexts.com/fpp2/holt.html. "
   ]
  },
  {
   "cell_type": "code",
   "execution_count": 26,
   "metadata": {},
   "outputs": [],
   "source": [
    "def holts_linear(series, alpha, beta):\n",
    "    result = [series[0]]\n",
    "    for n in range(1, len(series)):\n",
    "        if n == 1:\n",
    "            level, trend = series[0], series[1] - series[0]\n",
    "        if n >= len(series): # we are forecasting\n",
    "          value = result[-1]\n",
    "        else:\n",
    "          value = series[n]\n",
    "        last_level, level = level, alpha*value + (1-alpha)*(level+trend)\n",
    "        trend = beta*(level-last_level) + (1-beta)*trend\n",
    "        result.append(level+trend)\n",
    "    print(\"RMSE for alpha = {} and beta = {}\".format(alpha, beta))\n",
    "    rmse = sqrt(mean_squared_error(result, rt))\n",
    "    print(\"Root Mean Squares Error (RMSE): \", rmse)"
   ]
  },
  {
   "cell_type": "code",
   "execution_count": 27,
   "metadata": {},
   "outputs": [
    {
     "name": "stdout",
     "output_type": "stream",
     "text": [
      "RMSE for alpha = 0.2 and beta = 0.4\n",
      "Root Mean Squares Error (RMSE):  0.010051200246451106\n"
     ]
    }
   ],
   "source": [
    "holts_linear(rt, 0.2, 0.4)"
   ]
  },
  {
   "cell_type": "code",
   "execution_count": 28,
   "metadata": {},
   "outputs": [
    {
     "name": "stdout",
     "output_type": "stream",
     "text": [
      "RMSE for alpha = 0.2 and beta = 0.6\n",
      "Root Mean Squares Error (RMSE):  0.010308608244623745\n"
     ]
    }
   ],
   "source": [
    "holts_linear(rt, 0.2, 0.6)"
   ]
  },
  {
   "cell_type": "code",
   "execution_count": 29,
   "metadata": {},
   "outputs": [
    {
     "name": "stdout",
     "output_type": "stream",
     "text": [
      "RMSE for alpha = 0.6 and beta = 0.2\n",
      "Root Mean Squares Error (RMSE):  0.005107642944199039\n"
     ]
    }
   ],
   "source": [
    "holts_linear(rt, 0.6, 0.2)"
   ]
  },
  {
   "cell_type": "code",
   "execution_count": 30,
   "metadata": {},
   "outputs": [
    {
     "name": "stdout",
     "output_type": "stream",
     "text": [
      "RMSE for alpha = 0.8 and beta = 0.2\n",
      "Root Mean Squares Error (RMSE):  0.0023828616901908324\n"
     ]
    }
   ],
   "source": [
    "holts_linear(rt, 0.8, 0.2)"
   ]
  },
  {
   "cell_type": "markdown",
   "metadata": {},
   "source": [
    "Now we can compare the RMSE result between rolling_mean(), CMA-5 method, weighted MA-5 method and Holt's liner method."
   ]
  },
  {
   "cell_type": "markdown",
   "metadata": {},
   "source": [
    "### LSTM Models\n",
    "\n",
    "Now let's try with more sophasticated algorithms like LSTMs."
   ]
  },
  {
   "cell_type": "code",
   "execution_count": 13,
   "metadata": {},
   "outputs": [],
   "source": [
    "# Separating X and y from dataframe\n",
    "y = pd.DataFrame(df['Adj Close'])\n",
    "x = ['Open', 'High', 'Low', 'Volume']"
   ]
  },
  {
   "cell_type": "code",
   "execution_count": 14,
   "metadata": {},
   "outputs": [],
   "source": [
    "from sklearn.preprocessing import MinMaxScaler\n",
    "std = MinMaxScaler()\n",
    "data = std.fit_transform(df[x])\n",
    "data = pd.DataFrame(columns = x, data = data, index = df.index)\n",
    "\n",
    "y_std = MinMaxScaler()\n",
    "y = y_std.fit_transform(y)\n",
    "y = pd.DataFrame(data = y)"
   ]
  },
  {
   "cell_type": "code",
   "execution_count": 17,
   "metadata": {},
   "outputs": [],
   "source": [
    "#Splitting to Training set and Test set\n",
    "timesplit= TimeSeriesSplit(n_splits=10)\n",
    "for train_index, test_index in timesplit.split(data):\n",
    "        X_train, X_test = data[:len(train_index)], data[len(train_index): (len(train_index)+len(test_index))]\n",
    "        y_train, y_test = y[:len(train_index)].values.ravel(), y[len(train_index): (len(train_index)+len(test_index))].values.ravel()"
   ]
  },
  {
   "cell_type": "code",
   "execution_count": 18,
   "metadata": {},
   "outputs": [],
   "source": [
    "#Process the data for LSTM\n",
    "trainX =np.array(X_train)\n",
    "testX =np.array(X_test)\n",
    "X_train = trainX.reshape(X_train.shape[0], 1, X_train.shape[1])\n",
    "X_test = testX.reshape(X_test.shape[0], 1, X_test.shape[1])"
   ]
  },
  {
   "cell_type": "code",
   "execution_count": 19,
   "metadata": {},
   "outputs": [],
   "source": [
    "#Building the LSTM Model\n",
    "lstm = Sequential()\n",
    "lstm.add(LSTM(64, input_shape=(1, trainX.shape[1]), activation='relu', return_sequences=False))\n",
    "lstm.add(Dense(1))\n",
    "lstm.compile(loss='mean_squared_error', optimizer='adam')"
   ]
  },
  {
   "cell_type": "code",
   "execution_count": 20,
   "metadata": {},
   "outputs": [
    {
     "name": "stdout",
     "output_type": "stream",
     "text": [
      "Epoch 1/30\n",
      "1341/1341 [==============================] - 2s 1ms/step - loss: 0.0027\n",
      "Epoch 2/30\n",
      "1341/1341 [==============================] - 1s 448us/step - loss: 0.0031\n",
      "Epoch 3/30\n",
      "1341/1341 [==============================] - 1s 459us/step - loss: 8.6988e-04\n",
      "Epoch 4/30\n",
      "1341/1341 [==============================] - 1s 454us/step - loss: 2.5065e-04\n",
      "Epoch 5/30\n",
      "1341/1341 [==============================] - 1s 447us/step - loss: 9.9584e-05\n",
      "Epoch 6/30\n",
      "1341/1341 [==============================] - 1s 467us/step - loss: 6.2072e-05\n",
      "Epoch 7/30\n",
      "1341/1341 [==============================] - 1s 490us/step - loss: 5.1594e-05 0s - loss:\n",
      "Epoch 8/30\n",
      "1341/1341 [==============================] - 1s 500us/step - loss: 4.8504e-05\n",
      "Epoch 9/30\n",
      "1341/1341 [==============================] - 1s 495us/step - loss: 4.7398e-05\n",
      "Epoch 10/30\n",
      "1341/1341 [==============================] - 1s 513us/step - loss: 4.6922e-05\n",
      "Epoch 11/30\n",
      "1341/1341 [==============================] - 1s 495us/step - loss: 4.6956e-05\n",
      "Epoch 12/30\n",
      "1341/1341 [==============================] - 1s 503us/step - loss: 4.7312e-05\n",
      "Epoch 13/30\n",
      "1341/1341 [==============================] - 1s 489us/step - loss: 4.7973e-05\n",
      "Epoch 14/30\n",
      "1341/1341 [==============================] - 1s 513us/step - loss: 4.8502e-05\n",
      "Epoch 15/30\n",
      "1341/1341 [==============================] - 1s 495us/step - loss: 4.8712e-05\n",
      "Epoch 16/30\n",
      "1341/1341 [==============================] - 1s 466us/step - loss: 4.8736e-05\n",
      "Epoch 17/30\n",
      "1341/1341 [==============================] - 1s 501us/step - loss: 4.7822e-05 0s - loss:\n",
      "Epoch 18/30\n",
      "1341/1341 [==============================] - 1s 529us/step - loss: 4.7654e-05\n",
      "Epoch 19/30\n",
      "1341/1341 [==============================] - 1s 478us/step - loss: 4.9124e-05\n",
      "Epoch 20/30\n",
      "1341/1341 [==============================] - 1s 465us/step - loss: 5.1380e-05\n",
      "Epoch 21/30\n",
      "1341/1341 [==============================] - 1s 471us/step - loss: 5.3791e-05\n",
      "Epoch 22/30\n",
      "1341/1341 [==============================] - 1s 463us/step - loss: 5.6141e-05\n",
      "Epoch 23/30\n",
      "1341/1341 [==============================] - 1s 467us/step - loss: 5.7394e-05\n",
      "Epoch 24/30\n",
      "1341/1341 [==============================] - 1s 502us/step - loss: 5.7968e-05\n",
      "Epoch 25/30\n",
      "1341/1341 [==============================] - ETA: 0s - loss: 5.9547e-0 - 1s 693us/step - loss: 5.9014e-05\n",
      "Epoch 26/30\n",
      "1341/1341 [==============================] - 1s 491us/step - loss: 5.9104e-05\n",
      "Epoch 27/30\n",
      "1341/1341 [==============================] - 1s 453us/step - loss: 5.8858e-05\n",
      "Epoch 28/30\n",
      "1341/1341 [==============================] - 1s 447us/step - loss: 5.8235e-05\n",
      "Epoch 29/30\n",
      "1341/1341 [==============================] - 1s 459us/step - loss: 5.7175e-05\n",
      "Epoch 30/30\n",
      "1341/1341 [==============================] - 1s 453us/step - loss: 5.7077e-05\n"
     ]
    }
   ],
   "source": [
    "history=lstm.fit(X_train, y_train, epochs=30, batch_size=8, verbose=1, shuffle=False)"
   ]
  },
  {
   "cell_type": "code",
   "execution_count": 21,
   "metadata": {},
   "outputs": [],
   "source": [
    "# Predicting on X_test\n",
    "y_pred= lstm.predict(X_test)"
   ]
  },
  {
   "cell_type": "code",
   "execution_count": 22,
   "metadata": {},
   "outputs": [
    {
     "data": {
      "image/png": "[encoded data removed]",
      "text/plain": [
       "<Figure size 432x288 with 1 Axes>"
      ]
     },
     "metadata": {},
     "output_type": "display_data"
    }
   ],
   "source": [
    "#Predicted vs True Adj Close Value – LSTM\n",
    "plt.plot(y_test, label='True Value')\n",
    "plt.plot(y_pred, label='LSTM Value')\n",
    "plt.title('Prediction by LSTM')\n",
    "plt.xlabel('Time Scale')\n",
    "plt.ylabel('Scaled USD')\n",
    "plt.legend()\n",
    "plt.show()"
   ]
  },
  {
   "cell_type": "code",
   "execution_count": 23,
   "metadata": {},
   "outputs": [
    {
     "name": "stdout",
     "output_type": "stream",
     "text": [
      "\n",
      " *****************RMSE and MAE for LSTM*****************\n",
      "Root Mean Squares Error (RMSE):  0.007368325499079721\n",
      "Mean Absolute Error (MAE):  0.005658015348078246\n"
     ]
    }
   ],
   "source": [
    "print(\"\\n *****************RMSE and MAE for LSTM*****************\")\n",
    "rmse = sqrt(mean_squared_error(y_test, y_pred))\n",
    "mae = mean_absolute_error(y_test, y_pred)\n",
    "print(\"Root Mean Squares Error (RMSE): \", rmse)\n",
    "print(\"Mean Absolute Error (MAE): \", mae)"
   ]
  },
  {
   "cell_type": "markdown",
   "metadata": {},
   "source": [
    "Here we can see thaat the RMSE value has been decreased a lot.\n",
    "\n",
    "Now let's add 128 units of LSTM and train again for 30 epochs."
   ]
  },
  {
   "cell_type": "code",
   "execution_count": 25,
   "metadata": {},
   "outputs": [],
   "source": [
    "#Building the LSTM Model\n",
    "lstm = Sequential()\n",
    "lstm.add(LSTM(128, input_shape=(1, trainX.shape[1]), activation='relu', return_sequences=False))\n",
    "lstm.add(Dense(1))\n",
    "lstm.compile(loss='mean_squared_error', optimizer='adam')"
   ]
  },
  {
   "cell_type": "code",
   "execution_count": 26,
   "metadata": {},
   "outputs": [
    {
     "name": "stdout",
     "output_type": "stream",
     "text": [
      "Epoch 1/30\n",
      "1341/1341 [==============================] - 2s 2ms/step - loss: 0.0025\n",
      "Epoch 2/30\n",
      "1341/1341 [==============================] - 1s 683us/step - loss: 0.0026\n",
      "Epoch 3/30\n",
      "1341/1341 [==============================] - 1s 982us/step - loss: 9.3587e-04\n",
      "Epoch 4/30\n",
      "1341/1341 [==============================] - 1s 690us/step - loss: 3.1513e-04\n",
      "Epoch 5/30\n",
      "1341/1341 [==============================] - 1s 777us/step - loss: 1.1835e-04\n",
      "Epoch 6/30\n",
      "1341/1341 [==============================] - 1s 728us/step - loss: 6.2290e-05\n",
      "Epoch 7/30\n",
      "1341/1341 [==============================] - 1s 722us/step - loss: 4.9784e-05\n",
      "Epoch 8/30\n",
      "1341/1341 [==============================] - 1s 920us/step - loss: 4.5519e-05 0s\n",
      "Epoch 9/30\n",
      "1341/1341 [==============================] - 1s 734us/step - loss: 4.3701e-05\n",
      "Epoch 10/30\n",
      "1341/1341 [==============================] - 1s 704us/step - loss: 4.3189e-05\n",
      "Epoch 11/30\n",
      "1341/1341 [==============================] - 1s 694us/step - loss: 4.4101e-05\n",
      "Epoch 12/30\n",
      "1341/1341 [==============================] - 1s 884us/step - loss: 4.6193e-05\n",
      "Epoch 13/30\n",
      "1341/1341 [==============================] - 1s 782us/step - loss: 4.8200e-05\n",
      "Epoch 14/30\n",
      "1341/1341 [==============================] - 1s 931us/step - loss: 5.0117e-05\n",
      "Epoch 15/30\n",
      "1341/1341 [==============================] - 1s 713us/step - loss: 5.0948e-05\n",
      "Epoch 16/30\n",
      "1341/1341 [==============================] - 1s 710us/step - loss: 5.1508e-05\n",
      "Epoch 17/30\n",
      "1341/1341 [==============================] - 1s 698us/step - loss: 5.2217e-05\n",
      "Epoch 18/30\n",
      "1341/1341 [==============================] - 1s 680us/step - loss: 5.3933e-05\n",
      "Epoch 19/30\n",
      "1341/1341 [==============================] - 1s 707us/step - loss: 5.6408e-05\n",
      "Epoch 20/30\n",
      "1341/1341 [==============================] - 2s 1ms/step - loss: 5.8211e-05\n",
      "Epoch 21/30\n",
      "1341/1341 [==============================] - 1s 812us/step - loss: 5.9856e-05\n",
      "Epoch 22/30\n",
      "1341/1341 [==============================] - 1s 722us/step - loss: 6.1543e-05\n",
      "Epoch 23/30\n",
      "1341/1341 [==============================] - 1s 734us/step - loss: 6.2976e-05\n",
      "Epoch 24/30\n",
      "1341/1341 [==============================] - 1s 698us/step - loss: 6.3323e-05\n",
      "Epoch 25/30\n",
      "1341/1341 [==============================] - 1s 686us/step - loss: 6.3883e-05\n",
      "Epoch 26/30\n",
      "1341/1341 [==============================] - 1s 698us/step - loss: 6.3803e-05\n",
      "Epoch 27/30\n",
      "1341/1341 [==============================] - 1s 686us/step - loss: 6.3347e-05\n",
      "Epoch 28/30\n",
      "1341/1341 [==============================] - 1s 717us/step - loss: 6.2965e-05\n",
      "Epoch 29/30\n",
      "1341/1341 [==============================] - 1s 764us/step - loss: 6.1631e-05\n",
      "Epoch 30/30\n",
      "1341/1341 [==============================] - 1s 700us/step - loss: 6.0213e-05\n"
     ]
    }
   ],
   "source": [
    "history=lstm.fit(X_train, y_train, epochs=30, batch_size=8, verbose=1, shuffle=False)"
   ]
  },
  {
   "cell_type": "code",
   "execution_count": 27,
   "metadata": {},
   "outputs": [],
   "source": [
    "# Predicting on X_test\n",
    "y_pred= lstm.predict(X_test)"
   ]
  },
  {
   "cell_type": "code",
   "execution_count": 28,
   "metadata": {},
   "outputs": [
    {
     "data": {
      "image/png": "[encoded data removed]",
      "text/plain": [
       "<Figure size 432x288 with 1 Axes>"
      ]
     },
     "metadata": {},
     "output_type": "display_data"
    }
   ],
   "source": [
    "#Predicted vs True Adj Close Value – LSTM\n",
    "plt.plot(y_test, label='True Value')\n",
    "plt.plot(y_pred, label='LSTM Value')\n",
    "plt.title('Prediction by LSTM')\n",
    "plt.xlabel('Time Scale')\n",
    "plt.ylabel('Scaled USD')\n",
    "plt.legend()\n",
    "plt.show()"
   ]
  },
  {
   "cell_type": "code",
   "execution_count": 29,
   "metadata": {},
   "outputs": [
    {
     "name": "stdout",
     "output_type": "stream",
     "text": [
      "\n",
      " *****************RMSE and MAE for LSTM*****************\n",
      "Root Mean Squares Error (RMSE):  0.006968763148436176\n",
      "Mean Absolute Error (MAE):  0.005589641408835556\n"
     ]
    }
   ],
   "source": [
    "print(\"\\n *****************RMSE and MAE for LSTM*****************\")\n",
    "rmse = sqrt(mean_squared_error(y_test, y_pred))\n",
    "mae = mean_absolute_error(y_test, y_pred)\n",
    "print(\"Root Mean Squares Error (RMSE): \", rmse)\n",
    "print(\"Mean Absolute Error (MAE): \", mae)"
   ]
  },
  {
   "cell_type": "markdown",
   "metadata": {},
   "source": [
    "Not much difference in RMSE and MAE values."
   ]
  },
  {
   "cell_type": "markdown",
   "metadata": {},
   "source": [
    "### Actual test data"
   ]
  },
  {
   "cell_type": "code",
   "execution_count": 31,
   "metadata": {},
   "outputs": [],
   "source": [
    "df_test = pd.read_csv('NSE Data/NSE Out of Time Testing Data - 1st Jan 2022 to 4th Feb 2022.csv',  na_values=['null'], index_col='Date', parse_dates=True, infer_datetime_format=True)\n",
    "x = ['Open', 'High', 'Low', 'Volume']\n",
    "y = pd.DataFrame(df_test['Adj Close'])"
   ]
  },
  {
   "cell_type": "markdown",
   "metadata": {},
   "source": [
    "#### IMPORTANT\n",
    "\n",
    "Here we are using the trained mean and std deviation on test data. We cannot use new mean and std deviation on test data."
   ]
  },
  {
   "cell_type": "code",
   "execution_count": 38,
   "metadata": {},
   "outputs": [],
   "source": [
    "std_test = std.transform(df_test[x])\n",
    "std_test = pd.DataFrame(columns = x, data = std_test, index = df_test.index)\n",
    "\n",
    "y = y_std.transform(y)\n",
    "y = pd.DataFrame(data = y)#, index = market.index)"
   ]
  },
  {
   "cell_type": "code",
   "execution_count": 40,
   "metadata": {},
   "outputs": [],
   "source": [
    "std_test = np.array(std_test)\n",
    "std_test = std_test.reshape(std_test.shape[0],1,std_test.shape[1])"
   ]
  },
  {
   "cell_type": "code",
   "execution_count": 41,
   "metadata": {},
   "outputs": [],
   "source": [
    "y = np.array(y).reshape(-1)"
   ]
  },
  {
   "cell_type": "code",
   "execution_count": 42,
   "metadata": {},
   "outputs": [],
   "source": [
    "out_of_time_prediction = lstm.predict(std_test)"
   ]
  },
  {
   "cell_type": "code",
   "execution_count": 43,
   "metadata": {},
   "outputs": [
    {
     "data": {
      "image/png": "[encoded data removed]",
      "text/plain": [
       "<Figure size 432x288 with 1 Axes>"
      ]
     },
     "metadata": {},
     "output_type": "display_data"
    }
   ],
   "source": [
    "import matplotlib. pyplot as plt\n",
    "plt.plot(y, label = 'True Value')\n",
    "plt.plot(out_of_time_prediction, label = 'Predicted Value')\n",
    "plt.title(\"Predicted future without training\")\n",
    "plt.xlabel('Time Scale')\n",
    "plt.ylabel('Scaled USD')\n",
    "plt.legend()\n",
    "plt.show()"
   ]
  },
  {
   "cell_type": "code",
   "execution_count": 44,
   "metadata": {},
   "outputs": [
    {
     "name": "stdout",
     "output_type": "stream",
     "text": [
      "\n",
      " *****************RMSE and MAE for LSTM*****************\n",
      "Root Mean Squares Error (RMSE):  0.010392586840323752\n",
      "Mean Absolute Error (MAE):  0.009298837351382459\n"
     ]
    }
   ],
   "source": [
    "print(\"\\n *****************RMSE and MAE for LSTM*****************\")\n",
    "rmse = sqrt(mean_squared_error(out_of_time_prediction, y))\n",
    "mae = mean_absolute_error(out_of_time_prediction, y)\n",
    "print(\"Root Mean Squares Error (RMSE): \", rmse)\n",
    "print(\"Mean Absolute Error (MAE): \", mae)"
   ]
  },
  {
   "cell_type": "markdown",
   "metadata": {},
   "source": [
    "By looking at the result we can say that we have achieved the good RMSE and MAE error."
   ]
  },
  {
   "cell_type": "code",
   "execution_count": null,
   "metadata": {},
   "outputs": [],
   "source": []
  }
 ],
 "metadata": {
  "kernelspec": {
   "display_name": "Python 3",
   "language": "python",
   "name": "python3"
  },
  "language_info": {
   "codemirror_mode": {
    "name": "ipython",
    "version": 3
   },
   "file_extension": ".py",
   "mimetype": "text/x-python",
   "name": "python",
   "nbconvert_exporter": "python",
   "pygments_lexer": "ipython3",
   "version": "3.6.5"
  }
 },
 "nbformat": 4,
 "nbformat_minor": 2
}
