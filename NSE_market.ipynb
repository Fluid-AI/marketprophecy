{
 "cells": [
  {
   "cell_type": "markdown",
   "id": "90bf217d",
   "metadata": {},
   "source": [
    "# Importing Libraries"
   ]
  },
  {
   "cell_type": "code",
   "execution_count": 221,
   "id": "39141d8d",
   "metadata": {},
   "outputs": [],
   "source": [
    "import pandas as pd\n",
    "import numpy as np\n",
    "import seaborn as sns\n",
    "import matplotlib.pyplot as plt\n",
    "import warnings\n",
    "warnings.filterwarnings('ignore')"
   ]
  },
  {
   "cell_type": "markdown",
   "id": "f415cd49",
   "metadata": {},
   "source": [
    "# Loading the Dataset"
   ]
  },
  {
   "cell_type": "code",
   "execution_count": 222,
   "id": "0af2fb6c",
   "metadata": {},
   "outputs": [],
   "source": [
    "data_training=pd.read_csv(\"nse_training.csv\")\n",
    "df1=data_training"
   ]
  },
  {
   "cell_type": "code",
   "execution_count": 223,
   "id": "f564e357",
   "metadata": {},
   "outputs": [],
   "source": [
    "data_test=pd.read_csv(\"nse_test.csv\")\n",
    "data_test=df2"
   ]
  },
  {
   "cell_type": "markdown",
   "id": "93ff92cc",
   "metadata": {},
   "source": [
    "# Analysing the Patterns of the training Dataset"
   ]
  },
  {
   "cell_type": "code",
   "execution_count": 224,
   "id": "a8bd56fc",
   "metadata": {},
   "outputs": [
    {
     "data": {
      "text/html": [
       "<div>\n",
       "<style scoped>\n",
       "    .dataframe tbody tr th:only-of-type {\n",
       "        vertical-align: middle;\n",
       "    }\n",
       "\n",
       "    .dataframe tbody tr th {\n",
       "        vertical-align: top;\n",
       "    }\n",
       "\n",
       "    .dataframe thead th {\n",
       "        text-align: right;\n",
       "    }\n",
       "</style>\n",
       "<table border=\"1\" class=\"dataframe\">\n",
       "  <thead>\n",
       "    <tr style=\"text-align: right;\">\n",
       "      <th></th>\n",
       "      <th>Date</th>\n",
       "      <th>Open</th>\n",
       "      <th>High</th>\n",
       "      <th>Low</th>\n",
       "      <th>Close</th>\n",
       "      <th>Adj Close</th>\n",
       "      <th>Volume</th>\n",
       "    </tr>\n",
       "  </thead>\n",
       "  <tbody>\n",
       "    <tr>\n",
       "      <th>0</th>\n",
       "      <td>2016-01-04</td>\n",
       "      <td>7924.549805</td>\n",
       "      <td>7937.549805</td>\n",
       "      <td>7781.100098</td>\n",
       "      <td>7791.299805</td>\n",
       "      <td>7791.299805</td>\n",
       "      <td>134700.0</td>\n",
       "    </tr>\n",
       "    <tr>\n",
       "      <th>1</th>\n",
       "      <td>2016-01-05</td>\n",
       "      <td>7828.399902</td>\n",
       "      <td>7831.200195</td>\n",
       "      <td>7763.250000</td>\n",
       "      <td>7784.649902</td>\n",
       "      <td>7784.649902</td>\n",
       "      <td>145200.0</td>\n",
       "    </tr>\n",
       "    <tr>\n",
       "      <th>2</th>\n",
       "      <td>2016-01-06</td>\n",
       "      <td>7788.049805</td>\n",
       "      <td>7800.950195</td>\n",
       "      <td>7721.200195</td>\n",
       "      <td>7741.000000</td>\n",
       "      <td>7741.000000</td>\n",
       "      <td>147100.0</td>\n",
       "    </tr>\n",
       "    <tr>\n",
       "      <th>3</th>\n",
       "      <td>2016-01-07</td>\n",
       "      <td>7673.350098</td>\n",
       "      <td>7674.950195</td>\n",
       "      <td>7556.600098</td>\n",
       "      <td>7568.299805</td>\n",
       "      <td>7568.299805</td>\n",
       "      <td>188900.0</td>\n",
       "    </tr>\n",
       "    <tr>\n",
       "      <th>4</th>\n",
       "      <td>2016-01-08</td>\n",
       "      <td>7611.649902</td>\n",
       "      <td>7634.100098</td>\n",
       "      <td>7581.049805</td>\n",
       "      <td>7601.350098</td>\n",
       "      <td>7601.350098</td>\n",
       "      <td>157400.0</td>\n",
       "    </tr>\n",
       "  </tbody>\n",
       "</table>\n",
       "</div>"
      ],
      "text/plain": [
       "         Date         Open         High          Low        Close  \\\n",
       "0  2016-01-04  7924.549805  7937.549805  7781.100098  7791.299805   \n",
       "1  2016-01-05  7828.399902  7831.200195  7763.250000  7784.649902   \n",
       "2  2016-01-06  7788.049805  7800.950195  7721.200195  7741.000000   \n",
       "3  2016-01-07  7673.350098  7674.950195  7556.600098  7568.299805   \n",
       "4  2016-01-08  7611.649902  7634.100098  7581.049805  7601.350098   \n",
       "\n",
       "     Adj Close    Volume  \n",
       "0  7791.299805  134700.0  \n",
       "1  7784.649902  145200.0  \n",
       "2  7741.000000  147100.0  \n",
       "3  7568.299805  188900.0  \n",
       "4  7601.350098  157400.0  "
      ]
     },
     "execution_count": 224,
     "metadata": {},
     "output_type": "execute_result"
    }
   ],
   "source": [
    "df1.head()"
   ]
  },
  {
   "cell_type": "code",
   "execution_count": 225,
   "id": "db1f6fc8",
   "metadata": {},
   "outputs": [
    {
     "name": "stdout",
     "output_type": "stream",
     "text": [
      "<class 'pandas.core.frame.DataFrame'>\n",
      "RangeIndex: 1481 entries, 0 to 1480\n",
      "Data columns (total 7 columns):\n",
      " #   Column     Non-Null Count  Dtype  \n",
      "---  ------     --------------  -----  \n",
      " 0   Date       1481 non-null   object \n",
      " 1   Open       1475 non-null   float64\n",
      " 2   High       1475 non-null   float64\n",
      " 3   Low        1475 non-null   float64\n",
      " 4   Close      1475 non-null   float64\n",
      " 5   Adj Close  1475 non-null   float64\n",
      " 6   Volume     1475 non-null   float64\n",
      "dtypes: float64(6), object(1)\n",
      "memory usage: 81.1+ KB\n"
     ]
    }
   ],
   "source": [
    "df1.info()"
   ]
  },
  {
   "cell_type": "markdown",
   "id": "98146fcf",
   "metadata": {},
   "source": [
    "6 float datatype column and 1 object datatype column present in the dataset."
   ]
  },
  {
   "cell_type": "code",
   "execution_count": 226,
   "id": "f80fed1e",
   "metadata": {},
   "outputs": [
    {
     "data": {
      "text/plain": [
       "(1481, 7)"
      ]
     },
     "execution_count": 226,
     "metadata": {},
     "output_type": "execute_result"
    }
   ],
   "source": [
    "# Checking shape\n",
    "df1.shape"
   ]
  },
  {
   "cell_type": "markdown",
   "id": "8b9e069f",
   "metadata": {},
   "source": [
    "1481 rows and 7 columns present in the dataset."
   ]
  },
  {
   "cell_type": "code",
   "execution_count": 227,
   "id": "e6effeca",
   "metadata": {},
   "outputs": [
    {
     "data": {
      "text/plain": [
       "Date         0\n",
       "Open         6\n",
       "High         6\n",
       "Low          6\n",
       "Close        6\n",
       "Adj Close    6\n",
       "Volume       6\n",
       "dtype: int64"
      ]
     },
     "execution_count": 227,
     "metadata": {},
     "output_type": "execute_result"
    }
   ],
   "source": [
    "# Checking Null values\n",
    "df1.isnull().sum()"
   ]
  },
  {
   "cell_type": "markdown",
   "id": "8b07e2a1",
   "metadata": {},
   "source": [
    "Null values are present most of the columns."
   ]
  },
  {
   "cell_type": "code",
   "execution_count": 228,
   "id": "e6276d04",
   "metadata": {},
   "outputs": [],
   "source": [
    "# Handling Null values\n",
    "df1['Open']=df1['Open'].fillna(np.mean(df1['Open']))\n",
    "df1['High']=df1['High'].fillna(np.mean(df1['High']))\n",
    "df1['Low']=df1['Low'].fillna(np.mean(df1['Low']))\n",
    "df1['Close']=df1['Close'].fillna(np.mean(df1['Close']))\n",
    "df1['Adj Close']=df1['Adj Close'].fillna(np.mean(df1['Adj Close']))\n",
    "df1['Volume']=df1['Volume'].fillna(np.mean(df1['Volume']))\n",
    "\n",
    "\n",
    "\n"
   ]
  },
  {
   "cell_type": "code",
   "execution_count": 229,
   "id": "926be44d",
   "metadata": {},
   "outputs": [],
   "source": [
    "# Handling the Date column\n",
    "df1[\"Date\"] = pd.to_datetime(df1[\"Date\"])\n",
    "df1[\"Year\"]= df1[\"Date\"].dt.year\n",
    "df1[\"Month\"]= df1[\"Date\"].dt.month\n",
    "df1[\"Day\"]= df1[\"Date\"].dt.day\n",
    "\n"
   ]
  },
  {
   "cell_type": "code",
   "execution_count": 230,
   "id": "e2f76fb0",
   "metadata": {},
   "outputs": [
    {
     "data": {
      "text/html": [
       "<div>\n",
       "<style scoped>\n",
       "    .dataframe tbody tr th:only-of-type {\n",
       "        vertical-align: middle;\n",
       "    }\n",
       "\n",
       "    .dataframe tbody tr th {\n",
       "        vertical-align: top;\n",
       "    }\n",
       "\n",
       "    .dataframe thead th {\n",
       "        text-align: right;\n",
       "    }\n",
       "</style>\n",
       "<table border=\"1\" class=\"dataframe\">\n",
       "  <thead>\n",
       "    <tr style=\"text-align: right;\">\n",
       "      <th></th>\n",
       "      <th>Date</th>\n",
       "      <th>Open</th>\n",
       "      <th>High</th>\n",
       "      <th>Low</th>\n",
       "      <th>Close</th>\n",
       "      <th>Adj Close</th>\n",
       "      <th>Volume</th>\n",
       "      <th>Year</th>\n",
       "      <th>Month</th>\n",
       "      <th>Day</th>\n",
       "    </tr>\n",
       "  </thead>\n",
       "  <tbody>\n",
       "    <tr>\n",
       "      <th>0</th>\n",
       "      <td>2016-01-04</td>\n",
       "      <td>7924.549805</td>\n",
       "      <td>7937.549805</td>\n",
       "      <td>7781.100098</td>\n",
       "      <td>7791.299805</td>\n",
       "      <td>7791.299805</td>\n",
       "      <td>134700.0</td>\n",
       "      <td>2016</td>\n",
       "      <td>1</td>\n",
       "      <td>4</td>\n",
       "    </tr>\n",
       "    <tr>\n",
       "      <th>1</th>\n",
       "      <td>2016-01-05</td>\n",
       "      <td>7828.399902</td>\n",
       "      <td>7831.200195</td>\n",
       "      <td>7763.250000</td>\n",
       "      <td>7784.649902</td>\n",
       "      <td>7784.649902</td>\n",
       "      <td>145200.0</td>\n",
       "      <td>2016</td>\n",
       "      <td>1</td>\n",
       "      <td>5</td>\n",
       "    </tr>\n",
       "    <tr>\n",
       "      <th>2</th>\n",
       "      <td>2016-01-06</td>\n",
       "      <td>7788.049805</td>\n",
       "      <td>7800.950195</td>\n",
       "      <td>7721.200195</td>\n",
       "      <td>7741.000000</td>\n",
       "      <td>7741.000000</td>\n",
       "      <td>147100.0</td>\n",
       "      <td>2016</td>\n",
       "      <td>1</td>\n",
       "      <td>6</td>\n",
       "    </tr>\n",
       "    <tr>\n",
       "      <th>3</th>\n",
       "      <td>2016-01-07</td>\n",
       "      <td>7673.350098</td>\n",
       "      <td>7674.950195</td>\n",
       "      <td>7556.600098</td>\n",
       "      <td>7568.299805</td>\n",
       "      <td>7568.299805</td>\n",
       "      <td>188900.0</td>\n",
       "      <td>2016</td>\n",
       "      <td>1</td>\n",
       "      <td>7</td>\n",
       "    </tr>\n",
       "    <tr>\n",
       "      <th>4</th>\n",
       "      <td>2016-01-08</td>\n",
       "      <td>7611.649902</td>\n",
       "      <td>7634.100098</td>\n",
       "      <td>7581.049805</td>\n",
       "      <td>7601.350098</td>\n",
       "      <td>7601.350098</td>\n",
       "      <td>157400.0</td>\n",
       "      <td>2016</td>\n",
       "      <td>1</td>\n",
       "      <td>8</td>\n",
       "    </tr>\n",
       "  </tbody>\n",
       "</table>\n",
       "</div>"
      ],
      "text/plain": [
       "        Date         Open         High          Low        Close    Adj Close  \\\n",
       "0 2016-01-04  7924.549805  7937.549805  7781.100098  7791.299805  7791.299805   \n",
       "1 2016-01-05  7828.399902  7831.200195  7763.250000  7784.649902  7784.649902   \n",
       "2 2016-01-06  7788.049805  7800.950195  7721.200195  7741.000000  7741.000000   \n",
       "3 2016-01-07  7673.350098  7674.950195  7556.600098  7568.299805  7568.299805   \n",
       "4 2016-01-08  7611.649902  7634.100098  7581.049805  7601.350098  7601.350098   \n",
       "\n",
       "     Volume  Year  Month  Day  \n",
       "0  134700.0  2016      1    4  \n",
       "1  145200.0  2016      1    5  \n",
       "2  147100.0  2016      1    6  \n",
       "3  188900.0  2016      1    7  \n",
       "4  157400.0  2016      1    8  "
      ]
     },
     "execution_count": 230,
     "metadata": {},
     "output_type": "execute_result"
    }
   ],
   "source": [
    "df1.head()"
   ]
  },
  {
   "cell_type": "markdown",
   "id": "fe8792ff",
   "metadata": {},
   "source": [
    "So now we have extracted the Year, Month and Day from the Date Column.\n"
   ]
  },
  {
   "cell_type": "code",
   "execution_count": 231,
   "id": "6ad02c64",
   "metadata": {},
   "outputs": [],
   "source": [
    "# Deleting Date Column\n",
    "del df1['Date']"
   ]
  },
  {
   "cell_type": "code",
   "execution_count": 232,
   "id": "d4f18f2d",
   "metadata": {},
   "outputs": [
    {
     "data": {
      "text/plain": [
       "(1481, 9)"
      ]
     },
     "execution_count": 232,
     "metadata": {},
     "output_type": "execute_result"
    }
   ],
   "source": [
    "df1.shape"
   ]
  },
  {
   "cell_type": "markdown",
   "id": "74ef6578",
   "metadata": {},
   "source": [
    "Now 1481 rows and 9 columns present in the Dataset."
   ]
  },
  {
   "cell_type": "markdown",
   "id": "092f3444",
   "metadata": {},
   "source": [
    "# EDA Nominal data"
   ]
  },
  {
   "cell_type": "code",
   "execution_count": 233,
   "id": "2dd8a573",
   "metadata": {},
   "outputs": [
    {
     "data": {
      "text/plain": [
       "Index(['Open', 'High', 'Low', 'Close', 'Adj Close', 'Volume', 'Year', 'Month',\n",
       "       'Day'],\n",
       "      dtype='object')"
      ]
     },
     "execution_count": 233,
     "metadata": {},
     "output_type": "execute_result"
    }
   ],
   "source": [
    "df1.columns"
   ]
  },
  {
   "cell_type": "code",
   "execution_count": 234,
   "id": "6f9e25b9",
   "metadata": {},
   "outputs": [
    {
     "name": "stdout",
     "output_type": "stream",
     "text": [
      "2020    251\n",
      "2017    248\n",
      "2021    248\n",
      "2018    246\n",
      "2016    245\n",
      "2019    243\n",
      "Name: Year, dtype: int64\n"
     ]
    },
    {
     "data": {
      "image/png": "[encoded data removed]",
      "text/plain": [
       "<Figure size 432x288 with 1 Axes>"
      ]
     },
     "metadata": {
      "needs_background": "light"
     },
     "output_type": "display_data"
    }
   ],
   "source": [
    "ax=sns.countplot(x='Year',data=df1)\n",
    "print(df1['Year'].value_counts())\n",
    "ax.set_xticklabels(ax.get_xticklabels(),rotation=90, ha='right')\n",
    "plt.tight_layout()"
   ]
  },
  {
   "cell_type": "markdown",
   "id": "51d2c9ce",
   "metadata": {},
   "source": [
    "Year is in range from 2016 to 2021 and figure is showing that there is not much noicable difference betweeen them."
   ]
  },
  {
   "cell_type": "code",
   "execution_count": 235,
   "id": "2378327f",
   "metadata": {},
   "outputs": [
    {
     "name": "stdout",
     "output_type": "stream",
     "text": [
      "7     130\n",
      "1     128\n",
      "12    128\n",
      "5     127\n",
      "6     127\n",
      "8     126\n",
      "11    123\n",
      "3     121\n",
      "9     121\n",
      "10    120\n",
      "2     117\n",
      "4     113\n",
      "Name: Month, dtype: int64\n"
     ]
    },
    {
     "data": {
      "image/png": "[encoded data removed]",
      "text/plain": [
       "<Figure size 432x288 with 1 Axes>"
      ]
     },
     "metadata": {
      "needs_background": "light"
     },
     "output_type": "display_data"
    }
   ],
   "source": [
    "ax=sns.countplot(x='Month',data=df1)\n",
    "print(df1['Month'].value_counts())\n",
    "ax.set_xticklabels(ax.get_xticklabels(),rotation=90, ha='right')\n",
    "plt.tight_layout()"
   ]
  },
  {
   "cell_type": "markdown",
   "id": "056acced",
   "metadata": {},
   "source": [
    "According to the figure there is not much differnce in any of the month."
   ]
  },
  {
   "cell_type": "markdown",
   "id": "76012995",
   "metadata": {},
   "source": [
    "# EDA Continuous Data"
   ]
  },
  {
   "cell_type": "code",
   "execution_count": 236,
   "id": "22c0a4c3",
   "metadata": {},
   "outputs": [
    {
     "data": {
      "text/plain": [
       "<AxesSubplot:xlabel='Open', ylabel='Density'>"
      ]
     },
     "execution_count": 236,
     "metadata": {},
     "output_type": "execute_result"
    },
    {
     "data": {
      "image/png": "[encoded data removed]",
      "text/plain": [
       "<Figure size 432x288 with 1 Axes>"
      ]
     },
     "metadata": {
      "needs_background": "light"
     },
     "output_type": "display_data"
    }
   ],
   "source": [
    "sns.distplot(df1['Open'])"
   ]
  },
  {
   "cell_type": "markdown",
   "id": "a673da43",
   "metadata": {},
   "source": [
    "Open is in range from 6000 to 20000 and most of the amount is in range from 7000 to 13000 approx."
   ]
  },
  {
   "cell_type": "code",
   "execution_count": null,
   "id": "aecb5919",
   "metadata": {},
   "outputs": [],
   "source": []
  },
  {
   "cell_type": "code",
   "execution_count": 237,
   "id": "5f2d6673",
   "metadata": {},
   "outputs": [
    {
     "data": {
      "text/plain": [
       "<AxesSubplot:xlabel='High', ylabel='Density'>"
      ]
     },
     "execution_count": 237,
     "metadata": {},
     "output_type": "execute_result"
    },
    {
     "data": {
      "image/png": "[encoded data removed]",
      "text/plain": [
       "<Figure size 432x288 with 1 Axes>"
      ]
     },
     "metadata": {
      "needs_background": "light"
     },
     "output_type": "display_data"
    }
   ],
   "source": [
    "sns.distplot(df1['High'])"
   ]
  },
  {
   "cell_type": "markdown",
   "id": "3d3cd062",
   "metadata": {},
   "source": [
    "Most of the amount in High column is in range from 7000 to 13000 and lesser amount is in range from 14000 to 19000 approx."
   ]
  },
  {
   "cell_type": "code",
   "execution_count": null,
   "id": "d7dc9b05",
   "metadata": {},
   "outputs": [],
   "source": []
  },
  {
   "cell_type": "code",
   "execution_count": 238,
   "id": "b332f2b9",
   "metadata": {},
   "outputs": [
    {
     "data": {
      "text/plain": [
       "<AxesSubplot:xlabel='Low', ylabel='Density'>"
      ]
     },
     "execution_count": 238,
     "metadata": {},
     "output_type": "execute_result"
    },
    {
     "data": {
      "image/png": "[encoded data removed]",
      "text/plain": [
       "<Figure size 432x288 with 1 Axes>"
      ]
     },
     "metadata": {
      "needs_background": "light"
     },
     "output_type": "display_data"
    }
   ],
   "source": [
    "sns.distplot(df1['Low'])"
   ]
  },
  {
   "cell_type": "markdown",
   "id": "957815ac",
   "metadata": {},
   "source": [
    "Most of the amount in Low column is in range from 7000 to 13000 and lesser amount is in range from 14000 to 19000 approx."
   ]
  },
  {
   "cell_type": "code",
   "execution_count": null,
   "id": "7d240fac",
   "metadata": {},
   "outputs": [],
   "source": []
  },
  {
   "cell_type": "code",
   "execution_count": 239,
   "id": "bb01f96e",
   "metadata": {},
   "outputs": [
    {
     "data": {
      "text/plain": [
       "<AxesSubplot:xlabel='Adj Close', ylabel='Density'>"
      ]
     },
     "execution_count": 239,
     "metadata": {},
     "output_type": "execute_result"
    },
    {
     "data": {
      "image/png": "[encoded data removed]",
      "text/plain": [
       "<Figure size 432x288 with 1 Axes>"
      ]
     },
     "metadata": {
      "needs_background": "light"
     },
     "output_type": "display_data"
    }
   ],
   "source": [
    "sns.distplot(df1['Adj Close'])"
   ]
  },
  {
   "cell_type": "markdown",
   "id": "966496d4",
   "metadata": {},
   "source": [
    "Most of the amount in Adj Close column is in range from 7000 to 13000 and lesser amount is in range from 14000 to 19000 approx."
   ]
  },
  {
   "cell_type": "markdown",
   "id": "baa468b7",
   "metadata": {},
   "source": [
    "# Statistical Summary"
   ]
  },
  {
   "cell_type": "code",
   "execution_count": 240,
   "id": "22b53443",
   "metadata": {},
   "outputs": [
    {
     "data": {
      "text/html": [
       "<div>\n",
       "<style scoped>\n",
       "    .dataframe tbody tr th:only-of-type {\n",
       "        vertical-align: middle;\n",
       "    }\n",
       "\n",
       "    .dataframe tbody tr th {\n",
       "        vertical-align: top;\n",
       "    }\n",
       "\n",
       "    .dataframe thead th {\n",
       "        text-align: right;\n",
       "    }\n",
       "</style>\n",
       "<table border=\"1\" class=\"dataframe\">\n",
       "  <thead>\n",
       "    <tr style=\"text-align: right;\">\n",
       "      <th></th>\n",
       "      <th>Open</th>\n",
       "      <th>High</th>\n",
       "      <th>Low</th>\n",
       "      <th>Close</th>\n",
       "      <th>Adj Close</th>\n",
       "      <th>Volume</th>\n",
       "      <th>Year</th>\n",
       "      <th>Month</th>\n",
       "      <th>Day</th>\n",
       "    </tr>\n",
       "  </thead>\n",
       "  <tbody>\n",
       "    <tr>\n",
       "      <th>count</th>\n",
       "      <td>1481.000000</td>\n",
       "      <td>1481.000000</td>\n",
       "      <td>1481.000000</td>\n",
       "      <td>1481.000000</td>\n",
       "      <td>1481.000000</td>\n",
       "      <td>1.481000e+03</td>\n",
       "      <td>1481.000000</td>\n",
       "      <td>1481.000000</td>\n",
       "      <td>1481.000000</td>\n",
       "    </tr>\n",
       "    <tr>\n",
       "      <th>mean</th>\n",
       "      <td>11190.630103</td>\n",
       "      <td>11243.279798</td>\n",
       "      <td>11114.862019</td>\n",
       "      <td>11180.224847</td>\n",
       "      <td>11180.224847</td>\n",
       "      <td>3.672148e+05</td>\n",
       "      <td>2018.507090</td>\n",
       "      <td>6.529372</td>\n",
       "      <td>15.769075</td>\n",
       "    </tr>\n",
       "    <tr>\n",
       "      <th>std</th>\n",
       "      <td>2600.117834</td>\n",
       "      <td>2608.346006</td>\n",
       "      <td>2582.932225</td>\n",
       "      <td>2596.726103</td>\n",
       "      <td>2596.726103</td>\n",
       "      <td>2.272977e+05</td>\n",
       "      <td>1.709705</td>\n",
       "      <td>3.453452</td>\n",
       "      <td>8.798150</td>\n",
       "    </tr>\n",
       "    <tr>\n",
       "      <th>min</th>\n",
       "      <td>7023.649902</td>\n",
       "      <td>7034.200195</td>\n",
       "      <td>6825.799805</td>\n",
       "      <td>6970.600098</td>\n",
       "      <td>6970.600098</td>\n",
       "      <td>0.000000e+00</td>\n",
       "      <td>2016.000000</td>\n",
       "      <td>1.000000</td>\n",
       "      <td>1.000000</td>\n",
       "    </tr>\n",
       "    <tr>\n",
       "      <th>25%</th>\n",
       "      <td>9374.549805</td>\n",
       "      <td>9414.750000</td>\n",
       "      <td>9298.400391</td>\n",
       "      <td>9342.150391</td>\n",
       "      <td>9342.150391</td>\n",
       "      <td>1.957000e+05</td>\n",
       "      <td>2017.000000</td>\n",
       "      <td>4.000000</td>\n",
       "      <td>8.000000</td>\n",
       "    </tr>\n",
       "    <tr>\n",
       "      <th>50%</th>\n",
       "      <td>10784.500000</td>\n",
       "      <td>10819.400391</td>\n",
       "      <td>10724.049805</td>\n",
       "      <td>10772.049805</td>\n",
       "      <td>10772.049805</td>\n",
       "      <td>2.923000e+05</td>\n",
       "      <td>2019.000000</td>\n",
       "      <td>7.000000</td>\n",
       "      <td>16.000000</td>\n",
       "    </tr>\n",
       "    <tr>\n",
       "      <th>75%</th>\n",
       "      <td>11922.450195</td>\n",
       "      <td>11968.099609</td>\n",
       "      <td>11843.349609</td>\n",
       "      <td>11913.450195</td>\n",
       "      <td>11913.450195</td>\n",
       "      <td>5.083000e+05</td>\n",
       "      <td>2020.000000</td>\n",
       "      <td>10.000000</td>\n",
       "      <td>23.000000</td>\n",
       "    </tr>\n",
       "    <tr>\n",
       "      <th>max</th>\n",
       "      <td>18602.349609</td>\n",
       "      <td>18604.449219</td>\n",
       "      <td>18445.300781</td>\n",
       "      <td>18477.050781</td>\n",
       "      <td>18477.050781</td>\n",
       "      <td>1.811000e+06</td>\n",
       "      <td>2021.000000</td>\n",
       "      <td>12.000000</td>\n",
       "      <td>31.000000</td>\n",
       "    </tr>\n",
       "  </tbody>\n",
       "</table>\n",
       "</div>"
      ],
      "text/plain": [
       "               Open          High           Low         Close     Adj Close  \\\n",
       "count   1481.000000   1481.000000   1481.000000   1481.000000   1481.000000   \n",
       "mean   11190.630103  11243.279798  11114.862019  11180.224847  11180.224847   \n",
       "std     2600.117834   2608.346006   2582.932225   2596.726103   2596.726103   \n",
       "min     7023.649902   7034.200195   6825.799805   6970.600098   6970.600098   \n",
       "25%     9374.549805   9414.750000   9298.400391   9342.150391   9342.150391   \n",
       "50%    10784.500000  10819.400391  10724.049805  10772.049805  10772.049805   \n",
       "75%    11922.450195  11968.099609  11843.349609  11913.450195  11913.450195   \n",
       "max    18602.349609  18604.449219  18445.300781  18477.050781  18477.050781   \n",
       "\n",
       "             Volume         Year        Month          Day  \n",
       "count  1.481000e+03  1481.000000  1481.000000  1481.000000  \n",
       "mean   3.672148e+05  2018.507090     6.529372    15.769075  \n",
       "std    2.272977e+05     1.709705     3.453452     8.798150  \n",
       "min    0.000000e+00  2016.000000     1.000000     1.000000  \n",
       "25%    1.957000e+05  2017.000000     4.000000     8.000000  \n",
       "50%    2.923000e+05  2019.000000     7.000000    16.000000  \n",
       "75%    5.083000e+05  2020.000000    10.000000    23.000000  \n",
       "max    1.811000e+06  2021.000000    12.000000    31.000000  "
      ]
     },
     "execution_count": 240,
     "metadata": {},
     "output_type": "execute_result"
    }
   ],
   "source": [
    "df1.describe()"
   ]
  },
  {
   "cell_type": "markdown",
   "id": "e8b2870e",
   "metadata": {},
   "source": [
    "Number of values is same in all the columns except volume.\n",
    "\n",
    "Not much difference between mean and median(50%)\n",
    "\n",
    "Not much difference between 75% and max."
   ]
  },
  {
   "cell_type": "markdown",
   "id": "8ef0862f",
   "metadata": {},
   "source": [
    "# Checking Correlations"
   ]
  },
  {
   "cell_type": "code",
   "execution_count": 241,
   "id": "3409dd5c",
   "metadata": {},
   "outputs": [
    {
     "data": {
      "text/plain": [
       "<AxesSubplot:>"
      ]
     },
     "execution_count": 241,
     "metadata": {},
     "output_type": "execute_result"
    },
    {
     "data": {
      "image/png": "[encoded data removed]",
      "text/plain": [
       "<Figure size 1584x864 with 2 Axes>"
      ]
     },
     "metadata": {
      "needs_background": "light"
     },
     "output_type": "display_data"
    }
   ],
   "source": [
    "plt.figure(figsize=(22,12))\n",
    "sns.heatmap(df1.corr(),annot=True,linewidths =0.1,fmt='0.2f')"
   ]
  },
  {
   "cell_type": "markdown",
   "id": "8b8a81fd",
   "metadata": {},
   "source": [
    "Most of the column is negatively correlated with the column volume.\n",
    "\n",
    "Year column is positively correlated with most of the coulmn."
   ]
  },
  {
   "cell_type": "markdown",
   "id": "8eaa6703",
   "metadata": {},
   "source": [
    "# Now we need only 2 columns for model building that is open and close"
   ]
  },
  {
   "cell_type": "code",
   "execution_count": 242,
   "id": "377a5677",
   "metadata": {},
   "outputs": [],
   "source": [
    "training_set = df1.iloc[:, 1:2].values"
   ]
  },
  {
   "cell_type": "markdown",
   "id": "04bf35c6",
   "metadata": {},
   "source": [
    "# Feature Scaling"
   ]
  },
  {
   "cell_type": "code",
   "execution_count": 243,
   "id": "d311eb3b",
   "metadata": {},
   "outputs": [],
   "source": [
    "sc = MinMaxScaler(feature_range = (0, 1))\n",
    "training_set_scaled = sc.fit_transform(training_set)"
   ]
  },
  {
   "cell_type": "markdown",
   "id": "1cb6b430",
   "metadata": {},
   "source": [
    "# Creating Data with TimeSteps"
   ]
  },
  {
   "cell_type": "code",
   "execution_count": 244,
   "id": "ae70ddec",
   "metadata": {},
   "outputs": [
    {
     "data": {
      "text/plain": [
       "(1481, 1)"
      ]
     },
     "execution_count": 244,
     "metadata": {},
     "output_type": "execute_result"
    }
   ],
   "source": [
    "training_set.shape"
   ]
  },
  {
   "cell_type": "code",
   "execution_count": 267,
   "id": "44dc84f8",
   "metadata": {},
   "outputs": [],
   "source": [
    "X_train = []\n",
    "y_train = []\n",
    "for i in range(60, 1481):\n",
    "    X_train.append(training_set_scaled[i-60:i, 0])\n",
    "    y_train.append(training_set_scaled[i, 0])\n",
    "X_train, y_train = np.array(X_train), np.array(y_train)\n",
    "\n",
    "X_train = np.reshape(X_train, (X_train.shape[0], X_train.shape[1], 1))"
   ]
  },
  {
   "cell_type": "markdown",
   "id": "d393a305",
   "metadata": {},
   "source": [
    "# Using LSTM for model building"
   ]
  },
  {
   "cell_type": "code",
   "execution_count": 268,
   "id": "3847d9c1",
   "metadata": {},
   "outputs": [],
   "source": [
    "from keras.models import Sequential\n",
    "from keras.layers import Dense, LSTM, Dropout"
   ]
  },
  {
   "cell_type": "code",
   "execution_count": 269,
   "id": "962c5e1c",
   "metadata": {},
   "outputs": [],
   "source": [
    "regressor = Sequential()\n",
    "\n",
    "regressor.add(LSTM(units = 50, return_sequences = True, input_shape = (X_train.shape[1], 1)))\n",
    "regressor.add(Dropout(0.2))\n",
    "\n",
    "regressor.add(LSTM(units = 50, return_sequences = True))\n",
    "regressor.add(Dropout(0.25))\n",
    "\n",
    "regressor.add(LSTM(units = 50, return_sequences = True))\n",
    "regressor.add(Dropout(0.25))\n",
    "\n",
    "regressor.add(LSTM(units = 50))\n",
    "regressor.add(Dropout(0.25))\n",
    "\n",
    "regressor.add(Dense(units = 1))"
   ]
  },
  {
   "cell_type": "code",
   "execution_count": 270,
   "id": "2fafeb23",
   "metadata": {},
   "outputs": [
    {
     "name": "stdout",
     "output_type": "stream",
     "text": [
      "Model: \"sequential_9\"\n",
      "_________________________________________________________________\n",
      " Layer (type)                Output Shape              Param #   \n",
      "=================================================================\n",
      " lstm_31 (LSTM)              (None, 60, 50)            10400     \n",
      "                                                                 \n",
      " dropout_16 (Dropout)        (None, 60, 50)            0         \n",
      "                                                                 \n",
      " lstm_32 (LSTM)              (None, 60, 50)            20200     \n",
      "                                                                 \n",
      " dropout_17 (Dropout)        (None, 60, 50)            0         \n",
      "                                                                 \n",
      " lstm_33 (LSTM)              (None, 60, 50)            20200     \n",
      "                                                                 \n",
      " dropout_18 (Dropout)        (None, 60, 50)            0         \n",
      "                                                                 \n",
      " lstm_34 (LSTM)              (None, 50)                20200     \n",
      "                                                                 \n",
      " dropout_19 (Dropout)        (None, 50)                0         \n",
      "                                                                 \n",
      " dense_9 (Dense)             (None, 1)                 51        \n",
      "                                                                 \n",
      "=================================================================\n",
      "Total params: 71,051\n",
      "Trainable params: 71,051\n",
      "Non-trainable params: 0\n",
      "_________________________________________________________________\n"
     ]
    }
   ],
   "source": [
    "regressor.summary()"
   ]
  },
  {
   "cell_type": "code",
   "execution_count": 278,
   "id": "6ae45034",
   "metadata": {},
   "outputs": [
    {
     "name": "stdout",
     "output_type": "stream",
     "text": [
      "Epoch 1/40\n",
      "40/40 [==============================] - 110s 304ms/step - loss: 0.0184 - val_loss: 0.0028\n",
      "Epoch 2/40\n",
      "40/40 [==============================] - 7s 165ms/step - loss: 0.0033 - val_loss: 0.0032\n",
      "Epoch 3/40\n",
      "40/40 [==============================] - 6s 154ms/step - loss: 0.0029 - val_loss: 0.0014\n",
      "Epoch 4/40\n",
      "40/40 [==============================] - 6s 141ms/step - loss: 0.0031 - val_loss: 0.0015\n",
      "Epoch 5/40\n",
      "40/40 [==============================] - 6s 152ms/step - loss: 0.0027 - val_loss: 0.0012\n",
      "Epoch 6/40\n",
      "40/40 [==============================] - 6s 156ms/step - loss: 0.0025 - val_loss: 0.0012\n",
      "Epoch 7/40\n",
      "40/40 [==============================] - 6s 161ms/step - loss: 0.0022 - val_loss: 0.0010\n",
      "Epoch 8/40\n",
      "40/40 [==============================] - 7s 173ms/step - loss: 0.0022 - val_loss: 0.0026\n",
      "Epoch 9/40\n",
      "40/40 [==============================] - 6s 139ms/step - loss: 0.0027 - val_loss: 0.0056\n",
      "Epoch 10/40\n",
      "40/40 [==============================] - 6s 158ms/step - loss: 0.0021 - val_loss: 0.0013\n",
      "Epoch 11/40\n",
      "40/40 [==============================] - 6s 140ms/step - loss: 0.0024 - val_loss: 7.5374e-04\n",
      "Epoch 12/40\n",
      "40/40 [==============================] - 6s 161ms/step - loss: 0.0021 - val_loss: 0.0140\n",
      "Epoch 13/40\n",
      "40/40 [==============================] - 7s 171ms/step - loss: 0.0023 - val_loss: 8.8802e-04\n",
      "Epoch 14/40\n",
      "40/40 [==============================] - 6s 162ms/step - loss: 0.0021 - val_loss: 6.1862e-04\n",
      "Epoch 15/40\n",
      "40/40 [==============================] - 7s 169ms/step - loss: 0.0020 - val_loss: 6.0465e-04\n",
      "Epoch 16/40\n",
      "40/40 [==============================] - 7s 165ms/step - loss: 0.0018 - val_loss: 7.0573e-04\n",
      "Epoch 17/40\n",
      "40/40 [==============================] - 6s 154ms/step - loss: 0.0016 - val_loss: 5.6704e-04\n",
      "Epoch 18/40\n",
      "40/40 [==============================] - 6s 155ms/step - loss: 0.0017 - val_loss: 0.0025\n",
      "Epoch 19/40\n",
      "40/40 [==============================] - 6s 155ms/step - loss: 0.0016 - val_loss: 0.0028\n",
      "Epoch 20/40\n",
      "40/40 [==============================] - 7s 173ms/step - loss: 0.0017 - val_loss: 0.0045\n",
      "Epoch 21/40\n",
      "40/40 [==============================] - 6s 158ms/step - loss: 0.0018 - val_loss: 0.0043\n",
      "Epoch 22/40\n",
      "40/40 [==============================] - 6s 148ms/step - loss: 0.0017 - val_loss: 0.0012\n",
      "Epoch 23/40\n",
      "40/40 [==============================] - 6s 148ms/step - loss: 0.0016 - val_loss: 5.0009e-04\n",
      "Epoch 24/40\n",
      "40/40 [==============================] - 6s 146ms/step - loss: 0.0016 - val_loss: 7.3458e-04\n",
      "Epoch 25/40\n",
      "40/40 [==============================] - 6s 156ms/step - loss: 0.0013 - val_loss: 5.6812e-04\n",
      "Epoch 26/40\n",
      "40/40 [==============================] - 6s 155ms/step - loss: 0.0014 - val_loss: 8.3150e-04\n",
      "Epoch 27/40\n",
      "40/40 [==============================] - 6s 146ms/step - loss: 0.0014 - val_loss: 4.8747e-04\n",
      "Epoch 28/40\n",
      "40/40 [==============================] - 7s 169ms/step - loss: 0.0015 - val_loss: 5.0569e-04\n",
      "Epoch 29/40\n",
      "40/40 [==============================] - 6s 141ms/step - loss: 0.0015 - val_loss: 4.8483e-04\n",
      "Epoch 30/40\n",
      "40/40 [==============================] - 6s 160ms/step - loss: 0.0013 - val_loss: 0.0012\n",
      "Epoch 31/40\n",
      "40/40 [==============================] - 7s 163ms/step - loss: 0.0013 - val_loss: 0.0011\n",
      "Epoch 32/40\n",
      "40/40 [==============================] - 5s 133ms/step - loss: 0.0013 - val_loss: 0.0014\n",
      "Epoch 33/40\n",
      "40/40 [==============================] - 7s 175ms/step - loss: 0.0013 - val_loss: 0.0012\n",
      "Epoch 34/40\n",
      "40/40 [==============================] - 6s 159ms/step - loss: 0.0013 - val_loss: 5.8015e-04\n",
      "Epoch 35/40\n",
      "40/40 [==============================] - 7s 168ms/step - loss: 0.0014 - val_loss: 0.0026\n",
      "Epoch 36/40\n",
      "40/40 [==============================] - 7s 164ms/step - loss: 0.0013 - val_loss: 0.0011\n",
      "Epoch 37/40\n",
      "40/40 [==============================] - 6s 160ms/step - loss: 0.0012 - val_loss: 9.4393e-04\n",
      "Epoch 38/40\n",
      "40/40 [==============================] - 7s 178ms/step - loss: 0.0012 - val_loss: 5.2355e-04\n",
      "Epoch 39/40\n",
      "40/40 [==============================] - 6s 157ms/step - loss: 0.0012 - val_loss: 5.2001e-04\n",
      "Epoch 40/40\n",
      "40/40 [==============================] - 9s 222ms/step - loss: 0.0011 - val_loss: 0.0012\n"
     ]
    }
   ],
   "source": [
    "regressor.compile(optimizer = 'adam', loss = 'mean_squared_error')\n",
    "\n",
    "history=regressor.fit(X_train, y_train, epochs = 40, batch_size = 32, validation_split=0.1)"
   ]
  },
  {
   "cell_type": "markdown",
   "id": "bdd2bb0a",
   "metadata": {},
   "source": [
    "# Plotting the Graph"
   ]
  },
  {
   "cell_type": "code",
   "execution_count": 279,
   "id": "2458a8dc",
   "metadata": {},
   "outputs": [
    {
     "data": {
      "image/png": "[encoded data removed]",
      "text/plain": [
       "<Figure size 432x288 with 1 Axes>"
      ]
     },
     "metadata": {
      "needs_background": "light"
     },
     "output_type": "display_data"
    }
   ],
   "source": [
    "loss = history.history['loss']\n",
    "val_loss = history.history['val_loss']\n",
    "epochs = range(len(loss))\n",
    "plt.figure()\n",
    "plt.plot(epochs, loss, 'b', label='Training loss')\n",
    "plt.plot(epochs, val_loss, 'r', label='Validation loss')\n",
    "plt.title(\"Training and Validation Loss\")\n",
    "plt.legend()\n",
    "plt.show()\n"
   ]
  },
  {
   "cell_type": "markdown",
   "id": "11607f71",
   "metadata": {},
   "source": [
    "# Prediction on Test data"
   ]
  },
  {
   "cell_type": "code",
   "execution_count": 280,
   "id": "654c15ef",
   "metadata": {},
   "outputs": [],
   "source": [
    "test_data = df2.iloc[:, 1:2].values"
   ]
  },
  {
   "cell_type": "markdown",
   "id": "84b9e92d",
   "metadata": {},
   "source": [
    "# Applying Inverse Transfromation for obtaining the result"
   ]
  },
  {
   "cell_type": "code",
   "execution_count": 281,
   "id": "2e8d40df",
   "metadata": {},
   "outputs": [],
   "source": [
    "dataset_total = pd.concat((df1['Open'], df2['Open']), axis = 0)\n",
    "inputs = dataset_total[len(dataset_total) - len(df2) - 60:].values\n",
    "inputs = inputs.reshape(-1,1)\n",
    "inputs = sc.transform(inputs)\n",
    "X_test = []\n",
    "for i in range(60, 76):\n",
    "    X_test.append(inputs[i-60:i, 0])\n",
    "X_test = np.array(X_test)\n",
    "X_test = np.reshape(X_test, (X_test.shape[0], X_test.shape[1], 1))\n",
    "predicted = regressor.predict(X_test)\n",
    "predicted = sc.inverse_transform(predicted)"
   ]
  },
  {
   "cell_type": "code",
   "execution_count": 282,
   "id": "e5030635",
   "metadata": {},
   "outputs": [
    {
     "data": {
      "text/plain": [
       "array([[16740.125],\n",
       "       [16790.723],\n",
       "       [16862.56 ],\n",
       "       [16957.617],\n",
       "       [17069.7  ],\n",
       "       [17188.814],\n",
       "       [17307.06 ],\n",
       "       [17419.19 ],\n",
       "       [17525.154],\n",
       "       [17626.127],\n",
       "       [17718.674],\n",
       "       [17799.697],\n",
       "       [17869.31 ],\n",
       "       [17921.568],\n",
       "       [17946.684],\n",
       "       [17932.096]], dtype=float32)"
      ]
     },
     "execution_count": 282,
     "metadata": {},
     "output_type": "execute_result"
    }
   ],
   "source": [
    "predicted"
   ]
  },
  {
   "cell_type": "code",
   "execution_count": 283,
   "id": "0dd692a0",
   "metadata": {},
   "outputs": [
    {
     "data": {
      "text/plain": [
       "array([4.83106008e-03, 4.58580916e-03, 4.77164561e-03, ...,\n",
       "       9.22142463e-02, 1.11595803e-03, 6.62617338e-06])"
      ]
     },
     "execution_count": 283,
     "metadata": {},
     "output_type": "execute_result"
    }
   ],
   "source": [
    "y_test"
   ]
  },
  {
   "cell_type": "markdown",
   "id": "a6261bec",
   "metadata": {},
   "source": [
    "# Now Plotting the Results on Graph"
   ]
  },
  {
   "cell_type": "code",
   "execution_count": 284,
   "id": "a7babcf3",
   "metadata": {},
   "outputs": [
    {
     "data": {
      "image/png": "[encoded data removed]",
      "text/plain": [
       "<Figure size 432x288 with 1 Axes>"
      ]
     },
     "metadata": {
      "needs_background": "light"
     },
     "output_type": "display_data"
    }
   ],
   "source": [
    "plt.plot(test_data, color = 'black', label = 'NSE Price')\n",
    "plt.plot(predicted, color = 'green', label = 'NSE Predicted Price')\n",
    "plt.title('NSE')\n",
    "plt.xlabel('Time')\n",
    "plt.ylabel('NSE')\n",
    "plt.legend()\n",
    "plt.show()"
   ]
  },
  {
   "cell_type": "markdown",
   "id": "2af482d4",
   "metadata": {},
   "source": [
    "The above plot shows that NSE will increase stable and  model prediction also shows that the price will increase.\n",
    "\n",
    "​"
   ]
  },
  {
   "cell_type": "code",
   "execution_count": null,
   "id": "be656280",
   "metadata": {},
   "outputs": [],
   "source": []
  }
 ],
 "metadata": {
  "kernelspec": {
   "display_name": "Python 3",
   "language": "python",
   "name": "python3"
  },
  "language_info": {
   "codemirror_mode": {
    "name": "ipython",
    "version": 3
   },
   "file_extension": ".py",
   "mimetype": "text/x-python",
   "name": "python",
   "nbconvert_exporter": "python",
   "pygments_lexer": "ipython3",
   "version": "3.8.10"
  }
 },
 "nbformat": 4,
 "nbformat_minor": 5
}
