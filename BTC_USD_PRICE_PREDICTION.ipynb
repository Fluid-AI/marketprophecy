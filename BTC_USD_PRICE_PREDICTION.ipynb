{
 "cells": [
  {
   "cell_type": "markdown",
   "metadata": {},
   "source": [
    "#**BTC Price Prediction**"
   ]
  },
  {
   "cell_type": "markdown",
   "metadata": {},
   "source": [
    "**IMPORT LIBRARIES**"
   ]
  },
  {
   "cell_type": "code",
   "execution_count": 1,
   "metadata": {},
   "outputs": [],
   "source": [
    "import pandas as pd\n",
    "import numpy as np\n",
    "import math\n",
    "import datetime as dt\n",
    "import matplotlib.pyplot as plt\n",
    "from sklearn.metrics import mean_squared_error \n",
    "from sklearn.metrics import accuracy_score\n",
    "from sklearn.preprocessing import MinMaxScaler\n",
    "import tensorflow as tf\n",
    "from tensorflow.keras.models import Sequential\n",
    "from tensorflow.keras.layers import Dense, Dropout\n",
    "from tensorflow.keras.layers import LSTM"
   ]
  },
  {
   "cell_type": "markdown",
   "metadata": {},
   "source": [
    "**DATASET**"
   ]
  },
  {
   "cell_type": "code",
   "execution_count": 2,
   "metadata": {},
   "outputs": [
    {
     "data": {
      "text/html": [
       "<div>\n",
       "<style scoped>\n",
       "    .dataframe tbody tr th:only-of-type {\n",
       "        vertical-align: middle;\n",
       "    }\n",
       "\n",
       "    .dataframe tbody tr th {\n",
       "        vertical-align: top;\n",
       "    }\n",
       "\n",
       "    .dataframe thead th {\n",
       "        text-align: right;\n",
       "    }\n",
       "</style>\n",
       "<table border=\"1\" class=\"dataframe\">\n",
       "  <thead>\n",
       "    <tr style=\"text-align: right;\">\n",
       "      <th></th>\n",
       "      <th>Date</th>\n",
       "      <th>Open</th>\n",
       "      <th>High</th>\n",
       "      <th>Low</th>\n",
       "      <th>Close</th>\n",
       "      <th>Adj Close</th>\n",
       "      <th>Volume</th>\n",
       "    </tr>\n",
       "  </thead>\n",
       "  <tbody>\n",
       "    <tr>\n",
       "      <th>0</th>\n",
       "      <td>2016-01-01</td>\n",
       "      <td>430.721008</td>\n",
       "      <td>436.246002</td>\n",
       "      <td>427.515015</td>\n",
       "      <td>434.334015</td>\n",
       "      <td>434.334015</td>\n",
       "      <td>36278900</td>\n",
       "    </tr>\n",
       "    <tr>\n",
       "      <th>1</th>\n",
       "      <td>2016-01-02</td>\n",
       "      <td>434.622009</td>\n",
       "      <td>436.062012</td>\n",
       "      <td>431.869995</td>\n",
       "      <td>433.437988</td>\n",
       "      <td>433.437988</td>\n",
       "      <td>30096600</td>\n",
       "    </tr>\n",
       "    <tr>\n",
       "      <th>2</th>\n",
       "      <td>2016-01-03</td>\n",
       "      <td>433.578003</td>\n",
       "      <td>433.743011</td>\n",
       "      <td>424.705994</td>\n",
       "      <td>430.010986</td>\n",
       "      <td>430.010986</td>\n",
       "      <td>39633800</td>\n",
       "    </tr>\n",
       "    <tr>\n",
       "      <th>3</th>\n",
       "      <td>2016-01-04</td>\n",
       "      <td>430.061005</td>\n",
       "      <td>434.516998</td>\n",
       "      <td>429.084015</td>\n",
       "      <td>433.091003</td>\n",
       "      <td>433.091003</td>\n",
       "      <td>38477500</td>\n",
       "    </tr>\n",
       "    <tr>\n",
       "      <th>4</th>\n",
       "      <td>2016-01-05</td>\n",
       "      <td>433.069000</td>\n",
       "      <td>434.182007</td>\n",
       "      <td>429.675995</td>\n",
       "      <td>431.959991</td>\n",
       "      <td>431.959991</td>\n",
       "      <td>34522600</td>\n",
       "    </tr>\n",
       "    <tr>\n",
       "      <th>...</th>\n",
       "      <td>...</td>\n",
       "      <td>...</td>\n",
       "      <td>...</td>\n",
       "      <td>...</td>\n",
       "      <td>...</td>\n",
       "      <td>...</td>\n",
       "      <td>...</td>\n",
       "    </tr>\n",
       "    <tr>\n",
       "      <th>2223</th>\n",
       "      <td>2022-01-31</td>\n",
       "      <td>37920.281250</td>\n",
       "      <td>38647.261719</td>\n",
       "      <td>36733.574219</td>\n",
       "      <td>38483.125000</td>\n",
       "      <td>38483.125000</td>\n",
       "      <td>20734730465</td>\n",
       "    </tr>\n",
       "    <tr>\n",
       "      <th>2224</th>\n",
       "      <td>2022-02-01</td>\n",
       "      <td>38481.765625</td>\n",
       "      <td>39115.132813</td>\n",
       "      <td>38113.664063</td>\n",
       "      <td>38743.273438</td>\n",
       "      <td>38743.273438</td>\n",
       "      <td>20288500328</td>\n",
       "    </tr>\n",
       "    <tr>\n",
       "      <th>2225</th>\n",
       "      <td>2022-02-02</td>\n",
       "      <td>38743.714844</td>\n",
       "      <td>38834.617188</td>\n",
       "      <td>36832.730469</td>\n",
       "      <td>36952.984375</td>\n",
       "      <td>36952.984375</td>\n",
       "      <td>19155189416</td>\n",
       "    </tr>\n",
       "    <tr>\n",
       "      <th>2226</th>\n",
       "      <td>2022-02-03</td>\n",
       "      <td>36944.804688</td>\n",
       "      <td>37154.601563</td>\n",
       "      <td>36375.539063</td>\n",
       "      <td>37154.601563</td>\n",
       "      <td>37154.601563</td>\n",
       "      <td>18591534769</td>\n",
       "    </tr>\n",
       "    <tr>\n",
       "      <th>2227</th>\n",
       "      <td>2022-02-04</td>\n",
       "      <td>37234.058594</td>\n",
       "      <td>38121.738281</td>\n",
       "      <td>37093.628906</td>\n",
       "      <td>37649.335938</td>\n",
       "      <td>37649.335938</td>\n",
       "      <td>20987750400</td>\n",
       "    </tr>\n",
       "  </tbody>\n",
       "</table>\n",
       "<p>2228 rows × 7 columns</p>\n",
       "</div>"
      ],
      "text/plain": [
       "            Date          Open          High           Low         Close  \\\n",
       "0     2016-01-01    430.721008    436.246002    427.515015    434.334015   \n",
       "1     2016-01-02    434.622009    436.062012    431.869995    433.437988   \n",
       "2     2016-01-03    433.578003    433.743011    424.705994    430.010986   \n",
       "3     2016-01-04    430.061005    434.516998    429.084015    433.091003   \n",
       "4     2016-01-05    433.069000    434.182007    429.675995    431.959991   \n",
       "...          ...           ...           ...           ...           ...   \n",
       "2223  2022-01-31  37920.281250  38647.261719  36733.574219  38483.125000   \n",
       "2224  2022-02-01  38481.765625  39115.132813  38113.664063  38743.273438   \n",
       "2225  2022-02-02  38743.714844  38834.617188  36832.730469  36952.984375   \n",
       "2226  2022-02-03  36944.804688  37154.601563  36375.539063  37154.601563   \n",
       "2227  2022-02-04  37234.058594  38121.738281  37093.628906  37649.335938   \n",
       "\n",
       "         Adj Close       Volume  \n",
       "0       434.334015     36278900  \n",
       "1       433.437988     30096600  \n",
       "2       430.010986     39633800  \n",
       "3       433.091003     38477500  \n",
       "4       431.959991     34522600  \n",
       "...            ...          ...  \n",
       "2223  38483.125000  20734730465  \n",
       "2224  38743.273438  20288500328  \n",
       "2225  36952.984375  19155189416  \n",
       "2226  37154.601563  18591534769  \n",
       "2227  37649.335938  20987750400  \n",
       "\n",
       "[2228 rows x 7 columns]"
      ]
     },
     "execution_count": 2,
     "metadata": {},
     "output_type": "execute_result"
    }
   ],
   "source": [
    "d1 = pd.read_csv('BTC-USD Training Data - 1st Jan 2016 to 1st Jan 2022.csv')                    \n",
    "d2 = pd.read_csv('BTC-USD Out of Time Testing 1st Jan 2022 to 4th Feb 2022.csv')  \n",
    "btc_input_df = pd.concat([d1, d2], ignore_index=True)\n",
    "btc_input_df = btc_input_df.dropna()\n",
    "btc_input_df                                                    #Final dataset after combining Training Data and Test Data"
   ]
  },
  {
   "cell_type": "code",
   "execution_count": 3,
   "metadata": {},
   "outputs": [
    {
     "data": {
      "text/plain": [
       "(35, 7)"
      ]
     },
     "execution_count": 3,
     "metadata": {},
     "output_type": "execute_result"
    }
   ],
   "source": [
    "d2.shape"
   ]
  },
  {
   "cell_type": "code",
   "execution_count": 4,
   "metadata": {},
   "outputs": [
    {
     "data": {
      "text/plain": [
       "(2228, 7)"
      ]
     },
     "execution_count": 4,
     "metadata": {},
     "output_type": "execute_result"
    }
   ],
   "source": [
    "btc_input_df.shape"
   ]
  },
  {
   "cell_type": "code",
   "execution_count": 5,
   "metadata": {},
   "outputs": [
    {
     "data": {
      "text/html": [
       "<div>\n",
       "<style scoped>\n",
       "    .dataframe tbody tr th:only-of-type {\n",
       "        vertical-align: middle;\n",
       "    }\n",
       "\n",
       "    .dataframe tbody tr th {\n",
       "        vertical-align: top;\n",
       "    }\n",
       "\n",
       "    .dataframe thead th {\n",
       "        text-align: right;\n",
       "    }\n",
       "</style>\n",
       "<table border=\"1\" class=\"dataframe\">\n",
       "  <thead>\n",
       "    <tr style=\"text-align: right;\">\n",
       "      <th></th>\n",
       "      <th>Open</th>\n",
       "      <th>High</th>\n",
       "      <th>Low</th>\n",
       "      <th>Close</th>\n",
       "      <th>Adj Close</th>\n",
       "      <th>Volume</th>\n",
       "    </tr>\n",
       "  </thead>\n",
       "  <tbody>\n",
       "    <tr>\n",
       "      <th>count</th>\n",
       "      <td>2228.000000</td>\n",
       "      <td>2228.000000</td>\n",
       "      <td>2228.000000</td>\n",
       "      <td>2228.000000</td>\n",
       "      <td>2228.000000</td>\n",
       "      <td>2.228000e+03</td>\n",
       "    </tr>\n",
       "    <tr>\n",
       "      <th>mean</th>\n",
       "      <td>13445.026206</td>\n",
       "      <td>13806.843200</td>\n",
       "      <td>13043.509117</td>\n",
       "      <td>13460.158516</td>\n",
       "      <td>13460.158516</td>\n",
       "      <td>1.774999e+10</td>\n",
       "    </tr>\n",
       "    <tr>\n",
       "      <th>std</th>\n",
       "      <td>16721.478048</td>\n",
       "      <td>17170.695832</td>\n",
       "      <td>16198.653157</td>\n",
       "      <td>16723.528378</td>\n",
       "      <td>16723.528378</td>\n",
       "      <td>2.079395e+10</td>\n",
       "    </tr>\n",
       "    <tr>\n",
       "      <th>min</th>\n",
       "      <td>365.072998</td>\n",
       "      <td>374.950012</td>\n",
       "      <td>354.914001</td>\n",
       "      <td>364.330994</td>\n",
       "      <td>364.330994</td>\n",
       "      <td>2.851400e+07</td>\n",
       "    </tr>\n",
       "    <tr>\n",
       "      <th>25%</th>\n",
       "      <td>2676.954956</td>\n",
       "      <td>2763.644959</td>\n",
       "      <td>2576.104980</td>\n",
       "      <td>2670.775024</td>\n",
       "      <td>2670.775024</td>\n",
       "      <td>1.234932e+09</td>\n",
       "    </tr>\n",
       "    <tr>\n",
       "      <th>50%</th>\n",
       "      <td>7468.564941</td>\n",
       "      <td>7637.985108</td>\n",
       "      <td>7324.726075</td>\n",
       "      <td>7476.364991</td>\n",
       "      <td>7476.364991</td>\n",
       "      <td>9.833027e+09</td>\n",
       "    </tr>\n",
       "    <tr>\n",
       "      <th>75%</th>\n",
       "      <td>11557.909180</td>\n",
       "      <td>11880.472656</td>\n",
       "      <td>11290.747070</td>\n",
       "      <td>11586.823242</td>\n",
       "      <td>11586.823242</td>\n",
       "      <td>2.898932e+10</td>\n",
       "    </tr>\n",
       "    <tr>\n",
       "      <th>max</th>\n",
       "      <td>67549.734375</td>\n",
       "      <td>68789.625000</td>\n",
       "      <td>66382.062500</td>\n",
       "      <td>67566.828125</td>\n",
       "      <td>67566.828125</td>\n",
       "      <td>3.509679e+11</td>\n",
       "    </tr>\n",
       "  </tbody>\n",
       "</table>\n",
       "</div>"
      ],
      "text/plain": [
       "               Open          High           Low         Close     Adj Close  \\\n",
       "count   2228.000000   2228.000000   2228.000000   2228.000000   2228.000000   \n",
       "mean   13445.026206  13806.843200  13043.509117  13460.158516  13460.158516   \n",
       "std    16721.478048  17170.695832  16198.653157  16723.528378  16723.528378   \n",
       "min      365.072998    374.950012    354.914001    364.330994    364.330994   \n",
       "25%     2676.954956   2763.644959   2576.104980   2670.775024   2670.775024   \n",
       "50%     7468.564941   7637.985108   7324.726075   7476.364991   7476.364991   \n",
       "75%    11557.909180  11880.472656  11290.747070  11586.823242  11586.823242   \n",
       "max    67549.734375  68789.625000  66382.062500  67566.828125  67566.828125   \n",
       "\n",
       "             Volume  \n",
       "count  2.228000e+03  \n",
       "mean   1.774999e+10  \n",
       "std    2.079395e+10  \n",
       "min    2.851400e+07  \n",
       "25%    1.234932e+09  \n",
       "50%    9.833027e+09  \n",
       "75%    2.898932e+10  \n",
       "max    3.509679e+11  "
      ]
     },
     "execution_count": 5,
     "metadata": {},
     "output_type": "execute_result"
    }
   ],
   "source": [
    "btc_input_df.describe()"
   ]
  },
  {
   "cell_type": "code",
   "execution_count": 6,
   "metadata": {},
   "outputs": [
    {
     "name": "stdout",
     "output_type": "stream",
     "text": [
      "<class 'pandas.core.frame.DataFrame'>\n",
      "RangeIndex: 2228 entries, 0 to 2227\n",
      "Data columns (total 7 columns):\n",
      " #   Column     Non-Null Count  Dtype  \n",
      "---  ------     --------------  -----  \n",
      " 0   Date       2228 non-null   object \n",
      " 1   Open       2228 non-null   float64\n",
      " 2   High       2228 non-null   float64\n",
      " 3   Low        2228 non-null   float64\n",
      " 4   Close      2228 non-null   float64\n",
      " 5   Adj Close  2228 non-null   float64\n",
      " 6   Volume     2228 non-null   int64  \n",
      "dtypes: float64(5), int64(1), object(1)\n",
      "memory usage: 122.0+ KB\n"
     ]
    }
   ],
   "source": [
    "btc_input_df.info()"
   ]
  },
  {
   "cell_type": "code",
   "execution_count": 7,
   "metadata": {},
   "outputs": [
    {
     "data": {
      "text/html": [
       "<div>\n",
       "<style scoped>\n",
       "    .dataframe tbody tr th:only-of-type {\n",
       "        vertical-align: middle;\n",
       "    }\n",
       "\n",
       "    .dataframe tbody tr th {\n",
       "        vertical-align: top;\n",
       "    }\n",
       "\n",
       "    .dataframe thead th {\n",
       "        text-align: right;\n",
       "    }\n",
       "</style>\n",
       "<table border=\"1\" class=\"dataframe\">\n",
       "  <thead>\n",
       "    <tr style=\"text-align: right;\">\n",
       "      <th></th>\n",
       "      <th>Date</th>\n",
       "      <th>Open</th>\n",
       "      <th>High</th>\n",
       "      <th>Low</th>\n",
       "      <th>Close</th>\n",
       "      <th>Adj Close</th>\n",
       "      <th>Volume</th>\n",
       "    </tr>\n",
       "  </thead>\n",
       "  <tbody>\n",
       "    <tr>\n",
       "      <th>0</th>\n",
       "      <td>2016-01-01</td>\n",
       "      <td>430.721008</td>\n",
       "      <td>436.246002</td>\n",
       "      <td>427.515015</td>\n",
       "      <td>434.334015</td>\n",
       "      <td>434.334015</td>\n",
       "      <td>36278900</td>\n",
       "    </tr>\n",
       "    <tr>\n",
       "      <th>1</th>\n",
       "      <td>2016-01-02</td>\n",
       "      <td>434.622009</td>\n",
       "      <td>436.062012</td>\n",
       "      <td>431.869995</td>\n",
       "      <td>433.437988</td>\n",
       "      <td>433.437988</td>\n",
       "      <td>30096600</td>\n",
       "    </tr>\n",
       "    <tr>\n",
       "      <th>2</th>\n",
       "      <td>2016-01-03</td>\n",
       "      <td>433.578003</td>\n",
       "      <td>433.743011</td>\n",
       "      <td>424.705994</td>\n",
       "      <td>430.010986</td>\n",
       "      <td>430.010986</td>\n",
       "      <td>39633800</td>\n",
       "    </tr>\n",
       "    <tr>\n",
       "      <th>3</th>\n",
       "      <td>2016-01-04</td>\n",
       "      <td>430.061005</td>\n",
       "      <td>434.516998</td>\n",
       "      <td>429.084015</td>\n",
       "      <td>433.091003</td>\n",
       "      <td>433.091003</td>\n",
       "      <td>38477500</td>\n",
       "    </tr>\n",
       "    <tr>\n",
       "      <th>4</th>\n",
       "      <td>2016-01-05</td>\n",
       "      <td>433.069000</td>\n",
       "      <td>434.182007</td>\n",
       "      <td>429.675995</td>\n",
       "      <td>431.959991</td>\n",
       "      <td>431.959991</td>\n",
       "      <td>34522600</td>\n",
       "    </tr>\n",
       "    <tr>\n",
       "      <th>...</th>\n",
       "      <td>...</td>\n",
       "      <td>...</td>\n",
       "      <td>...</td>\n",
       "      <td>...</td>\n",
       "      <td>...</td>\n",
       "      <td>...</td>\n",
       "      <td>...</td>\n",
       "    </tr>\n",
       "    <tr>\n",
       "      <th>2223</th>\n",
       "      <td>2022-01-31</td>\n",
       "      <td>37920.281250</td>\n",
       "      <td>38647.261719</td>\n",
       "      <td>36733.574219</td>\n",
       "      <td>38483.125000</td>\n",
       "      <td>38483.125000</td>\n",
       "      <td>20734730465</td>\n",
       "    </tr>\n",
       "    <tr>\n",
       "      <th>2224</th>\n",
       "      <td>2022-02-01</td>\n",
       "      <td>38481.765625</td>\n",
       "      <td>39115.132813</td>\n",
       "      <td>38113.664063</td>\n",
       "      <td>38743.273438</td>\n",
       "      <td>38743.273438</td>\n",
       "      <td>20288500328</td>\n",
       "    </tr>\n",
       "    <tr>\n",
       "      <th>2225</th>\n",
       "      <td>2022-02-02</td>\n",
       "      <td>38743.714844</td>\n",
       "      <td>38834.617188</td>\n",
       "      <td>36832.730469</td>\n",
       "      <td>36952.984375</td>\n",
       "      <td>36952.984375</td>\n",
       "      <td>19155189416</td>\n",
       "    </tr>\n",
       "    <tr>\n",
       "      <th>2226</th>\n",
       "      <td>2022-02-03</td>\n",
       "      <td>36944.804688</td>\n",
       "      <td>37154.601563</td>\n",
       "      <td>36375.539063</td>\n",
       "      <td>37154.601563</td>\n",
       "      <td>37154.601563</td>\n",
       "      <td>18591534769</td>\n",
       "    </tr>\n",
       "    <tr>\n",
       "      <th>2227</th>\n",
       "      <td>2022-02-04</td>\n",
       "      <td>37234.058594</td>\n",
       "      <td>38121.738281</td>\n",
       "      <td>37093.628906</td>\n",
       "      <td>37649.335938</td>\n",
       "      <td>37649.335938</td>\n",
       "      <td>20987750400</td>\n",
       "    </tr>\n",
       "  </tbody>\n",
       "</table>\n",
       "<p>2228 rows × 7 columns</p>\n",
       "</div>"
      ],
      "text/plain": [
       "           Date          Open          High           Low         Close  \\\n",
       "0    2016-01-01    430.721008    436.246002    427.515015    434.334015   \n",
       "1    2016-01-02    434.622009    436.062012    431.869995    433.437988   \n",
       "2    2016-01-03    433.578003    433.743011    424.705994    430.010986   \n",
       "3    2016-01-04    430.061005    434.516998    429.084015    433.091003   \n",
       "4    2016-01-05    433.069000    434.182007    429.675995    431.959991   \n",
       "...         ...           ...           ...           ...           ...   \n",
       "2223 2022-01-31  37920.281250  38647.261719  36733.574219  38483.125000   \n",
       "2224 2022-02-01  38481.765625  39115.132813  38113.664063  38743.273438   \n",
       "2225 2022-02-02  38743.714844  38834.617188  36832.730469  36952.984375   \n",
       "2226 2022-02-03  36944.804688  37154.601563  36375.539063  37154.601563   \n",
       "2227 2022-02-04  37234.058594  38121.738281  37093.628906  37649.335938   \n",
       "\n",
       "         Adj Close       Volume  \n",
       "0       434.334015     36278900  \n",
       "1       433.437988     30096600  \n",
       "2       430.010986     39633800  \n",
       "3       433.091003     38477500  \n",
       "4       431.959991     34522600  \n",
       "...            ...          ...  \n",
       "2223  38483.125000  20734730465  \n",
       "2224  38743.273438  20288500328  \n",
       "2225  36952.984375  19155189416  \n",
       "2226  37154.601563  18591534769  \n",
       "2227  37649.335938  20987750400  \n",
       "\n",
       "[2228 rows x 7 columns]"
      ]
     },
     "execution_count": 7,
     "metadata": {},
     "output_type": "execute_result"
    }
   ],
   "source": [
    "btc_input_df_datetype = btc_input_df.astype({'Date': 'datetime64'})\n",
    "btc_input_df_datetype"
   ]
  },
  {
   "cell_type": "code",
   "execution_count": 8,
   "metadata": {},
   "outputs": [
    {
     "name": "stdout",
     "output_type": "stream",
     "text": [
      "<class 'pandas.core.frame.DataFrame'>\n",
      "RangeIndex: 2228 entries, 0 to 2227\n",
      "Data columns (total 7 columns):\n",
      " #   Column     Non-Null Count  Dtype         \n",
      "---  ------     --------------  -----         \n",
      " 0   Date       2228 non-null   datetime64[ns]\n",
      " 1   Open       2228 non-null   float64       \n",
      " 2   High       2228 non-null   float64       \n",
      " 3   Low        2228 non-null   float64       \n",
      " 4   Close      2228 non-null   float64       \n",
      " 5   Adj Close  2228 non-null   float64       \n",
      " 6   Volume     2228 non-null   int64         \n",
      "dtypes: datetime64[ns](1), float64(5), int64(1)\n",
      "memory usage: 122.0 KB\n"
     ]
    }
   ],
   "source": [
    "btc_input_df_datetype.info()"
   ]
  },
  {
   "cell_type": "code",
   "execution_count": 9,
   "metadata": {},
   "outputs": [
    {
     "name": "stdout",
     "output_type": "stream",
     "text": [
      "Null Values: 0\n",
      "If any NA values: False\n"
     ]
    }
   ],
   "source": [
    "print('Null Values:',btc_input_df_datetype.isnull().values.sum())\n",
    "print('If any NA values:', btc_input_df_datetype.isnull().values.any())"
   ]
  },
  {
   "cell_type": "code",
   "execution_count": 10,
   "metadata": {},
   "outputs": [
    {
     "data": {
      "text/html": [
       "<div>\n",
       "<style scoped>\n",
       "    .dataframe tbody tr th:only-of-type {\n",
       "        vertical-align: middle;\n",
       "    }\n",
       "\n",
       "    .dataframe tbody tr th {\n",
       "        vertical-align: top;\n",
       "    }\n",
       "\n",
       "    .dataframe thead th {\n",
       "        text-align: right;\n",
       "    }\n",
       "</style>\n",
       "<table border=\"1\" class=\"dataframe\">\n",
       "  <thead>\n",
       "    <tr style=\"text-align: right;\">\n",
       "      <th></th>\n",
       "      <th>Date</th>\n",
       "      <th>Open</th>\n",
       "      <th>High</th>\n",
       "      <th>Low</th>\n",
       "      <th>Close</th>\n",
       "      <th>Adj Close</th>\n",
       "      <th>Volume</th>\n",
       "    </tr>\n",
       "  </thead>\n",
       "  <tbody>\n",
       "    <tr>\n",
       "      <th>2223</th>\n",
       "      <td>2022-01-31</td>\n",
       "      <td>37920.281250</td>\n",
       "      <td>38647.261719</td>\n",
       "      <td>36733.574219</td>\n",
       "      <td>38483.125000</td>\n",
       "      <td>38483.125000</td>\n",
       "      <td>20734730465</td>\n",
       "    </tr>\n",
       "    <tr>\n",
       "      <th>2224</th>\n",
       "      <td>2022-02-01</td>\n",
       "      <td>38481.765625</td>\n",
       "      <td>39115.132813</td>\n",
       "      <td>38113.664063</td>\n",
       "      <td>38743.273438</td>\n",
       "      <td>38743.273438</td>\n",
       "      <td>20288500328</td>\n",
       "    </tr>\n",
       "    <tr>\n",
       "      <th>2225</th>\n",
       "      <td>2022-02-02</td>\n",
       "      <td>38743.714844</td>\n",
       "      <td>38834.617188</td>\n",
       "      <td>36832.730469</td>\n",
       "      <td>36952.984375</td>\n",
       "      <td>36952.984375</td>\n",
       "      <td>19155189416</td>\n",
       "    </tr>\n",
       "    <tr>\n",
       "      <th>2226</th>\n",
       "      <td>2022-02-03</td>\n",
       "      <td>36944.804688</td>\n",
       "      <td>37154.601563</td>\n",
       "      <td>36375.539063</td>\n",
       "      <td>37154.601563</td>\n",
       "      <td>37154.601563</td>\n",
       "      <td>18591534769</td>\n",
       "    </tr>\n",
       "    <tr>\n",
       "      <th>2227</th>\n",
       "      <td>2022-02-04</td>\n",
       "      <td>37234.058594</td>\n",
       "      <td>38121.738281</td>\n",
       "      <td>37093.628906</td>\n",
       "      <td>37649.335938</td>\n",
       "      <td>37649.335938</td>\n",
       "      <td>20987750400</td>\n",
       "    </tr>\n",
       "  </tbody>\n",
       "</table>\n",
       "</div>"
      ],
      "text/plain": [
       "           Date          Open          High           Low         Close  \\\n",
       "2223 2022-01-31  37920.281250  38647.261719  36733.574219  38483.125000   \n",
       "2224 2022-02-01  38481.765625  39115.132813  38113.664063  38743.273438   \n",
       "2225 2022-02-02  38743.714844  38834.617188  36832.730469  36952.984375   \n",
       "2226 2022-02-03  36944.804688  37154.601563  36375.539063  37154.601563   \n",
       "2227 2022-02-04  37234.058594  38121.738281  37093.628906  37649.335938   \n",
       "\n",
       "         Adj Close       Volume  \n",
       "2223  38483.125000  20734730465  \n",
       "2224  38743.273438  20288500328  \n",
       "2225  36952.984375  19155189416  \n",
       "2226  37154.601563  18591534769  \n",
       "2227  37649.335938  20987750400  "
      ]
     },
     "execution_count": 10,
     "metadata": {},
     "output_type": "execute_result"
    }
   ],
   "source": [
    "btc_input_df_datetype.tail()"
   ]
  },
  {
   "cell_type": "code",
   "execution_count": 11,
   "metadata": {},
   "outputs": [
    {
     "data": {
      "text/html": [
       "<div>\n",
       "<style scoped>\n",
       "    .dataframe tbody tr th:only-of-type {\n",
       "        vertical-align: middle;\n",
       "    }\n",
       "\n",
       "    .dataframe tbody tr th {\n",
       "        vertical-align: top;\n",
       "    }\n",
       "\n",
       "    .dataframe thead th {\n",
       "        text-align: right;\n",
       "    }\n",
       "</style>\n",
       "<table border=\"1\" class=\"dataframe\">\n",
       "  <thead>\n",
       "    <tr style=\"text-align: right;\">\n",
       "      <th></th>\n",
       "      <th>Date</th>\n",
       "      <th>Open</th>\n",
       "      <th>High</th>\n",
       "      <th>Low</th>\n",
       "      <th>Close</th>\n",
       "      <th>Adj Close</th>\n",
       "      <th>Volume</th>\n",
       "    </tr>\n",
       "  </thead>\n",
       "  <tbody>\n",
       "    <tr>\n",
       "      <th>0</th>\n",
       "      <td>2016-01-01</td>\n",
       "      <td>430.721008</td>\n",
       "      <td>436.246002</td>\n",
       "      <td>427.515015</td>\n",
       "      <td>434.334015</td>\n",
       "      <td>434.334015</td>\n",
       "      <td>36278900</td>\n",
       "    </tr>\n",
       "    <tr>\n",
       "      <th>1</th>\n",
       "      <td>2016-01-02</td>\n",
       "      <td>434.622009</td>\n",
       "      <td>436.062012</td>\n",
       "      <td>431.869995</td>\n",
       "      <td>433.437988</td>\n",
       "      <td>433.437988</td>\n",
       "      <td>30096600</td>\n",
       "    </tr>\n",
       "    <tr>\n",
       "      <th>2</th>\n",
       "      <td>2016-01-03</td>\n",
       "      <td>433.578003</td>\n",
       "      <td>433.743011</td>\n",
       "      <td>424.705994</td>\n",
       "      <td>430.010986</td>\n",
       "      <td>430.010986</td>\n",
       "      <td>39633800</td>\n",
       "    </tr>\n",
       "    <tr>\n",
       "      <th>3</th>\n",
       "      <td>2016-01-04</td>\n",
       "      <td>430.061005</td>\n",
       "      <td>434.516998</td>\n",
       "      <td>429.084015</td>\n",
       "      <td>433.091003</td>\n",
       "      <td>433.091003</td>\n",
       "      <td>38477500</td>\n",
       "    </tr>\n",
       "    <tr>\n",
       "      <th>4</th>\n",
       "      <td>2016-01-05</td>\n",
       "      <td>433.069000</td>\n",
       "      <td>434.182007</td>\n",
       "      <td>429.675995</td>\n",
       "      <td>431.959991</td>\n",
       "      <td>431.959991</td>\n",
       "      <td>34522600</td>\n",
       "    </tr>\n",
       "  </tbody>\n",
       "</table>\n",
       "</div>"
      ],
      "text/plain": [
       "        Date        Open        High         Low       Close   Adj Close  \\\n",
       "0 2016-01-01  430.721008  436.246002  427.515015  434.334015  434.334015   \n",
       "1 2016-01-02  434.622009  436.062012  431.869995  433.437988  433.437988   \n",
       "2 2016-01-03  433.578003  433.743011  424.705994  430.010986  430.010986   \n",
       "3 2016-01-04  430.061005  434.516998  429.084015  433.091003  433.091003   \n",
       "4 2016-01-05  433.069000  434.182007  429.675995  431.959991  431.959991   \n",
       "\n",
       "     Volume  \n",
       "0  36278900  \n",
       "1  30096600  \n",
       "2  39633800  \n",
       "3  38477500  \n",
       "4  34522600  "
      ]
     },
     "execution_count": 11,
     "metadata": {},
     "output_type": "execute_result"
    }
   ],
   "source": [
    "btc_input_df_datetype.head()"
   ]
  },
  {
   "cell_type": "code",
   "execution_count": 12,
   "metadata": {},
   "outputs": [
    {
     "data": {
      "text/plain": [
       "[<matplotlib.lines.Line2D at 0x1caaf715600>]"
      ]
     },
     "execution_count": 12,
     "metadata": {},
     "output_type": "execute_result"
    },
    {
     "data": {
      "image/png": "[encoded data removed]",
      "text/plain": [
       "<Figure size 1152x504 with 1 Axes>"
      ]
     },
     "metadata": {
      "needs_background": "light"
     },
     "output_type": "display_data"
    }
   ],
   "source": [
    "plt.figure(figsize=(16,7))\n",
    "plt.plot(btc_input_df_datetype['Close'])"
   ]
  },
  {
   "cell_type": "markdown",
   "metadata": {},
   "source": [
    "**DATA FOR LSTM**"
   ]
  },
  {
   "cell_type": "code",
   "execution_count": 13,
   "metadata": {},
   "outputs": [
    {
     "data": {
      "text/html": [
       "<div>\n",
       "<style scoped>\n",
       "    .dataframe tbody tr th:only-of-type {\n",
       "        vertical-align: middle;\n",
       "    }\n",
       "\n",
       "    .dataframe tbody tr th {\n",
       "        vertical-align: top;\n",
       "    }\n",
       "\n",
       "    .dataframe thead th {\n",
       "        text-align: right;\n",
       "    }\n",
       "</style>\n",
       "<table border=\"1\" class=\"dataframe\">\n",
       "  <thead>\n",
       "    <tr style=\"text-align: right;\">\n",
       "      <th></th>\n",
       "      <th>Date</th>\n",
       "      <th>Open</th>\n",
       "      <th>High</th>\n",
       "      <th>Low</th>\n",
       "      <th>Close</th>\n",
       "      <th>Adj Close</th>\n",
       "      <th>Volume</th>\n",
       "    </tr>\n",
       "  </thead>\n",
       "  <tbody>\n",
       "    <tr>\n",
       "      <th>0</th>\n",
       "      <td>2016-01-01</td>\n",
       "      <td>430.721008</td>\n",
       "      <td>436.246002</td>\n",
       "      <td>427.515015</td>\n",
       "      <td>434.334015</td>\n",
       "      <td>434.334015</td>\n",
       "      <td>36278900</td>\n",
       "    </tr>\n",
       "    <tr>\n",
       "      <th>1</th>\n",
       "      <td>2016-01-02</td>\n",
       "      <td>434.622009</td>\n",
       "      <td>436.062012</td>\n",
       "      <td>431.869995</td>\n",
       "      <td>433.437988</td>\n",
       "      <td>433.437988</td>\n",
       "      <td>30096600</td>\n",
       "    </tr>\n",
       "    <tr>\n",
       "      <th>2</th>\n",
       "      <td>2016-01-03</td>\n",
       "      <td>433.578003</td>\n",
       "      <td>433.743011</td>\n",
       "      <td>424.705994</td>\n",
       "      <td>430.010986</td>\n",
       "      <td>430.010986</td>\n",
       "      <td>39633800</td>\n",
       "    </tr>\n",
       "    <tr>\n",
       "      <th>3</th>\n",
       "      <td>2016-01-04</td>\n",
       "      <td>430.061005</td>\n",
       "      <td>434.516998</td>\n",
       "      <td>429.084015</td>\n",
       "      <td>433.091003</td>\n",
       "      <td>433.091003</td>\n",
       "      <td>38477500</td>\n",
       "    </tr>\n",
       "    <tr>\n",
       "      <th>4</th>\n",
       "      <td>2016-01-05</td>\n",
       "      <td>433.069000</td>\n",
       "      <td>434.182007</td>\n",
       "      <td>429.675995</td>\n",
       "      <td>431.959991</td>\n",
       "      <td>431.959991</td>\n",
       "      <td>34522600</td>\n",
       "    </tr>\n",
       "  </tbody>\n",
       "</table>\n",
       "</div>"
      ],
      "text/plain": [
       "        Date        Open        High         Low       Close   Adj Close  \\\n",
       "0 2016-01-01  430.721008  436.246002  427.515015  434.334015  434.334015   \n",
       "1 2016-01-02  434.622009  436.062012  431.869995  433.437988  433.437988   \n",
       "2 2016-01-03  433.578003  433.743011  424.705994  430.010986  430.010986   \n",
       "3 2016-01-04  430.061005  434.516998  429.084015  433.091003  433.091003   \n",
       "4 2016-01-05  433.069000  434.182007  429.675995  431.959991  431.959991   \n",
       "\n",
       "     Volume  \n",
       "0  36278900  \n",
       "1  30096600  \n",
       "2  39633800  \n",
       "3  38477500  \n",
       "4  34522600  "
      ]
     },
     "metadata": {},
     "output_type": "display_data"
    }
   ],
   "source": [
    "display(btc_input_df_datetype.head())\n",
    "group = btc_input_df_datetype.groupby('Date')\n",
    "btc_closing_price_groupby_date = group['Close'].mean()"
   ]
  },
  {
   "cell_type": "code",
   "execution_count": 14,
   "metadata": {},
   "outputs": [
    {
     "data": {
      "text/plain": [
       "Date\n",
       "2016-01-01    434.334015\n",
       "2016-01-02    433.437988\n",
       "2016-01-03    430.010986\n",
       "2016-01-04    433.091003\n",
       "2016-01-05    431.959991\n",
       "Name: Close, dtype: float64"
      ]
     },
     "metadata": {},
     "output_type": "display_data"
    },
    {
     "data": {
      "text/plain": [
       "2227"
      ]
     },
     "execution_count": 14,
     "metadata": {},
     "output_type": "execute_result"
    }
   ],
   "source": [
    "display(btc_closing_price_groupby_date.head())\n",
    "len(btc_closing_price_groupby_date)"
   ]
  },
  {
   "cell_type": "markdown",
   "metadata": {},
   "source": [
    "**TRAIN TEST SPLIT**"
   ]
  },
  {
   "cell_type": "code",
   "execution_count": 15,
   "metadata": {},
   "outputs": [],
   "source": [
    "prediction_days = 35\n",
    "df_train= btc_closing_price_groupby_date[:len(btc_closing_price_groupby_date)-prediction_days].values.reshape(-1,1)\n",
    "df_test= btc_closing_price_groupby_date[len(btc_closing_price_groupby_date)-prediction_days:].values.reshape(-1,1)"
   ]
  },
  {
   "cell_type": "code",
   "execution_count": 16,
   "metadata": {},
   "outputs": [
    {
     "data": {
      "text/plain": [
       "(35, 1)"
      ]
     },
     "execution_count": 16,
     "metadata": {},
     "output_type": "execute_result"
    }
   ],
   "source": [
    "df_test.shape\n"
   ]
  },
  {
   "cell_type": "code",
   "execution_count": 17,
   "metadata": {},
   "outputs": [
    {
     "data": {
      "text/plain": [
       "<matplotlib.legend.Legend at 0x1caaf813310>"
      ]
     },
     "execution_count": 17,
     "metadata": {},
     "output_type": "execute_result"
    },
    {
     "data": {
      "image/png": "[encoded data removed]",
      "text/plain": [
       "<Figure size 1152x504 with 1 Axes>"
      ]
     },
     "metadata": {
      "needs_background": "light"
     },
     "output_type": "display_data"
    }
   ],
   "source": [
    "chosen_col = 'Close'\n",
    "fig, ax = plt.subplots(1, figsize=(16, 7))\n",
    "ax.plot(df_train, label='Train', linewidth=2)\n",
    "ax.plot(df_test, label='Test', linewidth=2)\n",
    "ax.set_ylabel('Price', fontsize=14)\n",
    "ax.set_title('TRAIN AND TEST')\n",
    "ax.legend()"
   ]
  },
  {
   "cell_type": "markdown",
   "metadata": {},
   "source": [
    "**MIN MAX SCALING OF DATA**"
   ]
  },
  {
   "cell_type": "code",
   "execution_count": 18,
   "metadata": {},
   "outputs": [],
   "source": [
    "scaler_train = MinMaxScaler(feature_range=(0, 1))\n",
    "scaled_train = scaler_train.fit_transform(df_train)\n",
    "\n",
    "scaler_test = MinMaxScaler(feature_range=(0, 1))\n",
    "scaled_test = scaler_test.fit_transform(df_test)"
   ]
  },
  {
   "cell_type": "code",
   "execution_count": 19,
   "metadata": {},
   "outputs": [
    {
     "name": "stdout",
     "output_type": "stream",
     "text": [
      "trainX: (2187, 5)\n",
      "trainY: (2187,)\n",
      "testX: (30, 5)\n",
      "testY: (30,)\n"
     ]
    }
   ],
   "source": [
    "def dataset_generator_lstm(dataset, look_back=5): \n",
    "    dataX, dataY = [], []\n",
    "    \n",
    "    for i in range(len(dataset) - look_back):\n",
    "        window_size_x = dataset[i:(i + look_back), 0]\n",
    "        dataX.append(window_size_x)\n",
    "        dataY.append(dataset[i + look_back, 0]) \n",
    "    return np.array(dataX), np.array(dataY)\n",
    "\n",
    "trainX, trainY = dataset_generator_lstm(scaled_train)\n",
    "testX, testY = dataset_generator_lstm(scaled_test)\n",
    "\n",
    "print(\"trainX:\", trainX.shape)\n",
    "print(\"trainY:\", trainY.shape)\n",
    "print(\"testX:\", testX.shape)\n",
    "print(\"testY:\", testY.shape)"
   ]
  },
  {
   "cell_type": "code",
   "execution_count": 20,
   "metadata": {},
   "outputs": [
    {
     "name": "stdout",
     "output_type": "stream",
     "text": [
      "trainX: [[0.00104167 0.00102834 0.00097734 0.00102318 0.00100635]\n",
      " [0.00102834 0.00097734 0.00102318 0.00100635 0.00096386]\n",
      " [0.00097734 0.00102318 0.00100635 0.00096386 0.00139455]\n",
      " ...\n",
      " [0.75083318 0.74499506 0.7506445  0.74812826 0.70271979]\n",
      " [0.74499506 0.7506445  0.74812826 0.70271979 0.68569446]\n",
      " [0.7506445  0.74812826 0.70271979 0.68569446 0.69660795]]\n",
      "trainY:  [0.00096386 0.00139455 0.00132285 ... 0.68569446 0.69660795 0.68363701]\n",
      "testY:  [[1.         0.97301054 0.9029203  0.85863158 0.67465032]\n",
      " [0.97301054 0.9029203  0.85863158 0.67465032 0.64240821]\n",
      " [0.9029203  0.85863158 0.67465032 0.64240821 0.51575239]\n",
      " [0.85863158 0.67465032 0.64240821 0.51575239 0.5296613 ]\n",
      " [0.67465032 0.64240821 0.51575239 0.5296613  0.5436983 ]\n",
      " [0.64240821 0.51575239 0.5296613  0.5436983  0.53656052]\n",
      " [0.51575239 0.5296613  0.5436983  0.53656052 0.60882293]\n",
      " [0.5296613  0.5436983  0.53656052 0.60882293 0.70468198]\n",
      " [0.5436983  0.53656052 0.60882293 0.70468198 0.5974229 ]\n",
      " [0.53656052 0.60882293 0.70468198 0.5974229  0.63757037]\n",
      " [0.60882293 0.70468198 0.5974229  0.63757037 0.64370941]\n",
      " [0.70468198 0.5974229  0.63757037 0.64370941 0.63869071]\n",
      " [0.5974229  0.63757037 0.64370941 0.63869071 0.57047882]\n",
      " [0.63757037 0.64370941 0.63869071 0.57047882 0.5803616 ]\n",
      " [0.64370941 0.63869071 0.57047882 0.5803616  0.53048196]\n",
      " [0.63869071 0.57047882 0.5803616  0.53048196 0.446422  ]\n",
      " [0.57047882 0.5803616  0.53048196 0.446422   0.11275308]\n",
      " [0.5803616  0.53048196 0.446422   0.11275308 0.        ]\n",
      " [0.53048196 0.446422   0.11275308 0.         0.09849078]\n",
      " [0.446422   0.11275308 0.         0.09849078 0.12831905]\n",
      " [0.11275308 0.         0.09849078 0.12831905 0.15199656]\n",
      " [0.         0.09849078 0.12831905 0.15199656 0.14394675]\n",
      " [0.09849078 0.12831905 0.15199656 0.14394675 0.16655268]\n",
      " [0.12831905 0.15199656 0.14394675 0.16655268 0.21760111]\n",
      " [0.15199656 0.14394675 0.16655268 0.21760111 0.24555875]\n",
      " [0.14394675 0.16655268 0.21760111 0.24555875 0.22813079]\n",
      " [0.16655268 0.21760111 0.24555875 0.22813079 0.27281302]\n",
      " [0.21760111 0.24555875 0.22813079 0.27281302 0.29336745]\n",
      " [0.24555875 0.22813079 0.27281302 0.29336745 0.151916  ]\n",
      " [0.22813079 0.27281302 0.29336745 0.151916   0.16784586]]\n",
      "testY [0.64240821 0.51575239 0.5296613  0.5436983  0.53656052 0.60882293\n",
      " 0.70468198 0.5974229  0.63757037 0.64370941 0.63869071 0.57047882\n",
      " 0.5803616  0.53048196 0.446422   0.11275308 0.         0.09849078\n",
      " 0.12831905 0.15199656 0.14394675 0.16655268 0.21760111 0.24555875\n",
      " 0.22813079 0.27281302 0.29336745 0.151916   0.16784586 0.20693501]\n"
     ]
    }
   ],
   "source": [
    "print(\"trainX:\", trainX)\n",
    "print(\"trainY: \", trainY)\n",
    "print(\"testY: \", testX)\n",
    "print(\"testY\", testY)"
   ]
  },
  {
   "cell_type": "code",
   "execution_count": 21,
   "metadata": {},
   "outputs": [
    {
     "data": {
      "text/plain": [
       "(2187, 5)"
      ]
     },
     "execution_count": 21,
     "metadata": {},
     "output_type": "execute_result"
    }
   ],
   "source": [
    "trainX.shape"
   ]
  },
  {
   "cell_type": "code",
   "execution_count": 22,
   "metadata": {},
   "outputs": [
    {
     "data": {
      "text/plain": [
       "(30, 5)"
      ]
     },
     "execution_count": 22,
     "metadata": {},
     "output_type": "execute_result"
    }
   ],
   "source": [
    "testX.shape"
   ]
  },
  {
   "cell_type": "markdown",
   "metadata": {},
   "source": [
    "**RESHAPE trainX AND testX**"
   ]
  },
  {
   "cell_type": "code",
   "execution_count": 23,
   "metadata": {},
   "outputs": [
    {
     "data": {
      "text/plain": [
       "(2187, 5, 1)"
      ]
     },
     "execution_count": 23,
     "metadata": {},
     "output_type": "execute_result"
    }
   ],
   "source": [
    "trainX = np.reshape(trainX, (trainX.shape[0], trainX.shape[1], 1))\n",
    "testX = np.reshape(testX, (testX.shape[0], testX.shape[1], 1 ))\n",
    "trainX.shape"
   ]
  },
  {
   "cell_type": "code",
   "execution_count": 24,
   "metadata": {},
   "outputs": [
    {
     "data": {
      "text/plain": [
       "(30, 5, 1)"
      ]
     },
     "execution_count": 24,
     "metadata": {},
     "output_type": "execute_result"
    }
   ],
   "source": [
    "testX.shape"
   ]
  },
  {
   "cell_type": "code",
   "execution_count": 25,
   "metadata": {},
   "outputs": [
    {
     "data": {
      "text/plain": [
       "array([[[0.00104167],\n",
       "        [0.00102834],\n",
       "        [0.00097734],\n",
       "        [0.00102318],\n",
       "        [0.00100635]],\n",
       "\n",
       "       [[0.00102834],\n",
       "        [0.00097734],\n",
       "        [0.00102318],\n",
       "        [0.00100635],\n",
       "        [0.00096386]],\n",
       "\n",
       "       [[0.00097734],\n",
       "        [0.00102318],\n",
       "        [0.00100635],\n",
       "        [0.00096386],\n",
       "        [0.00139455]],\n",
       "\n",
       "       ...,\n",
       "\n",
       "       [[0.75083318],\n",
       "        [0.74499506],\n",
       "        [0.7506445 ],\n",
       "        [0.74812826],\n",
       "        [0.70271979]],\n",
       "\n",
       "       [[0.74499506],\n",
       "        [0.7506445 ],\n",
       "        [0.74812826],\n",
       "        [0.70271979],\n",
       "        [0.68569446]],\n",
       "\n",
       "       [[0.7506445 ],\n",
       "        [0.74812826],\n",
       "        [0.70271979],\n",
       "        [0.68569446],\n",
       "        [0.69660795]]])"
      ]
     },
     "execution_count": 25,
     "metadata": {},
     "output_type": "execute_result"
    }
   ],
   "source": [
    "trainX"
   ]
  },
  {
   "cell_type": "code",
   "execution_count": 26,
   "metadata": {},
   "outputs": [
    {
     "data": {
      "text/plain": [
       "array([[[1.        ],\n",
       "        [0.97301054],\n",
       "        [0.9029203 ],\n",
       "        [0.85863158],\n",
       "        [0.67465032]],\n",
       "\n",
       "       [[0.97301054],\n",
       "        [0.9029203 ],\n",
       "        [0.85863158],\n",
       "        [0.67465032],\n",
       "        [0.64240821]],\n",
       "\n",
       "       [[0.9029203 ],\n",
       "        [0.85863158],\n",
       "        [0.67465032],\n",
       "        [0.64240821],\n",
       "        [0.51575239]],\n",
       "\n",
       "       [[0.85863158],\n",
       "        [0.67465032],\n",
       "        [0.64240821],\n",
       "        [0.51575239],\n",
       "        [0.5296613 ]],\n",
       "\n",
       "       [[0.67465032],\n",
       "        [0.64240821],\n",
       "        [0.51575239],\n",
       "        [0.5296613 ],\n",
       "        [0.5436983 ]],\n",
       "\n",
       "       [[0.64240821],\n",
       "        [0.51575239],\n",
       "        [0.5296613 ],\n",
       "        [0.5436983 ],\n",
       "        [0.53656052]],\n",
       "\n",
       "       [[0.51575239],\n",
       "        [0.5296613 ],\n",
       "        [0.5436983 ],\n",
       "        [0.53656052],\n",
       "        [0.60882293]],\n",
       "\n",
       "       [[0.5296613 ],\n",
       "        [0.5436983 ],\n",
       "        [0.53656052],\n",
       "        [0.60882293],\n",
       "        [0.70468198]],\n",
       "\n",
       "       [[0.5436983 ],\n",
       "        [0.53656052],\n",
       "        [0.60882293],\n",
       "        [0.70468198],\n",
       "        [0.5974229 ]],\n",
       "\n",
       "       [[0.53656052],\n",
       "        [0.60882293],\n",
       "        [0.70468198],\n",
       "        [0.5974229 ],\n",
       "        [0.63757037]],\n",
       "\n",
       "       [[0.60882293],\n",
       "        [0.70468198],\n",
       "        [0.5974229 ],\n",
       "        [0.63757037],\n",
       "        [0.64370941]],\n",
       "\n",
       "       [[0.70468198],\n",
       "        [0.5974229 ],\n",
       "        [0.63757037],\n",
       "        [0.64370941],\n",
       "        [0.63869071]],\n",
       "\n",
       "       [[0.5974229 ],\n",
       "        [0.63757037],\n",
       "        [0.64370941],\n",
       "        [0.63869071],\n",
       "        [0.57047882]],\n",
       "\n",
       "       [[0.63757037],\n",
       "        [0.64370941],\n",
       "        [0.63869071],\n",
       "        [0.57047882],\n",
       "        [0.5803616 ]],\n",
       "\n",
       "       [[0.64370941],\n",
       "        [0.63869071],\n",
       "        [0.57047882],\n",
       "        [0.5803616 ],\n",
       "        [0.53048196]],\n",
       "\n",
       "       [[0.63869071],\n",
       "        [0.57047882],\n",
       "        [0.5803616 ],\n",
       "        [0.53048196],\n",
       "        [0.446422  ]],\n",
       "\n",
       "       [[0.57047882],\n",
       "        [0.5803616 ],\n",
       "        [0.53048196],\n",
       "        [0.446422  ],\n",
       "        [0.11275308]],\n",
       "\n",
       "       [[0.5803616 ],\n",
       "        [0.53048196],\n",
       "        [0.446422  ],\n",
       "        [0.11275308],\n",
       "        [0.        ]],\n",
       "\n",
       "       [[0.53048196],\n",
       "        [0.446422  ],\n",
       "        [0.11275308],\n",
       "        [0.        ],\n",
       "        [0.09849078]],\n",
       "\n",
       "       [[0.446422  ],\n",
       "        [0.11275308],\n",
       "        [0.        ],\n",
       "        [0.09849078],\n",
       "        [0.12831905]],\n",
       "\n",
       "       [[0.11275308],\n",
       "        [0.        ],\n",
       "        [0.09849078],\n",
       "        [0.12831905],\n",
       "        [0.15199656]],\n",
       "\n",
       "       [[0.        ],\n",
       "        [0.09849078],\n",
       "        [0.12831905],\n",
       "        [0.15199656],\n",
       "        [0.14394675]],\n",
       "\n",
       "       [[0.09849078],\n",
       "        [0.12831905],\n",
       "        [0.15199656],\n",
       "        [0.14394675],\n",
       "        [0.16655268]],\n",
       "\n",
       "       [[0.12831905],\n",
       "        [0.15199656],\n",
       "        [0.14394675],\n",
       "        [0.16655268],\n",
       "        [0.21760111]],\n",
       "\n",
       "       [[0.15199656],\n",
       "        [0.14394675],\n",
       "        [0.16655268],\n",
       "        [0.21760111],\n",
       "        [0.24555875]],\n",
       "\n",
       "       [[0.14394675],\n",
       "        [0.16655268],\n",
       "        [0.21760111],\n",
       "        [0.24555875],\n",
       "        [0.22813079]],\n",
       "\n",
       "       [[0.16655268],\n",
       "        [0.21760111],\n",
       "        [0.24555875],\n",
       "        [0.22813079],\n",
       "        [0.27281302]],\n",
       "\n",
       "       [[0.21760111],\n",
       "        [0.24555875],\n",
       "        [0.22813079],\n",
       "        [0.27281302],\n",
       "        [0.29336745]],\n",
       "\n",
       "       [[0.24555875],\n",
       "        [0.22813079],\n",
       "        [0.27281302],\n",
       "        [0.29336745],\n",
       "        [0.151916  ]],\n",
       "\n",
       "       [[0.22813079],\n",
       "        [0.27281302],\n",
       "        [0.29336745],\n",
       "        [0.151916  ],\n",
       "        [0.16784586]]])"
      ]
     },
     "execution_count": 26,
     "metadata": {},
     "output_type": "execute_result"
    }
   ],
   "source": [
    "testX"
   ]
  },
  {
   "cell_type": "code",
   "execution_count": 27,
   "metadata": {},
   "outputs": [
    {
     "data": {
      "text/plain": [
       "5"
      ]
     },
     "execution_count": 27,
     "metadata": {},
     "output_type": "execute_result"
    }
   ],
   "source": [
    "trainX.shape[1]"
   ]
  },
  {
   "cell_type": "code",
   "execution_count": 28,
   "metadata": {},
   "outputs": [
    {
     "data": {
      "text/plain": [
       "1"
      ]
     },
     "execution_count": 28,
     "metadata": {},
     "output_type": "execute_result"
    }
   ],
   "source": [
    "trainX.shape[2]"
   ]
  },
  {
   "cell_type": "code",
   "execution_count": 29,
   "metadata": {},
   "outputs": [
    {
     "name": "stdout",
     "output_type": "stream",
     "text": [
      "Model: \"sequential\"\n",
      "_________________________________________________________________\n",
      " Layer (type)                Output Shape              Param #   \n",
      "=================================================================\n",
      " lstm (LSTM)                 (None, 5, 128)            66560     \n",
      "                                                                 \n",
      " dropout (Dropout)           (None, 5, 128)            0         \n",
      "                                                                 \n",
      " lstm_1 (LSTM)               (None, 64)                49408     \n",
      "                                                                 \n",
      " dropout_1 (Dropout)         (None, 64)                0         \n",
      "                                                                 \n",
      " dense (Dense)               (None, 1)                 65        \n",
      "                                                                 \n",
      "=================================================================\n",
      "Total params: 116,033\n",
      "Trainable params: 116,033\n",
      "Non-trainable params: 0\n",
      "_________________________________________________________________\n"
     ]
    }
   ],
   "source": [
    "regressor = Sequential()\n",
    "regressor.add(LSTM(units = 128, activation = 'relu',return_sequences=True, input_shape = (trainX.shape[1], trainX.shape[2])))\n",
    "regressor.add(Dropout(0.2))\n",
    "regressor.add(LSTM(units = 64, input_shape = (trainX.shape[1], trainX.shape[2])))\n",
    "regressor.add(Dropout(0.2))\n",
    "regressor.add(Dense(units = 1))\n",
    "regressor.summary()\n"
   ]
  },
  {
   "cell_type": "code",
   "execution_count": 30,
   "metadata": {},
   "outputs": [
    {
     "name": "stdout",
     "output_type": "stream",
     "text": [
      "Epoch 1/600\n",
      "67/69 [============================>.] - ETA: 0s - loss: 0.0146 - accuracy: 9.3284e-04\n",
      "Epoch 1: val_loss improved from inf to 0.14046, saving model to my_best_model.hdf5\n",
      "69/69 [==============================] - 7s 32ms/step - loss: 0.0152 - accuracy: 9.1449e-04 - val_loss: 0.1405 - val_accuracy: 0.0000e+00\n",
      "Epoch 2/600\n",
      "67/69 [============================>.] - ETA: 0s - loss: 0.0370 - accuracy: 9.3284e-04\n",
      "Epoch 2: val_loss improved from 0.14046 to 0.07755, saving model to my_best_model.hdf5\n",
      "69/69 [==============================] - 1s 16ms/step - loss: 0.0364 - accuracy: 9.1449e-04 - val_loss: 0.0775 - val_accuracy: 0.0000e+00\n",
      "Epoch 3/600\n",
      "66/69 [===========================>..] - ETA: 0s - loss: 0.0156 - accuracy: 4.7348e-04\n",
      "Epoch 3: val_loss improved from 0.07755 to 0.02531, saving model to my_best_model.hdf5\n",
      "69/69 [==============================] - 1s 19ms/step - loss: 0.0157 - accuracy: 9.1449e-04 - val_loss: 0.0253 - val_accuracy: 0.0333\n",
      "Epoch 4/600\n",
      "67/69 [============================>.] - ETA: 0s - loss: 0.0059 - accuracy: 9.3284e-04\n",
      "Epoch 4: val_loss improved from 0.02531 to 0.02347, saving model to my_best_model.hdf5\n",
      "69/69 [==============================] - 2s 27ms/step - loss: 0.0065 - accuracy: 9.1449e-04 - val_loss: 0.0235 - val_accuracy: 0.0333\n",
      "Epoch 5/600\n",
      "69/69 [==============================] - ETA: 0s - loss: 0.0037 - accuracy: 9.1449e-04\n",
      "Epoch 5: val_loss improved from 0.02347 to 0.02263, saving model to my_best_model.hdf5\n",
      "69/69 [==============================] - 2s 23ms/step - loss: 0.0037 - accuracy: 9.1449e-04 - val_loss: 0.0226 - val_accuracy: 0.0333\n",
      "Epoch 6/600\n",
      "67/69 [============================>.] - ETA: 0s - loss: 0.0020 - accuracy: 9.3284e-04\n",
      "Epoch 6: val_loss did not improve from 0.02263\n",
      "69/69 [==============================] - 1s 20ms/step - loss: 0.0021 - accuracy: 9.1449e-04 - val_loss: 0.0247 - val_accuracy: 0.0333\n",
      "Epoch 7/600\n",
      "68/69 [============================>.] - ETA: 0s - loss: 0.0017 - accuracy: 9.1912e-04\n",
      "Epoch 7: val_loss did not improve from 0.02263\n",
      "69/69 [==============================] - 2s 23ms/step - loss: 0.0017 - accuracy: 9.1449e-04 - val_loss: 0.0266 - val_accuracy: 0.0333\n",
      "Epoch 8/600\n",
      "67/69 [============================>.] - ETA: 0s - loss: 0.0016 - accuracy: 9.3284e-04  \n",
      "Epoch 8: val_loss did not improve from 0.02263\n",
      "69/69 [==============================] - 2s 22ms/step - loss: 0.0017 - accuracy: 9.1449e-04 - val_loss: 0.0272 - val_accuracy: 0.0333\n",
      "Epoch 9/600\n",
      "67/69 [============================>.] - ETA: 0s - loss: 0.0016 - accuracy: 9.3284e-04\n",
      "Epoch 9: val_loss did not improve from 0.02263\n",
      "69/69 [==============================] - 2s 23ms/step - loss: 0.0018 - accuracy: 9.1449e-04 - val_loss: 0.0261 - val_accuracy: 0.0333\n",
      "Epoch 10/600\n",
      "66/69 [===========================>..] - ETA: 0s - loss: 0.0017 - accuracy: 4.7348e-04  \n",
      "Epoch 10: val_loss did not improve from 0.02263\n",
      "69/69 [==============================] - 1s 21ms/step - loss: 0.0022 - accuracy: 9.1449e-04 - val_loss: 0.0270 - val_accuracy: 0.0333\n",
      "Epoch 11/600\n",
      "67/69 [============================>.] - ETA: 0s - loss: 0.0030 - accuracy: 9.3284e-04\n",
      "Epoch 11: val_loss did not improve from 0.02263\n",
      "69/69 [==============================] - 1s 18ms/step - loss: 0.0033 - accuracy: 9.1449e-04 - val_loss: 0.0241 - val_accuracy: 0.0333\n",
      "Epoch 12/600\n",
      "69/69 [==============================] - ETA: 0s - loss: 0.0045 - accuracy: 9.1449e-04\n",
      "Epoch 12: val_loss did not improve from 0.02263\n",
      "69/69 [==============================] - 1s 20ms/step - loss: 0.0045 - accuracy: 9.1449e-04 - val_loss: 0.0234 - val_accuracy: 0.0333\n",
      "Epoch 13/600\n",
      "67/69 [============================>.] - ETA: 0s - loss: 0.0041 - accuracy: 9.3284e-04\n",
      "Epoch 13: val_loss did not improve from 0.02263\n",
      "69/69 [==============================] - 1s 21ms/step - loss: 0.0046 - accuracy: 9.1449e-04 - val_loss: 0.0235 - val_accuracy: 0.0333\n",
      "Epoch 14/600\n",
      "66/69 [===========================>..] - ETA: 0s - loss: 0.0022 - accuracy: 4.7348e-04\n",
      "Epoch 14: val_loss did not improve from 0.02263\n",
      "69/69 [==============================] - 1s 17ms/step - loss: 0.0028 - accuracy: 9.1449e-04 - val_loss: 0.0238 - val_accuracy: 0.0333\n",
      "Epoch 15/600\n",
      "68/69 [============================>.] - ETA: 0s - loss: 0.0019 - accuracy: 9.1912e-04  \n",
      "Epoch 15: val_loss did not improve from 0.02263\n",
      "69/69 [==============================] - 1s 21ms/step - loss: 0.0020 - accuracy: 9.1449e-04 - val_loss: 0.0244 - val_accuracy: 0.0333\n"
     ]
    }
   ],
   "source": [
    "from tensorflow.keras.callbacks import ModelCheckpoint, EarlyStopping                               \n",
    "regressor.compile(optimizer = 'adam', loss = 'mean_squared_error',metrics= ['accuracy'])\n",
    "checkpoint_path = 'my_best_model.hdf5'\n",
    "checkpoint = ModelCheckpoint(filepath=checkpoint_path, \n",
    "                             monitor='val_loss',\n",
    "                             verbose=1, \n",
    "                             save_best_only=True,\n",
    "                             mode='min')\n",
    "earlystopping = EarlyStopping(monitor='val_loss', patience=10, restore_best_weights=True)\n",
    "callbacks = [checkpoint, earlystopping]\n",
    "history = regressor.fit(trainX, trainY, batch_size = 32, epochs = 600, verbose=1, shuffle=False, validation_data=(testX, testY), callbacks=callbacks)"
   ]
  },
  {
   "cell_type": "code",
   "execution_count": 31,
   "metadata": {},
   "outputs": [],
   "source": [
    "from tensorflow.keras.models import load_model\n",
    "model_from_saved_checkpoint = load_model(checkpoint_path)"
   ]
  },
  {
   "cell_type": "code",
   "execution_count": 32,
   "metadata": {},
   "outputs": [
    {
     "data": {
      "image/png": "[encoded data removed]",
      "text/plain": [
       "<Figure size 1152x504 with 1 Axes>"
      ]
     },
     "metadata": {
      "needs_background": "light"
     },
     "output_type": "display_data"
    }
   ],
   "source": [
    "plt.figure(figsize=(16,7))\n",
    "plt.plot(history.history['loss'], label='train')\n",
    "plt.plot(history.history['val_loss'], label='test')\n",
    "plt.legend()\n",
    "plt.show()"
   ]
  },
  {
   "cell_type": "code",
   "execution_count": 33,
   "metadata": {},
   "outputs": [],
   "source": [
    "predicted_btc_price_test_data = model_from_saved_checkpoint.predict(testX)\n",
    "predicted_btc_price_test_data = scaler_test.inverse_transform(predicted_btc_price_test_data.reshape(-1, 1))\n",
    "test_actual = scaler_test.inverse_transform(testY.reshape(-1, 1))"
   ]
  },
  {
   "cell_type": "code",
   "execution_count": 34,
   "metadata": {},
   "outputs": [
    {
     "data": {
      "image/png": "[encoded data removed]",
      "text/plain": [
       "<Figure size 1152x504 with 1 Axes>"
      ]
     },
     "metadata": {
      "needs_background": "light"
     },
     "output_type": "display_data"
    }
   ],
   "source": [
    "plt.figure(figsize=(16,7))\n",
    "plt.plot(predicted_btc_price_test_data,\"r-\",marker='.', label='Prediction TEST')\n",
    "plt.plot(test_actual, marker='.', label='Original TEST')\n",
    "plt.legend()\n",
    "plt.show()"
   ]
  },
  {
   "cell_type": "markdown",
   "metadata": {},
   "source": [
    "**LSTM PREDICTION**"
   ]
  },
  {
   "cell_type": "code",
   "execution_count": 35,
   "metadata": {},
   "outputs": [],
   "source": [
    "predicted_btc_price_train_data = model_from_saved_checkpoint.predict(trainX)\n",
    "predicted_btc_price_train_data = scaler_train.inverse_transform(predicted_btc_price_train_data.reshape(-1, 1))\n",
    "train_actual = scaler_train.inverse_transform(trainY.reshape(-1, 1))"
   ]
  },
  {
   "cell_type": "code",
   "execution_count": 36,
   "metadata": {},
   "outputs": [
    {
     "data": {
      "image/png": "[encoded data removed]",
      "text/plain": [
       "<Figure size 1152x504 with 1 Axes>"
      ]
     },
     "metadata": {
      "needs_background": "light"
     },
     "output_type": "display_data"
    }
   ],
   "source": [
    "plt.figure(figsize=(16,7))\n",
    "plt.plot(predicted_btc_price_train_data,\"r-\",marker='.', label='Prediction TEST')\n",
    "plt.plot(train_actual, marker='.', label='Original TEST')\n",
    "plt.legend()\n",
    "plt.show()"
   ]
  },
  {
   "cell_type": "markdown",
   "metadata": {},
   "source": [
    "**RMSE TEST AND TRAIN DATA**"
   ]
  },
  {
   "cell_type": "code",
   "execution_count": 37,
   "metadata": {},
   "outputs": [
    {
     "data": {
      "text/plain": [
       "1903.839434276712"
      ]
     },
     "execution_count": 37,
     "metadata": {},
     "output_type": "execute_result"
    }
   ],
   "source": [
    "rmse_lstm_test = math.sqrt(mean_squared_error(test_actual, predicted_btc_price_test_data))\n",
    "rmse_lstm_test"
   ]
  },
  {
   "cell_type": "code",
   "execution_count": 38,
   "metadata": {},
   "outputs": [
    {
     "data": {
      "text/plain": [
       "4312.7681396627795"
      ]
     },
     "execution_count": 38,
     "metadata": {},
     "output_type": "execute_result"
    }
   ],
   "source": [
    "rmse_lstm_train = math.sqrt(mean_squared_error(train_actual, predicted_btc_price_train_data))\n",
    "rmse_lstm_train"
   ]
  },
  {
   "cell_type": "code",
   "execution_count": 39,
   "metadata": {},
   "outputs": [
    {
     "data": {
      "text/plain": [
       "array([[[1.        ],\n",
       "        [0.97301054],\n",
       "        [0.9029203 ],\n",
       "        [0.85863158],\n",
       "        [0.67465032]],\n",
       "\n",
       "       [[0.97301054],\n",
       "        [0.9029203 ],\n",
       "        [0.85863158],\n",
       "        [0.67465032],\n",
       "        [0.64240821]],\n",
       "\n",
       "       [[0.9029203 ],\n",
       "        [0.85863158],\n",
       "        [0.67465032],\n",
       "        [0.64240821],\n",
       "        [0.51575239]],\n",
       "\n",
       "       [[0.85863158],\n",
       "        [0.67465032],\n",
       "        [0.64240821],\n",
       "        [0.51575239],\n",
       "        [0.5296613 ]],\n",
       "\n",
       "       [[0.67465032],\n",
       "        [0.64240821],\n",
       "        [0.51575239],\n",
       "        [0.5296613 ],\n",
       "        [0.5436983 ]],\n",
       "\n",
       "       [[0.64240821],\n",
       "        [0.51575239],\n",
       "        [0.5296613 ],\n",
       "        [0.5436983 ],\n",
       "        [0.53656052]],\n",
       "\n",
       "       [[0.51575239],\n",
       "        [0.5296613 ],\n",
       "        [0.5436983 ],\n",
       "        [0.53656052],\n",
       "        [0.60882293]],\n",
       "\n",
       "       [[0.5296613 ],\n",
       "        [0.5436983 ],\n",
       "        [0.53656052],\n",
       "        [0.60882293],\n",
       "        [0.70468198]],\n",
       "\n",
       "       [[0.5436983 ],\n",
       "        [0.53656052],\n",
       "        [0.60882293],\n",
       "        [0.70468198],\n",
       "        [0.5974229 ]],\n",
       "\n",
       "       [[0.53656052],\n",
       "        [0.60882293],\n",
       "        [0.70468198],\n",
       "        [0.5974229 ],\n",
       "        [0.63757037]],\n",
       "\n",
       "       [[0.60882293],\n",
       "        [0.70468198],\n",
       "        [0.5974229 ],\n",
       "        [0.63757037],\n",
       "        [0.64370941]],\n",
       "\n",
       "       [[0.70468198],\n",
       "        [0.5974229 ],\n",
       "        [0.63757037],\n",
       "        [0.64370941],\n",
       "        [0.63869071]],\n",
       "\n",
       "       [[0.5974229 ],\n",
       "        [0.63757037],\n",
       "        [0.64370941],\n",
       "        [0.63869071],\n",
       "        [0.57047882]],\n",
       "\n",
       "       [[0.63757037],\n",
       "        [0.64370941],\n",
       "        [0.63869071],\n",
       "        [0.57047882],\n",
       "        [0.5803616 ]],\n",
       "\n",
       "       [[0.64370941],\n",
       "        [0.63869071],\n",
       "        [0.57047882],\n",
       "        [0.5803616 ],\n",
       "        [0.53048196]],\n",
       "\n",
       "       [[0.63869071],\n",
       "        [0.57047882],\n",
       "        [0.5803616 ],\n",
       "        [0.53048196],\n",
       "        [0.446422  ]],\n",
       "\n",
       "       [[0.57047882],\n",
       "        [0.5803616 ],\n",
       "        [0.53048196],\n",
       "        [0.446422  ],\n",
       "        [0.11275308]],\n",
       "\n",
       "       [[0.5803616 ],\n",
       "        [0.53048196],\n",
       "        [0.446422  ],\n",
       "        [0.11275308],\n",
       "        [0.        ]],\n",
       "\n",
       "       [[0.53048196],\n",
       "        [0.446422  ],\n",
       "        [0.11275308],\n",
       "        [0.        ],\n",
       "        [0.09849078]],\n",
       "\n",
       "       [[0.446422  ],\n",
       "        [0.11275308],\n",
       "        [0.        ],\n",
       "        [0.09849078],\n",
       "        [0.12831905]],\n",
       "\n",
       "       [[0.11275308],\n",
       "        [0.        ],\n",
       "        [0.09849078],\n",
       "        [0.12831905],\n",
       "        [0.15199656]],\n",
       "\n",
       "       [[0.        ],\n",
       "        [0.09849078],\n",
       "        [0.12831905],\n",
       "        [0.15199656],\n",
       "        [0.14394675]],\n",
       "\n",
       "       [[0.09849078],\n",
       "        [0.12831905],\n",
       "        [0.15199656],\n",
       "        [0.14394675],\n",
       "        [0.16655268]],\n",
       "\n",
       "       [[0.12831905],\n",
       "        [0.15199656],\n",
       "        [0.14394675],\n",
       "        [0.16655268],\n",
       "        [0.21760111]],\n",
       "\n",
       "       [[0.15199656],\n",
       "        [0.14394675],\n",
       "        [0.16655268],\n",
       "        [0.21760111],\n",
       "        [0.24555875]],\n",
       "\n",
       "       [[0.14394675],\n",
       "        [0.16655268],\n",
       "        [0.21760111],\n",
       "        [0.24555875],\n",
       "        [0.22813079]],\n",
       "\n",
       "       [[0.16655268],\n",
       "        [0.21760111],\n",
       "        [0.24555875],\n",
       "        [0.22813079],\n",
       "        [0.27281302]],\n",
       "\n",
       "       [[0.21760111],\n",
       "        [0.24555875],\n",
       "        [0.22813079],\n",
       "        [0.27281302],\n",
       "        [0.29336745]],\n",
       "\n",
       "       [[0.24555875],\n",
       "        [0.22813079],\n",
       "        [0.27281302],\n",
       "        [0.29336745],\n",
       "        [0.151916  ]],\n",
       "\n",
       "       [[0.22813079],\n",
       "        [0.27281302],\n",
       "        [0.29336745],\n",
       "        [0.151916  ],\n",
       "        [0.16784586]]])"
      ]
     },
     "execution_count": 39,
     "metadata": {},
     "output_type": "execute_result"
    }
   ],
   "source": [
    "testX"
   ]
  },
  {
   "cell_type": "code",
   "execution_count": 40,
   "metadata": {},
   "outputs": [
    {
     "data": {
      "text/plain": [
       "(30, 5, 1)"
      ]
     },
     "execution_count": 40,
     "metadata": {},
     "output_type": "execute_result"
    }
   ],
   "source": [
    "testX.shape"
   ]
  },
  {
   "cell_type": "code",
   "execution_count": 41,
   "metadata": {},
   "outputs": [
    {
     "data": {
      "text/plain": [
       "(5, 5, 1)"
      ]
     },
     "execution_count": 41,
     "metadata": {},
     "output_type": "execute_result"
    }
   ],
   "source": [
    "lookback_period = 5\n",
    "testX_last_5_days = testX[testX.shape[0] - lookback_period :  ]\n",
    "testX_last_5_days.shape"
   ]
  },
  {
   "cell_type": "code",
   "execution_count": 42,
   "metadata": {},
   "outputs": [
    {
     "data": {
      "text/plain": [
       "array([[[0.14394675],\n",
       "        [0.16655268],\n",
       "        [0.21760111],\n",
       "        [0.24555875],\n",
       "        [0.22813079]],\n",
       "\n",
       "       [[0.16655268],\n",
       "        [0.21760111],\n",
       "        [0.24555875],\n",
       "        [0.22813079],\n",
       "        [0.27281302]],\n",
       "\n",
       "       [[0.21760111],\n",
       "        [0.24555875],\n",
       "        [0.22813079],\n",
       "        [0.27281302],\n",
       "        [0.29336745]],\n",
       "\n",
       "       [[0.24555875],\n",
       "        [0.22813079],\n",
       "        [0.27281302],\n",
       "        [0.29336745],\n",
       "        [0.151916  ]],\n",
       "\n",
       "       [[0.22813079],\n",
       "        [0.27281302],\n",
       "        [0.29336745],\n",
       "        [0.151916  ],\n",
       "        [0.16784586]]])"
      ]
     },
     "execution_count": 42,
     "metadata": {},
     "output_type": "execute_result"
    }
   ],
   "source": [
    "testX_last_5_days"
   ]
  },
  {
   "cell_type": "code",
   "execution_count": 43,
   "metadata": {},
   "outputs": [
    {
     "name": "stdout",
     "output_type": "stream",
     "text": [
      "Forecast for the next 5 Days Beyond the actual trading days  [[[36590.72]]\n",
      "\n",
      " [[36910.64]]\n",
      "\n",
      " [[37234.26]]\n",
      "\n",
      " [[37228.78]]\n",
      "\n",
      " [[37058.49]]]\n"
     ]
    }
   ],
   "source": [
    "predicted_5_days_forecast_price_test_x = []\n",
    "for i in range(5):  \n",
    "  predicted_forecast_price_test_x = model_from_saved_checkpoint.predict(testX_last_5_days[i:i+1])\n",
    "  \n",
    "  predicted_forecast_price_test_x = scaler_test.inverse_transform(predicted_forecast_price_test_x.reshape(-1, 1))\n",
    "  \n",
    "  predicted_5_days_forecast_price_test_x.append(predicted_forecast_price_test_x)\n",
    "  \n",
    "print(\"Forecast for the next 5 Days Beyond the actual trading days \", np.array(predicted_5_days_forecast_price_test_x)) "
   ]
  },
  {
   "cell_type": "code",
   "execution_count": 44,
   "metadata": {},
   "outputs": [
    {
     "data": {
      "text/plain": [
       "(5, 1, 1)"
      ]
     },
     "execution_count": 44,
     "metadata": {},
     "output_type": "execute_result"
    }
   ],
   "source": [
    "predicted_5_days_forecast_price_test_x = np.array(predicted_5_days_forecast_price_test_x)\n",
    "predicted_5_days_forecast_price_test_x.shape"
   ]
  },
  {
   "cell_type": "code",
   "execution_count": 45,
   "metadata": {},
   "outputs": [
    {
     "data": {
      "text/plain": [
       "(30, 1)"
      ]
     },
     "execution_count": 45,
     "metadata": {},
     "output_type": "execute_result"
    }
   ],
   "source": [
    "predicted_btc_price_test_data.shape"
   ]
  },
  {
   "cell_type": "code",
   "execution_count": 46,
   "metadata": {},
   "outputs": [
    {
     "data": {
      "text/plain": [
       "array([[44915.44 ],\n",
       "       [44085.363],\n",
       "       [43070.52 ],\n",
       "       [42144.316],\n",
       "       [41324.992],\n",
       "       [40995.957],\n",
       "       [40838.41 ],\n",
       "       [41196.45 ],\n",
       "       [41438.383],\n",
       "       [41656.926],\n",
       "       [41934.965],\n",
       "       [42021.44 ],\n",
       "       [41738.06 ],\n",
       "       [41704.664],\n",
       "       [41483.29 ],\n",
       "       [41077.516],\n",
       "       [40055.965],\n",
       "       [38749.164],\n",
       "       [37384.668],\n",
       "       [36275.11 ],\n",
       "       [35594.4  ],\n",
       "       [35649.64 ],\n",
       "       [35890.84 ],\n",
       "       [36113.35 ],\n",
       "       [36368.19 ],\n",
       "       [36590.72 ],\n",
       "       [36910.64 ],\n",
       "       [37234.26 ],\n",
       "       [37228.78 ],\n",
       "       [37058.49 ]], dtype=float32)"
      ]
     },
     "execution_count": 46,
     "metadata": {},
     "output_type": "execute_result"
    }
   ],
   "source": [
    "predicted_btc_price_test_data"
   ]
  },
  {
   "cell_type": "code",
   "execution_count": 47,
   "metadata": {},
   "outputs": [
    {
     "data": {
      "text/plain": [
       "array([[[36590.72]],\n",
       "\n",
       "       [[36910.64]],\n",
       "\n",
       "       [[37234.26]],\n",
       "\n",
       "       [[37228.78]],\n",
       "\n",
       "       [[37058.49]]], dtype=float32)"
      ]
     },
     "execution_count": 47,
     "metadata": {},
     "output_type": "execute_result"
    }
   ],
   "source": [
    "predicted_5_days_forecast_price_test_x"
   ]
  },
  {
   "cell_type": "code",
   "execution_count": 48,
   "metadata": {},
   "outputs": [
    {
     "data": {
      "text/plain": [
       "array([36590.72, 36910.64, 37234.26, 37228.78, 37058.49], dtype=float32)"
      ]
     },
     "execution_count": 48,
     "metadata": {},
     "output_type": "execute_result"
    }
   ],
   "source": [
    "predicted_5_days_forecast_price_test_x = predicted_5_days_forecast_price_test_x.flatten()\n",
    "predicted_5_days_forecast_price_test_x"
   ]
  },
  {
   "cell_type": "code",
   "execution_count": 49,
   "metadata": {},
   "outputs": [
    {
     "data": {
      "text/plain": [
       "array([44915.44 , 44085.363, 43070.52 , 42144.316, 41324.992, 40995.957,\n",
       "       40838.41 , 41196.45 , 41438.383, 41656.926, 41934.965, 42021.44 ,\n",
       "       41738.06 , 41704.664, 41483.29 , 41077.516, 40055.965, 38749.164,\n",
       "       37384.668, 36275.11 , 35594.4  , 35649.64 , 35890.84 , 36113.35 ,\n",
       "       36368.19 , 36590.72 , 36910.64 , 37234.26 , 37228.78 , 37058.49 ],\n",
       "      dtype=float32)"
      ]
     },
     "execution_count": 49,
     "metadata": {},
     "output_type": "execute_result"
    }
   ],
   "source": [
    "predicted_btc_price_test_data = predicted_btc_price_test_data.flatten()\n",
    "predicted_btc_price_test_data"
   ]
  },
  {
   "cell_type": "code",
   "execution_count": 50,
   "metadata": {},
   "outputs": [
    {
     "data": {
      "text/plain": [
       "(35,)"
      ]
     },
     "execution_count": 50,
     "metadata": {},
     "output_type": "execute_result"
    }
   ],
   "source": [
    "predicted_btc_test_concatenated = np.concatenate((predicted_btc_price_test_data, predicted_5_days_forecast_price_test_x))\n",
    "predicted_btc_test_concatenated\n",
    "predicted_btc_test_concatenated.shape"
   ]
  },
  {
   "cell_type": "code",
   "execution_count": 51,
   "metadata": {},
   "outputs": [
    {
     "data": {
      "image/png": "[encoded data removed]",
      "text/plain": [
       "<Figure size 1152x504 with 1 Axes>"
      ]
     },
     "metadata": {
      "needs_background": "light"
     },
     "output_type": "display_data"
    }
   ],
   "source": [
    "plt.figure(figsize=(16,7))\n",
    "plt.plot(predicted_btc_test_concatenated,\"r-\", marker='.', label='PREDICTION')\n",
    "plt.plot(test_actual, marker='.', label='ORIGINAL')\n",
    "plt.legend()\n",
    "plt.show()"
   ]
  },
  {
   "cell_type": "code",
   "execution_count": null,
   "metadata": {},
   "outputs": [],
   "source": []
  }
 ],
 "metadata": {
  "interpreter": {
   "hash": "f9f85f796d01129d0dd105a088854619f454435301f6ffec2fea96ecbd9be4ac"
  },
  "kernelspec": {
   "display_name": "Python 3 (ipykernel)",
   "language": "python",
   "name": "python3"
  },
  "language_info": {
   "codemirror_mode": {
    "name": "ipython",
    "version": 3
   },
   "file_extension": ".py",
   "mimetype": "text/x-python",
   "name": "python",
   "nbconvert_exporter": "python",
   "pygments_lexer": "ipython3",
   "version": "3.10.2"
  }
 },
 "nbformat": 4,
 "nbformat_minor": 2
}
