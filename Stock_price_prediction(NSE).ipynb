{
 "cells": [
  {
   "cell_type": "code",
   "execution_count": 373,
   "id": "9d680e34",
   "metadata": {},
   "outputs": [],
   "source": [
    "##importing libraries\n",
    "import pandas as pd\n",
    "import numpy as np\n",
    "import seaborn as sns\n",
    "from scipy import stats\n",
    "import warnings \n",
    "warnings.filterwarnings('ignore')\n",
    "from matplotlib import pyplot as plt\n",
    "from scipy.stats import zscore\n",
    "import datetime\n",
    "import calendar\n",
    "from sklearn.neighbors import KNeighborsRegressor\n",
    "from sklearn.svm import SVR\n",
    "from sklearn.tree import DecisionTreeRegressor\n",
    "from sklearn.linear_model import LinearRegression\n",
    "from sklearn.linear_model import Lasso\n",
    "from sklearn.ensemble import RandomForestRegressor\n",
    "from sklearn.ensemble import GradientBoostingRegressor\n",
    "import xgboost as xgb\n",
    "from sklearn.model_selection import train_test_split"
   ]
  },
  {
   "cell_type": "code",
   "execution_count": 374,
   "id": "bf84ac2d",
   "metadata": {},
   "outputs": [
    {
     "data": {
      "text/html": [
       "<div>\n",
       "<style scoped>\n",
       "    .dataframe tbody tr th:only-of-type {\n",
       "        vertical-align: middle;\n",
       "    }\n",
       "\n",
       "    .dataframe tbody tr th {\n",
       "        vertical-align: top;\n",
       "    }\n",
       "\n",
       "    .dataframe thead th {\n",
       "        text-align: right;\n",
       "    }\n",
       "</style>\n",
       "<table border=\"1\" class=\"dataframe\">\n",
       "  <thead>\n",
       "    <tr style=\"text-align: right;\">\n",
       "      <th></th>\n",
       "      <th>Date</th>\n",
       "      <th>Open</th>\n",
       "      <th>High</th>\n",
       "      <th>Low</th>\n",
       "      <th>Close</th>\n",
       "      <th>Adj Close</th>\n",
       "      <th>Volume</th>\n",
       "    </tr>\n",
       "  </thead>\n",
       "  <tbody>\n",
       "    <tr>\n",
       "      <th>0</th>\n",
       "      <td>2016-01-04</td>\n",
       "      <td>7924.549805</td>\n",
       "      <td>7937.549805</td>\n",
       "      <td>7781.100098</td>\n",
       "      <td>7791.299805</td>\n",
       "      <td>7791.299805</td>\n",
       "      <td>134700.0</td>\n",
       "    </tr>\n",
       "    <tr>\n",
       "      <th>1</th>\n",
       "      <td>2016-01-05</td>\n",
       "      <td>7828.399902</td>\n",
       "      <td>7831.200195</td>\n",
       "      <td>7763.250000</td>\n",
       "      <td>7784.649902</td>\n",
       "      <td>7784.649902</td>\n",
       "      <td>145200.0</td>\n",
       "    </tr>\n",
       "    <tr>\n",
       "      <th>2</th>\n",
       "      <td>2016-01-06</td>\n",
       "      <td>7788.049805</td>\n",
       "      <td>7800.950195</td>\n",
       "      <td>7721.200195</td>\n",
       "      <td>7741.000000</td>\n",
       "      <td>7741.000000</td>\n",
       "      <td>147100.0</td>\n",
       "    </tr>\n",
       "    <tr>\n",
       "      <th>3</th>\n",
       "      <td>2016-01-07</td>\n",
       "      <td>7673.350098</td>\n",
       "      <td>7674.950195</td>\n",
       "      <td>7556.600098</td>\n",
       "      <td>7568.299805</td>\n",
       "      <td>7568.299805</td>\n",
       "      <td>188900.0</td>\n",
       "    </tr>\n",
       "    <tr>\n",
       "      <th>4</th>\n",
       "      <td>2016-01-08</td>\n",
       "      <td>7611.649902</td>\n",
       "      <td>7634.100098</td>\n",
       "      <td>7581.049805</td>\n",
       "      <td>7601.350098</td>\n",
       "      <td>7601.350098</td>\n",
       "      <td>157400.0</td>\n",
       "    </tr>\n",
       "  </tbody>\n",
       "</table>\n",
       "</div>"
      ],
      "text/plain": [
       "         Date         Open         High          Low        Close  \\\n",
       "0  2016-01-04  7924.549805  7937.549805  7781.100098  7791.299805   \n",
       "1  2016-01-05  7828.399902  7831.200195  7763.250000  7784.649902   \n",
       "2  2016-01-06  7788.049805  7800.950195  7721.200195  7741.000000   \n",
       "3  2016-01-07  7673.350098  7674.950195  7556.600098  7568.299805   \n",
       "4  2016-01-08  7611.649902  7634.100098  7581.049805  7601.350098   \n",
       "\n",
       "     Adj Close    Volume  \n",
       "0  7791.299805  134700.0  \n",
       "1  7784.649902  145200.0  \n",
       "2  7741.000000  147100.0  \n",
       "3  7568.299805  188900.0  \n",
       "4  7601.350098  157400.0  "
      ]
     },
     "execution_count": 374,
     "metadata": {},
     "output_type": "execute_result"
    }
   ],
   "source": [
    "##Loading train and test dataset\n",
    "df=pd.read_csv(\"D:\\\\E\\\\ML_assignment\\\\fluid_AI\\\\NSE Training Data.csv\")\n",
    "df.head(5)"
   ]
  },
  {
   "cell_type": "code",
   "execution_count": 375,
   "id": "b16246b5",
   "metadata": {},
   "outputs": [
    {
     "data": {
      "text/plain": [
       "(1481, 7)"
      ]
     },
     "execution_count": 375,
     "metadata": {},
     "output_type": "execute_result"
    }
   ],
   "source": [
    "df.shape"
   ]
  },
  {
   "cell_type": "code",
   "execution_count": 376,
   "id": "6e352bd3",
   "metadata": {},
   "outputs": [],
   "source": [
    "test=pd.read_csv(\"D:\\\\E\\\\ML_assignment\\\\fluid_AI\\\\NSE Testing Data.csv\")"
   ]
  },
  {
   "cell_type": "code",
   "execution_count": 377,
   "id": "89fa908b",
   "metadata": {},
   "outputs": [
    {
     "data": {
      "text/plain": [
       "(23, 7)"
      ]
     },
     "execution_count": 377,
     "metadata": {},
     "output_type": "execute_result"
    }
   ],
   "source": [
    "test.shape"
   ]
  },
  {
   "cell_type": "code",
   "execution_count": 378,
   "id": "2cee2122",
   "metadata": {},
   "outputs": [
    {
     "data": {
      "text/html": [
       "<div>\n",
       "<style scoped>\n",
       "    .dataframe tbody tr th:only-of-type {\n",
       "        vertical-align: middle;\n",
       "    }\n",
       "\n",
       "    .dataframe tbody tr th {\n",
       "        vertical-align: top;\n",
       "    }\n",
       "\n",
       "    .dataframe thead th {\n",
       "        text-align: right;\n",
       "    }\n",
       "</style>\n",
       "<table border=\"1\" class=\"dataframe\">\n",
       "  <thead>\n",
       "    <tr style=\"text-align: right;\">\n",
       "      <th></th>\n",
       "      <th>Date</th>\n",
       "      <th>Open</th>\n",
       "      <th>High</th>\n",
       "      <th>Low</th>\n",
       "      <th>Close</th>\n",
       "      <th>Adj Close</th>\n",
       "      <th>Volume</th>\n",
       "    </tr>\n",
       "  </thead>\n",
       "  <tbody>\n",
       "    <tr>\n",
       "      <th>0</th>\n",
       "      <td>2022-01-03</td>\n",
       "      <td>17387.150391</td>\n",
       "      <td>17646.650391</td>\n",
       "      <td>17383.300781</td>\n",
       "      <td>17625.699219</td>\n",
       "      <td>17625.699219</td>\n",
       "      <td>200500</td>\n",
       "    </tr>\n",
       "    <tr>\n",
       "      <th>1</th>\n",
       "      <td>2022-01-04</td>\n",
       "      <td>17681.400391</td>\n",
       "      <td>17827.599609</td>\n",
       "      <td>17593.550781</td>\n",
       "      <td>17805.250000</td>\n",
       "      <td>17805.250000</td>\n",
       "      <td>247400</td>\n",
       "    </tr>\n",
       "    <tr>\n",
       "      <th>2</th>\n",
       "      <td>2022-01-05</td>\n",
       "      <td>17820.099609</td>\n",
       "      <td>17944.699219</td>\n",
       "      <td>17748.849609</td>\n",
       "      <td>17925.250000</td>\n",
       "      <td>17925.250000</td>\n",
       "      <td>251500</td>\n",
       "    </tr>\n",
       "    <tr>\n",
       "      <th>3</th>\n",
       "      <td>2022-01-06</td>\n",
       "      <td>17768.500000</td>\n",
       "      <td>17797.949219</td>\n",
       "      <td>17655.550781</td>\n",
       "      <td>17745.900391</td>\n",
       "      <td>17745.900391</td>\n",
       "      <td>236500</td>\n",
       "    </tr>\n",
       "    <tr>\n",
       "      <th>4</th>\n",
       "      <td>2022-01-07</td>\n",
       "      <td>17797.599609</td>\n",
       "      <td>17905.000000</td>\n",
       "      <td>17704.550781</td>\n",
       "      <td>17812.699219</td>\n",
       "      <td>17812.699219</td>\n",
       "      <td>239300</td>\n",
       "    </tr>\n",
       "  </tbody>\n",
       "</table>\n",
       "</div>"
      ],
      "text/plain": [
       "         Date          Open          High           Low         Close  \\\n",
       "0  2022-01-03  17387.150391  17646.650391  17383.300781  17625.699219   \n",
       "1  2022-01-04  17681.400391  17827.599609  17593.550781  17805.250000   \n",
       "2  2022-01-05  17820.099609  17944.699219  17748.849609  17925.250000   \n",
       "3  2022-01-06  17768.500000  17797.949219  17655.550781  17745.900391   \n",
       "4  2022-01-07  17797.599609  17905.000000  17704.550781  17812.699219   \n",
       "\n",
       "      Adj Close  Volume  \n",
       "0  17625.699219  200500  \n",
       "1  17805.250000  247400  \n",
       "2  17925.250000  251500  \n",
       "3  17745.900391  236500  \n",
       "4  17812.699219  239300  "
      ]
     },
     "execution_count": 378,
     "metadata": {},
     "output_type": "execute_result"
    }
   ],
   "source": [
    "test.head()"
   ]
  },
  {
   "cell_type": "code",
   "execution_count": 379,
   "id": "92906822",
   "metadata": {},
   "outputs": [
    {
     "data": {
      "text/plain": [
       "Date          object\n",
       "Open         float64\n",
       "High         float64\n",
       "Low          float64\n",
       "Close        float64\n",
       "Adj Close    float64\n",
       "Volume       float64\n",
       "dtype: object"
      ]
     },
     "execution_count": 379,
     "metadata": {},
     "output_type": "execute_result"
    }
   ],
   "source": [
    "df.dtypes"
   ]
  },
  {
   "cell_type": "code",
   "execution_count": 380,
   "id": "f0d01099",
   "metadata": {},
   "outputs": [
    {
     "data": {
      "text/html": [
       "<div>\n",
       "<style scoped>\n",
       "    .dataframe tbody tr th:only-of-type {\n",
       "        vertical-align: middle;\n",
       "    }\n",
       "\n",
       "    .dataframe tbody tr th {\n",
       "        vertical-align: top;\n",
       "    }\n",
       "\n",
       "    .dataframe thead th {\n",
       "        text-align: right;\n",
       "    }\n",
       "</style>\n",
       "<table border=\"1\" class=\"dataframe\">\n",
       "  <thead>\n",
       "    <tr style=\"text-align: right;\">\n",
       "      <th></th>\n",
       "      <th>Open</th>\n",
       "      <th>High</th>\n",
       "      <th>Low</th>\n",
       "      <th>Close</th>\n",
       "      <th>Adj Close</th>\n",
       "      <th>Volume</th>\n",
       "    </tr>\n",
       "  </thead>\n",
       "  <tbody>\n",
       "    <tr>\n",
       "      <th>count</th>\n",
       "      <td>1475.000000</td>\n",
       "      <td>1475.000000</td>\n",
       "      <td>1475.000000</td>\n",
       "      <td>1475.000000</td>\n",
       "      <td>1475.000000</td>\n",
       "      <td>1.475000e+03</td>\n",
       "    </tr>\n",
       "    <tr>\n",
       "      <th>mean</th>\n",
       "      <td>11190.630103</td>\n",
       "      <td>11243.279798</td>\n",
       "      <td>11114.862019</td>\n",
       "      <td>11180.224847</td>\n",
       "      <td>11180.224847</td>\n",
       "      <td>3.672148e+05</td>\n",
       "    </tr>\n",
       "    <tr>\n",
       "      <th>std</th>\n",
       "      <td>2605.404423</td>\n",
       "      <td>2613.649325</td>\n",
       "      <td>2588.183872</td>\n",
       "      <td>2602.005796</td>\n",
       "      <td>2602.005796</td>\n",
       "      <td>2.277599e+05</td>\n",
       "    </tr>\n",
       "    <tr>\n",
       "      <th>min</th>\n",
       "      <td>7023.649902</td>\n",
       "      <td>7034.200195</td>\n",
       "      <td>6825.799805</td>\n",
       "      <td>6970.600098</td>\n",
       "      <td>6970.600098</td>\n",
       "      <td>0.000000e+00</td>\n",
       "    </tr>\n",
       "    <tr>\n",
       "      <th>25%</th>\n",
       "      <td>9362.950195</td>\n",
       "      <td>9404.100098</td>\n",
       "      <td>9290.100097</td>\n",
       "      <td>9315.899902</td>\n",
       "      <td>9315.899902</td>\n",
       "      <td>1.956000e+05</td>\n",
       "    </tr>\n",
       "    <tr>\n",
       "      <th>50%</th>\n",
       "      <td>10781.849609</td>\n",
       "      <td>10816.349609</td>\n",
       "      <td>10718.750000</td>\n",
       "      <td>10769.150391</td>\n",
       "      <td>10769.150391</td>\n",
       "      <td>2.906000e+05</td>\n",
       "    </tr>\n",
       "    <tr>\n",
       "      <th>75%</th>\n",
       "      <td>11925.699707</td>\n",
       "      <td>11968.899903</td>\n",
       "      <td>11847.475097</td>\n",
       "      <td>11914.125000</td>\n",
       "      <td>11914.125000</td>\n",
       "      <td>5.092500e+05</td>\n",
       "    </tr>\n",
       "    <tr>\n",
       "      <th>max</th>\n",
       "      <td>18602.349609</td>\n",
       "      <td>18604.449219</td>\n",
       "      <td>18445.300781</td>\n",
       "      <td>18477.050781</td>\n",
       "      <td>18477.050781</td>\n",
       "      <td>1.811000e+06</td>\n",
       "    </tr>\n",
       "  </tbody>\n",
       "</table>\n",
       "</div>"
      ],
      "text/plain": [
       "               Open          High           Low         Close     Adj Close  \\\n",
       "count   1475.000000   1475.000000   1475.000000   1475.000000   1475.000000   \n",
       "mean   11190.630103  11243.279798  11114.862019  11180.224847  11180.224847   \n",
       "std     2605.404423   2613.649325   2588.183872   2602.005796   2602.005796   \n",
       "min     7023.649902   7034.200195   6825.799805   6970.600098   6970.600098   \n",
       "25%     9362.950195   9404.100098   9290.100097   9315.899902   9315.899902   \n",
       "50%    10781.849609  10816.349609  10718.750000  10769.150391  10769.150391   \n",
       "75%    11925.699707  11968.899903  11847.475097  11914.125000  11914.125000   \n",
       "max    18602.349609  18604.449219  18445.300781  18477.050781  18477.050781   \n",
       "\n",
       "             Volume  \n",
       "count  1.475000e+03  \n",
       "mean   3.672148e+05  \n",
       "std    2.277599e+05  \n",
       "min    0.000000e+00  \n",
       "25%    1.956000e+05  \n",
       "50%    2.906000e+05  \n",
       "75%    5.092500e+05  \n",
       "max    1.811000e+06  "
      ]
     },
     "execution_count": 380,
     "metadata": {},
     "output_type": "execute_result"
    }
   ],
   "source": [
    "df.describe()"
   ]
  },
  {
   "cell_type": "markdown",
   "id": "22eab032",
   "metadata": {},
   "source": [
    "it describes the minimum open value is 7023.649902 and maximum value is 18602.349609"
   ]
  },
  {
   "cell_type": "markdown",
   "id": "c297f4fb",
   "metadata": {},
   "source": [
    "#EXPLORATORY DATA ANALYSIS"
   ]
  },
  {
   "cell_type": "markdown",
   "id": "e502cef1",
   "metadata": {},
   "source": [
    "##Handling null values"
   ]
  },
  {
   "cell_type": "code",
   "execution_count": 128,
   "id": "533146d9",
   "metadata": {},
   "outputs": [
    {
     "data": {
      "text/plain": [
       "Date         0\n",
       "Open         6\n",
       "High         6\n",
       "Low          6\n",
       "Close        6\n",
       "Adj Close    6\n",
       "Volume       6\n",
       "dtype: int64"
      ]
     },
     "execution_count": 128,
     "metadata": {},
     "output_type": "execute_result"
    }
   ],
   "source": [
    "df.isnull().sum()"
   ]
  },
  {
   "cell_type": "code",
   "execution_count": 129,
   "id": "1c0df882",
   "metadata": {},
   "outputs": [
    {
     "data": {
      "text/plain": [
       "Date         0\n",
       "Open         0\n",
       "High         0\n",
       "Low          0\n",
       "Close        0\n",
       "Adj Close    0\n",
       "Volume       0\n",
       "dtype: int64"
      ]
     },
     "execution_count": 129,
     "metadata": {},
     "output_type": "execute_result"
    }
   ],
   "source": [
    "test.isnull().sum()"
   ]
  },
  {
   "cell_type": "markdown",
   "id": "fb5ec4d7",
   "metadata": {},
   "source": [
    "__All the null values in training dataset are float values so replacing  null values with mean"
   ]
  },
  {
   "cell_type": "code",
   "execution_count": 130,
   "id": "f4182ca0",
   "metadata": {},
   "outputs": [],
   "source": [
    "col=[ 'Open', 'High', 'Low', 'Close', 'Adj Close', 'Volume']\n",
    "for i in col:\n",
    "    df[i]=df[i].fillna(df[i].mean())"
   ]
  },
  {
   "cell_type": "code",
   "execution_count": 131,
   "id": "a62b3c80",
   "metadata": {},
   "outputs": [
    {
     "data": {
      "text/plain": [
       "Date         0\n",
       "Open         0\n",
       "High         0\n",
       "Low          0\n",
       "Close        0\n",
       "Adj Close    0\n",
       "Volume       0\n",
       "dtype: int64"
      ]
     },
     "execution_count": 131,
     "metadata": {},
     "output_type": "execute_result"
    }
   ],
   "source": [
    "df.isnull().sum()"
   ]
  },
  {
   "cell_type": "code",
   "execution_count": 132,
   "id": "849e4a1d",
   "metadata": {},
   "outputs": [],
   "source": [
    "comparison_column = np.where(df[\"Close\"] == df[\"Adj Close\"], 0, 1)"
   ]
  },
  {
   "cell_type": "code",
   "execution_count": 133,
   "id": "e603e8e7",
   "metadata": {},
   "outputs": [
    {
     "data": {
      "text/plain": [
       "0"
      ]
     },
     "execution_count": 133,
     "metadata": {},
     "output_type": "execute_result"
    }
   ],
   "source": [
    "comparison_column.sum()"
   ]
  },
  {
   "cell_type": "markdown",
   "id": "4e420243",
   "metadata": {},
   "source": [
    "All the values of close and adj close are same"
   ]
  },
  {
   "cell_type": "code",
   "execution_count": 134,
   "id": "3f7eb555",
   "metadata": {},
   "outputs": [
    {
     "data": {
      "text/plain": [
       "Index(['Date', 'Open', 'High', 'Low', 'Close', 'Adj Close', 'Volume'], dtype='object')"
      ]
     },
     "execution_count": 134,
     "metadata": {},
     "output_type": "execute_result"
    }
   ],
   "source": [
    "df.columns"
   ]
  },
  {
   "cell_type": "code",
   "execution_count": 135,
   "id": "d61cb7ce",
   "metadata": {},
   "outputs": [],
   "source": [
    "##seperating Date column as day,month and year"
   ]
  },
  {
   "cell_type": "code",
   "execution_count": 136,
   "id": "597cc16d",
   "metadata": {},
   "outputs": [
    {
     "data": {
      "text/html": [
       "<div>\n",
       "<style scoped>\n",
       "    .dataframe tbody tr th:only-of-type {\n",
       "        vertical-align: middle;\n",
       "    }\n",
       "\n",
       "    .dataframe tbody tr th {\n",
       "        vertical-align: top;\n",
       "    }\n",
       "\n",
       "    .dataframe thead th {\n",
       "        text-align: right;\n",
       "    }\n",
       "</style>\n",
       "<table border=\"1\" class=\"dataframe\">\n",
       "  <thead>\n",
       "    <tr style=\"text-align: right;\">\n",
       "      <th></th>\n",
       "      <th>Date</th>\n",
       "      <th>Open</th>\n",
       "      <th>High</th>\n",
       "      <th>Low</th>\n",
       "      <th>Close</th>\n",
       "      <th>Adj Close</th>\n",
       "      <th>Volume</th>\n",
       "      <th>Day</th>\n",
       "      <th>Month</th>\n",
       "      <th>Year</th>\n",
       "    </tr>\n",
       "  </thead>\n",
       "  <tbody>\n",
       "    <tr>\n",
       "      <th>0</th>\n",
       "      <td>2016-01-04</td>\n",
       "      <td>7924.549805</td>\n",
       "      <td>7937.549805</td>\n",
       "      <td>7781.100098</td>\n",
       "      <td>7791.299805</td>\n",
       "      <td>7791.299805</td>\n",
       "      <td>134700.0</td>\n",
       "      <td>4</td>\n",
       "      <td>1</td>\n",
       "      <td>2016</td>\n",
       "    </tr>\n",
       "    <tr>\n",
       "      <th>1</th>\n",
       "      <td>2016-01-05</td>\n",
       "      <td>7828.399902</td>\n",
       "      <td>7831.200195</td>\n",
       "      <td>7763.250000</td>\n",
       "      <td>7784.649902</td>\n",
       "      <td>7784.649902</td>\n",
       "      <td>145200.0</td>\n",
       "      <td>5</td>\n",
       "      <td>1</td>\n",
       "      <td>2016</td>\n",
       "    </tr>\n",
       "    <tr>\n",
       "      <th>2</th>\n",
       "      <td>2016-01-06</td>\n",
       "      <td>7788.049805</td>\n",
       "      <td>7800.950195</td>\n",
       "      <td>7721.200195</td>\n",
       "      <td>7741.000000</td>\n",
       "      <td>7741.000000</td>\n",
       "      <td>147100.0</td>\n",
       "      <td>6</td>\n",
       "      <td>1</td>\n",
       "      <td>2016</td>\n",
       "    </tr>\n",
       "    <tr>\n",
       "      <th>3</th>\n",
       "      <td>2016-01-07</td>\n",
       "      <td>7673.350098</td>\n",
       "      <td>7674.950195</td>\n",
       "      <td>7556.600098</td>\n",
       "      <td>7568.299805</td>\n",
       "      <td>7568.299805</td>\n",
       "      <td>188900.0</td>\n",
       "      <td>7</td>\n",
       "      <td>1</td>\n",
       "      <td>2016</td>\n",
       "    </tr>\n",
       "    <tr>\n",
       "      <th>4</th>\n",
       "      <td>2016-01-08</td>\n",
       "      <td>7611.649902</td>\n",
       "      <td>7634.100098</td>\n",
       "      <td>7581.049805</td>\n",
       "      <td>7601.350098</td>\n",
       "      <td>7601.350098</td>\n",
       "      <td>157400.0</td>\n",
       "      <td>8</td>\n",
       "      <td>1</td>\n",
       "      <td>2016</td>\n",
       "    </tr>\n",
       "  </tbody>\n",
       "</table>\n",
       "</div>"
      ],
      "text/plain": [
       "         Date         Open         High          Low        Close  \\\n",
       "0  2016-01-04  7924.549805  7937.549805  7781.100098  7791.299805   \n",
       "1  2016-01-05  7828.399902  7831.200195  7763.250000  7784.649902   \n",
       "2  2016-01-06  7788.049805  7800.950195  7721.200195  7741.000000   \n",
       "3  2016-01-07  7673.350098  7674.950195  7556.600098  7568.299805   \n",
       "4  2016-01-08  7611.649902  7634.100098  7581.049805  7601.350098   \n",
       "\n",
       "     Adj Close    Volume  Day  Month  Year  \n",
       "0  7791.299805  134700.0    4      1  2016  \n",
       "1  7784.649902  145200.0    5      1  2016  \n",
       "2  7741.000000  147100.0    6      1  2016  \n",
       "3  7568.299805  188900.0    7      1  2016  \n",
       "4  7601.350098  157400.0    8      1  2016  "
      ]
     },
     "execution_count": 136,
     "metadata": {},
     "output_type": "execute_result"
    }
   ],
   "source": [
    "df[\"Day\"] = pd.to_datetime(df[\"Date\"],format=\"%Y/%m/%d\").dt.day\n",
    "df[\"Month\"] = pd.to_datetime(df[\"Date\"],format=\"%Y/%m/%d\").dt.month\n",
    "df[\"Year\"] = pd.to_datetime(df[\"Date\"],format=\"%Y/%m/%d\").dt.year\n",
    "df.head(5)"
   ]
  },
  {
   "cell_type": "code",
   "execution_count": 228,
   "id": "7f62bd5d",
   "metadata": {},
   "outputs": [
    {
     "data": {
      "text/html": [
       "<div>\n",
       "<style scoped>\n",
       "    .dataframe tbody tr th:only-of-type {\n",
       "        vertical-align: middle;\n",
       "    }\n",
       "\n",
       "    .dataframe tbody tr th {\n",
       "        vertical-align: top;\n",
       "    }\n",
       "\n",
       "    .dataframe thead th {\n",
       "        text-align: right;\n",
       "    }\n",
       "</style>\n",
       "<table border=\"1\" class=\"dataframe\">\n",
       "  <thead>\n",
       "    <tr style=\"text-align: right;\">\n",
       "      <th></th>\n",
       "      <th>Date</th>\n",
       "      <th>Open</th>\n",
       "      <th>High</th>\n",
       "      <th>Low</th>\n",
       "      <th>Close</th>\n",
       "      <th>Adj Close</th>\n",
       "      <th>Volume</th>\n",
       "      <th>Day</th>\n",
       "      <th>Month</th>\n",
       "      <th>Year</th>\n",
       "    </tr>\n",
       "  </thead>\n",
       "  <tbody>\n",
       "    <tr>\n",
       "      <th>0</th>\n",
       "      <td>2022-01-03</td>\n",
       "      <td>17387.150391</td>\n",
       "      <td>17646.650391</td>\n",
       "      <td>17383.300781</td>\n",
       "      <td>17625.699219</td>\n",
       "      <td>17625.699219</td>\n",
       "      <td>200500</td>\n",
       "      <td>3</td>\n",
       "      <td>1</td>\n",
       "      <td>2022</td>\n",
       "    </tr>\n",
       "    <tr>\n",
       "      <th>1</th>\n",
       "      <td>2022-01-04</td>\n",
       "      <td>17681.400391</td>\n",
       "      <td>17827.599609</td>\n",
       "      <td>17593.550781</td>\n",
       "      <td>17805.250000</td>\n",
       "      <td>17805.250000</td>\n",
       "      <td>247400</td>\n",
       "      <td>4</td>\n",
       "      <td>1</td>\n",
       "      <td>2022</td>\n",
       "    </tr>\n",
       "    <tr>\n",
       "      <th>2</th>\n",
       "      <td>2022-01-05</td>\n",
       "      <td>17820.099609</td>\n",
       "      <td>17944.699219</td>\n",
       "      <td>17748.849609</td>\n",
       "      <td>17925.250000</td>\n",
       "      <td>17925.250000</td>\n",
       "      <td>251500</td>\n",
       "      <td>5</td>\n",
       "      <td>1</td>\n",
       "      <td>2022</td>\n",
       "    </tr>\n",
       "    <tr>\n",
       "      <th>3</th>\n",
       "      <td>2022-01-06</td>\n",
       "      <td>17768.500000</td>\n",
       "      <td>17797.949219</td>\n",
       "      <td>17655.550781</td>\n",
       "      <td>17745.900391</td>\n",
       "      <td>17745.900391</td>\n",
       "      <td>236500</td>\n",
       "      <td>6</td>\n",
       "      <td>1</td>\n",
       "      <td>2022</td>\n",
       "    </tr>\n",
       "    <tr>\n",
       "      <th>4</th>\n",
       "      <td>2022-01-07</td>\n",
       "      <td>17797.599609</td>\n",
       "      <td>17905.000000</td>\n",
       "      <td>17704.550781</td>\n",
       "      <td>17812.699219</td>\n",
       "      <td>17812.699219</td>\n",
       "      <td>239300</td>\n",
       "      <td>7</td>\n",
       "      <td>1</td>\n",
       "      <td>2022</td>\n",
       "    </tr>\n",
       "  </tbody>\n",
       "</table>\n",
       "</div>"
      ],
      "text/plain": [
       "         Date          Open          High           Low         Close  \\\n",
       "0  2022-01-03  17387.150391  17646.650391  17383.300781  17625.699219   \n",
       "1  2022-01-04  17681.400391  17827.599609  17593.550781  17805.250000   \n",
       "2  2022-01-05  17820.099609  17944.699219  17748.849609  17925.250000   \n",
       "3  2022-01-06  17768.500000  17797.949219  17655.550781  17745.900391   \n",
       "4  2022-01-07  17797.599609  17905.000000  17704.550781  17812.699219   \n",
       "\n",
       "      Adj Close  Volume  Day  Month  Year  \n",
       "0  17625.699219  200500    3      1  2022  \n",
       "1  17805.250000  247400    4      1  2022  \n",
       "2  17925.250000  251500    5      1  2022  \n",
       "3  17745.900391  236500    6      1  2022  \n",
       "4  17812.699219  239300    7      1  2022  "
      ]
     },
     "execution_count": 228,
     "metadata": {},
     "output_type": "execute_result"
    }
   ],
   "source": [
    "test[\"Day\"] = pd.to_datetime(test[\"Date\"],format=\"%Y/%m/%d\").dt.day\n",
    "test[\"Month\"] = pd.to_datetime(test[\"Date\"],format=\"%Y/%m/%d\").dt.month\n",
    "test[\"Year\"] = pd.to_datetime(test[\"Date\"],format=\"%Y/%m/%d\").dt.year\n",
    "test.head(5)"
   ]
  },
  {
   "cell_type": "code",
   "execution_count": 138,
   "id": "cbf6be44",
   "metadata": {},
   "outputs": [
    {
     "data": {
      "text/plain": [
       "Year\n",
       "2016     8100.779898\n",
       "2017     9590.717943\n",
       "2018    10752.419415\n",
       "2019    11433.747137\n",
       "2020    11153.106680\n",
       "2021    16015.315994\n",
       "Name: Close, dtype: float64"
      ]
     },
     "execution_count": 138,
     "metadata": {},
     "output_type": "execute_result"
    }
   ],
   "source": [
    "##Average closing price of each year\n",
    "Avg_price=df.groupby(['Year']).mean()\n",
    "Avg_price[\"Close\"]"
   ]
  },
  {
   "cell_type": "code",
   "execution_count": 139,
   "id": "a25713ae",
   "metadata": {},
   "outputs": [
    {
     "data": {
      "text/plain": [
       "<AxesSubplot:title={'center':'Average closing price across different year'}, xlabel='Year', ylabel='Close'>"
      ]
     },
     "execution_count": 139,
     "metadata": {},
     "output_type": "execute_result"
    },
    {
     "data": {
      "image/png": "[encoded data removed]",
      "text/plain": [
       "<Figure size 360x360 with 1 Axes>"
      ]
     },
     "metadata": {
      "needs_background": "light"
     },
     "output_type": "display_data"
    }
   ],
   "source": [
    "av=df.groupby(['Year']).mean()\n",
    "av_df=pd.DataFrame(data=av)\n",
    "order_dest=av_df.sort_values(by='Close',ascending=False,axis=0)\n",
    "plt.figure(figsize=(5,5))\n",
    "plt.title('Average closing price across different year')\n",
    "sns.barplot(x=order_dest.index,y='Close',data=order_dest,palette=\"Set2\")"
   ]
  },
  {
   "cell_type": "code",
   "execution_count": 140,
   "id": "2fb98f53",
   "metadata": {},
   "outputs": [
    {
     "data": {
      "text/plain": [
       "2020    251\n",
       "2017    248\n",
       "2021    248\n",
       "2018    246\n",
       "2016    245\n",
       "2019    243\n",
       "Name: Year, dtype: int64"
      ]
     },
     "execution_count": 140,
     "metadata": {},
     "output_type": "execute_result"
    }
   ],
   "source": [
    "df['Year'].value_counts()"
   ]
  },
  {
   "cell_type": "markdown",
   "id": "e4292d28",
   "metadata": {},
   "source": [
    "In the year 2021 there is high  differece stock closing price.this might be due to covid"
   ]
  },
  {
   "cell_type": "code",
   "execution_count": null,
   "id": "ffa6e4cc",
   "metadata": {},
   "outputs": [],
   "source": []
  },
  {
   "cell_type": "code",
   "execution_count": 141,
   "id": "6f00d338",
   "metadata": {},
   "outputs": [
    {
     "data": {
      "text/plain": [
       "<AxesSubplot:title={'center':'Average closing price across different year'}, xlabel='Month', ylabel='Close'>"
      ]
     },
     "execution_count": 141,
     "metadata": {},
     "output_type": "execute_result"
    },
    {
     "data": {
      "image/png": "[encoded data removed]",
      "text/plain": [
       "<Figure size 360x360 with 1 Axes>"
      ]
     },
     "metadata": {
      "needs_background": "light"
     },
     "output_type": "display_data"
    }
   ],
   "source": [
    "av=df.groupby(['Month']).mean()\n",
    "av_df=pd.DataFrame(data=av)\n",
    "order_dest=av_df.sort_values(by='Close',ascending=False,axis=0)\n",
    "plt.figure(figsize=(5,5))\n",
    "plt.title('Average closing price across different year')\n",
    "sns.barplot(x=order_dest.index,y='Close',data=order_dest)"
   ]
  },
  {
   "cell_type": "markdown",
   "id": "97c3e363",
   "metadata": {},
   "source": [
    "The closing price of dec is more than other months"
   ]
  },
  {
   "cell_type": "code",
   "execution_count": 142,
   "id": "041c7bc5",
   "metadata": {},
   "outputs": [
    {
     "data": {
      "text/plain": [
       "<AxesSubplot:xlabel='Volume', ylabel='Close'>"
      ]
     },
     "execution_count": 142,
     "metadata": {},
     "output_type": "execute_result"
    },
    {
     "data": {
      "image/png": "[encoded data removed]",
      "text/plain": [
       "<Figure size 1080x1080 with 1 Axes>"
      ]
     },
     "metadata": {
      "needs_background": "light"
     },
     "output_type": "display_data"
    }
   ],
   "source": [
    "av=df.groupby(['Volume']).mean()\n",
    "av_df=pd.DataFrame(data=av)\n",
    "order_dest=av_df.sort_values(by='Close',ascending=False,axis=0)\n",
    "plt.figure(figsize=(15,15))\n",
    "sns.scatterplot(x=order_dest.index,y='Close',data=order_dest,color=\"purple\")\n",
    "\n"
   ]
  },
  {
   "cell_type": "markdown",
   "id": "12a31a38",
   "metadata": {},
   "source": [
    "volume is incresed over year but the closing price is not increased"
   ]
  },
  {
   "cell_type": "code",
   "execution_count": 145,
   "id": "24093940",
   "metadata": {},
   "outputs": [
    {
     "data": {
      "text/plain": [
       "<AxesSubplot:xlabel='Year', ylabel='Volume'>"
      ]
     },
     "execution_count": 145,
     "metadata": {},
     "output_type": "execute_result"
    },
    {
     "data": {
      "image/png": "[encoded data removed]",
      "text/plain": [
       "<Figure size 432x288 with 1 Axes>"
      ]
     },
     "metadata": {
      "needs_background": "light"
     },
     "output_type": "display_data"
    }
   ],
   "source": [
    "sns.barplot(x=df['Year'],y=df['Volume'],palette=\"Set2\")"
   ]
  },
  {
   "cell_type": "markdown",
   "id": "163a948b",
   "metadata": {},
   "source": [
    "The volume of stock reduced in 2021"
   ]
  },
  {
   "cell_type": "code",
   "execution_count": 146,
   "id": "65f2423d",
   "metadata": {},
   "outputs": [
    {
     "data": {
      "text/plain": [
       "<AxesSubplot:xlabel='Year', ylabel='Close'>"
      ]
     },
     "execution_count": 146,
     "metadata": {},
     "output_type": "execute_result"
    },
    {
     "data": {
      "image/png": "[encoded data removed]",
      "text/plain": [
       "<Figure size 432x288 with 1 Axes>"
      ]
     },
     "metadata": {
      "needs_background": "light"
     },
     "output_type": "display_data"
    }
   ],
   "source": [
    "sns.barplot(x=df['Year'],y=df['Close'],palette=\"Set2\")"
   ]
  },
  {
   "cell_type": "markdown",
   "id": "631d0023",
   "metadata": {},
   "source": [
    "The volume of stock is reduced in 2021 but closing price is increased"
   ]
  },
  {
   "cell_type": "code",
   "execution_count": 147,
   "id": "e45dd636",
   "metadata": {},
   "outputs": [
    {
     "data": {
      "text/plain": [
       "<AxesSubplot:>"
      ]
     },
     "execution_count": 147,
     "metadata": {},
     "output_type": "execute_result"
    },
    {
     "data": {
      "image/png": "[encoded data removed]",
      "text/plain": [
       "<Figure size 432x288 with 1 Axes>"
      ]
     },
     "metadata": {
      "needs_background": "light"
     },
     "output_type": "display_data"
    }
   ],
   "source": [
    "df.Close.plot()"
   ]
  },
  {
   "cell_type": "code",
   "execution_count": 72,
   "id": "d8586f71",
   "metadata": {},
   "outputs": [
    {
     "data": {
      "text/plain": [
       "<AxesSubplot:>"
      ]
     },
     "execution_count": 72,
     "metadata": {},
     "output_type": "execute_result"
    },
    {
     "data": {
      "image/png": "[encoded data removed]",
      "text/plain": [
       "<Figure size 432x288 with 1 Axes>"
      ]
     },
     "metadata": {
      "needs_background": "light"
     },
     "output_type": "display_data"
    }
   ],
   "source": [
    "df.Volume.plot()"
   ]
  },
  {
   "cell_type": "code",
   "execution_count": 148,
   "id": "d7824332",
   "metadata": {
    "scrolled": false
   },
   "outputs": [],
   "source": [
    "##converting date column to  list\n",
    "date_list=df['Date'].tolist()\n"
   ]
  },
  {
   "cell_type": "code",
   "execution_count": 149,
   "id": "2544a88f",
   "metadata": {},
   "outputs": [],
   "source": [
    "##Adding new column WeekDay\n",
    "Day=[]\n",
    "for i in date_list:\n",
    "    s=datetime.datetime.strptime(i, '%Y-%m-%d').weekday()\n",
    "    Day.append(calendar.day_name[s])\n",
    "df['WeekDay']=Day"
   ]
  },
  {
   "cell_type": "code",
   "execution_count": 150,
   "id": "1c098baa",
   "metadata": {},
   "outputs": [
    {
     "data": {
      "text/html": [
       "<div>\n",
       "<style scoped>\n",
       "    .dataframe tbody tr th:only-of-type {\n",
       "        vertical-align: middle;\n",
       "    }\n",
       "\n",
       "    .dataframe tbody tr th {\n",
       "        vertical-align: top;\n",
       "    }\n",
       "\n",
       "    .dataframe thead th {\n",
       "        text-align: right;\n",
       "    }\n",
       "</style>\n",
       "<table border=\"1\" class=\"dataframe\">\n",
       "  <thead>\n",
       "    <tr style=\"text-align: right;\">\n",
       "      <th></th>\n",
       "      <th>Date</th>\n",
       "      <th>Open</th>\n",
       "      <th>High</th>\n",
       "      <th>Low</th>\n",
       "      <th>Close</th>\n",
       "      <th>Adj Close</th>\n",
       "      <th>Volume</th>\n",
       "      <th>Day</th>\n",
       "      <th>Month</th>\n",
       "      <th>Year</th>\n",
       "      <th>WeekDay</th>\n",
       "    </tr>\n",
       "  </thead>\n",
       "  <tbody>\n",
       "    <tr>\n",
       "      <th>0</th>\n",
       "      <td>2016-01-04</td>\n",
       "      <td>7924.549805</td>\n",
       "      <td>7937.549805</td>\n",
       "      <td>7781.100098</td>\n",
       "      <td>7791.299805</td>\n",
       "      <td>7791.299805</td>\n",
       "      <td>134700.0</td>\n",
       "      <td>4</td>\n",
       "      <td>1</td>\n",
       "      <td>2016</td>\n",
       "      <td>Monday</td>\n",
       "    </tr>\n",
       "    <tr>\n",
       "      <th>1</th>\n",
       "      <td>2016-01-05</td>\n",
       "      <td>7828.399902</td>\n",
       "      <td>7831.200195</td>\n",
       "      <td>7763.250000</td>\n",
       "      <td>7784.649902</td>\n",
       "      <td>7784.649902</td>\n",
       "      <td>145200.0</td>\n",
       "      <td>5</td>\n",
       "      <td>1</td>\n",
       "      <td>2016</td>\n",
       "      <td>Tuesday</td>\n",
       "    </tr>\n",
       "    <tr>\n",
       "      <th>2</th>\n",
       "      <td>2016-01-06</td>\n",
       "      <td>7788.049805</td>\n",
       "      <td>7800.950195</td>\n",
       "      <td>7721.200195</td>\n",
       "      <td>7741.000000</td>\n",
       "      <td>7741.000000</td>\n",
       "      <td>147100.0</td>\n",
       "      <td>6</td>\n",
       "      <td>1</td>\n",
       "      <td>2016</td>\n",
       "      <td>Wednesday</td>\n",
       "    </tr>\n",
       "    <tr>\n",
       "      <th>3</th>\n",
       "      <td>2016-01-07</td>\n",
       "      <td>7673.350098</td>\n",
       "      <td>7674.950195</td>\n",
       "      <td>7556.600098</td>\n",
       "      <td>7568.299805</td>\n",
       "      <td>7568.299805</td>\n",
       "      <td>188900.0</td>\n",
       "      <td>7</td>\n",
       "      <td>1</td>\n",
       "      <td>2016</td>\n",
       "      <td>Thursday</td>\n",
       "    </tr>\n",
       "    <tr>\n",
       "      <th>4</th>\n",
       "      <td>2016-01-08</td>\n",
       "      <td>7611.649902</td>\n",
       "      <td>7634.100098</td>\n",
       "      <td>7581.049805</td>\n",
       "      <td>7601.350098</td>\n",
       "      <td>7601.350098</td>\n",
       "      <td>157400.0</td>\n",
       "      <td>8</td>\n",
       "      <td>1</td>\n",
       "      <td>2016</td>\n",
       "      <td>Friday</td>\n",
       "    </tr>\n",
       "  </tbody>\n",
       "</table>\n",
       "</div>"
      ],
      "text/plain": [
       "         Date         Open         High          Low        Close  \\\n",
       "0  2016-01-04  7924.549805  7937.549805  7781.100098  7791.299805   \n",
       "1  2016-01-05  7828.399902  7831.200195  7763.250000  7784.649902   \n",
       "2  2016-01-06  7788.049805  7800.950195  7721.200195  7741.000000   \n",
       "3  2016-01-07  7673.350098  7674.950195  7556.600098  7568.299805   \n",
       "4  2016-01-08  7611.649902  7634.100098  7581.049805  7601.350098   \n",
       "\n",
       "     Adj Close    Volume  Day  Month  Year    WeekDay  \n",
       "0  7791.299805  134700.0    4      1  2016     Monday  \n",
       "1  7784.649902  145200.0    5      1  2016    Tuesday  \n",
       "2  7741.000000  147100.0    6      1  2016  Wednesday  \n",
       "3  7568.299805  188900.0    7      1  2016   Thursday  \n",
       "4  7601.350098  157400.0    8      1  2016     Friday  "
      ]
     },
     "execution_count": 150,
     "metadata": {},
     "output_type": "execute_result"
    }
   ],
   "source": [
    "#new column for day is added\n",
    "df.head()"
   ]
  },
  {
   "cell_type": "code",
   "execution_count": 151,
   "id": "51b9d2f5",
   "metadata": {},
   "outputs": [
    {
     "data": {
      "text/plain": [
       "Wednesday    300\n",
       "Thursday     299\n",
       "Tuesday      297\n",
       "Monday       292\n",
       "Friday       291\n",
       "Sunday         1\n",
       "Saturday       1\n",
       "Name: WeekDay, dtype: int64"
      ]
     },
     "execution_count": 151,
     "metadata": {},
     "output_type": "execute_result"
    }
   ],
   "source": [
    "df['WeekDay'].value_counts()"
   ]
  },
  {
   "cell_type": "markdown",
   "id": "b290aa47",
   "metadata": {},
   "source": [
    "This dataset has only one sunday and saturday datas it might lead to wrong prediction so I'm dropping that row"
   ]
  },
  {
   "cell_type": "code",
   "execution_count": 152,
   "id": "35f5602f",
   "metadata": {},
   "outputs": [
    {
     "data": {
      "text/html": [
       "<div>\n",
       "<style scoped>\n",
       "    .dataframe tbody tr th:only-of-type {\n",
       "        vertical-align: middle;\n",
       "    }\n",
       "\n",
       "    .dataframe tbody tr th {\n",
       "        vertical-align: top;\n",
       "    }\n",
       "\n",
       "    .dataframe thead th {\n",
       "        text-align: right;\n",
       "    }\n",
       "</style>\n",
       "<table border=\"1\" class=\"dataframe\">\n",
       "  <thead>\n",
       "    <tr style=\"text-align: right;\">\n",
       "      <th></th>\n",
       "      <th>Date</th>\n",
       "      <th>Open</th>\n",
       "      <th>High</th>\n",
       "      <th>Low</th>\n",
       "      <th>Close</th>\n",
       "      <th>Adj Close</th>\n",
       "      <th>Volume</th>\n",
       "      <th>Day</th>\n",
       "      <th>Month</th>\n",
       "      <th>Year</th>\n",
       "      <th>WeekDay</th>\n",
       "    </tr>\n",
       "  </thead>\n",
       "  <tbody>\n",
       "    <tr>\n",
       "      <th>937</th>\n",
       "      <td>2019-10-27</td>\n",
       "      <td>11190.630103</td>\n",
       "      <td>11243.279798</td>\n",
       "      <td>11114.862019</td>\n",
       "      <td>11180.224847</td>\n",
       "      <td>11180.224847</td>\n",
       "      <td>367214.779661</td>\n",
       "      <td>27</td>\n",
       "      <td>10</td>\n",
       "      <td>2019</td>\n",
       "      <td>Sunday</td>\n",
       "    </tr>\n",
       "  </tbody>\n",
       "</table>\n",
       "</div>"
      ],
      "text/plain": [
       "           Date          Open          High           Low         Close  \\\n",
       "937  2019-10-27  11190.630103  11243.279798  11114.862019  11180.224847   \n",
       "\n",
       "        Adj Close         Volume  Day  Month  Year WeekDay  \n",
       "937  11180.224847  367214.779661   27     10  2019  Sunday  "
      ]
     },
     "execution_count": 152,
     "metadata": {},
     "output_type": "execute_result"
    }
   ],
   "source": [
    "df.loc[df['WeekDay']==\"Sunday\"]\n"
   ]
  },
  {
   "cell_type": "code",
   "execution_count": 153,
   "id": "55d97a4f",
   "metadata": {},
   "outputs": [
    {
     "data": {
      "text/html": [
       "<div>\n",
       "<style scoped>\n",
       "    .dataframe tbody tr th:only-of-type {\n",
       "        vertical-align: middle;\n",
       "    }\n",
       "\n",
       "    .dataframe tbody tr th {\n",
       "        vertical-align: top;\n",
       "    }\n",
       "\n",
       "    .dataframe thead th {\n",
       "        text-align: right;\n",
       "    }\n",
       "</style>\n",
       "<table border=\"1\" class=\"dataframe\">\n",
       "  <thead>\n",
       "    <tr style=\"text-align: right;\">\n",
       "      <th></th>\n",
       "      <th>Date</th>\n",
       "      <th>Open</th>\n",
       "      <th>High</th>\n",
       "      <th>Low</th>\n",
       "      <th>Close</th>\n",
       "      <th>Adj Close</th>\n",
       "      <th>Volume</th>\n",
       "      <th>Day</th>\n",
       "      <th>Month</th>\n",
       "      <th>Year</th>\n",
       "      <th>WeekDay</th>\n",
       "    </tr>\n",
       "  </thead>\n",
       "  <tbody>\n",
       "    <tr>\n",
       "      <th>1201</th>\n",
       "      <td>2020-11-14</td>\n",
       "      <td>11190.630103</td>\n",
       "      <td>11243.279798</td>\n",
       "      <td>11114.862019</td>\n",
       "      <td>11180.224847</td>\n",
       "      <td>11180.224847</td>\n",
       "      <td>367214.779661</td>\n",
       "      <td>14</td>\n",
       "      <td>11</td>\n",
       "      <td>2020</td>\n",
       "      <td>Saturday</td>\n",
       "    </tr>\n",
       "  </tbody>\n",
       "</table>\n",
       "</div>"
      ],
      "text/plain": [
       "            Date          Open          High           Low         Close  \\\n",
       "1201  2020-11-14  11190.630103  11243.279798  11114.862019  11180.224847   \n",
       "\n",
       "         Adj Close         Volume  Day  Month  Year   WeekDay  \n",
       "1201  11180.224847  367214.779661   14     11  2020  Saturday  "
      ]
     },
     "execution_count": 153,
     "metadata": {},
     "output_type": "execute_result"
    }
   ],
   "source": [
    "df.loc[df['WeekDay']==\"Saturday\"]"
   ]
  },
  {
   "cell_type": "code",
   "execution_count": 154,
   "id": "83181713",
   "metadata": {},
   "outputs": [],
   "source": [
    "df_new=df\n",
    "df_new.drop(df_new.index[1201],inplace=True)\n",
    "df_new.drop(df_new.index[937],inplace=True)"
   ]
  },
  {
   "cell_type": "code",
   "execution_count": 155,
   "id": "87e20239",
   "metadata": {},
   "outputs": [
    {
     "data": {
      "text/plain": [
       "(1479, 11)"
      ]
     },
     "execution_count": 155,
     "metadata": {},
     "output_type": "execute_result"
    }
   ],
   "source": [
    "df_new.shape"
   ]
  },
  {
   "cell_type": "code",
   "execution_count": 157,
   "id": "03aa99be",
   "metadata": {},
   "outputs": [
    {
     "data": {
      "text/plain": [
       "<AxesSubplot:xlabel='WeekDay', ylabel='Volume'>"
      ]
     },
     "execution_count": 157,
     "metadata": {},
     "output_type": "execute_result"
    },
    {
     "data": {
      "image/png": "[encoded data removed]",
      "text/plain": [
       "<Figure size 432x288 with 1 Axes>"
      ]
     },
     "metadata": {
      "needs_background": "light"
     },
     "output_type": "display_data"
    }
   ],
   "source": [
    "sns.scatterplot(x=df_new['WeekDay'],y=df_new['Volume'],color=\"purple\")"
   ]
  },
  {
   "cell_type": "code",
   "execution_count": null,
   "id": "917fcc53",
   "metadata": {},
   "outputs": [],
   "source": []
  },
  {
   "cell_type": "code",
   "execution_count": 163,
   "id": "72bf4d4d",
   "metadata": {},
   "outputs": [
    {
     "data": {
      "text/plain": [
       "<AxesSubplot:title={'center':'Average closing price of week days and weekend days'}, xlabel='WeekDay', ylabel='Close'>"
      ]
     },
     "execution_count": 163,
     "metadata": {},
     "output_type": "execute_result"
    },
    {
     "data": {
      "image/png": "[encoded data removed]",
      "text/plain": [
       "<Figure size 360x504 with 1 Axes>"
      ]
     },
     "metadata": {
      "needs_background": "light"
     },
     "output_type": "display_data"
    }
   ],
   "source": [
    "plt.figure(figsize=(5,7))\n",
    "plt.title('Average closing price of week days and weekend days')\n",
    "sns.barplot(x=df_new['WeekDay'],y=df['Close'],color=\"lightblue\")"
   ]
  },
  {
   "cell_type": "markdown",
   "id": "0197a6a2",
   "metadata": {},
   "source": []
  },
  {
   "cell_type": "code",
   "execution_count": 162,
   "id": "ea71e500",
   "metadata": {},
   "outputs": [
    {
     "data": {
      "text/plain": [
       "<AxesSubplot:xlabel='WeekDay', ylabel='Volume'>"
      ]
     },
     "execution_count": 162,
     "metadata": {},
     "output_type": "execute_result"
    },
    {
     "data": {
      "image/png": "[encoded data removed]",
      "text/plain": [
       "<Figure size 360x504 with 1 Axes>"
      ]
     },
     "metadata": {
      "needs_background": "light"
     },
     "output_type": "display_data"
    }
   ],
   "source": [
    "plt.figure(figsize = (5,7))\n",
    "sns.barplot(x=df['WeekDay'],y=df['Volume'],palette=\"Set2\")"
   ]
  },
  {
   "cell_type": "markdown",
   "id": "15ecb2ac",
   "metadata": {},
   "source": [
    "comparitively friday has more sales than other days"
   ]
  },
  {
   "cell_type": "code",
   "execution_count": 167,
   "id": "ac41aeed",
   "metadata": {},
   "outputs": [
    {
     "data": {
      "text/plain": [
       "Index(['Date', 'Open', 'High', 'Low', 'Close', 'Adj Close', 'Volume', 'Day',\n",
       "       'Month', 'Year', 'WeekDay'],\n",
       "      dtype='object')"
      ]
     },
     "execution_count": 167,
     "metadata": {},
     "output_type": "execute_result"
    }
   ],
   "source": [
    "df_new.columns"
   ]
  },
  {
   "cell_type": "code",
   "execution_count": null,
   "id": "2a857dae",
   "metadata": {},
   "outputs": [],
   "source": [
    "##Handling outliers"
   ]
  },
  {
   "cell_type": "code",
   "execution_count": 171,
   "id": "82660de0",
   "metadata": {},
   "outputs": [
    {
     "data": {
      "text/plain": [
       "<Figure size 2160x2160 with 0 Axes>"
      ]
     },
     "metadata": {},
     "output_type": "display_data"
    },
    {
     "data": {
      "image/png": "[encoded data removed]",
      "text/plain": [
       "<Figure size 720x720 with 1 Axes>"
      ]
     },
     "metadata": {
      "needs_background": "light"
     },
     "output_type": "display_data"
    },
    {
     "data": {
      "image/png": "[encoded data removed]",
      "text/plain": [
       "<Figure size 720x720 with 1 Axes>"
      ]
     },
     "metadata": {
      "needs_background": "light"
     },
     "output_type": "display_data"
    },
    {
     "data": {
      "image/png": "[encoded data removed]",
      "text/plain": [
       "<Figure size 720x720 with 1 Axes>"
      ]
     },
     "metadata": {
      "needs_background": "light"
     },
     "output_type": "display_data"
    },
    {
     "data": {
      "image/png": "[encoded data removed]",
      "text/plain": [
       "<Figure size 720x720 with 1 Axes>"
      ]
     },
     "metadata": {
      "needs_background": "light"
     },
     "output_type": "display_data"
    },
    {
     "data": {
      "image/png": "[encoded data removed]",
      "text/plain": [
       "<Figure size 720x720 with 1 Axes>"
      ]
     },
     "metadata": {
      "needs_background": "light"
     },
     "output_type": "display_data"
    },
    {
     "data": {
      "image/png": "[encoded data removed]",
      "text/plain": [
       "<Figure size 720x720 with 1 Axes>"
      ]
     },
     "metadata": {
      "needs_background": "light"
     },
     "output_type": "display_data"
    },
    {
     "data": {
      "image/png": "[encoded data removed]",
      "text/plain": [
       "<Figure size 720x720 with 1 Axes>"
      ]
     },
     "metadata": {
      "needs_background": "light"
     },
     "output_type": "display_data"
    },
    {
     "data": {
      "image/png": "[encoded data removed]",
      "text/plain": [
       "<Figure size 720x720 with 1 Axes>"
      ]
     },
     "metadata": {
      "needs_background": "light"
     },
     "output_type": "display_data"
    },
    {
     "data": {
      "image/png": "[encoded data removed]",
      "text/plain": [
       "<Figure size 720x720 with 1 Axes>"
      ]
     },
     "metadata": {
      "needs_background": "light"
     },
     "output_type": "display_data"
    }
   ],
   "source": [
    "cols=['Open', 'High', 'Low', 'Close', 'Adj Close', 'Volume', 'Day',\n",
    "       'Month', 'Year']\n",
    "ncol=3\n",
    "nrows=4\n",
    "plt.figure(figsize=(30,30))\n",
    "for i in range(0,9):\n",
    "    plt.figure(figsize=(10,10))\n",
    "    plt.subplot(nrows,ncol,i+1)\n",
    "    sns.boxplot(x=cols[i],data=df_new,palette=\"Set1\")\n"
   ]
  },
  {
   "cell_type": "markdown",
   "id": "7aadd88f",
   "metadata": {},
   "source": [
    "The features 'Open', 'High', 'Low', 'Close', 'Adj Close', 'Volume' are having outliers"
   ]
  },
  {
   "cell_type": "code",
   "execution_count": 195,
   "id": "7612b899",
   "metadata": {},
   "outputs": [
    {
     "name": "stdout",
     "output_type": "stream",
     "text": [
      "(array([ 914,  921,  939,  956, 1026, 1027, 1028, 1029, 1030, 1031, 1034,\n",
      "       1036, 1146, 1208, 1270], dtype=int64),)\n"
     ]
    }
   ],
   "source": [
    "data_clean=df_new\n",
    "cols=['Open', 'High', 'Low', 'Close', 'Adj Close', 'Volume']\n",
    "for i in cols:\n",
    "    z = np.abs(zscore(df_new[i]))\n",
    "print(np.where(z > 3))"
   ]
  },
  {
   "cell_type": "code",
   "execution_count": 196,
   "id": "efcd8c21",
   "metadata": {},
   "outputs": [],
   "source": [
    "data_clean = df_new[(z<3)]"
   ]
  },
  {
   "cell_type": "code",
   "execution_count": 197,
   "id": "b3f60d7e",
   "metadata": {},
   "outputs": [
    {
     "data": {
      "text/plain": [
       "(1464, 11)"
      ]
     },
     "execution_count": 197,
     "metadata": {},
     "output_type": "execute_result"
    }
   ],
   "source": [
    "data_clean.shape"
   ]
  },
  {
   "cell_type": "code",
   "execution_count": 198,
   "id": "c4bc8dcf",
   "metadata": {},
   "outputs": [
    {
     "name": "stdout",
     "output_type": "stream",
     "text": [
      "Open = 0.9558239758423644\n",
      "High = 0.9595218614986115\n",
      "Low = 0.9520767489225708\n",
      "Close = 0.9546028574477564\n",
      "Adj Close = 0.9546028574477564\n",
      "Volume = 0.8389361838668489\n"
     ]
    }
   ],
   "source": [
    "for i in range(0,6):\n",
    "    print(cols[i],\"=\",data_clean[cols[i]].skew())"
   ]
  },
  {
   "cell_type": "code",
   "execution_count": 201,
   "id": "2f0ec69e",
   "metadata": {},
   "outputs": [],
   "source": [
    "df_clean=data_clean\n",
    "from sklearn.preprocessing import power_transform\n",
    "df_clean[cols]=power_transform (data_clean[cols])"
   ]
  },
  {
   "cell_type": "code",
   "execution_count": 202,
   "id": "0a458a45",
   "metadata": {},
   "outputs": [
    {
     "name": "stdout",
     "output_type": "stream",
     "text": [
      "Open = 0.026246365207856805\n",
      "High = 0.026975156158920502\n",
      "Low = 0.024637316586038367\n",
      "Close = 0.02597163774351693\n",
      "Adj Close = 0.02597163774351693\n",
      "Volume = -0.05771045229232774\n"
     ]
    }
   ],
   "source": [
    "#skewness is removed\n",
    "for i in range(0,6):\n",
    "    print(cols[i],\"=\",df_clean[cols[i]].skew())"
   ]
  },
  {
   "cell_type": "code",
   "execution_count": 209,
   "id": "d1a70291",
   "metadata": {},
   "outputs": [],
   "source": [
    "col_r=['Date','WeekDay','Adj Close','Close']\n",
    "x1=df_clean.drop(col_r,axis=1)\n",
    "y1=df_clean['Close']"
   ]
  },
  {
   "cell_type": "code",
   "execution_count": 245,
   "id": "ef2f6ead",
   "metadata": {},
   "outputs": [
    {
     "data": {
      "text/plain": [
       "Index(['Date', 'Open', 'High', 'Low', 'Close', 'Adj Close', 'Volume', 'Day',\n",
       "       'Month', 'Year'],\n",
       "      dtype='object')"
      ]
     },
     "execution_count": 245,
     "metadata": {},
     "output_type": "execute_result"
    }
   ],
   "source": [
    "test.columns"
   ]
  },
  {
   "cell_type": "code",
   "execution_count": 229,
   "id": "bfc2fe8c",
   "metadata": {},
   "outputs": [],
   "source": [
    "col=['Adj Close','Close','Date']\n",
    "x_test=test.drop(col,axis=1)\n",
    "y_test=test['Close']"
   ]
  },
  {
   "cell_type": "code",
   "execution_count": 248,
   "id": "c0f7bcce",
   "metadata": {},
   "outputs": [
    {
     "data": {
      "text/plain": [
       "(23, 7)"
      ]
     },
     "execution_count": 248,
     "metadata": {},
     "output_type": "execute_result"
    }
   ],
   "source": [
    "x_test.shape"
   ]
  },
  {
   "cell_type": "code",
   "execution_count": null,
   "id": "1f5e38f5",
   "metadata": {},
   "outputs": [],
   "source": [
    "from sklearn.neighbors import KNeighborsRegressor\n",
    "from sklearn.svm import SVR\n",
    "from sklearn.tree import DecisionTreeRegressor\n",
    "from sklearn.linear_model import LinearRegression\n",
    "from sklearn.linear_model import Lasso\n",
    "from sklearn.ensemble import RandomForestRegressor\n",
    "from sklearn.ensemble import GradientBoostingRegressor\n",
    "import xgboost as xgb\n",
    "from sklearn.model_selection import train_test_split\n",
    "x=x1\n",
    "y=y1"
   ]
  },
  {
   "cell_type": "code",
   "execution_count": 341,
   "id": "f76f75ea",
   "metadata": {},
   "outputs": [],
   "source": [
    "xtrain,xtest,ytrain,ytest=train_test_split(x,y,test_size=0.25,random_state=1)\n",
    "from sklearn.metrics import mean_absolute_error,mean_squared_error,r2_score\n",
    "models=[KNeighborsRegressor(),SVR(),DecisionTreeRegressor(),LinearRegression(),Lasso(),\n",
    "        RandomForestRegressor(),GradientBoostingRegressor(),xgb.XGBRegressor(objective=\"reg:squarederror\")]\n",
    "maelist=[]\n",
    "mselist=[]\n",
    "rmselist=[]\n",
    "r2list=[]"
   ]
  },
  {
   "cell_type": "code",
   "execution_count": 342,
   "id": "b70e519a",
   "metadata": {},
   "outputs": [
    {
     "name": "stdout",
     "output_type": "stream",
     "text": [
      "KNeighborsRegressor()\n",
      "Mean absolute error 0.11428412684667472\n",
      "Mean squared error 0.02349671453789981\n",
      "Root Mean squared error 0.15328638079718565\n",
      "R2 Score 0.9766791880227406\n",
      "---------------------------------------------------------------------------------------------------------\n",
      "SVR()\n",
      "Mean absolute error 0.7716179367173006\n",
      "Mean squared error 1.0027683773540814\n",
      "Root Mean squared error 1.0013832320116416\n",
      "R2 Score 0.004738609421504614\n",
      "---------------------------------------------------------------------------------------------------------\n",
      "DecisionTreeRegressor()\n",
      "Mean absolute error 0.021709550591598285\n",
      "Mean squared error 0.001635578314925643\n",
      "Root Mean squared error 0.04044228375012523\n",
      "R2 Score 0.9983766660528245\n",
      "---------------------------------------------------------------------------------------------------------\n",
      "LinearRegression()\n",
      "Mean absolute error 0.010465587011477255\n",
      "Mean squared error 0.00021408587548210004\n",
      "Root Mean squared error 0.014631673707477899\n",
      "R2 Score 0.9997875168274675\n",
      "---------------------------------------------------------------------------------------------------------\n",
      "Lasso()\n",
      "Mean absolute error 0.5844353740193609\n",
      "Mean squared error 0.5903359390433567\n",
      "Root Mean squared error 0.7683332213586477\n",
      "R2 Score 0.41408347045103233\n",
      "---------------------------------------------------------------------------------------------------------\n",
      "RandomForestRegressor()\n",
      "Mean absolute error 0.017901896644259004\n",
      "Mean squared error 0.0010767259352079612\n",
      "Root Mean squared error 0.032813502330716865\n",
      "R2 Score 0.998931334717221\n",
      "---------------------------------------------------------------------------------------------------------\n",
      "GradientBoostingRegressor()\n",
      "Mean absolute error 0.020006421802860296\n",
      "Mean squared error 0.0012114552524063202\n",
      "Root Mean squared error 0.03480596575885117\n",
      "R2 Score 0.9987976140189871\n",
      "---------------------------------------------------------------------------------------------------------\n",
      "XGBRegressor(base_score=0.5, booster='gbtree', colsample_bylevel=1,\n",
      "             colsample_bynode=1, colsample_bytree=1, gamma=0, gpu_id=-1,\n",
      "             importance_type='gain', interaction_constraints='',\n",
      "             learning_rate=0.300000012, max_delta_step=0, max_depth=6,\n",
      "             min_child_weight=1, missing=nan, monotone_constraints='()',\n",
      "             n_estimators=100, n_jobs=4, num_parallel_tree=1, random_state=0,\n",
      "             reg_alpha=0, reg_lambda=1, scale_pos_weight=1, subsample=1,\n",
      "             tree_method='exact', validate_parameters=1, verbosity=None)\n",
      "Mean absolute error 0.019700508631326618\n",
      "Mean squared error 0.0014197466913005953\n",
      "Root Mean squared error 0.03767952615546798\n",
      "R2 Score 0.9985908819043721\n",
      "---------------------------------------------------------------------------------------------------------\n"
     ]
    }
   ],
   "source": [
    "def create_model(model):\n",
    "    m=model\n",
    "    m.fit(xtrain,ytrain)\n",
    "    p=m.predict(xtest)\n",
    "    \n",
    "    mae=mean_absolute_error(p,ytest)\n",
    "    mse=mean_squared_error(p,ytest)\n",
    "    rmse=np.sqrt(mean_squared_error(p,ytest))\n",
    "    r2=r2_score(ytest,p)\n",
    "    \n",
    "    maelist.append(mae)\n",
    "    mselist.append(mse)\n",
    "    rmselist.append(rmse)\n",
    "    r2list.append(r2)\n",
    "    \n",
    "    print(m)\n",
    "    \n",
    "    print('Mean absolute error',mae)\n",
    "    print('Mean squared error',mse)\n",
    "    print('Root Mean squared error',rmse)\n",
    "    print('R2 Score',r2)\n",
    "    print('---------------------------------------------------------------------------------------------------------')\n",
    "for i in models:\n",
    "    create_model(i)\n"
   ]
  },
  {
   "cell_type": "markdown",
   "id": "53c90fcf",
   "metadata": {},
   "source": [
    "linear regression has highest r2 score(0.9997632916491919)"
   ]
  },
  {
   "cell_type": "markdown",
   "id": "f2845bda",
   "metadata": {},
   "source": [
    "\n",
    "___cross validation\n",
    "The goal of cross-validation is to test the model's ability to predict new data that was not used in estimating \n",
    "it, in order to flag problems like overfitting or selection bias and to give an insight on how the model will\n",
    "generalize to an independent dataset "
   ]
  },
  {
   "cell_type": "code",
   "execution_count": 343,
   "id": "7a404d08",
   "metadata": {},
   "outputs": [],
   "source": [
    "scorel=[]\n",
    "from sklearn.utils import shuffle\n",
    "scorel=[]\n",
    "x=x1\n",
    "y=y1\n",
    "x, y = shuffle(x, y, random_state = 1)"
   ]
  },
  {
   "cell_type": "code",
   "execution_count": 344,
   "id": "7dd62987",
   "metadata": {},
   "outputs": [
    {
     "data": {
      "text/plain": [
       "array([0.9722554 , 0.97170405, 0.97850291, 0.97351988, 0.97135107])"
      ]
     },
     "execution_count": 344,
     "metadata": {},
     "output_type": "execute_result"
    }
   ],
   "source": [
    "from sklearn.model_selection import cross_val_score\n",
    "k=KNeighborsRegressor()\n",
    "scores=cross_val_score(k,x,y,scoring='r2',cv=5)\n",
    "scorel.append(scores)\n",
    "scores"
   ]
  },
  {
   "cell_type": "code",
   "execution_count": 345,
   "id": "427fd03c",
   "metadata": {},
   "outputs": [
    {
     "data": {
      "text/plain": [
       "array([ 0.00193074, -0.00275229,  0.003147  ,  0.00447746, -0.00176538])"
      ]
     },
     "execution_count": 345,
     "metadata": {},
     "output_type": "execute_result"
    }
   ],
   "source": [
    "from sklearn.model_selection import cross_val_score\n",
    "svr=SVR()\n",
    "scores=cross_val_score(svr,x,y,scoring='r2',cv=5)\n",
    "scorel.append(scores)\n",
    "scores"
   ]
  },
  {
   "cell_type": "code",
   "execution_count": 346,
   "id": "5bc00957",
   "metadata": {},
   "outputs": [
    {
     "data": {
      "text/plain": [
       "array([0.99909216, 0.99771846, 0.99895996, 0.99903596, 0.99868019])"
      ]
     },
     "execution_count": 346,
     "metadata": {},
     "output_type": "execute_result"
    }
   ],
   "source": [
    "from sklearn.model_selection import cross_val_score\n",
    "dt=DecisionTreeRegressor()\n",
    "scores=cross_val_score(dt,x,y,scoring='r2',cv=5)\n",
    "scorel.append(scores)\n",
    "scores"
   ]
  },
  {
   "cell_type": "code",
   "execution_count": 347,
   "id": "c83b4808",
   "metadata": {},
   "outputs": [
    {
     "data": {
      "text/plain": [
       "array([0.99977587, 0.9997344 , 0.99978253, 0.99968114, 0.99972305])"
      ]
     },
     "execution_count": 347,
     "metadata": {},
     "output_type": "execute_result"
    }
   ],
   "source": [
    "from sklearn.model_selection import cross_val_score\n",
    "lr=LinearRegression()\n",
    "scores=cross_val_score(lr,x,y,scoring='r2',cv=5)\n",
    "scorel.append(scores)\n",
    "scores"
   ]
  },
  {
   "cell_type": "code",
   "execution_count": 348,
   "id": "05a57d0d",
   "metadata": {},
   "outputs": [
    {
     "data": {
      "text/plain": [
       "array([0.4448832 , 0.43584305, 0.37939398, 0.41956648, 0.40163407])"
      ]
     },
     "execution_count": 348,
     "metadata": {},
     "output_type": "execute_result"
    }
   ],
   "source": [
    "from sklearn.model_selection import cross_val_score\n",
    "l=Lasso()\n",
    "scores=cross_val_score(l,x,y,scoring='r2',cv=5)\n",
    "scorel.append(scores)\n",
    "scores"
   ]
  },
  {
   "cell_type": "code",
   "execution_count": 349,
   "id": "f3fb46b8",
   "metadata": {},
   "outputs": [
    {
     "data": {
      "text/plain": [
       "array([0.99948167, 0.99860809, 0.99955766, 0.99937392, 0.99921311])"
      ]
     },
     "execution_count": 349,
     "metadata": {},
     "output_type": "execute_result"
    }
   ],
   "source": [
    "from sklearn.model_selection import cross_val_score\n",
    "rf=RandomForestRegressor()\n",
    "scores=cross_val_score(rf,x,y,scoring='r2',cv=5)\n",
    "scorel.append(scores)\n",
    "scores"
   ]
  },
  {
   "cell_type": "code",
   "execution_count": 350,
   "id": "283af135",
   "metadata": {},
   "outputs": [
    {
     "data": {
      "text/plain": [
       "array([0.9992781 , 0.99838967, 0.99938361, 0.99925291, 0.99906379])"
      ]
     },
     "execution_count": 350,
     "metadata": {},
     "output_type": "execute_result"
    }
   ],
   "source": [
    "from sklearn.model_selection import cross_val_score\n",
    "gb=GradientBoostingRegressor()\n",
    "scores=cross_val_score(gb,x,y,scoring='r2',cv=5)\n",
    "scorel.append(scores)\n",
    "scores"
   ]
  },
  {
   "cell_type": "code",
   "execution_count": 351,
   "id": "cfe63c30",
   "metadata": {},
   "outputs": [
    {
     "data": {
      "text/plain": [
       "array([0.99937421, 0.99831811, 0.99941549, 0.99916556, 0.99907049])"
      ]
     },
     "execution_count": 351,
     "metadata": {},
     "output_type": "execute_result"
    }
   ],
   "source": [
    "from sklearn.model_selection import cross_val_score\n",
    "xb=xgb.XGBRegressor()\n",
    "scores=cross_val_score(xb,x,y,scoring='r2',cv=5)\n",
    "scorel.append(scores)\n",
    "scores"
   ]
  },
  {
   "cell_type": "code",
   "execution_count": 352,
   "id": "0f2e9070",
   "metadata": {},
   "outputs": [],
   "source": [
    "avg_l=[]"
   ]
  },
  {
   "cell_type": "code",
   "execution_count": 353,
   "id": "c1e189f2",
   "metadata": {},
   "outputs": [],
   "source": [
    "#Difference of predicted model and crossvalidation score\n",
    "\n",
    "avg=(0.9722554+0.97170405+0.97850291+0.97351988+0.97135107)/5\n",
    "avg_l.append(avg)"
   ]
  },
  {
   "cell_type": "code",
   "execution_count": 354,
   "id": "186b8b57",
   "metadata": {},
   "outputs": [],
   "source": [
    "\n",
    "avg=(0.00193074-0.00275229+0.003147+0.00447746-0.00176538)/5\n",
    "avg_l.append(avg)"
   ]
  },
  {
   "cell_type": "code",
   "execution_count": 355,
   "id": "6614ef11",
   "metadata": {},
   "outputs": [],
   "source": [
    "\n",
    "avg=(0.99920829+0.99773795+0.9992209+0.99901237+0.99863225)/5\n",
    "avg_l.append(avg)"
   ]
  },
  {
   "cell_type": "code",
   "execution_count": 356,
   "id": "947e3d90",
   "metadata": {},
   "outputs": [],
   "source": [
    "\n",
    "avg=(0.99977587+0.9997344+0.99978253+0.99968114+0.99972305)/5\n",
    "avg_l.append(avg)"
   ]
  },
  {
   "cell_type": "code",
   "execution_count": 357,
   "id": "8dd88ed8",
   "metadata": {},
   "outputs": [],
   "source": [
    "\n",
    "avg=(0.4448832+0.43584305+0.37939398+0.41956648+0.40163407)/5\n",
    "avg_l.append(avg)"
   ]
  },
  {
   "cell_type": "code",
   "execution_count": 358,
   "id": "04d16b44",
   "metadata": {},
   "outputs": [],
   "source": [
    "\n",
    "avg=(0.9994508+0.99869638+0.99953121+0.9993829+0.99917633)/5\n",
    "avg_l.append(avg)"
   ]
  },
  {
   "cell_type": "code",
   "execution_count": 359,
   "id": "69425c61",
   "metadata": {},
   "outputs": [],
   "source": [
    "\n",
    "avg=(0.99928231+0.99843032+0.99937714+0.99925812+0.9991218 )/5\n",
    "avg_l.append(avg)"
   ]
  },
  {
   "cell_type": "code",
   "execution_count": 360,
   "id": "19e8a6b4",
   "metadata": {},
   "outputs": [],
   "source": [
    "\n",
    "avg=(0.99937421+0.99831811+0.99941549+0.99916556+0.99907049 )/5\n",
    "avg_l.append(avg)"
   ]
  },
  {
   "cell_type": "code",
   "execution_count": 361,
   "id": "51305796",
   "metadata": {},
   "outputs": [
    {
     "data": {
      "text/plain": [
       "[0.9734666620000001,\n",
       " 0.001007506,\n",
       " 0.998762352,\n",
       " 0.999739398,\n",
       " 0.416264156,\n",
       " 0.9992475239999999,\n",
       " 0.999093938,\n",
       " 0.999068772]"
      ]
     },
     "execution_count": 361,
     "metadata": {},
     "output_type": "execute_result"
    }
   ],
   "source": [
    "avg_l"
   ]
  },
  {
   "cell_type": "code",
   "execution_count": 362,
   "id": "0735cf39",
   "metadata": {},
   "outputs": [
    {
     "name": "stdout",
     "output_type": "stream",
     "text": [
      "KNeighborsRegressor() difference is -0.0032125260227404695\n",
      "SVR() difference is -0.0037311034215046137\n",
      "DecisionTreeRegressor() difference is 0.00038568594717547366\n",
      "LinearRegression() difference is -4.8118827467469316e-05\n",
      "Lasso() difference is 0.0021806855489676646\n",
      "RandomForestRegressor() difference is 0.00031618928277898917\n",
      "GradientBoostingRegressor() difference is 0.0002963239810128693\n",
      "XGBRegressor(base_score=None, booster=None, colsample_bylevel=None,\n",
      "             colsample_bynode=None, colsample_bytree=None, gamma=None,\n",
      "             gpu_id=None, importance_type='gain', interaction_constraints=None,\n",
      "             learning_rate=None, max_delta_step=None, max_depth=None,\n",
      "             min_child_weight=None, missing=nan, monotone_constraints=None,\n",
      "             n_estimators=100, n_jobs=None, num_parallel_tree=None,\n",
      "             random_state=None, reg_alpha=None, reg_lambda=None,\n",
      "             scale_pos_weight=None, subsample=None, tree_method=None,\n",
      "             validate_parameters=None, verbosity=None) difference is 0.00047789009562793083\n"
     ]
    }
   ],
   "source": [
    "models=[KNeighborsRegressor(),SVR(),DecisionTreeRegressor(),LinearRegression(),Lasso(),\n",
    "        RandomForestRegressor(),GradientBoostingRegressor(),xgb.XGBRegressor()]\n",
    "for i in range(0,8):\n",
    "    print(models[i],\"difference is\",avg_l[i]-r2list[i])"
   ]
  },
  {
   "cell_type": "markdown",
   "id": "e3c94203",
   "metadata": {},
   "source": [
    "##best model\n",
    "GradientBoostingRegressor() difference is 0.0002963239810128693\n",
    "GradientBoostingRegressor() has least difference\n"
   ]
  },
  {
   "cell_type": "code",
   "execution_count": 363,
   "id": "b62e5faf",
   "metadata": {},
   "outputs": [],
   "source": [
    "from sklearn.model_selection import GridSearchCV\n",
    "parameters = { \"learning_rate\": [0.01, 0.025, 0.05, 0.1, 0.2],\n",
    "    \"min_samples_split\": np.linspace(0.1, 0.5, 1),\n",
    "    \"min_samples_leaf\": np.linspace(0.1, 0.5, 1),\n",
    "    \"max_depth\":[3,5,8],\n",
    "    \"max_features\":[\"log2\",\"sqrt\"],\n",
    "    \"subsample\":[0.5, 0.6, 0.8, 1.0],\n",
    "    \"n_estimators\":[10,100,1000]}\n",
    "grid = GridSearchCV(GradientBoostingRegressor(), param_grid = parameters, cv = 5, scoring = \"r2\")"
   ]
  },
  {
   "cell_type": "code",
   "execution_count": 364,
   "id": "6967142d",
   "metadata": {},
   "outputs": [
    {
     "name": "stdout",
     "output_type": "stream",
     "text": [
      "Best_parameters {'learning_rate': 0.2, 'max_depth': 5, 'max_features': 'sqrt', 'min_samples_leaf': 0.1, 'min_samples_split': 0.1, 'n_estimators': 1000, 'subsample': 1.0}\n"
     ]
    }
   ],
   "source": [
    "xtrain,xtest,ytrain,ytest=train_test_split(x,y,test_size=0.25,random_state=1)\n",
    "grid.fit(xtrain,ytrain)\n",
    "\n",
    "print(\"Best_parameters\",grid.best_params_)"
   ]
  },
  {
   "cell_type": "code",
   "execution_count": 370,
   "id": "9c4ba3fd",
   "metadata": {},
   "outputs": [
    {
     "name": "stdout",
     "output_type": "stream",
     "text": [
      "Accuracy 0.9985612743106566\n",
      "r2 score 0.9985612743106566\n"
     ]
    }
   ],
   "source": [
    "xtrain,xtest,ytrain,ytest=train_test_split(x,y,test_size=0.25,random_state=1)\n",
    "from sklearn.metrics import mean_absolute_error,mean_squared_error,r2_score,accuracy_score\n",
    "model=GradientBoostingRegressor(learning_rate=0.2,max_depth=5,max_features='sqrt',min_samples_split=0.1,n_estimators= 1000,subsample= 1.0)\n",
    "model.fit(xtrain,ytrain)\n",
    "p=model.predict(xtest)\n",
    "acc=model.score(xtest,ytest)\n",
    "mae=mean_absolute_error(p,ytest)\n",
    "mse=mean_squared_error(p,ytest)\n",
    "rmse=np.sqrt(mean_squared_error(p,ytest))\n",
    "r2=r2_score(ytest,p)\n",
    "print('Accuracy',acc)\n",
    "print('r2 score',r2)"
   ]
  },
  {
   "cell_type": "code",
   "execution_count": null,
   "id": "b06a27c5",
   "metadata": {},
   "outputs": [],
   "source": [
    "After hyper tuning accuracy is 99.8%"
   ]
  },
  {
   "cell_type": "code",
   "execution_count": 371,
   "id": "ca3c7307",
   "metadata": {},
   "outputs": [
    {
     "data": {
      "text/plain": [
       "['stockmarketPrediction.joblib']"
      ]
     },
     "execution_count": 371,
     "metadata": {},
     "output_type": "execute_result"
    }
   ],
   "source": [
    "##saving the model\n",
    "from joblib import dump\n",
    "dump(model, 'stockmarketPrediction.joblib')"
   ]
  },
  {
   "cell_type": "code",
   "execution_count": null,
   "id": "25d08ea5",
   "metadata": {},
   "outputs": [],
   "source": []
  }
 ],
 "metadata": {
  "kernelspec": {
   "display_name": "Python 3",
   "language": "python",
   "name": "python3"
  },
  "language_info": {
   "codemirror_mode": {
    "name": "ipython",
    "version": 3
   },
   "file_extension": ".py",
   "mimetype": "text/x-python",
   "name": "python",
   "nbconvert_exporter": "python",
   "pygments_lexer": "ipython3",
   "version": "3.8.8"
  }
 },
 "nbformat": 4,
 "nbformat_minor": 5
}
