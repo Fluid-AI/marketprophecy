{
 "cells": [
  {
   "cell_type": "markdown",
   "id": "70256caa",
   "metadata": {},
   "source": [
    "# Importing Libraries"
   ]
  },
  {
   "cell_type": "code",
   "execution_count": 1,
   "id": "b7b2ddb6",
   "metadata": {},
   "outputs": [],
   "source": [
    "import numpy as np\n",
    "import pandas as pd\n",
    "import matplotlib.pyplot as plt\n",
    "import seaborn as sns"
   ]
  },
  {
   "cell_type": "code",
   "execution_count": 2,
   "id": "d7f90930",
   "metadata": {},
   "outputs": [],
   "source": [
    "df_train=pd.read_csv(r'C:\\Users\\user\\Dropbox\\PC\\Desktop\\Machine Learning\\Fluid AI\\marketprophecy-main\\marketprophecy-main\\NSE Data\\NSE Training Data - 1st Jan 2016 to 1st Jan 2022.csv')"
   ]
  },
  {
   "cell_type": "code",
   "execution_count": 3,
   "id": "11e6176a",
   "metadata": {},
   "outputs": [
    {
     "data": {
      "text/html": [
       "<div>\n",
       "<style scoped>\n",
       "    .dataframe tbody tr th:only-of-type {\n",
       "        vertical-align: middle;\n",
       "    }\n",
       "\n",
       "    .dataframe tbody tr th {\n",
       "        vertical-align: top;\n",
       "    }\n",
       "\n",
       "    .dataframe thead th {\n",
       "        text-align: right;\n",
       "    }\n",
       "</style>\n",
       "<table border=\"1\" class=\"dataframe\">\n",
       "  <thead>\n",
       "    <tr style=\"text-align: right;\">\n",
       "      <th></th>\n",
       "      <th>Date</th>\n",
       "      <th>Open</th>\n",
       "      <th>High</th>\n",
       "      <th>Low</th>\n",
       "      <th>Close</th>\n",
       "      <th>Adj Close</th>\n",
       "      <th>Volume</th>\n",
       "    </tr>\n",
       "  </thead>\n",
       "  <tbody>\n",
       "    <tr>\n",
       "      <th>0</th>\n",
       "      <td>2016-01-04</td>\n",
       "      <td>7924.549805</td>\n",
       "      <td>7937.549805</td>\n",
       "      <td>7781.100098</td>\n",
       "      <td>7791.299805</td>\n",
       "      <td>7791.299805</td>\n",
       "      <td>134700.0</td>\n",
       "    </tr>\n",
       "    <tr>\n",
       "      <th>1</th>\n",
       "      <td>2016-01-05</td>\n",
       "      <td>7828.399902</td>\n",
       "      <td>7831.200195</td>\n",
       "      <td>7763.250000</td>\n",
       "      <td>7784.649902</td>\n",
       "      <td>7784.649902</td>\n",
       "      <td>145200.0</td>\n",
       "    </tr>\n",
       "    <tr>\n",
       "      <th>2</th>\n",
       "      <td>2016-01-06</td>\n",
       "      <td>7788.049805</td>\n",
       "      <td>7800.950195</td>\n",
       "      <td>7721.200195</td>\n",
       "      <td>7741.000000</td>\n",
       "      <td>7741.000000</td>\n",
       "      <td>147100.0</td>\n",
       "    </tr>\n",
       "    <tr>\n",
       "      <th>3</th>\n",
       "      <td>2016-01-07</td>\n",
       "      <td>7673.350098</td>\n",
       "      <td>7674.950195</td>\n",
       "      <td>7556.600098</td>\n",
       "      <td>7568.299805</td>\n",
       "      <td>7568.299805</td>\n",
       "      <td>188900.0</td>\n",
       "    </tr>\n",
       "    <tr>\n",
       "      <th>4</th>\n",
       "      <td>2016-01-08</td>\n",
       "      <td>7611.649902</td>\n",
       "      <td>7634.100098</td>\n",
       "      <td>7581.049805</td>\n",
       "      <td>7601.350098</td>\n",
       "      <td>7601.350098</td>\n",
       "      <td>157400.0</td>\n",
       "    </tr>\n",
       "  </tbody>\n",
       "</table>\n",
       "</div>"
      ],
      "text/plain": [
       "         Date         Open         High          Low        Close  \\\n",
       "0  2016-01-04  7924.549805  7937.549805  7781.100098  7791.299805   \n",
       "1  2016-01-05  7828.399902  7831.200195  7763.250000  7784.649902   \n",
       "2  2016-01-06  7788.049805  7800.950195  7721.200195  7741.000000   \n",
       "3  2016-01-07  7673.350098  7674.950195  7556.600098  7568.299805   \n",
       "4  2016-01-08  7611.649902  7634.100098  7581.049805  7601.350098   \n",
       "\n",
       "     Adj Close    Volume  \n",
       "0  7791.299805  134700.0  \n",
       "1  7784.649902  145200.0  \n",
       "2  7741.000000  147100.0  \n",
       "3  7568.299805  188900.0  \n",
       "4  7601.350098  157400.0  "
      ]
     },
     "execution_count": 3,
     "metadata": {},
     "output_type": "execute_result"
    }
   ],
   "source": [
    "df_train.head()"
   ]
  },
  {
   "cell_type": "code",
   "execution_count": 4,
   "id": "704bc75a",
   "metadata": {},
   "outputs": [],
   "source": [
    "df_test=pd.read_csv(r'C:\\Users\\user\\Dropbox\\PC\\Desktop\\Machine Learning\\Fluid AI\\marketprophecy-main\\marketprophecy-main\\NSE Data\\NSE Out of Time Testing Data - 1st Jan 2022 to 4th Feb 2022.csv')"
   ]
  },
  {
   "cell_type": "code",
   "execution_count": 5,
   "id": "96bc05eb",
   "metadata": {},
   "outputs": [
    {
     "data": {
      "text/html": [
       "<div>\n",
       "<style scoped>\n",
       "    .dataframe tbody tr th:only-of-type {\n",
       "        vertical-align: middle;\n",
       "    }\n",
       "\n",
       "    .dataframe tbody tr th {\n",
       "        vertical-align: top;\n",
       "    }\n",
       "\n",
       "    .dataframe thead th {\n",
       "        text-align: right;\n",
       "    }\n",
       "</style>\n",
       "<table border=\"1\" class=\"dataframe\">\n",
       "  <thead>\n",
       "    <tr style=\"text-align: right;\">\n",
       "      <th></th>\n",
       "      <th>Date</th>\n",
       "      <th>Open</th>\n",
       "      <th>High</th>\n",
       "      <th>Low</th>\n",
       "      <th>Close</th>\n",
       "      <th>Adj Close</th>\n",
       "      <th>Volume</th>\n",
       "    </tr>\n",
       "  </thead>\n",
       "  <tbody>\n",
       "    <tr>\n",
       "      <th>0</th>\n",
       "      <td>2022-01-03</td>\n",
       "      <td>17387.150391</td>\n",
       "      <td>17646.650391</td>\n",
       "      <td>17383.300781</td>\n",
       "      <td>17625.699219</td>\n",
       "      <td>17625.699219</td>\n",
       "      <td>200500</td>\n",
       "    </tr>\n",
       "    <tr>\n",
       "      <th>1</th>\n",
       "      <td>2022-01-04</td>\n",
       "      <td>17681.400391</td>\n",
       "      <td>17827.599609</td>\n",
       "      <td>17593.550781</td>\n",
       "      <td>17805.250000</td>\n",
       "      <td>17805.250000</td>\n",
       "      <td>247400</td>\n",
       "    </tr>\n",
       "    <tr>\n",
       "      <th>2</th>\n",
       "      <td>2022-01-05</td>\n",
       "      <td>17820.099609</td>\n",
       "      <td>17944.699219</td>\n",
       "      <td>17748.849609</td>\n",
       "      <td>17925.250000</td>\n",
       "      <td>17925.250000</td>\n",
       "      <td>251500</td>\n",
       "    </tr>\n",
       "    <tr>\n",
       "      <th>3</th>\n",
       "      <td>2022-01-06</td>\n",
       "      <td>17768.500000</td>\n",
       "      <td>17797.949219</td>\n",
       "      <td>17655.550781</td>\n",
       "      <td>17745.900391</td>\n",
       "      <td>17745.900391</td>\n",
       "      <td>236500</td>\n",
       "    </tr>\n",
       "    <tr>\n",
       "      <th>4</th>\n",
       "      <td>2022-01-07</td>\n",
       "      <td>17797.599609</td>\n",
       "      <td>17905.000000</td>\n",
       "      <td>17704.550781</td>\n",
       "      <td>17812.699219</td>\n",
       "      <td>17812.699219</td>\n",
       "      <td>239300</td>\n",
       "    </tr>\n",
       "  </tbody>\n",
       "</table>\n",
       "</div>"
      ],
      "text/plain": [
       "         Date          Open          High           Low         Close  \\\n",
       "0  2022-01-03  17387.150391  17646.650391  17383.300781  17625.699219   \n",
       "1  2022-01-04  17681.400391  17827.599609  17593.550781  17805.250000   \n",
       "2  2022-01-05  17820.099609  17944.699219  17748.849609  17925.250000   \n",
       "3  2022-01-06  17768.500000  17797.949219  17655.550781  17745.900391   \n",
       "4  2022-01-07  17797.599609  17905.000000  17704.550781  17812.699219   \n",
       "\n",
       "      Adj Close  Volume  \n",
       "0  17625.699219  200500  \n",
       "1  17805.250000  247400  \n",
       "2  17925.250000  251500  \n",
       "3  17745.900391  236500  \n",
       "4  17812.699219  239300  "
      ]
     },
     "execution_count": 5,
     "metadata": {},
     "output_type": "execute_result"
    }
   ],
   "source": [
    "df_test.head()"
   ]
  },
  {
   "cell_type": "code",
   "execution_count": 6,
   "id": "6de3b6de",
   "metadata": {},
   "outputs": [
    {
     "data": {
      "text/plain": [
       "(1481, 7)"
      ]
     },
     "execution_count": 6,
     "metadata": {},
     "output_type": "execute_result"
    }
   ],
   "source": [
    "df_train.shape"
   ]
  },
  {
   "cell_type": "code",
   "execution_count": 7,
   "id": "00e37c1b",
   "metadata": {},
   "outputs": [
    {
     "data": {
      "text/plain": [
       "(23, 7)"
      ]
     },
     "execution_count": 7,
     "metadata": {},
     "output_type": "execute_result"
    }
   ],
   "source": [
    "df_test.shape"
   ]
  },
  {
   "cell_type": "code",
   "execution_count": null,
   "id": "77a54e93",
   "metadata": {},
   "outputs": [],
   "source": []
  },
  {
   "cell_type": "markdown",
   "id": "7e1c627b",
   "metadata": {},
   "source": [
    "# Checking for null values"
   ]
  },
  {
   "cell_type": "code",
   "execution_count": 8,
   "id": "c0d86d6b",
   "metadata": {},
   "outputs": [
    {
     "data": {
      "text/plain": [
       "Date         0\n",
       "Open         6\n",
       "High         6\n",
       "Low          6\n",
       "Close        6\n",
       "Adj Close    6\n",
       "Volume       6\n",
       "dtype: int64"
      ]
     },
     "execution_count": 8,
     "metadata": {},
     "output_type": "execute_result"
    }
   ],
   "source": [
    "df_train.isnull().sum()"
   ]
  },
  {
   "cell_type": "code",
   "execution_count": 9,
   "id": "718dc9de",
   "metadata": {},
   "outputs": [
    {
     "name": "stdout",
     "output_type": "stream",
     "text": [
      "<class 'pandas.core.frame.DataFrame'>\n",
      "RangeIndex: 1481 entries, 0 to 1480\n",
      "Data columns (total 7 columns):\n",
      " #   Column     Non-Null Count  Dtype  \n",
      "---  ------     --------------  -----  \n",
      " 0   Date       1481 non-null   object \n",
      " 1   Open       1475 non-null   float64\n",
      " 2   High       1475 non-null   float64\n",
      " 3   Low        1475 non-null   float64\n",
      " 4   Close      1475 non-null   float64\n",
      " 5   Adj Close  1475 non-null   float64\n",
      " 6   Volume     1475 non-null   float64\n",
      "dtypes: float64(6), object(1)\n",
      "memory usage: 81.1+ KB\n"
     ]
    }
   ],
   "source": [
    "df_train.info()"
   ]
  },
  {
   "cell_type": "code",
   "execution_count": 10,
   "id": "f955184a",
   "metadata": {},
   "outputs": [],
   "source": [
    "df_train=df_train.fillna(method=('ffill'))"
   ]
  },
  {
   "cell_type": "code",
   "execution_count": 11,
   "id": "b3287dd0",
   "metadata": {},
   "outputs": [
    {
     "data": {
      "text/plain": [
       "Date         0\n",
       "Open         0\n",
       "High         0\n",
       "Low          0\n",
       "Close        0\n",
       "Adj Close    0\n",
       "Volume       0\n",
       "dtype: int64"
      ]
     },
     "execution_count": 11,
     "metadata": {},
     "output_type": "execute_result"
    }
   ],
   "source": [
    "df_test.isnull().sum()"
   ]
  },
  {
   "cell_type": "code",
   "execution_count": 12,
   "id": "ea548602",
   "metadata": {},
   "outputs": [
    {
     "name": "stdout",
     "output_type": "stream",
     "text": [
      "<class 'pandas.core.frame.DataFrame'>\n",
      "RangeIndex: 1481 entries, 0 to 1480\n",
      "Data columns (total 7 columns):\n",
      " #   Column     Non-Null Count  Dtype  \n",
      "---  ------     --------------  -----  \n",
      " 0   Date       1481 non-null   object \n",
      " 1   Open       1481 non-null   float64\n",
      " 2   High       1481 non-null   float64\n",
      " 3   Low        1481 non-null   float64\n",
      " 4   Close      1481 non-null   float64\n",
      " 5   Adj Close  1481 non-null   float64\n",
      " 6   Volume     1481 non-null   float64\n",
      "dtypes: float64(6), object(1)\n",
      "memory usage: 81.1+ KB\n"
     ]
    }
   ],
   "source": [
    "df_train.info()"
   ]
  },
  {
   "cell_type": "code",
   "execution_count": 13,
   "id": "8f30d79c",
   "metadata": {},
   "outputs": [
    {
     "name": "stdout",
     "output_type": "stream",
     "text": [
      "<class 'pandas.core.frame.DataFrame'>\n",
      "RangeIndex: 23 entries, 0 to 22\n",
      "Data columns (total 7 columns):\n",
      " #   Column     Non-Null Count  Dtype  \n",
      "---  ------     --------------  -----  \n",
      " 0   Date       23 non-null     object \n",
      " 1   Open       23 non-null     float64\n",
      " 2   High       23 non-null     float64\n",
      " 3   Low        23 non-null     float64\n",
      " 4   Close      23 non-null     float64\n",
      " 5   Adj Close  23 non-null     float64\n",
      " 6   Volume     23 non-null     int64  \n",
      "dtypes: float64(5), int64(1), object(1)\n",
      "memory usage: 1.4+ KB\n"
     ]
    }
   ],
   "source": [
    "df_test.info()"
   ]
  },
  {
   "cell_type": "code",
   "execution_count": 14,
   "id": "c5ef19bb",
   "metadata": {},
   "outputs": [
    {
     "data": {
      "text/html": [
       "<div>\n",
       "<style scoped>\n",
       "    .dataframe tbody tr th:only-of-type {\n",
       "        vertical-align: middle;\n",
       "    }\n",
       "\n",
       "    .dataframe tbody tr th {\n",
       "        vertical-align: top;\n",
       "    }\n",
       "\n",
       "    .dataframe thead th {\n",
       "        text-align: right;\n",
       "    }\n",
       "</style>\n",
       "<table border=\"1\" class=\"dataframe\">\n",
       "  <thead>\n",
       "    <tr style=\"text-align: right;\">\n",
       "      <th></th>\n",
       "      <th>Open</th>\n",
       "      <th>High</th>\n",
       "      <th>Low</th>\n",
       "      <th>Close</th>\n",
       "      <th>Adj Close</th>\n",
       "      <th>Volume</th>\n",
       "    </tr>\n",
       "  </thead>\n",
       "  <tbody>\n",
       "    <tr>\n",
       "      <th>count</th>\n",
       "      <td>1481.000000</td>\n",
       "      <td>1481.000000</td>\n",
       "      <td>1481.000000</td>\n",
       "      <td>1481.000000</td>\n",
       "      <td>1481.000000</td>\n",
       "      <td>1.481000e+03</td>\n",
       "    </tr>\n",
       "    <tr>\n",
       "      <th>mean</th>\n",
       "      <td>11191.379880</td>\n",
       "      <td>11243.962730</td>\n",
       "      <td>11115.690938</td>\n",
       "      <td>11181.028123</td>\n",
       "      <td>11181.028123</td>\n",
       "      <td>3.672804e+05</td>\n",
       "    </tr>\n",
       "    <tr>\n",
       "      <th>std</th>\n",
       "      <td>2602.391597</td>\n",
       "      <td>2610.638432</td>\n",
       "      <td>2585.209752</td>\n",
       "      <td>2599.015169</td>\n",
       "      <td>2599.015169</td>\n",
       "      <td>2.278015e+05</td>\n",
       "    </tr>\n",
       "    <tr>\n",
       "      <th>min</th>\n",
       "      <td>7023.649902</td>\n",
       "      <td>7034.200195</td>\n",
       "      <td>6825.799805</td>\n",
       "      <td>6970.600098</td>\n",
       "      <td>6970.600098</td>\n",
       "      <td>0.000000e+00</td>\n",
       "    </tr>\n",
       "    <tr>\n",
       "      <th>25%</th>\n",
       "      <td>9364.950195</td>\n",
       "      <td>9404.400391</td>\n",
       "      <td>9297.950195</td>\n",
       "      <td>9316.849609</td>\n",
       "      <td>9316.849609</td>\n",
       "      <td>1.955000e+05</td>\n",
       "    </tr>\n",
       "    <tr>\n",
       "      <th>50%</th>\n",
       "      <td>10782.700195</td>\n",
       "      <td>10818.000000</td>\n",
       "      <td>10721.500000</td>\n",
       "      <td>10769.900391</td>\n",
       "      <td>10769.900391</td>\n",
       "      <td>2.906000e+05</td>\n",
       "    </tr>\n",
       "    <tr>\n",
       "      <th>75%</th>\n",
       "      <td>11928.799805</td>\n",
       "      <td>11969.250000</td>\n",
       "      <td>11850.250000</td>\n",
       "      <td>11914.200195</td>\n",
       "      <td>11914.200195</td>\n",
       "      <td>5.097000e+05</td>\n",
       "    </tr>\n",
       "    <tr>\n",
       "      <th>max</th>\n",
       "      <td>18602.349609</td>\n",
       "      <td>18604.449219</td>\n",
       "      <td>18445.300781</td>\n",
       "      <td>18477.050781</td>\n",
       "      <td>18477.050781</td>\n",
       "      <td>1.811000e+06</td>\n",
       "    </tr>\n",
       "  </tbody>\n",
       "</table>\n",
       "</div>"
      ],
      "text/plain": [
       "               Open          High           Low         Close     Adj Close  \\\n",
       "count   1481.000000   1481.000000   1481.000000   1481.000000   1481.000000   \n",
       "mean   11191.379880  11243.962730  11115.690938  11181.028123  11181.028123   \n",
       "std     2602.391597   2610.638432   2585.209752   2599.015169   2599.015169   \n",
       "min     7023.649902   7034.200195   6825.799805   6970.600098   6970.600098   \n",
       "25%     9364.950195   9404.400391   9297.950195   9316.849609   9316.849609   \n",
       "50%    10782.700195  10818.000000  10721.500000  10769.900391  10769.900391   \n",
       "75%    11928.799805  11969.250000  11850.250000  11914.200195  11914.200195   \n",
       "max    18602.349609  18604.449219  18445.300781  18477.050781  18477.050781   \n",
       "\n",
       "             Volume  \n",
       "count  1.481000e+03  \n",
       "mean   3.672804e+05  \n",
       "std    2.278015e+05  \n",
       "min    0.000000e+00  \n",
       "25%    1.955000e+05  \n",
       "50%    2.906000e+05  \n",
       "75%    5.097000e+05  \n",
       "max    1.811000e+06  "
      ]
     },
     "execution_count": 14,
     "metadata": {},
     "output_type": "execute_result"
    }
   ],
   "source": [
    "df_train.describe()"
   ]
  },
  {
   "cell_type": "code",
   "execution_count": 15,
   "id": "1320ed57",
   "metadata": {},
   "outputs": [
    {
     "data": {
      "text/html": [
       "<div>\n",
       "<style scoped>\n",
       "    .dataframe tbody tr th:only-of-type {\n",
       "        vertical-align: middle;\n",
       "    }\n",
       "\n",
       "    .dataframe tbody tr th {\n",
       "        vertical-align: top;\n",
       "    }\n",
       "\n",
       "    .dataframe thead th {\n",
       "        text-align: right;\n",
       "    }\n",
       "</style>\n",
       "<table border=\"1\" class=\"dataframe\">\n",
       "  <thead>\n",
       "    <tr style=\"text-align: right;\">\n",
       "      <th></th>\n",
       "      <th>Open</th>\n",
       "      <th>High</th>\n",
       "      <th>Low</th>\n",
       "      <th>Close</th>\n",
       "      <th>Adj Close</th>\n",
       "      <th>Volume</th>\n",
       "    </tr>\n",
       "  </thead>\n",
       "  <tbody>\n",
       "    <tr>\n",
       "      <th>count</th>\n",
       "      <td>23.000000</td>\n",
       "      <td>23.000000</td>\n",
       "      <td>23.000000</td>\n",
       "      <td>23.000000</td>\n",
       "      <td>23.000000</td>\n",
       "      <td>23.000000</td>\n",
       "    </tr>\n",
       "    <tr>\n",
       "      <th>mean</th>\n",
       "      <td>17755.060887</td>\n",
       "      <td>17849.280231</td>\n",
       "      <td>17615.156844</td>\n",
       "      <td>17753.456437</td>\n",
       "      <td>17753.456437</td>\n",
       "      <td>274769.565217</td>\n",
       "    </tr>\n",
       "    <tr>\n",
       "      <th>std</th>\n",
       "      <td>383.559213</td>\n",
       "      <td>337.879897</td>\n",
       "      <td>420.653101</td>\n",
       "      <td>374.338100</td>\n",
       "      <td>374.338100</td>\n",
       "      <td>53862.581334</td>\n",
       "    </tr>\n",
       "    <tr>\n",
       "      <th>min</th>\n",
       "      <td>17001.550781</td>\n",
       "      <td>17182.500000</td>\n",
       "      <td>16836.800781</td>\n",
       "      <td>17101.949219</td>\n",
       "      <td>17101.949219</td>\n",
       "      <td>200500.000000</td>\n",
       "    </tr>\n",
       "    <tr>\n",
       "      <th>25%</th>\n",
       "      <td>17552.299805</td>\n",
       "      <td>17634.525391</td>\n",
       "      <td>17323.725586</td>\n",
       "      <td>17568.524414</td>\n",
       "      <td>17568.524414</td>\n",
       "      <td>234450.000000</td>\n",
       "    </tr>\n",
       "    <tr>\n",
       "      <th>50%</th>\n",
       "      <td>17768.500000</td>\n",
       "      <td>17827.599609</td>\n",
       "      <td>17655.550781</td>\n",
       "      <td>17780.000000</td>\n",
       "      <td>17780.000000</td>\n",
       "      <td>258100.000000</td>\n",
       "    </tr>\n",
       "    <tr>\n",
       "      <th>75%</th>\n",
       "      <td>18063.474610</td>\n",
       "      <td>18105.224610</td>\n",
       "      <td>17924.650391</td>\n",
       "      <td>18029.525390</td>\n",
       "      <td>18029.525390</td>\n",
       "      <td>312700.000000</td>\n",
       "    </tr>\n",
       "    <tr>\n",
       "      <th>max</th>\n",
       "      <td>18337.199219</td>\n",
       "      <td>18350.949219</td>\n",
       "      <td>18228.750000</td>\n",
       "      <td>18308.099609</td>\n",
       "      <td>18308.099609</td>\n",
       "      <td>395600.000000</td>\n",
       "    </tr>\n",
       "  </tbody>\n",
       "</table>\n",
       "</div>"
      ],
      "text/plain": [
       "               Open          High           Low         Close     Adj Close  \\\n",
       "count     23.000000     23.000000     23.000000     23.000000     23.000000   \n",
       "mean   17755.060887  17849.280231  17615.156844  17753.456437  17753.456437   \n",
       "std      383.559213    337.879897    420.653101    374.338100    374.338100   \n",
       "min    17001.550781  17182.500000  16836.800781  17101.949219  17101.949219   \n",
       "25%    17552.299805  17634.525391  17323.725586  17568.524414  17568.524414   \n",
       "50%    17768.500000  17827.599609  17655.550781  17780.000000  17780.000000   \n",
       "75%    18063.474610  18105.224610  17924.650391  18029.525390  18029.525390   \n",
       "max    18337.199219  18350.949219  18228.750000  18308.099609  18308.099609   \n",
       "\n",
       "              Volume  \n",
       "count      23.000000  \n",
       "mean   274769.565217  \n",
       "std     53862.581334  \n",
       "min    200500.000000  \n",
       "25%    234450.000000  \n",
       "50%    258100.000000  \n",
       "75%    312700.000000  \n",
       "max    395600.000000  "
      ]
     },
     "execution_count": 15,
     "metadata": {},
     "output_type": "execute_result"
    }
   ],
   "source": [
    "df_test.describe()"
   ]
  },
  {
   "cell_type": "code",
   "execution_count": 16,
   "id": "15e0b344",
   "metadata": {},
   "outputs": [
    {
     "data": {
      "text/plain": [
       "Index(['Date', 'Open', 'High', 'Low', 'Close', 'Adj Close', 'Volume'], dtype='object')"
      ]
     },
     "execution_count": 16,
     "metadata": {},
     "output_type": "execute_result"
    }
   ],
   "source": [
    "df_train.columns"
   ]
  },
  {
   "cell_type": "code",
   "execution_count": 17,
   "id": "e7782888",
   "metadata": {},
   "outputs": [
    {
     "data": {
      "text/plain": [
       "Index(['Date', 'Open', 'High', 'Low', 'Close', 'Adj Close', 'Volume'], dtype='object')"
      ]
     },
     "execution_count": 17,
     "metadata": {},
     "output_type": "execute_result"
    }
   ],
   "source": [
    "df_test.columns"
   ]
  },
  {
   "cell_type": "code",
   "execution_count": null,
   "id": "3e8c93e0",
   "metadata": {},
   "outputs": [],
   "source": []
  },
  {
   "cell_type": "markdown",
   "id": "ec90701c",
   "metadata": {},
   "source": [
    "# Exploratory Data Analysis "
   ]
  },
  {
   "cell_type": "markdown",
   "id": "00bb7e10",
   "metadata": {},
   "source": [
    "# For Train Data"
   ]
  },
  {
   "cell_type": "code",
   "execution_count": 18,
   "id": "51d85615",
   "metadata": {},
   "outputs": [
    {
     "data": {
      "text/plain": [
       "2016-01-04    1\n",
       "2020-01-03    1\n",
       "2020-01-16    1\n",
       "2020-01-15    1\n",
       "2020-01-14    1\n",
       "             ..\n",
       "2017-12-29    1\n",
       "2017-12-28    1\n",
       "2017-12-27    1\n",
       "2017-12-26    1\n",
       "2021-12-31    1\n",
       "Name: Date, Length: 1481, dtype: int64"
      ]
     },
     "execution_count": 18,
     "metadata": {},
     "output_type": "execute_result"
    }
   ],
   "source": [
    "df_train['Date'].value_counts()"
   ]
  },
  {
   "cell_type": "code",
   "execution_count": 19,
   "id": "51a5b595",
   "metadata": {},
   "outputs": [
    {
     "data": {
      "image/png": "[encoded data removed]",
      "text/plain": [
       "<Figure size 936x360 with 1 Axes>"
      ]
     },
     "metadata": {
      "needs_background": "light"
     },
     "output_type": "display_data"
    }
   ],
   "source": [
    "df_train.boxplot(figsize=(13,5))\n",
    "plt.show()"
   ]
  },
  {
   "cell_type": "code",
   "execution_count": 20,
   "id": "e4b7a5fc",
   "metadata": {},
   "outputs": [
    {
     "data": {
      "image/png": "[encoded data removed]",
      "text/plain": [
       "<Figure size 936x360 with 1 Axes>"
      ]
     },
     "metadata": {
      "needs_background": "light"
     },
     "output_type": "display_data"
    }
   ],
   "source": [
    "plt.figure(figsize=(13,5))\n",
    "sns.boxplot(data=df_train,orient='h')\n",
    "plt.show()"
   ]
  },
  {
   "cell_type": "code",
   "execution_count": 21,
   "id": "fe746ad2",
   "metadata": {},
   "outputs": [
    {
     "data": {
      "image/png": "[encoded data removed]",
      "text/plain": [
       "<Figure size 432x432 with 3 Axes>"
      ]
     },
     "metadata": {
      "needs_background": "light"
     },
     "output_type": "display_data"
    }
   ],
   "source": [
    "d1 = sns.jointplot(data=df_train, x='Open', y='Close')"
   ]
  },
  {
   "cell_type": "code",
   "execution_count": 22,
   "id": "0611d977",
   "metadata": {},
   "outputs": [
    {
     "data": {
      "image/png": "[encoded data removed]",
      "text/plain": [
       "<Figure size 432x432 with 3 Axes>"
      ]
     },
     "metadata": {
      "needs_background": "light"
     },
     "output_type": "display_data"
    }
   ],
   "source": [
    "d1 = sns.jointplot(data=df_train, x='High', y='Low')"
   ]
  },
  {
   "cell_type": "code",
   "execution_count": null,
   "id": "a2437b98",
   "metadata": {},
   "outputs": [],
   "source": []
  },
  {
   "cell_type": "markdown",
   "id": "b278765b",
   "metadata": {},
   "source": [
    "# For Test Data"
   ]
  },
  {
   "cell_type": "code",
   "execution_count": 23,
   "id": "11cf9527",
   "metadata": {},
   "outputs": [
    {
     "data": {
      "text/plain": [
       "2022-01-03    1\n",
       "2022-01-19    1\n",
       "2022-02-02    1\n",
       "2022-02-01    1\n",
       "2022-01-31    1\n",
       "2022-01-28    1\n",
       "2022-01-27    1\n",
       "2022-01-25    1\n",
       "2022-01-24    1\n",
       "2022-01-21    1\n",
       "2022-01-20    1\n",
       "2022-01-18    1\n",
       "2022-01-04    1\n",
       "2022-01-17    1\n",
       "2022-01-14    1\n",
       "2022-01-13    1\n",
       "2022-01-12    1\n",
       "2022-01-11    1\n",
       "2022-01-10    1\n",
       "2022-01-07    1\n",
       "2022-01-06    1\n",
       "2022-01-05    1\n",
       "2022-02-03    1\n",
       "Name: Date, dtype: int64"
      ]
     },
     "execution_count": 23,
     "metadata": {},
     "output_type": "execute_result"
    }
   ],
   "source": [
    "df_test['Date'].value_counts()"
   ]
  },
  {
   "cell_type": "code",
   "execution_count": 24,
   "id": "07d8ca3f",
   "metadata": {},
   "outputs": [
    {
     "data": {
      "image/png": "[encoded data removed]",
      "text/plain": [
       "<Figure size 936x360 with 1 Axes>"
      ]
     },
     "metadata": {
      "needs_background": "light"
     },
     "output_type": "display_data"
    }
   ],
   "source": [
    "df_train.boxplot(figsize=(13,5))\n",
    "plt.show()"
   ]
  },
  {
   "cell_type": "code",
   "execution_count": 25,
   "id": "e1ee683d",
   "metadata": {},
   "outputs": [
    {
     "data": {
      "image/png": "[encoded data removed]",
      "text/plain": [
       "<Figure size 936x360 with 1 Axes>"
      ]
     },
     "metadata": {
      "needs_background": "light"
     },
     "output_type": "display_data"
    }
   ],
   "source": [
    "plt.figure(figsize=(13,5))\n",
    "sns.boxplot(data=df_test,orient='h')\n",
    "plt.show()"
   ]
  },
  {
   "cell_type": "code",
   "execution_count": 26,
   "id": "3a7fcf29",
   "metadata": {},
   "outputs": [
    {
     "data": {
      "image/png": "[encoded data removed]",
      "text/plain": [
       "<Figure size 432x432 with 3 Axes>"
      ]
     },
     "metadata": {
      "needs_background": "light"
     },
     "output_type": "display_data"
    }
   ],
   "source": [
    "d1 = sns.jointplot(data=df_test, x='Open', y='Close')"
   ]
  },
  {
   "cell_type": "code",
   "execution_count": 27,
   "id": "a1e5452c",
   "metadata": {},
   "outputs": [
    {
     "data": {
      "image/png": "[encoded data removed]",
      "text/plain": [
       "<Figure size 432x432 with 3 Axes>"
      ]
     },
     "metadata": {
      "needs_background": "light"
     },
     "output_type": "display_data"
    }
   ],
   "source": [
    "d1 = sns.jointplot(data=df_test, x='High', y='Low')"
   ]
  },
  {
   "cell_type": "code",
   "execution_count": null,
   "id": "6af4071d",
   "metadata": {},
   "outputs": [],
   "source": []
  },
  {
   "cell_type": "markdown",
   "id": "a1c92341",
   "metadata": {},
   "source": [
    "# Model Prediction for TRAIN Data"
   ]
  },
  {
   "cell_type": "markdown",
   "id": "f4deab89",
   "metadata": {},
   "source": [
    "# Label Encoding"
   ]
  },
  {
   "cell_type": "code",
   "execution_count": 28,
   "id": "7959a8af",
   "metadata": {},
   "outputs": [
    {
     "data": {
      "text/html": [
       "<div>\n",
       "<style scoped>\n",
       "    .dataframe tbody tr th:only-of-type {\n",
       "        vertical-align: middle;\n",
       "    }\n",
       "\n",
       "    .dataframe tbody tr th {\n",
       "        vertical-align: top;\n",
       "    }\n",
       "\n",
       "    .dataframe thead th {\n",
       "        text-align: right;\n",
       "    }\n",
       "</style>\n",
       "<table border=\"1\" class=\"dataframe\">\n",
       "  <thead>\n",
       "    <tr style=\"text-align: right;\">\n",
       "      <th></th>\n",
       "      <th>Date</th>\n",
       "      <th>Open</th>\n",
       "      <th>High</th>\n",
       "      <th>Low</th>\n",
       "      <th>Close</th>\n",
       "      <th>Adj Close</th>\n",
       "      <th>Volume</th>\n",
       "    </tr>\n",
       "  </thead>\n",
       "  <tbody>\n",
       "    <tr>\n",
       "      <th>0</th>\n",
       "      <td>0</td>\n",
       "      <td>94</td>\n",
       "      <td>88</td>\n",
       "      <td>83</td>\n",
       "      <td>76</td>\n",
       "      <td>76</td>\n",
       "      <td>32</td>\n",
       "    </tr>\n",
       "    <tr>\n",
       "      <th>1</th>\n",
       "      <td>1</td>\n",
       "      <td>80</td>\n",
       "      <td>73</td>\n",
       "      <td>77</td>\n",
       "      <td>75</td>\n",
       "      <td>75</td>\n",
       "      <td>58</td>\n",
       "    </tr>\n",
       "    <tr>\n",
       "      <th>2</th>\n",
       "      <td>2</td>\n",
       "      <td>72</td>\n",
       "      <td>69</td>\n",
       "      <td>72</td>\n",
       "      <td>69</td>\n",
       "      <td>69</td>\n",
       "      <td>64</td>\n",
       "    </tr>\n",
       "    <tr>\n",
       "      <th>3</th>\n",
       "      <td>3</td>\n",
       "      <td>57</td>\n",
       "      <td>53</td>\n",
       "      <td>52</td>\n",
       "      <td>49</td>\n",
       "      <td>49</td>\n",
       "      <td>243</td>\n",
       "    </tr>\n",
       "    <tr>\n",
       "      <th>4</th>\n",
       "      <td>4</td>\n",
       "      <td>51</td>\n",
       "      <td>50</td>\n",
       "      <td>53</td>\n",
       "      <td>51</td>\n",
       "      <td>51</td>\n",
       "      <td>106</td>\n",
       "    </tr>\n",
       "    <tr>\n",
       "      <th>...</th>\n",
       "      <td>...</td>\n",
       "      <td>...</td>\n",
       "      <td>...</td>\n",
       "      <td>...</td>\n",
       "      <td>...</td>\n",
       "      <td>...</td>\n",
       "      <td>...</td>\n",
       "    </tr>\n",
       "    <tr>\n",
       "      <th>1476</th>\n",
       "      <td>1476</td>\n",
       "      <td>1384</td>\n",
       "      <td>1385</td>\n",
       "      <td>1384</td>\n",
       "      <td>1385</td>\n",
       "      <td>1385</td>\n",
       "      <td>57</td>\n",
       "    </tr>\n",
       "    <tr>\n",
       "      <th>1477</th>\n",
       "      <td>1477</td>\n",
       "      <td>1393</td>\n",
       "      <td>1394</td>\n",
       "      <td>1398</td>\n",
       "      <td>1393</td>\n",
       "      <td>1393</td>\n",
       "      <td>194</td>\n",
       "    </tr>\n",
       "    <tr>\n",
       "      <th>1478</th>\n",
       "      <td>1478</td>\n",
       "      <td>1398</td>\n",
       "      <td>1397</td>\n",
       "      <td>1399</td>\n",
       "      <td>1391</td>\n",
       "      <td>1391</td>\n",
       "      <td>123</td>\n",
       "    </tr>\n",
       "    <tr>\n",
       "      <th>1479</th>\n",
       "      <td>1479</td>\n",
       "      <td>1396</td>\n",
       "      <td>1396</td>\n",
       "      <td>1396</td>\n",
       "      <td>1390</td>\n",
       "      <td>1390</td>\n",
       "      <td>638</td>\n",
       "    </tr>\n",
       "    <tr>\n",
       "      <th>1480</th>\n",
       "      <td>1480</td>\n",
       "      <td>1399</td>\n",
       "      <td>1408</td>\n",
       "      <td>1406</td>\n",
       "      <td>1399</td>\n",
       "      <td>1399</td>\n",
       "      <td>149</td>\n",
       "    </tr>\n",
       "  </tbody>\n",
       "</table>\n",
       "<p>1481 rows × 7 columns</p>\n",
       "</div>"
      ],
      "text/plain": [
       "      Date  Open  High   Low  Close  Adj Close  Volume\n",
       "0        0    94    88    83     76         76      32\n",
       "1        1    80    73    77     75         75      58\n",
       "2        2    72    69    72     69         69      64\n",
       "3        3    57    53    52     49         49     243\n",
       "4        4    51    50    53     51         51     106\n",
       "...    ...   ...   ...   ...    ...        ...     ...\n",
       "1476  1476  1384  1385  1384   1385       1385      57\n",
       "1477  1477  1393  1394  1398   1393       1393     194\n",
       "1478  1478  1398  1397  1399   1391       1391     123\n",
       "1479  1479  1396  1396  1396   1390       1390     638\n",
       "1480  1480  1399  1408  1406   1399       1399     149\n",
       "\n",
       "[1481 rows x 7 columns]"
      ]
     },
     "execution_count": 28,
     "metadata": {},
     "output_type": "execute_result"
    }
   ],
   "source": [
    "from sklearn.preprocessing import LabelEncoder\n",
    "df_train.apply(LabelEncoder().fit_transform)"
   ]
  },
  {
   "cell_type": "code",
   "execution_count": 29,
   "id": "525781c6",
   "metadata": {},
   "outputs": [
    {
     "name": "stdout",
     "output_type": "stream",
     "text": [
      "(1481, 1487)\n"
     ]
    }
   ],
   "source": [
    "# one hot encoding\n",
    "df_train = pd.get_dummies(df_train)\n",
    "print(df_train.shape)"
   ]
  },
  {
   "cell_type": "code",
   "execution_count": 30,
   "id": "7d6b354a",
   "metadata": {},
   "outputs": [
    {
     "name": "stdout",
     "output_type": "stream",
     "text": [
      "(1481, 1486)\n",
      "(1481,)\n"
     ]
    }
   ],
   "source": [
    "# splitting the data into dependent and independent variables\n",
    "x = df_train.drop('Volume', axis = 1)\n",
    "y = df_train.Volume\n",
    "print(x.shape)\n",
    "print(y.shape)"
   ]
  },
  {
   "cell_type": "code",
   "execution_count": 31,
   "id": "22ad8cd0",
   "metadata": {},
   "outputs": [
    {
     "name": "stdout",
     "output_type": "stream",
     "text": [
      "(1481, 1487)\n",
      "(0, 1487)\n"
     ]
    }
   ],
   "source": [
    "# splitting the dataset into train and test\n",
    "train = df_train.iloc[:8523,:]\n",
    "test = df_train.iloc[8523:,:]\n",
    "print(train.shape)\n",
    "print(test.shape)"
   ]
  },
  {
   "cell_type": "code",
   "execution_count": null,
   "id": "25b6b915",
   "metadata": {},
   "outputs": [],
   "source": []
  },
  {
   "cell_type": "markdown",
   "id": "cb05c23e",
   "metadata": {},
   "source": [
    "# Training and Testing"
   ]
  },
  {
   "cell_type": "code",
   "execution_count": 32,
   "id": "5d2106f6",
   "metadata": {},
   "outputs": [
    {
     "name": "stdout",
     "output_type": "stream",
     "text": [
      "(1036, 1486)\n",
      "(1036,)\n",
      "(445, 1486)\n",
      "(445,)\n"
     ]
    }
   ],
   "source": [
    "# making x_train, x_test, y_train, y_test\n",
    "from sklearn.model_selection import train_test_split\n",
    "x_train, x_test, y_train, y_test = train_test_split(x, y, test_size = 0.3)\n",
    "print(x_train.shape)\n",
    "print(y_train.shape)\n",
    "print(x_test.shape)\n",
    "print(y_test.shape)"
   ]
  },
  {
   "cell_type": "code",
   "execution_count": null,
   "id": "b5078087",
   "metadata": {},
   "outputs": [],
   "source": []
  },
  {
   "cell_type": "markdown",
   "id": "73799724",
   "metadata": {},
   "source": [
    "# Linear Regression"
   ]
  },
  {
   "cell_type": "code",
   "execution_count": 33,
   "id": "3d86a07a",
   "metadata": {},
   "outputs": [
    {
     "name": "stdout",
     "output_type": "stream",
     "text": [
      "[ 258187.08078662  334290.7504343   318794.36571597  353037.23734844\n",
      "  340910.61394112  352538.91324992  446249.50626726  433437.7454292\n",
      "  280136.40572027  282335.1666389   436282.69408183  492700.45561923\n",
      "  288391.68471335  331212.76077327  365385.60482392  253325.35852612\n",
      "  656687.36657202  280637.63079593  259495.03643262  398385.6616316\n",
      "  281807.61578076  286585.49673537  324350.22469816  315245.55089078\n",
      "  270504.70931548  299064.40885485  266524.60491516  250042.38618948\n",
      "  403744.15122814  322258.40648427  266034.63948396  291788.67192337\n",
      "  290726.90090341  301577.0293198   291489.27113754  383667.76496618\n",
      "  359673.09654976  313676.03144646  305872.75972535  435571.36018524\n",
      "  466602.68636273  454269.30392848  266502.72089401  413087.72020934\n",
      "  310222.33408052  319807.53266493  447391.67809362  279187.77183096\n",
      "  284732.69089711  296404.85703103  354675.75034674  479831.50502977\n",
      "  373911.41866967  399573.64517248  334467.59341952  356200.48910738\n",
      "  420110.2329272   381529.16706386  323592.37068222  280676.61546086\n",
      "  381157.17106462  342306.93443301  279377.24861013  295256.3387271\n",
      "  338307.6242242   248569.67513215  233596.43157404  366469.51110794\n",
      "  232124.47104688  301904.70101978  269547.18009782  441107.5669891\n",
      "  227605.88181023  281224.66038359  270836.58511177  461087.20766947\n",
      "  317600.04545259  340229.77380193  299842.00792894  462416.19553952\n",
      "  372846.43230407  360703.50224145  265452.23451532  274537.82691655\n",
      "  261482.36554692  453277.32433458  692895.27789036  284390.79796169\n",
      "  292851.44392242  296705.79535381  346670.46612125  437267.03033616\n",
      "  387482.00393048  261497.85099932  265691.16704836  264465.26057542\n",
      "  495358.53381483  248208.49497238  263658.43945189  504825.71808144\n",
      "  283452.53786828  257073.50192612  428087.35046671  373259.27640235\n",
      "  301941.66371129  327328.8228839   365069.72691244  392789.60509368\n",
      "  406300.22409262  273704.71474413  306631.39371087  391309.08876708\n",
      "  494028.54876803  520055.40710606  251998.06441424  314084.41007747\n",
      "  985064.06235501  464481.73443206  274747.73160111  440054.89780669\n",
      "  435664.29259628  271423.43181889  283020.82704769  350088.14279222\n",
      "  722212.70386114  327208.47660154  285990.74244368  331788.6755279\n",
      "  253212.12680563  290565.01469456  743268.33419207  332317.76517587\n",
      "  389182.99918075  302629.89700012  261004.27327559  293904.30682401\n",
      "  320860.0935971   300813.57625483  253203.51691431  470771.90266715\n",
      "  234574.49784718  354683.70296441  389476.30064812  422548.73402277\n",
      "  344251.56596698  330719.22641491  504841.58472927  266583.17712787\n",
      "  317414.1355377   320580.30873391  286479.78264948  590572.43875422\n",
      "  290178.80487819  320628.59306805  446458.86356274  731253.04729344\n",
      "  491433.46892205  262121.94780699  959834.84562559  835772.58746197\n",
      "  270200.97821804  262694.8408221   582697.14206862  336674.12074219\n",
      "  390290.66404168  304267.27783478  454798.79560133  428740.0657896\n",
      "  582903.13531556  314851.84542318  306658.26203227  275020.94448304\n",
      "  688868.87051749  387920.81522861  327860.07152444  424318.12701404\n",
      "  448031.82938389  411146.49263751  238664.39756705  349655.77983744\n",
      "  313623.66332983  316858.9915982   355081.84330584  455036.79348932\n",
      "  331269.34853062  483933.27979657  433675.55497928  480533.64324137\n",
      "  415832.93392865  485722.45148685  369234.3621818   404555.81194409\n",
      "  284065.24021451  352409.11519772  450478.02761771  359432.81226701\n",
      "  333061.1224317   334370.93479881  249833.74165472  361347.37583699\n",
      "  433694.41953841  316211.45894729  338085.57264707  600689.04316126\n",
      "  345791.5137357   327251.75538135  305248.95478187  280170.32479118\n",
      "  269870.4492922   359418.19065157  370604.04557804  254577.29603839\n",
      "  340148.30787845  265377.56954419  304317.14580432  369937.80612746\n",
      "  404874.48494367  396114.94898937  291682.76806519  250664.09690459\n",
      "  527718.03909186  420046.88226172  311624.2977839   413865.82031176\n",
      "  497521.96801427  554373.42885449  304960.16261357  270016.52695447\n",
      "  557460.16061981  491478.1571761   334196.59827691  474018.43096317\n",
      "  376272.33864143  576483.05657236  272812.60736061  277026.96454981\n",
      "  455951.27677758  589550.52955169  258431.6233307   304301.29429993\n",
      "  247237.85702248  491506.55309225  520639.13772958  415041.2888401\n",
      "  299716.81045039  400731.47845548  254286.47764821  239806.44147952\n",
      "  323439.90727312  345563.16991997  339500.95556643  445442.21951637\n",
      "  281248.89815599  326187.02784793  461348.87451377  426311.06150135\n",
      "  291112.65791921  297486.073088    360295.29852128  296584.6046049\n",
      "  333339.68484455  270733.94325037  439449.39445158  260559.71637526\n",
      "  422040.97636075  393896.20312879  332492.33224396  288331.34448543\n",
      "  442795.95637535  258041.82905454  408104.23958417  847058.61593037\n",
      "  307125.55766524  600903.33954499  525753.15360277  322397.94098765\n",
      "  567724.56464937  308286.37759127  377543.82115738  399776.55589925\n",
      "  334187.88651193  472318.12611826  431066.39062139  257771.46992124\n",
      "  350600.73489478  281817.98666846  379706.0564667   414041.71146226\n",
      "  261814.31254309  808012.16129308  287515.37268774  333327.58148286\n",
      "  304418.52808899  445591.64063282  290763.45919379  394149.10863391\n",
      "  583603.56615864  400110.61204825  360495.33260652  389700.76083426\n",
      "  300560.60170313  396611.58734526  256066.63009766  380838.20048019\n",
      "  275429.01096395  370756.82901362  296638.49539113  260815.40026908\n",
      "  486416.83536552  306810.73018006  314686.53878375  341253.91865058\n",
      " 1016148.91719735  420474.36578217  491407.32400355  314863.83345684\n",
      "  461548.4492259   441003.47661773  417812.00233249  316074.86609883\n",
      "  577804.41278615  440035.25770344  414464.73525262  340255.10485845\n",
      "  376264.77987278  444565.37220198  244349.40307066  332060.92138828\n",
      "  458257.51162281  340679.31212691  341421.90604423  323863.49427934\n",
      "  248873.08116693  341910.65132893  386116.92031666  544313.74846802\n",
      "  295010.53825514  406842.3934158   448132.13777208  626639.34430027\n",
      "  296850.52081283  324550.53335231  305825.09636145  375942.28885445\n",
      "  382194.20118447  383785.89361321  326734.62341674  397720.1764844\n",
      "  293952.41423813  248708.08889703  493655.56316922  307892.12117819\n",
      "  287455.63109242  264768.55354639  362508.45796881  262929.99300706\n",
      "  303286.49198361  275296.89889663  493838.06239422  408117.99716316\n",
      "  267566.70589326  286219.11476783  266217.72247318  361180.23118316\n",
      "  751078.89953926  486124.83770047  277819.5179964   317412.10427469\n",
      "  336931.85057495  250561.18964012  231044.36041384  402295.52036658\n",
      "  321301.81897887  268545.21455415  287637.49338798  426994.33503945\n",
      "  236261.25481584  248781.95153854  303679.01223481  247551.94194265\n",
      "  245301.08814873  274952.64965547  618186.52986663  273356.41882766\n",
      "  323231.56760409  416458.18433754  254662.67149372  295681.76563939\n",
      "  341206.00535414  288543.33691393  334706.22079936  306925.46756769\n",
      "  373065.01109964  251676.25924729  383593.91270282  297401.83480034\n",
      "  300391.51171704  444698.28459401  349556.69544296  318318.97111569\n",
      "  348298.06359448  373406.2893211   379478.63050451  350715.14746156\n",
      "  270635.82519388  365300.83196989  498096.77072283  377732.7480785\n",
      "  332992.44495663  450507.84009114  375587.97533843  405350.23556018\n",
      "  382485.85055981  281892.86167045  298726.43251345  452808.91197064\n",
      "  685037.02781574  308506.07189986  317008.47254869  521333.52373529\n",
      "  396082.32876626  320282.36600923  261043.90173651  440662.45206297\n",
      "  291670.09944666  528000.01676033  250232.65750889  268418.15833609\n",
      "  248337.36599112  426883.16606493  293250.56085752  305413.97438692\n",
      "  255926.7530913   481962.44612002  263063.8919295   285108.08392929\n",
      "  262452.6623937   253527.05045113  325566.57299276  411691.2120973\n",
      "  471802.96524356  286233.47263048  322755.25063291  389368.48668262\n",
      "  515387.44250596]\n",
      "RMSE : 196108.9392994665\n",
      "Variance score: 0.28\n"
     ]
    }
   ],
   "source": [
    "from sklearn.linear_model import LinearRegression\n",
    "from sklearn.metrics import mean_squared_error\n",
    "from sklearn.metrics import r2_score\n",
    "\n",
    "model = LinearRegression()\n",
    "model.fit(x_train, y_train)\n",
    "\n",
    "# predicting the  test set results\n",
    "y_pred = model.predict(x_test)\n",
    "print(y_pred)\n",
    "\n",
    "# finding the mean squared error and variance\n",
    "mse = mean_squared_error(y_test, y_pred)\n",
    "print('RMSE :', np.sqrt(mse))\n",
    "print('Variance score: %.2f' % r2_score(y_test, y_pred))"
   ]
  },
  {
   "cell_type": "code",
   "execution_count": null,
   "id": "e9564676",
   "metadata": {},
   "outputs": [],
   "source": []
  },
  {
   "cell_type": "markdown",
   "id": "bb07225b",
   "metadata": {},
   "source": [
    "# ADA BOOST"
   ]
  },
  {
   "cell_type": "code",
   "execution_count": 34,
   "id": "5dc0b44c",
   "metadata": {},
   "outputs": [
    {
     "name": "stdout",
     "output_type": "stream",
     "text": [
      "RMSE : 241033.9579211662\n"
     ]
    }
   ],
   "source": [
    "from sklearn.ensemble import AdaBoostRegressor\n",
    "\n",
    "model= AdaBoostRegressor(n_estimators = 100)\n",
    "model.fit(x_train, y_train)\n",
    "\n",
    "# predicting the test set results\n",
    "y_pred = model.predict(x_test)\n",
    "\n",
    "# RMSE\n",
    "mse = mean_squared_error(y_test, y_pred)\n",
    "print(\"RMSE :\", np.sqrt(mse))"
   ]
  },
  {
   "cell_type": "code",
   "execution_count": null,
   "id": "2c026c58",
   "metadata": {},
   "outputs": [],
   "source": []
  },
  {
   "cell_type": "markdown",
   "id": "8f9a43ce",
   "metadata": {},
   "source": [
    "# Gradient Boosting"
   ]
  },
  {
   "cell_type": "code",
   "execution_count": 35,
   "id": "57767081",
   "metadata": {},
   "outputs": [
    {
     "name": "stdout",
     "output_type": "stream",
     "text": [
      "[277742.57184738 377770.05864138 277742.57184738 227781.1725756\n",
      " 310860.49487618 227781.1725756  439611.4044323  330761.93500512\n",
      " 227781.1725756  377770.05864138 277742.57184738 377770.05864138\n",
      " 483906.28795753 277742.57184738 522103.68595491 227781.1725756\n",
      " 336914.7083219  277742.57184738 277742.57184738 330761.93500512\n",
      " 277742.57184738 277742.57184738 488770.14463398 483906.28795753\n",
      " 253461.98690893 277742.57184738 277742.57184738 253461.98690893\n",
      " 277742.57184738 466202.03978525 231923.12884141 246166.06901108\n",
      " 277742.57184738 377770.05864138 277742.57184738 227781.1725756\n",
      " 488770.14463398 522103.68595491 227781.1725756  336914.7083219\n",
      " 330761.93500512 488770.14463398 277742.57184738 277742.57184738\n",
      " 310860.49487618 277742.57184738 522103.68595491 227781.1725756\n",
      " 227781.1725756  227781.1725756  277742.57184738 277742.57184738\n",
      " 310860.49487618 330761.93500512 522103.68595491 522103.68595491\n",
      " 277742.57184738 488770.14463398 277742.57184738 277742.57184738\n",
      " 522103.68595491 483906.28795753 277742.57184738 488770.14463398\n",
      " 522103.68595491 277742.57184738 227781.1725756  277742.57184738\n",
      " 227781.1725756  227781.1725756  277742.57184738 330761.93500512\n",
      " 227781.1725756  277742.57184738 227781.1725756  522103.68595491\n",
      " 320828.80038398 277742.57184738 522103.68595491 522103.68595491\n",
      " 330761.93500512 488770.14463398 277742.57184738 227781.1725756\n",
      " 253461.98690893 277742.57184738 522103.68595491 227781.1725756\n",
      " 227781.1725756  377770.05864138 522103.68595491 522103.68595491\n",
      " 488770.14463398 227781.1725756  277742.57184738 253461.98690893\n",
      " 519569.84272285 227781.1725756  277742.57184738 522103.68595491\n",
      " 310860.49487618 231923.12884141 522103.68595491 277742.57184738\n",
      " 227781.1725756  277742.57184738 277742.57184738 522103.68595491\n",
      " 330761.93500512 227781.1725756  277742.57184738 330761.93500512\n",
      " 330761.93500512 483906.28795753 227781.1725756  377770.05864138\n",
      " 522103.68595491 522103.68595491 277742.57184738 377770.05864138\n",
      " 522103.68595491 227781.1725756  377770.05864138 277742.57184738\n",
      " 522103.68595491 483906.28795753 277742.57184738 522103.68595491\n",
      " 277742.57184738 483906.28795753 522103.68595491 488770.14463398\n",
      " 466202.03978525 227781.1725756  231923.12884141 227781.1725756\n",
      " 277742.57184738 377770.05864138 277742.57184738 483906.28795753\n",
      " 227781.1725756  277742.57184738 483906.28795753 488770.14463398\n",
      " 483906.28795753 522103.68595491 336914.7083219  253461.98690893\n",
      " 447364.47800544 377770.05864138 227781.1725756  336914.7083219\n",
      " 277742.57184738 231923.12884141 336914.7083219  522103.68595491\n",
      " 522103.68595491 227781.1725756  227781.1725756  277742.57184738\n",
      " 277742.57184738 246166.06901108 522103.68595491 488770.14463398\n",
      " 522103.68595491 310860.49487618 341780.99124086 330761.93500512\n",
      " 330761.93500512 377770.05864138 227781.1725756  227781.1725756\n",
      " 488770.14463398 488770.14463398 377770.05864138 522103.68595491\n",
      " 330761.93500512 277742.57184738 277742.57184738 513287.96565828\n",
      " 466202.03978525 227781.1725756  277742.57184738 522103.68595491\n",
      " 488770.14463398 522103.68595491 522103.68595491 277742.57184738\n",
      " 277742.57184738 336914.7083219  320828.80038398 277742.57184738\n",
      " 277742.57184738 227781.1725756  377770.05864138 402701.72056199\n",
      " 277742.57184738 277742.57184738 277742.57184738 522103.68595491\n",
      " 447364.47800544 277742.57184738 277742.57184738 277742.57184738\n",
      " 330761.93500512 522103.68595491 483906.28795753 227781.1725756\n",
      " 488770.14463398 277742.57184738 330761.93500512 231923.12884141\n",
      " 483906.28795753 277742.57184738 277742.57184738 522103.68595491\n",
      " 488770.14463398 277742.57184738 522103.68595491 227781.1725756\n",
      " 336914.7083219  522103.68595491 377770.05864138 227781.1725756\n",
      " 277742.57184738 522103.68595491 227781.1725756  227781.1725756\n",
      " 336914.7083219  522103.68595491 488770.14463398 522103.68595491\n",
      " 522103.68595491 522103.68595491 227781.1725756  231923.12884141\n",
      " 336914.7083219  330761.93500512 277742.57184738 277742.57184738\n",
      " 277742.57184738 439611.4044323  336914.7083219  522103.68595491\n",
      " 277742.57184738 522103.68595491 231923.12884141 277742.57184738\n",
      " 377770.05864138 231923.12884141 320828.80038398 447364.47800544\n",
      " 277742.57184738 483906.28795753 377770.05864138 522103.68595491\n",
      " 488770.14463398 227781.1725756  227781.1725756  277742.57184738\n",
      " 227781.1725756  488770.14463398 277742.57184738 231923.12884141\n",
      " 488770.14463398 492722.00825416 231923.12884141 227781.1725756\n",
      " 330761.93500512 227781.1725756  483906.28795753 439611.4044323\n",
      " 488770.14463398 336914.7083219  277742.57184738 377770.05864138\n",
      " 439611.4044323  377770.05864138 277742.57184738 277742.57184738\n",
      " 488770.14463398 377770.05864138 466202.03978525 277742.57184738\n",
      " 277742.57184738 227781.1725756  522103.68595491 486440.13118959\n",
      " 253461.98690893 568472.13785478 277742.57184738 377770.05864138\n",
      " 277742.57184738 330761.93500512 377770.05864138 277742.57184738\n",
      " 363439.26279397 483906.28795753 277742.57184738 277742.57184738\n",
      " 488770.14463398 522103.68595491 277742.57184738 488770.14463398\n",
      " 277742.57184738 522103.68595491 277742.57184738 277742.57184738\n",
      " 522103.68595491 488770.14463398 488770.14463398 522103.68595491\n",
      " 522103.68595491 439611.4044323  447364.47800544 522103.68595491\n",
      " 522103.68595491 488770.14463398 488770.14463398 488770.14463398\n",
      " 330761.93500512 341780.99124086 522103.68595491 320828.80038398\n",
      " 488770.14463398 377770.05864138 227781.1725756  277742.57184738\n",
      " 336914.7083219  277742.57184738 277742.57184738 320828.80038398\n",
      " 277742.57184738 277742.57184738 330761.93500512 277742.57184738\n",
      " 277742.57184738 488770.14463398 522103.68595491 349004.15797828\n",
      " 277742.57184738 447364.47800544 522103.68595491 522103.68595491\n",
      " 519569.84272285 330761.93500512 277742.57184738 277742.57184738\n",
      " 488770.14463398 246166.06901108 336914.7083219  488770.14463398\n",
      " 227781.1725756  277742.57184738 447364.47800544 277742.57184738\n",
      " 483906.28795753 277742.57184738 330761.93500512 522103.68595491\n",
      " 277742.57184738 227781.1725756  377770.05864138 522103.68595491\n",
      " 336914.7083219  330761.93500512 488770.14463398 483906.28795753\n",
      " 522103.68595491 227781.1725756  227781.1725756  231923.12884141\n",
      " 246166.06901108 483906.28795753 227781.1725756  227781.1725756\n",
      " 277742.57184738 231923.12884141 377770.05864138 277742.57184738\n",
      " 277742.57184738 277742.57184738 522103.68595491 253461.98690893\n",
      " 488770.14463398 522103.68595491 227781.1725756  253461.98690893\n",
      " 277742.57184738 277742.57184738 522103.68595491 277742.57184738\n",
      " 488770.14463398 231923.12884141 227781.1725756  277742.57184738\n",
      " 377770.05864138 336914.7083219  439611.4044323  277742.57184738\n",
      " 483906.28795753 488770.14463398 227781.1725756  277742.57184738\n",
      " 277742.57184738 330761.93500512 522103.68595491 492722.00825416\n",
      " 227781.1725756  483906.28795753 447364.47800544 483906.28795753\n",
      " 488770.14463398 227781.1725756  227781.1725756  522103.68595491\n",
      " 330761.93500512 253461.98690893 253461.98690893 522103.68595491\n",
      " 277742.57184738 483906.28795753 227781.1725756  522103.68595491\n",
      " 227781.1725756  522103.68595491 277742.57184738 227781.1725756\n",
      " 277742.57184738 522103.68595491 522103.68595491 277742.57184738\n",
      " 227781.1725756  377770.05864138 466202.03978525 227781.1725756\n",
      " 277742.57184738 277742.57184738 277742.57184738 522103.68595491\n",
      " 522103.68595491 246166.06901108 277742.57184738 336914.7083219\n",
      " 277742.57184738]\n",
      "RMSE : 195544.4502653928\n"
     ]
    }
   ],
   "source": [
    "from sklearn.ensemble import GradientBoostingRegressor\n",
    "\n",
    "model = GradientBoostingRegressor()\n",
    "model.fit(x_train, y_train)\n",
    "\n",
    "# predicting the test set results\n",
    "y_pred = model.predict(x_test)\n",
    "print(y_pred)\n",
    "\n",
    "# Calculating the root mean squared error\n",
    "print(\"RMSE :\", np.sqrt(((y_test - y_pred)**2).sum()/len(y_test)))"
   ]
  },
  {
   "cell_type": "code",
   "execution_count": null,
   "id": "ed319ef1",
   "metadata": {},
   "outputs": [],
   "source": []
  },
  {
   "cell_type": "markdown",
   "id": "a8afad72",
   "metadata": {},
   "source": [
    "# Random Forest "
   ]
  },
  {
   "cell_type": "code",
   "execution_count": 36,
   "id": "701ff682",
   "metadata": {},
   "outputs": [
    {
     "name": "stdout",
     "output_type": "stream",
     "text": [
      "[163061. 311000. 185139. 200355. 299806. 354938. 281007. 298227. 154769.\n",
      " 275765. 289739. 466824. 368621. 186685. 488484. 160880. 371150. 179175.\n",
      " 162321. 258444. 217172. 183467. 529510. 388359. 189480. 200555. 187247.\n",
      " 186656. 193063. 505034. 169248. 176066. 185544. 275246. 178179. 227623.\n",
      " 499940. 484288. 161572. 332199. 274374. 654573. 229658. 250039. 268414.\n",
      " 214092. 555655. 198865. 231630. 154153. 227213. 259242. 235106. 282506.\n",
      " 549362. 578247. 238753. 404753. 224220. 171034. 605433. 405372. 231366.\n",
      " 450277. 489679. 186102. 155395. 194082. 154205. 221439. 215340. 274409.\n",
      " 154847. 213020. 234485. 515968. 307996. 180437. 491847. 562288. 276174.\n",
      " 469444. 166870. 167237. 202689. 189115. 525896. 163506. 163872. 282791.\n",
      " 534206. 518063. 458863. 154337. 202536. 187749. 556303. 153622. 219359.\n",
      " 545020. 213802. 168633. 500238. 285795. 163433. 208396. 266036. 564119.\n",
      " 273246. 245613. 227477. 340070. 265465. 474428. 210047. 284452. 583395.\n",
      " 512305. 188017. 420582. 619514. 152505. 260737. 191132. 533561. 379247.\n",
      " 203111. 562107. 164440. 391254. 512500. 378722. 536919. 175293. 177446.\n",
      " 231036. 233094. 297585. 180310. 490005. 156834. 205646. 447608. 618066.\n",
      " 345638. 513610. 333939. 179493. 460783. 264240. 182197. 360374. 200283.\n",
      " 176261. 323151. 557019. 588148. 159973. 178943. 192851. 186252. 193131.\n",
      " 548103. 417216. 494198. 243735. 329705. 349148. 280495. 253652. 169096.\n",
      " 170393. 756507. 534951. 287644. 504626. 331219. 271755. 175631. 477285.\n",
      " 431808. 196769. 233364. 569374. 366197. 498465. 494131. 228679. 260709.\n",
      " 321003. 352011. 257343. 184086. 182239. 435992. 512331. 256015. 207779.\n",
      " 199233. 580749. 511503. 183182. 248607. 309891. 347757. 471106. 389272.\n",
      " 245695. 447013. 195155. 327357. 168775. 397898. 225204. 255209. 538292.\n",
      " 431536. 260836. 567845. 158596. 332890. 590889. 295114. 169524. 228919.\n",
      " 547245. 154339. 160406. 324153. 500837. 371337. 505535. 583489. 483093.\n",
      " 169258. 182462. 331333. 254037. 213428. 230886. 197898. 295869. 339012.\n",
      " 605655. 228833. 579937. 167985. 199239. 322262. 169622. 300999. 476677.\n",
      " 172061. 383401. 436046. 477593. 292072. 209371. 200465. 182656. 154642.\n",
      " 526495. 224544. 180993. 589377. 498411. 173108. 169320. 257906. 161163.\n",
      " 457946. 312697. 397236. 365628. 270878. 328711. 340492. 309111. 253041.\n",
      " 211320. 465666. 415174. 563235. 174473. 188270. 153612. 575665. 546389.\n",
      " 186293. 293306. 242498. 301732. 177680. 279884. 292982. 214300. 381152.\n",
      " 420085. 277558. 296250. 300187. 515207. 182065. 498672. 209075. 511502.\n",
      " 185496. 197351. 502104. 368646. 445021. 584864. 528842. 280812. 539059.\n",
      " 523178. 513745. 444799. 440763. 386972. 305368. 315309. 585749. 297347.\n",
      " 405796. 420872. 172684. 242460. 338898. 166468. 208681. 276913. 159033.\n",
      " 190423. 325692. 268801. 178107. 450257. 475873. 350196. 186640. 431335.\n",
      " 553930. 600678. 504795. 239336. 256560. 187326. 449681. 186955. 345836.\n",
      " 365966. 171464. 230535. 448426. 208496. 381266. 184206. 279659. 520538.\n",
      " 181720. 154354. 217607. 518987. 326192. 256037. 542078. 333215. 609519.\n",
      " 163250. 154891. 169532. 162488. 345452. 166075. 154847. 197004. 179945.\n",
      " 253761. 168207. 188220. 194497. 551598. 189506. 484443. 535472. 156420.\n",
      " 187060. 215110. 201812. 525588. 257550. 499998. 169351. 226208. 168541.\n",
      " 260964. 328711. 273449. 263562. 409317. 461152. 183631. 189280. 174382.\n",
      " 347902. 486204. 501465. 158230. 428622. 467866. 419395. 477016. 169667.\n",
      " 171534. 533250. 273203. 188115. 190252. 595349. 247735. 387013. 220997.\n",
      " 527091. 175444. 489402. 178564. 185181. 186418. 483552. 523641. 186427.\n",
      " 173971. 458797. 477998. 171039. 228986. 175804. 219741. 500729. 549663.\n",
      " 191877. 187765. 349417. 189840.]\n",
      "RMSE : 201017.28342936424\n",
      "Variance score: 0.25\n",
      "Result : 0.9014587405977297\n"
     ]
    }
   ],
   "source": [
    "from sklearn.ensemble import RandomForestRegressor\n",
    "\n",
    "model = RandomForestRegressor(n_estimators = 100 , n_jobs = -1)\n",
    "model.fit(x_train, y_train)\n",
    "\n",
    "# predicting the  test set results\n",
    "y_pred = model.predict(x_test)\n",
    "print(y_pred)\n",
    "\n",
    "# finding the mean squared error and variance\n",
    "mse = mean_squared_error(y_test, y_pred)\n",
    "print(\"RMSE :\",np.sqrt(mse))\n",
    "print('Variance score: %.2f' % r2_score(y_test, y_pred))\n",
    "\n",
    "print(\"Result :\",model.score(x_train, y_train))"
   ]
  },
  {
   "cell_type": "markdown",
   "id": "66717efe",
   "metadata": {},
   "source": [
    "Here we are getting 90% accuracy for this model prediction"
   ]
  },
  {
   "cell_type": "code",
   "execution_count": null,
   "id": "9ae6f8c9",
   "metadata": {},
   "outputs": [],
   "source": []
  },
  {
   "cell_type": "markdown",
   "id": "23f9b089",
   "metadata": {},
   "source": [
    "# For TEST Data"
   ]
  },
  {
   "cell_type": "markdown",
   "id": "0eb8c393",
   "metadata": {},
   "source": [
    "# Label Encoding"
   ]
  },
  {
   "cell_type": "code",
   "execution_count": 37,
   "id": "79f513d1",
   "metadata": {},
   "outputs": [
    {
     "data": {
      "text/html": [
       "<div>\n",
       "<style scoped>\n",
       "    .dataframe tbody tr th:only-of-type {\n",
       "        vertical-align: middle;\n",
       "    }\n",
       "\n",
       "    .dataframe tbody tr th {\n",
       "        vertical-align: top;\n",
       "    }\n",
       "\n",
       "    .dataframe thead th {\n",
       "        text-align: right;\n",
       "    }\n",
       "</style>\n",
       "<table border=\"1\" class=\"dataframe\">\n",
       "  <thead>\n",
       "    <tr style=\"text-align: right;\">\n",
       "      <th></th>\n",
       "      <th>Date</th>\n",
       "      <th>Open</th>\n",
       "      <th>High</th>\n",
       "      <th>Low</th>\n",
       "      <th>Close</th>\n",
       "      <th>Adj Close</th>\n",
       "      <th>Volume</th>\n",
       "    </tr>\n",
       "  </thead>\n",
       "  <tbody>\n",
       "    <tr>\n",
       "      <th>0</th>\n",
       "      <td>0</td>\n",
       "      <td>4</td>\n",
       "      <td>6</td>\n",
       "      <td>6</td>\n",
       "      <td>8</td>\n",
       "      <td>8</td>\n",
       "      <td>0</td>\n",
       "    </tr>\n",
       "    <tr>\n",
       "      <th>1</th>\n",
       "      <td>1</td>\n",
       "      <td>8</td>\n",
       "      <td>11</td>\n",
       "      <td>9</td>\n",
       "      <td>12</td>\n",
       "      <td>12</td>\n",
       "      <td>9</td>\n",
       "    </tr>\n",
       "    <tr>\n",
       "      <th>2</th>\n",
       "      <td>2</td>\n",
       "      <td>13</td>\n",
       "      <td>14</td>\n",
       "      <td>14</td>\n",
       "      <td>14</td>\n",
       "      <td>14</td>\n",
       "      <td>10</td>\n",
       "    </tr>\n",
       "    <tr>\n",
       "      <th>3</th>\n",
       "      <td>3</td>\n",
       "      <td>11</td>\n",
       "      <td>10</td>\n",
       "      <td>11</td>\n",
       "      <td>9</td>\n",
       "      <td>9</td>\n",
       "      <td>6</td>\n",
       "    </tr>\n",
       "    <tr>\n",
       "      <th>4</th>\n",
       "      <td>4</td>\n",
       "      <td>12</td>\n",
       "      <td>12</td>\n",
       "      <td>13</td>\n",
       "      <td>13</td>\n",
       "      <td>13</td>\n",
       "      <td>7</td>\n",
       "    </tr>\n",
       "    <tr>\n",
       "      <th>5</th>\n",
       "      <td>5</td>\n",
       "      <td>14</td>\n",
       "      <td>15</td>\n",
       "      <td>15</td>\n",
       "      <td>16</td>\n",
       "      <td>16</td>\n",
       "      <td>5</td>\n",
       "    </tr>\n",
       "    <tr>\n",
       "      <th>6</th>\n",
       "      <td>6</td>\n",
       "      <td>16</td>\n",
       "      <td>16</td>\n",
       "      <td>17</td>\n",
       "      <td>17</td>\n",
       "      <td>17</td>\n",
       "      <td>1</td>\n",
       "    </tr>\n",
       "    <tr>\n",
       "      <th>7</th>\n",
       "      <td>7</td>\n",
       "      <td>18</td>\n",
       "      <td>18</td>\n",
       "      <td>20</td>\n",
       "      <td>19</td>\n",
       "      <td>19</td>\n",
       "      <td>8</td>\n",
       "    </tr>\n",
       "    <tr>\n",
       "      <th>8</th>\n",
       "      <td>8</td>\n",
       "      <td>21</td>\n",
       "      <td>19</td>\n",
       "      <td>21</td>\n",
       "      <td>21</td>\n",
       "      <td>21</td>\n",
       "      <td>16</td>\n",
       "    </tr>\n",
       "    <tr>\n",
       "      <th>9</th>\n",
       "      <td>9</td>\n",
       "      <td>19</td>\n",
       "      <td>20</td>\n",
       "      <td>19</td>\n",
       "      <td>20</td>\n",
       "      <td>20</td>\n",
       "      <td>4</td>\n",
       "    </tr>\n",
       "    <tr>\n",
       "      <th>10</th>\n",
       "      <td>10</td>\n",
       "      <td>20</td>\n",
       "      <td>21</td>\n",
       "      <td>22</td>\n",
       "      <td>22</td>\n",
       "      <td>22</td>\n",
       "      <td>12</td>\n",
       "    </tr>\n",
       "    <tr>\n",
       "      <th>11</th>\n",
       "      <td>11</td>\n",
       "      <td>22</td>\n",
       "      <td>22</td>\n",
       "      <td>18</td>\n",
       "      <td>18</td>\n",
       "      <td>18</td>\n",
       "      <td>3</td>\n",
       "    </tr>\n",
       "    <tr>\n",
       "      <th>12</th>\n",
       "      <td>12</td>\n",
       "      <td>17</td>\n",
       "      <td>17</td>\n",
       "      <td>16</td>\n",
       "      <td>15</td>\n",
       "      <td>15</td>\n",
       "      <td>14</td>\n",
       "    </tr>\n",
       "    <tr>\n",
       "      <th>13</th>\n",
       "      <td>13</td>\n",
       "      <td>15</td>\n",
       "      <td>13</td>\n",
       "      <td>10</td>\n",
       "      <td>10</td>\n",
       "      <td>10</td>\n",
       "      <td>11</td>\n",
       "    </tr>\n",
       "    <tr>\n",
       "      <th>14</th>\n",
       "      <td>14</td>\n",
       "      <td>7</td>\n",
       "      <td>7</td>\n",
       "      <td>7</td>\n",
       "      <td>7</td>\n",
       "      <td>7</td>\n",
       "      <td>15</td>\n",
       "    </tr>\n",
       "    <tr>\n",
       "      <th>15</th>\n",
       "      <td>15</td>\n",
       "      <td>6</td>\n",
       "      <td>4</td>\n",
       "      <td>2</td>\n",
       "      <td>2</td>\n",
       "      <td>2</td>\n",
       "      <td>18</td>\n",
       "    </tr>\n",
       "    <tr>\n",
       "      <th>16</th>\n",
       "      <td>16</td>\n",
       "      <td>0</td>\n",
       "      <td>1</td>\n",
       "      <td>0</td>\n",
       "      <td>3</td>\n",
       "      <td>3</td>\n",
       "      <td>19</td>\n",
       "    </tr>\n",
       "    <tr>\n",
       "      <th>17</th>\n",
       "      <td>17</td>\n",
       "      <td>1</td>\n",
       "      <td>0</td>\n",
       "      <td>1</td>\n",
       "      <td>1</td>\n",
       "      <td>1</td>\n",
       "      <td>22</td>\n",
       "    </tr>\n",
       "    <tr>\n",
       "      <th>18</th>\n",
       "      <td>18</td>\n",
       "      <td>2</td>\n",
       "      <td>2</td>\n",
       "      <td>3</td>\n",
       "      <td>0</td>\n",
       "      <td>0</td>\n",
       "      <td>20</td>\n",
       "    </tr>\n",
       "    <tr>\n",
       "      <th>19</th>\n",
       "      <td>19</td>\n",
       "      <td>3</td>\n",
       "      <td>3</td>\n",
       "      <td>5</td>\n",
       "      <td>4</td>\n",
       "      <td>4</td>\n",
       "      <td>17</td>\n",
       "    </tr>\n",
       "    <tr>\n",
       "      <th>20</th>\n",
       "      <td>20</td>\n",
       "      <td>5</td>\n",
       "      <td>5</td>\n",
       "      <td>4</td>\n",
       "      <td>6</td>\n",
       "      <td>6</td>\n",
       "      <td>21</td>\n",
       "    </tr>\n",
       "    <tr>\n",
       "      <th>21</th>\n",
       "      <td>21</td>\n",
       "      <td>9</td>\n",
       "      <td>9</td>\n",
       "      <td>12</td>\n",
       "      <td>11</td>\n",
       "      <td>11</td>\n",
       "      <td>13</td>\n",
       "    </tr>\n",
       "    <tr>\n",
       "      <th>22</th>\n",
       "      <td>22</td>\n",
       "      <td>10</td>\n",
       "      <td>8</td>\n",
       "      <td>8</td>\n",
       "      <td>5</td>\n",
       "      <td>5</td>\n",
       "      <td>2</td>\n",
       "    </tr>\n",
       "  </tbody>\n",
       "</table>\n",
       "</div>"
      ],
      "text/plain": [
       "    Date  Open  High  Low  Close  Adj Close  Volume\n",
       "0      0     4     6    6      8          8       0\n",
       "1      1     8    11    9     12         12       9\n",
       "2      2    13    14   14     14         14      10\n",
       "3      3    11    10   11      9          9       6\n",
       "4      4    12    12   13     13         13       7\n",
       "5      5    14    15   15     16         16       5\n",
       "6      6    16    16   17     17         17       1\n",
       "7      7    18    18   20     19         19       8\n",
       "8      8    21    19   21     21         21      16\n",
       "9      9    19    20   19     20         20       4\n",
       "10    10    20    21   22     22         22      12\n",
       "11    11    22    22   18     18         18       3\n",
       "12    12    17    17   16     15         15      14\n",
       "13    13    15    13   10     10         10      11\n",
       "14    14     7     7    7      7          7      15\n",
       "15    15     6     4    2      2          2      18\n",
       "16    16     0     1    0      3          3      19\n",
       "17    17     1     0    1      1          1      22\n",
       "18    18     2     2    3      0          0      20\n",
       "19    19     3     3    5      4          4      17\n",
       "20    20     5     5    4      6          6      21\n",
       "21    21     9     9   12     11         11      13\n",
       "22    22    10     8    8      5          5       2"
      ]
     },
     "execution_count": 37,
     "metadata": {},
     "output_type": "execute_result"
    }
   ],
   "source": [
    "from sklearn.preprocessing import LabelEncoder\n",
    "df_test.apply(LabelEncoder().fit_transform)"
   ]
  },
  {
   "cell_type": "code",
   "execution_count": 38,
   "id": "58546fa3",
   "metadata": {},
   "outputs": [
    {
     "name": "stdout",
     "output_type": "stream",
     "text": [
      "(23, 29)\n"
     ]
    }
   ],
   "source": [
    "df_test = pd.get_dummies(df_test)\n",
    "print(df_test.shape)"
   ]
  },
  {
   "cell_type": "code",
   "execution_count": 39,
   "id": "85e30bd8",
   "metadata": {},
   "outputs": [
    {
     "name": "stdout",
     "output_type": "stream",
     "text": [
      "(23, 28)\n",
      "(23,)\n"
     ]
    }
   ],
   "source": [
    "# splitting the data into dependent and independent variables\n",
    "x = df_test.drop('Volume', axis = 1)\n",
    "y = df_test.Volume\n",
    "print(x.shape)\n",
    "print(y.shape)"
   ]
  },
  {
   "cell_type": "code",
   "execution_count": 40,
   "id": "d16835c5",
   "metadata": {},
   "outputs": [
    {
     "name": "stdout",
     "output_type": "stream",
     "text": [
      "(23, 29)\n",
      "(0, 29)\n"
     ]
    }
   ],
   "source": [
    "# splitting the dataset into train and test\n",
    "train = df_test.iloc[:8523,:]\n",
    "test = df_test.iloc[8523:,:]\n",
    "print(train.shape)\n",
    "print(test.shape)"
   ]
  },
  {
   "cell_type": "code",
   "execution_count": null,
   "id": "89568f25",
   "metadata": {},
   "outputs": [],
   "source": []
  },
  {
   "cell_type": "markdown",
   "id": "2c1ba021",
   "metadata": {},
   "source": [
    "# Training and Testing"
   ]
  },
  {
   "cell_type": "code",
   "execution_count": 41,
   "id": "63a02d9f",
   "metadata": {},
   "outputs": [
    {
     "name": "stdout",
     "output_type": "stream",
     "text": [
      "(16, 28)\n",
      "(16,)\n",
      "(7, 28)\n",
      "(7,)\n"
     ]
    }
   ],
   "source": [
    "# making x_train, x_test, y_train, y_test\n",
    "from sklearn.model_selection import train_test_split\n",
    "x_train, x_test, y_train, y_test = train_test_split(x, y, test_size = 0.3)\n",
    "print(x_train.shape)\n",
    "print(y_train.shape)\n",
    "print(x_test.shape)\n",
    "print(y_test.shape)"
   ]
  },
  {
   "cell_type": "code",
   "execution_count": null,
   "id": "89f8a845",
   "metadata": {},
   "outputs": [],
   "source": []
  },
  {
   "cell_type": "markdown",
   "id": "5f86770e",
   "metadata": {},
   "source": [
    "# Linear Regression"
   ]
  },
  {
   "cell_type": "code",
   "execution_count": 42,
   "id": "45e37eaa",
   "metadata": {},
   "outputs": [
    {
     "name": "stdout",
     "output_type": "stream",
     "text": [
      "[343062.98504282 256174.73867238 201274.7083781  363443.96025873\n",
      " 240987.9082863  268414.68630177 212980.65071846]\n",
      "RMSE : 31384.907043173604\n",
      "Variance score: 0.68\n"
     ]
    }
   ],
   "source": [
    "from sklearn.linear_model import LinearRegression\n",
    "from sklearn.metrics import mean_squared_error\n",
    "from sklearn.metrics import r2_score\n",
    "\n",
    "model = LinearRegression()\n",
    "model.fit(x_train, y_train)\n",
    "\n",
    "# predicting the  test set results\n",
    "y_pred = model.predict(x_test)\n",
    "print(y_pred)\n",
    "\n",
    "# finding the mean squared error and variance\n",
    "mse = mean_squared_error(y_test, y_pred)\n",
    "print('RMSE :', np.sqrt(mse))\n",
    "print('Variance score: %.2f' % r2_score(y_test, y_pred))"
   ]
  },
  {
   "cell_type": "code",
   "execution_count": null,
   "id": "28874301",
   "metadata": {},
   "outputs": [],
   "source": []
  },
  {
   "cell_type": "markdown",
   "id": "872e4443",
   "metadata": {},
   "source": [
    "# ADA BOOST"
   ]
  },
  {
   "cell_type": "code",
   "execution_count": 43,
   "id": "81c343a7",
   "metadata": {},
   "outputs": [
    {
     "name": "stdout",
     "output_type": "stream",
     "text": [
      "RMSE : 30227.843693452007\n"
     ]
    }
   ],
   "source": [
    "from sklearn.ensemble import AdaBoostRegressor\n",
    "\n",
    "model= AdaBoostRegressor(n_estimators = 100)\n",
    "model.fit(x_train, y_train)\n",
    "\n",
    "# predicting the test set results\n",
    "y_pred = model.predict(x_test)\n",
    "\n",
    "# RMSE\n",
    "mse = mean_squared_error(y_test, y_pred)\n",
    "print(\"RMSE :\", np.sqrt(mse))"
   ]
  },
  {
   "cell_type": "code",
   "execution_count": null,
   "id": "422e1a6c",
   "metadata": {},
   "outputs": [],
   "source": []
  },
  {
   "cell_type": "markdown",
   "id": "ab055273",
   "metadata": {},
   "source": [
    "# Gradient Boosting"
   ]
  },
  {
   "cell_type": "code",
   "execution_count": 44,
   "id": "8412e919",
   "metadata": {},
   "outputs": [
    {
     "name": "stdout",
     "output_type": "stream",
     "text": [
      "[356772.50744312 242586.07502681 280838.59030788 343882.41426733\n",
      " 241757.23266142 262636.39231458 258988.54602673]\n",
      "RMSE : 30035.29907741232\n"
     ]
    }
   ],
   "source": [
    "from sklearn.ensemble import GradientBoostingRegressor\n",
    "\n",
    "model = GradientBoostingRegressor()\n",
    "model.fit(x_train, y_train)\n",
    "\n",
    "# predicting the test set results\n",
    "y_pred = model.predict(x_test)\n",
    "print(y_pred)\n",
    "\n",
    "# Calculating the root mean squared error\n",
    "print(\"RMSE :\", np.sqrt(((y_test - y_pred)**2).sum()/len(y_test)))"
   ]
  },
  {
   "cell_type": "code",
   "execution_count": null,
   "id": "d21a871d",
   "metadata": {},
   "outputs": [],
   "source": []
  },
  {
   "cell_type": "markdown",
   "id": "63ceb010",
   "metadata": {},
   "source": [
    "# Random Forest "
   ]
  },
  {
   "cell_type": "code",
   "execution_count": 45,
   "id": "24e197c4",
   "metadata": {},
   "outputs": [
    {
     "name": "stdout",
     "output_type": "stream",
     "text": [
      "[328703. 234893. 273620. 340930. 233962. 250072. 263181.]\n",
      "RMSE : 29161.004164074027\n",
      "Variance score: 0.72\n",
      "Result : 0.8309391910294334\n"
     ]
    }
   ],
   "source": [
    "from sklearn.ensemble import RandomForestRegressor\n",
    "\n",
    "model = RandomForestRegressor(n_estimators = 100 , n_jobs = -1)\n",
    "model.fit(x_train, y_train)\n",
    "\n",
    "# predicting the  test set results\n",
    "y_pred = model.predict(x_test)\n",
    "print(y_pred)\n",
    "\n",
    "# finding the mean squared error and variance\n",
    "mse = mean_squared_error(y_test, y_pred)\n",
    "print(\"RMSE :\",np.sqrt(mse))\n",
    "print('Variance score: %.2f' % r2_score(y_test, y_pred))\n",
    "\n",
    "print(\"Result :\",model.score(x_train, y_train))"
   ]
  },
  {
   "cell_type": "markdown",
   "id": "1d166dc3",
   "metadata": {},
   "source": [
    "Here we are getting 83% accuracy for this model prediction"
   ]
  },
  {
   "cell_type": "code",
   "execution_count": null,
   "id": "d1b8887a",
   "metadata": {},
   "outputs": [],
   "source": []
  }
 ],
 "metadata": {
  "kernelspec": {
   "display_name": "Python 3 (ipykernel)",
   "language": "python",
   "name": "python3"
  },
  "language_info": {
   "codemirror_mode": {
    "name": "ipython",
    "version": 3
   },
   "file_extension": ".py",
   "mimetype": "text/x-python",
   "name": "python",
   "nbconvert_exporter": "python",
   "pygments_lexer": "ipython3",
   "version": "3.9.7"
  }
 },
 "nbformat": 4,
 "nbformat_minor": 5
}
