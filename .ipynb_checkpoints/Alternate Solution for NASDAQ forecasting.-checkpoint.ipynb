{
 "cells": [
  {
   "cell_type": "code",
   "execution_count": 1,
   "metadata": {
    "ExecuteTime": {
     "end_time": "2022-02-08T05:48:44.458395Z",
     "start_time": "2022-02-08T05:48:41.718596Z"
    }
   },
   "outputs": [
    {
     "name": "stdout",
     "output_type": "stream",
     "text": [
      "Requirement already satisfied: pmdarima in c:\\users\\acer\\anaconda3\\lib\\site-packages (1.8.4)\n",
      "Requirement already satisfied: numpy>=1.19.3 in c:\\users\\acer\\anaconda3\\lib\\site-packages (from pmdarima) (1.21.5)\n",
      "Requirement already satisfied: urllib3 in c:\\users\\acer\\anaconda3\\lib\\site-packages (from pmdarima) (1.25.8)\n",
      "Requirement already satisfied: setuptools!=50.0.0,>=38.6.0 in c:\\users\\acer\\anaconda3\\lib\\site-packages (from pmdarima) (45.2.0.post20200210)\n",
      "Requirement already satisfied: scikit-learn>=0.22 in c:\\users\\acer\\anaconda3\\lib\\site-packages (from pmdarima) (0.22.1)\n",
      "Requirement already satisfied: Cython!=0.29.18,>=0.29 in c:\\users\\acer\\anaconda3\\lib\\site-packages (from pmdarima) (0.29.15)\n",
      "Requirement already satisfied: statsmodels!=0.12.0,>=0.11 in c:\\users\\acer\\anaconda3\\lib\\site-packages (from pmdarima) (0.11.0)\n",
      "Requirement already satisfied: joblib>=0.11 in c:\\users\\acer\\anaconda3\\lib\\site-packages (from pmdarima) (0.14.1)\n",
      "Requirement already satisfied: pandas>=0.19 in c:\\users\\acer\\anaconda3\\lib\\site-packages (from pmdarima) (1.0.1)\n",
      "Requirement already satisfied: scipy>=1.3.2 in c:\\users\\acer\\anaconda3\\lib\\site-packages (from pmdarima) (1.4.1)\n",
      "Requirement already satisfied: patsy>=0.5 in c:\\users\\acer\\anaconda3\\lib\\site-packages (from statsmodels!=0.12.0,>=0.11->pmdarima) (0.5.1)\n",
      "Requirement already satisfied: python-dateutil>=2.6.1 in c:\\users\\acer\\anaconda3\\lib\\site-packages (from pandas>=0.19->pmdarima) (2.8.1)\n",
      "Requirement already satisfied: pytz>=2017.2 in c:\\users\\acer\\anaconda3\\lib\\site-packages (from pandas>=0.19->pmdarima) (2019.3)\n",
      "Requirement already satisfied: six in c:\\users\\acer\\anaconda3\\lib\\site-packages (from patsy>=0.5->statsmodels!=0.12.0,>=0.11->pmdarima) (1.14.0)\n"
     ]
    }
   ],
   "source": [
    "!pip install pmdarima"
   ]
  },
  {
   "cell_type": "code",
   "execution_count": 2,
   "metadata": {
    "ExecuteTime": {
     "end_time": "2022-02-08T05:48:44.474321Z",
     "start_time": "2022-02-08T05:48:44.460361Z"
    }
   },
   "outputs": [],
   "source": [
    "# suppress warnings \n",
    "from warnings import filterwarnings\n",
    "filterwarnings('ignore')"
   ]
  },
  {
   "cell_type": "code",
   "execution_count": 3,
   "metadata": {
    "ExecuteTime": {
     "end_time": "2022-02-08T05:48:46.990908Z",
     "start_time": "2022-02-08T05:48:44.477314Z"
    }
   },
   "outputs": [],
   "source": [
    "import os\n",
    "import numpy as np\n",
    "import pandas as pd\n",
    "import matplotlib.pyplot as plt\n",
    "from statsmodels.tsa.stattools import adfuller\n",
    "from statsmodels.tsa.seasonal import seasonal_decompose\n",
    "from statsmodels.tsa.arima_model import ARIMA\n",
    "from pmdarima.arima import auto_arima\n",
    "from sklearn.metrics import mean_squared_error, mean_absolute_error\n",
    "import math\n",
    "import itertools\n",
    "import statsmodels.api as sm\n",
    "import seaborn as sns\n",
    "sns.set()"
   ]
  },
  {
   "cell_type": "code",
   "execution_count": 4,
   "metadata": {
    "ExecuteTime": {
     "end_time": "2022-02-08T05:48:47.005963Z",
     "start_time": "2022-02-08T05:48:46.990908Z"
    }
   },
   "outputs": [],
   "source": [
    "# display all columns of the dataframe\n",
    "pd.options.display.max_columns = None\n",
    "\n",
    "# display all rows of the dataframe\n",
    "pd.options.display.max_rows = 50 # None\n",
    "\n",
    "# returns an output value upto 6 decimals\n",
    "pd.options.display.float_format = '{:.2f}'.format"
   ]
  },
  {
   "cell_type": "markdown",
   "metadata": {},
   "source": [
    "Loading the data"
   ]
  },
  {
   "cell_type": "code",
   "execution_count": 14,
   "metadata": {
    "ExecuteTime": {
     "end_time": "2022-02-08T05:49:22.499071Z",
     "start_time": "2022-02-08T05:49:22.436997Z"
    }
   },
   "outputs": [
    {
     "data": {
      "text/html": [
       "<div>\n",
       "<style scoped>\n",
       "    .dataframe tbody tr th:only-of-type {\n",
       "        vertical-align: middle;\n",
       "    }\n",
       "\n",
       "    .dataframe tbody tr th {\n",
       "        vertical-align: top;\n",
       "    }\n",
       "\n",
       "    .dataframe thead th {\n",
       "        text-align: right;\n",
       "    }\n",
       "</style>\n",
       "<table border=\"1\" class=\"dataframe\">\n",
       "  <thead>\n",
       "    <tr style=\"text-align: right;\">\n",
       "      <th></th>\n",
       "      <th>Open</th>\n",
       "      <th>High</th>\n",
       "      <th>Low</th>\n",
       "      <th>Close</th>\n",
       "      <th>Adj Close</th>\n",
       "      <th>Volume</th>\n",
       "    </tr>\n",
       "    <tr>\n",
       "      <th>Date</th>\n",
       "      <th></th>\n",
       "      <th></th>\n",
       "      <th></th>\n",
       "      <th></th>\n",
       "      <th></th>\n",
       "      <th></th>\n",
       "    </tr>\n",
       "  </thead>\n",
       "  <tbody>\n",
       "    <tr>\n",
       "      <th>2016-01-04</th>\n",
       "      <td>4897.65</td>\n",
       "      <td>4903.09</td>\n",
       "      <td>4846.98</td>\n",
       "      <td>4903.09</td>\n",
       "      <td>4903.09</td>\n",
       "      <td>2218420000</td>\n",
       "    </tr>\n",
       "    <tr>\n",
       "      <th>2016-01-05</th>\n",
       "      <td>4917.84</td>\n",
       "      <td>4926.73</td>\n",
       "      <td>4872.74</td>\n",
       "      <td>4891.43</td>\n",
       "      <td>4891.43</td>\n",
       "      <td>1927380000</td>\n",
       "    </tr>\n",
       "    <tr>\n",
       "      <th>2016-01-06</th>\n",
       "      <td>4813.76</td>\n",
       "      <td>4866.04</td>\n",
       "      <td>4804.69</td>\n",
       "      <td>4835.76</td>\n",
       "      <td>4835.76</td>\n",
       "      <td>2168620000</td>\n",
       "    </tr>\n",
       "    <tr>\n",
       "      <th>2016-01-07</th>\n",
       "      <td>4736.40</td>\n",
       "      <td>4788.02</td>\n",
       "      <td>4688.17</td>\n",
       "      <td>4689.43</td>\n",
       "      <td>4689.43</td>\n",
       "      <td>2552590000</td>\n",
       "    </tr>\n",
       "    <tr>\n",
       "      <th>2016-01-08</th>\n",
       "      <td>4722.02</td>\n",
       "      <td>4742.57</td>\n",
       "      <td>4637.85</td>\n",
       "      <td>4643.63</td>\n",
       "      <td>4643.63</td>\n",
       "      <td>2288750000</td>\n",
       "    </tr>\n",
       "  </tbody>\n",
       "</table>\n",
       "</div>"
      ],
      "text/plain": [
       "              Open    High     Low   Close  Adj Close      Volume\n",
       "Date                                                             \n",
       "2016-01-04 4897.65 4903.09 4846.98 4903.09    4903.09  2218420000\n",
       "2016-01-05 4917.84 4926.73 4872.74 4891.43    4891.43  1927380000\n",
       "2016-01-06 4813.76 4866.04 4804.69 4835.76    4835.76  2168620000\n",
       "2016-01-07 4736.40 4788.02 4688.17 4689.43    4689.43  2552590000\n",
       "2016-01-08 4722.02 4742.57 4637.85 4643.63    4643.63  2288750000"
      ]
     },
     "execution_count": 14,
     "metadata": {},
     "output_type": "execute_result"
    }
   ],
   "source": [
    "dateparse = lambda dates: pd.datetime.strptime(dates, '%Y-%m-%d')\n",
    "\n",
    "nasdaq = pd.read_csv(\"NASDAQ Data/NASDAQ Training Data - 1st Jan 2016 to 1st Jan 2022.csv\", index_col='Date', parse_dates=['Date'], date_parser=dateparse)\n",
    "nasdaq.head()"
   ]
  },
  {
   "cell_type": "markdown",
   "metadata": {},
   "source": [
    "Summarizing Data"
   ]
  },
  {
   "cell_type": "code",
   "execution_count": 15,
   "metadata": {
    "ExecuteTime": {
     "end_time": "2022-02-08T05:49:24.841776Z",
     "start_time": "2022-02-08T05:49:24.833825Z"
    }
   },
   "outputs": [
    {
     "data": {
      "text/plain": [
       "(1259, 6)"
      ]
     },
     "execution_count": 15,
     "metadata": {},
     "output_type": "execute_result"
    }
   ],
   "source": [
    "nasdaq.shape"
   ]
  },
  {
   "cell_type": "code",
   "execution_count": 16,
   "metadata": {
    "ExecuteTime": {
     "end_time": "2022-02-08T05:49:25.106420Z",
     "start_time": "2022-02-08T05:49:25.071091Z"
    }
   },
   "outputs": [
    {
     "data": {
      "text/html": [
       "<div>\n",
       "<style scoped>\n",
       "    .dataframe tbody tr th:only-of-type {\n",
       "        vertical-align: middle;\n",
       "    }\n",
       "\n",
       "    .dataframe tbody tr th {\n",
       "        vertical-align: top;\n",
       "    }\n",
       "\n",
       "    .dataframe thead th {\n",
       "        text-align: right;\n",
       "    }\n",
       "</style>\n",
       "<table border=\"1\" class=\"dataframe\">\n",
       "  <thead>\n",
       "    <tr style=\"text-align: right;\">\n",
       "      <th></th>\n",
       "      <th>Open</th>\n",
       "      <th>High</th>\n",
       "      <th>Low</th>\n",
       "      <th>Close</th>\n",
       "      <th>Adj Close</th>\n",
       "      <th>Volume</th>\n",
       "    </tr>\n",
       "  </thead>\n",
       "  <tbody>\n",
       "    <tr>\n",
       "      <th>count</th>\n",
       "      <td>1259.00</td>\n",
       "      <td>1259.00</td>\n",
       "      <td>1259.00</td>\n",
       "      <td>1259.00</td>\n",
       "      <td>1259.00</td>\n",
       "      <td>1259.00</td>\n",
       "    </tr>\n",
       "    <tr>\n",
       "      <th>mean</th>\n",
       "      <td>7359.16</td>\n",
       "      <td>7404.31</td>\n",
       "      <td>7309.73</td>\n",
       "      <td>7361.23</td>\n",
       "      <td>7361.23</td>\n",
       "      <td>2432290293.88</td>\n",
       "    </tr>\n",
       "    <tr>\n",
       "      <th>std</th>\n",
       "      <td>1903.79</td>\n",
       "      <td>1920.19</td>\n",
       "      <td>1883.79</td>\n",
       "      <td>1904.01</td>\n",
       "      <td>1904.01</td>\n",
       "      <td>958291546.79</td>\n",
       "    </tr>\n",
       "    <tr>\n",
       "      <th>min</th>\n",
       "      <td>4218.81</td>\n",
       "      <td>4293.22</td>\n",
       "      <td>4209.76</td>\n",
       "      <td>4266.84</td>\n",
       "      <td>4266.84</td>\n",
       "      <td>149410000.00</td>\n",
       "    </tr>\n",
       "    <tr>\n",
       "      <th>25%</th>\n",
       "      <td>5877.05</td>\n",
       "      <td>5904.62</td>\n",
       "      <td>5859.50</td>\n",
       "      <td>5879.94</td>\n",
       "      <td>5879.94</td>\n",
       "      <td>1857675000.00</td>\n",
       "    </tr>\n",
       "    <tr>\n",
       "      <th>50%</th>\n",
       "      <td>7293.65</td>\n",
       "      <td>7350.07</td>\n",
       "      <td>7235.05</td>\n",
       "      <td>7298.28</td>\n",
       "      <td>7298.28</td>\n",
       "      <td>2095180000.00</td>\n",
       "    </tr>\n",
       "    <tr>\n",
       "      <th>75%</th>\n",
       "      <td>8124.43</td>\n",
       "      <td>8158.09</td>\n",
       "      <td>8073.86</td>\n",
       "      <td>8118.18</td>\n",
       "      <td>8118.18</td>\n",
       "      <td>2521720000.00</td>\n",
       "    </tr>\n",
       "    <tr>\n",
       "      <th>max</th>\n",
       "      <td>12965.39</td>\n",
       "      <td>12973.33</td>\n",
       "      <td>12857.76</td>\n",
       "      <td>12899.42</td>\n",
       "      <td>12899.42</td>\n",
       "      <td>7693430000.00</td>\n",
       "    </tr>\n",
       "  </tbody>\n",
       "</table>\n",
       "</div>"
      ],
      "text/plain": [
       "          Open     High      Low    Close  Adj Close        Volume\n",
       "count  1259.00  1259.00  1259.00  1259.00    1259.00       1259.00\n",
       "mean   7359.16  7404.31  7309.73  7361.23    7361.23 2432290293.88\n",
       "std    1903.79  1920.19  1883.79  1904.01    1904.01  958291546.79\n",
       "min    4218.81  4293.22  4209.76  4266.84    4266.84  149410000.00\n",
       "25%    5877.05  5904.62  5859.50  5879.94    5879.94 1857675000.00\n",
       "50%    7293.65  7350.07  7235.05  7298.28    7298.28 2095180000.00\n",
       "75%    8124.43  8158.09  8073.86  8118.18    8118.18 2521720000.00\n",
       "max   12965.39 12973.33 12857.76 12899.42   12899.42 7693430000.00"
      ]
     },
     "execution_count": 16,
     "metadata": {},
     "output_type": "execute_result"
    }
   ],
   "source": [
    "nasdaq.describe()"
   ]
  },
  {
   "cell_type": "code",
   "execution_count": 17,
   "metadata": {
    "ExecuteTime": {
     "end_time": "2022-02-08T05:49:25.339320Z",
     "start_time": "2022-02-08T05:49:25.328321Z"
    }
   },
   "outputs": [],
   "source": [
    "# Checking for missing values"
   ]
  },
  {
   "cell_type": "code",
   "execution_count": 18,
   "metadata": {
    "ExecuteTime": {
     "end_time": "2022-02-08T05:49:25.819307Z",
     "start_time": "2022-02-08T05:49:25.800490Z"
    }
   },
   "outputs": [
    {
     "data": {
      "text/plain": [
       "Open         0\n",
       "High         0\n",
       "Low          0\n",
       "Close        0\n",
       "Adj Close    0\n",
       "Volume       0\n",
       "dtype: int64"
      ]
     },
     "execution_count": 18,
     "metadata": {},
     "output_type": "execute_result"
    }
   ],
   "source": [
    "nasdaq.isnull().sum()"
   ]
  },
  {
   "cell_type": "code",
   "execution_count": 19,
   "metadata": {
    "ExecuteTime": {
     "end_time": "2022-02-08T05:49:26.083497Z",
     "start_time": "2022-02-08T05:49:26.064473Z"
    }
   },
   "outputs": [],
   "source": [
    "# There are no missing values"
   ]
  },
  {
   "cell_type": "code",
   "execution_count": 20,
   "metadata": {
    "ExecuteTime": {
     "end_time": "2022-02-08T05:49:26.819426Z",
     "start_time": "2022-02-08T05:49:26.617148Z"
    }
   },
   "outputs": [
    {
     "data": {
      "image/png": "[encoded data removed]",
      "text/plain": [
       "<Figure size 720x432 with 1 Axes>"
      ]
     },
     "metadata": {},
     "output_type": "display_data"
    }
   ],
   "source": [
    "#plot close price\n",
    "plt.figure(figsize=(10,6))\n",
    "plt.grid(True)\n",
    "plt.xlabel('Date')\n",
    "plt.ylabel('Close Prices')\n",
    "plt.plot(nasdaq['Close'])\n",
    "plt.title('NASDAQ closing price')\n",
    "plt.show()"
   ]
  },
  {
   "cell_type": "code",
   "execution_count": 23,
   "metadata": {
    "ExecuteTime": {
     "end_time": "2022-02-08T05:51:07.734258Z",
     "start_time": "2022-02-08T05:51:07.729299Z"
    }
   },
   "outputs": [],
   "source": [
    "nasdaq_close = nasdaq['Close']"
   ]
  },
  {
   "cell_type": "markdown",
   "metadata": {},
   "source": [
    "Test for staionarity"
   ]
  },
  {
   "cell_type": "code",
   "execution_count": 26,
   "metadata": {
    "ExecuteTime": {
     "end_time": "2022-02-08T05:51:58.667226Z",
     "start_time": "2022-02-08T05:51:58.370475Z"
    }
   },
   "outputs": [
    {
     "data": {
      "image/png": "[encoded data removed]",
      "text/plain": [
       "<Figure size 432x288 with 1 Axes>"
      ]
     },
     "metadata": {},
     "output_type": "display_data"
    },
    {
     "name": "stdout",
     "output_type": "stream",
     "text": [
      "Test Statistics                  0.69\n",
      "p-value                          0.99\n",
      "No. of lags used                 9.00\n",
      "Number of observations used   1249.00\n",
      "critical value (1%)             -3.44\n",
      "critical value (5%)             -2.86\n",
      "critical value (10%)            -2.57\n",
      "dtype: float64\n"
     ]
    },
    {
     "data": {
      "text/plain": [
       "<Figure size 1800x720 with 0 Axes>"
      ]
     },
     "metadata": {},
     "output_type": "display_data"
    }
   ],
   "source": [
    "def test_stationarity(timeseries):\n",
    "    \n",
    "    #Determing rolling statistics\n",
    "    rolmean = timeseries.rolling(12).mean()\n",
    "    rolstd = timeseries.rolling(12).std()\n",
    "    \n",
    "    #Plot \n",
    "    plt.plot(timeseries, color='blue',label='Original')\n",
    "    plt.plot(rolmean, color='red', label='Rolling Mean')\n",
    "    plt.plot(rolstd, color='black', label = 'Rolling Std')\n",
    "    plt.legend(loc='best')\n",
    "    plt.title('Rolling Mean and Standard Deviation')\n",
    "    plt.show(block=False)\n",
    "    plt.figure(figsize=(25,10))\n",
    "    \n",
    "    adft = adfuller(timeseries,autolag='AIC')    \n",
    "    \n",
    "    output = pd.Series(adft[0:4],index=['Test Statistics','p-value','No. of lags used','Number of observations used'])\n",
    "    \n",
    "    for key,values in adft[4].items():\n",
    "        output['critical value (%s)'%key] =  values\n",
    "        \n",
    "    print(output)\n",
    "test_stationarity(nasdaq_close)"
   ]
  },
  {
   "cell_type": "code",
   "execution_count": null,
   "metadata": {},
   "outputs": [],
   "source": []
  }
 ],
 "metadata": {
  "kernelspec": {
   "display_name": "Python 3",
   "language": "python",
   "name": "python3"
  },
  "language_info": {
   "codemirror_mode": {
    "name": "ipython",
    "version": 3
   },
   "file_extension": ".py",
   "mimetype": "text/x-python",
   "name": "python",
   "nbconvert_exporter": "python",
   "pygments_lexer": "ipython3",
   "version": "3.7.6"
  }
 },
 "nbformat": 4,
 "nbformat_minor": 4
}
