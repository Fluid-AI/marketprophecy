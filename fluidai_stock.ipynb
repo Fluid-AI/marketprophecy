{
 "cells": [
  {
   "cell_type": "code",
   "execution_count": 176,
   "id": "71ee6bd2",
   "metadata": {},
   "outputs": [],
   "source": [
    "#importing libraries\n",
    "import numpy as np\n",
    "import pandas as pd\n",
    "import seaborn as sns\n",
    "import matplotlib.pyplot as plt\n",
    "import os\n",
    "from subprocess import check_output\n",
    "import warnings\n",
    "from pandas.plotting import lag_plot\n",
    "from pandas import datetime\n",
    "from statsmodels.tsa.arima_model import ARIMA\n",
    "from sklearn.metrics import mean_squared_error\n",
    "from sklearn.metrics import r2_score"
   ]
  },
  {
   "cell_type": "code",
   "execution_count": 177,
   "id": "5cf0b87a",
   "metadata": {},
   "outputs": [],
   "source": [
    "warnings.filterwarnings('ignore')"
   ]
  },
  {
   "cell_type": "code",
   "execution_count": 178,
   "id": "61b46c30",
   "metadata": {},
   "outputs": [],
   "source": [
    "# Reading train test csv files\n",
    "train = pd.read_csv(\"C:\\\\Users\\\\Anonymous\\\\Desktop\\\\marketprophecy-main\\\\NSE Data\\\\NSE Training Data - 1st Jan 2016 to 1st Jan 2022.csv\")\n",
    "test = pd.read_csv(\"C:\\\\Users\\\\Anonymous\\\\Desktop\\\\marketprophecy-main\\\\NSE Data\\\\NSE Out of Time Testing Data - 1st Jan 2022 to 4th Feb 2022.csv\")"
   ]
  },
  {
   "cell_type": "markdown",
   "id": "c953f296",
   "metadata": {},
   "source": [
    "# Exploratory data analysis"
   ]
  },
  {
   "cell_type": "code",
   "execution_count": 179,
   "id": "aeff83df",
   "metadata": {},
   "outputs": [
    {
     "data": {
      "text/html": [
       "<div>\n",
       "<style scoped>\n",
       "    .dataframe tbody tr th:only-of-type {\n",
       "        vertical-align: middle;\n",
       "    }\n",
       "\n",
       "    .dataframe tbody tr th {\n",
       "        vertical-align: top;\n",
       "    }\n",
       "\n",
       "    .dataframe thead th {\n",
       "        text-align: right;\n",
       "    }\n",
       "</style>\n",
       "<table border=\"1\" class=\"dataframe\">\n",
       "  <thead>\n",
       "    <tr style=\"text-align: right;\">\n",
       "      <th></th>\n",
       "      <th>Date</th>\n",
       "      <th>Open</th>\n",
       "      <th>High</th>\n",
       "      <th>Low</th>\n",
       "      <th>Close</th>\n",
       "      <th>Adj Close</th>\n",
       "      <th>Volume</th>\n",
       "    </tr>\n",
       "  </thead>\n",
       "  <tbody>\n",
       "    <tr>\n",
       "      <th>0</th>\n",
       "      <td>2016-01-04</td>\n",
       "      <td>7924.549805</td>\n",
       "      <td>7937.549805</td>\n",
       "      <td>7781.100098</td>\n",
       "      <td>7791.299805</td>\n",
       "      <td>7791.299805</td>\n",
       "      <td>134700.0</td>\n",
       "    </tr>\n",
       "    <tr>\n",
       "      <th>1</th>\n",
       "      <td>2016-01-05</td>\n",
       "      <td>7828.399902</td>\n",
       "      <td>7831.200195</td>\n",
       "      <td>7763.250000</td>\n",
       "      <td>7784.649902</td>\n",
       "      <td>7784.649902</td>\n",
       "      <td>145200.0</td>\n",
       "    </tr>\n",
       "    <tr>\n",
       "      <th>2</th>\n",
       "      <td>2016-01-06</td>\n",
       "      <td>7788.049805</td>\n",
       "      <td>7800.950195</td>\n",
       "      <td>7721.200195</td>\n",
       "      <td>7741.000000</td>\n",
       "      <td>7741.000000</td>\n",
       "      <td>147100.0</td>\n",
       "    </tr>\n",
       "    <tr>\n",
       "      <th>3</th>\n",
       "      <td>2016-01-07</td>\n",
       "      <td>7673.350098</td>\n",
       "      <td>7674.950195</td>\n",
       "      <td>7556.600098</td>\n",
       "      <td>7568.299805</td>\n",
       "      <td>7568.299805</td>\n",
       "      <td>188900.0</td>\n",
       "    </tr>\n",
       "    <tr>\n",
       "      <th>4</th>\n",
       "      <td>2016-01-08</td>\n",
       "      <td>7611.649902</td>\n",
       "      <td>7634.100098</td>\n",
       "      <td>7581.049805</td>\n",
       "      <td>7601.350098</td>\n",
       "      <td>7601.350098</td>\n",
       "      <td>157400.0</td>\n",
       "    </tr>\n",
       "  </tbody>\n",
       "</table>\n",
       "</div>"
      ],
      "text/plain": [
       "         Date         Open         High          Low        Close  \\\n",
       "0  2016-01-04  7924.549805  7937.549805  7781.100098  7791.299805   \n",
       "1  2016-01-05  7828.399902  7831.200195  7763.250000  7784.649902   \n",
       "2  2016-01-06  7788.049805  7800.950195  7721.200195  7741.000000   \n",
       "3  2016-01-07  7673.350098  7674.950195  7556.600098  7568.299805   \n",
       "4  2016-01-08  7611.649902  7634.100098  7581.049805  7601.350098   \n",
       "\n",
       "     Adj Close    Volume  \n",
       "0  7791.299805  134700.0  \n",
       "1  7784.649902  145200.0  \n",
       "2  7741.000000  147100.0  \n",
       "3  7568.299805  188900.0  \n",
       "4  7601.350098  157400.0  "
      ]
     },
     "execution_count": 179,
     "metadata": {},
     "output_type": "execute_result"
    }
   ],
   "source": [
    "train.head()"
   ]
  },
  {
   "cell_type": "code",
   "execution_count": 180,
   "id": "cc212244",
   "metadata": {},
   "outputs": [
    {
     "name": "stdout",
     "output_type": "stream",
     "text": [
      "<class 'pandas.core.frame.DataFrame'>\n",
      "RangeIndex: 1481 entries, 0 to 1480\n",
      "Data columns (total 7 columns):\n",
      " #   Column     Non-Null Count  Dtype  \n",
      "---  ------     --------------  -----  \n",
      " 0   Date       1481 non-null   object \n",
      " 1   Open       1475 non-null   float64\n",
      " 2   High       1475 non-null   float64\n",
      " 3   Low        1475 non-null   float64\n",
      " 4   Close      1475 non-null   float64\n",
      " 5   Adj Close  1475 non-null   float64\n",
      " 6   Volume     1475 non-null   float64\n",
      "dtypes: float64(6), object(1)\n",
      "memory usage: 81.1+ KB\n"
     ]
    }
   ],
   "source": [
    "train.info()"
   ]
  },
  {
   "cell_type": "code",
   "execution_count": 181,
   "id": "53af8aa4",
   "metadata": {},
   "outputs": [],
   "source": [
    "train['Date'] = pd.to_datetime(train['Date'])"
   ]
  },
  {
   "cell_type": "code",
   "execution_count": 182,
   "id": "f02889d8",
   "metadata": {},
   "outputs": [
    {
     "data": {
      "text/plain": [
       "Date         0\n",
       "Open         6\n",
       "High         6\n",
       "Low          6\n",
       "Close        6\n",
       "Adj Close    6\n",
       "Volume       6\n",
       "dtype: int64"
      ]
     },
     "execution_count": 182,
     "metadata": {},
     "output_type": "execute_result"
    }
   ],
   "source": [
    "train.isnull().sum()"
   ]
  },
  {
   "cell_type": "code",
   "execution_count": 183,
   "id": "0a92e734",
   "metadata": {},
   "outputs": [],
   "source": [
    "train=train.dropna()              #as only 6 are nan so we drop them instead of imputing them"
   ]
  },
  {
   "cell_type": "code",
   "execution_count": 184,
   "id": "d99aa453",
   "metadata": {},
   "outputs": [
    {
     "data": {
      "image/png": "[encoded data removed]",
      "text/plain": [
       "<Figure size 432x288 with 1 Axes>"
      ]
     },
     "metadata": {
      "needs_background": "light"
     },
     "output_type": "display_data"
    }
   ],
   "source": [
    "train[['Open']].plot()\n",
    "plt.title(\"NSE\")\n",
    "plt.show()"
   ]
  },
  {
   "cell_type": "code",
   "execution_count": 185,
   "id": "d7888995",
   "metadata": {},
   "outputs": [
    {
     "data": {
      "text/plain": [
       "Timestamp('2021-12-31 00:00:00')"
      ]
     },
     "execution_count": 185,
     "metadata": {},
     "output_type": "execute_result"
    }
   ],
   "source": [
    "train['Date'][1480]"
   ]
  },
  {
   "cell_type": "markdown",
   "id": "db0402bf",
   "metadata": {},
   "source": [
    "# Model (ARIMA)"
   ]
  },
  {
   "cell_type": "markdown",
   "id": "80fef50c",
   "metadata": {},
   "source": [
    "Here I am just using and predicting opening value of NSE. (Univariate approach)\n",
    "\n",
    "This can be repeated six times separately to get values of other six features as well."
   ]
  },
  {
   "cell_type": "code",
   "execution_count": 186,
   "id": "c5ede514",
   "metadata": {},
   "outputs": [
    {
     "name": "stdout",
     "output_type": "stream",
     "text": [
      "predicted=17276.125271, expected=17387.150391\n",
      "predicted=17378.675017, expected=17681.400391\n",
      "predicted=17674.249641, expected=17820.099609\n",
      "predicted=17834.084864, expected=17768.500000\n",
      "predicted=17794.997342, expected=17797.599609\n",
      "predicted=17819.711937, expected=17913.300781\n",
      "predicted=17911.805468, expected=17997.750000\n",
      "predicted=17993.858003, expected=18170.400391\n",
      "predicted=18177.590794, expected=18257.000000\n",
      "predicted=18273.264335, expected=18185.000000\n",
      "predicted=18202.060999, expected=18235.650391\n",
      "predicted=18249.475628, expected=18337.199219\n",
      "predicted=18338.554102, expected=18129.199219\n",
      "predicted=18140.088632, expected=17921.000000\n",
      "predicted=17941.206746, expected=17613.699219\n",
      "predicted=17629.144638, expected=17575.150391\n",
      "predicted=17550.765438, expected=17001.550781\n",
      "predicted=17013.981309, expected=17062.000000\n",
      "predicted=17029.578180, expected=17208.300781\n",
      "predicted=17207.990620, expected=17301.050781\n",
      "predicted=17266.679133, expected=17529.449219\n",
      "predicted=17565.474047, expected=17706.199219\n",
      "predicted=17722.606154, expected=17767.750000\n"
     ]
    }
   ],
   "source": [
    "train_ar = train['Open'].values\n",
    "test_ar = test['Open'].values\n",
    "\n",
    "history = [x for x in train_ar]\n",
    "\n",
    "predictions = list()\n",
    "for t in range(len(test_ar)):\n",
    "    model = ARIMA(history, order=(5,1,0))\n",
    "    model_fit = model.fit(disp=0)\n",
    "    output = model_fit.forecast()\n",
    "    yhat = output[0]\n",
    "    predictions.append(yhat)\n",
    "    obs = test_ar[t]\n",
    "    history.append(obs)\n",
    "    print('predicted=%f, expected=%f' % (yhat, obs))"
   ]
  },
  {
   "cell_type": "code",
   "execution_count": 187,
   "id": "fb2389eb",
   "metadata": {},
   "outputs": [
    {
     "name": "stdout",
     "output_type": "stream",
     "text": [
      "                             ARIMA Model Results                              \n",
      "==============================================================================\n",
      "Dep. Variable:                    D.y   No. Observations:                 1496\n",
      "Model:                 ARIMA(5, 1, 0)   Log Likelihood               -9340.573\n",
      "Method:                       css-mle   S.D. of innovations            124.555\n",
      "Date:                Tue, 08 Feb 2022   AIC                          18695.145\n",
      "Time:                        20:12:41   BIC                          18732.319\n",
      "Sample:                             1   HQIC                         18708.996\n",
      "                                                                              \n",
      "==============================================================================\n",
      "                 coef    std err          z      P>|z|      [0.025      0.975]\n",
      "------------------------------------------------------------------------------\n",
      "const          6.5504      3.339      1.962      0.050       0.006      13.095\n",
      "ar.L1.D.y     -0.0374      0.026     -1.447      0.148      -0.088       0.013\n",
      "ar.L2.D.y      0.0327      0.026      1.266      0.206      -0.018       0.083\n",
      "ar.L3.D.y      0.0227      0.026      0.878      0.380      -0.028       0.073\n",
      "ar.L4.D.y      0.0706      0.026      2.736      0.006       0.020       0.121\n",
      "ar.L5.D.y     -0.0530      0.026     -2.048      0.041      -0.104      -0.002\n",
      "                                    Roots                                    \n",
      "=============================================================================\n",
      "                  Real          Imaginary           Modulus         Frequency\n",
      "-----------------------------------------------------------------------------\n",
      "AR.1           -1.5752           -0.0000j            1.5752           -0.5000\n",
      "AR.2           -0.3933           -1.6377j            1.6843           -0.2875\n",
      "AR.3           -0.3933           +1.6377j            1.6843            0.2875\n",
      "AR.4            1.8479           -0.9001j            2.0555           -0.0721\n",
      "AR.5            1.8479           +0.9001j            2.0555            0.0721\n",
      "-----------------------------------------------------------------------------\n"
     ]
    }
   ],
   "source": [
    "print(model_fit.summary())"
   ]
  },
  {
   "cell_type": "code",
   "execution_count": 188,
   "id": "8c4a7b85",
   "metadata": {},
   "outputs": [
    {
     "data": {
      "text/plain": [
       "<matplotlib.legend.Legend at 0x1a63a0b0b20>"
      ]
     },
     "execution_count": 188,
     "metadata": {},
     "output_type": "execute_result"
    },
    {
     "data": {
      "image/png": "[encoded data removed]",
      "text/plain": [
       "<Figure size 432x288 with 1 Axes>"
      ]
     },
     "metadata": {
      "needs_background": "light"
     },
     "output_type": "display_data"
    }
   ],
   "source": [
    "plt.plot(test_ar, label = 'True Value')\n",
    "plt.plot(predictions, label = 'Predicted Value')\n",
    "plt.xlabel('Time Scale')\n",
    "plt.legend()"
   ]
  },
  {
   "cell_type": "code",
   "execution_count": 189,
   "id": "9207af67",
   "metadata": {},
   "outputs": [
    {
     "data": {
      "text/plain": [
       "[array([17276.12527069]),\n",
       " array([17378.67501709]),\n",
       " array([17674.24964051]),\n",
       " array([17834.08486402]),\n",
       " array([17794.99734214]),\n",
       " array([17819.7119368]),\n",
       " array([17911.80546799]),\n",
       " array([17993.85800266]),\n",
       " array([18177.59079411]),\n",
       " array([18273.26433465]),\n",
       " array([18202.06099854]),\n",
       " array([18249.47562839]),\n",
       " array([18338.55410197]),\n",
       " array([18140.08863197]),\n",
       " array([17941.20674637]),\n",
       " array([17629.14463764]),\n",
       " array([17550.76543831]),\n",
       " array([17013.98130852]),\n",
       " array([17029.57818013]),\n",
       " array([17207.99062003]),\n",
       " array([17266.67913329]),\n",
       " array([17565.47404654]),\n",
       " array([17722.60615412])]"
      ]
     },
     "execution_count": 189,
     "metadata": {},
     "output_type": "execute_result"
    }
   ],
   "source": [
    "predictions"
   ]
  },
  {
   "cell_type": "code",
   "execution_count": 190,
   "id": "68720eed",
   "metadata": {},
   "outputs": [
    {
     "name": "stdout",
     "output_type": "stream",
     "text": [
      "0.024855220131452593\n"
     ]
    }
   ],
   "source": [
    "mape = np.mean(np.abs(predictions - test_ar)/np.abs(test_ar))  # MAPE\n",
    "\n",
    "print(mape)\n"
   ]
  },
  {
   "cell_type": "markdown",
   "id": "7202b02b",
   "metadata": {},
   "source": [
    "Around 2.48% MAPE implies the model is about 97.52% accurate in predicting the next 15 observations."
   ]
  },
  {
   "cell_type": "code",
   "execution_count": null,
   "id": "9a2a58c9",
   "metadata": {},
   "outputs": [],
   "source": []
  }
 ],
 "metadata": {
  "kernelspec": {
   "display_name": "Python 3 (ipykernel)",
   "language": "python",
   "name": "python3"
  },
  "language_info": {
   "codemirror_mode": {
    "name": "ipython",
    "version": 3
   },
   "file_extension": ".py",
   "mimetype": "text/x-python",
   "name": "python",
   "nbconvert_exporter": "python",
   "pygments_lexer": "ipython3",
   "version": "3.8.11"
  }
 },
 "nbformat": 4,
 "nbformat_minor": 5
}
