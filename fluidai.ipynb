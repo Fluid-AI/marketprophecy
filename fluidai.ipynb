{
  "nbformat": 4,
  "nbformat_minor": 0,
  "metadata": {
    "colab": {
      "name": "fluidai.ipynb",
      "provenance": [],
      "collapsed_sections": [],
      "machine_shape": "hm"
    },
    "kernelspec": {
      "name": "python3",
      "display_name": "Python 3"
    },
    "language_info": {
      "name": "python"
    },
    "accelerator": "GPU"
  },
  "cells": [
    {
      "cell_type": "code",
      "source": [
        "from google.colab import drive\n",
        "drive.mount('/content/drive')"
      ],
      "metadata": {
        "colab": {
          "base_uri": "https://localhost:8080/"
        },
        "id": "XS9sKpgToOxX",
        "outputId": "c77df19f-c7f6-4b11-ea0c-664a9b43364e"
      },
      "execution_count": 1,
      "outputs": [
        {
          "output_type": "stream",
          "name": "stdout",
          "text": [
            "Mounted at /content/drive\n"
          ]
        }
      ]
    },
    {
      "cell_type": "code",
      "source": [
        "import os\n",
        "os.chdir('/content/drive/MyDrive/data science/marketprophecy-main/NSE Data')"
      ],
      "metadata": {
        "id": "AMIdpMUAo40C"
      },
      "execution_count": 166,
      "outputs": []
    },
    {
      "cell_type": "code",
      "source": [
        "import pandas as pd\n",
        "import numpy as np\n",
        "import matplotlib.pyplot as plt\n",
        "import seaborn as sns\n",
        "import math\n",
        "import datetime\n",
        "from sklearn.preprocessing import MinMaxScaler\n",
        "from sklearn.model_selection import train_test_split\n",
        "from sklearn.linear_model import LinearRegression,ridge_regression,Lasso\n",
        "from sklearn.ensemble import RandomForestRegressor\n",
        "from keras.models import Sequential\n",
        "from keras.layers import LSTM,Dense"
      ],
      "metadata": {
        "id": "9VSyxkJ3oPse"
      },
      "execution_count": 226,
      "outputs": []
    },
    {
      "cell_type": "code",
      "source": [
        "data= pd.read_csv('NSE Training Data - 1st Jan 2016 to 1st Jan 2022.csv')\n",
        "test=pd.read_csv('NSE Out of Time Testing Data - 1st Jan 2022 to 4th Feb 2022.csv')"
      ],
      "metadata": {
        "id": "uEchRrU5oxH6"
      },
      "execution_count": 168,
      "outputs": []
    },
    {
      "cell_type": "code",
      "source": [
        "data.head()"
      ],
      "metadata": {
        "colab": {
          "base_uri": "https://localhost:8080/",
          "height": 206
        },
        "id": "q_Q2mbJNpLsu",
        "outputId": "5fe08ec9-f511-4d5b-c08e-b5602760f628"
      },
      "execution_count": 169,
      "outputs": [
        {
          "output_type": "execute_result",
          "data": {
            "text/html": [
              "\n",
              "  <div id=\"df-7cfcafcc-c677-40a8-a60c-320a216ba5f6\">\n",
              "    <div class=\"colab-df-container\">\n",
              "      <div>\n",
              "<style scoped>\n",
              "    .dataframe tbody tr th:only-of-type {\n",
              "        vertical-align: middle;\n",
              "    }\n",
              "\n",
              "    .dataframe tbody tr th {\n",
              "        vertical-align: top;\n",
              "    }\n",
              "\n",
              "    .dataframe thead th {\n",
              "        text-align: right;\n",
              "    }\n",
              "</style>\n",
              "<table border=\"1\" class=\"dataframe\">\n",
              "  <thead>\n",
              "    <tr style=\"text-align: right;\">\n",
              "      <th></th>\n",
              "      <th>Date</th>\n",
              "      <th>Open</th>\n",
              "      <th>High</th>\n",
              "      <th>Low</th>\n",
              "      <th>Close</th>\n",
              "      <th>Adj Close</th>\n",
              "      <th>Volume</th>\n",
              "    </tr>\n",
              "  </thead>\n",
              "  <tbody>\n",
              "    <tr>\n",
              "      <th>0</th>\n",
              "      <td>2016-01-04</td>\n",
              "      <td>7924.549805</td>\n",
              "      <td>7937.549805</td>\n",
              "      <td>7781.100098</td>\n",
              "      <td>7791.299805</td>\n",
              "      <td>7791.299805</td>\n",
              "      <td>134700.0</td>\n",
              "    </tr>\n",
              "    <tr>\n",
              "      <th>1</th>\n",
              "      <td>2016-01-05</td>\n",
              "      <td>7828.399902</td>\n",
              "      <td>7831.200195</td>\n",
              "      <td>7763.250000</td>\n",
              "      <td>7784.649902</td>\n",
              "      <td>7784.649902</td>\n",
              "      <td>145200.0</td>\n",
              "    </tr>\n",
              "    <tr>\n",
              "      <th>2</th>\n",
              "      <td>2016-01-06</td>\n",
              "      <td>7788.049805</td>\n",
              "      <td>7800.950195</td>\n",
              "      <td>7721.200195</td>\n",
              "      <td>7741.000000</td>\n",
              "      <td>7741.000000</td>\n",
              "      <td>147100.0</td>\n",
              "    </tr>\n",
              "    <tr>\n",
              "      <th>3</th>\n",
              "      <td>2016-01-07</td>\n",
              "      <td>7673.350098</td>\n",
              "      <td>7674.950195</td>\n",
              "      <td>7556.600098</td>\n",
              "      <td>7568.299805</td>\n",
              "      <td>7568.299805</td>\n",
              "      <td>188900.0</td>\n",
              "    </tr>\n",
              "    <tr>\n",
              "      <th>4</th>\n",
              "      <td>2016-01-08</td>\n",
              "      <td>7611.649902</td>\n",
              "      <td>7634.100098</td>\n",
              "      <td>7581.049805</td>\n",
              "      <td>7601.350098</td>\n",
              "      <td>7601.350098</td>\n",
              "      <td>157400.0</td>\n",
              "    </tr>\n",
              "  </tbody>\n",
              "</table>\n",
              "</div>\n",
              "      <button class=\"colab-df-convert\" onclick=\"convertToInteractive('df-7cfcafcc-c677-40a8-a60c-320a216ba5f6')\"\n",
              "              title=\"Convert this dataframe to an interactive table.\"\n",
              "              style=\"display:none;\">\n",
              "        \n",
              "  <svg xmlns=\"http://www.w3.org/2000/svg\" height=\"24px\"viewBox=\"0 0 24 24\"\n",
              "       width=\"24px\">\n",
              "    <path d=\"M0 0h24v24H0V0z\" fill=\"none\"/>\n",
              "    <path d=\"M18.56 5.44l.94 2.06.94-2.06 2.06-.94-2.06-.94-.94-2.06-.94 2.06-2.06.94zm-11 1L8.5 8.5l.94-2.06 2.06-.94-2.06-.94L8.5 2.5l-.94 2.06-2.06.94zm10 10l.94 2.06.94-2.06 2.06-.94-2.06-.94-.94-2.06-.94 2.06-2.06.94z\"/><path d=\"M17.41 7.96l-1.37-1.37c-.4-.4-.92-.59-1.43-.59-.52 0-1.04.2-1.43.59L10.3 9.45l-7.72 7.72c-.78.78-.78 2.05 0 2.83L4 21.41c.39.39.9.59 1.41.59.51 0 1.02-.2 1.41-.59l7.78-7.78 2.81-2.81c.8-.78.8-2.07 0-2.86zM5.41 20L4 18.59l7.72-7.72 1.47 1.35L5.41 20z\"/>\n",
              "  </svg>\n",
              "      </button>\n",
              "      \n",
              "  <style>\n",
              "    .colab-df-container {\n",
              "      display:flex;\n",
              "      flex-wrap:wrap;\n",
              "      gap: 12px;\n",
              "    }\n",
              "\n",
              "    .colab-df-convert {\n",
              "      background-color: #E8F0FE;\n",
              "      border: none;\n",
              "      border-radius: 50%;\n",
              "      cursor: pointer;\n",
              "      display: none;\n",
              "      fill: #1967D2;\n",
              "      height: 32px;\n",
              "      padding: 0 0 0 0;\n",
              "      width: 32px;\n",
              "    }\n",
              "\n",
              "    .colab-df-convert:hover {\n",
              "      background-color: #E2EBFA;\n",
              "      box-shadow: 0px 1px 2px rgba(60, 64, 67, 0.3), 0px 1px 3px 1px rgba(60, 64, 67, 0.15);\n",
              "      fill: #174EA6;\n",
              "    }\n",
              "\n",
              "    [theme=dark] .colab-df-convert {\n",
              "      background-color: #3B4455;\n",
              "      fill: #D2E3FC;\n",
              "    }\n",
              "\n",
              "    [theme=dark] .colab-df-convert:hover {\n",
              "      background-color: #434B5C;\n",
              "      box-shadow: 0px 1px 3px 1px rgba(0, 0, 0, 0.15);\n",
              "      filter: drop-shadow(0px 1px 2px rgba(0, 0, 0, 0.3));\n",
              "      fill: #FFFFFF;\n",
              "    }\n",
              "  </style>\n",
              "\n",
              "      <script>\n",
              "        const buttonEl =\n",
              "          document.querySelector('#df-7cfcafcc-c677-40a8-a60c-320a216ba5f6 button.colab-df-convert');\n",
              "        buttonEl.style.display =\n",
              "          google.colab.kernel.accessAllowed ? 'block' : 'none';\n",
              "\n",
              "        async function convertToInteractive(key) {\n",
              "          const element = document.querySelector('#df-7cfcafcc-c677-40a8-a60c-320a216ba5f6');\n",
              "          const dataTable =\n",
              "            await google.colab.kernel.invokeFunction('convertToInteractive',\n",
              "                                                     [key], {});\n",
              "          if (!dataTable) return;\n",
              "\n",
              "          const docLinkHtml = 'Like what you see? Visit the ' +\n",
              "            '<a target=\"_blank\" href=https://colab.research.google.com/notebooks/data_table.ipynb>data table notebook</a>'\n",
              "            + ' to learn more about interactive tables.';\n",
              "          element.innerHTML = '';\n",
              "          dataTable['output_type'] = 'display_data';\n",
              "          await google.colab.output.renderOutput(dataTable, element);\n",
              "          const docLink = document.createElement('div');\n",
              "          docLink.innerHTML = docLinkHtml;\n",
              "          element.appendChild(docLink);\n",
              "        }\n",
              "      </script>\n",
              "    </div>\n",
              "  </div>\n",
              "  "
            ],
            "text/plain": [
              "         Date         Open         High  ...        Close    Adj Close    Volume\n",
              "0  2016-01-04  7924.549805  7937.549805  ...  7791.299805  7791.299805  134700.0\n",
              "1  2016-01-05  7828.399902  7831.200195  ...  7784.649902  7784.649902  145200.0\n",
              "2  2016-01-06  7788.049805  7800.950195  ...  7741.000000  7741.000000  147100.0\n",
              "3  2016-01-07  7673.350098  7674.950195  ...  7568.299805  7568.299805  188900.0\n",
              "4  2016-01-08  7611.649902  7634.100098  ...  7601.350098  7601.350098  157400.0\n",
              "\n",
              "[5 rows x 7 columns]"
            ]
          },
          "metadata": {},
          "execution_count": 169
        }
      ]
    },
    {
      "cell_type": "code",
      "source": [
        "test.head()"
      ],
      "metadata": {
        "colab": {
          "base_uri": "https://localhost:8080/",
          "height": 206
        },
        "id": "j1Cip8aEo5IN",
        "outputId": "96889d1c-e132-41c8-d501-95bbc71d9d02"
      },
      "execution_count": 170,
      "outputs": [
        {
          "output_type": "execute_result",
          "data": {
            "text/html": [
              "\n",
              "  <div id=\"df-e8782a04-cf25-48e4-957f-68efd29c12f1\">\n",
              "    <div class=\"colab-df-container\">\n",
              "      <div>\n",
              "<style scoped>\n",
              "    .dataframe tbody tr th:only-of-type {\n",
              "        vertical-align: middle;\n",
              "    }\n",
              "\n",
              "    .dataframe tbody tr th {\n",
              "        vertical-align: top;\n",
              "    }\n",
              "\n",
              "    .dataframe thead th {\n",
              "        text-align: right;\n",
              "    }\n",
              "</style>\n",
              "<table border=\"1\" class=\"dataframe\">\n",
              "  <thead>\n",
              "    <tr style=\"text-align: right;\">\n",
              "      <th></th>\n",
              "      <th>Date</th>\n",
              "      <th>Open</th>\n",
              "      <th>High</th>\n",
              "      <th>Low</th>\n",
              "      <th>Close</th>\n",
              "      <th>Adj Close</th>\n",
              "      <th>Volume</th>\n",
              "    </tr>\n",
              "  </thead>\n",
              "  <tbody>\n",
              "    <tr>\n",
              "      <th>0</th>\n",
              "      <td>2022-01-03</td>\n",
              "      <td>17387.150391</td>\n",
              "      <td>17646.650391</td>\n",
              "      <td>17383.300781</td>\n",
              "      <td>17625.699219</td>\n",
              "      <td>17625.699219</td>\n",
              "      <td>200500</td>\n",
              "    </tr>\n",
              "    <tr>\n",
              "      <th>1</th>\n",
              "      <td>2022-01-04</td>\n",
              "      <td>17681.400391</td>\n",
              "      <td>17827.599609</td>\n",
              "      <td>17593.550781</td>\n",
              "      <td>17805.250000</td>\n",
              "      <td>17805.250000</td>\n",
              "      <td>247400</td>\n",
              "    </tr>\n",
              "    <tr>\n",
              "      <th>2</th>\n",
              "      <td>2022-01-05</td>\n",
              "      <td>17820.099609</td>\n",
              "      <td>17944.699219</td>\n",
              "      <td>17748.849609</td>\n",
              "      <td>17925.250000</td>\n",
              "      <td>17925.250000</td>\n",
              "      <td>251500</td>\n",
              "    </tr>\n",
              "    <tr>\n",
              "      <th>3</th>\n",
              "      <td>2022-01-06</td>\n",
              "      <td>17768.500000</td>\n",
              "      <td>17797.949219</td>\n",
              "      <td>17655.550781</td>\n",
              "      <td>17745.900391</td>\n",
              "      <td>17745.900391</td>\n",
              "      <td>236500</td>\n",
              "    </tr>\n",
              "    <tr>\n",
              "      <th>4</th>\n",
              "      <td>2022-01-07</td>\n",
              "      <td>17797.599609</td>\n",
              "      <td>17905.000000</td>\n",
              "      <td>17704.550781</td>\n",
              "      <td>17812.699219</td>\n",
              "      <td>17812.699219</td>\n",
              "      <td>239300</td>\n",
              "    </tr>\n",
              "  </tbody>\n",
              "</table>\n",
              "</div>\n",
              "      <button class=\"colab-df-convert\" onclick=\"convertToInteractive('df-e8782a04-cf25-48e4-957f-68efd29c12f1')\"\n",
              "              title=\"Convert this dataframe to an interactive table.\"\n",
              "              style=\"display:none;\">\n",
              "        \n",
              "  <svg xmlns=\"http://www.w3.org/2000/svg\" height=\"24px\"viewBox=\"0 0 24 24\"\n",
              "       width=\"24px\">\n",
              "    <path d=\"M0 0h24v24H0V0z\" fill=\"none\"/>\n",
              "    <path d=\"M18.56 5.44l.94 2.06.94-2.06 2.06-.94-2.06-.94-.94-2.06-.94 2.06-2.06.94zm-11 1L8.5 8.5l.94-2.06 2.06-.94-2.06-.94L8.5 2.5l-.94 2.06-2.06.94zm10 10l.94 2.06.94-2.06 2.06-.94-2.06-.94-.94-2.06-.94 2.06-2.06.94z\"/><path d=\"M17.41 7.96l-1.37-1.37c-.4-.4-.92-.59-1.43-.59-.52 0-1.04.2-1.43.59L10.3 9.45l-7.72 7.72c-.78.78-.78 2.05 0 2.83L4 21.41c.39.39.9.59 1.41.59.51 0 1.02-.2 1.41-.59l7.78-7.78 2.81-2.81c.8-.78.8-2.07 0-2.86zM5.41 20L4 18.59l7.72-7.72 1.47 1.35L5.41 20z\"/>\n",
              "  </svg>\n",
              "      </button>\n",
              "      \n",
              "  <style>\n",
              "    .colab-df-container {\n",
              "      display:flex;\n",
              "      flex-wrap:wrap;\n",
              "      gap: 12px;\n",
              "    }\n",
              "\n",
              "    .colab-df-convert {\n",
              "      background-color: #E8F0FE;\n",
              "      border: none;\n",
              "      border-radius: 50%;\n",
              "      cursor: pointer;\n",
              "      display: none;\n",
              "      fill: #1967D2;\n",
              "      height: 32px;\n",
              "      padding: 0 0 0 0;\n",
              "      width: 32px;\n",
              "    }\n",
              "\n",
              "    .colab-df-convert:hover {\n",
              "      background-color: #E2EBFA;\n",
              "      box-shadow: 0px 1px 2px rgba(60, 64, 67, 0.3), 0px 1px 3px 1px rgba(60, 64, 67, 0.15);\n",
              "      fill: #174EA6;\n",
              "    }\n",
              "\n",
              "    [theme=dark] .colab-df-convert {\n",
              "      background-color: #3B4455;\n",
              "      fill: #D2E3FC;\n",
              "    }\n",
              "\n",
              "    [theme=dark] .colab-df-convert:hover {\n",
              "      background-color: #434B5C;\n",
              "      box-shadow: 0px 1px 3px 1px rgba(0, 0, 0, 0.15);\n",
              "      filter: drop-shadow(0px 1px 2px rgba(0, 0, 0, 0.3));\n",
              "      fill: #FFFFFF;\n",
              "    }\n",
              "  </style>\n",
              "\n",
              "      <script>\n",
              "        const buttonEl =\n",
              "          document.querySelector('#df-e8782a04-cf25-48e4-957f-68efd29c12f1 button.colab-df-convert');\n",
              "        buttonEl.style.display =\n",
              "          google.colab.kernel.accessAllowed ? 'block' : 'none';\n",
              "\n",
              "        async function convertToInteractive(key) {\n",
              "          const element = document.querySelector('#df-e8782a04-cf25-48e4-957f-68efd29c12f1');\n",
              "          const dataTable =\n",
              "            await google.colab.kernel.invokeFunction('convertToInteractive',\n",
              "                                                     [key], {});\n",
              "          if (!dataTable) return;\n",
              "\n",
              "          const docLinkHtml = 'Like what you see? Visit the ' +\n",
              "            '<a target=\"_blank\" href=https://colab.research.google.com/notebooks/data_table.ipynb>data table notebook</a>'\n",
              "            + ' to learn more about interactive tables.';\n",
              "          element.innerHTML = '';\n",
              "          dataTable['output_type'] = 'display_data';\n",
              "          await google.colab.output.renderOutput(dataTable, element);\n",
              "          const docLink = document.createElement('div');\n",
              "          docLink.innerHTML = docLinkHtml;\n",
              "          element.appendChild(docLink);\n",
              "        }\n",
              "      </script>\n",
              "    </div>\n",
              "  </div>\n",
              "  "
            ],
            "text/plain": [
              "         Date          Open          High  ...         Close     Adj Close  Volume\n",
              "0  2022-01-03  17387.150391  17646.650391  ...  17625.699219  17625.699219  200500\n",
              "1  2022-01-04  17681.400391  17827.599609  ...  17805.250000  17805.250000  247400\n",
              "2  2022-01-05  17820.099609  17944.699219  ...  17925.250000  17925.250000  251500\n",
              "3  2022-01-06  17768.500000  17797.949219  ...  17745.900391  17745.900391  236500\n",
              "4  2022-01-07  17797.599609  17905.000000  ...  17812.699219  17812.699219  239300\n",
              "\n",
              "[5 rows x 7 columns]"
            ]
          },
          "metadata": {},
          "execution_count": 170
        }
      ]
    },
    {
      "cell_type": "code",
      "source": [
        "print(data.shape)\n",
        "print(test.shape)"
      ],
      "metadata": {
        "colab": {
          "base_uri": "https://localhost:8080/"
        },
        "id": "ht5rlOppsF0r",
        "outputId": "96f7e70f-7173-4d6c-f2b2-8bebd6ba8670"
      },
      "execution_count": 171,
      "outputs": [
        {
          "output_type": "stream",
          "name": "stdout",
          "text": [
            "(1481, 7)\n",
            "(23, 7)\n"
          ]
        }
      ]
    },
    {
      "cell_type": "code",
      "source": [
        "data.info()"
      ],
      "metadata": {
        "colab": {
          "base_uri": "https://localhost:8080/"
        },
        "id": "F7t9HoiGWREF",
        "outputId": "97dd084a-f492-4484-a74d-06e1cf63d8ce"
      },
      "execution_count": 172,
      "outputs": [
        {
          "output_type": "stream",
          "name": "stdout",
          "text": [
            "<class 'pandas.core.frame.DataFrame'>\n",
            "RangeIndex: 1481 entries, 0 to 1480\n",
            "Data columns (total 7 columns):\n",
            " #   Column     Non-Null Count  Dtype  \n",
            "---  ------     --------------  -----  \n",
            " 0   Date       1481 non-null   object \n",
            " 1   Open       1475 non-null   float64\n",
            " 2   High       1475 non-null   float64\n",
            " 3   Low        1475 non-null   float64\n",
            " 4   Close      1475 non-null   float64\n",
            " 5   Adj Close  1475 non-null   float64\n",
            " 6   Volume     1475 non-null   float64\n",
            "dtypes: float64(6), object(1)\n",
            "memory usage: 81.1+ KB\n"
          ]
        }
      ]
    },
    {
      "cell_type": "code",
      "source": [
        "data.isnull().sum()"
      ],
      "metadata": {
        "colab": {
          "base_uri": "https://localhost:8080/"
        },
        "id": "ugRhyJZVpYYh",
        "outputId": "cdd19d0d-ec08-4498-ecb2-d94ebcc73f94"
      },
      "execution_count": 173,
      "outputs": [
        {
          "output_type": "execute_result",
          "data": {
            "text/plain": [
              "Date         0\n",
              "Open         6\n",
              "High         6\n",
              "Low          6\n",
              "Close        6\n",
              "Adj Close    6\n",
              "Volume       6\n",
              "dtype: int64"
            ]
          },
          "metadata": {},
          "execution_count": 173
        }
      ]
    },
    {
      "cell_type": "code",
      "source": [
        "test.isnull().sum()"
      ],
      "metadata": {
        "colab": {
          "base_uri": "https://localhost:8080/"
        },
        "id": "laRnMK0JpJcc",
        "outputId": "02ace17b-376a-46d6-d7cf-d253ad2b0df1"
      },
      "execution_count": 174,
      "outputs": [
        {
          "output_type": "execute_result",
          "data": {
            "text/plain": [
              "Date         0\n",
              "Open         0\n",
              "High         0\n",
              "Low          0\n",
              "Close        0\n",
              "Adj Close    0\n",
              "Volume       0\n",
              "dtype: int64"
            ]
          },
          "metadata": {},
          "execution_count": 174
        }
      ]
    },
    {
      "cell_type": "code",
      "source": [
        "data[data.isna().any(axis=1)]"
      ],
      "metadata": {
        "colab": {
          "base_uri": "https://localhost:8080/",
          "height": 238
        },
        "id": "nhYXzP-qqajv",
        "outputId": "9e00da1f-644c-40a8-997a-5c8956ada385"
      },
      "execution_count": 175,
      "outputs": [
        {
          "output_type": "execute_result",
          "data": {
            "text/html": [
              "\n",
              "  <div id=\"df-75a12081-de95-4886-bac5-728e15730893\">\n",
              "    <div class=\"colab-df-container\">\n",
              "      <div>\n",
              "<style scoped>\n",
              "    .dataframe tbody tr th:only-of-type {\n",
              "        vertical-align: middle;\n",
              "    }\n",
              "\n",
              "    .dataframe tbody tr th {\n",
              "        vertical-align: top;\n",
              "    }\n",
              "\n",
              "    .dataframe thead th {\n",
              "        text-align: right;\n",
              "    }\n",
              "</style>\n",
              "<table border=\"1\" class=\"dataframe\">\n",
              "  <thead>\n",
              "    <tr style=\"text-align: right;\">\n",
              "      <th></th>\n",
              "      <th>Date</th>\n",
              "      <th>Open</th>\n",
              "      <th>High</th>\n",
              "      <th>Low</th>\n",
              "      <th>Close</th>\n",
              "      <th>Adj Close</th>\n",
              "      <th>Volume</th>\n",
              "    </tr>\n",
              "  </thead>\n",
              "  <tbody>\n",
              "    <tr>\n",
              "      <th>151</th>\n",
              "      <td>2016-08-12</td>\n",
              "      <td>NaN</td>\n",
              "      <td>NaN</td>\n",
              "      <td>NaN</td>\n",
              "      <td>NaN</td>\n",
              "      <td>NaN</td>\n",
              "      <td>NaN</td>\n",
              "    </tr>\n",
              "    <tr>\n",
              "      <th>493</th>\n",
              "      <td>2018-01-01</td>\n",
              "      <td>NaN</td>\n",
              "      <td>NaN</td>\n",
              "      <td>NaN</td>\n",
              "      <td>NaN</td>\n",
              "      <td>NaN</td>\n",
              "      <td>NaN</td>\n",
              "    </tr>\n",
              "    <tr>\n",
              "      <th>739</th>\n",
              "      <td>2019-01-01</td>\n",
              "      <td>NaN</td>\n",
              "      <td>NaN</td>\n",
              "      <td>NaN</td>\n",
              "      <td>NaN</td>\n",
              "      <td>NaN</td>\n",
              "      <td>NaN</td>\n",
              "    </tr>\n",
              "    <tr>\n",
              "      <th>937</th>\n",
              "      <td>2019-10-27</td>\n",
              "      <td>NaN</td>\n",
              "      <td>NaN</td>\n",
              "      <td>NaN</td>\n",
              "      <td>NaN</td>\n",
              "      <td>NaN</td>\n",
              "      <td>NaN</td>\n",
              "    </tr>\n",
              "    <tr>\n",
              "      <th>1201</th>\n",
              "      <td>2020-11-14</td>\n",
              "      <td>NaN</td>\n",
              "      <td>NaN</td>\n",
              "      <td>NaN</td>\n",
              "      <td>NaN</td>\n",
              "      <td>NaN</td>\n",
              "      <td>NaN</td>\n",
              "    </tr>\n",
              "    <tr>\n",
              "      <th>1233</th>\n",
              "      <td>2021-01-01</td>\n",
              "      <td>NaN</td>\n",
              "      <td>NaN</td>\n",
              "      <td>NaN</td>\n",
              "      <td>NaN</td>\n",
              "      <td>NaN</td>\n",
              "      <td>NaN</td>\n",
              "    </tr>\n",
              "  </tbody>\n",
              "</table>\n",
              "</div>\n",
              "      <button class=\"colab-df-convert\" onclick=\"convertToInteractive('df-75a12081-de95-4886-bac5-728e15730893')\"\n",
              "              title=\"Convert this dataframe to an interactive table.\"\n",
              "              style=\"display:none;\">\n",
              "        \n",
              "  <svg xmlns=\"http://www.w3.org/2000/svg\" height=\"24px\"viewBox=\"0 0 24 24\"\n",
              "       width=\"24px\">\n",
              "    <path d=\"M0 0h24v24H0V0z\" fill=\"none\"/>\n",
              "    <path d=\"M18.56 5.44l.94 2.06.94-2.06 2.06-.94-2.06-.94-.94-2.06-.94 2.06-2.06.94zm-11 1L8.5 8.5l.94-2.06 2.06-.94-2.06-.94L8.5 2.5l-.94 2.06-2.06.94zm10 10l.94 2.06.94-2.06 2.06-.94-2.06-.94-.94-2.06-.94 2.06-2.06.94z\"/><path d=\"M17.41 7.96l-1.37-1.37c-.4-.4-.92-.59-1.43-.59-.52 0-1.04.2-1.43.59L10.3 9.45l-7.72 7.72c-.78.78-.78 2.05 0 2.83L4 21.41c.39.39.9.59 1.41.59.51 0 1.02-.2 1.41-.59l7.78-7.78 2.81-2.81c.8-.78.8-2.07 0-2.86zM5.41 20L4 18.59l7.72-7.72 1.47 1.35L5.41 20z\"/>\n",
              "  </svg>\n",
              "      </button>\n",
              "      \n",
              "  <style>\n",
              "    .colab-df-container {\n",
              "      display:flex;\n",
              "      flex-wrap:wrap;\n",
              "      gap: 12px;\n",
              "    }\n",
              "\n",
              "    .colab-df-convert {\n",
              "      background-color: #E8F0FE;\n",
              "      border: none;\n",
              "      border-radius: 50%;\n",
              "      cursor: pointer;\n",
              "      display: none;\n",
              "      fill: #1967D2;\n",
              "      height: 32px;\n",
              "      padding: 0 0 0 0;\n",
              "      width: 32px;\n",
              "    }\n",
              "\n",
              "    .colab-df-convert:hover {\n",
              "      background-color: #E2EBFA;\n",
              "      box-shadow: 0px 1px 2px rgba(60, 64, 67, 0.3), 0px 1px 3px 1px rgba(60, 64, 67, 0.15);\n",
              "      fill: #174EA6;\n",
              "    }\n",
              "\n",
              "    [theme=dark] .colab-df-convert {\n",
              "      background-color: #3B4455;\n",
              "      fill: #D2E3FC;\n",
              "    }\n",
              "\n",
              "    [theme=dark] .colab-df-convert:hover {\n",
              "      background-color: #434B5C;\n",
              "      box-shadow: 0px 1px 3px 1px rgba(0, 0, 0, 0.15);\n",
              "      filter: drop-shadow(0px 1px 2px rgba(0, 0, 0, 0.3));\n",
              "      fill: #FFFFFF;\n",
              "    }\n",
              "  </style>\n",
              "\n",
              "      <script>\n",
              "        const buttonEl =\n",
              "          document.querySelector('#df-75a12081-de95-4886-bac5-728e15730893 button.colab-df-convert');\n",
              "        buttonEl.style.display =\n",
              "          google.colab.kernel.accessAllowed ? 'block' : 'none';\n",
              "\n",
              "        async function convertToInteractive(key) {\n",
              "          const element = document.querySelector('#df-75a12081-de95-4886-bac5-728e15730893');\n",
              "          const dataTable =\n",
              "            await google.colab.kernel.invokeFunction('convertToInteractive',\n",
              "                                                     [key], {});\n",
              "          if (!dataTable) return;\n",
              "\n",
              "          const docLinkHtml = 'Like what you see? Visit the ' +\n",
              "            '<a target=\"_blank\" href=https://colab.research.google.com/notebooks/data_table.ipynb>data table notebook</a>'\n",
              "            + ' to learn more about interactive tables.';\n",
              "          element.innerHTML = '';\n",
              "          dataTable['output_type'] = 'display_data';\n",
              "          await google.colab.output.renderOutput(dataTable, element);\n",
              "          const docLink = document.createElement('div');\n",
              "          docLink.innerHTML = docLinkHtml;\n",
              "          element.appendChild(docLink);\n",
              "        }\n",
              "      </script>\n",
              "    </div>\n",
              "  </div>\n",
              "  "
            ],
            "text/plain": [
              "            Date  Open  High  Low  Close  Adj Close  Volume\n",
              "151   2016-08-12   NaN   NaN  NaN    NaN        NaN     NaN\n",
              "493   2018-01-01   NaN   NaN  NaN    NaN        NaN     NaN\n",
              "739   2019-01-01   NaN   NaN  NaN    NaN        NaN     NaN\n",
              "937   2019-10-27   NaN   NaN  NaN    NaN        NaN     NaN\n",
              "1201  2020-11-14   NaN   NaN  NaN    NaN        NaN     NaN\n",
              "1233  2021-01-01   NaN   NaN  NaN    NaN        NaN     NaN"
            ]
          },
          "metadata": {},
          "execution_count": 175
        }
      ]
    },
    {
      "cell_type": "code",
      "source": [
        "data[\"Date\"]=pd.to_datetime(data.Date,format=\"%Y-%m-%d\")\n",
        "data.index=data['Date']\n",
        "test[\"Date\"]=pd.to_datetime(test.Date,format=\"%Y-%m-%d\")\n",
        "test.index=test['Date']"
      ],
      "metadata": {
        "id": "3SuhYHqrXeQM"
      },
      "execution_count": 179,
      "outputs": []
    },
    {
      "cell_type": "code",
      "source": [
        "data.dropna(inplace=True)\n",
        "print(data.shape)\n",
        "print(data.isnull().sum())"
      ],
      "metadata": {
        "colab": {
          "base_uri": "https://localhost:8080/"
        },
        "id": "XDSyomU7qiJw",
        "outputId": "86f9b0f8-f76b-46a2-cee9-9abc30c55567"
      },
      "execution_count": 180,
      "outputs": [
        {
          "output_type": "stream",
          "name": "stdout",
          "text": [
            "(1475, 7)\n",
            "Date         0\n",
            "Open         0\n",
            "High         0\n",
            "Low          0\n",
            "Close        0\n",
            "Adj Close    0\n",
            "Volume       0\n",
            "dtype: int64\n"
          ]
        }
      ]
    },
    {
      "cell_type": "code",
      "source": [
        "plt.figure(figsize=(16,9))\n",
        "plt.plot(data['Close'])\n",
        "plt.title('Close Price History')\n",
        "plt.xlabel('Year',fontsize=14,labelpad=12)\n",
        "plt.ylabel('Nifty 50',fontsize=14,labelpad=12)\n",
        "plt.show()"
      ],
      "metadata": {
        "colab": {
          "base_uri": "https://localhost:8080/",
          "height": 579
        },
        "id": "6RVb2RCzqn8G",
        "outputId": "6371d2ca-e094-42b7-d06f-ea05cf6ce2d6"
      },
      "execution_count": 178,
      "outputs": [
        {
          "output_type": "display_data",
          "data": {
            "image/png": "[encoded data removed]",
            "text/plain": [
              "<Figure size 1152x648 with 1 Axes>"
            ]
          },
          "metadata": {
            "needs_background": "light"
          }
        }
      ]
    },
    {
      "cell_type": "markdown",
      "source": [
        "###For test dataset we do not have 30 days previous data to calculate 30SMA lets get it from train data"
      ],
      "metadata": {
        "id": "rYsU62GB42Fo"
      }
    },
    {
      "cell_type": "code",
      "source": [
        "previous_30_days= data.tail(30)\n",
        "final_test=previous_30_days.append(test)"
      ],
      "metadata": {
        "id": "DTML2vQq44Wr"
      },
      "execution_count": 181,
      "outputs": []
    },
    {
      "cell_type": "markdown",
      "source": [
        "###Lets make few more features"
      ],
      "metadata": {
        "id": "4gaT583pi9Xs"
      }
    },
    {
      "cell_type": "code",
      "source": [
        "#High low difference \n",
        "data['H-L']=data['High']-data['Low']\n",
        "final_test['H-L']=final_test['High']-final_test['Low']"
      ],
      "metadata": {
        "id": "5TWScU_Ii0iU"
      },
      "execution_count": 182,
      "outputs": []
    },
    {
      "cell_type": "code",
      "source": [
        "#stock close open difference\n",
        "data['C-O']=data['Close']-data['Open']\n",
        "#stock close open difference\n",
        "final_test['C-O']=final_test['Close']-final_test['Open']"
      ],
      "metadata": {
        "id": "vZXI72XGlQxM"
      },
      "execution_count": 183,
      "outputs": []
    },
    {
      "cell_type": "code",
      "source": [
        "#Calculating Simple moving average(7,14,21,30) days for train also calculating std deviation\n",
        "data['SMA7'] = data['Close'].rolling(7).mean()\n",
        "data['SMA14'] = data['Close'].rolling(14).mean()\n",
        "data['SMA21'] = data['Close'].rolling(21).mean()\n",
        "data['SMA30'] = data['Close'].rolling(30).mean()\n",
        "\n",
        "data['STD7'] = data['Close'].rolling(7).std()\n",
        "data['STD14'] = data['Close'].rolling(14).std()\n",
        "data['STD21'] = data['Close'].rolling(21).std()\n",
        "data['STD30'] = data['Close'].rolling(30).std()\n",
        "\n",
        "#Calculating Simple moving average(7,14,21,30) days for test also calculating std deviation\n",
        "\n",
        "final_test['SMA7'] = final_test['Close'].rolling(7).mean()\n",
        "final_test['SMA14'] = final_test['Close'].rolling(14).mean()\n",
        "final_test['SMA21'] = final_test['Close'].rolling(21).mean()\n",
        "final_test['SMA30'] = final_test['Close'].rolling(30).mean()\n",
        "\n",
        "final_test['STD7'] = final_test['Close'].rolling(7).std()\n",
        "final_test['STD14'] = final_test['Close'].rolling(14).std()\n",
        "final_test['STD21'] = final_test['Close'].rolling(21).std()\n",
        "final_test['STD30'] = final_test['Close'].rolling(30).std()\n"
      ],
      "metadata": {
        "id": "His6qI36mO6k"
      },
      "execution_count": 184,
      "outputs": []
    },
    {
      "cell_type": "code",
      "source": [
        "print(data.head())\n",
        "print(final_test.head())"
      ],
      "metadata": {
        "colab": {
          "base_uri": "https://localhost:8080/"
        },
        "id": "KrXa-GTGnw9u",
        "outputId": "7ccc2626-153b-44c7-b76f-f8663f5b0274"
      },
      "execution_count": 186,
      "outputs": [
        {
          "output_type": "stream",
          "name": "stdout",
          "text": [
            "                 Date         Open         High  ...  STD14  STD21  STD30\n",
            "Date                                             ...                     \n",
            "2016-01-04 2016-01-04  7924.549805  7937.549805  ...    NaN    NaN    NaN\n",
            "2016-01-05 2016-01-05  7828.399902  7831.200195  ...    NaN    NaN    NaN\n",
            "2016-01-06 2016-01-06  7788.049805  7800.950195  ...    NaN    NaN    NaN\n",
            "2016-01-07 2016-01-07  7673.350098  7674.950195  ...    NaN    NaN    NaN\n",
            "2016-01-08 2016-01-08  7611.649902  7634.100098  ...    NaN    NaN    NaN\n",
            "\n",
            "[5 rows x 17 columns]\n",
            "                 Date          Open          High  ...  STD14  STD21  STD30\n",
            "Date                                               ...                     \n",
            "2021-11-22 2021-11-22  17796.250000  17805.250000  ...    NaN    NaN    NaN\n",
            "2021-11-23 2021-11-23  17281.750000  17553.699219  ...    NaN    NaN    NaN\n",
            "2021-11-24 2021-11-24  17550.050781  17600.599609  ...    NaN    NaN    NaN\n",
            "2021-11-25 2021-11-25  17417.300781  17564.349609  ...    NaN    NaN    NaN\n",
            "2021-11-26 2021-11-26  17338.750000  17355.400391  ...    NaN    NaN    NaN\n",
            "\n",
            "[5 rows x 17 columns]\n"
          ]
        }
      ]
    },
    {
      "cell_type": "code",
      "source": [
        "data.isnull().sum()"
      ],
      "metadata": {
        "colab": {
          "base_uri": "https://localhost:8080/"
        },
        "id": "U4i2PqOBXWix",
        "outputId": "7319f654-51d6-4704-92a1-ae555c82c0e3"
      },
      "execution_count": 187,
      "outputs": [
        {
          "output_type": "execute_result",
          "data": {
            "text/plain": [
              "Date          0\n",
              "Open          0\n",
              "High          0\n",
              "Low           0\n",
              "Close         0\n",
              "Adj Close     0\n",
              "Volume        0\n",
              "H-L           0\n",
              "C-O           0\n",
              "SMA7          6\n",
              "SMA14        13\n",
              "SMA21        20\n",
              "SMA30        29\n",
              "STD7          6\n",
              "STD14        13\n",
              "STD21        20\n",
              "STD30        29\n",
              "dtype: int64"
            ]
          },
          "metadata": {},
          "execution_count": 187
        }
      ]
    },
    {
      "cell_type": "code",
      "source": [
        "# new_data=data.filter(['Close','Volume','H-L','C-O','SMA7','SMA14','SMA21','SMA30'])\n",
        "\n"
      ],
      "metadata": {
        "id": "Ivgnldo7c84r"
      },
      "execution_count": 84,
      "outputs": []
    },
    {
      "cell_type": "code",
      "source": [
        "data.Date = pd.to_datetime(data.Date, format=\"%Y-%m-%d\")\n",
        "data[\"month\"] = data.Date.dt.month\n",
        "data[\"day\"] = data.Date.dt.day\n",
        "data[\"day_of_week\"] = data.Date.dt.dayofweek\n",
        "data.head()\n",
        "\n"
      ],
      "metadata": {
        "colab": {
          "base_uri": "https://localhost:8080/",
          "height": 302
        },
        "id": "_HKympnO2BtV",
        "outputId": "8ba6e0d3-aaf9-46dd-d64a-17a57966ccd3"
      },
      "execution_count": 189,
      "outputs": [
        {
          "output_type": "execute_result",
          "data": {
            "text/html": [
              "\n",
              "  <div id=\"df-809cd9d9-e576-43e6-a095-6433674e69a9\">\n",
              "    <div class=\"colab-df-container\">\n",
              "      <div>\n",
              "<style scoped>\n",
              "    .dataframe tbody tr th:only-of-type {\n",
              "        vertical-align: middle;\n",
              "    }\n",
              "\n",
              "    .dataframe tbody tr th {\n",
              "        vertical-align: top;\n",
              "    }\n",
              "\n",
              "    .dataframe thead th {\n",
              "        text-align: right;\n",
              "    }\n",
              "</style>\n",
              "<table border=\"1\" class=\"dataframe\">\n",
              "  <thead>\n",
              "    <tr style=\"text-align: right;\">\n",
              "      <th></th>\n",
              "      <th>Date</th>\n",
              "      <th>Open</th>\n",
              "      <th>High</th>\n",
              "      <th>Low</th>\n",
              "      <th>Close</th>\n",
              "      <th>Adj Close</th>\n",
              "      <th>Volume</th>\n",
              "      <th>H-L</th>\n",
              "      <th>C-O</th>\n",
              "      <th>SMA7</th>\n",
              "      <th>SMA14</th>\n",
              "      <th>SMA21</th>\n",
              "      <th>SMA30</th>\n",
              "      <th>STD7</th>\n",
              "      <th>STD14</th>\n",
              "      <th>STD21</th>\n",
              "      <th>STD30</th>\n",
              "      <th>month</th>\n",
              "      <th>day</th>\n",
              "      <th>day_of_week</th>\n",
              "    </tr>\n",
              "    <tr>\n",
              "      <th>Date</th>\n",
              "      <th></th>\n",
              "      <th></th>\n",
              "      <th></th>\n",
              "      <th></th>\n",
              "      <th></th>\n",
              "      <th></th>\n",
              "      <th></th>\n",
              "      <th></th>\n",
              "      <th></th>\n",
              "      <th></th>\n",
              "      <th></th>\n",
              "      <th></th>\n",
              "      <th></th>\n",
              "      <th></th>\n",
              "      <th></th>\n",
              "      <th></th>\n",
              "      <th></th>\n",
              "      <th></th>\n",
              "      <th></th>\n",
              "      <th></th>\n",
              "    </tr>\n",
              "  </thead>\n",
              "  <tbody>\n",
              "    <tr>\n",
              "      <th>2016-01-04</th>\n",
              "      <td>2016-01-04</td>\n",
              "      <td>7924.549805</td>\n",
              "      <td>7937.549805</td>\n",
              "      <td>7781.100098</td>\n",
              "      <td>7791.299805</td>\n",
              "      <td>7791.299805</td>\n",
              "      <td>134700.0</td>\n",
              "      <td>156.449707</td>\n",
              "      <td>-133.250000</td>\n",
              "      <td>NaN</td>\n",
              "      <td>NaN</td>\n",
              "      <td>NaN</td>\n",
              "      <td>NaN</td>\n",
              "      <td>NaN</td>\n",
              "      <td>NaN</td>\n",
              "      <td>NaN</td>\n",
              "      <td>NaN</td>\n",
              "      <td>1</td>\n",
              "      <td>4</td>\n",
              "      <td>0</td>\n",
              "    </tr>\n",
              "    <tr>\n",
              "      <th>2016-01-05</th>\n",
              "      <td>2016-01-05</td>\n",
              "      <td>7828.399902</td>\n",
              "      <td>7831.200195</td>\n",
              "      <td>7763.250000</td>\n",
              "      <td>7784.649902</td>\n",
              "      <td>7784.649902</td>\n",
              "      <td>145200.0</td>\n",
              "      <td>67.950195</td>\n",
              "      <td>-43.750000</td>\n",
              "      <td>NaN</td>\n",
              "      <td>NaN</td>\n",
              "      <td>NaN</td>\n",
              "      <td>NaN</td>\n",
              "      <td>NaN</td>\n",
              "      <td>NaN</td>\n",
              "      <td>NaN</td>\n",
              "      <td>NaN</td>\n",
              "      <td>1</td>\n",
              "      <td>5</td>\n",
              "      <td>1</td>\n",
              "    </tr>\n",
              "    <tr>\n",
              "      <th>2016-01-06</th>\n",
              "      <td>2016-01-06</td>\n",
              "      <td>7788.049805</td>\n",
              "      <td>7800.950195</td>\n",
              "      <td>7721.200195</td>\n",
              "      <td>7741.000000</td>\n",
              "      <td>7741.000000</td>\n",
              "      <td>147100.0</td>\n",
              "      <td>79.750000</td>\n",
              "      <td>-47.049805</td>\n",
              "      <td>NaN</td>\n",
              "      <td>NaN</td>\n",
              "      <td>NaN</td>\n",
              "      <td>NaN</td>\n",
              "      <td>NaN</td>\n",
              "      <td>NaN</td>\n",
              "      <td>NaN</td>\n",
              "      <td>NaN</td>\n",
              "      <td>1</td>\n",
              "      <td>6</td>\n",
              "      <td>2</td>\n",
              "    </tr>\n",
              "    <tr>\n",
              "      <th>2016-01-07</th>\n",
              "      <td>2016-01-07</td>\n",
              "      <td>7673.350098</td>\n",
              "      <td>7674.950195</td>\n",
              "      <td>7556.600098</td>\n",
              "      <td>7568.299805</td>\n",
              "      <td>7568.299805</td>\n",
              "      <td>188900.0</td>\n",
              "      <td>118.350097</td>\n",
              "      <td>-105.050293</td>\n",
              "      <td>NaN</td>\n",
              "      <td>NaN</td>\n",
              "      <td>NaN</td>\n",
              "      <td>NaN</td>\n",
              "      <td>NaN</td>\n",
              "      <td>NaN</td>\n",
              "      <td>NaN</td>\n",
              "      <td>NaN</td>\n",
              "      <td>1</td>\n",
              "      <td>7</td>\n",
              "      <td>3</td>\n",
              "    </tr>\n",
              "    <tr>\n",
              "      <th>2016-01-08</th>\n",
              "      <td>2016-01-08</td>\n",
              "      <td>7611.649902</td>\n",
              "      <td>7634.100098</td>\n",
              "      <td>7581.049805</td>\n",
              "      <td>7601.350098</td>\n",
              "      <td>7601.350098</td>\n",
              "      <td>157400.0</td>\n",
              "      <td>53.050293</td>\n",
              "      <td>-10.299804</td>\n",
              "      <td>NaN</td>\n",
              "      <td>NaN</td>\n",
              "      <td>NaN</td>\n",
              "      <td>NaN</td>\n",
              "      <td>NaN</td>\n",
              "      <td>NaN</td>\n",
              "      <td>NaN</td>\n",
              "      <td>NaN</td>\n",
              "      <td>1</td>\n",
              "      <td>8</td>\n",
              "      <td>4</td>\n",
              "    </tr>\n",
              "  </tbody>\n",
              "</table>\n",
              "</div>\n",
              "      <button class=\"colab-df-convert\" onclick=\"convertToInteractive('df-809cd9d9-e576-43e6-a095-6433674e69a9')\"\n",
              "              title=\"Convert this dataframe to an interactive table.\"\n",
              "              style=\"display:none;\">\n",
              "        \n",
              "  <svg xmlns=\"http://www.w3.org/2000/svg\" height=\"24px\"viewBox=\"0 0 24 24\"\n",
              "       width=\"24px\">\n",
              "    <path d=\"M0 0h24v24H0V0z\" fill=\"none\"/>\n",
              "    <path d=\"M18.56 5.44l.94 2.06.94-2.06 2.06-.94-2.06-.94-.94-2.06-.94 2.06-2.06.94zm-11 1L8.5 8.5l.94-2.06 2.06-.94-2.06-.94L8.5 2.5l-.94 2.06-2.06.94zm10 10l.94 2.06.94-2.06 2.06-.94-2.06-.94-.94-2.06-.94 2.06-2.06.94z\"/><path d=\"M17.41 7.96l-1.37-1.37c-.4-.4-.92-.59-1.43-.59-.52 0-1.04.2-1.43.59L10.3 9.45l-7.72 7.72c-.78.78-.78 2.05 0 2.83L4 21.41c.39.39.9.59 1.41.59.51 0 1.02-.2 1.41-.59l7.78-7.78 2.81-2.81c.8-.78.8-2.07 0-2.86zM5.41 20L4 18.59l7.72-7.72 1.47 1.35L5.41 20z\"/>\n",
              "  </svg>\n",
              "      </button>\n",
              "      \n",
              "  <style>\n",
              "    .colab-df-container {\n",
              "      display:flex;\n",
              "      flex-wrap:wrap;\n",
              "      gap: 12px;\n",
              "    }\n",
              "\n",
              "    .colab-df-convert {\n",
              "      background-color: #E8F0FE;\n",
              "      border: none;\n",
              "      border-radius: 50%;\n",
              "      cursor: pointer;\n",
              "      display: none;\n",
              "      fill: #1967D2;\n",
              "      height: 32px;\n",
              "      padding: 0 0 0 0;\n",
              "      width: 32px;\n",
              "    }\n",
              "\n",
              "    .colab-df-convert:hover {\n",
              "      background-color: #E2EBFA;\n",
              "      box-shadow: 0px 1px 2px rgba(60, 64, 67, 0.3), 0px 1px 3px 1px rgba(60, 64, 67, 0.15);\n",
              "      fill: #174EA6;\n",
              "    }\n",
              "\n",
              "    [theme=dark] .colab-df-convert {\n",
              "      background-color: #3B4455;\n",
              "      fill: #D2E3FC;\n",
              "    }\n",
              "\n",
              "    [theme=dark] .colab-df-convert:hover {\n",
              "      background-color: #434B5C;\n",
              "      box-shadow: 0px 1px 3px 1px rgba(0, 0, 0, 0.15);\n",
              "      filter: drop-shadow(0px 1px 2px rgba(0, 0, 0, 0.3));\n",
              "      fill: #FFFFFF;\n",
              "    }\n",
              "  </style>\n",
              "\n",
              "      <script>\n",
              "        const buttonEl =\n",
              "          document.querySelector('#df-809cd9d9-e576-43e6-a095-6433674e69a9 button.colab-df-convert');\n",
              "        buttonEl.style.display =\n",
              "          google.colab.kernel.accessAllowed ? 'block' : 'none';\n",
              "\n",
              "        async function convertToInteractive(key) {\n",
              "          const element = document.querySelector('#df-809cd9d9-e576-43e6-a095-6433674e69a9');\n",
              "          const dataTable =\n",
              "            await google.colab.kernel.invokeFunction('convertToInteractive',\n",
              "                                                     [key], {});\n",
              "          if (!dataTable) return;\n",
              "\n",
              "          const docLinkHtml = 'Like what you see? Visit the ' +\n",
              "            '<a target=\"_blank\" href=https://colab.research.google.com/notebooks/data_table.ipynb>data table notebook</a>'\n",
              "            + ' to learn more about interactive tables.';\n",
              "          element.innerHTML = '';\n",
              "          dataTable['output_type'] = 'display_data';\n",
              "          await google.colab.output.renderOutput(dataTable, element);\n",
              "          const docLink = document.createElement('div');\n",
              "          docLink.innerHTML = docLinkHtml;\n",
              "          element.appendChild(docLink);\n",
              "        }\n",
              "      </script>\n",
              "    </div>\n",
              "  </div>\n",
              "  "
            ],
            "text/plain": [
              "                 Date         Open         High  ...  month  day  day_of_week\n",
              "Date                                             ...                         \n",
              "2016-01-04 2016-01-04  7924.549805  7937.549805  ...      1    4            0\n",
              "2016-01-05 2016-01-05  7828.399902  7831.200195  ...      1    5            1\n",
              "2016-01-06 2016-01-06  7788.049805  7800.950195  ...      1    6            2\n",
              "2016-01-07 2016-01-07  7673.350098  7674.950195  ...      1    7            3\n",
              "2016-01-08 2016-01-08  7611.649902  7634.100098  ...      1    8            4\n",
              "\n",
              "[5 rows x 20 columns]"
            ]
          },
          "metadata": {},
          "execution_count": 189
        }
      ]
    },
    {
      "cell_type": "code",
      "source": [
        "final_test.Date = pd.to_datetime(final_test.Date, format=\"%Y-%m-%d\")\n",
        "final_test[\"month\"] = final_test.Date.dt.month\n",
        "final_test[\"day\"] = final_test.Date.dt.day\n",
        "final_test[\"day_of_week\"] = final_test.Date.dt.dayofweek\n",
        "final_test.head()"
      ],
      "metadata": {
        "colab": {
          "base_uri": "https://localhost:8080/",
          "height": 302
        },
        "id": "xKv-G2PJ6_nz",
        "outputId": "a025d4bd-1e61-498e-f2a6-2599817b38f9"
      },
      "execution_count": 190,
      "outputs": [
        {
          "output_type": "execute_result",
          "data": {
            "text/html": [
              "\n",
              "  <div id=\"df-8739f88b-9d66-4e2f-93d4-8dfc60d6f15f\">\n",
              "    <div class=\"colab-df-container\">\n",
              "      <div>\n",
              "<style scoped>\n",
              "    .dataframe tbody tr th:only-of-type {\n",
              "        vertical-align: middle;\n",
              "    }\n",
              "\n",
              "    .dataframe tbody tr th {\n",
              "        vertical-align: top;\n",
              "    }\n",
              "\n",
              "    .dataframe thead th {\n",
              "        text-align: right;\n",
              "    }\n",
              "</style>\n",
              "<table border=\"1\" class=\"dataframe\">\n",
              "  <thead>\n",
              "    <tr style=\"text-align: right;\">\n",
              "      <th></th>\n",
              "      <th>Date</th>\n",
              "      <th>Open</th>\n",
              "      <th>High</th>\n",
              "      <th>Low</th>\n",
              "      <th>Close</th>\n",
              "      <th>Adj Close</th>\n",
              "      <th>Volume</th>\n",
              "      <th>H-L</th>\n",
              "      <th>C-O</th>\n",
              "      <th>SMA7</th>\n",
              "      <th>SMA14</th>\n",
              "      <th>SMA21</th>\n",
              "      <th>SMA30</th>\n",
              "      <th>STD7</th>\n",
              "      <th>STD14</th>\n",
              "      <th>STD21</th>\n",
              "      <th>STD30</th>\n",
              "      <th>month</th>\n",
              "      <th>day</th>\n",
              "      <th>day_of_week</th>\n",
              "    </tr>\n",
              "    <tr>\n",
              "      <th>Date</th>\n",
              "      <th></th>\n",
              "      <th></th>\n",
              "      <th></th>\n",
              "      <th></th>\n",
              "      <th></th>\n",
              "      <th></th>\n",
              "      <th></th>\n",
              "      <th></th>\n",
              "      <th></th>\n",
              "      <th></th>\n",
              "      <th></th>\n",
              "      <th></th>\n",
              "      <th></th>\n",
              "      <th></th>\n",
              "      <th></th>\n",
              "      <th></th>\n",
              "      <th></th>\n",
              "      <th></th>\n",
              "      <th></th>\n",
              "      <th></th>\n",
              "    </tr>\n",
              "  </thead>\n",
              "  <tbody>\n",
              "    <tr>\n",
              "      <th>2021-11-22</th>\n",
              "      <td>2021-11-22</td>\n",
              "      <td>17796.250000</td>\n",
              "      <td>17805.250000</td>\n",
              "      <td>17280.449219</td>\n",
              "      <td>17416.550781</td>\n",
              "      <td>17416.550781</td>\n",
              "      <td>356400.0</td>\n",
              "      <td>524.800781</td>\n",
              "      <td>-379.699219</td>\n",
              "      <td>NaN</td>\n",
              "      <td>NaN</td>\n",
              "      <td>NaN</td>\n",
              "      <td>NaN</td>\n",
              "      <td>NaN</td>\n",
              "      <td>NaN</td>\n",
              "      <td>NaN</td>\n",
              "      <td>NaN</td>\n",
              "      <td>11</td>\n",
              "      <td>22</td>\n",
              "      <td>0</td>\n",
              "    </tr>\n",
              "    <tr>\n",
              "      <th>2021-11-23</th>\n",
              "      <td>2021-11-23</td>\n",
              "      <td>17281.750000</td>\n",
              "      <td>17553.699219</td>\n",
              "      <td>17216.099609</td>\n",
              "      <td>17503.349609</td>\n",
              "      <td>17503.349609</td>\n",
              "      <td>308800.0</td>\n",
              "      <td>337.599610</td>\n",
              "      <td>221.599609</td>\n",
              "      <td>NaN</td>\n",
              "      <td>NaN</td>\n",
              "      <td>NaN</td>\n",
              "      <td>NaN</td>\n",
              "      <td>NaN</td>\n",
              "      <td>NaN</td>\n",
              "      <td>NaN</td>\n",
              "      <td>NaN</td>\n",
              "      <td>11</td>\n",
              "      <td>23</td>\n",
              "      <td>1</td>\n",
              "    </tr>\n",
              "    <tr>\n",
              "      <th>2021-11-24</th>\n",
              "      <td>2021-11-24</td>\n",
              "      <td>17550.050781</td>\n",
              "      <td>17600.599609</td>\n",
              "      <td>17354.000000</td>\n",
              "      <td>17415.050781</td>\n",
              "      <td>17415.050781</td>\n",
              "      <td>298100.0</td>\n",
              "      <td>246.599609</td>\n",
              "      <td>-135.000000</td>\n",
              "      <td>NaN</td>\n",
              "      <td>NaN</td>\n",
              "      <td>NaN</td>\n",
              "      <td>NaN</td>\n",
              "      <td>NaN</td>\n",
              "      <td>NaN</td>\n",
              "      <td>NaN</td>\n",
              "      <td>NaN</td>\n",
              "      <td>11</td>\n",
              "      <td>24</td>\n",
              "      <td>2</td>\n",
              "    </tr>\n",
              "    <tr>\n",
              "      <th>2021-11-25</th>\n",
              "      <td>2021-11-25</td>\n",
              "      <td>17417.300781</td>\n",
              "      <td>17564.349609</td>\n",
              "      <td>17351.699219</td>\n",
              "      <td>17536.250000</td>\n",
              "      <td>17536.250000</td>\n",
              "      <td>255900.0</td>\n",
              "      <td>212.650390</td>\n",
              "      <td>118.949219</td>\n",
              "      <td>NaN</td>\n",
              "      <td>NaN</td>\n",
              "      <td>NaN</td>\n",
              "      <td>NaN</td>\n",
              "      <td>NaN</td>\n",
              "      <td>NaN</td>\n",
              "      <td>NaN</td>\n",
              "      <td>NaN</td>\n",
              "      <td>11</td>\n",
              "      <td>25</td>\n",
              "      <td>3</td>\n",
              "    </tr>\n",
              "    <tr>\n",
              "      <th>2021-11-26</th>\n",
              "      <td>2021-11-26</td>\n",
              "      <td>17338.750000</td>\n",
              "      <td>17355.400391</td>\n",
              "      <td>16985.699219</td>\n",
              "      <td>17026.449219</td>\n",
              "      <td>17026.449219</td>\n",
              "      <td>356300.0</td>\n",
              "      <td>369.701172</td>\n",
              "      <td>-312.300781</td>\n",
              "      <td>NaN</td>\n",
              "      <td>NaN</td>\n",
              "      <td>NaN</td>\n",
              "      <td>NaN</td>\n",
              "      <td>NaN</td>\n",
              "      <td>NaN</td>\n",
              "      <td>NaN</td>\n",
              "      <td>NaN</td>\n",
              "      <td>11</td>\n",
              "      <td>26</td>\n",
              "      <td>4</td>\n",
              "    </tr>\n",
              "  </tbody>\n",
              "</table>\n",
              "</div>\n",
              "      <button class=\"colab-df-convert\" onclick=\"convertToInteractive('df-8739f88b-9d66-4e2f-93d4-8dfc60d6f15f')\"\n",
              "              title=\"Convert this dataframe to an interactive table.\"\n",
              "              style=\"display:none;\">\n",
              "        \n",
              "  <svg xmlns=\"http://www.w3.org/2000/svg\" height=\"24px\"viewBox=\"0 0 24 24\"\n",
              "       width=\"24px\">\n",
              "    <path d=\"M0 0h24v24H0V0z\" fill=\"none\"/>\n",
              "    <path d=\"M18.56 5.44l.94 2.06.94-2.06 2.06-.94-2.06-.94-.94-2.06-.94 2.06-2.06.94zm-11 1L8.5 8.5l.94-2.06 2.06-.94-2.06-.94L8.5 2.5l-.94 2.06-2.06.94zm10 10l.94 2.06.94-2.06 2.06-.94-2.06-.94-.94-2.06-.94 2.06-2.06.94z\"/><path d=\"M17.41 7.96l-1.37-1.37c-.4-.4-.92-.59-1.43-.59-.52 0-1.04.2-1.43.59L10.3 9.45l-7.72 7.72c-.78.78-.78 2.05 0 2.83L4 21.41c.39.39.9.59 1.41.59.51 0 1.02-.2 1.41-.59l7.78-7.78 2.81-2.81c.8-.78.8-2.07 0-2.86zM5.41 20L4 18.59l7.72-7.72 1.47 1.35L5.41 20z\"/>\n",
              "  </svg>\n",
              "      </button>\n",
              "      \n",
              "  <style>\n",
              "    .colab-df-container {\n",
              "      display:flex;\n",
              "      flex-wrap:wrap;\n",
              "      gap: 12px;\n",
              "    }\n",
              "\n",
              "    .colab-df-convert {\n",
              "      background-color: #E8F0FE;\n",
              "      border: none;\n",
              "      border-radius: 50%;\n",
              "      cursor: pointer;\n",
              "      display: none;\n",
              "      fill: #1967D2;\n",
              "      height: 32px;\n",
              "      padding: 0 0 0 0;\n",
              "      width: 32px;\n",
              "    }\n",
              "\n",
              "    .colab-df-convert:hover {\n",
              "      background-color: #E2EBFA;\n",
              "      box-shadow: 0px 1px 2px rgba(60, 64, 67, 0.3), 0px 1px 3px 1px rgba(60, 64, 67, 0.15);\n",
              "      fill: #174EA6;\n",
              "    }\n",
              "\n",
              "    [theme=dark] .colab-df-convert {\n",
              "      background-color: #3B4455;\n",
              "      fill: #D2E3FC;\n",
              "    }\n",
              "\n",
              "    [theme=dark] .colab-df-convert:hover {\n",
              "      background-color: #434B5C;\n",
              "      box-shadow: 0px 1px 3px 1px rgba(0, 0, 0, 0.15);\n",
              "      filter: drop-shadow(0px 1px 2px rgba(0, 0, 0, 0.3));\n",
              "      fill: #FFFFFF;\n",
              "    }\n",
              "  </style>\n",
              "\n",
              "      <script>\n",
              "        const buttonEl =\n",
              "          document.querySelector('#df-8739f88b-9d66-4e2f-93d4-8dfc60d6f15f button.colab-df-convert');\n",
              "        buttonEl.style.display =\n",
              "          google.colab.kernel.accessAllowed ? 'block' : 'none';\n",
              "\n",
              "        async function convertToInteractive(key) {\n",
              "          const element = document.querySelector('#df-8739f88b-9d66-4e2f-93d4-8dfc60d6f15f');\n",
              "          const dataTable =\n",
              "            await google.colab.kernel.invokeFunction('convertToInteractive',\n",
              "                                                     [key], {});\n",
              "          if (!dataTable) return;\n",
              "\n",
              "          const docLinkHtml = 'Like what you see? Visit the ' +\n",
              "            '<a target=\"_blank\" href=https://colab.research.google.com/notebooks/data_table.ipynb>data table notebook</a>'\n",
              "            + ' to learn more about interactive tables.';\n",
              "          element.innerHTML = '';\n",
              "          dataTable['output_type'] = 'display_data';\n",
              "          await google.colab.output.renderOutput(dataTable, element);\n",
              "          const docLink = document.createElement('div');\n",
              "          docLink.innerHTML = docLinkHtml;\n",
              "          element.appendChild(docLink);\n",
              "        }\n",
              "      </script>\n",
              "    </div>\n",
              "  </div>\n",
              "  "
            ],
            "text/plain": [
              "                 Date          Open          High  ...  month  day  day_of_week\n",
              "Date                                               ...                         \n",
              "2021-11-22 2021-11-22  17796.250000  17805.250000  ...     11   22            0\n",
              "2021-11-23 2021-11-23  17281.750000  17553.699219  ...     11   23            1\n",
              "2021-11-24 2021-11-24  17550.050781  17600.599609  ...     11   24            2\n",
              "2021-11-25 2021-11-25  17417.300781  17564.349609  ...     11   25            3\n",
              "2021-11-26 2021-11-26  17338.750000  17355.400391  ...     11   26            4\n",
              "\n",
              "[5 rows x 20 columns]"
            ]
          },
          "metadata": {},
          "execution_count": 190
        }
      ]
    },
    {
      "cell_type": "code",
      "source": [
        "col=['SMA7','SMA14','SMA21','SMA30','STD7','STD14','STD21','STD30']\n",
        "for i in col:\n",
        "  data[i].fillna(data['Adj Close'],inplace=True)"
      ],
      "metadata": {
        "id": "Ucnz076VXwHM"
      },
      "execution_count": 191,
      "outputs": []
    },
    {
      "cell_type": "code",
      "source": [
        "dataset=data[['Open', 'High', 'Low', 'Volume', 'Close',\n",
        "                 'H-L','C-O', 'SMA7', 'SMA14', 'SMA21', 'SMA30', \n",
        "                 'STD7', 'STD14', 'STD21','STD30', 'month', 'day', 'day_of_week']]\n",
        "\n",
        "test_dataset= final_test[['Open', 'High', 'Low', 'Volume', 'Close',\n",
        "                 'H-L','C-O', 'SMA7', 'SMA14', 'SMA21', 'SMA30', \n",
        "                 'STD7', 'STD14', 'STD21','STD30', 'month', 'day', 'day_of_week']]"
      ],
      "metadata": {
        "id": "sGcU9dl2AeaC"
      },
      "execution_count": 192,
      "outputs": []
    },
    {
      "cell_type": "code",
      "source": [
        "dataset.head()"
      ],
      "metadata": {
        "colab": {
          "base_uri": "https://localhost:8080/",
          "height": 302
        },
        "id": "sOYpqK2jWV2H",
        "outputId": "274e17ef-57dc-421e-aea2-3c76db1e48a5"
      },
      "execution_count": 193,
      "outputs": [
        {
          "output_type": "execute_result",
          "data": {
            "text/html": [
              "\n",
              "  <div id=\"df-fea1c3b2-b421-4230-a7ce-5fde160785fc\">\n",
              "    <div class=\"colab-df-container\">\n",
              "      <div>\n",
              "<style scoped>\n",
              "    .dataframe tbody tr th:only-of-type {\n",
              "        vertical-align: middle;\n",
              "    }\n",
              "\n",
              "    .dataframe tbody tr th {\n",
              "        vertical-align: top;\n",
              "    }\n",
              "\n",
              "    .dataframe thead th {\n",
              "        text-align: right;\n",
              "    }\n",
              "</style>\n",
              "<table border=\"1\" class=\"dataframe\">\n",
              "  <thead>\n",
              "    <tr style=\"text-align: right;\">\n",
              "      <th></th>\n",
              "      <th>Open</th>\n",
              "      <th>High</th>\n",
              "      <th>Low</th>\n",
              "      <th>Volume</th>\n",
              "      <th>Close</th>\n",
              "      <th>H-L</th>\n",
              "      <th>C-O</th>\n",
              "      <th>SMA7</th>\n",
              "      <th>SMA14</th>\n",
              "      <th>SMA21</th>\n",
              "      <th>SMA30</th>\n",
              "      <th>STD7</th>\n",
              "      <th>STD14</th>\n",
              "      <th>STD21</th>\n",
              "      <th>STD30</th>\n",
              "      <th>month</th>\n",
              "      <th>day</th>\n",
              "      <th>day_of_week</th>\n",
              "    </tr>\n",
              "    <tr>\n",
              "      <th>Date</th>\n",
              "      <th></th>\n",
              "      <th></th>\n",
              "      <th></th>\n",
              "      <th></th>\n",
              "      <th></th>\n",
              "      <th></th>\n",
              "      <th></th>\n",
              "      <th></th>\n",
              "      <th></th>\n",
              "      <th></th>\n",
              "      <th></th>\n",
              "      <th></th>\n",
              "      <th></th>\n",
              "      <th></th>\n",
              "      <th></th>\n",
              "      <th></th>\n",
              "      <th></th>\n",
              "      <th></th>\n",
              "    </tr>\n",
              "  </thead>\n",
              "  <tbody>\n",
              "    <tr>\n",
              "      <th>2016-01-04</th>\n",
              "      <td>7924.549805</td>\n",
              "      <td>7937.549805</td>\n",
              "      <td>7781.100098</td>\n",
              "      <td>134700.0</td>\n",
              "      <td>7791.299805</td>\n",
              "      <td>156.449707</td>\n",
              "      <td>-133.250000</td>\n",
              "      <td>7791.299805</td>\n",
              "      <td>7791.299805</td>\n",
              "      <td>7791.299805</td>\n",
              "      <td>7791.299805</td>\n",
              "      <td>7791.299805</td>\n",
              "      <td>7791.299805</td>\n",
              "      <td>7791.299805</td>\n",
              "      <td>7791.299805</td>\n",
              "      <td>1</td>\n",
              "      <td>4</td>\n",
              "      <td>0</td>\n",
              "    </tr>\n",
              "    <tr>\n",
              "      <th>2016-01-05</th>\n",
              "      <td>7828.399902</td>\n",
              "      <td>7831.200195</td>\n",
              "      <td>7763.250000</td>\n",
              "      <td>145200.0</td>\n",
              "      <td>7784.649902</td>\n",
              "      <td>67.950195</td>\n",
              "      <td>-43.750000</td>\n",
              "      <td>7784.649902</td>\n",
              "      <td>7784.649902</td>\n",
              "      <td>7784.649902</td>\n",
              "      <td>7784.649902</td>\n",
              "      <td>7784.649902</td>\n",
              "      <td>7784.649902</td>\n",
              "      <td>7784.649902</td>\n",
              "      <td>7784.649902</td>\n",
              "      <td>1</td>\n",
              "      <td>5</td>\n",
              "      <td>1</td>\n",
              "    </tr>\n",
              "    <tr>\n",
              "      <th>2016-01-06</th>\n",
              "      <td>7788.049805</td>\n",
              "      <td>7800.950195</td>\n",
              "      <td>7721.200195</td>\n",
              "      <td>147100.0</td>\n",
              "      <td>7741.000000</td>\n",
              "      <td>79.750000</td>\n",
              "      <td>-47.049805</td>\n",
              "      <td>7741.000000</td>\n",
              "      <td>7741.000000</td>\n",
              "      <td>7741.000000</td>\n",
              "      <td>7741.000000</td>\n",
              "      <td>7741.000000</td>\n",
              "      <td>7741.000000</td>\n",
              "      <td>7741.000000</td>\n",
              "      <td>7741.000000</td>\n",
              "      <td>1</td>\n",
              "      <td>6</td>\n",
              "      <td>2</td>\n",
              "    </tr>\n",
              "    <tr>\n",
              "      <th>2016-01-07</th>\n",
              "      <td>7673.350098</td>\n",
              "      <td>7674.950195</td>\n",
              "      <td>7556.600098</td>\n",
              "      <td>188900.0</td>\n",
              "      <td>7568.299805</td>\n",
              "      <td>118.350097</td>\n",
              "      <td>-105.050293</td>\n",
              "      <td>7568.299805</td>\n",
              "      <td>7568.299805</td>\n",
              "      <td>7568.299805</td>\n",
              "      <td>7568.299805</td>\n",
              "      <td>7568.299805</td>\n",
              "      <td>7568.299805</td>\n",
              "      <td>7568.299805</td>\n",
              "      <td>7568.299805</td>\n",
              "      <td>1</td>\n",
              "      <td>7</td>\n",
              "      <td>3</td>\n",
              "    </tr>\n",
              "    <tr>\n",
              "      <th>2016-01-08</th>\n",
              "      <td>7611.649902</td>\n",
              "      <td>7634.100098</td>\n",
              "      <td>7581.049805</td>\n",
              "      <td>157400.0</td>\n",
              "      <td>7601.350098</td>\n",
              "      <td>53.050293</td>\n",
              "      <td>-10.299804</td>\n",
              "      <td>7601.350098</td>\n",
              "      <td>7601.350098</td>\n",
              "      <td>7601.350098</td>\n",
              "      <td>7601.350098</td>\n",
              "      <td>7601.350098</td>\n",
              "      <td>7601.350098</td>\n",
              "      <td>7601.350098</td>\n",
              "      <td>7601.350098</td>\n",
              "      <td>1</td>\n",
              "      <td>8</td>\n",
              "      <td>4</td>\n",
              "    </tr>\n",
              "  </tbody>\n",
              "</table>\n",
              "</div>\n",
              "      <button class=\"colab-df-convert\" onclick=\"convertToInteractive('df-fea1c3b2-b421-4230-a7ce-5fde160785fc')\"\n",
              "              title=\"Convert this dataframe to an interactive table.\"\n",
              "              style=\"display:none;\">\n",
              "        \n",
              "  <svg xmlns=\"http://www.w3.org/2000/svg\" height=\"24px\"viewBox=\"0 0 24 24\"\n",
              "       width=\"24px\">\n",
              "    <path d=\"M0 0h24v24H0V0z\" fill=\"none\"/>\n",
              "    <path d=\"M18.56 5.44l.94 2.06.94-2.06 2.06-.94-2.06-.94-.94-2.06-.94 2.06-2.06.94zm-11 1L8.5 8.5l.94-2.06 2.06-.94-2.06-.94L8.5 2.5l-.94 2.06-2.06.94zm10 10l.94 2.06.94-2.06 2.06-.94-2.06-.94-.94-2.06-.94 2.06-2.06.94z\"/><path d=\"M17.41 7.96l-1.37-1.37c-.4-.4-.92-.59-1.43-.59-.52 0-1.04.2-1.43.59L10.3 9.45l-7.72 7.72c-.78.78-.78 2.05 0 2.83L4 21.41c.39.39.9.59 1.41.59.51 0 1.02-.2 1.41-.59l7.78-7.78 2.81-2.81c.8-.78.8-2.07 0-2.86zM5.41 20L4 18.59l7.72-7.72 1.47 1.35L5.41 20z\"/>\n",
              "  </svg>\n",
              "      </button>\n",
              "      \n",
              "  <style>\n",
              "    .colab-df-container {\n",
              "      display:flex;\n",
              "      flex-wrap:wrap;\n",
              "      gap: 12px;\n",
              "    }\n",
              "\n",
              "    .colab-df-convert {\n",
              "      background-color: #E8F0FE;\n",
              "      border: none;\n",
              "      border-radius: 50%;\n",
              "      cursor: pointer;\n",
              "      display: none;\n",
              "      fill: #1967D2;\n",
              "      height: 32px;\n",
              "      padding: 0 0 0 0;\n",
              "      width: 32px;\n",
              "    }\n",
              "\n",
              "    .colab-df-convert:hover {\n",
              "      background-color: #E2EBFA;\n",
              "      box-shadow: 0px 1px 2px rgba(60, 64, 67, 0.3), 0px 1px 3px 1px rgba(60, 64, 67, 0.15);\n",
              "      fill: #174EA6;\n",
              "    }\n",
              "\n",
              "    [theme=dark] .colab-df-convert {\n",
              "      background-color: #3B4455;\n",
              "      fill: #D2E3FC;\n",
              "    }\n",
              "\n",
              "    [theme=dark] .colab-df-convert:hover {\n",
              "      background-color: #434B5C;\n",
              "      box-shadow: 0px 1px 3px 1px rgba(0, 0, 0, 0.15);\n",
              "      filter: drop-shadow(0px 1px 2px rgba(0, 0, 0, 0.3));\n",
              "      fill: #FFFFFF;\n",
              "    }\n",
              "  </style>\n",
              "\n",
              "      <script>\n",
              "        const buttonEl =\n",
              "          document.querySelector('#df-fea1c3b2-b421-4230-a7ce-5fde160785fc button.colab-df-convert');\n",
              "        buttonEl.style.display =\n",
              "          google.colab.kernel.accessAllowed ? 'block' : 'none';\n",
              "\n",
              "        async function convertToInteractive(key) {\n",
              "          const element = document.querySelector('#df-fea1c3b2-b421-4230-a7ce-5fde160785fc');\n",
              "          const dataTable =\n",
              "            await google.colab.kernel.invokeFunction('convertToInteractive',\n",
              "                                                     [key], {});\n",
              "          if (!dataTable) return;\n",
              "\n",
              "          const docLinkHtml = 'Like what you see? Visit the ' +\n",
              "            '<a target=\"_blank\" href=https://colab.research.google.com/notebooks/data_table.ipynb>data table notebook</a>'\n",
              "            + ' to learn more about interactive tables.';\n",
              "          element.innerHTML = '';\n",
              "          dataTable['output_type'] = 'display_data';\n",
              "          await google.colab.output.renderOutput(dataTable, element);\n",
              "          const docLink = document.createElement('div');\n",
              "          docLink.innerHTML = docLinkHtml;\n",
              "          element.appendChild(docLink);\n",
              "        }\n",
              "      </script>\n",
              "    </div>\n",
              "  </div>\n",
              "  "
            ],
            "text/plain": [
              "                   Open         High          Low  ...  month  day  day_of_week\n",
              "Date                                               ...                         \n",
              "2016-01-04  7924.549805  7937.549805  7781.100098  ...      1    4            0\n",
              "2016-01-05  7828.399902  7831.200195  7763.250000  ...      1    5            1\n",
              "2016-01-06  7788.049805  7800.950195  7721.200195  ...      1    6            2\n",
              "2016-01-07  7673.350098  7674.950195  7556.600098  ...      1    7            3\n",
              "2016-01-08  7611.649902  7634.100098  7581.049805  ...      1    8            4\n",
              "\n",
              "[5 rows x 18 columns]"
            ]
          },
          "metadata": {},
          "execution_count": 193
        }
      ]
    },
    {
      "cell_type": "code",
      "source": [
        "test_x=test_dataset.tail(len(test_dataset)-30)\n",
        "final_test_x=test_x.head(len(test_x)-1)\n",
        "final_test_x.shape"
      ],
      "metadata": {
        "colab": {
          "base_uri": "https://localhost:8080/"
        },
        "id": "I2o6skCm708r",
        "outputId": "6346f636-cef0-466b-8361-5d534c514519"
      },
      "execution_count": 197,
      "outputs": [
        {
          "output_type": "execute_result",
          "data": {
            "text/plain": [
              "(22, 18)"
            ]
          },
          "metadata": {},
          "execution_count": 197
        }
      ]
    },
    {
      "cell_type": "code",
      "source": [
        "test_y=test_dataset.Close.tail(len(test_dataset)-30)\n",
        "final_test_y=test_y.tail(len(test_y)-1)\n",
        "final_test_y=np.array(final_test_y)\n",
        "final_test_y"
      ],
      "metadata": {
        "colab": {
          "base_uri": "https://localhost:8080/"
        },
        "id": "o0pa7LIb70l2",
        "outputId": "6a3cdd45-0ffb-45f0-9961-70fb995b0a7b"
      },
      "execution_count": 210,
      "outputs": [
        {
          "output_type": "execute_result",
          "data": {
            "text/plain": [
              "array([17805.25    , 17925.25    , 17745.900391, 17812.699219,\n",
              "       18003.300781, 18055.75    , 18212.349609, 18257.800781,\n",
              "       18255.75    , 18308.099609, 18113.050781, 17938.400391,\n",
              "       17757.      , 17617.150391, 17149.099609, 17277.949219,\n",
              "       17110.150391, 17101.949219, 17339.849609, 17576.849609,\n",
              "       17780.      , 17560.199219])"
            ]
          },
          "metadata": {},
          "execution_count": 210
        }
      ]
    },
    {
      "cell_type": "code",
      "source": [
        "y_train = dataset[\"Close\"].tail(len(dataset)-1)\n",
        "scaler=MinMaxScaler()\n",
        "final_train_y=scaler.fit_transform(y_train.to_numpy().reshape(-1,1))\n",
        "# final_train_y = dataset[\"Close\"].to_numpy().reshape(-1,1)\n",
        "print(final_train_y)\n",
        "final_train_y.shape"
      ],
      "metadata": {
        "id": "TiiDJw41d0XZ",
        "colab": {
          "base_uri": "https://localhost:8080/"
        },
        "outputId": "5d709e6f-1b96-459d-bf07-4070ca0d0721"
      },
      "execution_count": 218,
      "outputs": [
        {
          "output_type": "stream",
          "name": "stdout",
          "text": [
            "[[0.07074726]\n",
            " [0.06695374]\n",
            " [0.05194475]\n",
            " ...\n",
            " [0.89019627]\n",
            " [0.88935758]\n",
            " [0.90240257]]\n"
          ]
        },
        {
          "output_type": "execute_result",
          "data": {
            "text/plain": [
              "(1474, 1)"
            ]
          },
          "metadata": {},
          "execution_count": 218
        }
      ]
    },
    {
      "cell_type": "code",
      "source": [
        "scaler_train=MinMaxScaler()\n",
        "final_train_x=scaler_train.fit_transform(dataset.head(len(dataset)-1))\n",
        "final_train_x.shape\n",
        "\n",
        "\n",
        "\n",
        "#scaling test data\n",
        "final_test_x=scaler_train.transform(final_test_x)\n",
        "final_test_x\n"
      ],
      "metadata": {
        "colab": {
          "base_uri": "https://localhost:8080/"
        },
        "id": "g-N3pAjx1wpP",
        "outputId": "028d998b-53bf-417b-87d0-30e3389f6702"
      },
      "execution_count": 220,
      "outputs": [
        {
          "output_type": "execute_result",
          "data": {
            "text/plain": [
              "array([[0.89504873, 0.91721882, 0.90860193, 0.11071231, 0.92601093,\n",
              "        0.15044146, 0.58490281, 0.90770872, 0.90540879, 0.91749773,\n",
              "        0.92548394, 0.02395931, 0.028756  , 0.02909883, 0.02474066,\n",
              "        0.        , 0.06666667, 0.        ],\n",
              "       [0.92046178, 0.932858  , 0.92669651, 0.13660961, 0.94161529,\n",
              "        0.13187727, 0.50672994, 0.91793261, 0.90917543, 0.92139758,\n",
              "        0.92639446, 0.03151586, 0.0366025 , 0.03238944, 0.0271189 ,\n",
              "        0.        , 0.1       , 0.25      ],\n",
              "       [0.9324406 , 0.94297876, 0.94006187, 0.13887355, 0.95204422,\n",
              "        0.10767527, 0.49398555, 0.92863486, 0.91354205, 0.92466659,\n",
              "        0.92793321, 0.03698358, 0.04461575, 0.0373172 , 0.03081328,\n",
              "        0.        , 0.13333333, 0.5       ],\n",
              "       [0.92798418, 0.93029536, 0.93203237, 0.13059083, 0.93645735,\n",
              "        0.07381004, 0.40691796, 0.93517421, 0.91844963, 0.92587258,\n",
              "        0.9285655 , 0.03598316, 0.04727337, 0.03916554, 0.03210131,\n",
              "        0.        , 0.16666667, 0.75      ],\n",
              "       [0.93049738, 0.93954761, 0.93624941, 0.13213694, 0.94226269,\n",
              "        0.11058946, 0.43261174, 0.94281629, 0.92618161, 0.92716459,\n",
              "        0.93093681, 0.03217501, 0.04456405, 0.04129792, 0.0340144 ,\n",
              "        0.        , 0.2       , 1.        ],\n",
              "       [0.94048996, 0.94926643, 0.95127584, 0.12832689, 0.95882744,\n",
              "        0.07121264, 0.48365985, 0.95301279, 0.93413263, 0.92931322,\n",
              "        0.93380002, 0.02556035, 0.04455062, 0.04525478, 0.03722279,\n",
              "        0.        , 0.3       , 0.        ],\n",
              "       [0.94778346, 0.95478064, 0.95861265, 0.12159028, 0.96338569,\n",
              "        0.05762299, 0.46185036, 0.96196363, 0.9412311 , 0.93231562,\n",
              "        0.93703479, 0.01743586, 0.04556092, 0.0495212 , 0.04002053,\n",
              "        0.        , 0.33333333, 0.25      ],\n",
              "       [0.9626945 , 0.96745965, 0.97276131, 0.13528437, 0.97699541,\n",
              "        0.046408  , 0.450911  , 0.96944692, 0.94858407, 0.93619122,\n",
              "        0.94018783, 0.01932447, 0.04821688, 0.05480992, 0.0442194 ,\n",
              "        0.        , 0.36666667, 0.5       ],\n",
              "       [0.97017371, 0.9712885 , 0.97577349, 0.1676974 , 0.98094547,\n",
              "        0.05230072, 0.42286642, 0.97521964, 0.95667443, 0.94071731,\n",
              "        0.94276995, 0.02269594, 0.04804531, 0.05942694, 0.04839644,\n",
              "        0.        , 0.4       , 0.75      ],\n",
              "       [0.9639554 , 0.97255893, 0.97197381, 0.12672557, 0.98076724,\n",
              "        0.08958626, 0.47054008, 0.97943548, 0.96421933, 0.94511654,\n",
              "        0.94596401, 0.02499477, 0.046516  , 0.06316163, 0.05176095,\n",
              "        0.        , 0.43333333, 1.        ],\n",
              "       [0.96832984, 0.97554949, 0.98136316, 0.1472667 , 0.98531683,\n",
              "        0.04238629, 0.47169818, 0.98660687, 0.9711536 , 0.95089381,\n",
              "        0.95017384, 0.02113539, 0.04561807, 0.06525739, 0.05386599,\n",
              "        0.        , 0.53333333, 0.        ],\n",
              "       [0.97710016, 0.97809036, 0.96906921, 0.1256212 , 0.96836557,\n",
              "        0.15151804, 0.26955303, 0.99043814, 0.9769563 , 0.95743949,\n",
              "        0.95299785, 0.01292491, 0.04041049, 0.06116399, 0.05520149,\n",
              "        0.        , 0.56666667, 0.25      ],\n",
              "       [0.95913614, 0.95892483, 0.9517707 , 0.15278851, 0.95318709,\n",
              "        0.13837139, 0.29228235, 0.98961027, 0.98169453, 0.96253833,\n",
              "        0.95441128, 0.01513208, 0.03183779, 0.05663542, 0.0560137 ,\n",
              "        0.        , 0.6       , 0.5       ],\n",
              "       [0.94115491, 0.94289233, 0.93142119, 0.14251795, 0.93742199,\n",
              "        0.17065269, 0.310547  , 0.98579943, 0.98429411, 0.96603881,\n",
              "        0.95513557, 0.02412332, 0.02508906, 0.05278881, 0.05625223,\n",
              "        0.        , 0.63333333, 0.75      ],\n",
              "       [0.91461473, 0.92248658, 0.91742751, 0.15328548, 0.92526797,\n",
              "        0.12408506, 0.42467279, 0.9782071 , 0.98423896, 0.96841693,\n",
              "        0.95545481, 0.0329123 , 0.02522901, 0.04965299, 0.05628102,\n",
              "        0.        , 0.66666667, 1.        ],\n",
              "       [0.91128544, 0.91313507, 0.87542914, 0.17879625, 0.88459072,\n",
              "        0.36471666, 0.13194717, 0.96406455, 0.98000588, 0.96905169,\n",
              "        0.95479386, 0.05059145, 0.03703649, 0.04812644, 0.05682885,\n",
              "        0.        , 0.76666667, 0.        ],\n",
              "       [0.86174624, 0.88804918, 0.86156893, 0.18028713, 0.89578875,\n",
              "        0.28285826, 0.61069908, 0.95159177, 0.97582989, 0.96988887,\n",
              "        0.95465225, 0.05261761, 0.04303322, 0.04635249, 0.05692552,\n",
              "        0.        , 0.8       , 0.25      ],\n",
              "       [0.86696696, 0.87710297, 0.86414642, 0.21844285, 0.88120573,\n",
              "        0.18364094, 0.45513739, 0.93631078, 0.97172843, 0.96935128,\n",
              "        0.95431673, 0.04902161, 0.05022046, 0.04752266, 0.05728757,\n",
              "        0.        , 0.86666667, 0.75      ],\n",
              "       [0.8796023 , 0.89361083, 0.88224958, 0.19618995, 0.88049299,\n",
              "        0.17138155, 0.3498371 , 0.92341322, 0.9671431 , 0.96886368,\n",
              "        0.95387503, 0.04237322, 0.0560837 , 0.04857612, 0.05774311,\n",
              "        0.        , 0.9       , 1.        ],\n",
              "       [0.8876127 , 0.89676547, 0.89834758, 0.17763666, 0.90116838,\n",
              "        0.07599661, 0.44876386, 0.91577813, 0.96286292, 0.96945718,\n",
              "        0.95494465, 0.03129765, 0.05751614, 0.04754115, 0.05658218,\n",
              "        0.        , 1.        , 0.        ],\n",
              "       [0.90733844, 0.91512293, 0.89666079, 0.21336278, 0.92176552,\n",
              "        0.22298559, 0.45462623, 0.91348014, 0.95977335, 0.97043017,\n",
              "        0.95784797, 0.02568793, 0.05666833, 0.04648299, 0.05248823,\n",
              "        0.09090909, 0.        , 0.25      ],\n",
              "       [0.92260354, 0.93000586, 0.93368906, 0.14975152, 0.93942087,\n",
              "        0.05949153, 0.47261933, 0.91555744, 0.9569841 , 0.97110402,\n",
              "        0.96089153, 0.03124871, 0.05387895, 0.04632421, 0.04941471,\n",
              "        0.09090909, 0.03333333, 0.5       ]])"
            ]
          },
          "metadata": {},
          "execution_count": 220
        }
      ]
    },
    {
      "cell_type": "markdown",
      "source": [
        "#Linear Regression"
      ],
      "metadata": {
        "id": "L_yx_f4uCU3c"
      }
    },
    {
      "cell_type": "code",
      "source": [
        "linear=LinearRegression()\n",
        "linear.fit(final_train_x,final_train_y)\n",
        "predictions= linear.predict(final_test_x) \n",
        "predictions"
      ],
      "metadata": {
        "colab": {
          "base_uri": "https://localhost:8080/"
        },
        "id": "PxL1nuIRIpS2",
        "outputId": "9867fe08-f666-4fdb-feee-1ba0c8b4067b"
      },
      "execution_count": 223,
      "outputs": [
        {
          "output_type": "execute_result",
          "data": {
            "text/plain": [
              "array([[0.92754832],\n",
              "       [0.94177693],\n",
              "       [0.95198585],\n",
              "       [0.93580685],\n",
              "       [0.94258582],\n",
              "       [0.9598788 ],\n",
              "       [0.9643561 ],\n",
              "       [0.9774645 ],\n",
              "       [0.98044055],\n",
              "       [0.98090738],\n",
              "       [0.98694591],\n",
              "       [0.97101628],\n",
              "       [0.95439086],\n",
              "       [0.93783321],\n",
              "       [0.92495048],\n",
              "       [0.88686001],\n",
              "       [0.89484194],\n",
              "       [0.87921839],\n",
              "       [0.88268569],\n",
              "       [0.90201506],\n",
              "       [0.91969433],\n",
              "       [0.93931303]])"
            ]
          },
          "metadata": {},
          "execution_count": 223
        }
      ]
    },
    {
      "cell_type": "code",
      "source": [
        "predictions = scaler.inverse_transform(predictions)\n",
        "predictions"
      ],
      "metadata": {
        "colab": {
          "base_uri": "https://localhost:8080/"
        },
        "id": "-89qOPHu-5ba",
        "outputId": "1d885503-f1bb-438c-9ad2-1c3a9fef6acb"
      },
      "execution_count": 224,
      "outputs": [
        {
          "output_type": "execute_result",
          "data": {
            "text/plain": [
              "array([[17643.38913001],\n",
              "       [17807.10987671],\n",
              "       [17924.57834446],\n",
              "       [17738.41542647],\n",
              "       [17816.41735528],\n",
              "       [18015.39811898],\n",
              "       [18066.91601991],\n",
              "       [18217.74711335],\n",
              "       [18251.99088129],\n",
              "       [18257.3625463 ],\n",
              "       [18326.84458833],\n",
              "       [18143.55102274],\n",
              "       [17952.25142105],\n",
              "       [17761.73168871],\n",
              "       [17613.49713054],\n",
              "       [17175.21100893],\n",
              "       [17267.05480169],\n",
              "       [17087.28318801],\n",
              "       [17127.17940969],\n",
              "       [17349.59192614],\n",
              "       [17553.01759687],\n",
              "       [17778.75919951]])"
            ]
          },
          "metadata": {},
          "execution_count": 224
        }
      ]
    },
    {
      "cell_type": "code",
      "source": [
        "rmse = np.sqrt(np.mean(np.power((predictions - final_test_y), 2)))\n",
        "rmse"
      ],
      "metadata": {
        "colab": {
          "base_uri": "https://localhost:8080/"
        },
        "id": "n8-aWXxYJJFK",
        "outputId": "205b4383-f0c0-4f35-e976-9f6f6773c994"
      },
      "execution_count": 225,
      "outputs": [
        {
          "output_type": "execute_result",
          "data": {
            "text/plain": [
              "528.609334947474"
            ]
          },
          "metadata": {},
          "execution_count": 225
        }
      ]
    },
    {
      "cell_type": "markdown",
      "source": [
        "###Random Forest"
      ],
      "metadata": {
        "id": "q71Z5FkhCxH-"
      }
    },
    {
      "cell_type": "code",
      "source": [
        "rf=RandomForestRegressor()\n",
        "rf.fit(final_train_x,final_train_y)\n",
        "predictions= rf.predict(final_test_x).reshape(-1,1) \n",
        "\n",
        "predictions = scaler.inverse_transform(predictions)\n",
        "\n",
        "rmse = np.sqrt(np.mean(np.power((predictions - final_test_y), 2)))\n",
        "rmse\n"
      ],
      "metadata": {
        "colab": {
          "base_uri": "https://localhost:8080/"
        },
        "id": "vActB5bYBhIq",
        "outputId": "57367184-8eee-48e9-cd14-0bb57e442ea0"
      },
      "execution_count": 229,
      "outputs": [
        {
          "output_type": "stream",
          "name": "stderr",
          "text": [
            "/usr/local/lib/python3.7/dist-packages/ipykernel_launcher.py:2: DataConversionWarning: A column-vector y was passed when a 1d array was expected. Please change the shape of y to (n_samples,), for example using ravel().\n",
            "  \n"
          ]
        },
        {
          "output_type": "execute_result",
          "data": {
            "text/plain": [
              "513.256531155403"
            ]
          },
          "metadata": {},
          "execution_count": 229
        }
      ]
    },
    {
      "cell_type": "markdown",
      "source": [
        "###LSTM model"
      ],
      "metadata": {
        "id": "BUADtku6TK-A"
      }
    },
    {
      "cell_type": "code",
      "source": [
        "# Convert the final_train_x and y_train to numpy arrays \n",
        "final_train_x, final_train_y = np.array(final_train_x), np.array(final_train_y)"
      ],
      "metadata": {
        "id": "6DN3RewMD8VS"
      },
      "execution_count": 237,
      "outputs": []
    },
    {
      "cell_type": "code",
      "source": [
        "final_train_x = np.reshape(final_train_x, (final_train_x.shape[0], final_train_x.shape[1], 1))"
      ],
      "metadata": {
        "id": "s2J77MJyCuN2"
      },
      "execution_count": 238,
      "outputs": []
    },
    {
      "cell_type": "code",
      "source": [
        "model= Sequential()\n",
        "model.add(LSTM(50,return_sequences=True,input_shape=(18,1)))\n",
        "model.add(LSTM(50,return_sequences=False))\n",
        "model.add(Dense(25))\n",
        "model.add(Dense(1))"
      ],
      "metadata": {
        "id": "9NeGnHfT6Rem"
      },
      "execution_count": 239,
      "outputs": []
    },
    {
      "cell_type": "code",
      "source": [
        "model.compile(optimizer='adam',loss='mean_squared_error')"
      ],
      "metadata": {
        "id": "9DHYCiE5Cnbr"
      },
      "execution_count": 240,
      "outputs": []
    },
    {
      "cell_type": "code",
      "source": [
        "model.fit(final_train_x,final_train_y,batch_size=30,epochs=20)"
      ],
      "metadata": {
        "id": "c49DijHzDQeY",
        "colab": {
          "base_uri": "https://localhost:8080/"
        },
        "outputId": "ae3d608f-77b3-49ac-f6bd-cef67e73a0a2"
      },
      "execution_count": 241,
      "outputs": [
        {
          "output_type": "stream",
          "name": "stdout",
          "text": [
            "Epoch 1/20\n",
            "50/50 [==============================] - 4s 6ms/step - loss: 0.0300\n",
            "Epoch 2/20\n",
            "50/50 [==============================] - 0s 6ms/step - loss: 0.0023\n",
            "Epoch 3/20\n",
            "50/50 [==============================] - 0s 6ms/step - loss: 0.0013\n",
            "Epoch 4/20\n",
            "50/50 [==============================] - 0s 6ms/step - loss: 0.0014\n",
            "Epoch 5/20\n",
            "50/50 [==============================] - 0s 6ms/step - loss: 0.0011\n",
            "Epoch 6/20\n",
            "50/50 [==============================] - 0s 6ms/step - loss: 0.0012\n",
            "Epoch 7/20\n",
            "50/50 [==============================] - 0s 6ms/step - loss: 9.6823e-04\n",
            "Epoch 8/20\n",
            "50/50 [==============================] - 0s 6ms/step - loss: 0.0010\n",
            "Epoch 9/20\n",
            "50/50 [==============================] - 0s 6ms/step - loss: 0.0010\n",
            "Epoch 10/20\n",
            "50/50 [==============================] - 0s 6ms/step - loss: 9.8829e-04\n",
            "Epoch 11/20\n",
            "50/50 [==============================] - 0s 6ms/step - loss: 0.0010\n",
            "Epoch 12/20\n",
            "50/50 [==============================] - 0s 6ms/step - loss: 9.4484e-04\n",
            "Epoch 13/20\n",
            "50/50 [==============================] - 0s 7ms/step - loss: 9.9473e-04\n",
            "Epoch 14/20\n",
            "50/50 [==============================] - 0s 7ms/step - loss: 0.0010\n",
            "Epoch 15/20\n",
            "50/50 [==============================] - 0s 6ms/step - loss: 0.0012\n",
            "Epoch 16/20\n",
            "50/50 [==============================] - 0s 6ms/step - loss: 9.4924e-04\n",
            "Epoch 17/20\n",
            "50/50 [==============================] - 0s 6ms/step - loss: 8.7656e-04\n",
            "Epoch 18/20\n",
            "50/50 [==============================] - 0s 6ms/step - loss: 0.0011\n",
            "Epoch 19/20\n",
            "50/50 [==============================] - 0s 6ms/step - loss: 8.6751e-04\n",
            "Epoch 20/20\n",
            "50/50 [==============================] - 0s 6ms/step - loss: 0.0010\n"
          ]
        },
        {
          "output_type": "execute_result",
          "data": {
            "text/plain": [
              "<keras.callbacks.History at 0x7fd7f6e0df10>"
            ]
          },
          "metadata": {},
          "execution_count": 241
        }
      ]
    },
    {
      "cell_type": "code",
      "source": [
        "# Convert the data to a numpy array\n",
        "x_test = np.array(final_test_x)\n",
        "\n",
        "# Reshape the data\n",
        "x_test = np.reshape(final_test_x, (final_test_x.shape[0], final_test_x.shape[1], 1 ))\n",
        "\n",
        "# Get the models predicted price values \n",
        "predictions = model.predict(final_test_x)\n",
        "predictions = scaler.inverse_transform(predictions)\n",
        "\n",
        "# Get the root mean squared error (RMSE)\n",
        "rmse = np.sqrt(np.mean(np.power((predictions - final_test_y), 2)))\n",
        "rmse"
      ],
      "metadata": {
        "colab": {
          "base_uri": "https://localhost:8080/"
        },
        "id": "21nw_d0Wd-ps",
        "outputId": "25ea2b50-d3bc-4497-8680-13245d556b32"
      },
      "execution_count": 242,
      "outputs": [
        {
          "output_type": "execute_result",
          "data": {
            "text/plain": [
              "580.0607915909939"
            ]
          },
          "metadata": {},
          "execution_count": 242
        }
      ]
    },
    {
      "cell_type": "code",
      "source": [
        ""
      ],
      "metadata": {
        "id": "L8shjOSdEZAK"
      },
      "execution_count": null,
      "outputs": []
    }
  ]
}