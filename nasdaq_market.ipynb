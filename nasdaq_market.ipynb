{
 "cells": [
  {
   "cell_type": "markdown",
   "id": "150a9130",
   "metadata": {},
   "source": [
    "# Importing Libraries"
   ]
  },
  {
   "cell_type": "code",
   "execution_count": 18,
   "id": "3bed6022",
   "metadata": {},
   "outputs": [],
   "source": [
    "import pandas as pd\n",
    "import numpy as np\n",
    "import seaborn as sns\n",
    "import matplotlib.pyplot as plt\n",
    "import warnings\n",
    "warnings.filterwarnings('ignore')\n"
   ]
  },
  {
   "cell_type": "markdown",
   "id": "42216706",
   "metadata": {},
   "source": [
    "# Loading the Dataset"
   ]
  },
  {
   "cell_type": "code",
   "execution_count": 19,
   "id": "f3d6e38f",
   "metadata": {},
   "outputs": [],
   "source": [
    "df1=pd.read_csv(\"nasdaq_train.csv\")"
   ]
  },
  {
   "cell_type": "code",
   "execution_count": 20,
   "id": "415307be",
   "metadata": {},
   "outputs": [],
   "source": [
    "df2=pd.read_csv(\"nasdaq_test.csv\")"
   ]
  },
  {
   "cell_type": "markdown",
   "id": "dc3231f7",
   "metadata": {},
   "source": [
    "# Analysing the Patterns of the training Dataset"
   ]
  },
  {
   "cell_type": "code",
   "execution_count": 4,
   "id": "19519434",
   "metadata": {},
   "outputs": [
    {
     "data": {
      "text/html": [
       "<div>\n",
       "<style scoped>\n",
       "    .dataframe tbody tr th:only-of-type {\n",
       "        vertical-align: middle;\n",
       "    }\n",
       "\n",
       "    .dataframe tbody tr th {\n",
       "        vertical-align: top;\n",
       "    }\n",
       "\n",
       "    .dataframe thead th {\n",
       "        text-align: right;\n",
       "    }\n",
       "</style>\n",
       "<table border=\"1\" class=\"dataframe\">\n",
       "  <thead>\n",
       "    <tr style=\"text-align: right;\">\n",
       "      <th></th>\n",
       "      <th>Date</th>\n",
       "      <th>Open</th>\n",
       "      <th>High</th>\n",
       "      <th>Low</th>\n",
       "      <th>Close</th>\n",
       "      <th>Adj Close</th>\n",
       "      <th>Volume</th>\n",
       "    </tr>\n",
       "  </thead>\n",
       "  <tbody>\n",
       "    <tr>\n",
       "      <th>0</th>\n",
       "      <td>2016-01-01</td>\n",
       "      <td>430.721008</td>\n",
       "      <td>436.246002</td>\n",
       "      <td>427.515015</td>\n",
       "      <td>434.334015</td>\n",
       "      <td>434.334015</td>\n",
       "      <td>36278900</td>\n",
       "    </tr>\n",
       "    <tr>\n",
       "      <th>1</th>\n",
       "      <td>2016-01-02</td>\n",
       "      <td>434.622009</td>\n",
       "      <td>436.062012</td>\n",
       "      <td>431.869995</td>\n",
       "      <td>433.437988</td>\n",
       "      <td>433.437988</td>\n",
       "      <td>30096600</td>\n",
       "    </tr>\n",
       "    <tr>\n",
       "      <th>2</th>\n",
       "      <td>2016-01-03</td>\n",
       "      <td>433.578003</td>\n",
       "      <td>433.743011</td>\n",
       "      <td>424.705994</td>\n",
       "      <td>430.010986</td>\n",
       "      <td>430.010986</td>\n",
       "      <td>39633800</td>\n",
       "    </tr>\n",
       "    <tr>\n",
       "      <th>3</th>\n",
       "      <td>2016-01-04</td>\n",
       "      <td>430.061005</td>\n",
       "      <td>434.516998</td>\n",
       "      <td>429.084015</td>\n",
       "      <td>433.091003</td>\n",
       "      <td>433.091003</td>\n",
       "      <td>38477500</td>\n",
       "    </tr>\n",
       "    <tr>\n",
       "      <th>4</th>\n",
       "      <td>2016-01-05</td>\n",
       "      <td>433.069000</td>\n",
       "      <td>434.182007</td>\n",
       "      <td>429.675995</td>\n",
       "      <td>431.959991</td>\n",
       "      <td>431.959991</td>\n",
       "      <td>34522600</td>\n",
       "    </tr>\n",
       "  </tbody>\n",
       "</table>\n",
       "</div>"
      ],
      "text/plain": [
       "         Date        Open        High         Low       Close   Adj Close  \\\n",
       "0  2016-01-01  430.721008  436.246002  427.515015  434.334015  434.334015   \n",
       "1  2016-01-02  434.622009  436.062012  431.869995  433.437988  433.437988   \n",
       "2  2016-01-03  433.578003  433.743011  424.705994  430.010986  430.010986   \n",
       "3  2016-01-04  430.061005  434.516998  429.084015  433.091003  433.091003   \n",
       "4  2016-01-05  433.069000  434.182007  429.675995  431.959991  431.959991   \n",
       "\n",
       "     Volume  \n",
       "0  36278900  \n",
       "1  30096600  \n",
       "2  39633800  \n",
       "3  38477500  \n",
       "4  34522600  "
      ]
     },
     "execution_count": 4,
     "metadata": {},
     "output_type": "execute_result"
    }
   ],
   "source": [
    "df1.head()"
   ]
  },
  {
   "cell_type": "code",
   "execution_count": 5,
   "id": "0884eb01",
   "metadata": {},
   "outputs": [
    {
     "name": "stdout",
     "output_type": "stream",
     "text": [
      "<class 'pandas.core.frame.DataFrame'>\n",
      "RangeIndex: 2193 entries, 0 to 2192\n",
      "Data columns (total 7 columns):\n",
      " #   Column     Non-Null Count  Dtype  \n",
      "---  ------     --------------  -----  \n",
      " 0   Date       2193 non-null   object \n",
      " 1   Open       2193 non-null   float64\n",
      " 2   High       2193 non-null   float64\n",
      " 3   Low        2193 non-null   float64\n",
      " 4   Close      2193 non-null   float64\n",
      " 5   Adj Close  2193 non-null   float64\n",
      " 6   Volume     2193 non-null   int64  \n",
      "dtypes: float64(5), int64(1), object(1)\n",
      "memory usage: 120.1+ KB\n"
     ]
    }
   ],
   "source": [
    "df1.info()"
   ]
  },
  {
   "cell_type": "markdown",
   "id": "8b706af3",
   "metadata": {},
   "source": [
    "We have 5 float datatype column, 1 integer datatype column and  object datatpe column present in the dataset."
   ]
  },
  {
   "cell_type": "code",
   "execution_count": 6,
   "id": "be936156",
   "metadata": {},
   "outputs": [
    {
     "data": {
      "text/plain": [
       "(2193, 7)"
      ]
     },
     "execution_count": 6,
     "metadata": {},
     "output_type": "execute_result"
    }
   ],
   "source": [
    "# Checking shape\n",
    "df1.shape"
   ]
  },
  {
   "cell_type": "markdown",
   "id": "c5758efc",
   "metadata": {},
   "source": [
    "2193 rows and 7 columns present in the dataset."
   ]
  },
  {
   "cell_type": "code",
   "execution_count": 7,
   "id": "2cd3b7c7",
   "metadata": {},
   "outputs": [
    {
     "data": {
      "text/plain": [
       "Date         0\n",
       "Open         0\n",
       "High         0\n",
       "Low          0\n",
       "Close        0\n",
       "Adj Close    0\n",
       "Volume       0\n",
       "dtype: int64"
      ]
     },
     "execution_count": 7,
     "metadata": {},
     "output_type": "execute_result"
    }
   ],
   "source": [
    "# Checking Null values\n",
    "df1.isnull().sum()"
   ]
  },
  {
   "cell_type": "markdown",
   "id": "d8e074e7",
   "metadata": {},
   "source": [
    "Null values are not present in the dataset."
   ]
  },
  {
   "cell_type": "code",
   "execution_count": 21,
   "id": "7e1e0a9d",
   "metadata": {},
   "outputs": [],
   "source": [
    "# Handling the Date column\n",
    "df1[\"Date\"] = pd.to_datetime(df1[\"Date\"])\n",
    "df1[\"Year\"]= df1[\"Date\"].dt.year\n",
    "df1[\"Month\"]= df1[\"Date\"].dt.month\n",
    "df1[\"Day\"]= df1[\"Date\"].dt.day\n"
   ]
  },
  {
   "cell_type": "markdown",
   "id": "68d85b99",
   "metadata": {},
   "source": [
    "So now we have extracted the Year, Month and Day from the Date Column."
   ]
  },
  {
   "cell_type": "code",
   "execution_count": 22,
   "id": "ddaefec7",
   "metadata": {},
   "outputs": [],
   "source": [
    "# Deleting Date Column\n",
    "del df1[\"Date\"]\n"
   ]
  },
  {
   "cell_type": "code",
   "execution_count": 23,
   "id": "0ca61407",
   "metadata": {},
   "outputs": [],
   "source": [
    "# Deleting Adj Close\n",
    "del df1['Adj Close']"
   ]
  },
  {
   "cell_type": "markdown",
   "id": "52f8b5d7",
   "metadata": {},
   "source": [
    "# EDA Nominal data"
   ]
  },
  {
   "cell_type": "code",
   "execution_count": 24,
   "id": "ea509103",
   "metadata": {},
   "outputs": [
    {
     "data": {
      "text/plain": [
       "Index(['Open', 'High', 'Low', 'Close', 'Volume', 'Year', 'Month', 'Day'], dtype='object')"
      ]
     },
     "execution_count": 24,
     "metadata": {},
     "output_type": "execute_result"
    }
   ],
   "source": [
    "df1.columns"
   ]
  },
  {
   "cell_type": "code",
   "execution_count": 25,
   "id": "d1aa7249",
   "metadata": {},
   "outputs": [
    {
     "name": "stdout",
     "output_type": "stream",
     "text": [
      "2020    253\n",
      "2016    252\n",
      "2019    252\n",
      "2017    251\n",
      "2018    251\n",
      "Name: Year, dtype: int64\n"
     ]
    },
    {
     "data": {
      "image/png": "[encoded data removed]",
      "text/plain": [
       "<Figure size 432x288 with 1 Axes>"
      ]
     },
     "metadata": {
      "needs_background": "light"
     },
     "output_type": "display_data"
    }
   ],
   "source": [
    "ax=sns.countplot(x='Year',data=df1)\n",
    "print(df1['Year'].value_counts())\n",
    "ax.set_xticklabels(ax.get_xticklabels(),rotation=90, ha='right')\n",
    "plt.tight_layout()"
   ]
  },
  {
   "cell_type": "markdown",
   "id": "8f401bc5",
   "metadata": {},
   "source": [
    "Year is in range from 2016 to 2022 and figure is showing that there is not much noicable difference betweeen them.\n"
   ]
  },
  {
   "cell_type": "code",
   "execution_count": 26,
   "id": "95766593",
   "metadata": {},
   "outputs": [
    {
     "name": "stdout",
     "output_type": "stream",
     "text": [
      "8     112\n",
      "10    111\n",
      "3     109\n",
      "5     107\n",
      "6     107\n",
      "7     105\n",
      "4     103\n",
      "11    103\n",
      "12    103\n",
      "1     102\n",
      "9     101\n",
      "2      96\n",
      "Name: Month, dtype: int64\n"
     ]
    },
    {
     "data": {
      "image/png": "[encoded data removed]",
      "text/plain": [
       "<Figure size 432x288 with 1 Axes>"
      ]
     },
     "metadata": {
      "needs_background": "light"
     },
     "output_type": "display_data"
    }
   ],
   "source": [
    "ax=sns.countplot(x='Month',data=df1)\n",
    "print(df1['Month'].value_counts())\n",
    "ax.set_xticklabels(ax.get_xticklabels(),rotation=90, ha='right')\n",
    "plt.tight_layout()"
   ]
  },
  {
   "cell_type": "markdown",
   "id": "39db8f31",
   "metadata": {},
   "source": [
    " Not much differnce in any of the month."
   ]
  },
  {
   "cell_type": "markdown",
   "id": "89da0e2f",
   "metadata": {},
   "source": [
    "# Now we need only 2 columns for model building that is open and close"
   ]
  },
  {
   "cell_type": "code",
   "execution_count": 57,
   "id": "3e0043f0",
   "metadata": {},
   "outputs": [],
   "source": [
    "training_set = df1.iloc[:, 1:2].values"
   ]
  },
  {
   "cell_type": "markdown",
   "id": "a9e75784",
   "metadata": {},
   "source": [
    "# Feature Scaling"
   ]
  },
  {
   "cell_type": "code",
   "execution_count": 58,
   "id": "3385cce0",
   "metadata": {},
   "outputs": [],
   "source": [
    "sc = MinMaxScaler(feature_range = (0, 1))\n",
    "training_set_scaled = sc.fit_transform(training_set)"
   ]
  },
  {
   "cell_type": "markdown",
   "id": "e2b856f2",
   "metadata": {},
   "source": [
    "# Creating the Data with timestep"
   ]
  },
  {
   "cell_type": "code",
   "execution_count": 61,
   "id": "4b983a4b",
   "metadata": {},
   "outputs": [],
   "source": [
    "X_train = []\n",
    "y_train = []\n",
    "for i in range(60, 1259):\n",
    "    X_train.append(training_set_scaled[i-60:i, 0])\n",
    "    y_train.append(training_set_scaled[i, 0])\n",
    "X_train, y_train = np.array(X_train), np.array(y_train)\n",
    "\n",
    "X_train = np.reshape(X_train, (X_train.shape[0], X_train.shape[1], 1))"
   ]
  },
  {
   "cell_type": "code",
   "execution_count": 60,
   "id": "e4f3a2db",
   "metadata": {},
   "outputs": [
    {
     "data": {
      "text/plain": [
       "(1259, 8)"
      ]
     },
     "execution_count": 60,
     "metadata": {},
     "output_type": "execute_result"
    }
   ],
   "source": [
    "training_data.shape"
   ]
  },
  {
   "cell_type": "markdown",
   "id": "3e05b869",
   "metadata": {},
   "source": [
    "# Predicting using LSTM"
   ]
  },
  {
   "cell_type": "code",
   "execution_count": 62,
   "id": "7a279de5",
   "metadata": {},
   "outputs": [],
   "source": [
    "from tensorflow.keras import Sequential\n",
    "from tensorflow.keras.layers import Dense, LSTM, Dropout"
   ]
  },
  {
   "cell_type": "code",
   "execution_count": 65,
   "id": "91e3fb2b",
   "metadata": {},
   "outputs": [],
   "source": [
    "regressor = Sequential()\n",
    "\n",
    "regressor.add(LSTM(units = 50, return_sequences = True, input_shape = (X_train.shape[1], 1)))\n",
    "regressor.add(Dropout(0.2))\n",
    "\n",
    "regressor.add(LSTM(units = 50, return_sequences = True))\n",
    "regressor.add(Dropout(0.25))\n",
    "\n",
    "regressor.add(LSTM(units = 50, return_sequences = True))\n",
    "regressor.add(Dropout(0.25))\n",
    "\n",
    "regressor.add(LSTM(units = 50))\n",
    "regressor.add(Dropout(0.25))\n",
    "\n",
    "regressor.add(Dense(units = 1))\n",
    "\n"
   ]
  },
  {
   "cell_type": "code",
   "execution_count": 66,
   "id": "3de7566b",
   "metadata": {},
   "outputs": [
    {
     "name": "stdout",
     "output_type": "stream",
     "text": [
      "Model: \"sequential_5\"\n",
      "_________________________________________________________________\n",
      " Layer (type)                Output Shape              Param #   \n",
      "=================================================================\n",
      " lstm_20 (LSTM)              (None, 60, 50)            10400     \n",
      "                                                                 \n",
      " dropout_20 (Dropout)        (None, 60, 50)            0         \n",
      "                                                                 \n",
      " lstm_21 (LSTM)              (None, 60, 50)            20200     \n",
      "                                                                 \n",
      " dropout_21 (Dropout)        (None, 60, 50)            0         \n",
      "                                                                 \n",
      " lstm_22 (LSTM)              (None, 60, 50)            20200     \n",
      "                                                                 \n",
      " dropout_22 (Dropout)        (None, 60, 50)            0         \n",
      "                                                                 \n",
      " lstm_23 (LSTM)              (None, 50)                20200     \n",
      "                                                                 \n",
      " dropout_23 (Dropout)        (None, 50)                0         \n",
      "                                                                 \n",
      " dense_5 (Dense)             (None, 1)                 51        \n",
      "                                                                 \n",
      "=================================================================\n",
      "Total params: 71,051\n",
      "Trainable params: 71,051\n",
      "Non-trainable params: 0\n",
      "_________________________________________________________________\n"
     ]
    }
   ],
   "source": [
    "regressor.summary()"
   ]
  },
  {
   "cell_type": "code",
   "execution_count": 73,
   "id": "190f5d25",
   "metadata": {},
   "outputs": [
    {
     "name": "stdout",
     "output_type": "stream",
     "text": [
      "Epoch 1/25\n",
      "34/34 [==============================] - 55s 265ms/step - loss: 0.0018 - val_loss: 0.0026\n",
      "Epoch 2/25\n",
      "34/34 [==============================] - 6s 164ms/step - loss: 0.0012 - val_loss: 0.0019\n",
      "Epoch 3/25\n",
      "34/34 [==============================] - 5s 141ms/step - loss: 0.0013 - val_loss: 0.0041\n",
      "Epoch 4/25\n",
      "34/34 [==============================] - 5s 141ms/step - loss: 0.0015 - val_loss: 0.0042\n",
      "Epoch 5/25\n",
      "34/34 [==============================] - 6s 164ms/step - loss: 0.0011 - val_loss: 0.0041\n",
      "Epoch 6/25\n",
      "34/34 [==============================] - 5s 148ms/step - loss: 0.0011 - val_loss: 0.0017\n",
      "Epoch 7/25\n",
      "34/34 [==============================] - 5s 140ms/step - loss: 0.0013 - val_loss: 0.0141\n",
      "Epoch 8/25\n",
      "34/34 [==============================] - 5s 158ms/step - loss: 0.0014 - val_loss: 0.0020\n",
      "Epoch 9/25\n",
      "34/34 [==============================] - 5s 151ms/step - loss: 9.8309e-04 - val_loss: 0.0018\n",
      "Epoch 10/25\n",
      "34/34 [==============================] - 4s 129ms/step - loss: 0.0011 - val_loss: 0.0039\n",
      "Epoch 11/25\n",
      "34/34 [==============================] - 5s 159ms/step - loss: 0.0011 - val_loss: 0.0025\n",
      "Epoch 12/25\n",
      "34/34 [==============================] - 5s 160ms/step - loss: 9.2894e-04 - val_loss: 0.0037\n",
      "Epoch 13/25\n",
      "34/34 [==============================] - 5s 133ms/step - loss: 0.0010 - val_loss: 0.0022\n",
      "Epoch 14/25\n",
      "34/34 [==============================] - 5s 156ms/step - loss: 0.0010 - val_loss: 0.0016\n",
      "Epoch 15/25\n",
      "34/34 [==============================] - 6s 162ms/step - loss: 0.0012 - val_loss: 0.0028\n",
      "Epoch 16/25\n",
      "34/34 [==============================] - 4s 127ms/step - loss: 0.0010 - val_loss: 0.0021\n",
      "Epoch 17/25\n",
      "34/34 [==============================] - 5s 150ms/step - loss: 9.4018e-04 - val_loss: 0.0016\n",
      "Epoch 18/25\n",
      "34/34 [==============================] - 6s 166ms/step - loss: 0.0010 - val_loss: 0.0036\n",
      "Epoch 19/25\n",
      "34/34 [==============================] - 5s 134ms/step - loss: 8.5292e-04 - val_loss: 0.0052\n",
      "Epoch 20/25\n",
      "34/34 [==============================] - 5s 142ms/step - loss: 0.0012 - val_loss: 0.0015\n",
      "Epoch 21/25\n",
      "34/34 [==============================] - 6s 166ms/step - loss: 8.6077e-04 - val_loss: 0.0018\n",
      "Epoch 22/25\n",
      "34/34 [==============================] - 5s 145ms/step - loss: 8.6217e-04 - val_loss: 0.0025\n",
      "Epoch 23/25\n",
      "34/34 [==============================] - 5s 144ms/step - loss: 7.8221e-04 - val_loss: 0.0020\n",
      "Epoch 24/25\n",
      "34/34 [==============================] - 6s 167ms/step - loss: 9.0243e-04 - val_loss: 0.0033\n",
      "Epoch 25/25\n",
      "34/34 [==============================] - 5s 142ms/step - loss: 7.8870e-04 - val_loss: 0.0017\n"
     ]
    }
   ],
   "source": [
    "regressor.compile(optimizer = 'adam', loss = 'mean_squared_error')\n",
    "\n",
    "history=regressor.fit(X_train, y_train, epochs = 25, batch_size = 32, validation_split=0.1)"
   ]
  },
  {
   "cell_type": "markdown",
   "id": "1562193b",
   "metadata": {},
   "source": [
    "# Plotting the Graph"
   ]
  },
  {
   "cell_type": "code",
   "execution_count": 74,
   "id": "4747ebef",
   "metadata": {},
   "outputs": [
    {
     "data": {
      "image/png": "[encoded data removed]",
      "text/plain": [
       "<Figure size 432x288 with 1 Axes>"
      ]
     },
     "metadata": {
      "needs_background": "light"
     },
     "output_type": "display_data"
    }
   ],
   "source": [
    "loss = history.history['loss']\n",
    "val_loss = history.history['val_loss']\n",
    "epochs = range(len(loss))\n",
    "plt.figure()\n",
    "plt.plot(epochs, loss, 'b', label='Training loss')\n",
    "plt.plot(epochs, val_loss, 'r', label='Validation loss')\n",
    "plt.title(\"Training and Validation Loss\")\n",
    "plt.legend()\n",
    "plt.show()\n"
   ]
  },
  {
   "cell_type": "markdown",
   "id": "e0cb1a9c",
   "metadata": {},
   "source": [
    "# Prediction on Test data"
   ]
  },
  {
   "cell_type": "code",
   "execution_count": 75,
   "id": "f07b12be",
   "metadata": {},
   "outputs": [],
   "source": [
    "test_data = df2.iloc[:, 1:2].values"
   ]
  },
  {
   "cell_type": "markdown",
   "id": "58e0481a",
   "metadata": {},
   "source": [
    "# Applying Inverse Transfromation for obtaining the result"
   ]
  },
  {
   "cell_type": "code",
   "execution_count": 77,
   "id": "00648bf3",
   "metadata": {},
   "outputs": [],
   "source": [
    "dataset_total = pd.concat((df1['Open'], df2['Open']), axis = 0)\n",
    "inputs = dataset_total[len(dataset_total) - len(df2) - 60:].values\n",
    "inputs = inputs.reshape(-1,1)\n",
    "inputs = sc.transform(inputs)\n",
    "X_test = []\n",
    "for i in range(60, 76):\n",
    "    X_test.append(inputs[i-60:i, 0])\n",
    "X_test = np.array(X_test)\n",
    "X_test = np.reshape(X_test, (X_test.shape[0], X_test.shape[1], 1))\n",
    "predicted_nasdaq = regressor.predict(X_test)\n",
    "predicted_nasdaq = sc.inverse_transform(predicted)"
   ]
  },
  {
   "cell_type": "code",
   "execution_count": 78,
   "id": "44798ddd",
   "metadata": {},
   "outputs": [
    {
     "data": {
      "text/plain": [
       "array([[1.1196848e+08],\n",
       "       [1.1404375e+08],\n",
       "       [1.1908034e+08],\n",
       "       [1.2678717e+08],\n",
       "       [1.3530067e+08],\n",
       "       [1.4261040e+08],\n",
       "       [1.4703434e+08],\n",
       "       [1.4818970e+08],\n",
       "       [1.4683163e+08],\n",
       "       [1.4388152e+08],\n",
       "       [1.3972584e+08],\n",
       "       [1.3483187e+08],\n",
       "       [1.2965238e+08],\n",
       "       [1.2457763e+08],\n",
       "       [1.1970914e+08],\n",
       "       [1.1489034e+08]], dtype=float32)"
      ]
     },
     "execution_count": 78,
     "metadata": {},
     "output_type": "execute_result"
    }
   ],
   "source": [
    "predicted_nasdaq"
   ]
  },
  {
   "cell_type": "code",
   "execution_count": 80,
   "id": "c0153c42",
   "metadata": {},
   "outputs": [
    {
     "data": {
      "text/plain": [
       "array([1.12352719])"
      ]
     },
     "execution_count": 80,
     "metadata": {},
     "output_type": "execute_result"
    }
   ],
   "source": [
    "Y_test"
   ]
  },
  {
   "cell_type": "markdown",
   "id": "70fd30bb",
   "metadata": {},
   "source": [
    "# Now Plotting the Results on Graph"
   ]
  },
  {
   "cell_type": "code",
   "execution_count": 82,
   "id": "c4988ff3",
   "metadata": {},
   "outputs": [
    {
     "data": {
      "image/png": "[encoded data removed]",
      "text/plain": [
       "<Figure size 432x288 with 1 Axes>"
      ]
     },
     "metadata": {
      "needs_background": "light"
     },
     "output_type": "display_data"
    }
   ],
   "source": [
    "plt.plot(test_data, color = 'black', label = 'NASDAQ Price')\n",
    "plt.plot(predicted, color = 'green', label = 'NASDAQ Predicted Price')\n",
    "plt.title('NASDAQ')\n",
    "plt.xlabel('Time')\n",
    "plt.ylabel('NASDAQ')\n",
    "plt.legend()\n",
    "plt.show()"
   ]
  },
  {
   "cell_type": "markdown",
   "id": "94ef80b4",
   "metadata": {},
   "source": [
    "The above plot shows that NASDAQ will will go down and model prediction also shows that the price will go down."
   ]
  },
  {
   "cell_type": "code",
   "execution_count": null,
   "id": "db6ae22d",
   "metadata": {},
   "outputs": [],
   "source": []
  },
  {
   "cell_type": "code",
   "execution_count": null,
   "id": "0be9878f",
   "metadata": {},
   "outputs": [],
   "source": []
  }
 ],
 "metadata": {
  "kernelspec": {
   "display_name": "Python 3",
   "language": "python",
   "name": "python3"
  },
  "language_info": {
   "codemirror_mode": {
    "name": "ipython",
    "version": 3
   },
   "file_extension": ".py",
   "mimetype": "text/x-python",
   "name": "python",
   "nbconvert_exporter": "python",
   "pygments_lexer": "ipython3",
   "version": "3.8.10"
  }
 },
 "nbformat": 4,
 "nbformat_minor": 5
}
