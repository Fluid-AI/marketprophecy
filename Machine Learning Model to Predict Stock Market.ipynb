{
 "cells": [
  {
   "cell_type": "markdown",
   "id": "0a2ed38a",
   "metadata": {},
   "source": [
    "# Machine Learning Model to Predict Stock Market of NSE data set"
   ]
  },
  {
   "cell_type": "code",
   "execution_count": 1,
   "id": "47cfaba3",
   "metadata": {},
   "outputs": [],
   "source": [
    "import pandas as pd\n",
    "import numpy as np\n",
    "import matplotlib.pyplot as plt\n",
    "from sklearn import preprocessing\n",
    "from datetime import datetime"
   ]
  },
  {
   "cell_type": "code",
   "execution_count": 2,
   "id": "68e44b3f",
   "metadata": {},
   "outputs": [
    {
     "data": {
      "text/html": [
       "<div>\n",
       "<style scoped>\n",
       "    .dataframe tbody tr th:only-of-type {\n",
       "        vertical-align: middle;\n",
       "    }\n",
       "\n",
       "    .dataframe tbody tr th {\n",
       "        vertical-align: top;\n",
       "    }\n",
       "\n",
       "    .dataframe thead th {\n",
       "        text-align: right;\n",
       "    }\n",
       "</style>\n",
       "<table border=\"1\" class=\"dataframe\">\n",
       "  <thead>\n",
       "    <tr style=\"text-align: right;\">\n",
       "      <th></th>\n",
       "      <th>Date</th>\n",
       "      <th>Open</th>\n",
       "      <th>High</th>\n",
       "      <th>Low</th>\n",
       "      <th>Close</th>\n",
       "      <th>Adj Close</th>\n",
       "      <th>Volume</th>\n",
       "    </tr>\n",
       "  </thead>\n",
       "  <tbody>\n",
       "    <tr>\n",
       "      <th>0</th>\n",
       "      <td>2016-01-04</td>\n",
       "      <td>7924.549805</td>\n",
       "      <td>7937.549805</td>\n",
       "      <td>7781.100098</td>\n",
       "      <td>7791.299805</td>\n",
       "      <td>7791.299805</td>\n",
       "      <td>134700.0</td>\n",
       "    </tr>\n",
       "    <tr>\n",
       "      <th>1</th>\n",
       "      <td>2016-01-05</td>\n",
       "      <td>7828.399902</td>\n",
       "      <td>7831.200195</td>\n",
       "      <td>7763.250000</td>\n",
       "      <td>7784.649902</td>\n",
       "      <td>7784.649902</td>\n",
       "      <td>145200.0</td>\n",
       "    </tr>\n",
       "    <tr>\n",
       "      <th>2</th>\n",
       "      <td>2016-01-06</td>\n",
       "      <td>7788.049805</td>\n",
       "      <td>7800.950195</td>\n",
       "      <td>7721.200195</td>\n",
       "      <td>7741.000000</td>\n",
       "      <td>7741.000000</td>\n",
       "      <td>147100.0</td>\n",
       "    </tr>\n",
       "    <tr>\n",
       "      <th>3</th>\n",
       "      <td>2016-01-07</td>\n",
       "      <td>7673.350098</td>\n",
       "      <td>7674.950195</td>\n",
       "      <td>7556.600098</td>\n",
       "      <td>7568.299805</td>\n",
       "      <td>7568.299805</td>\n",
       "      <td>188900.0</td>\n",
       "    </tr>\n",
       "    <tr>\n",
       "      <th>4</th>\n",
       "      <td>2016-01-08</td>\n",
       "      <td>7611.649902</td>\n",
       "      <td>7634.100098</td>\n",
       "      <td>7581.049805</td>\n",
       "      <td>7601.350098</td>\n",
       "      <td>7601.350098</td>\n",
       "      <td>157400.0</td>\n",
       "    </tr>\n",
       "  </tbody>\n",
       "</table>\n",
       "</div>"
      ],
      "text/plain": [
       "        Date         Open         High          Low        Close    Adj Close  \\\n",
       "0 2016-01-04  7924.549805  7937.549805  7781.100098  7791.299805  7791.299805   \n",
       "1 2016-01-05  7828.399902  7831.200195  7763.250000  7784.649902  7784.649902   \n",
       "2 2016-01-06  7788.049805  7800.950195  7721.200195  7741.000000  7741.000000   \n",
       "3 2016-01-07  7673.350098  7674.950195  7556.600098  7568.299805  7568.299805   \n",
       "4 2016-01-08  7611.649902  7634.100098  7581.049805  7601.350098  7601.350098   \n",
       "\n",
       "     Volume  \n",
       "0  134700.0  \n",
       "1  145200.0  \n",
       "2  147100.0  \n",
       "3  188900.0  \n",
       "4  157400.0  "
      ]
     },
     "execution_count": 2,
     "metadata": {},
     "output_type": "execute_result"
    }
   ],
   "source": [
    "df = pd.read_excel(\"Stockmarket_trainingdataset.xlsx\") # Loading the Training data set using pandas\n",
    "df.head()"
   ]
  },
  {
   "cell_type": "code",
   "execution_count": 3,
   "id": "1723e244",
   "metadata": {},
   "outputs": [
    {
     "data": {
      "text/plain": [
       "Index(['Date', 'Open', 'High', 'Low', 'Close', 'Adj Close', 'Volume'], dtype='object')"
      ]
     },
     "execution_count": 3,
     "metadata": {},
     "output_type": "execute_result"
    }
   ],
   "source": [
    "df.columns"
   ]
  },
  {
   "cell_type": "markdown",
   "id": "bf2cb616",
   "metadata": {},
   "source": [
    "# Data Cleaning(Sanitization)"
   ]
  },
  {
   "cell_type": "code",
   "execution_count": 4,
   "id": "1bff288d",
   "metadata": {},
   "outputs": [
    {
     "data": {
      "text/plain": [
       "Date         False\n",
       "Open          True\n",
       "High          True\n",
       "Low           True\n",
       "Close         True\n",
       "Adj Close     True\n",
       "Volume        True\n",
       "dtype: bool"
      ]
     },
     "execution_count": 4,
     "metadata": {},
     "output_type": "execute_result"
    }
   ],
   "source": [
    "df.isnull().any() # Finding out whether data is having null values, The output is a boolean value(True or False)\n",
    "                  #if null values present it will show true in respective column"
   ]
  },
  {
   "cell_type": "code",
   "execution_count": 5,
   "id": "c3a9e808",
   "metadata": {},
   "outputs": [],
   "source": [
    "df = df.dropna() #Dropping the null value contained rows "
   ]
  },
  {
   "cell_type": "code",
   "execution_count": 6,
   "id": "ab03930c",
   "metadata": {},
   "outputs": [
    {
     "data": {
      "text/plain": [
       "Date         False\n",
       "Open         False\n",
       "High         False\n",
       "Low          False\n",
       "Close        False\n",
       "Adj Close    False\n",
       "Volume       False\n",
       "dtype: bool"
      ]
     },
     "execution_count": 6,
     "metadata": {},
     "output_type": "execute_result"
    }
   ],
   "source": [
    "df.isnull().any() # after deleting the null vlued filed rows we can see all the columns are showing the output as False"
   ]
  },
  {
   "cell_type": "code",
   "execution_count": 7,
   "id": "8642b3a2",
   "metadata": {},
   "outputs": [
    {
     "name": "stdout",
     "output_type": "stream",
     "text": [
      "<class 'pandas.core.frame.DataFrame'>\n",
      "Int64Index: 1475 entries, 0 to 1480\n",
      "Data columns (total 7 columns):\n",
      " #   Column     Non-Null Count  Dtype         \n",
      "---  ------     --------------  -----         \n",
      " 0   Date       1475 non-null   datetime64[ns]\n",
      " 1   Open       1475 non-null   float64       \n",
      " 2   High       1475 non-null   float64       \n",
      " 3   Low        1475 non-null   float64       \n",
      " 4   Close      1475 non-null   float64       \n",
      " 5   Adj Close  1475 non-null   float64       \n",
      " 6   Volume     1475 non-null   float64       \n",
      "dtypes: datetime64[ns](1), float64(6)\n",
      "memory usage: 92.2 KB\n"
     ]
    }
   ],
   "source": [
    "df.info()"
   ]
  },
  {
   "cell_type": "code",
   "execution_count": 8,
   "id": "50d694c9",
   "metadata": {},
   "outputs": [
    {
     "data": {
      "text/html": [
       "<div>\n",
       "<style scoped>\n",
       "    .dataframe tbody tr th:only-of-type {\n",
       "        vertical-align: middle;\n",
       "    }\n",
       "\n",
       "    .dataframe tbody tr th {\n",
       "        vertical-align: top;\n",
       "    }\n",
       "\n",
       "    .dataframe thead th {\n",
       "        text-align: right;\n",
       "    }\n",
       "</style>\n",
       "<table border=\"1\" class=\"dataframe\">\n",
       "  <thead>\n",
       "    <tr style=\"text-align: right;\">\n",
       "      <th></th>\n",
       "      <th>Open</th>\n",
       "      <th>High</th>\n",
       "      <th>Low</th>\n",
       "      <th>Close</th>\n",
       "      <th>Adj Close</th>\n",
       "      <th>Volume</th>\n",
       "    </tr>\n",
       "  </thead>\n",
       "  <tbody>\n",
       "    <tr>\n",
       "      <th>count</th>\n",
       "      <td>1475.000000</td>\n",
       "      <td>1475.000000</td>\n",
       "      <td>1475.000000</td>\n",
       "      <td>1475.000000</td>\n",
       "      <td>1475.000000</td>\n",
       "      <td>1.475000e+03</td>\n",
       "    </tr>\n",
       "    <tr>\n",
       "      <th>mean</th>\n",
       "      <td>11190.630103</td>\n",
       "      <td>11243.279798</td>\n",
       "      <td>11114.862019</td>\n",
       "      <td>11180.224847</td>\n",
       "      <td>11180.224847</td>\n",
       "      <td>3.672148e+05</td>\n",
       "    </tr>\n",
       "    <tr>\n",
       "      <th>std</th>\n",
       "      <td>2605.404423</td>\n",
       "      <td>2613.649325</td>\n",
       "      <td>2588.183872</td>\n",
       "      <td>2602.005796</td>\n",
       "      <td>2602.005796</td>\n",
       "      <td>2.277599e+05</td>\n",
       "    </tr>\n",
       "    <tr>\n",
       "      <th>min</th>\n",
       "      <td>7023.649902</td>\n",
       "      <td>7034.200195</td>\n",
       "      <td>6825.799805</td>\n",
       "      <td>6970.600098</td>\n",
       "      <td>6970.600098</td>\n",
       "      <td>0.000000e+00</td>\n",
       "    </tr>\n",
       "    <tr>\n",
       "      <th>25%</th>\n",
       "      <td>9362.950195</td>\n",
       "      <td>9404.100098</td>\n",
       "      <td>9290.100097</td>\n",
       "      <td>9315.899902</td>\n",
       "      <td>9315.899902</td>\n",
       "      <td>1.956000e+05</td>\n",
       "    </tr>\n",
       "    <tr>\n",
       "      <th>50%</th>\n",
       "      <td>10781.849609</td>\n",
       "      <td>10816.349609</td>\n",
       "      <td>10718.750000</td>\n",
       "      <td>10769.150391</td>\n",
       "      <td>10769.150391</td>\n",
       "      <td>2.906000e+05</td>\n",
       "    </tr>\n",
       "    <tr>\n",
       "      <th>75%</th>\n",
       "      <td>11925.699707</td>\n",
       "      <td>11968.899903</td>\n",
       "      <td>11847.475097</td>\n",
       "      <td>11914.125000</td>\n",
       "      <td>11914.125000</td>\n",
       "      <td>5.092500e+05</td>\n",
       "    </tr>\n",
       "    <tr>\n",
       "      <th>max</th>\n",
       "      <td>18602.349609</td>\n",
       "      <td>18604.449219</td>\n",
       "      <td>18445.300781</td>\n",
       "      <td>18477.050781</td>\n",
       "      <td>18477.050781</td>\n",
       "      <td>1.811000e+06</td>\n",
       "    </tr>\n",
       "  </tbody>\n",
       "</table>\n",
       "</div>"
      ],
      "text/plain": [
       "               Open          High           Low         Close     Adj Close  \\\n",
       "count   1475.000000   1475.000000   1475.000000   1475.000000   1475.000000   \n",
       "mean   11190.630103  11243.279798  11114.862019  11180.224847  11180.224847   \n",
       "std     2605.404423   2613.649325   2588.183872   2602.005796   2602.005796   \n",
       "min     7023.649902   7034.200195   6825.799805   6970.600098   6970.600098   \n",
       "25%     9362.950195   9404.100098   9290.100097   9315.899902   9315.899902   \n",
       "50%    10781.849609  10816.349609  10718.750000  10769.150391  10769.150391   \n",
       "75%    11925.699707  11968.899903  11847.475097  11914.125000  11914.125000   \n",
       "max    18602.349609  18604.449219  18445.300781  18477.050781  18477.050781   \n",
       "\n",
       "             Volume  \n",
       "count  1.475000e+03  \n",
       "mean   3.672148e+05  \n",
       "std    2.277599e+05  \n",
       "min    0.000000e+00  \n",
       "25%    1.956000e+05  \n",
       "50%    2.906000e+05  \n",
       "75%    5.092500e+05  \n",
       "max    1.811000e+06  "
      ]
     },
     "execution_count": 8,
     "metadata": {},
     "output_type": "execute_result"
    }
   ],
   "source": [
    "df.describe()"
   ]
  },
  {
   "cell_type": "code",
   "execution_count": 9,
   "id": "22f41b45",
   "metadata": {},
   "outputs": [
    {
     "data": {
      "text/html": [
       "<div>\n",
       "<style scoped>\n",
       "    .dataframe tbody tr th:only-of-type {\n",
       "        vertical-align: middle;\n",
       "    }\n",
       "\n",
       "    .dataframe tbody tr th {\n",
       "        vertical-align: top;\n",
       "    }\n",
       "\n",
       "    .dataframe thead th {\n",
       "        text-align: right;\n",
       "    }\n",
       "</style>\n",
       "<table border=\"1\" class=\"dataframe\">\n",
       "  <thead>\n",
       "    <tr style=\"text-align: right;\">\n",
       "      <th></th>\n",
       "      <th>Date</th>\n",
       "      <th>Open</th>\n",
       "      <th>High</th>\n",
       "      <th>Low</th>\n",
       "      <th>Close</th>\n",
       "      <th>Adj Close</th>\n",
       "      <th>Volume</th>\n",
       "    </tr>\n",
       "  </thead>\n",
       "  <tbody>\n",
       "    <tr>\n",
       "      <th>0</th>\n",
       "      <td>20160104000000000</td>\n",
       "      <td>7924.549805</td>\n",
       "      <td>7937.549805</td>\n",
       "      <td>7781.100098</td>\n",
       "      <td>7791.299805</td>\n",
       "      <td>7791.299805</td>\n",
       "      <td>134700.0</td>\n",
       "    </tr>\n",
       "    <tr>\n",
       "      <th>1</th>\n",
       "      <td>20160105000000000</td>\n",
       "      <td>7828.399902</td>\n",
       "      <td>7831.200195</td>\n",
       "      <td>7763.250000</td>\n",
       "      <td>7784.649902</td>\n",
       "      <td>7784.649902</td>\n",
       "      <td>145200.0</td>\n",
       "    </tr>\n",
       "    <tr>\n",
       "      <th>2</th>\n",
       "      <td>20160106000000000</td>\n",
       "      <td>7788.049805</td>\n",
       "      <td>7800.950195</td>\n",
       "      <td>7721.200195</td>\n",
       "      <td>7741.000000</td>\n",
       "      <td>7741.000000</td>\n",
       "      <td>147100.0</td>\n",
       "    </tr>\n",
       "    <tr>\n",
       "      <th>3</th>\n",
       "      <td>20160107000000000</td>\n",
       "      <td>7673.350098</td>\n",
       "      <td>7674.950195</td>\n",
       "      <td>7556.600098</td>\n",
       "      <td>7568.299805</td>\n",
       "      <td>7568.299805</td>\n",
       "      <td>188900.0</td>\n",
       "    </tr>\n",
       "    <tr>\n",
       "      <th>4</th>\n",
       "      <td>20160108000000000</td>\n",
       "      <td>7611.649902</td>\n",
       "      <td>7634.100098</td>\n",
       "      <td>7581.049805</td>\n",
       "      <td>7601.350098</td>\n",
       "      <td>7601.350098</td>\n",
       "      <td>157400.0</td>\n",
       "    </tr>\n",
       "  </tbody>\n",
       "</table>\n",
       "</div>"
      ],
      "text/plain": [
       "                Date         Open         High          Low        Close  \\\n",
       "0  20160104000000000  7924.549805  7937.549805  7781.100098  7791.299805   \n",
       "1  20160105000000000  7828.399902  7831.200195  7763.250000  7784.649902   \n",
       "2  20160106000000000  7788.049805  7800.950195  7721.200195  7741.000000   \n",
       "3  20160107000000000  7673.350098  7674.950195  7556.600098  7568.299805   \n",
       "4  20160108000000000  7611.649902  7634.100098  7581.049805  7601.350098   \n",
       "\n",
       "     Adj Close    Volume  \n",
       "0  7791.299805  134700.0  \n",
       "1  7784.649902  145200.0  \n",
       "2  7741.000000  147100.0  \n",
       "3  7568.299805  188900.0  \n",
       "4  7601.350098  157400.0  "
      ]
     },
     "execution_count": 9,
     "metadata": {},
     "output_type": "execute_result"
    }
   ],
   "source": [
    "# Converting the date and time stamp series to integer values to avoid error while feeding the data to machine learning model\n",
    "# and the output will be in the format DDMMYYYYHHMMSS(excluding -,:)\n",
    "\n",
    "df['Date'] = pd.to_datetime(df['Date']).dt.strftime('%Y%m%d%H%M%S%f').apply(lambda x: int(x[:-3]))\n",
    "df.head()\n"
   ]
  },
  {
   "cell_type": "code",
   "execution_count": 10,
   "id": "db5f92cb",
   "metadata": {},
   "outputs": [
    {
     "data": {
      "text/plain": [
       "<AxesSubplot:>"
      ]
     },
     "execution_count": 10,
     "metadata": {},
     "output_type": "execute_result"
    },
    {
     "data": {
      "image/png": "[encoded data removed]",
      "text/plain": [
       "<Figure size 864x576 with 9 Axes>"
      ]
     },
     "metadata": {
      "needs_background": "light"
     },
     "output_type": "display_data"
    },
    {
     "data": {
      "image/png": "[encoded data removed]",
      "text/plain": [
       "<Figure size 432x288 with 1 Axes>"
      ]
     },
     "metadata": {
      "needs_background": "light"
     },
     "output_type": "display_data"
    }
   ],
   "source": [
    " # Analysing the features by plotting them as individual histograms and then we can analyze the trends between label and features.                                              \n",
    "viz = df[['Date', 'Open', 'High', 'Low', 'Close','Adj Close','Volume']]\n",
    "viz.hist(figsize=(12,8))\n",
    "viz.plot()"
   ]
  },
  {
   "cell_type": "markdown",
   "id": "87fec495",
   "metadata": {},
   "source": [
    "# The below graphs are the relation between each feature and label to find out which algorithm is suitable for the data(#Relation Between Each Feature and Label)\n",
    "\n"
   ]
  },
  {
   "cell_type": "code",
   "execution_count": 167,
   "id": "70fa657f",
   "metadata": {},
   "outputs": [
    {
     "data": {
      "image/png": "[encoded data removed]",
      "text/plain": [
       "<Figure size 432x288 with 1 Axes>"
      ]
     },
     "metadata": {
      "needs_background": "light"
     },
     "output_type": "display_data"
    }
   ],
   "source": [
    "plt.scatter(df.Date,df.Close, color='blue')\n",
    "plt.xlabel(\"Date\")\n",
    "plt.ylabel(\"Adj Close\")\n",
    "plt.show()\n"
   ]
  },
  {
   "cell_type": "code",
   "execution_count": 168,
   "id": "ffd6dd67",
   "metadata": {},
   "outputs": [
    {
     "data": {
      "image/png": "[encoded data removed]",
      "text/plain": [
       "<Figure size 432x288 with 1 Axes>"
      ]
     },
     "metadata": {
      "needs_background": "light"
     },
     "output_type": "display_data"
    }
   ],
   "source": [
    "plt.scatter(df.Open,df.Close, color='blue')\n",
    "plt.xlabel(\"Open\")\n",
    "plt.ylabel(\"Adj Close\")\n",
    "plt.show()\n"
   ]
  },
  {
   "cell_type": "code",
   "execution_count": 169,
   "id": "0ec3ed1f",
   "metadata": {},
   "outputs": [
    {
     "data": {
      "image/png": "[encoded data removed]",
      "text/plain": [
       "<Figure size 432x288 with 1 Axes>"
      ]
     },
     "metadata": {
      "needs_background": "light"
     },
     "output_type": "display_data"
    }
   ],
   "source": [
    "plt.scatter(df.High,df.Close, color='blue')\n",
    "plt.xlabel(\"High\")\n",
    "plt.ylabel(\"Adj Close\")\n",
    "plt.show()\n"
   ]
  },
  {
   "cell_type": "code",
   "execution_count": 170,
   "id": "ea471b7b",
   "metadata": {},
   "outputs": [
    {
     "data": {
      "image/png": "[encoded data removed]",
      "text/plain": [
       "<Figure size 432x288 with 1 Axes>"
      ]
     },
     "metadata": {
      "needs_background": "light"
     },
     "output_type": "display_data"
    }
   ],
   "source": [
    "plt.scatter(df.Low,df.Close, color='blue')\n",
    "plt.xlabel(\"Low\")\n",
    "plt.ylabel(\"Close\")\n",
    "plt.show()\n"
   ]
  },
  {
   "cell_type": "code",
   "execution_count": 171,
   "id": "06e7c9f2",
   "metadata": {},
   "outputs": [
    {
     "data": {
      "image/png": "[encoded data removed]",
      "text/plain": [
       "<Figure size 432x288 with 1 Axes>"
      ]
     },
     "metadata": {
      "needs_background": "light"
     },
     "output_type": "display_data"
    }
   ],
   "source": [
    "plt.scatter(df.Volume,df.Close, color='blue')\n",
    "plt.xlabel(\"Close\")\n",
    "plt.ylabel(\"Adj Close\")\n",
    "plt.show()\n"
   ]
  },
  {
   "cell_type": "code",
   "execution_count": 172,
   "id": "a6361999",
   "metadata": {},
   "outputs": [
    {
     "data": {
      "text/plain": [
       "<AxesSubplot:>"
      ]
     },
     "execution_count": 172,
     "metadata": {},
     "output_type": "execute_result"
    },
    {
     "data": {
      "image/png": "[encoded data removed]",
      "text/plain": [
       "<Figure size 432x288 with 1 Axes>"
      ]
     },
     "metadata": {
      "needs_background": "light"
     },
     "output_type": "display_data"
    }
   ],
   "source": [
    "df['Adj Close'].plot()"
   ]
  },
  {
   "cell_type": "markdown",
   "id": "7c95a950",
   "metadata": {},
   "source": [
    "# Splitting the data to train and test the model"
   ]
  },
  {
   "cell_type": "code",
   "execution_count": 17,
   "id": "d746193e",
   "metadata": {},
   "outputs": [],
   "source": [
    "data = np.random.rand(len(df)) < 0.8\n",
    "train = df[data]\n",
    "test = df[~data]"
   ]
  },
  {
   "cell_type": "markdown",
   "id": "f0b1dbc2",
   "metadata": {},
   "source": [
    "# All the above plots shows a linear trend and all the fields values are continous then we came to know that multivariate linear regression model gives the best accuracy while comparing to other"
   ]
  },
  {
   "cell_type": "markdown",
   "id": "451e7f4e",
   "metadata": {},
   "source": [
    "# Training the model using Linear Regression Algorithm"
   ]
  },
  {
   "cell_type": "code",
   "execution_count": 18,
   "id": "6ec5b107",
   "metadata": {},
   "outputs": [
    {
     "name": "stdout",
     "output_type": "stream",
     "text": [
      "Coefficients:  [[-3.64698754e-13 -7.25697554e-01  9.55910690e-01  7.72659307e-01\n",
      "   2.18822539e-06]]\n",
      "Intercept:  [7325.97890442]\n"
     ]
    }
   ],
   "source": [
    "from sklearn import linear_model\n",
    "regr = linear_model.LinearRegression()\n",
    "x = np.asanyarray(train[['Date', 'Open', 'High', 'Low', 'Volume']])  # We have removed the feature close to avoid the \n",
    "                                                                    #underfitting of model because the data of close and \n",
    "                                                                    #Adj close are same\n",
    "\n",
    "y = np.asanyarray(train[['Adj Close']])\n",
    "regr.fit (x, y)\n",
    "# The coefficients\n",
    "print ('Coefficients: ', regr.coef_)\n",
    "print ('Intercept: ',regr.intercept_)"
   ]
  },
  {
   "cell_type": "markdown",
   "id": "a9c72d13",
   "metadata": {},
   "source": [
    "# Evaluation of Model"
   ]
  },
  {
   "cell_type": "code",
   "execution_count": 20,
   "id": "24099238",
   "metadata": {},
   "outputs": [
    {
     "name": "stdout",
     "output_type": "stream",
     "text": [
      "R2-score: 1.00\n"
     ]
    }
   ],
   "source": [
    "from sklearn.metrics import r2_score\n",
    "\n",
    "test_x = np.asanyarray(test[['Date', 'Open', 'High', 'Low', 'Volume']])\n",
    "test_y = np.asanyarray(test[['Adj Close']])\n",
    "test_y_ = regr.predict(test_x)\n",
    "\n",
    "print(\"R2-score: %.2f\" % r2_score(test_y , test_y_) ) # achieved 100 percent accuracy on 20 percent of testing data"
   ]
  },
  {
   "cell_type": "markdown",
   "id": "57426d3f",
   "metadata": {},
   "source": [
    "# The graph between actal vs predicted"
   ]
  },
  {
   "cell_type": "code",
   "execution_count": 23,
   "id": "23622788",
   "metadata": {},
   "outputs": [
    {
     "data": {
      "image/png": "[encoded data removed]",
      "text/plain": [
       "<Figure size 432x288 with 1 Axes>"
      ]
     },
     "metadata": {
      "needs_background": "light"
     },
     "output_type": "display_data"
    }
   ],
   "source": [
    "plt.plot(test_y_, label='True Value')\n",
    "plt.plot(test_y, label='Predicted Value')\n",
    "plt.title(\"Prediction by Linear Regression\")\n",
    "plt.legend()\n",
    "plt.show()  #due to 100 accuracy both are overlapped"
   ]
  },
  {
   "cell_type": "markdown",
   "id": "a4d8eef0",
   "metadata": {},
   "source": [
    "# Predecting the test data"
   ]
  },
  {
   "cell_type": "code",
   "execution_count": 193,
   "id": "fcc0c465",
   "metadata": {},
   "outputs": [
    {
     "data": {
      "text/html": [
       "<div>\n",
       "<style scoped>\n",
       "    .dataframe tbody tr th:only-of-type {\n",
       "        vertical-align: middle;\n",
       "    }\n",
       "\n",
       "    .dataframe tbody tr th {\n",
       "        vertical-align: top;\n",
       "    }\n",
       "\n",
       "    .dataframe thead th {\n",
       "        text-align: right;\n",
       "    }\n",
       "</style>\n",
       "<table border=\"1\" class=\"dataframe\">\n",
       "  <thead>\n",
       "    <tr style=\"text-align: right;\">\n",
       "      <th></th>\n",
       "      <th>Date</th>\n",
       "      <th>Open</th>\n",
       "      <th>High</th>\n",
       "      <th>Low</th>\n",
       "      <th>Close</th>\n",
       "      <th>Adj Close</th>\n",
       "      <th>Volume</th>\n",
       "    </tr>\n",
       "  </thead>\n",
       "  <tbody>\n",
       "    <tr>\n",
       "      <th>0</th>\n",
       "      <td>2022-01-03</td>\n",
       "      <td>17387.150391</td>\n",
       "      <td>17646.650391</td>\n",
       "      <td>17383.300781</td>\n",
       "      <td>17625.699219</td>\n",
       "      <td>17625.699219</td>\n",
       "      <td>200500</td>\n",
       "    </tr>\n",
       "    <tr>\n",
       "      <th>1</th>\n",
       "      <td>2022-01-04</td>\n",
       "      <td>17681.400391</td>\n",
       "      <td>17827.599609</td>\n",
       "      <td>17593.550781</td>\n",
       "      <td>17805.250000</td>\n",
       "      <td>17805.250000</td>\n",
       "      <td>247400</td>\n",
       "    </tr>\n",
       "    <tr>\n",
       "      <th>2</th>\n",
       "      <td>2022-01-05</td>\n",
       "      <td>17820.099609</td>\n",
       "      <td>17944.699219</td>\n",
       "      <td>17748.849609</td>\n",
       "      <td>17925.250000</td>\n",
       "      <td>17925.250000</td>\n",
       "      <td>251500</td>\n",
       "    </tr>\n",
       "    <tr>\n",
       "      <th>3</th>\n",
       "      <td>2022-01-06</td>\n",
       "      <td>17768.500000</td>\n",
       "      <td>17797.949219</td>\n",
       "      <td>17655.550781</td>\n",
       "      <td>17745.900391</td>\n",
       "      <td>17745.900391</td>\n",
       "      <td>236500</td>\n",
       "    </tr>\n",
       "    <tr>\n",
       "      <th>4</th>\n",
       "      <td>2022-01-07</td>\n",
       "      <td>17797.599609</td>\n",
       "      <td>17905.000000</td>\n",
       "      <td>17704.550781</td>\n",
       "      <td>17812.699219</td>\n",
       "      <td>17812.699219</td>\n",
       "      <td>239300</td>\n",
       "    </tr>\n",
       "    <tr>\n",
       "      <th>5</th>\n",
       "      <td>2022-01-10</td>\n",
       "      <td>17913.300781</td>\n",
       "      <td>18017.449219</td>\n",
       "      <td>17879.150391</td>\n",
       "      <td>18003.300781</td>\n",
       "      <td>18003.300781</td>\n",
       "      <td>232400</td>\n",
       "    </tr>\n",
       "    <tr>\n",
       "      <th>6</th>\n",
       "      <td>2022-01-11</td>\n",
       "      <td>17997.750000</td>\n",
       "      <td>18081.250000</td>\n",
       "      <td>17964.400391</td>\n",
       "      <td>18055.750000</td>\n",
       "      <td>18055.750000</td>\n",
       "      <td>220200</td>\n",
       "    </tr>\n",
       "    <tr>\n",
       "      <th>7</th>\n",
       "      <td>2022-01-12</td>\n",
       "      <td>18170.400391</td>\n",
       "      <td>18227.949219</td>\n",
       "      <td>18128.800781</td>\n",
       "      <td>18212.349609</td>\n",
       "      <td>18212.349609</td>\n",
       "      <td>245000</td>\n",
       "    </tr>\n",
       "    <tr>\n",
       "      <th>8</th>\n",
       "      <td>2022-01-13</td>\n",
       "      <td>18257.000000</td>\n",
       "      <td>18272.250000</td>\n",
       "      <td>18163.800781</td>\n",
       "      <td>18257.800781</td>\n",
       "      <td>18257.800781</td>\n",
       "      <td>303700</td>\n",
       "    </tr>\n",
       "    <tr>\n",
       "      <th>9</th>\n",
       "      <td>2022-01-14</td>\n",
       "      <td>18185.000000</td>\n",
       "      <td>18286.949219</td>\n",
       "      <td>18119.650391</td>\n",
       "      <td>18255.750000</td>\n",
       "      <td>18255.750000</td>\n",
       "      <td>229500</td>\n",
       "    </tr>\n",
       "  </tbody>\n",
       "</table>\n",
       "</div>"
      ],
      "text/plain": [
       "        Date          Open          High           Low         Close  \\\n",
       "0 2022-01-03  17387.150391  17646.650391  17383.300781  17625.699219   \n",
       "1 2022-01-04  17681.400391  17827.599609  17593.550781  17805.250000   \n",
       "2 2022-01-05  17820.099609  17944.699219  17748.849609  17925.250000   \n",
       "3 2022-01-06  17768.500000  17797.949219  17655.550781  17745.900391   \n",
       "4 2022-01-07  17797.599609  17905.000000  17704.550781  17812.699219   \n",
       "5 2022-01-10  17913.300781  18017.449219  17879.150391  18003.300781   \n",
       "6 2022-01-11  17997.750000  18081.250000  17964.400391  18055.750000   \n",
       "7 2022-01-12  18170.400391  18227.949219  18128.800781  18212.349609   \n",
       "8 2022-01-13  18257.000000  18272.250000  18163.800781  18257.800781   \n",
       "9 2022-01-14  18185.000000  18286.949219  18119.650391  18255.750000   \n",
       "\n",
       "      Adj Close  Volume  \n",
       "0  17625.699219  200500  \n",
       "1  17805.250000  247400  \n",
       "2  17925.250000  251500  \n",
       "3  17745.900391  236500  \n",
       "4  17812.699219  239300  \n",
       "5  18003.300781  232400  \n",
       "6  18055.750000  220200  \n",
       "7  18212.349609  245000  \n",
       "8  18257.800781  303700  \n",
       "9  18255.750000  229500  "
      ]
     },
     "execution_count": 193,
     "metadata": {},
     "output_type": "execute_result"
    }
   ],
   "source": [
    "df = pd.read_excel(\"stockmarket_testingdataset.xlsx\") #Loading test data\n",
    "\n",
    "df.head(10)"
   ]
  },
  {
   "cell_type": "code",
   "execution_count": 194,
   "id": "a0cb6d33",
   "metadata": {},
   "outputs": [
    {
     "data": {
      "text/html": [
       "<div>\n",
       "<style scoped>\n",
       "    .dataframe tbody tr th:only-of-type {\n",
       "        vertical-align: middle;\n",
       "    }\n",
       "\n",
       "    .dataframe tbody tr th {\n",
       "        vertical-align: top;\n",
       "    }\n",
       "\n",
       "    .dataframe thead th {\n",
       "        text-align: right;\n",
       "    }\n",
       "</style>\n",
       "<table border=\"1\" class=\"dataframe\">\n",
       "  <thead>\n",
       "    <tr style=\"text-align: right;\">\n",
       "      <th></th>\n",
       "      <th>Date</th>\n",
       "      <th>Open</th>\n",
       "      <th>High</th>\n",
       "      <th>Low</th>\n",
       "      <th>Close</th>\n",
       "      <th>Adj Close</th>\n",
       "      <th>Volume</th>\n",
       "    </tr>\n",
       "  </thead>\n",
       "  <tbody>\n",
       "    <tr>\n",
       "      <th>0</th>\n",
       "      <td>20220103000000000</td>\n",
       "      <td>17387.150391</td>\n",
       "      <td>17646.650391</td>\n",
       "      <td>17383.300781</td>\n",
       "      <td>17625.699219</td>\n",
       "      <td>17625.699219</td>\n",
       "      <td>200500</td>\n",
       "    </tr>\n",
       "    <tr>\n",
       "      <th>1</th>\n",
       "      <td>20220104000000000</td>\n",
       "      <td>17681.400391</td>\n",
       "      <td>17827.599609</td>\n",
       "      <td>17593.550781</td>\n",
       "      <td>17805.250000</td>\n",
       "      <td>17805.250000</td>\n",
       "      <td>247400</td>\n",
       "    </tr>\n",
       "    <tr>\n",
       "      <th>2</th>\n",
       "      <td>20220105000000000</td>\n",
       "      <td>17820.099609</td>\n",
       "      <td>17944.699219</td>\n",
       "      <td>17748.849609</td>\n",
       "      <td>17925.250000</td>\n",
       "      <td>17925.250000</td>\n",
       "      <td>251500</td>\n",
       "    </tr>\n",
       "    <tr>\n",
       "      <th>3</th>\n",
       "      <td>20220106000000000</td>\n",
       "      <td>17768.500000</td>\n",
       "      <td>17797.949219</td>\n",
       "      <td>17655.550781</td>\n",
       "      <td>17745.900391</td>\n",
       "      <td>17745.900391</td>\n",
       "      <td>236500</td>\n",
       "    </tr>\n",
       "    <tr>\n",
       "      <th>4</th>\n",
       "      <td>20220107000000000</td>\n",
       "      <td>17797.599609</td>\n",
       "      <td>17905.000000</td>\n",
       "      <td>17704.550781</td>\n",
       "      <td>17812.699219</td>\n",
       "      <td>17812.699219</td>\n",
       "      <td>239300</td>\n",
       "    </tr>\n",
       "  </tbody>\n",
       "</table>\n",
       "</div>"
      ],
      "text/plain": [
       "                Date          Open          High           Low         Close  \\\n",
       "0  20220103000000000  17387.150391  17646.650391  17383.300781  17625.699219   \n",
       "1  20220104000000000  17681.400391  17827.599609  17593.550781  17805.250000   \n",
       "2  20220105000000000  17820.099609  17944.699219  17748.849609  17925.250000   \n",
       "3  20220106000000000  17768.500000  17797.949219  17655.550781  17745.900391   \n",
       "4  20220107000000000  17797.599609  17905.000000  17704.550781  17812.699219   \n",
       "\n",
       "      Adj Close  Volume  \n",
       "0  17625.699219  200500  \n",
       "1  17805.250000  247400  \n",
       "2  17925.250000  251500  \n",
       "3  17745.900391  236500  \n",
       "4  17812.699219  239300  "
      ]
     },
     "execution_count": 194,
     "metadata": {},
     "output_type": "execute_result"
    }
   ],
   "source": [
    "# Converting the date time stamp series to integer values to avoid error\n",
    "\n",
    "df['Date'] = pd.to_datetime(df['Date']).dt.strftime('%Y%m%d%H%M%S%f').apply(lambda x: int(x[:-3]))\n",
    "df.head()\n"
   ]
  },
  {
   "cell_type": "markdown",
   "id": "a215bd56",
   "metadata": {},
   "source": [
    "#  Evaluation of model using Testing data \n",
    "\n"
   ]
  },
  {
   "cell_type": "code",
   "execution_count": 187,
   "id": "9c8cc452",
   "metadata": {},
   "outputs": [
    {
     "name": "stdout",
     "output_type": "stream",
     "text": [
      "R2-score: 0.97\n"
     ]
    }
   ],
   "source": [
    "\n",
    "from sklearn.metrics import r2_score\n",
    "\n",
    "test_x = np.asanyarray(df[['Date', 'Open', 'High', 'Low', 'Volume']])\n",
    "test_y = np.asanyarray(df[['Adj Close']])\n",
    "test_y_ = regr.predict(test_x)\n",
    "\n",
    "print(\"R2-score: %.2f\" % r2_score(test_y , test_y_) ) # achieved 97 percent Out of sample accuracy on testing data."
   ]
  },
  {
   "cell_type": "markdown",
   "id": "9260af1e",
   "metadata": {},
   "source": [
    "# Plot - Actual (Adj Close) vs Predicted (Adj Close)"
   ]
  },
  {
   "cell_type": "code",
   "execution_count": 190,
   "id": "c21ca34e",
   "metadata": {},
   "outputs": [
    {
     "data": {
      "image/png": "[encoded data removed]",
      "text/plain": [
       "<Figure size 432x288 with 1 Axes>"
      ]
     },
     "metadata": {
      "needs_background": "light"
     },
     "output_type": "display_data"
    }
   ],
   "source": [
    "plt.plot(test_y_, label='True Value')\n",
    "plt.plot(test_y, label='Predicted Value')\n",
    "plt.title(\"Prediction by Linear Regression\")\n",
    "plt.legend()\n",
    "plt.show()"
   ]
  }
 ],
 "metadata": {
  "kernelspec": {
   "display_name": "Python 3 (ipykernel)",
   "language": "python",
   "name": "python3"
  },
  "language_info": {
   "codemirror_mode": {
    "name": "ipython",
    "version": 3
   },
   "file_extension": ".py",
   "mimetype": "text/x-python",
   "name": "python",
   "nbconvert_exporter": "python",
   "pygments_lexer": "ipython3",
   "version": "3.9.7"
  }
 },
 "nbformat": 4,
 "nbformat_minor": 5
}
