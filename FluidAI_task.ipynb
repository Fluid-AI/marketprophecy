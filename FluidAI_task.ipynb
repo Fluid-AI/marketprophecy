{
 "cells": [
  {
   "cell_type": "code",
   "execution_count": 1,
   "metadata": {},
   "outputs": [],
   "source": [
    "import numpy as np # data processed in the form of array\n",
    "import pandas as pd # data processing, CSV file I/O (e.g. pd.read_csv)\n",
    "import os #libray used to working in operating system files and processes\n",
    "import matplotlib.pyplot as plt #data visulization library"
   ]
  },
  {
   "cell_type": "code",
   "execution_count": 2,
   "metadata": {},
   "outputs": [],
   "source": [
    "df=pd.read_csv(r\"C:\\Users\\SUKUN\\Downloads\\bitcoin1.csv\")"
   ]
  },
  {
   "cell_type": "code",
   "execution_count": 3,
   "metadata": {},
   "outputs": [],
   "source": [
    "df=df.iloc[0:,0:7]"
   ]
  },
  {
   "cell_type": "code",
   "execution_count": 4,
   "metadata": {},
   "outputs": [
    {
     "data": {
      "text/html": [
       "<div>\n",
       "<style scoped>\n",
       "    .dataframe tbody tr th:only-of-type {\n",
       "        vertical-align: middle;\n",
       "    }\n",
       "\n",
       "    .dataframe tbody tr th {\n",
       "        vertical-align: top;\n",
       "    }\n",
       "\n",
       "    .dataframe thead th {\n",
       "        text-align: right;\n",
       "    }\n",
       "</style>\n",
       "<table border=\"1\" class=\"dataframe\">\n",
       "  <thead>\n",
       "    <tr style=\"text-align: right;\">\n",
       "      <th></th>\n",
       "      <th>Date</th>\n",
       "      <th>Open</th>\n",
       "      <th>High</th>\n",
       "      <th>Low</th>\n",
       "      <th>Close</th>\n",
       "      <th>Adj Close</th>\n",
       "      <th>Volume</th>\n",
       "    </tr>\n",
       "  </thead>\n",
       "  <tbody>\n",
       "    <tr>\n",
       "      <th>0</th>\n",
       "      <td>01-01-2016</td>\n",
       "      <td>430.721008</td>\n",
       "      <td>436.246002</td>\n",
       "      <td>427.515015</td>\n",
       "      <td>434.334015</td>\n",
       "      <td>434.334015</td>\n",
       "      <td>3.627890e+07</td>\n",
       "    </tr>\n",
       "    <tr>\n",
       "      <th>1</th>\n",
       "      <td>02-01-2016</td>\n",
       "      <td>434.622009</td>\n",
       "      <td>436.062012</td>\n",
       "      <td>431.869995</td>\n",
       "      <td>433.437988</td>\n",
       "      <td>433.437988</td>\n",
       "      <td>3.009660e+07</td>\n",
       "    </tr>\n",
       "    <tr>\n",
       "      <th>2</th>\n",
       "      <td>03-01-2016</td>\n",
       "      <td>433.578003</td>\n",
       "      <td>433.743011</td>\n",
       "      <td>424.705994</td>\n",
       "      <td>430.010986</td>\n",
       "      <td>430.010986</td>\n",
       "      <td>3.963380e+07</td>\n",
       "    </tr>\n",
       "    <tr>\n",
       "      <th>3</th>\n",
       "      <td>04-01-2016</td>\n",
       "      <td>430.061005</td>\n",
       "      <td>434.516998</td>\n",
       "      <td>429.084015</td>\n",
       "      <td>433.091003</td>\n",
       "      <td>433.091003</td>\n",
       "      <td>3.847750e+07</td>\n",
       "    </tr>\n",
       "    <tr>\n",
       "      <th>4</th>\n",
       "      <td>05-01-2016</td>\n",
       "      <td>433.069000</td>\n",
       "      <td>434.182007</td>\n",
       "      <td>429.675995</td>\n",
       "      <td>431.959991</td>\n",
       "      <td>431.959991</td>\n",
       "      <td>3.452260e+07</td>\n",
       "    </tr>\n",
       "    <tr>\n",
       "      <th>...</th>\n",
       "      <td>...</td>\n",
       "      <td>...</td>\n",
       "      <td>...</td>\n",
       "      <td>...</td>\n",
       "      <td>...</td>\n",
       "      <td>...</td>\n",
       "      <td>...</td>\n",
       "    </tr>\n",
       "    <tr>\n",
       "      <th>2188</th>\n",
       "      <td>28-12-2021</td>\n",
       "      <td>50679.859380</td>\n",
       "      <td>50679.859380</td>\n",
       "      <td>47414.210940</td>\n",
       "      <td>47588.855470</td>\n",
       "      <td>47588.855470</td>\n",
       "      <td>3.343038e+10</td>\n",
       "    </tr>\n",
       "    <tr>\n",
       "      <th>2189</th>\n",
       "      <td>29-12-2021</td>\n",
       "      <td>47623.871090</td>\n",
       "      <td>48119.742190</td>\n",
       "      <td>46201.496090</td>\n",
       "      <td>46444.710940</td>\n",
       "      <td>46444.710940</td>\n",
       "      <td>3.004923e+10</td>\n",
       "    </tr>\n",
       "    <tr>\n",
       "      <th>2190</th>\n",
       "      <td>30-12-2021</td>\n",
       "      <td>46490.605470</td>\n",
       "      <td>47879.964840</td>\n",
       "      <td>46060.312500</td>\n",
       "      <td>47178.125000</td>\n",
       "      <td>47178.125000</td>\n",
       "      <td>2.668649e+10</td>\n",
       "    </tr>\n",
       "    <tr>\n",
       "      <th>2191</th>\n",
       "      <td>31-12-2021</td>\n",
       "      <td>47169.371090</td>\n",
       "      <td>48472.527340</td>\n",
       "      <td>45819.953130</td>\n",
       "      <td>46306.445310</td>\n",
       "      <td>46306.445310</td>\n",
       "      <td>3.697417e+10</td>\n",
       "    </tr>\n",
       "    <tr>\n",
       "      <th>2192</th>\n",
       "      <td>01-01-2022</td>\n",
       "      <td>46311.746090</td>\n",
       "      <td>47827.312500</td>\n",
       "      <td>46288.484380</td>\n",
       "      <td>47686.812500</td>\n",
       "      <td>47686.812500</td>\n",
       "      <td>2.458267e+10</td>\n",
       "    </tr>\n",
       "  </tbody>\n",
       "</table>\n",
       "<p>2193 rows × 7 columns</p>\n",
       "</div>"
      ],
      "text/plain": [
       "            Date          Open          High           Low         Close  \\\n",
       "0     01-01-2016    430.721008    436.246002    427.515015    434.334015   \n",
       "1     02-01-2016    434.622009    436.062012    431.869995    433.437988   \n",
       "2     03-01-2016    433.578003    433.743011    424.705994    430.010986   \n",
       "3     04-01-2016    430.061005    434.516998    429.084015    433.091003   \n",
       "4     05-01-2016    433.069000    434.182007    429.675995    431.959991   \n",
       "...          ...           ...           ...           ...           ...   \n",
       "2188  28-12-2021  50679.859380  50679.859380  47414.210940  47588.855470   \n",
       "2189  29-12-2021  47623.871090  48119.742190  46201.496090  46444.710940   \n",
       "2190  30-12-2021  46490.605470  47879.964840  46060.312500  47178.125000   \n",
       "2191  31-12-2021  47169.371090  48472.527340  45819.953130  46306.445310   \n",
       "2192  01-01-2022  46311.746090  47827.312500  46288.484380  47686.812500   \n",
       "\n",
       "         Adj Close        Volume  \n",
       "0       434.334015  3.627890e+07  \n",
       "1       433.437988  3.009660e+07  \n",
       "2       430.010986  3.963380e+07  \n",
       "3       433.091003  3.847750e+07  \n",
       "4       431.959991  3.452260e+07  \n",
       "...            ...           ...  \n",
       "2188  47588.855470  3.343038e+10  \n",
       "2189  46444.710940  3.004923e+10  \n",
       "2190  47178.125000  2.668649e+10  \n",
       "2191  46306.445310  3.697417e+10  \n",
       "2192  47686.812500  2.458267e+10  \n",
       "\n",
       "[2193 rows x 7 columns]"
      ]
     },
     "execution_count": 4,
     "metadata": {},
     "output_type": "execute_result"
    }
   ],
   "source": [
    "df"
   ]
  },
  {
   "cell_type": "code",
   "execution_count": 5,
   "metadata": {},
   "outputs": [
    {
     "data": {
      "text/html": [
       "<div>\n",
       "<style scoped>\n",
       "    .dataframe tbody tr th:only-of-type {\n",
       "        vertical-align: middle;\n",
       "    }\n",
       "\n",
       "    .dataframe tbody tr th {\n",
       "        vertical-align: top;\n",
       "    }\n",
       "\n",
       "    .dataframe thead th {\n",
       "        text-align: right;\n",
       "    }\n",
       "</style>\n",
       "<table border=\"1\" class=\"dataframe\">\n",
       "  <thead>\n",
       "    <tr style=\"text-align: right;\">\n",
       "      <th></th>\n",
       "      <th>Open</th>\n",
       "      <th>High</th>\n",
       "      <th>Low</th>\n",
       "      <th>Close</th>\n",
       "      <th>Adj Close</th>\n",
       "      <th>Volume</th>\n",
       "    </tr>\n",
       "  </thead>\n",
       "  <tbody>\n",
       "    <tr>\n",
       "      <th>count</th>\n",
       "      <td>2192.000000</td>\n",
       "      <td>2192.000000</td>\n",
       "      <td>2192.000000</td>\n",
       "      <td>2192.000000</td>\n",
       "      <td>2193.000000</td>\n",
       "      <td>2.192000e+03</td>\n",
       "    </tr>\n",
       "    <tr>\n",
       "      <th>mean</th>\n",
       "      <td>13011.519336</td>\n",
       "      <td>13368.885385</td>\n",
       "      <td>12621.631785</td>\n",
       "      <td>13030.902498</td>\n",
       "      <td>13025.165761</td>\n",
       "      <td>1.758391e+10</td>\n",
       "    </tr>\n",
       "    <tr>\n",
       "      <th>std</th>\n",
       "      <td>16481.574323</td>\n",
       "      <td>16936.855029</td>\n",
       "      <td>15962.173599</td>\n",
       "      <td>16491.103132</td>\n",
       "      <td>16489.529609</td>\n",
       "      <td>2.085386e+10</td>\n",
       "    </tr>\n",
       "    <tr>\n",
       "      <th>min</th>\n",
       "      <td>365.072998</td>\n",
       "      <td>374.950012</td>\n",
       "      <td>354.914001</td>\n",
       "      <td>364.330994</td>\n",
       "      <td>364.330994</td>\n",
       "      <td>2.851400e+07</td>\n",
       "    </tr>\n",
       "    <tr>\n",
       "      <th>25%</th>\n",
       "      <td>2587.370056</td>\n",
       "      <td>2684.457458</td>\n",
       "      <td>2514.867554</td>\n",
       "      <td>2589.552551</td>\n",
       "      <td>2589.409912</td>\n",
       "      <td>1.183620e+09</td>\n",
       "    </tr>\n",
       "    <tr>\n",
       "      <th>50%</th>\n",
       "      <td>7397.884033</td>\n",
       "      <td>7536.833496</td>\n",
       "      <td>7235.094727</td>\n",
       "      <td>7399.348144</td>\n",
       "      <td>7397.796875</td>\n",
       "      <td>9.214114e+09</td>\n",
       "    </tr>\n",
       "    <tr>\n",
       "      <th>75%</th>\n",
       "      <td>11354.720462</td>\n",
       "      <td>11574.499755</td>\n",
       "      <td>11027.832518</td>\n",
       "      <td>11358.846680</td>\n",
       "      <td>11358.662110</td>\n",
       "      <td>2.887192e+10</td>\n",
       "    </tr>\n",
       "    <tr>\n",
       "      <th>max</th>\n",
       "      <td>67549.734380</td>\n",
       "      <td>68789.625000</td>\n",
       "      <td>66382.062500</td>\n",
       "      <td>67566.828130</td>\n",
       "      <td>67566.828130</td>\n",
       "      <td>3.509680e+11</td>\n",
       "    </tr>\n",
       "  </tbody>\n",
       "</table>\n",
       "</div>"
      ],
      "text/plain": [
       "               Open          High           Low         Close     Adj Close  \\\n",
       "count   2192.000000   2192.000000   2192.000000   2192.000000   2193.000000   \n",
       "mean   13011.519336  13368.885385  12621.631785  13030.902498  13025.165761   \n",
       "std    16481.574323  16936.855029  15962.173599  16491.103132  16489.529609   \n",
       "min      365.072998    374.950012    354.914001    364.330994    364.330994   \n",
       "25%     2587.370056   2684.457458   2514.867554   2589.552551   2589.409912   \n",
       "50%     7397.884033   7536.833496   7235.094727   7399.348144   7397.796875   \n",
       "75%    11354.720462  11574.499755  11027.832518  11358.846680  11358.662110   \n",
       "max    67549.734380  68789.625000  66382.062500  67566.828130  67566.828130   \n",
       "\n",
       "             Volume  \n",
       "count  2.192000e+03  \n",
       "mean   1.758391e+10  \n",
       "std    2.085386e+10  \n",
       "min    2.851400e+07  \n",
       "25%    1.183620e+09  \n",
       "50%    9.214114e+09  \n",
       "75%    2.887192e+10  \n",
       "max    3.509680e+11  "
      ]
     },
     "execution_count": 5,
     "metadata": {},
     "output_type": "execute_result"
    }
   ],
   "source": [
    "df.describe()"
   ]
  },
  {
   "cell_type": "code",
   "execution_count": 6,
   "metadata": {},
   "outputs": [
    {
     "data": {
      "text/plain": [
       "Date         1\n",
       "Open         1\n",
       "High         1\n",
       "Low          1\n",
       "Close        1\n",
       "Adj Close    0\n",
       "Volume       1\n",
       "dtype: int64"
      ]
     },
     "execution_count": 6,
     "metadata": {},
     "output_type": "execute_result"
    }
   ],
   "source": [
    "df.isnull().sum()"
   ]
  },
  {
   "cell_type": "code",
   "execution_count": 7,
   "metadata": {},
   "outputs": [],
   "source": [
    "df1=df[[\"Adj Close\"]]\n",
    "X=[]\n",
    "Y=[]"
   ]
  },
  {
   "cell_type": "code",
   "execution_count": 8,
   "metadata": {
    "scrolled": true
   },
   "outputs": [],
   "source": [
    "from sklearn.preprocessing import MinMaxScaler\n",
    "scaler = MinMaxScaler(feature_range=(0, 1))\n",
    "df1 = scaler.fit_transform(df1)\n"
   ]
  },
  {
   "cell_type": "code",
   "execution_count": 9,
   "metadata": {},
   "outputs": [
    {
     "data": {
      "text/plain": [
       "array([[0.00104167],\n",
       "       [0.00102834],\n",
       "       [0.00097734],\n",
       "       ...,\n",
       "       [0.69660795],\n",
       "       [0.68363701],\n",
       "       [0.70417743]])"
      ]
     },
     "execution_count": 9,
     "metadata": {},
     "output_type": "execute_result"
    }
   ],
   "source": [
    "df1"
   ]
  },
  {
   "cell_type": "code",
   "execution_count": 10,
   "metadata": {},
   "outputs": [],
   "source": [
    "step=60\n",
    "for i in range(len(df1)-step-1):\n",
    "    a=df1[i:(step+i)]\n",
    "    X.append(a)\n",
    "    \n",
    "    Y.append(df1[i+step])"
   ]
  },
  {
   "cell_type": "code",
   "execution_count": 11,
   "metadata": {
    "scrolled": true
   },
   "outputs": [
    {
     "data": {
      "text/plain": [
       "array([[1.04167291e-03],\n",
       "       [1.02833967e-03],\n",
       "       [9.77344515e-04],\n",
       "       [1.02317640e-03],\n",
       "       [1.00634649e-03],\n",
       "       [9.63863246e-04],\n",
       "       [1.39454654e-03],\n",
       "       [1.32285288e-03],\n",
       "       [1.27834827e-03],\n",
       "       [1.24489426e-03],\n",
       "       [1.25139717e-03],\n",
       "       [1.06185054e-03],\n",
       "       [1.01246250e-03],\n",
       "       [9.81734442e-04],\n",
       "       [0.00000000e+00],\n",
       "       [3.45299922e-04],\n",
       "       [2.67371270e-04],\n",
       "       [3.39823756e-04],\n",
       "       [2.35378054e-04],\n",
       "       [8.31799701e-04],\n",
       "       [6.83471611e-04],\n",
       "       [2.70243083e-04],\n",
       "       [3.44630095e-04],\n",
       "       [5.74978842e-04],\n",
       "       [4.07648825e-04],\n",
       "       [4.14002785e-04],\n",
       "       [4.55950185e-04],\n",
       "       [2.37461518e-04],\n",
       "       [2.25333963e-04],\n",
       "       [2.07194845e-04],\n",
       "       [6.60095114e-05],\n",
       "       [1.29831574e-04],\n",
       "       [1.50545061e-04],\n",
       "       [8.35982477e-05],\n",
       "       [3.75923531e-04],\n",
       "       [3.30612967e-04],\n",
       "       [1.81407083e-04],\n",
       "       [1.82865243e-04],\n",
       "       [1.35649677e-04],\n",
       "       [1.74070883e-04],\n",
       "       [2.57698653e-04],\n",
       "       [2.28012331e-04],\n",
       "       [2.96596211e-04],\n",
       "       [4.09642382e-04],\n",
       "       [6.38354508e-04],\n",
       "       [5.33521901e-04],\n",
       "       [6.42193592e-04],\n",
       "       [7.73646802e-04],\n",
       "       [8.63688025e-04],\n",
       "       [8.40058218e-04],\n",
       "       [1.08378424e-03],\n",
       "       [1.10809885e-03],\n",
       "       [1.09247417e-03],\n",
       "       [8.39328900e-04],\n",
       "       [9.02109231e-04],\n",
       "       [8.95993669e-04],\n",
       "       [1.00920378e-03],\n",
       "       [1.01466494e-03],\n",
       "       [1.02932193e-03],\n",
       "       [1.09171534e-03]])"
      ]
     },
     "execution_count": 11,
     "metadata": {},
     "output_type": "execute_result"
    }
   ],
   "source": [
    "X[0]"
   ]
  },
  {
   "cell_type": "code",
   "execution_count": 12,
   "metadata": {},
   "outputs": [],
   "source": [
    "X=np.array(X)\n",
    "Y=np.array(Y)"
   ]
  },
  {
   "cell_type": "code",
   "execution_count": 13,
   "metadata": {},
   "outputs": [
    {
     "data": {
      "text/plain": [
       "array([[0.00097734],\n",
       "       [0.00102318],\n",
       "       [0.00100635],\n",
       "       [0.00096386]])"
      ]
     },
     "execution_count": 13,
     "metadata": {},
     "output_type": "execute_result"
    }
   ],
   "source": [
    "X[2][0:4]"
   ]
  },
  {
   "cell_type": "code",
   "execution_count": 14,
   "metadata": {},
   "outputs": [],
   "source": [
    "from sklearn.model_selection import train_test_split\n",
    "X_train, X_test, y_train, y_test = train_test_split(X, Y, test_size=0.33)"
   ]
  },
  {
   "cell_type": "code",
   "execution_count": 15,
   "metadata": {},
   "outputs": [],
   "source": [
    "X_train = X_train.reshape(-1, 1, 60)\n",
    "X_test  = X_test.reshape(-1, 1, 60)\n",
    "y_train = y_train.reshape(-1, 1, 1)\n",
    "y_test = y_test.reshape(-1, 1, 1)\n"
   ]
  },
  {
   "cell_type": "code",
   "execution_count": 16,
   "metadata": {},
   "outputs": [
    {
     "data": {
      "text/plain": [
       "array([[0.00809872, 0.00813761, 0.00801305, 0.00808524, 0.00615194,\n",
       "        0.00655486, 0.00683982, 0.00675691, 0.00680729, 0.00695217,\n",
       "        0.00808909, 0.00777184, 0.00795717, 0.00789695, 0.0082952 ,\n",
       "        0.00833811, 0.00828364, 0.00786215, 0.00799391, 0.00823266,\n",
       "        0.00826486, 0.00829224, 0.00826108, 0.00827426, 0.00901859,\n",
       "        0.00929567, 0.0096346 , 0.00990408, 0.01009738, 0.00986584,\n",
       "        0.0100267 , 0.01037192, 0.01039751, 0.00937543, 0.00929047,\n",
       "        0.00952523, 0.00944682, 0.00931976, 0.00952671, 0.00957031,\n",
       "        0.00986733, 0.01014663, 0.0102688 , 0.01017133, 0.01064914,\n",
       "        0.01117472, 0.01120656, 0.01193987, 0.01204344, 0.0115994 ,\n",
       "        0.01191725, 0.01213703, 0.01213703, 0.0127699 , 0.01319414,\n",
       "        0.01355097, 0.01325574, 0.01343386, 0.01351883, 0.01278537]])"
      ]
     },
     "execution_count": 16,
     "metadata": {},
     "output_type": "execute_result"
    }
   ],
   "source": [
    "X_train[1]"
   ]
  },
  {
   "cell_type": "code",
   "execution_count": 17,
   "metadata": {
    "scrolled": true
   },
   "outputs": [
    {
     "data": {
      "text/plain": [
       "(1428, 1, 60)"
      ]
     },
     "execution_count": 17,
     "metadata": {},
     "output_type": "execute_result"
    }
   ],
   "source": [
    "X_train.shape"
   ]
  },
  {
   "cell_type": "code",
   "execution_count": 18,
   "metadata": {},
   "outputs": [
    {
     "data": {
      "text/plain": [
       "(1428, 1, 1)"
      ]
     },
     "execution_count": 18,
     "metadata": {},
     "output_type": "execute_result"
    }
   ],
   "source": [
    "y_train.shape"
   ]
  },
  {
   "cell_type": "code",
   "execution_count": 19,
   "metadata": {},
   "outputs": [],
   "source": [
    "from keras.models import Sequential  \n",
    "from keras.layers import Dense , BatchNormalization , Dropout , Activation \n",
    "from keras.layers import LSTM\n",
    "from sklearn.metrics import mean_squared_error\n",
    "from keras.optimizers import Adam , SGD , RMSprop"
   ]
  },
  {
   "cell_type": "code",
   "execution_count": 20,
   "metadata": {},
   "outputs": [],
   "source": [
    "model = Sequential()\n",
    "\n",
    "model.add(LSTM(256 , input_shape = (X_train[0].shape) , return_sequences=True))\n",
    "\n",
    "model.add(Dropout(0.4))\n",
    "\n",
    "model.add(LSTM(256))\n",
    "\n",
    "model.add(Dropout(0.4))\n",
    "\n",
    "model.add(Dense(64))\n",
    "model.add(Dense(1, activation='relu'))"
   ]
  },
  {
   "cell_type": "code",
   "execution_count": 21,
   "metadata": {},
   "outputs": [],
   "source": [
    "model.compile(loss=\"mean_squared_error\", optimizer=Adam(lr = 0.001) )"
   ]
  },
  {
   "cell_type": "code",
   "execution_count": 22,
   "metadata": {},
   "outputs": [
    {
     "data": {
      "text/plain": [
       "60"
      ]
     },
     "execution_count": 22,
     "metadata": {},
     "output_type": "execute_result"
    }
   ],
   "source": [
    "X_train.shape[2]"
   ]
  },
  {
   "cell_type": "code",
   "execution_count": 23,
   "metadata": {
    "scrolled": true
   },
   "outputs": [
    {
     "name": "stdout",
     "output_type": "stream",
     "text": [
      "Epoch 1/65\n",
      "24/24 [==============================] - 0s 7ms/step - loss: 0.0190\n",
      "Epoch 2/65\n",
      "24/24 [==============================] - 0s 7ms/step - loss: 0.0039\n",
      "Epoch 3/65\n",
      "24/24 [==============================] - 0s 7ms/step - loss: 0.0025\n",
      "Epoch 4/65\n",
      "24/24 [==============================] - 0s 6ms/step - loss: 0.0026\n",
      "Epoch 5/65\n",
      "24/24 [==============================] - 0s 6ms/step - loss: 0.0022\n",
      "Epoch 6/65\n",
      "24/24 [==============================] - 0s 7ms/step - loss: 0.0017\n",
      "Epoch 7/65\n",
      "24/24 [==============================] - 0s 6ms/step - loss: 0.0015\n",
      "Epoch 8/65\n",
      "24/24 [==============================] - 0s 6ms/step - loss: 0.0018\n",
      "Epoch 9/65\n",
      "24/24 [==============================] - 0s 6ms/step - loss: 0.0017\n",
      "Epoch 10/65\n",
      "24/24 [==============================] - 0s 6ms/step - loss: 0.0017\n",
      "Epoch 11/65\n",
      "24/24 [==============================] - 0s 6ms/step - loss: 0.0019\n",
      "Epoch 12/65\n",
      "24/24 [==============================] - 0s 7ms/step - loss: 0.0013\n",
      "Epoch 13/65\n",
      "24/24 [==============================] - 0s 5ms/step - loss: 0.0014\n",
      "Epoch 14/65\n",
      "24/24 [==============================] - 0s 6ms/step - loss: 0.0013\n",
      "Epoch 15/65\n",
      "24/24 [==============================] - 0s 6ms/step - loss: 0.0012\n",
      "Epoch 16/65\n",
      "24/24 [==============================] - 0s 6ms/step - loss: 0.0013\n",
      "Epoch 17/65\n",
      "24/24 [==============================] - 0s 6ms/step - loss: 9.9783e-04\n",
      "Epoch 18/65\n",
      "24/24 [==============================] - 0s 5ms/step - loss: 0.0012\n",
      "Epoch 19/65\n",
      "24/24 [==============================] - 0s 6ms/step - loss: 0.0011\n",
      "Epoch 20/65\n",
      "24/24 [==============================] - 0s 6ms/step - loss: 0.0011\n",
      "Epoch 21/65\n",
      "24/24 [==============================] - 0s 6ms/step - loss: 0.0016\n",
      "Epoch 22/65\n",
      "24/24 [==============================] - 0s 6ms/step - loss: 0.0018\n",
      "Epoch 23/65\n",
      "24/24 [==============================] - 0s 6ms/step - loss: 0.0011\n",
      "Epoch 24/65\n",
      "24/24 [==============================] - 0s 6ms/step - loss: 0.0011\n",
      "Epoch 25/65\n",
      "24/24 [==============================] - 0s 7ms/step - loss: 0.0011\n",
      "Epoch 26/65\n",
      "24/24 [==============================] - 0s 6ms/step - loss: 0.0013\n",
      "Epoch 27/65\n",
      "24/24 [==============================] - 0s 5ms/step - loss: 0.0012\n",
      "Epoch 28/65\n",
      "24/24 [==============================] - 0s 6ms/step - loss: 0.0012\n",
      "Epoch 29/65\n",
      "24/24 [==============================] - 0s 6ms/step - loss: 8.7736e-04\n",
      "Epoch 30/65\n",
      "24/24 [==============================] - 0s 6ms/step - loss: 8.6497e-04\n",
      "Epoch 31/65\n",
      "24/24 [==============================] - 0s 6ms/step - loss: 8.3772e-04\n",
      "Epoch 32/65\n",
      "24/24 [==============================] - 0s 6ms/step - loss: 6.5892e-04\n",
      "Epoch 33/65\n",
      "24/24 [==============================] - 0s 6ms/step - loss: 9.8665e-04\n",
      "Epoch 34/65\n",
      "24/24 [==============================] - 0s 6ms/step - loss: 9.3972e-04\n",
      "Epoch 35/65\n",
      "24/24 [==============================] - 0s 6ms/step - loss: 9.2853e-04\n",
      "Epoch 36/65\n",
      "24/24 [==============================] - 0s 6ms/step - loss: 9.9831e-04\n",
      "Epoch 37/65\n",
      "24/24 [==============================] - 0s 6ms/step - loss: 8.5587e-04\n",
      "Epoch 38/65\n",
      "24/24 [==============================] - 0s 7ms/step - loss: 9.8513e-04\n",
      "Epoch 39/65\n",
      "24/24 [==============================] - 0s 7ms/step - loss: 7.5066e-04\n",
      "Epoch 40/65\n",
      "24/24 [==============================] - 0s 7ms/step - loss: 0.0010\n",
      "Epoch 41/65\n",
      "24/24 [==============================] - 0s 6ms/step - loss: 7.6127e-04\n",
      "Epoch 42/65\n",
      "24/24 [==============================] - 0s 6ms/step - loss: 6.6448e-04\n",
      "Epoch 43/65\n",
      "24/24 [==============================] - 0s 6ms/step - loss: 7.9174e-04\n",
      "Epoch 44/65\n",
      "24/24 [==============================] - 0s 6ms/step - loss: 8.3230e-04\n",
      "Epoch 45/65\n",
      "24/24 [==============================] - 0s 7ms/step - loss: 8.3104e-04\n",
      "Epoch 46/65\n",
      "24/24 [==============================] - 0s 6ms/step - loss: 6.8465e-04\n",
      "Epoch 47/65\n",
      "24/24 [==============================] - 0s 6ms/step - loss: 7.3342e-04\n",
      "Epoch 48/65\n",
      "24/24 [==============================] - 0s 7ms/step - loss: 7.9337e-04\n",
      "Epoch 49/65\n",
      "24/24 [==============================] - 0s 7ms/step - loss: 8.7680e-04\n",
      "Epoch 50/65\n",
      "24/24 [==============================] - 0s 6ms/step - loss: 9.4119e-04\n",
      "Epoch 51/65\n",
      "24/24 [==============================] - 0s 7ms/step - loss: 6.5886e-04\n",
      "Epoch 52/65\n",
      "24/24 [==============================] - 0s 6ms/step - loss: 7.9615e-04\n",
      "Epoch 53/65\n",
      "24/24 [==============================] - 0s 6ms/step - loss: 6.8744e-04\n",
      "Epoch 54/65\n",
      "24/24 [==============================] - 0s 6ms/step - loss: 6.6438e-04\n",
      "Epoch 55/65\n",
      "24/24 [==============================] - 0s 7ms/step - loss: 6.4499e-04\n",
      "Epoch 56/65\n",
      "24/24 [==============================] - 0s 6ms/step - loss: 0.0011\n",
      "Epoch 57/65\n",
      "24/24 [==============================] - 0s 7ms/step - loss: 0.0011\n",
      "Epoch 58/65\n",
      "24/24 [==============================] - 0s 6ms/step - loss: 7.5727e-04\n",
      "Epoch 59/65\n",
      "24/24 [==============================] - 0s 6ms/step - loss: 6.3512e-04\n",
      "Epoch 60/65\n",
      "24/24 [==============================] - 0s 6ms/step - loss: 6.3018e-04\n",
      "Epoch 61/65\n",
      "24/24 [==============================] - 0s 6ms/step - loss: 6.4213e-04\n",
      "Epoch 62/65\n",
      "24/24 [==============================] - 0s 7ms/step - loss: 6.6606e-04\n",
      "Epoch 63/65\n",
      "24/24 [==============================] - 0s 6ms/step - loss: 7.5026e-04\n",
      "Epoch 64/65\n",
      "24/24 [==============================] - 0s 7ms/step - loss: 0.0012\n",
      "Epoch 65/65\n",
      "24/24 [==============================] - 0s 6ms/step - loss: 7.6319e-04\n"
     ]
    },
    {
     "data": {
      "text/plain": [
       "<tensorflow.python.keras.callbacks.History at 0x290061a3688>"
      ]
     },
     "execution_count": 23,
     "metadata": {},
     "output_type": "execute_result"
    }
   ],
   "source": [
    "model.fit(X_train, y_train, epochs=65 , batch_size =60 )"
   ]
  },
  {
   "cell_type": "code",
   "execution_count": 24,
   "metadata": {},
   "outputs": [
    {
     "data": {
      "text/plain": [
       "(704, 1, 1)"
      ]
     },
     "execution_count": 24,
     "metadata": {},
     "output_type": "execute_result"
    }
   ],
   "source": [
    "prediction=model.predict(X_test)\n",
    "y_test.shape"
   ]
  },
  {
   "cell_type": "code",
   "execution_count": 25,
   "metadata": {},
   "outputs": [],
   "source": [
    "y__test=np.array(y_test).reshape(-1,1)"
   ]
  },
  {
   "cell_type": "code",
   "execution_count": 26,
   "metadata": {},
   "outputs": [
    {
     "data": {
      "text/plain": [
       "(704, 1)"
      ]
     },
     "execution_count": 26,
     "metadata": {},
     "output_type": "execute_result"
    }
   ],
   "source": [
    "y__test.shape"
   ]
  },
  {
   "cell_type": "code",
   "execution_count": 27,
   "metadata": {
    "scrolled": false
   },
   "outputs": [],
   "source": [
    "prediction=scaler.inverse_transform(prediction)\n",
    "test_val=scaler.inverse_transform(y__test)"
   ]
  },
  {
   "cell_type": "code",
   "execution_count": 28,
   "metadata": {},
   "outputs": [
    {
     "data": {
      "text/plain": [
       "array([4025.248291])"
      ]
     },
     "execution_count": 28,
     "metadata": {},
     "output_type": "execute_result"
    }
   ],
   "source": [
    "test_val[0]"
   ]
  },
  {
   "cell_type": "code",
   "execution_count": 29,
   "metadata": {},
   "outputs": [],
   "source": [
    "pred=prediction[100:200]"
   ]
  },
  {
   "cell_type": "code",
   "execution_count": 30,
   "metadata": {
    "scrolled": true
   },
   "outputs": [
    {
     "data": {
      "text/plain": [
       "array([[60289.676  ],\n",
       "       [ 7434.9297 ],\n",
       "       [ 3320.0366 ],\n",
       "       [37498.156  ],\n",
       "       [ 2972.7527 ],\n",
       "       [ 3748.6333 ],\n",
       "       [36012.05   ],\n",
       "       [ 9424.215  ],\n",
       "       [ 5778.2993 ],\n",
       "       [  753.55994],\n",
       "       [ 3711.9275 ],\n",
       "       [ 4160.9043 ],\n",
       "       [ 6280.6533 ],\n",
       "       [11060.464  ],\n",
       "       [13672.417  ],\n",
       "       [10790.234  ],\n",
       "       [34227.01   ],\n",
       "       [ 9224.014  ],\n",
       "       [ 3483.5447 ],\n",
       "       [11339.026  ],\n",
       "       [  364.331  ],\n",
       "       [ 2241.7334 ],\n",
       "       [58159.883  ],\n",
       "       [  364.331  ],\n",
       "       [ 6402.011  ],\n",
       "       [10337.719  ],\n",
       "       [11908.262  ],\n",
       "       [  364.331  ],\n",
       "       [ 8120.4727 ],\n",
       "       [ 9095.025  ],\n",
       "       [11498.896  ],\n",
       "       [ 4764.361  ],\n",
       "       [ 9322.893  ],\n",
       "       [ 3423.466  ],\n",
       "       [  400.5244 ],\n",
       "       [ 9657.9795 ],\n",
       "       [ 3379.5735 ],\n",
       "       [ 9067.466  ],\n",
       "       [ 5748.0425 ],\n",
       "       [58266.984  ],\n",
       "       [  364.331  ],\n",
       "       [19931.488  ],\n",
       "       [11068.983  ],\n",
       "       [ 6509.251  ],\n",
       "       [10116.745  ],\n",
       "       [ 9141.858  ],\n",
       "       [15929.786  ],\n",
       "       [ 7309.2373 ],\n",
       "       [ 1005.2089 ],\n",
       "       [ 8164.318  ],\n",
       "       [10060.118  ],\n",
       "       [  408.23328],\n",
       "       [ 8921.863  ],\n",
       "       [  374.30527],\n",
       "       [11959.012  ],\n",
       "       [ 5839.041  ],\n",
       "       [11703.35   ],\n",
       "       [11784.852  ],\n",
       "       [49059.33   ],\n",
       "       [ 8972.745  ],\n",
       "       [43828.695  ],\n",
       "       [ 8851.549  ],\n",
       "       [  633.7381 ],\n",
       "       [ 3804.175  ],\n",
       "       [ 3550.4277 ],\n",
       "       [  740.84686],\n",
       "       [ 9321.308  ],\n",
       "       [ 6788.405  ],\n",
       "       [  364.331  ],\n",
       "       [49756.52   ],\n",
       "       [  945.3691 ],\n",
       "       [11817.184  ],\n",
       "       [53410.63   ],\n",
       "       [ 6368.3945 ],\n",
       "       [12657.861  ],\n",
       "       [  825.34985],\n",
       "       [  641.4684 ],\n",
       "       [58556.312  ],\n",
       "       [ 6586.5605 ],\n",
       "       [ 1127.0118 ],\n",
       "       [43015.035  ],\n",
       "       [  364.331  ],\n",
       "       [ 6868.247  ],\n",
       "       [37252.75   ],\n",
       "       [ 7719.553  ],\n",
       "       [ 4987.001  ],\n",
       "       [ 9362.255  ],\n",
       "       [36489.176  ],\n",
       "       [10778.725  ],\n",
       "       [  639.965  ],\n",
       "       [  364.331  ],\n",
       "       [56636.637  ],\n",
       "       [51570.93   ],\n",
       "       [ 7340.481  ],\n",
       "       [ 4156.8706 ],\n",
       "       [  364.331  ],\n",
       "       [  364.331  ],\n",
       "       [35491.75   ],\n",
       "       [ 7943.6694 ],\n",
       "       [56481.14   ]], dtype=float32)"
      ]
     },
     "execution_count": 30,
     "metadata": {},
     "output_type": "execute_result"
    }
   ],
   "source": [
    "pred"
   ]
  },
  {
   "cell_type": "code",
   "execution_count": 31,
   "metadata": {},
   "outputs": [],
   "source": [
    "test_val1=test_val[100:200]"
   ]
  },
  {
   "cell_type": "code",
   "execution_count": 32,
   "metadata": {
    "scrolled": true
   },
   "outputs": [
    {
     "data": {
      "text/plain": [
       "[<matplotlib.lines.Line2D at 0x2903202a788>]"
      ]
     },
     "execution_count": 32,
     "metadata": {},
     "output_type": "execute_result"
    },
    {
     "data": {
      "image/png": "[encoded data removed]",
      "text/plain": [
       "<Figure size 1440x432 with 1 Axes>"
      ]
     },
     "metadata": {
      "needs_background": "light"
     },
     "output_type": "display_data"
    }
   ],
   "source": [
    "ytrain=np.array(y_train).reshape(-1)\n",
    "plt.figure(figsize=(20,6))\n",
    "\n",
    "plt.plot(test_val1,'b')\n",
    "plt.plot(pred,'r')"
   ]
  },
  {
   "cell_type": "code",
   "execution_count": 33,
   "metadata": {},
   "outputs": [
    {
     "data": {
      "text/plain": [
       "array([0.04906023, 0.01169107, 0.00348024, 0.00436378, 0.10229733])"
      ]
     },
     "execution_count": 33,
     "metadata": {},
     "output_type": "execute_result"
    }
   ],
   "source": [
    "ytrain[0:5]"
   ]
  },
  {
   "cell_type": "code",
   "execution_count": 34,
   "metadata": {},
   "outputs": [],
   "source": [
    "from sklearn.metrics import r2_score\n",
    "from sklearn.ensemble import RandomForestRegressor as rfr\n"
   ]
  },
  {
   "cell_type": "code",
   "execution_count": 35,
   "metadata": {},
   "outputs": [],
   "source": [
    "df_test=pd.read_csv(r\"C:\\Users\\SUKUN\\Downloads\\bitcoin_test.csv\")"
   ]
  },
  {
   "cell_type": "code",
   "execution_count": 36,
   "metadata": {
    "scrolled": true
   },
   "outputs": [],
   "source": [
    "frame=[df[:-1], df_test]\n",
    "df_set=pd.concat(frame)"
   ]
  },
  {
   "cell_type": "code",
   "execution_count": 37,
   "metadata": {},
   "outputs": [],
   "source": [
    "df_set=df_set['Adj Close']"
   ]
  },
  {
   "cell_type": "code",
   "execution_count": 38,
   "metadata": {
    "scrolled": false
   },
   "outputs": [],
   "source": [
    "dfinal=df_set[len(df1)-step: ]"
   ]
  },
  {
   "cell_type": "code",
   "execution_count": 39,
   "metadata": {},
   "outputs": [],
   "source": [
    "dfinal=np.array(dfinal).reshape(-1,1)"
   ]
  },
  {
   "cell_type": "code",
   "execution_count": 40,
   "metadata": {
    "scrolled": true
   },
   "outputs": [],
   "source": [
    "dfinal=scaler.fit_transform(dfinal)"
   ]
  },
  {
   "cell_type": "code",
   "execution_count": 41,
   "metadata": {},
   "outputs": [],
   "source": [
    "testing=[]\n",
    "res=[]\n",
    "for i in range(len(dfinal)-step-1):\n",
    "    a=dfinal[i:(step+i)]\n",
    "    testing.append(a)\n",
    "    res.append(dfinal[step+i])"
   ]
  },
  {
   "cell_type": "code",
   "execution_count": 45,
   "metadata": {},
   "outputs": [],
   "source": [
    "testing=np.array(testing).reshape(-1,1,60)"
   ]
  },
  {
   "cell_type": "code",
   "execution_count": 46,
   "metadata": {},
   "outputs": [],
   "source": [
    "pred_test=model.predict(testing)"
   ]
  },
  {
   "cell_type": "code",
   "execution_count": 47,
   "metadata": {},
   "outputs": [
    {
     "data": {
      "text/plain": [
       "array([[0.35030094],\n",
       "       [0.35482353],\n",
       "       [0.34098813],\n",
       "       [0.32217136],\n",
       "       [0.29032847]], dtype=float32)"
      ]
     },
     "execution_count": 47,
     "metadata": {},
     "output_type": "execute_result"
    }
   ],
   "source": [
    "pred_test[:5]"
   ]
  },
  {
   "cell_type": "code",
   "execution_count": 48,
   "metadata": {},
   "outputs": [
    {
     "data": {
      "text/plain": [
       "array([0.35030094], dtype=float32)"
      ]
     },
     "execution_count": 48,
     "metadata": {},
     "output_type": "execute_result"
    }
   ],
   "source": [
    "pred_test[0]"
   ]
  },
  {
   "cell_type": "code",
   "execution_count": 49,
   "metadata": {
    "scrolled": false
   },
   "outputs": [],
   "source": [
    "res1=scaler.inverse_transform(res)"
   ]
  },
  {
   "cell_type": "code",
   "execution_count": 50,
   "metadata": {},
   "outputs": [],
   "source": [
    "pred_test1=scaler.inverse_transform(pred_test)"
   ]
  },
  {
   "cell_type": "code",
   "execution_count": 51,
   "metadata": {},
   "outputs": [
    {
     "data": {
      "text/plain": [
       "[<matplotlib.lines.Line2D at 0x2903a9c8ec8>]"
      ]
     },
     "execution_count": 51,
     "metadata": {},
     "output_type": "execute_result"
    },
    {
     "data": {
      "image/png": "[encoded data removed]",
      "text/plain": [
       "<Figure size 432x288 with 1 Axes>"
      ]
     },
     "metadata": {
      "needs_background": "light"
     },
     "output_type": "display_data"
    }
   ],
   "source": [
    "plt.plot(pred_test1,'b')\n",
    "plt.plot(res1,'r')"
   ]
  },
  {
   "cell_type": "code",
   "execution_count": 52,
   "metadata": {},
   "outputs": [
    {
     "data": {
      "text/plain": [
       "0.7047708361186782"
      ]
     },
     "execution_count": 52,
     "metadata": {},
     "output_type": "execute_result"
    }
   ],
   "source": [
    "r2_score(pred_test1, res1)"
   ]
  },
  {
   "cell_type": "code",
   "execution_count": null,
   "metadata": {},
   "outputs": [],
   "source": []
  },
  {
   "cell_type": "code",
   "execution_count": null,
   "metadata": {},
   "outputs": [],
   "source": []
  },
  {
   "cell_type": "code",
   "execution_count": null,
   "metadata": {},
   "outputs": [],
   "source": []
  },
  {
   "cell_type": "code",
   "execution_count": null,
   "metadata": {},
   "outputs": [],
   "source": []
  },
  {
   "cell_type": "code",
   "execution_count": null,
   "metadata": {},
   "outputs": [],
   "source": []
  }
 ],
 "metadata": {
  "kernelspec": {
   "display_name": "Python 3",
   "language": "python",
   "name": "python3"
  },
  "language_info": {
   "codemirror_mode": {
    "name": "ipython",
    "version": 3
   },
   "file_extension": ".py",
   "mimetype": "text/x-python",
   "name": "python",
   "nbconvert_exporter": "python",
   "pygments_lexer": "ipython3",
   "version": "3.7.7"
  }
 },
 "nbformat": 4,
 "nbformat_minor": 4
}
