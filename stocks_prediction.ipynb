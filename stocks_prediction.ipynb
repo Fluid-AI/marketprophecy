{
 "cells": [
  {
   "cell_type": "code",
   "execution_count": 1,
   "id": "c6f4fdb1",
   "metadata": {},
   "outputs": [],
   "source": [
    "import pandas as pd\n",
    "import numpy as np\n",
    "import matplotlib.pyplot as plt"
   ]
  },
  {
   "cell_type": "code",
   "execution_count": null,
   "id": "8c7495b3",
   "metadata": {},
   "outputs": [],
   "source": []
  },
  {
   "cell_type": "code",
   "execution_count": 2,
   "id": "4954d5fd",
   "metadata": {},
   "outputs": [],
   "source": [
    "df = pd.read_csv('NSE Training Data - 1st Jan 2016 to 1st Jan 2022.csv')"
   ]
  },
  {
   "cell_type": "code",
   "execution_count": 62,
   "id": "a872dc69",
   "metadata": {},
   "outputs": [
    {
     "data": {
      "text/html": [
       "<div>\n",
       "<style scoped>\n",
       "    .dataframe tbody tr th:only-of-type {\n",
       "        vertical-align: middle;\n",
       "    }\n",
       "\n",
       "    .dataframe tbody tr th {\n",
       "        vertical-align: top;\n",
       "    }\n",
       "\n",
       "    .dataframe thead th {\n",
       "        text-align: right;\n",
       "    }\n",
       "</style>\n",
       "<table border=\"1\" class=\"dataframe\">\n",
       "  <thead>\n",
       "    <tr style=\"text-align: right;\">\n",
       "      <th></th>\n",
       "      <th>Date</th>\n",
       "      <th>Open</th>\n",
       "      <th>High</th>\n",
       "      <th>Low</th>\n",
       "      <th>Close</th>\n",
       "      <th>Adj Close</th>\n",
       "      <th>Volume</th>\n",
       "    </tr>\n",
       "  </thead>\n",
       "  <tbody>\n",
       "    <tr>\n",
       "      <th>0</th>\n",
       "      <td>2016-01-04</td>\n",
       "      <td>7924.549805</td>\n",
       "      <td>7937.549805</td>\n",
       "      <td>7781.100098</td>\n",
       "      <td>7791.299805</td>\n",
       "      <td>7791.299805</td>\n",
       "      <td>134700.0</td>\n",
       "    </tr>\n",
       "    <tr>\n",
       "      <th>1</th>\n",
       "      <td>2016-01-05</td>\n",
       "      <td>7828.399902</td>\n",
       "      <td>7831.200195</td>\n",
       "      <td>7763.250000</td>\n",
       "      <td>7784.649902</td>\n",
       "      <td>7784.649902</td>\n",
       "      <td>145200.0</td>\n",
       "    </tr>\n",
       "    <tr>\n",
       "      <th>2</th>\n",
       "      <td>2016-01-06</td>\n",
       "      <td>7788.049805</td>\n",
       "      <td>7800.950195</td>\n",
       "      <td>7721.200195</td>\n",
       "      <td>7741.000000</td>\n",
       "      <td>7741.000000</td>\n",
       "      <td>147100.0</td>\n",
       "    </tr>\n",
       "    <tr>\n",
       "      <th>3</th>\n",
       "      <td>2016-01-07</td>\n",
       "      <td>7673.350098</td>\n",
       "      <td>7674.950195</td>\n",
       "      <td>7556.600098</td>\n",
       "      <td>7568.299805</td>\n",
       "      <td>7568.299805</td>\n",
       "      <td>188900.0</td>\n",
       "    </tr>\n",
       "    <tr>\n",
       "      <th>4</th>\n",
       "      <td>2016-01-08</td>\n",
       "      <td>7611.649902</td>\n",
       "      <td>7634.100098</td>\n",
       "      <td>7581.049805</td>\n",
       "      <td>7601.350098</td>\n",
       "      <td>7601.350098</td>\n",
       "      <td>157400.0</td>\n",
       "    </tr>\n",
       "    <tr>\n",
       "      <th>...</th>\n",
       "      <td>...</td>\n",
       "      <td>...</td>\n",
       "      <td>...</td>\n",
       "      <td>...</td>\n",
       "      <td>...</td>\n",
       "      <td>...</td>\n",
       "      <td>...</td>\n",
       "    </tr>\n",
       "    <tr>\n",
       "      <th>1476</th>\n",
       "      <td>2021-12-27</td>\n",
       "      <td>16937.750000</td>\n",
       "      <td>17112.050781</td>\n",
       "      <td>16833.199219</td>\n",
       "      <td>17086.250000</td>\n",
       "      <td>17086.250000</td>\n",
       "      <td>144800.0</td>\n",
       "    </tr>\n",
       "    <tr>\n",
       "      <th>1477</th>\n",
       "      <td>2021-12-28</td>\n",
       "      <td>17177.599609</td>\n",
       "      <td>17250.250000</td>\n",
       "      <td>17161.150391</td>\n",
       "      <td>17233.250000</td>\n",
       "      <td>17233.250000</td>\n",
       "      <td>176000.0</td>\n",
       "    </tr>\n",
       "    <tr>\n",
       "      <th>1478</th>\n",
       "      <td>2021-12-29</td>\n",
       "      <td>17220.099609</td>\n",
       "      <td>17285.949219</td>\n",
       "      <td>17176.650391</td>\n",
       "      <td>17213.599609</td>\n",
       "      <td>17213.599609</td>\n",
       "      <td>161700.0</td>\n",
       "    </tr>\n",
       "    <tr>\n",
       "      <th>1479</th>\n",
       "      <td>2021-12-30</td>\n",
       "      <td>17201.449219</td>\n",
       "      <td>17264.050781</td>\n",
       "      <td>17146.349609</td>\n",
       "      <td>17203.949219</td>\n",
       "      <td>17203.949219</td>\n",
       "      <td>320800.0</td>\n",
       "    </tr>\n",
       "    <tr>\n",
       "      <th>1480</th>\n",
       "      <td>2021-12-31</td>\n",
       "      <td>17244.500000</td>\n",
       "      <td>17400.800781</td>\n",
       "      <td>17238.500000</td>\n",
       "      <td>17354.050781</td>\n",
       "      <td>17354.050781</td>\n",
       "      <td>167000.0</td>\n",
       "    </tr>\n",
       "  </tbody>\n",
       "</table>\n",
       "<p>1481 rows × 7 columns</p>\n",
       "</div>"
      ],
      "text/plain": [
       "            Date          Open          High           Low         Close  \\\n",
       "0     2016-01-04   7924.549805   7937.549805   7781.100098   7791.299805   \n",
       "1     2016-01-05   7828.399902   7831.200195   7763.250000   7784.649902   \n",
       "2     2016-01-06   7788.049805   7800.950195   7721.200195   7741.000000   \n",
       "3     2016-01-07   7673.350098   7674.950195   7556.600098   7568.299805   \n",
       "4     2016-01-08   7611.649902   7634.100098   7581.049805   7601.350098   \n",
       "...          ...           ...           ...           ...           ...   \n",
       "1476  2021-12-27  16937.750000  17112.050781  16833.199219  17086.250000   \n",
       "1477  2021-12-28  17177.599609  17250.250000  17161.150391  17233.250000   \n",
       "1478  2021-12-29  17220.099609  17285.949219  17176.650391  17213.599609   \n",
       "1479  2021-12-30  17201.449219  17264.050781  17146.349609  17203.949219   \n",
       "1480  2021-12-31  17244.500000  17400.800781  17238.500000  17354.050781   \n",
       "\n",
       "         Adj Close    Volume  \n",
       "0      7791.299805  134700.0  \n",
       "1      7784.649902  145200.0  \n",
       "2      7741.000000  147100.0  \n",
       "3      7568.299805  188900.0  \n",
       "4      7601.350098  157400.0  \n",
       "...            ...       ...  \n",
       "1476  17086.250000  144800.0  \n",
       "1477  17233.250000  176000.0  \n",
       "1478  17213.599609  161700.0  \n",
       "1479  17203.949219  320800.0  \n",
       "1480  17354.050781  167000.0  \n",
       "\n",
       "[1481 rows x 7 columns]"
      ]
     },
     "execution_count": 62,
     "metadata": {},
     "output_type": "execute_result"
    }
   ],
   "source": [
    "df"
   ]
  },
  {
   "cell_type": "code",
   "execution_count": 3,
   "id": "55d34c7a",
   "metadata": {},
   "outputs": [],
   "source": [
    "df1=df.reset_index()['Close']"
   ]
  },
  {
   "cell_type": "code",
   "execution_count": 21,
   "id": "439627be",
   "metadata": {},
   "outputs": [],
   "source": [
    "d=pd.DataFrame(df1)"
   ]
  },
  {
   "cell_type": "code",
   "execution_count": 23,
   "id": "dd77e2ab",
   "metadata": {},
   "outputs": [
    {
     "data": {
      "text/plain": [
       "0    True\n",
       "dtype: bool"
      ]
     },
     "execution_count": 23,
     "metadata": {},
     "output_type": "execute_result"
    }
   ],
   "source": [
    "d.isnull().any()"
   ]
  },
  {
   "cell_type": "code",
   "execution_count": 24,
   "id": "5e902d4f",
   "metadata": {},
   "outputs": [
    {
     "data": {
      "text/plain": [
       "0    6\n",
       "dtype: int64"
      ]
     },
     "execution_count": 24,
     "metadata": {},
     "output_type": "execute_result"
    }
   ],
   "source": [
    "d.isnull().sum()"
   ]
  },
  {
   "cell_type": "code",
   "execution_count": 28,
   "id": "8b1b38b0",
   "metadata": {
    "scrolled": true
   },
   "outputs": [],
   "source": [
    "d=d.dropna()"
   ]
  },
  {
   "cell_type": "code",
   "execution_count": 29,
   "id": "5e6cdb47",
   "metadata": {},
   "outputs": [
    {
     "data": {
      "text/plain": [
       "0    0\n",
       "dtype: int64"
      ]
     },
     "execution_count": 29,
     "metadata": {},
     "output_type": "execute_result"
    }
   ],
   "source": [
    "d.isnull().sum()"
   ]
  },
  {
   "cell_type": "code",
   "execution_count": 31,
   "id": "c53470b1",
   "metadata": {},
   "outputs": [],
   "source": [
    "df1=d[0]"
   ]
  },
  {
   "cell_type": "code",
   "execution_count": 34,
   "id": "576f5422",
   "metadata": {},
   "outputs": [
    {
     "data": {
      "text/plain": [
       "False"
      ]
     },
     "execution_count": 34,
     "metadata": {},
     "output_type": "execute_result"
    }
   ],
   "source": [
    "df1.isnull().any()"
   ]
  },
  {
   "cell_type": "code",
   "execution_count": 35,
   "id": "44e6c8a2",
   "metadata": {},
   "outputs": [
    {
     "data": {
      "text/plain": [
       "[<matplotlib.lines.Line2D at 0x1a299f9e9a0>]"
      ]
     },
     "execution_count": 35,
     "metadata": {},
     "output_type": "execute_result"
    },
    {
     "data": {
      "image/png": "[encoded data removed]",
      "text/plain": [
       "<Figure size 432x288 with 1 Axes>"
      ]
     },
     "metadata": {
      "needs_background": "light"
     },
     "output_type": "display_data"
    }
   ],
   "source": [
    "import matplotlib.pyplot as plt\n",
    "plt.plot(df1)"
   ]
  },
  {
   "cell_type": "code",
   "execution_count": 36,
   "id": "11ffd0b5",
   "metadata": {},
   "outputs": [],
   "source": [
    "from sklearn.preprocessing import MinMaxScaler\n",
    "scaler=MinMaxScaler(feature_range=(0,1))\n",
    "df1=scaler.fit_transform(np.array(df1).reshape(-1,1))\n"
   ]
  },
  {
   "cell_type": "code",
   "execution_count": 37,
   "id": "d52d5ebc",
   "metadata": {
    "scrolled": true
   },
   "outputs": [
    {
     "data": {
      "text/plain": [
       "array([[0.07132518],\n",
       "       [0.07074726],\n",
       "       [0.06695374],\n",
       "       ...,\n",
       "       [0.89019627],\n",
       "       [0.88935758],\n",
       "       [0.90240257]])"
      ]
     },
     "execution_count": 37,
     "metadata": {},
     "output_type": "execute_result"
    }
   ],
   "source": [
    "df1"
   ]
  },
  {
   "cell_type": "code",
   "execution_count": 38,
   "id": "8d6da132",
   "metadata": {},
   "outputs": [],
   "source": [
    "##splitting dataset into train and test split\n",
    "training_size=int(len(df1)*0.8)\n",
    "test_size=len(df1)-training_size\n",
    "train_data,test_data=df1[0:training_size,:],df1[training_size:len(df1),:1]"
   ]
  },
  {
   "cell_type": "code",
   "execution_count": 39,
   "id": "35e4ef6b",
   "metadata": {},
   "outputs": [
    {
     "data": {
      "text/plain": [
       "1180"
      ]
     },
     "execution_count": 39,
     "metadata": {},
     "output_type": "execute_result"
    }
   ],
   "source": [
    "len(train_data)"
   ]
  },
  {
   "cell_type": "code",
   "execution_count": 40,
   "id": "40199a75",
   "metadata": {},
   "outputs": [
    {
     "data": {
      "text/plain": [
       "295"
      ]
     },
     "execution_count": 40,
     "metadata": {},
     "output_type": "execute_result"
    }
   ],
   "source": [
    "len(test_data)"
   ]
  },
  {
   "cell_type": "code",
   "execution_count": 41,
   "id": "e32c5966",
   "metadata": {},
   "outputs": [],
   "source": [
    "import numpy\n",
    "# convert an array of values into a dataset matrix\n",
    "def create_dataset(dataset, time_step=1):\n",
    "\tdataX, dataY = [], []\n",
    "\tfor i in range(len(dataset)-time_step-1):\n",
    "\t\ta = dataset[i:(i+time_step), 0]   ###i=0, 0,1,2,3-----99   100 \n",
    "\t\tdataX.append(a)\n",
    "\t\tdataY.append(dataset[i + time_step, 0])\n",
    "\treturn numpy.array(dataX), numpy.array(dataY)"
   ]
  },
  {
   "cell_type": "code",
   "execution_count": 42,
   "id": "57e6b3c2",
   "metadata": {},
   "outputs": [],
   "source": [
    "# reshape into X=t,t+1,t+2,t+3 and Y=t+4\n",
    "time_step = 100\n",
    "X_train, y_train = create_dataset(train_data, time_step)\n",
    "X_test, ytest = create_dataset(test_data, time_step)"
   ]
  },
  {
   "cell_type": "code",
   "execution_count": 43,
   "id": "b99e64e8",
   "metadata": {
    "scrolled": true
   },
   "outputs": [
    {
     "data": {
      "text/plain": [
       "array([0.07074726, 0.06695374, 0.05194475, 0.05481708, 0.05155804,\n",
       "       0.0469041 , 0.051432  , 0.04920716, 0.04060329, 0.03305971,\n",
       "       0.04036866, 0.02943564, 0.02661113, 0.03926929, 0.0404599 ,\n",
       "       0.04059896, 0.03946046, 0.05153194, 0.05087147, 0.0421459 ,\n",
       "       0.0339983 , 0.03766582, 0.04506168, 0.03621011, 0.02847099,\n",
       "       0.0213011 , 0.00049972, 0.0008995 , 0.01671672, 0.00674838,\n",
       "       0.01198024, 0.01921965, 0.02087089, 0.02293928, 0.01207581,\n",
       "       0.00418027, 0.        , 0.00514059, 0.00142961, 0.02187466,\n",
       "       0.03461102, 0.04388843, 0.04473578, 0.04473141, 0.04877262,\n",
       "       0.04480529, 0.04689544, 0.04937664, 0.04258481, 0.04590033,\n",
       "       0.04709964, 0.0550778 , 0.06375988, 0.06468544, 0.0648245 ,\n",
       "       0.05601206, 0.05443902, 0.06644969, 0.06672777, 0.06452465,\n",
       "       0.06850068, 0.05497787, 0.05594688, 0.05004585, 0.05080629,\n",
       "       0.06090495, 0.06416836, 0.07646581, 0.08204964, 0.08205397,\n",
       "       0.0818193 , 0.08071122, 0.07686555, 0.08621684, 0.087716  ,\n",
       "       0.07618769, 0.07640929, 0.07259405, 0.06747519, 0.06395975,\n",
       "       0.06647575, 0.0662976 , 0.07782154, 0.07971178, 0.07632675,\n",
       "       0.08080683, 0.07337622, 0.07736095, 0.07996818, 0.07817787,\n",
       "       0.07063862, 0.06770985, 0.06608899, 0.06763597, 0.08380515,\n",
       "       0.09551597, 0.10307695, 0.10497589, 0.1033768 , 0.10510192])"
      ]
     },
     "execution_count": 43,
     "metadata": {},
     "output_type": "execute_result"
    }
   ],
   "source": [
    "X_train[1]"
   ]
  },
  {
   "cell_type": "code",
   "execution_count": 44,
   "id": "9ff10f0f",
   "metadata": {},
   "outputs": [
    {
     "data": {
      "text/plain": [
       "0.10510192328784174"
      ]
     },
     "execution_count": 44,
     "metadata": {},
     "output_type": "execute_result"
    }
   ],
   "source": [
    "y_train[0]"
   ]
  },
  {
   "cell_type": "code",
   "execution_count": 45,
   "id": "799d29e4",
   "metadata": {},
   "outputs": [
    {
     "name": "stdout",
     "output_type": "stream",
     "text": [
      "(1079, 100)\n",
      "(1079,)\n"
     ]
    },
    {
     "data": {
      "text/plain": [
       "(None, None)"
      ]
     },
     "execution_count": 45,
     "metadata": {},
     "output_type": "execute_result"
    }
   ],
   "source": [
    "print(X_train.shape), print(y_train.shape)"
   ]
  },
  {
   "cell_type": "code",
   "execution_count": 46,
   "id": "0705fbab",
   "metadata": {},
   "outputs": [],
   "source": [
    "# reshape input to be [samples, time steps, features] which is required for LSTM\n",
    "X_train =X_train.reshape(X_train.shape[0],X_train.shape[1] , 1)\n",
    "X_test = X_test.reshape(X_test.shape[0],X_test.shape[1] , 1)"
   ]
  },
  {
   "cell_type": "code",
   "execution_count": 47,
   "id": "9351957e",
   "metadata": {},
   "outputs": [],
   "source": [
    "### Create the Stacked LSTM model\n",
    "from tensorflow.keras.models import Sequential\n",
    "from tensorflow.keras.layers import Dense\n",
    "from tensorflow.keras.layers import LSTM"
   ]
  },
  {
   "cell_type": "code",
   "execution_count": null,
   "id": "51c3201e",
   "metadata": {},
   "outputs": [],
   "source": []
  },
  {
   "cell_type": "code",
   "execution_count": 49,
   "id": "4c6a5f40",
   "metadata": {},
   "outputs": [],
   "source": [
    "model=Sequential()\n",
    "model.add(LSTM(50,return_sequences=True,input_shape=(100,1)))\n",
    "model.add(LSTM(50,return_sequences=True))\n",
    "model.add(LSTM(50))\n",
    "model.add(Dense(1))\n",
    "model.compile(loss='mean_squared_error',optimizer='RMSprop')"
   ]
  },
  {
   "cell_type": "code",
   "execution_count": null,
   "id": "8107fcd3",
   "metadata": {},
   "outputs": [],
   "source": []
  },
  {
   "cell_type": "code",
   "execution_count": 50,
   "id": "af2bbb3e",
   "metadata": {},
   "outputs": [
    {
     "name": "stdout",
     "output_type": "stream",
     "text": [
      "Model: \"sequential_2\"\n",
      "_________________________________________________________________\n",
      "Layer (type)                 Output Shape              Param #   \n",
      "=================================================================\n",
      "lstm_6 (LSTM)                (None, 100, 50)           10400     \n",
      "_________________________________________________________________\n",
      "lstm_7 (LSTM)                (None, 100, 50)           20200     \n",
      "_________________________________________________________________\n",
      "lstm_8 (LSTM)                (None, 50)                20200     \n",
      "_________________________________________________________________\n",
      "dense_2 (Dense)              (None, 1)                 51        \n",
      "=================================================================\n",
      "Total params: 50,851\n",
      "Trainable params: 50,851\n",
      "Non-trainable params: 0\n",
      "_________________________________________________________________\n"
     ]
    }
   ],
   "source": [
    "model.summary()"
   ]
  },
  {
   "cell_type": "code",
   "execution_count": null,
   "id": "f9fca5e8",
   "metadata": {},
   "outputs": [],
   "source": []
  },
  {
   "cell_type": "code",
   "execution_count": 51,
   "id": "e295b896",
   "metadata": {
    "scrolled": true
   },
   "outputs": [
    {
     "name": "stdout",
     "output_type": "stream",
     "text": [
      "Epoch 1/100\n",
      "17/17 [==============================] - 3s 67ms/step - loss: 0.0116 - val_loss: 0.0878\n",
      "Epoch 2/100\n",
      "17/17 [==============================] - 0s 27ms/step - loss: 0.0034 - val_loss: 0.0085\n",
      "Epoch 3/100\n",
      "17/17 [==============================] - 0s 26ms/step - loss: 0.0022 - val_loss: 0.0219\n",
      "Epoch 4/100\n",
      "17/17 [==============================] - 0s 27ms/step - loss: 0.0029 - val_loss: 0.0782\n",
      "Epoch 5/100\n",
      "17/17 [==============================] - 0s 27ms/step - loss: 0.0025 - val_loss: 0.0064\n",
      "Epoch 6/100\n",
      "17/17 [==============================] - 0s 26ms/step - loss: 0.0025 - val_loss: 0.0265\n",
      "Epoch 7/100\n",
      "17/17 [==============================] - 0s 27ms/step - loss: 0.0020 - val_loss: 0.0011\n",
      "Epoch 8/100\n",
      "17/17 [==============================] - 0s 28ms/step - loss: 0.0018 - val_loss: 0.0479\n",
      "Epoch 9/100\n",
      "17/17 [==============================] - 0s 28ms/step - loss: 0.0018 - val_loss: 0.0019\n",
      "Epoch 10/100\n",
      "17/17 [==============================] - 0s 27ms/step - loss: 0.0016 - val_loss: 0.0259\n",
      "Epoch 11/100\n",
      "17/17 [==============================] - 0s 28ms/step - loss: 0.0013 - val_loss: 0.0080\n",
      "Epoch 12/100\n",
      "17/17 [==============================] - 0s 28ms/step - loss: 0.0013 - val_loss: 0.0397\n",
      "Epoch 13/100\n",
      "17/17 [==============================] - 0s 29ms/step - loss: 0.0011 - val_loss: 0.0223\n",
      "Epoch 14/100\n",
      "17/17 [==============================] - 0s 27ms/step - loss: 0.0013 - val_loss: 0.0117\n",
      "Epoch 15/100\n",
      "17/17 [==============================] - 0s 27ms/step - loss: 0.0012 - val_loss: 0.0307\n",
      "Epoch 16/100\n",
      "17/17 [==============================] - 0s 28ms/step - loss: 0.0011 - val_loss: 0.0173\n",
      "Epoch 17/100\n",
      "17/17 [==============================] - 0s 28ms/step - loss: 0.0011 - val_loss: 0.0360\n",
      "Epoch 18/100\n",
      "17/17 [==============================] - 0s 28ms/step - loss: 0.0011 - val_loss: 0.0073\n",
      "Epoch 19/100\n",
      "17/17 [==============================] - 0s 29ms/step - loss: 8.5406e-04 - val_loss: 0.0237\n",
      "Epoch 20/100\n",
      "17/17 [==============================] - 0s 29ms/step - loss: 0.0010 - val_loss: 0.0063\n",
      "Epoch 21/100\n",
      "17/17 [==============================] - 1s 29ms/step - loss: 7.7299e-04 - val_loss: 0.0410\n",
      "Epoch 22/100\n",
      "17/17 [==============================] - 0s 29ms/step - loss: 8.8054e-04 - val_loss: 0.0237\n",
      "Epoch 23/100\n",
      "17/17 [==============================] - 0s 28ms/step - loss: 8.3909e-04 - val_loss: 0.0056\n",
      "Epoch 24/100\n",
      "17/17 [==============================] - 0s 29ms/step - loss: 7.7934e-04 - val_loss: 0.0064\n",
      "Epoch 25/100\n",
      "17/17 [==============================] - 0s 28ms/step - loss: 7.3227e-04 - val_loss: 0.0049\n",
      "Epoch 26/100\n",
      "17/17 [==============================] - 0s 29ms/step - loss: 8.3691e-04 - val_loss: 0.0355\n",
      "Epoch 27/100\n",
      "17/17 [==============================] - 1s 30ms/step - loss: 8.3545e-04 - val_loss: 0.0012\n",
      "Epoch 28/100\n",
      "17/17 [==============================] - 0s 29ms/step - loss: 5.7568e-04 - val_loss: 0.0015\n",
      "Epoch 29/100\n",
      "17/17 [==============================] - 1s 30ms/step - loss: 7.4385e-04 - val_loss: 0.0056\n",
      "Epoch 30/100\n",
      "17/17 [==============================] - 0s 29ms/step - loss: 5.8939e-04 - val_loss: 4.2063e-04\n",
      "Epoch 31/100\n",
      "17/17 [==============================] - 1s 29ms/step - loss: 6.8312e-04 - val_loss: 0.0175\n",
      "Epoch 32/100\n",
      "17/17 [==============================] - 1s 29ms/step - loss: 7.2577e-04 - val_loss: 0.0030\n",
      "Epoch 33/100\n",
      "17/17 [==============================] - 1s 30ms/step - loss: 6.0905e-04 - val_loss: 0.0027\n",
      "Epoch 34/100\n",
      "17/17 [==============================] - 1s 30ms/step - loss: 6.5993e-04 - val_loss: 3.0398e-04\n",
      "Epoch 35/100\n",
      "17/17 [==============================] - 1s 31ms/step - loss: 5.4040e-04 - val_loss: 0.0035\n",
      "Epoch 36/100\n",
      "17/17 [==============================] - 1s 31ms/step - loss: 5.8065e-04 - val_loss: 6.8730e-04\n",
      "Epoch 37/100\n",
      "17/17 [==============================] - 1s 31ms/step - loss: 5.0353e-04 - val_loss: 0.0025\n",
      "Epoch 38/100\n",
      "17/17 [==============================] - 1s 30ms/step - loss: 6.2460e-04 - val_loss: 0.0134\n",
      "Epoch 39/100\n",
      "17/17 [==============================] - 1s 30ms/step - loss: 3.1714e-04 - val_loss: 9.6995e-04\n",
      "Epoch 40/100\n",
      "17/17 [==============================] - 1s 31ms/step - loss: 5.3666e-04 - val_loss: 0.0117\n",
      "Epoch 41/100\n",
      "17/17 [==============================] - 0s 29ms/step - loss: 5.7949e-04 - val_loss: 0.0090\n",
      "Epoch 42/100\n",
      "17/17 [==============================] - 1s 30ms/step - loss: 5.4089e-04 - val_loss: 0.0028\n",
      "Epoch 43/100\n",
      "17/17 [==============================] - 1s 30ms/step - loss: 4.8072e-04 - val_loss: 0.0015\n",
      "Epoch 44/100\n",
      "17/17 [==============================] - 0s 29ms/step - loss: 4.5894e-04 - val_loss: 0.0031\n",
      "Epoch 45/100\n",
      "17/17 [==============================] - 1s 30ms/step - loss: 5.0745e-04 - val_loss: 5.8691e-04\n",
      "Epoch 46/100\n",
      "17/17 [==============================] - 1s 30ms/step - loss: 4.7600e-04 - val_loss: 0.0050\n",
      "Epoch 47/100\n",
      "17/17 [==============================] - 0s 29ms/step - loss: 4.2712e-04 - val_loss: 5.5981e-04\n",
      "Epoch 48/100\n",
      "17/17 [==============================] - 1s 31ms/step - loss: 4.3225e-04 - val_loss: 0.0014\n",
      "Epoch 49/100\n",
      "17/17 [==============================] - 1s 31ms/step - loss: 4.5782e-04 - val_loss: 0.0044\n",
      "Epoch 50/100\n",
      "17/17 [==============================] - 1s 30ms/step - loss: 4.7211e-04 - val_loss: 9.0960e-04\n",
      "Epoch 51/100\n",
      "17/17 [==============================] - 1s 31ms/step - loss: 4.1308e-04 - val_loss: 0.0041\n",
      "Epoch 52/100\n",
      "17/17 [==============================] - 1s 30ms/step - loss: 4.1528e-04 - val_loss: 3.5543e-04\n",
      "Epoch 53/100\n",
      "17/17 [==============================] - 1s 29ms/step - loss: 4.1314e-04 - val_loss: 0.0024\n",
      "Epoch 54/100\n",
      "17/17 [==============================] - 1s 30ms/step - loss: 3.9237e-04 - val_loss: 0.0013\n",
      "Epoch 55/100\n",
      "17/17 [==============================] - 1s 30ms/step - loss: 3.6862e-04 - val_loss: 0.0125\n",
      "Epoch 56/100\n",
      "17/17 [==============================] - 1s 30ms/step - loss: 3.8133e-04 - val_loss: 6.3002e-04\n",
      "Epoch 57/100\n",
      "17/17 [==============================] - 1s 30ms/step - loss: 3.8541e-04 - val_loss: 0.0188\n",
      "Epoch 58/100\n",
      "17/17 [==============================] - 1s 31ms/step - loss: 4.0537e-04 - val_loss: 1.8854e-04\n",
      "Epoch 59/100\n",
      "17/17 [==============================] - 1s 30ms/step - loss: 4.2519e-04 - val_loss: 0.0062\n",
      "Epoch 60/100\n",
      "17/17 [==============================] - 1s 30ms/step - loss: 3.4712e-04 - val_loss: 0.0015\n",
      "Epoch 61/100\n",
      "17/17 [==============================] - 1s 31ms/step - loss: 3.8026e-04 - val_loss: 0.0086\n",
      "Epoch 62/100\n",
      "17/17 [==============================] - 1s 30ms/step - loss: 3.7289e-04 - val_loss: 0.0038\n",
      "Epoch 63/100\n",
      "17/17 [==============================] - 1s 30ms/step - loss: 3.5189e-04 - val_loss: 0.0049\n",
      "Epoch 64/100\n",
      "17/17 [==============================] - 1s 29ms/step - loss: 3.5298e-04 - val_loss: 0.0026\n",
      "Epoch 65/100\n",
      "17/17 [==============================] - 0s 29ms/step - loss: 3.4401e-04 - val_loss: 0.0097\n",
      "Epoch 66/100\n",
      "17/17 [==============================] - 0s 29ms/step - loss: 2.9454e-04 - val_loss: 4.6800e-04\n",
      "Epoch 67/100\n",
      "17/17 [==============================] - 1s 30ms/step - loss: 3.2340e-04 - val_loss: 0.0023\n",
      "Epoch 68/100\n",
      "17/17 [==============================] - 1s 29ms/step - loss: 3.6300e-04 - val_loss: 8.2924e-04\n",
      "Epoch 69/100\n",
      "17/17 [==============================] - 0s 29ms/step - loss: 3.5194e-04 - val_loss: 0.0129\n",
      "Epoch 70/100\n",
      "17/17 [==============================] - 1s 29ms/step - loss: 3.3820e-04 - val_loss: 0.0018\n",
      "Epoch 71/100\n",
      "17/17 [==============================] - 1s 31ms/step - loss: 3.2986e-04 - val_loss: 0.0104\n",
      "Epoch 72/100\n",
      "17/17 [==============================] - 1s 32ms/step - loss: 3.1308e-04 - val_loss: 0.0013\n",
      "Epoch 73/100\n",
      "17/17 [==============================] - 1s 30ms/step - loss: 3.3360e-04 - val_loss: 0.0077\n",
      "Epoch 74/100\n",
      "17/17 [==============================] - 1s 31ms/step - loss: 3.0323e-04 - val_loss: 2.9476e-04\n",
      "Epoch 75/100\n",
      "17/17 [==============================] - 1s 31ms/step - loss: 3.2235e-04 - val_loss: 0.0104\n",
      "Epoch 76/100\n",
      "17/17 [==============================] - 1s 31ms/step - loss: 2.9355e-04 - val_loss: 0.0034\n",
      "Epoch 77/100\n",
      "17/17 [==============================] - 1s 31ms/step - loss: 2.9518e-04 - val_loss: 0.0014\n",
      "Epoch 78/100\n",
      "17/17 [==============================] - 1s 31ms/step - loss: 3.2378e-04 - val_loss: 0.0056\n",
      "Epoch 79/100\n"
     ]
    },
    {
     "name": "stdout",
     "output_type": "stream",
     "text": [
      "17/17 [==============================] - 1s 30ms/step - loss: 2.9701e-04 - val_loss: 9.3374e-04\n",
      "Epoch 80/100\n",
      "17/17 [==============================] - 1s 32ms/step - loss: 2.8203e-04 - val_loss: 0.0016\n",
      "Epoch 81/100\n",
      "17/17 [==============================] - 1s 30ms/step - loss: 2.4889e-04 - val_loss: 0.0147\n",
      "Epoch 82/100\n",
      "17/17 [==============================] - 1s 30ms/step - loss: 3.6816e-04 - val_loss: 0.0047\n",
      "Epoch 83/100\n",
      "17/17 [==============================] - 1s 31ms/step - loss: 2.8714e-04 - val_loss: 0.0044\n",
      "Epoch 84/100\n",
      "17/17 [==============================] - 1s 31ms/step - loss: 2.4847e-04 - val_loss: 2.3610e-04\n",
      "Epoch 85/100\n",
      "17/17 [==============================] - 1s 31ms/step - loss: 2.8527e-04 - val_loss: 0.0196\n",
      "Epoch 86/100\n",
      "17/17 [==============================] - 1s 30ms/step - loss: 3.3189e-04 - val_loss: 0.0030\n",
      "Epoch 87/100\n",
      "17/17 [==============================] - 1s 30ms/step - loss: 2.4703e-04 - val_loss: 0.0073\n",
      "Epoch 88/100\n",
      "17/17 [==============================] - 1s 31ms/step - loss: 3.0002e-04 - val_loss: 9.6278e-04\n",
      "Epoch 89/100\n",
      "17/17 [==============================] - 1s 29ms/step - loss: 3.0458e-04 - val_loss: 0.0089\n",
      "Epoch 90/100\n",
      "17/17 [==============================] - 1s 30ms/step - loss: 2.3461e-04 - val_loss: 0.0010\n",
      "Epoch 91/100\n",
      "17/17 [==============================] - 1s 30ms/step - loss: 2.5946e-04 - val_loss: 0.0062\n",
      "Epoch 92/100\n",
      "17/17 [==============================] - 1s 29ms/step - loss: 3.1808e-04 - val_loss: 9.5106e-04\n",
      "Epoch 93/100\n",
      "17/17 [==============================] - 1s 30ms/step - loss: 2.6934e-04 - val_loss: 0.0087\n",
      "Epoch 94/100\n",
      "17/17 [==============================] - 1s 30ms/step - loss: 2.7493e-04 - val_loss: 0.0043\n",
      "Epoch 95/100\n",
      "17/17 [==============================] - 1s 30ms/step - loss: 2.3780e-04 - val_loss: 0.0082\n",
      "Epoch 96/100\n",
      "17/17 [==============================] - 1s 30ms/step - loss: 2.5470e-04 - val_loss: 0.0014\n",
      "Epoch 97/100\n",
      "17/17 [==============================] - 1s 30ms/step - loss: 2.6219e-04 - val_loss: 0.0031\n",
      "Epoch 98/100\n",
      "17/17 [==============================] - 1s 30ms/step - loss: 2.5070e-04 - val_loss: 0.0056\n",
      "Epoch 99/100\n",
      "17/17 [==============================] - 1s 31ms/step - loss: 2.4252e-04 - val_loss: 0.0059\n",
      "Epoch 100/100\n",
      "17/17 [==============================] - 1s 31ms/step - loss: 2.6785e-04 - val_loss: 0.0020\n"
     ]
    },
    {
     "data": {
      "text/plain": [
       "<keras.callbacks.History at 0x1a299dffe80>"
      ]
     },
     "execution_count": 51,
     "metadata": {},
     "output_type": "execute_result"
    }
   ],
   "source": [
    "model.fit(X_train,y_train,validation_data=(X_test,ytest),epochs=100,batch_size=64,verbose=1)"
   ]
  },
  {
   "cell_type": "code",
   "execution_count": null,
   "id": "49f823c9",
   "metadata": {},
   "outputs": [],
   "source": []
  },
  {
   "cell_type": "code",
   "execution_count": 52,
   "id": "33e72685",
   "metadata": {},
   "outputs": [],
   "source": [
    "### Lets Do the prediction and check performance metrics\n",
    "train_predict=model.predict(X_train)\n",
    "test_predict=model.predict(X_test)"
   ]
  },
  {
   "cell_type": "code",
   "execution_count": null,
   "id": "1665b283",
   "metadata": {},
   "outputs": [],
   "source": []
  },
  {
   "cell_type": "code",
   "execution_count": 59,
   "id": "46b01cfa",
   "metadata": {},
   "outputs": [],
   "source": [
    "##Transformback to original form\n",
    "train_predict1=scaler.inverse_transform(train_predict)\n",
    "test_predict=scaler.inverse_transform(test_predict)"
   ]
  },
  {
   "cell_type": "code",
   "execution_count": 61,
   "id": "477feb7e",
   "metadata": {},
   "outputs": [
    {
     "data": {
      "text/plain": [
       "array([[0.08935509],\n",
       "       [0.08996062],\n",
       "       [0.09249682],\n",
       "       ...,\n",
       "       [0.40717232],\n",
       "       [0.41409242],\n",
       "       [0.42582792]], dtype=float32)"
      ]
     },
     "execution_count": 61,
     "metadata": {},
     "output_type": "execute_result"
    }
   ],
   "source": [
    "train_predict1"
   ]
  },
  {
   "cell_type": "code",
   "execution_count": 54,
   "id": "5e76340b",
   "metadata": {},
   "outputs": [
    {
     "data": {
      "text/plain": [
       "0.012472175146604533"
      ]
     },
     "execution_count": 54,
     "metadata": {},
     "output_type": "execute_result"
    }
   ],
   "source": [
    "### Calculate RMSE performance metrics\n",
    "import math\n",
    "from sklearn.metrics import mean_squared_error\n",
    "math.sqrt(mean_squared_error(y_train,train_predict))"
   ]
  },
  {
   "cell_type": "code",
   "execution_count": null,
   "id": "00e2d298",
   "metadata": {},
   "outputs": [],
   "source": []
  },
  {
   "cell_type": "code",
   "execution_count": 55,
   "id": "182e6f4b",
   "metadata": {},
   "outputs": [
    {
     "data": {
      "text/plain": [
       "0.04466674181772061"
      ]
     },
     "execution_count": 55,
     "metadata": {},
     "output_type": "execute_result"
    }
   ],
   "source": [
    "### Test Data RMSE\n",
    "math.sqrt(mean_squared_error(ytest,test_predict))"
   ]
  },
  {
   "cell_type": "code",
   "execution_count": null,
   "id": "d0068e35",
   "metadata": {},
   "outputs": [],
   "source": []
  },
  {
   "cell_type": "code",
   "execution_count": null,
   "id": "eb6c4ad0",
   "metadata": {},
   "outputs": [],
   "source": []
  },
  {
   "cell_type": "code",
   "execution_count": null,
   "id": "5cce06a0",
   "metadata": {},
   "outputs": [],
   "source": []
  },
  {
   "cell_type": "code",
   "execution_count": 56,
   "id": "94ec89fd",
   "metadata": {},
   "outputs": [
    {
     "data": {
      "image/png": "[encoded data removed]",
      "text/plain": [
       "<Figure size 432x288 with 1 Axes>"
      ]
     },
     "metadata": {
      "needs_background": "light"
     },
     "output_type": "display_data"
    }
   ],
   "source": [
    "### Plotting \n",
    "# shift train predictions for plotting\n",
    "look_back=100\n",
    "trainPredictPlot = numpy.empty_like(df1)\n",
    "trainPredictPlot[:, :] = np.nan\n",
    "trainPredictPlot[look_back:len(train_predict)+look_back, :] = train_predict\n",
    "# shift test predictions for plotting\n",
    "testPredictPlot = numpy.empty_like(df1)\n",
    "testPredictPlot[:, :] = numpy.nan\n",
    "testPredictPlot[len(train_predict)+(look_back*2)+1:len(df1)-1, :] = test_predict\n",
    "# plot baseline and predictions\n",
    "plt.plot(scaler.inverse_transform(df1))\n",
    "plt.plot(trainPredictPlot)\n",
    "plt.plot(testPredictPlot)\n",
    "plt.show()"
   ]
  },
  {
   "cell_type": "code",
   "execution_count": null,
   "id": "c445b6be",
   "metadata": {},
   "outputs": [],
   "source": []
  },
  {
   "cell_type": "code",
   "execution_count": null,
   "id": "72966517",
   "metadata": {},
   "outputs": [],
   "source": []
  }
 ],
 "metadata": {
  "kernelspec": {
   "display_name": "Tfgpu",
   "language": "python",
   "name": "myenv"
  },
  "language_info": {
   "codemirror_mode": {
    "name": "ipython",
    "version": 3
   },
   "file_extension": ".py",
   "mimetype": "text/x-python",
   "name": "python",
   "nbconvert_exporter": "python",
   "pygments_lexer": "ipython3",
   "version": "3.8.0"
  }
 },
 "nbformat": 4,
 "nbformat_minor": 5
}
