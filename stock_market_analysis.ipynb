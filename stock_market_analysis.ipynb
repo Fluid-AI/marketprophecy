{
  "nbformat": 4,
  "nbformat_minor": 0,
  "metadata": {
    "colab": {
      "name": "stock market analysis.ipynb",
      "provenance": []
    },
    "kernelspec": {
      "name": "python3",
      "display_name": "Python 3"
    },
    "language_info": {
      "name": "python"
    }
  },
  "cells": [
    {
      "cell_type": "code",
      "execution_count": 3,
      "metadata": {
        "id": "ZUPA4DBlnfhV"
      },
      "outputs": [],
      "source": [
        "import pandas as pd\n",
        "import numpy as np\n",
        "import matplotlib.pyplot as plt\n",
        "import seaborn as sns\n",
        "\n",
        "from datetime import date, timedelta\n",
        "from nsepy import get_history  # package to get the data from nse\n",
        "from sklearn.preprocessing import StandardScaler, MinMaxScaler"
      ]
    },
    {
      "cell_type": "code",
      "source": [
        "pip install nsepy"
      ],
      "metadata": {
        "colab": {
          "base_uri": "https://localhost:8080/"
        },
        "id": "YQf6ZRvgnvfw",
        "outputId": "70ca3abf-6751-40f7-9372-68be1e391863"
      },
      "execution_count": 2,
      "outputs": [
        {
          "output_type": "stream",
          "name": "stdout",
          "text": [
            "Collecting nsepy\n",
            "  Downloading nsepy-0.8.tar.gz (33 kB)\n",
            "Requirement already satisfied: beautifulsoup4 in /usr/local/lib/python3.7/dist-packages (from nsepy) (4.6.3)\n",
            "Requirement already satisfied: requests in /usr/local/lib/python3.7/dist-packages (from nsepy) (2.23.0)\n",
            "Requirement already satisfied: numpy in /usr/local/lib/python3.7/dist-packages (from nsepy) (1.19.5)\n",
            "Requirement already satisfied: pandas in /usr/local/lib/python3.7/dist-packages (from nsepy) (1.3.5)\n",
            "Requirement already satisfied: six in /usr/local/lib/python3.7/dist-packages (from nsepy) (1.15.0)\n",
            "Requirement already satisfied: click in /usr/local/lib/python3.7/dist-packages (from nsepy) (7.1.2)\n",
            "Requirement already satisfied: lxml in /usr/local/lib/python3.7/dist-packages (from nsepy) (4.2.6)\n",
            "Requirement already satisfied: pytz>=2017.3 in /usr/local/lib/python3.7/dist-packages (from pandas->nsepy) (2018.9)\n",
            "Requirement already satisfied: python-dateutil>=2.7.3 in /usr/local/lib/python3.7/dist-packages (from pandas->nsepy) (2.8.2)\n",
            "Requirement already satisfied: idna<3,>=2.5 in /usr/local/lib/python3.7/dist-packages (from requests->nsepy) (2.10)\n",
            "Requirement already satisfied: certifi>=2017.4.17 in /usr/local/lib/python3.7/dist-packages (from requests->nsepy) (2021.10.8)\n",
            "Requirement already satisfied: urllib3!=1.25.0,!=1.25.1,<1.26,>=1.21.1 in /usr/local/lib/python3.7/dist-packages (from requests->nsepy) (1.24.3)\n",
            "Requirement already satisfied: chardet<4,>=3.0.2 in /usr/local/lib/python3.7/dist-packages (from requests->nsepy) (3.0.4)\n",
            "Building wheels for collected packages: nsepy\n",
            "  Building wheel for nsepy (setup.py) ... \u001b[?25l\u001b[?25hdone\n",
            "  Created wheel for nsepy: filename=nsepy-0.8-py3-none-any.whl size=36084 sha256=b5111e864168142707cd96ce260ce7b647ac7095982d64e8137daceb958fb148\n",
            "  Stored in directory: /root/.cache/pip/wheels/32/ab/d9/78ceea14cdf6de83376082b3cb0c2999fd77f823e35c47b9ec\n",
            "Successfully built nsepy\n",
            "Installing collected packages: nsepy\n",
            "Successfully installed nsepy-0.8\n"
          ]
        }
      ]
    },
    {
      "cell_type": "code",
      "source": [
        "# User defined function get the data from nse\n",
        "\n",
        "def getnsedata(comp_name):\n",
        "    data = get_history(symbol=comp_name,\n",
        "                       start=date(2016, 1, 1),\n",
        "                       end=date.today())\n",
        "    return data"
      ],
      "metadata": {
        "id": "gQTPvbDUn6Ux"
      },
      "execution_count": 28,
      "outputs": []
    },
    {
      "cell_type": "code",
      "source": [
        "#data\n",
        "df = getnsedata(\"SBIN\")\n",
        "df.head()"
      ],
      "metadata": {
        "colab": {
          "base_uri": "https://localhost:8080/",
          "height": 238
        },
        "id": "LI-p_un6n_dC",
        "outputId": "1e6d8047-b248-44b0-ce78-67dffc5a3b2d"
      },
      "execution_count": 29,
      "outputs": [
        {
          "output_type": "execute_result",
          "data": {
            "text/html": [
              "\n",
              "  <div id=\"df-a43d164c-8271-444a-9a69-7fe6b29cb31c\">\n",
              "    <div class=\"colab-df-container\">\n",
              "      <div>\n",
              "<style scoped>\n",
              "    .dataframe tbody tr th:only-of-type {\n",
              "        vertical-align: middle;\n",
              "    }\n",
              "\n",
              "    .dataframe tbody tr th {\n",
              "        vertical-align: top;\n",
              "    }\n",
              "\n",
              "    .dataframe thead th {\n",
              "        text-align: right;\n",
              "    }\n",
              "</style>\n",
              "<table border=\"1\" class=\"dataframe\">\n",
              "  <thead>\n",
              "    <tr style=\"text-align: right;\">\n",
              "      <th></th>\n",
              "      <th>Symbol</th>\n",
              "      <th>Series</th>\n",
              "      <th>Prev Close</th>\n",
              "      <th>Open</th>\n",
              "      <th>High</th>\n",
              "      <th>Low</th>\n",
              "      <th>Last</th>\n",
              "      <th>Close</th>\n",
              "      <th>VWAP</th>\n",
              "      <th>Volume</th>\n",
              "      <th>Turnover</th>\n",
              "      <th>Trades</th>\n",
              "      <th>Deliverable Volume</th>\n",
              "      <th>%Deliverble</th>\n",
              "    </tr>\n",
              "    <tr>\n",
              "      <th>Date</th>\n",
              "      <th></th>\n",
              "      <th></th>\n",
              "      <th></th>\n",
              "      <th></th>\n",
              "      <th></th>\n",
              "      <th></th>\n",
              "      <th></th>\n",
              "      <th></th>\n",
              "      <th></th>\n",
              "      <th></th>\n",
              "      <th></th>\n",
              "      <th></th>\n",
              "      <th></th>\n",
              "      <th></th>\n",
              "    </tr>\n",
              "  </thead>\n",
              "  <tbody>\n",
              "    <tr>\n",
              "      <th>2016-01-01</th>\n",
              "      <td>SBIN</td>\n",
              "      <td>EQ</td>\n",
              "      <td>224.45</td>\n",
              "      <td>225.00</td>\n",
              "      <td>228.90</td>\n",
              "      <td>224.50</td>\n",
              "      <td>227.75</td>\n",
              "      <td>227.80</td>\n",
              "      <td>226.94</td>\n",
              "      <td>6449426</td>\n",
              "      <td>1.463601e+14</td>\n",
              "      <td>49529</td>\n",
              "      <td>1376633</td>\n",
              "      <td>0.2135</td>\n",
              "    </tr>\n",
              "    <tr>\n",
              "      <th>2016-01-04</th>\n",
              "      <td>SBIN</td>\n",
              "      <td>EQ</td>\n",
              "      <td>227.80</td>\n",
              "      <td>226.95</td>\n",
              "      <td>226.95</td>\n",
              "      <td>220.05</td>\n",
              "      <td>221.10</td>\n",
              "      <td>220.70</td>\n",
              "      <td>222.80</td>\n",
              "      <td>14092071</td>\n",
              "      <td>3.139744e+14</td>\n",
              "      <td>113875</td>\n",
              "      <td>5337291</td>\n",
              "      <td>0.3787</td>\n",
              "    </tr>\n",
              "    <tr>\n",
              "      <th>2016-01-05</th>\n",
              "      <td>SBIN</td>\n",
              "      <td>EQ</td>\n",
              "      <td>220.70</td>\n",
              "      <td>222.80</td>\n",
              "      <td>222.80</td>\n",
              "      <td>217.00</td>\n",
              "      <td>217.75</td>\n",
              "      <td>217.75</td>\n",
              "      <td>219.46</td>\n",
              "      <td>15074848</td>\n",
              "      <td>3.308362e+14</td>\n",
              "      <td>137290</td>\n",
              "      <td>6241116</td>\n",
              "      <td>0.4140</td>\n",
              "    </tr>\n",
              "    <tr>\n",
              "      <th>2016-01-06</th>\n",
              "      <td>SBIN</td>\n",
              "      <td>EQ</td>\n",
              "      <td>217.75</td>\n",
              "      <td>217.90</td>\n",
              "      <td>219.90</td>\n",
              "      <td>216.40</td>\n",
              "      <td>217.00</td>\n",
              "      <td>216.85</td>\n",
              "      <td>218.00</td>\n",
              "      <td>11921123</td>\n",
              "      <td>2.598852e+14</td>\n",
              "      <td>96992</td>\n",
              "      <td>3750530</td>\n",
              "      <td>0.3146</td>\n",
              "    </tr>\n",
              "    <tr>\n",
              "      <th>2016-01-07</th>\n",
              "      <td>SBIN</td>\n",
              "      <td>EQ</td>\n",
              "      <td>216.85</td>\n",
              "      <td>214.00</td>\n",
              "      <td>214.10</td>\n",
              "      <td>209.00</td>\n",
              "      <td>209.75</td>\n",
              "      <td>209.55</td>\n",
              "      <td>210.81</td>\n",
              "      <td>14342279</td>\n",
              "      <td>3.023488e+14</td>\n",
              "      <td>131516</td>\n",
              "      <td>5943545</td>\n",
              "      <td>0.4144</td>\n",
              "    </tr>\n",
              "  </tbody>\n",
              "</table>\n",
              "</div>\n",
              "      <button class=\"colab-df-convert\" onclick=\"convertToInteractive('df-a43d164c-8271-444a-9a69-7fe6b29cb31c')\"\n",
              "              title=\"Convert this dataframe to an interactive table.\"\n",
              "              style=\"display:none;\">\n",
              "        \n",
              "  <svg xmlns=\"http://www.w3.org/2000/svg\" height=\"24px\"viewBox=\"0 0 24 24\"\n",
              "       width=\"24px\">\n",
              "    <path d=\"M0 0h24v24H0V0z\" fill=\"none\"/>\n",
              "    <path d=\"M18.56 5.44l.94 2.06.94-2.06 2.06-.94-2.06-.94-.94-2.06-.94 2.06-2.06.94zm-11 1L8.5 8.5l.94-2.06 2.06-.94-2.06-.94L8.5 2.5l-.94 2.06-2.06.94zm10 10l.94 2.06.94-2.06 2.06-.94-2.06-.94-.94-2.06-.94 2.06-2.06.94z\"/><path d=\"M17.41 7.96l-1.37-1.37c-.4-.4-.92-.59-1.43-.59-.52 0-1.04.2-1.43.59L10.3 9.45l-7.72 7.72c-.78.78-.78 2.05 0 2.83L4 21.41c.39.39.9.59 1.41.59.51 0 1.02-.2 1.41-.59l7.78-7.78 2.81-2.81c.8-.78.8-2.07 0-2.86zM5.41 20L4 18.59l7.72-7.72 1.47 1.35L5.41 20z\"/>\n",
              "  </svg>\n",
              "      </button>\n",
              "      \n",
              "  <style>\n",
              "    .colab-df-container {\n",
              "      display:flex;\n",
              "      flex-wrap:wrap;\n",
              "      gap: 12px;\n",
              "    }\n",
              "\n",
              "    .colab-df-convert {\n",
              "      background-color: #E8F0FE;\n",
              "      border: none;\n",
              "      border-radius: 50%;\n",
              "      cursor: pointer;\n",
              "      display: none;\n",
              "      fill: #1967D2;\n",
              "      height: 32px;\n",
              "      padding: 0 0 0 0;\n",
              "      width: 32px;\n",
              "    }\n",
              "\n",
              "    .colab-df-convert:hover {\n",
              "      background-color: #E2EBFA;\n",
              "      box-shadow: 0px 1px 2px rgba(60, 64, 67, 0.3), 0px 1px 3px 1px rgba(60, 64, 67, 0.15);\n",
              "      fill: #174EA6;\n",
              "    }\n",
              "\n",
              "    [theme=dark] .colab-df-convert {\n",
              "      background-color: #3B4455;\n",
              "      fill: #D2E3FC;\n",
              "    }\n",
              "\n",
              "    [theme=dark] .colab-df-convert:hover {\n",
              "      background-color: #434B5C;\n",
              "      box-shadow: 0px 1px 3px 1px rgba(0, 0, 0, 0.15);\n",
              "      filter: drop-shadow(0px 1px 2px rgba(0, 0, 0, 0.3));\n",
              "      fill: #FFFFFF;\n",
              "    }\n",
              "  </style>\n",
              "\n",
              "      <script>\n",
              "        const buttonEl =\n",
              "          document.querySelector('#df-a43d164c-8271-444a-9a69-7fe6b29cb31c button.colab-df-convert');\n",
              "        buttonEl.style.display =\n",
              "          google.colab.kernel.accessAllowed ? 'block' : 'none';\n",
              "\n",
              "        async function convertToInteractive(key) {\n",
              "          const element = document.querySelector('#df-a43d164c-8271-444a-9a69-7fe6b29cb31c');\n",
              "          const dataTable =\n",
              "            await google.colab.kernel.invokeFunction('convertToInteractive',\n",
              "                                                     [key], {});\n",
              "          if (!dataTable) return;\n",
              "\n",
              "          const docLinkHtml = 'Like what you see? Visit the ' +\n",
              "            '<a target=\"_blank\" href=https://colab.research.google.com/notebooks/data_table.ipynb>data table notebook</a>'\n",
              "            + ' to learn more about interactive tables.';\n",
              "          element.innerHTML = '';\n",
              "          dataTable['output_type'] = 'display_data';\n",
              "          await google.colab.output.renderOutput(dataTable, element);\n",
              "          const docLink = document.createElement('div');\n",
              "          docLink.innerHTML = docLinkHtml;\n",
              "          element.appendChild(docLink);\n",
              "        }\n",
              "      </script>\n",
              "    </div>\n",
              "  </div>\n",
              "  "
            ],
            "text/plain": [
              "           Symbol Series  Prev Close  ...  Trades  Deliverable Volume  %Deliverble\n",
              "Date                                  ...                                         \n",
              "2016-01-01   SBIN     EQ      224.45  ...   49529             1376633       0.2135\n",
              "2016-01-04   SBIN     EQ      227.80  ...  113875             5337291       0.3787\n",
              "2016-01-05   SBIN     EQ      220.70  ...  137290             6241116       0.4140\n",
              "2016-01-06   SBIN     EQ      217.75  ...   96992             3750530       0.3146\n",
              "2016-01-07   SBIN     EQ      216.85  ...  131516             5943545       0.4144\n",
              "\n",
              "[5 rows x 14 columns]"
            ]
          },
          "metadata": {},
          "execution_count": 29
        }
      ]
    },
    {
      "cell_type": "code",
      "source": [
        "df1=df.reset_index()['Close']"
      ],
      "metadata": {
        "id": "cvp-DmjXoEzq"
      },
      "execution_count": 30,
      "outputs": []
    },
    {
      "cell_type": "code",
      "source": [
        "df1"
      ],
      "metadata": {
        "colab": {
          "base_uri": "https://localhost:8080/"
        },
        "id": "qpMOV5GuoKMD",
        "outputId": "6b4c7a98-da31-4db3-c238-92b89b8a2190"
      },
      "execution_count": 31,
      "outputs": [
        {
          "output_type": "execute_result",
          "data": {
            "text/plain": [
              "0       227.80\n",
              "1       220.70\n",
              "2       217.75\n",
              "3       216.85\n",
              "4       209.55\n",
              "         ...  \n",
              "1505    538.30\n",
              "1506    532.30\n",
              "1507    539.80\n",
              "1508    540.10\n",
              "1509    530.30\n",
              "Name: Close, Length: 1510, dtype: float64"
            ]
          },
          "metadata": {},
          "execution_count": 31
        }
      ]
    },
    {
      "cell_type": "code",
      "source": [
        "import matplotlib.pyplot as plt\n",
        "plt.plot(df1)"
      ],
      "metadata": {
        "colab": {
          "base_uri": "https://localhost:8080/",
          "height": 282
        },
        "id": "SP5UvrLRoM12",
        "outputId": "e963ec8f-6cbb-4ec3-b20b-21bbbe3f8ed3"
      },
      "execution_count": 32,
      "outputs": [
        {
          "output_type": "execute_result",
          "data": {
            "text/plain": [
              "[<matplotlib.lines.Line2D at 0x7fb65b54ca10>]"
            ]
          },
          "metadata": {},
          "execution_count": 32
        },
        {
          "output_type": "display_data",
          "data": {
            "image/png": "[encoded data removed]",
            "text/plain": [
              "<Figure size 432x288 with 1 Axes>"
            ]
          },
          "metadata": {
            "needs_background": "light"
          }
        }
      ]
    },
    {
      "cell_type": "code",
      "source": [
        "from sklearn.preprocessing import MinMaxScaler\n",
        "scaler=MinMaxScaler(feature_range=(0,1))\n",
        "df1=scaler.fit_transform(np.array(df1).reshape(-1,1))"
      ],
      "metadata": {
        "id": "UIKRS_tOoRY6"
      },
      "execution_count": 33,
      "outputs": []
    },
    {
      "cell_type": "code",
      "source": [
        "##splitting dataset into train and test split\n",
        "training_size=int(len(df1)*0.65)\n",
        "test_size=len(df1)-training_size\n",
        "train_data,test_data=df1[0:training_size,:],df1[training_size:len(df1),:1]"
      ],
      "metadata": {
        "id": "WI-n4MkqoXBz"
      },
      "execution_count": 34,
      "outputs": []
    },
    {
      "cell_type": "code",
      "source": [
        "import numpy\n",
        "# convert an array of values into a dataset matrix\n",
        "def create_dataset(dataset, time_step=1):\n",
        "\tdataX, dataY = [], []\n",
        "\tfor i in range(len(dataset)-time_step-1):\n",
        "\t\ta = dataset[i:(i+time_step), 0]   ###i=0, 0,1,2,3-----99   100 \n",
        "\t\tdataX.append(a)\n",
        "\t\tdataY.append(dataset[i + time_step, 0])\n",
        "\treturn numpy.array(dataX), numpy.array(dataY)"
      ],
      "metadata": {
        "id": "aQvbWplGodEX"
      },
      "execution_count": 35,
      "outputs": []
    },
    {
      "cell_type": "code",
      "source": [
        "# reshape into X=t,t+1,t+2,t+3 and Y=t+4\n",
        "time_step = 100\n",
        "X_train, y_train = create_dataset(train_data, time_step)\n",
        "X_test, ytest = create_dataset(test_data, time_step)"
      ],
      "metadata": {
        "id": "NOVxcaQSoj1J"
      },
      "execution_count": 36,
      "outputs": []
    },
    {
      "cell_type": "code",
      "source": [
        "# reshape input to be [samples, time steps, features] which is required for LSTM\n",
        "X_train =X_train.reshape(X_train.shape[0],X_train.shape[1] , 1)\n",
        "X_test = X_test.reshape(X_test.shape[0],X_test.shape[1] , 1)"
      ],
      "metadata": {
        "id": "g8kB7iYVoovS"
      },
      "execution_count": 37,
      "outputs": []
    },
    {
      "cell_type": "code",
      "source": [
        "### Create the Stacked LSTM model\n",
        "from tensorflow.keras.models import Sequential\n",
        "from tensorflow.keras.layers import Dense\n",
        "from tensorflow.keras.layers import LSTM"
      ],
      "metadata": {
        "id": "IuyY-iTTouwr"
      },
      "execution_count": 38,
      "outputs": []
    },
    {
      "cell_type": "code",
      "source": [
        "model=Sequential()\n",
        "model.add(LSTM(50,return_sequences=True,input_shape=(100,1)))\n",
        "model.add(LSTM(50,return_sequences=True))\n",
        "model.add(LSTM(50))\n",
        "model.add(Dense(1))\n",
        "model.compile(loss='mean_squared_error',optimizer='adam')"
      ],
      "metadata": {
        "id": "aEwUqBETo0z-"
      },
      "execution_count": 39,
      "outputs": []
    },
    {
      "cell_type": "code",
      "source": [
        "model.summary()"
      ],
      "metadata": {
        "colab": {
          "base_uri": "https://localhost:8080/"
        },
        "id": "iduwU9O0o8Vo",
        "outputId": "fc393ee4-5e95-406d-cd7c-ba67737ee1c2"
      },
      "execution_count": 40,
      "outputs": [
        {
          "output_type": "stream",
          "name": "stdout",
          "text": [
            "Model: \"sequential_1\"\n",
            "_________________________________________________________________\n",
            " Layer (type)                Output Shape              Param #   \n",
            "=================================================================\n",
            " lstm_3 (LSTM)               (None, 100, 50)           10400     \n",
            "                                                                 \n",
            " lstm_4 (LSTM)               (None, 100, 50)           20200     \n",
            "                                                                 \n",
            " lstm_5 (LSTM)               (None, 50)                20200     \n",
            "                                                                 \n",
            " dense_1 (Dense)             (None, 1)                 51        \n",
            "                                                                 \n",
            "=================================================================\n",
            "Total params: 50,851\n",
            "Trainable params: 50,851\n",
            "Non-trainable params: 0\n",
            "_________________________________________________________________\n"
          ]
        }
      ]
    },
    {
      "cell_type": "code",
      "source": [
        "model.summary()"
      ],
      "metadata": {
        "colab": {
          "base_uri": "https://localhost:8080/"
        },
        "id": "3vxgJvHvpCk7",
        "outputId": "7435d65d-1afa-4d1d-b8a8-949ae4c8e886"
      },
      "execution_count": 17,
      "outputs": [
        {
          "output_type": "stream",
          "name": "stdout",
          "text": [
            "Model: \"sequential\"\n",
            "_________________________________________________________________\n",
            " Layer (type)                Output Shape              Param #   \n",
            "=================================================================\n",
            " lstm (LSTM)                 (None, 50, 50)            10400     \n",
            "                                                                 \n",
            " lstm_1 (LSTM)               (None, 50, 50)            20200     \n",
            "                                                                 \n",
            " lstm_2 (LSTM)               (None, 50)                20200     \n",
            "                                                                 \n",
            " dense (Dense)               (None, 1)                 51        \n",
            "                                                                 \n",
            "=================================================================\n",
            "Total params: 50,851\n",
            "Trainable params: 50,851\n",
            "Non-trainable params: 0\n",
            "_________________________________________________________________\n"
          ]
        }
      ]
    },
    {
      "cell_type": "code",
      "source": [
        "model.fit(X_train,y_train,validation_data=(X_test,ytest),epochs=100,batch_size=64,verbose=1)"
      ],
      "metadata": {
        "colab": {
          "base_uri": "https://localhost:8080/"
        },
        "id": "FhWpoHAWpE1W",
        "outputId": "3d6b2b3b-1763-4ada-ebf7-66575c73bbfe"
      },
      "execution_count": 41,
      "outputs": [
        {
          "output_type": "stream",
          "name": "stdout",
          "text": [
            "Epoch 1/100\n",
            "14/14 [==============================] - 23s 401ms/step - loss: 0.0302 - val_loss: 0.0530\n",
            "Epoch 2/100\n",
            "14/14 [==============================] - 3s 236ms/step - loss: 0.0042 - val_loss: 0.0221\n",
            "Epoch 3/100\n",
            "14/14 [==============================] - 3s 236ms/step - loss: 0.0024 - val_loss: 0.0231\n",
            "Epoch 4/100\n",
            "14/14 [==============================] - 3s 236ms/step - loss: 0.0021 - val_loss: 0.0207\n",
            "Epoch 5/100\n",
            "14/14 [==============================] - 3s 242ms/step - loss: 0.0019 - val_loss: 0.0176\n",
            "Epoch 6/100\n",
            "14/14 [==============================] - 3s 234ms/step - loss: 0.0018 - val_loss: 0.0108\n",
            "Epoch 7/100\n",
            "14/14 [==============================] - 3s 237ms/step - loss: 0.0017 - val_loss: 0.0086\n",
            "Epoch 8/100\n",
            "14/14 [==============================] - 3s 234ms/step - loss: 0.0016 - val_loss: 0.0058\n",
            "Epoch 9/100\n",
            "14/14 [==============================] - 3s 242ms/step - loss: 0.0016 - val_loss: 0.0065\n",
            "Epoch 10/100\n",
            "14/14 [==============================] - 3s 233ms/step - loss: 0.0015 - val_loss: 0.0047\n",
            "Epoch 11/100\n",
            "14/14 [==============================] - 3s 234ms/step - loss: 0.0015 - val_loss: 0.0056\n",
            "Epoch 12/100\n",
            "14/14 [==============================] - 3s 238ms/step - loss: 0.0014 - val_loss: 0.0040\n",
            "Epoch 13/100\n",
            "14/14 [==============================] - 3s 241ms/step - loss: 0.0013 - val_loss: 0.0041\n",
            "Epoch 14/100\n",
            "14/14 [==============================] - 3s 242ms/step - loss: 0.0013 - val_loss: 0.0055\n",
            "Epoch 15/100\n",
            "14/14 [==============================] - 3s 240ms/step - loss: 0.0013 - val_loss: 0.0049\n",
            "Epoch 16/100\n",
            "14/14 [==============================] - 3s 241ms/step - loss: 0.0012 - val_loss: 0.0072\n",
            "Epoch 17/100\n",
            "14/14 [==============================] - 3s 243ms/step - loss: 0.0012 - val_loss: 0.0042\n",
            "Epoch 18/100\n",
            "14/14 [==============================] - 3s 240ms/step - loss: 0.0012 - val_loss: 0.0073\n",
            "Epoch 19/100\n",
            "14/14 [==============================] - 3s 241ms/step - loss: 0.0012 - val_loss: 0.0040\n",
            "Epoch 20/100\n",
            "14/14 [==============================] - 3s 243ms/step - loss: 0.0011 - val_loss: 0.0034\n",
            "Epoch 21/100\n",
            "14/14 [==============================] - 3s 246ms/step - loss: 0.0010 - val_loss: 0.0043\n",
            "Epoch 22/100\n",
            "14/14 [==============================] - 3s 242ms/step - loss: 9.8385e-04 - val_loss: 0.0055\n",
            "Epoch 23/100\n",
            "14/14 [==============================] - 3s 243ms/step - loss: 0.0010 - val_loss: 0.0029\n",
            "Epoch 24/100\n",
            "14/14 [==============================] - 3s 244ms/step - loss: 9.4730e-04 - val_loss: 0.0035\n",
            "Epoch 25/100\n",
            "14/14 [==============================] - 3s 245ms/step - loss: 9.0584e-04 - val_loss: 0.0023\n",
            "Epoch 26/100\n",
            "14/14 [==============================] - 3s 243ms/step - loss: 9.4242e-04 - val_loss: 0.0045\n",
            "Epoch 27/100\n",
            "14/14 [==============================] - 3s 240ms/step - loss: 8.8664e-04 - val_loss: 0.0043\n",
            "Epoch 28/100\n",
            "14/14 [==============================] - 3s 238ms/step - loss: 8.9152e-04 - val_loss: 0.0033\n",
            "Epoch 29/100\n",
            "14/14 [==============================] - 4s 328ms/step - loss: 8.8989e-04 - val_loss: 0.0029\n",
            "Epoch 30/100\n",
            "14/14 [==============================] - 3s 244ms/step - loss: 8.6701e-04 - val_loss: 0.0028\n",
            "Epoch 31/100\n",
            "14/14 [==============================] - 3s 247ms/step - loss: 8.3164e-04 - val_loss: 0.0022\n",
            "Epoch 32/100\n",
            "14/14 [==============================] - 3s 244ms/step - loss: 8.0885e-04 - val_loss: 0.0017\n",
            "Epoch 33/100\n",
            "14/14 [==============================] - 3s 240ms/step - loss: 7.9446e-04 - val_loss: 0.0024\n",
            "Epoch 34/100\n",
            "14/14 [==============================] - 3s 241ms/step - loss: 8.6119e-04 - val_loss: 0.0050\n",
            "Epoch 35/100\n",
            "14/14 [==============================] - 3s 241ms/step - loss: 9.8310e-04 - val_loss: 0.0031\n",
            "Epoch 36/100\n",
            "14/14 [==============================] - 3s 243ms/step - loss: 8.4611e-04 - val_loss: 0.0016\n",
            "Epoch 37/100\n",
            "14/14 [==============================] - 3s 237ms/step - loss: 7.4474e-04 - val_loss: 0.0019\n",
            "Epoch 38/100\n",
            "14/14 [==============================] - 3s 239ms/step - loss: 7.2254e-04 - val_loss: 0.0017\n",
            "Epoch 39/100\n",
            "14/14 [==============================] - 3s 242ms/step - loss: 7.3170e-04 - val_loss: 0.0017\n",
            "Epoch 40/100\n",
            "14/14 [==============================] - 3s 241ms/step - loss: 6.9976e-04 - val_loss: 0.0016\n",
            "Epoch 41/100\n",
            "14/14 [==============================] - 3s 245ms/step - loss: 6.7974e-04 - val_loss: 0.0013\n",
            "Epoch 42/100\n",
            "14/14 [==============================] - 3s 244ms/step - loss: 7.0294e-04 - val_loss: 0.0014\n",
            "Epoch 43/100\n",
            "14/14 [==============================] - 3s 238ms/step - loss: 7.1387e-04 - val_loss: 0.0017\n",
            "Epoch 44/100\n",
            "14/14 [==============================] - 3s 249ms/step - loss: 6.4565e-04 - val_loss: 0.0016\n",
            "Epoch 45/100\n",
            "14/14 [==============================] - 3s 243ms/step - loss: 6.2381e-04 - val_loss: 0.0018\n",
            "Epoch 46/100\n",
            "14/14 [==============================] - 3s 238ms/step - loss: 6.6624e-04 - val_loss: 0.0018\n",
            "Epoch 47/100\n",
            "14/14 [==============================] - 3s 238ms/step - loss: 6.4740e-04 - val_loss: 0.0013\n",
            "Epoch 48/100\n",
            "14/14 [==============================] - 3s 242ms/step - loss: 6.0870e-04 - val_loss: 0.0011\n",
            "Epoch 49/100\n",
            "14/14 [==============================] - 3s 239ms/step - loss: 6.3336e-04 - val_loss: 0.0012\n",
            "Epoch 50/100\n",
            "14/14 [==============================] - 3s 241ms/step - loss: 6.0359e-04 - val_loss: 0.0015\n",
            "Epoch 51/100\n",
            "14/14 [==============================] - 3s 237ms/step - loss: 5.8283e-04 - val_loss: 0.0013\n",
            "Epoch 52/100\n",
            "14/14 [==============================] - 3s 240ms/step - loss: 5.5825e-04 - val_loss: 0.0010\n",
            "Epoch 53/100\n",
            "14/14 [==============================] - 3s 242ms/step - loss: 5.3604e-04 - val_loss: 0.0013\n",
            "Epoch 54/100\n",
            "14/14 [==============================] - 3s 242ms/step - loss: 6.0597e-04 - val_loss: 0.0015\n",
            "Epoch 55/100\n",
            "14/14 [==============================] - 3s 227ms/step - loss: 5.6398e-04 - val_loss: 9.1874e-04\n",
            "Epoch 56/100\n",
            "14/14 [==============================] - 3s 223ms/step - loss: 5.0434e-04 - val_loss: 9.6943e-04\n",
            "Epoch 57/100\n",
            "14/14 [==============================] - 3s 222ms/step - loss: 5.2825e-04 - val_loss: 8.9663e-04\n",
            "Epoch 58/100\n",
            "14/14 [==============================] - 3s 221ms/step - loss: 5.7178e-04 - val_loss: 0.0010\n",
            "Epoch 59/100\n",
            "14/14 [==============================] - 3s 224ms/step - loss: 4.9885e-04 - val_loss: 0.0013\n",
            "Epoch 60/100\n",
            "14/14 [==============================] - 3s 224ms/step - loss: 4.5882e-04 - val_loss: 8.1302e-04\n",
            "Epoch 61/100\n",
            "14/14 [==============================] - 4s 303ms/step - loss: 4.9120e-04 - val_loss: 8.0678e-04\n",
            "Epoch 62/100\n",
            "14/14 [==============================] - 3s 224ms/step - loss: 4.8356e-04 - val_loss: 0.0012\n",
            "Epoch 63/100\n",
            "14/14 [==============================] - 3s 222ms/step - loss: 5.3541e-04 - val_loss: 0.0014\n",
            "Epoch 64/100\n",
            "14/14 [==============================] - 3s 227ms/step - loss: 4.7697e-04 - val_loss: 8.3171e-04\n",
            "Epoch 65/100\n",
            "14/14 [==============================] - 3s 224ms/step - loss: 4.4137e-04 - val_loss: 8.0475e-04\n",
            "Epoch 66/100\n",
            "14/14 [==============================] - 3s 225ms/step - loss: 4.3284e-04 - val_loss: 7.5145e-04\n",
            "Epoch 67/100\n",
            "14/14 [==============================] - 3s 220ms/step - loss: 4.2053e-04 - val_loss: 7.1298e-04\n",
            "Epoch 68/100\n",
            "14/14 [==============================] - 3s 220ms/step - loss: 5.4032e-04 - val_loss: 7.2468e-04\n",
            "Epoch 69/100\n",
            "14/14 [==============================] - 3s 223ms/step - loss: 4.5438e-04 - val_loss: 8.6854e-04\n",
            "Epoch 70/100\n",
            "14/14 [==============================] - 3s 218ms/step - loss: 5.0482e-04 - val_loss: 0.0014\n",
            "Epoch 71/100\n",
            "14/14 [==============================] - 3s 226ms/step - loss: 4.2912e-04 - val_loss: 0.0013\n",
            "Epoch 72/100\n",
            "14/14 [==============================] - 3s 222ms/step - loss: 4.2893e-04 - val_loss: 0.0011\n",
            "Epoch 73/100\n",
            "14/14 [==============================] - 3s 221ms/step - loss: 4.0095e-04 - val_loss: 9.3827e-04\n",
            "Epoch 74/100\n",
            "14/14 [==============================] - 3s 221ms/step - loss: 4.1911e-04 - val_loss: 8.8453e-04\n",
            "Epoch 75/100\n",
            "14/14 [==============================] - 3s 221ms/step - loss: 4.3567e-04 - val_loss: 0.0012\n",
            "Epoch 76/100\n",
            "14/14 [==============================] - 3s 220ms/step - loss: 4.4392e-04 - val_loss: 7.5719e-04\n",
            "Epoch 77/100\n",
            "14/14 [==============================] - 3s 221ms/step - loss: 3.8730e-04 - val_loss: 8.4071e-04\n",
            "Epoch 78/100\n",
            "14/14 [==============================] - 3s 226ms/step - loss: 3.8045e-04 - val_loss: 8.9852e-04\n",
            "Epoch 79/100\n",
            "14/14 [==============================] - 3s 225ms/step - loss: 3.5243e-04 - val_loss: 7.3887e-04\n",
            "Epoch 80/100\n",
            "14/14 [==============================] - 3s 223ms/step - loss: 3.6534e-04 - val_loss: 0.0013\n",
            "Epoch 81/100\n",
            "14/14 [==============================] - 3s 223ms/step - loss: 4.0481e-04 - val_loss: 8.6472e-04\n",
            "Epoch 82/100\n",
            "14/14 [==============================] - 4s 258ms/step - loss: 3.6109e-04 - val_loss: 6.7591e-04\n",
            "Epoch 83/100\n",
            "14/14 [==============================] - 4s 238ms/step - loss: 3.9184e-04 - val_loss: 6.1722e-04\n",
            "Epoch 84/100\n",
            "14/14 [==============================] - 3s 220ms/step - loss: 3.5469e-04 - val_loss: 8.5587e-04\n",
            "Epoch 85/100\n",
            "14/14 [==============================] - 3s 223ms/step - loss: 3.3193e-04 - val_loss: 6.7418e-04\n",
            "Epoch 86/100\n",
            "14/14 [==============================] - 3s 221ms/step - loss: 3.5109e-04 - val_loss: 5.7336e-04\n",
            "Epoch 87/100\n",
            "14/14 [==============================] - 3s 223ms/step - loss: 3.5097e-04 - val_loss: 5.7599e-04\n",
            "Epoch 88/100\n",
            "14/14 [==============================] - 3s 219ms/step - loss: 3.4569e-04 - val_loss: 6.7763e-04\n",
            "Epoch 89/100\n",
            "14/14 [==============================] - 3s 221ms/step - loss: 3.3312e-04 - val_loss: 8.0517e-04\n",
            "Epoch 90/100\n",
            "14/14 [==============================] - 3s 222ms/step - loss: 3.2793e-04 - val_loss: 6.2176e-04\n",
            "Epoch 91/100\n",
            "14/14 [==============================] - 3s 222ms/step - loss: 3.1073e-04 - val_loss: 5.3721e-04\n",
            "Epoch 92/100\n",
            "14/14 [==============================] - 3s 221ms/step - loss: 3.2032e-04 - val_loss: 7.1495e-04\n",
            "Epoch 93/100\n",
            "14/14 [==============================] - 3s 227ms/step - loss: 3.3752e-04 - val_loss: 8.4238e-04\n",
            "Epoch 94/100\n",
            "14/14 [==============================] - 3s 223ms/step - loss: 3.3712e-04 - val_loss: 5.3354e-04\n",
            "Epoch 95/100\n",
            "14/14 [==============================] - 3s 222ms/step - loss: 3.5217e-04 - val_loss: 6.0000e-04\n",
            "Epoch 96/100\n",
            "14/14 [==============================] - 3s 223ms/step - loss: 3.4104e-04 - val_loss: 8.9745e-04\n",
            "Epoch 97/100\n",
            "14/14 [==============================] - 3s 226ms/step - loss: 3.2482e-04 - val_loss: 7.2735e-04\n",
            "Epoch 98/100\n",
            "14/14 [==============================] - 3s 226ms/step - loss: 3.2317e-04 - val_loss: 6.1768e-04\n",
            "Epoch 99/100\n",
            "14/14 [==============================] - 3s 227ms/step - loss: 3.0056e-04 - val_loss: 5.7816e-04\n",
            "Epoch 100/100\n",
            "14/14 [==============================] - 3s 234ms/step - loss: 3.1407e-04 - val_loss: 5.5140e-04\n"
          ]
        },
        {
          "output_type": "execute_result",
          "data": {
            "text/plain": [
              "<keras.callbacks.History at 0x7fb65b344950>"
            ]
          },
          "metadata": {},
          "execution_count": 41
        }
      ]
    },
    {
      "cell_type": "code",
      "source": [
        "import tensorflow as tf"
      ],
      "metadata": {
        "id": "g4r_OXORpjwh"
      },
      "execution_count": 42,
      "outputs": []
    },
    {
      "cell_type": "code",
      "source": [
        "### Lets Do the prediction and check performance metrics\n",
        "train_predict=model.predict(X_train)\n",
        "test_predict=model.predict(X_test)"
      ],
      "metadata": {
        "id": "Ko3Sok0cppAt"
      },
      "execution_count": 43,
      "outputs": []
    },
    {
      "cell_type": "code",
      "source": [
        "##Transformback to original form\n",
        "train_predict=scaler.inverse_transform(train_predict)\n",
        "test_predict=scaler.inverse_transform(test_predict)"
      ],
      "metadata": {
        "id": "FctGMToyptyK"
      },
      "execution_count": 44,
      "outputs": []
    },
    {
      "cell_type": "code",
      "source": [
        "### Calculate RMSE performance metrics\n",
        "import math\n",
        "from sklearn.metrics import mean_squared_error\n",
        "math.sqrt(mean_squared_error(y_train,train_predict))"
      ],
      "metadata": {
        "colab": {
          "base_uri": "https://localhost:8080/"
        },
        "id": "tC9XrEMSpzyf",
        "outputId": "04d53b2c-fef7-4db7-a8ce-0ad08ea608cc"
      },
      "execution_count": 47,
      "outputs": [
        {
          "output_type": "execute_result",
          "data": {
            "text/plain": [
              "283.96865011203323"
            ]
          },
          "metadata": {},
          "execution_count": 47
        }
      ]
    },
    {
      "cell_type": "code",
      "source": [
        ""
      ],
      "metadata": {
        "id": "Z7giqGh3zk-O"
      },
      "execution_count": null,
      "outputs": []
    },
    {
      "cell_type": "code",
      "source": [
        "### Test Data RMSE\n",
        "math.sqrt(mean_squared_error(ytest,test_predict))\n"
      ],
      "metadata": {
        "colab": {
          "base_uri": "https://localhost:8080/"
        },
        "id": "DrajMVsJp4S9",
        "outputId": "19030f5b-aea7-4870-c57f-3171de666a12"
      },
      "execution_count": 46,
      "outputs": [
        {
          "output_type": "execute_result",
          "data": {
            "text/plain": [
              "359.8793141021771"
            ]
          },
          "metadata": {},
          "execution_count": 46
        }
      ]
    },
    {
      "cell_type": "code",
      "source": [
        "### Plotting \n",
        "# shift train predictions for plotting\n",
        "look_back=100\n",
        "trainPredictPlot = numpy.empty_like(df1)\n",
        "trainPredictPlot[:, :] = np.nan\n",
        "trainPredictPlot[look_back:len(train_predict)+look_back, :] = train_predict\n",
        "# shift test predictions for plotting\n",
        "testPredictPlot = numpy.empty_like(df1)\n",
        "testPredictPlot[:, :] = numpy.nan\n",
        "testPredictPlot[len(train_predict)+(look_back*2)+1:len(df1)-1, :] = test_predict\n",
        "# plot baseline and predictions\n",
        "plt.plot(scaler.inverse_transform(df1))\n",
        "plt.plot(trainPredictPlot)\n",
        "plt.plot(testPredictPlot)\n",
        "plt.show()"
      ],
      "metadata": {
        "colab": {
          "base_uri": "https://localhost:8080/",
          "height": 265
        },
        "id": "CCIkYg1Ezm9S",
        "outputId": "24125d88-b933-42a3-9d99-2bc0905a1e36"
      },
      "execution_count": 48,
      "outputs": [
        {
          "output_type": "display_data",
          "data": {
            "image/png": "[encoded data removed]",
            "text/plain": [
              "<Figure size 432x288 with 1 Axes>"
            ]
          },
          "metadata": {
            "needs_background": "light"
          }
        }
      ]
    },
    {
      "cell_type": "code",
      "source": [
        "len(test_data)"
      ],
      "metadata": {
        "colab": {
          "base_uri": "https://localhost:8080/"
        },
        "id": "EbYV0Yt0zxHb",
        "outputId": "161187d8-c260-42a5-b1c9-ec94975389d1"
      },
      "execution_count": 49,
      "outputs": [
        {
          "output_type": "execute_result",
          "data": {
            "text/plain": [
              "529"
            ]
          },
          "metadata": {},
          "execution_count": 49
        }
      ]
    },
    {
      "cell_type": "code",
      "source": [
        "x_input=test_data[429:].reshape(1,-1)\n",
        "x_input.shape"
      ],
      "metadata": {
        "colab": {
          "base_uri": "https://localhost:8080/"
        },
        "id": "umpRXeArz3El",
        "outputId": "03d6479c-0276-4a40-f7c2-31096963c4e0"
      },
      "execution_count": 51,
      "outputs": [
        {
          "output_type": "execute_result",
          "data": {
            "text/plain": [
              "(1, 100)"
            ]
          },
          "metadata": {},
          "execution_count": 51
        }
      ]
    },
    {
      "cell_type": "code",
      "source": [
        "temp_input=list(x_input)\n",
        "temp_input=temp_input[0].tolist()"
      ],
      "metadata": {
        "id": "AUr1YnpK0KVR"
      },
      "execution_count": 52,
      "outputs": []
    },
    {
      "cell_type": "code",
      "source": [
        "temp_input"
      ],
      "metadata": {
        "colab": {
          "base_uri": "https://localhost:8080/"
        },
        "id": "McCJNRbm0PJ0",
        "outputId": "7d8f7a48-583b-4a0c-b690-b9c2a600d662"
      },
      "execution_count": 53,
      "outputs": [
        {
          "output_type": "execute_result",
          "data": {
            "text/plain": [
              "[0.7248554913294798,\n",
              " 0.7527296082209378,\n",
              " 0.8037251123956326,\n",
              " 0.7790622992935132,\n",
              " 0.7362877328195248,\n",
              " 0.7397559409120102,\n",
              " 0.7398843930635839,\n",
              " 0.7680154142581888,\n",
              " 0.7447655748233784,\n",
              " 0.7597944765574824,\n",
              " 0.7554271034039819,\n",
              " 0.7942196531791907,\n",
              " 0.7762363519588953,\n",
              " 0.7727681438664096,\n",
              " 0.8023121387283236,\n",
              " 0.8062941554271033,\n",
              " 0.7870263326910725,\n",
              " 0.7888246628131019,\n",
              " 0.7890815671162492,\n",
              " 0.8179833012202955,\n",
              " 0.8533076429030186,\n",
              " 0.8499678869621066,\n",
              " 0.8728323699421965,\n",
              " 0.8917148362235066,\n",
              " 0.8666666666666667,\n",
              " 0.8967244701348747,\n",
              " 0.9045600513808605,\n",
              " 0.9045600513808605,\n",
              " 0.9136801541425819,\n",
              " 0.9292228644829799,\n",
              " 0.946178548490687,\n",
              " 0.9004495825305074,\n",
              " 0.902504816955684,\n",
              " 0.9373153500321132,\n",
              " 0.9527296082209378,\n",
              " 0.9680154142581887,\n",
              " 0.975208734746307,\n",
              " 0.9567116249197174,\n",
              " 0.9718689788053949,\n",
              " 0.9596660244059088,\n",
              " 0.9216441875401413,\n",
              " 0.9261400128452151,\n",
              " 0.9138086062941555,\n",
              " 0.8843930635838151,\n",
              " 0.8922286448298007,\n",
              " 0.9067437379576109,\n",
              " 0.8620423892100191,\n",
              " 0.8791265253692999,\n",
              " 0.879383429672447,\n",
              " 0.8727039177906231,\n",
              " 0.8211946050096339,\n",
              " 0.8073217726396917,\n",
              " 0.7956326268464997,\n",
              " 0.8335260115606937,\n",
              " 0.8378933847141938,\n",
              " 0.8280025690430313,\n",
              " 0.8078355812459859,\n",
              " 0.8371226718047526,\n",
              " 0.8752729608220937,\n",
              " 0.8678227360308284,\n",
              " 0.8833654463712266,\n",
              " 0.8656390494540784,\n",
              " 0.8675658317276813,\n",
              " 0.857931920359666,\n",
              " 0.8485549132947976,\n",
              " 0.8142581888246627,\n",
              " 0.7664739884393064,\n",
              " 0.7582530507385998,\n",
              " 0.783558124598587,\n",
              " 0.7988439306358381,\n",
              " 0.7863840719332049,\n",
              " 0.7892100192678226,\n",
              " 0.7973025048169555,\n",
              " 0.7798330122029542,\n",
              " 0.7728965960179832,\n",
              " 0.7953757225433524,\n",
              " 0.8219653179190751,\n",
              " 0.854592164418754,\n",
              " 0.8774566473988439,\n",
              " 0.8756583172768142,\n",
              " 0.8745022479126525,\n",
              " 0.9063583815028902,\n",
              " 0.9122671804752729,\n",
              " 0.9233140655105974,\n",
              " 0.9261400128452151,\n",
              " 0.9184328837508029,\n",
              " 0.9329479768786126,\n",
              " 0.914450867052023,\n",
              " 0.93757225433526,\n",
              " 0.9262684649967885,\n",
              " 0.9039177906229929,\n",
              " 0.8819524727039176,\n",
              " 0.9346178548490687,\n",
              " 0.971355170199101,\n",
              " 0.9572254335260115,\n",
              " 0.9953757225433524,\n",
              " 0.9799614643545278,\n",
              " 0.9992292870905586,\n",
              " 1.0,\n",
              " 0.9748233782915863]"
            ]
          },
          "metadata": {},
          "execution_count": 53
        }
      ]
    },
    {
      "cell_type": "code",
      "source": [
        "# demonstrate prediction for next 30 days\n",
        "from numpy import array\n",
        "\n",
        "lst_output=[]\n",
        "n_steps=100\n",
        "i=0\n",
        "while(i<30):\n",
        "    \n",
        "    if(len(temp_input)>100):\n",
        "        #print(temp_input)\n",
        "        x_input=np.array(temp_input[1:])\n",
        "        print(\"{} day input {}\".format(i,x_input))\n",
        "        x_input=x_input.reshape(1,-1)\n",
        "        x_input = x_input.reshape((1, n_steps, 1))\n",
        "        #print(x_input)\n",
        "        yhat = model.predict(x_input, verbose=0)\n",
        "        print(\"{} day output {}\".format(i,yhat))\n",
        "        temp_input.extend(yhat[0].tolist())\n",
        "        temp_input=temp_input[1:]\n",
        "        #print(temp_input)\n",
        "        lst_output.extend(yhat.tolist())\n",
        "        i=i+1\n",
        "    else:\n",
        "        x_input = x_input.reshape((1, n_steps,1))\n",
        "        yhat = model.predict(x_input, verbose=0)\n",
        "        print(yhat[0])\n",
        "        temp_input.extend(yhat[0].tolist())\n",
        "        print(len(temp_input))\n",
        "        lst_output.extend(yhat.tolist())\n",
        "        i=i+1\n",
        "    \n",
        "\n",
        "print(lst_output)"
      ],
      "metadata": {
        "colab": {
          "base_uri": "https://localhost:8080/"
        },
        "id": "e3vrCj270TeR",
        "outputId": "b6573d35-8a1e-448a-8ef8-c2486043249e"
      },
      "execution_count": 54,
      "outputs": [
        {
          "output_type": "stream",
          "name": "stdout",
          "text": [
            "[0.95513797]\n",
            "101\n",
            "1 day input [0.75272961 0.80372511 0.7790623  0.73628773 0.73975594 0.73988439\n",
            " 0.76801541 0.74476557 0.75979448 0.7554271  0.79421965 0.77623635\n",
            " 0.77276814 0.80231214 0.80629416 0.78702633 0.78882466 0.78908157\n",
            " 0.8179833  0.85330764 0.84996789 0.87283237 0.89171484 0.86666667\n",
            " 0.89672447 0.90456005 0.90456005 0.91368015 0.92922286 0.94617855\n",
            " 0.90044958 0.90250482 0.93731535 0.95272961 0.96801541 0.97520873\n",
            " 0.95671162 0.97186898 0.95966602 0.92164419 0.92614001 0.91380861\n",
            " 0.88439306 0.89222864 0.90674374 0.86204239 0.87912653 0.87938343\n",
            " 0.87270392 0.82119461 0.80732177 0.79563263 0.83352601 0.83789338\n",
            " 0.82800257 0.80783558 0.83712267 0.87527296 0.86782274 0.88336545\n",
            " 0.86563905 0.86756583 0.85793192 0.84855491 0.81425819 0.76647399\n",
            " 0.75825305 0.78355812 0.79884393 0.78638407 0.78921002 0.7973025\n",
            " 0.77983301 0.7728966  0.79537572 0.82196532 0.85459216 0.87745665\n",
            " 0.87565832 0.87450225 0.90635838 0.91226718 0.92331407 0.92614001\n",
            " 0.91843288 0.93294798 0.91445087 0.93757225 0.92626846 0.90391779\n",
            " 0.88195247 0.93461785 0.97135517 0.95722543 0.99537572 0.97996146\n",
            " 0.99922929 1.         0.97482338 0.95513797]\n",
            "1 day output [[0.9388289]]\n",
            "2 day input [0.80372511 0.7790623  0.73628773 0.73975594 0.73988439 0.76801541\n",
            " 0.74476557 0.75979448 0.7554271  0.79421965 0.77623635 0.77276814\n",
            " 0.80231214 0.80629416 0.78702633 0.78882466 0.78908157 0.8179833\n",
            " 0.85330764 0.84996789 0.87283237 0.89171484 0.86666667 0.89672447\n",
            " 0.90456005 0.90456005 0.91368015 0.92922286 0.94617855 0.90044958\n",
            " 0.90250482 0.93731535 0.95272961 0.96801541 0.97520873 0.95671162\n",
            " 0.97186898 0.95966602 0.92164419 0.92614001 0.91380861 0.88439306\n",
            " 0.89222864 0.90674374 0.86204239 0.87912653 0.87938343 0.87270392\n",
            " 0.82119461 0.80732177 0.79563263 0.83352601 0.83789338 0.82800257\n",
            " 0.80783558 0.83712267 0.87527296 0.86782274 0.88336545 0.86563905\n",
            " 0.86756583 0.85793192 0.84855491 0.81425819 0.76647399 0.75825305\n",
            " 0.78355812 0.79884393 0.78638407 0.78921002 0.7973025  0.77983301\n",
            " 0.7728966  0.79537572 0.82196532 0.85459216 0.87745665 0.87565832\n",
            " 0.87450225 0.90635838 0.91226718 0.92331407 0.92614001 0.91843288\n",
            " 0.93294798 0.91445087 0.93757225 0.92626846 0.90391779 0.88195247\n",
            " 0.93461785 0.97135517 0.95722543 0.99537572 0.97996146 0.99922929\n",
            " 1.         0.97482338 0.95513797 0.93882889]\n",
            "2 day output [[0.9253768]]\n",
            "3 day input [0.7790623  0.73628773 0.73975594 0.73988439 0.76801541 0.74476557\n",
            " 0.75979448 0.7554271  0.79421965 0.77623635 0.77276814 0.80231214\n",
            " 0.80629416 0.78702633 0.78882466 0.78908157 0.8179833  0.85330764\n",
            " 0.84996789 0.87283237 0.89171484 0.86666667 0.89672447 0.90456005\n",
            " 0.90456005 0.91368015 0.92922286 0.94617855 0.90044958 0.90250482\n",
            " 0.93731535 0.95272961 0.96801541 0.97520873 0.95671162 0.97186898\n",
            " 0.95966602 0.92164419 0.92614001 0.91380861 0.88439306 0.89222864\n",
            " 0.90674374 0.86204239 0.87912653 0.87938343 0.87270392 0.82119461\n",
            " 0.80732177 0.79563263 0.83352601 0.83789338 0.82800257 0.80783558\n",
            " 0.83712267 0.87527296 0.86782274 0.88336545 0.86563905 0.86756583\n",
            " 0.85793192 0.84855491 0.81425819 0.76647399 0.75825305 0.78355812\n",
            " 0.79884393 0.78638407 0.78921002 0.7973025  0.77983301 0.7728966\n",
            " 0.79537572 0.82196532 0.85459216 0.87745665 0.87565832 0.87450225\n",
            " 0.90635838 0.91226718 0.92331407 0.92614001 0.91843288 0.93294798\n",
            " 0.91445087 0.93757225 0.92626846 0.90391779 0.88195247 0.93461785\n",
            " 0.97135517 0.95722543 0.99537572 0.97996146 0.99922929 1.\n",
            " 0.97482338 0.95513797 0.93882889 0.92537677]\n",
            "3 day output [[0.913919]]\n",
            "4 day input [0.73628773 0.73975594 0.73988439 0.76801541 0.74476557 0.75979448\n",
            " 0.7554271  0.79421965 0.77623635 0.77276814 0.80231214 0.80629416\n",
            " 0.78702633 0.78882466 0.78908157 0.8179833  0.85330764 0.84996789\n",
            " 0.87283237 0.89171484 0.86666667 0.89672447 0.90456005 0.90456005\n",
            " 0.91368015 0.92922286 0.94617855 0.90044958 0.90250482 0.93731535\n",
            " 0.95272961 0.96801541 0.97520873 0.95671162 0.97186898 0.95966602\n",
            " 0.92164419 0.92614001 0.91380861 0.88439306 0.89222864 0.90674374\n",
            " 0.86204239 0.87912653 0.87938343 0.87270392 0.82119461 0.80732177\n",
            " 0.79563263 0.83352601 0.83789338 0.82800257 0.80783558 0.83712267\n",
            " 0.87527296 0.86782274 0.88336545 0.86563905 0.86756583 0.85793192\n",
            " 0.84855491 0.81425819 0.76647399 0.75825305 0.78355812 0.79884393\n",
            " 0.78638407 0.78921002 0.7973025  0.77983301 0.7728966  0.79537572\n",
            " 0.82196532 0.85459216 0.87745665 0.87565832 0.87450225 0.90635838\n",
            " 0.91226718 0.92331407 0.92614001 0.91843288 0.93294798 0.91445087\n",
            " 0.93757225 0.92626846 0.90391779 0.88195247 0.93461785 0.97135517\n",
            " 0.95722543 0.99537572 0.97996146 0.99922929 1.         0.97482338\n",
            " 0.95513797 0.93882889 0.92537677 0.91391897]\n",
            "4 day output [[0.90355647]]\n",
            "5 day input [0.73975594 0.73988439 0.76801541 0.74476557 0.75979448 0.7554271\n",
            " 0.79421965 0.77623635 0.77276814 0.80231214 0.80629416 0.78702633\n",
            " 0.78882466 0.78908157 0.8179833  0.85330764 0.84996789 0.87283237\n",
            " 0.89171484 0.86666667 0.89672447 0.90456005 0.90456005 0.91368015\n",
            " 0.92922286 0.94617855 0.90044958 0.90250482 0.93731535 0.95272961\n",
            " 0.96801541 0.97520873 0.95671162 0.97186898 0.95966602 0.92164419\n",
            " 0.92614001 0.91380861 0.88439306 0.89222864 0.90674374 0.86204239\n",
            " 0.87912653 0.87938343 0.87270392 0.82119461 0.80732177 0.79563263\n",
            " 0.83352601 0.83789338 0.82800257 0.80783558 0.83712267 0.87527296\n",
            " 0.86782274 0.88336545 0.86563905 0.86756583 0.85793192 0.84855491\n",
            " 0.81425819 0.76647399 0.75825305 0.78355812 0.79884393 0.78638407\n",
            " 0.78921002 0.7973025  0.77983301 0.7728966  0.79537572 0.82196532\n",
            " 0.85459216 0.87745665 0.87565832 0.87450225 0.90635838 0.91226718\n",
            " 0.92331407 0.92614001 0.91843288 0.93294798 0.91445087 0.93757225\n",
            " 0.92626846 0.90391779 0.88195247 0.93461785 0.97135517 0.95722543\n",
            " 0.99537572 0.97996146 0.99922929 1.         0.97482338 0.95513797\n",
            " 0.93882889 0.92537677 0.91391897 0.90355647]\n",
            "5 day output [[0.8936103]]\n",
            "6 day input [0.73988439 0.76801541 0.74476557 0.75979448 0.7554271  0.79421965\n",
            " 0.77623635 0.77276814 0.80231214 0.80629416 0.78702633 0.78882466\n",
            " 0.78908157 0.8179833  0.85330764 0.84996789 0.87283237 0.89171484\n",
            " 0.86666667 0.89672447 0.90456005 0.90456005 0.91368015 0.92922286\n",
            " 0.94617855 0.90044958 0.90250482 0.93731535 0.95272961 0.96801541\n",
            " 0.97520873 0.95671162 0.97186898 0.95966602 0.92164419 0.92614001\n",
            " 0.91380861 0.88439306 0.89222864 0.90674374 0.86204239 0.87912653\n",
            " 0.87938343 0.87270392 0.82119461 0.80732177 0.79563263 0.83352601\n",
            " 0.83789338 0.82800257 0.80783558 0.83712267 0.87527296 0.86782274\n",
            " 0.88336545 0.86563905 0.86756583 0.85793192 0.84855491 0.81425819\n",
            " 0.76647399 0.75825305 0.78355812 0.79884393 0.78638407 0.78921002\n",
            " 0.7973025  0.77983301 0.7728966  0.79537572 0.82196532 0.85459216\n",
            " 0.87745665 0.87565832 0.87450225 0.90635838 0.91226718 0.92331407\n",
            " 0.92614001 0.91843288 0.93294798 0.91445087 0.93757225 0.92626846\n",
            " 0.90391779 0.88195247 0.93461785 0.97135517 0.95722543 0.99537572\n",
            " 0.97996146 0.99922929 1.         0.97482338 0.95513797 0.93882889\n",
            " 0.92537677 0.91391897 0.90355647 0.8936103 ]\n",
            "6 day output [[0.8836695]]\n",
            "7 day input [0.76801541 0.74476557 0.75979448 0.7554271  0.79421965 0.77623635\n",
            " 0.77276814 0.80231214 0.80629416 0.78702633 0.78882466 0.78908157\n",
            " 0.8179833  0.85330764 0.84996789 0.87283237 0.89171484 0.86666667\n",
            " 0.89672447 0.90456005 0.90456005 0.91368015 0.92922286 0.94617855\n",
            " 0.90044958 0.90250482 0.93731535 0.95272961 0.96801541 0.97520873\n",
            " 0.95671162 0.97186898 0.95966602 0.92164419 0.92614001 0.91380861\n",
            " 0.88439306 0.89222864 0.90674374 0.86204239 0.87912653 0.87938343\n",
            " 0.87270392 0.82119461 0.80732177 0.79563263 0.83352601 0.83789338\n",
            " 0.82800257 0.80783558 0.83712267 0.87527296 0.86782274 0.88336545\n",
            " 0.86563905 0.86756583 0.85793192 0.84855491 0.81425819 0.76647399\n",
            " 0.75825305 0.78355812 0.79884393 0.78638407 0.78921002 0.7973025\n",
            " 0.77983301 0.7728966  0.79537572 0.82196532 0.85459216 0.87745665\n",
            " 0.87565832 0.87450225 0.90635838 0.91226718 0.92331407 0.92614001\n",
            " 0.91843288 0.93294798 0.91445087 0.93757225 0.92626846 0.90391779\n",
            " 0.88195247 0.93461785 0.97135517 0.95722543 0.99537572 0.97996146\n",
            " 0.99922929 1.         0.97482338 0.95513797 0.93882889 0.92537677\n",
            " 0.91391897 0.90355647 0.8936103  0.8836695 ]\n",
            "7 day output [[0.8735537]]\n",
            "8 day input [0.74476557 0.75979448 0.7554271  0.79421965 0.77623635 0.77276814\n",
            " 0.80231214 0.80629416 0.78702633 0.78882466 0.78908157 0.8179833\n",
            " 0.85330764 0.84996789 0.87283237 0.89171484 0.86666667 0.89672447\n",
            " 0.90456005 0.90456005 0.91368015 0.92922286 0.94617855 0.90044958\n",
            " 0.90250482 0.93731535 0.95272961 0.96801541 0.97520873 0.95671162\n",
            " 0.97186898 0.95966602 0.92164419 0.92614001 0.91380861 0.88439306\n",
            " 0.89222864 0.90674374 0.86204239 0.87912653 0.87938343 0.87270392\n",
            " 0.82119461 0.80732177 0.79563263 0.83352601 0.83789338 0.82800257\n",
            " 0.80783558 0.83712267 0.87527296 0.86782274 0.88336545 0.86563905\n",
            " 0.86756583 0.85793192 0.84855491 0.81425819 0.76647399 0.75825305\n",
            " 0.78355812 0.79884393 0.78638407 0.78921002 0.7973025  0.77983301\n",
            " 0.7728966  0.79537572 0.82196532 0.85459216 0.87745665 0.87565832\n",
            " 0.87450225 0.90635838 0.91226718 0.92331407 0.92614001 0.91843288\n",
            " 0.93294798 0.91445087 0.93757225 0.92626846 0.90391779 0.88195247\n",
            " 0.93461785 0.97135517 0.95722543 0.99537572 0.97996146 0.99922929\n",
            " 1.         0.97482338 0.95513797 0.93882889 0.92537677 0.91391897\n",
            " 0.90355647 0.8936103  0.8836695  0.87355369]\n",
            "8 day output [[0.8632431]]\n",
            "9 day input [0.75979448 0.7554271  0.79421965 0.77623635 0.77276814 0.80231214\n",
            " 0.80629416 0.78702633 0.78882466 0.78908157 0.8179833  0.85330764\n",
            " 0.84996789 0.87283237 0.89171484 0.86666667 0.89672447 0.90456005\n",
            " 0.90456005 0.91368015 0.92922286 0.94617855 0.90044958 0.90250482\n",
            " 0.93731535 0.95272961 0.96801541 0.97520873 0.95671162 0.97186898\n",
            " 0.95966602 0.92164419 0.92614001 0.91380861 0.88439306 0.89222864\n",
            " 0.90674374 0.86204239 0.87912653 0.87938343 0.87270392 0.82119461\n",
            " 0.80732177 0.79563263 0.83352601 0.83789338 0.82800257 0.80783558\n",
            " 0.83712267 0.87527296 0.86782274 0.88336545 0.86563905 0.86756583\n",
            " 0.85793192 0.84855491 0.81425819 0.76647399 0.75825305 0.78355812\n",
            " 0.79884393 0.78638407 0.78921002 0.7973025  0.77983301 0.7728966\n",
            " 0.79537572 0.82196532 0.85459216 0.87745665 0.87565832 0.87450225\n",
            " 0.90635838 0.91226718 0.92331407 0.92614001 0.91843288 0.93294798\n",
            " 0.91445087 0.93757225 0.92626846 0.90391779 0.88195247 0.93461785\n",
            " 0.97135517 0.95722543 0.99537572 0.97996146 0.99922929 1.\n",
            " 0.97482338 0.95513797 0.93882889 0.92537677 0.91391897 0.90355647\n",
            " 0.8936103  0.8836695  0.87355369 0.8632431 ]\n",
            "9 day output [[0.85281265]]\n",
            "10 day input [0.7554271  0.79421965 0.77623635 0.77276814 0.80231214 0.80629416\n",
            " 0.78702633 0.78882466 0.78908157 0.8179833  0.85330764 0.84996789\n",
            " 0.87283237 0.89171484 0.86666667 0.89672447 0.90456005 0.90456005\n",
            " 0.91368015 0.92922286 0.94617855 0.90044958 0.90250482 0.93731535\n",
            " 0.95272961 0.96801541 0.97520873 0.95671162 0.97186898 0.95966602\n",
            " 0.92164419 0.92614001 0.91380861 0.88439306 0.89222864 0.90674374\n",
            " 0.86204239 0.87912653 0.87938343 0.87270392 0.82119461 0.80732177\n",
            " 0.79563263 0.83352601 0.83789338 0.82800257 0.80783558 0.83712267\n",
            " 0.87527296 0.86782274 0.88336545 0.86563905 0.86756583 0.85793192\n",
            " 0.84855491 0.81425819 0.76647399 0.75825305 0.78355812 0.79884393\n",
            " 0.78638407 0.78921002 0.7973025  0.77983301 0.7728966  0.79537572\n",
            " 0.82196532 0.85459216 0.87745665 0.87565832 0.87450225 0.90635838\n",
            " 0.91226718 0.92331407 0.92614001 0.91843288 0.93294798 0.91445087\n",
            " 0.93757225 0.92626846 0.90391779 0.88195247 0.93461785 0.97135517\n",
            " 0.95722543 0.99537572 0.97996146 0.99922929 1.         0.97482338\n",
            " 0.95513797 0.93882889 0.92537677 0.91391897 0.90355647 0.8936103\n",
            " 0.8836695  0.87355369 0.8632431  0.85281265]\n",
            "10 day output [[0.84237784]]\n",
            "11 day input [0.79421965 0.77623635 0.77276814 0.80231214 0.80629416 0.78702633\n",
            " 0.78882466 0.78908157 0.8179833  0.85330764 0.84996789 0.87283237\n",
            " 0.89171484 0.86666667 0.89672447 0.90456005 0.90456005 0.91368015\n",
            " 0.92922286 0.94617855 0.90044958 0.90250482 0.93731535 0.95272961\n",
            " 0.96801541 0.97520873 0.95671162 0.97186898 0.95966602 0.92164419\n",
            " 0.92614001 0.91380861 0.88439306 0.89222864 0.90674374 0.86204239\n",
            " 0.87912653 0.87938343 0.87270392 0.82119461 0.80732177 0.79563263\n",
            " 0.83352601 0.83789338 0.82800257 0.80783558 0.83712267 0.87527296\n",
            " 0.86782274 0.88336545 0.86563905 0.86756583 0.85793192 0.84855491\n",
            " 0.81425819 0.76647399 0.75825305 0.78355812 0.79884393 0.78638407\n",
            " 0.78921002 0.7973025  0.77983301 0.7728966  0.79537572 0.82196532\n",
            " 0.85459216 0.87745665 0.87565832 0.87450225 0.90635838 0.91226718\n",
            " 0.92331407 0.92614001 0.91843288 0.93294798 0.91445087 0.93757225\n",
            " 0.92626846 0.90391779 0.88195247 0.93461785 0.97135517 0.95722543\n",
            " 0.99537572 0.97996146 0.99922929 1.         0.97482338 0.95513797\n",
            " 0.93882889 0.92537677 0.91391897 0.90355647 0.8936103  0.8836695\n",
            " 0.87355369 0.8632431  0.85281265 0.84237784]\n",
            "11 day output [[0.8320602]]\n",
            "12 day input [0.77623635 0.77276814 0.80231214 0.80629416 0.78702633 0.78882466\n",
            " 0.78908157 0.8179833  0.85330764 0.84996789 0.87283237 0.89171484\n",
            " 0.86666667 0.89672447 0.90456005 0.90456005 0.91368015 0.92922286\n",
            " 0.94617855 0.90044958 0.90250482 0.93731535 0.95272961 0.96801541\n",
            " 0.97520873 0.95671162 0.97186898 0.95966602 0.92164419 0.92614001\n",
            " 0.91380861 0.88439306 0.89222864 0.90674374 0.86204239 0.87912653\n",
            " 0.87938343 0.87270392 0.82119461 0.80732177 0.79563263 0.83352601\n",
            " 0.83789338 0.82800257 0.80783558 0.83712267 0.87527296 0.86782274\n",
            " 0.88336545 0.86563905 0.86756583 0.85793192 0.84855491 0.81425819\n",
            " 0.76647399 0.75825305 0.78355812 0.79884393 0.78638407 0.78921002\n",
            " 0.7973025  0.77983301 0.7728966  0.79537572 0.82196532 0.85459216\n",
            " 0.87745665 0.87565832 0.87450225 0.90635838 0.91226718 0.92331407\n",
            " 0.92614001 0.91843288 0.93294798 0.91445087 0.93757225 0.92626846\n",
            " 0.90391779 0.88195247 0.93461785 0.97135517 0.95722543 0.99537572\n",
            " 0.97996146 0.99922929 1.         0.97482338 0.95513797 0.93882889\n",
            " 0.92537677 0.91391897 0.90355647 0.8936103  0.8836695  0.87355369\n",
            " 0.8632431  0.85281265 0.84237784 0.83206022]\n",
            "12 day output [[0.8219627]]\n",
            "13 day input [0.77276814 0.80231214 0.80629416 0.78702633 0.78882466 0.78908157\n",
            " 0.8179833  0.85330764 0.84996789 0.87283237 0.89171484 0.86666667\n",
            " 0.89672447 0.90456005 0.90456005 0.91368015 0.92922286 0.94617855\n",
            " 0.90044958 0.90250482 0.93731535 0.95272961 0.96801541 0.97520873\n",
            " 0.95671162 0.97186898 0.95966602 0.92164419 0.92614001 0.91380861\n",
            " 0.88439306 0.89222864 0.90674374 0.86204239 0.87912653 0.87938343\n",
            " 0.87270392 0.82119461 0.80732177 0.79563263 0.83352601 0.83789338\n",
            " 0.82800257 0.80783558 0.83712267 0.87527296 0.86782274 0.88336545\n",
            " 0.86563905 0.86756583 0.85793192 0.84855491 0.81425819 0.76647399\n",
            " 0.75825305 0.78355812 0.79884393 0.78638407 0.78921002 0.7973025\n",
            " 0.77983301 0.7728966  0.79537572 0.82196532 0.85459216 0.87745665\n",
            " 0.87565832 0.87450225 0.90635838 0.91226718 0.92331407 0.92614001\n",
            " 0.91843288 0.93294798 0.91445087 0.93757225 0.92626846 0.90391779\n",
            " 0.88195247 0.93461785 0.97135517 0.95722543 0.99537572 0.97996146\n",
            " 0.99922929 1.         0.97482338 0.95513797 0.93882889 0.92537677\n",
            " 0.91391897 0.90355647 0.8936103  0.8836695  0.87355369 0.8632431\n",
            " 0.85281265 0.84237784 0.83206022 0.82196271]\n",
            "13 day output [[0.81216246]]\n",
            "14 day input [0.80231214 0.80629416 0.78702633 0.78882466 0.78908157 0.8179833\n",
            " 0.85330764 0.84996789 0.87283237 0.89171484 0.86666667 0.89672447\n",
            " 0.90456005 0.90456005 0.91368015 0.92922286 0.94617855 0.90044958\n",
            " 0.90250482 0.93731535 0.95272961 0.96801541 0.97520873 0.95671162\n",
            " 0.97186898 0.95966602 0.92164419 0.92614001 0.91380861 0.88439306\n",
            " 0.89222864 0.90674374 0.86204239 0.87912653 0.87938343 0.87270392\n",
            " 0.82119461 0.80732177 0.79563263 0.83352601 0.83789338 0.82800257\n",
            " 0.80783558 0.83712267 0.87527296 0.86782274 0.88336545 0.86563905\n",
            " 0.86756583 0.85793192 0.84855491 0.81425819 0.76647399 0.75825305\n",
            " 0.78355812 0.79884393 0.78638407 0.78921002 0.7973025  0.77983301\n",
            " 0.7728966  0.79537572 0.82196532 0.85459216 0.87745665 0.87565832\n",
            " 0.87450225 0.90635838 0.91226718 0.92331407 0.92614001 0.91843288\n",
            " 0.93294798 0.91445087 0.93757225 0.92626846 0.90391779 0.88195247\n",
            " 0.93461785 0.97135517 0.95722543 0.99537572 0.97996146 0.99922929\n",
            " 1.         0.97482338 0.95513797 0.93882889 0.92537677 0.91391897\n",
            " 0.90355647 0.8936103  0.8836695  0.87355369 0.8632431  0.85281265\n",
            " 0.84237784 0.83206022 0.82196271 0.81216246]\n",
            "14 day output [[0.80270797]]\n",
            "15 day input [0.80629416 0.78702633 0.78882466 0.78908157 0.8179833  0.85330764\n",
            " 0.84996789 0.87283237 0.89171484 0.86666667 0.89672447 0.90456005\n",
            " 0.90456005 0.91368015 0.92922286 0.94617855 0.90044958 0.90250482\n",
            " 0.93731535 0.95272961 0.96801541 0.97520873 0.95671162 0.97186898\n",
            " 0.95966602 0.92164419 0.92614001 0.91380861 0.88439306 0.89222864\n",
            " 0.90674374 0.86204239 0.87912653 0.87938343 0.87270392 0.82119461\n",
            " 0.80732177 0.79563263 0.83352601 0.83789338 0.82800257 0.80783558\n",
            " 0.83712267 0.87527296 0.86782274 0.88336545 0.86563905 0.86756583\n",
            " 0.85793192 0.84855491 0.81425819 0.76647399 0.75825305 0.78355812\n",
            " 0.79884393 0.78638407 0.78921002 0.7973025  0.77983301 0.7728966\n",
            " 0.79537572 0.82196532 0.85459216 0.87745665 0.87565832 0.87450225\n",
            " 0.90635838 0.91226718 0.92331407 0.92614001 0.91843288 0.93294798\n",
            " 0.91445087 0.93757225 0.92626846 0.90391779 0.88195247 0.93461785\n",
            " 0.97135517 0.95722543 0.99537572 0.97996146 0.99922929 1.\n",
            " 0.97482338 0.95513797 0.93882889 0.92537677 0.91391897 0.90355647\n",
            " 0.8936103  0.8836695  0.87355369 0.8632431  0.85281265 0.84237784\n",
            " 0.83206022 0.82196271 0.81216246 0.80270797]\n",
            "15 day output [[0.7936216]]\n",
            "16 day input [0.78702633 0.78882466 0.78908157 0.8179833  0.85330764 0.84996789\n",
            " 0.87283237 0.89171484 0.86666667 0.89672447 0.90456005 0.90456005\n",
            " 0.91368015 0.92922286 0.94617855 0.90044958 0.90250482 0.93731535\n",
            " 0.95272961 0.96801541 0.97520873 0.95671162 0.97186898 0.95966602\n",
            " 0.92164419 0.92614001 0.91380861 0.88439306 0.89222864 0.90674374\n",
            " 0.86204239 0.87912653 0.87938343 0.87270392 0.82119461 0.80732177\n",
            " 0.79563263 0.83352601 0.83789338 0.82800257 0.80783558 0.83712267\n",
            " 0.87527296 0.86782274 0.88336545 0.86563905 0.86756583 0.85793192\n",
            " 0.84855491 0.81425819 0.76647399 0.75825305 0.78355812 0.79884393\n",
            " 0.78638407 0.78921002 0.7973025  0.77983301 0.7728966  0.79537572\n",
            " 0.82196532 0.85459216 0.87745665 0.87565832 0.87450225 0.90635838\n",
            " 0.91226718 0.92331407 0.92614001 0.91843288 0.93294798 0.91445087\n",
            " 0.93757225 0.92626846 0.90391779 0.88195247 0.93461785 0.97135517\n",
            " 0.95722543 0.99537572 0.97996146 0.99922929 1.         0.97482338\n",
            " 0.95513797 0.93882889 0.92537677 0.91391897 0.90355647 0.8936103\n",
            " 0.8836695  0.87355369 0.8632431  0.85281265 0.84237784 0.83206022\n",
            " 0.82196271 0.81216246 0.80270797 0.7936216 ]\n",
            "16 day output [[0.784907]]\n",
            "17 day input [0.78882466 0.78908157 0.8179833  0.85330764 0.84996789 0.87283237\n",
            " 0.89171484 0.86666667 0.89672447 0.90456005 0.90456005 0.91368015\n",
            " 0.92922286 0.94617855 0.90044958 0.90250482 0.93731535 0.95272961\n",
            " 0.96801541 0.97520873 0.95671162 0.97186898 0.95966602 0.92164419\n",
            " 0.92614001 0.91380861 0.88439306 0.89222864 0.90674374 0.86204239\n",
            " 0.87912653 0.87938343 0.87270392 0.82119461 0.80732177 0.79563263\n",
            " 0.83352601 0.83789338 0.82800257 0.80783558 0.83712267 0.87527296\n",
            " 0.86782274 0.88336545 0.86563905 0.86756583 0.85793192 0.84855491\n",
            " 0.81425819 0.76647399 0.75825305 0.78355812 0.79884393 0.78638407\n",
            " 0.78921002 0.7973025  0.77983301 0.7728966  0.79537572 0.82196532\n",
            " 0.85459216 0.87745665 0.87565832 0.87450225 0.90635838 0.91226718\n",
            " 0.92331407 0.92614001 0.91843288 0.93294798 0.91445087 0.93757225\n",
            " 0.92626846 0.90391779 0.88195247 0.93461785 0.97135517 0.95722543\n",
            " 0.99537572 0.97996146 0.99922929 1.         0.97482338 0.95513797\n",
            " 0.93882889 0.92537677 0.91391897 0.90355647 0.8936103  0.8836695\n",
            " 0.87355369 0.8632431  0.85281265 0.84237784 0.83206022 0.82196271\n",
            " 0.81216246 0.80270797 0.7936216  0.78490698]\n",
            "17 day output [[0.7765542]]\n",
            "18 day input [0.78908157 0.8179833  0.85330764 0.84996789 0.87283237 0.89171484\n",
            " 0.86666667 0.89672447 0.90456005 0.90456005 0.91368015 0.92922286\n",
            " 0.94617855 0.90044958 0.90250482 0.93731535 0.95272961 0.96801541\n",
            " 0.97520873 0.95671162 0.97186898 0.95966602 0.92164419 0.92614001\n",
            " 0.91380861 0.88439306 0.89222864 0.90674374 0.86204239 0.87912653\n",
            " 0.87938343 0.87270392 0.82119461 0.80732177 0.79563263 0.83352601\n",
            " 0.83789338 0.82800257 0.80783558 0.83712267 0.87527296 0.86782274\n",
            " 0.88336545 0.86563905 0.86756583 0.85793192 0.84855491 0.81425819\n",
            " 0.76647399 0.75825305 0.78355812 0.79884393 0.78638407 0.78921002\n",
            " 0.7973025  0.77983301 0.7728966  0.79537572 0.82196532 0.85459216\n",
            " 0.87745665 0.87565832 0.87450225 0.90635838 0.91226718 0.92331407\n",
            " 0.92614001 0.91843288 0.93294798 0.91445087 0.93757225 0.92626846\n",
            " 0.90391779 0.88195247 0.93461785 0.97135517 0.95722543 0.99537572\n",
            " 0.97996146 0.99922929 1.         0.97482338 0.95513797 0.93882889\n",
            " 0.92537677 0.91391897 0.90355647 0.8936103  0.8836695  0.87355369\n",
            " 0.8632431  0.85281265 0.84237784 0.83206022 0.82196271 0.81216246\n",
            " 0.80270797 0.7936216  0.78490698 0.77655423]\n",
            "18 day output [[0.76854557]]\n",
            "19 day input [0.8179833  0.85330764 0.84996789 0.87283237 0.89171484 0.86666667\n",
            " 0.89672447 0.90456005 0.90456005 0.91368015 0.92922286 0.94617855\n",
            " 0.90044958 0.90250482 0.93731535 0.95272961 0.96801541 0.97520873\n",
            " 0.95671162 0.97186898 0.95966602 0.92164419 0.92614001 0.91380861\n",
            " 0.88439306 0.89222864 0.90674374 0.86204239 0.87912653 0.87938343\n",
            " 0.87270392 0.82119461 0.80732177 0.79563263 0.83352601 0.83789338\n",
            " 0.82800257 0.80783558 0.83712267 0.87527296 0.86782274 0.88336545\n",
            " 0.86563905 0.86756583 0.85793192 0.84855491 0.81425819 0.76647399\n",
            " 0.75825305 0.78355812 0.79884393 0.78638407 0.78921002 0.7973025\n",
            " 0.77983301 0.7728966  0.79537572 0.82196532 0.85459216 0.87745665\n",
            " 0.87565832 0.87450225 0.90635838 0.91226718 0.92331407 0.92614001\n",
            " 0.91843288 0.93294798 0.91445087 0.93757225 0.92626846 0.90391779\n",
            " 0.88195247 0.93461785 0.97135517 0.95722543 0.99537572 0.97996146\n",
            " 0.99922929 1.         0.97482338 0.95513797 0.93882889 0.92537677\n",
            " 0.91391897 0.90355647 0.8936103  0.8836695  0.87355369 0.8632431\n",
            " 0.85281265 0.84237784 0.83206022 0.82196271 0.81216246 0.80270797\n",
            " 0.7936216  0.78490698 0.77655423 0.76854557]\n",
            "19 day output [[0.760859]]\n",
            "20 day input [0.85330764 0.84996789 0.87283237 0.89171484 0.86666667 0.89672447\n",
            " 0.90456005 0.90456005 0.91368015 0.92922286 0.94617855 0.90044958\n",
            " 0.90250482 0.93731535 0.95272961 0.96801541 0.97520873 0.95671162\n",
            " 0.97186898 0.95966602 0.92164419 0.92614001 0.91380861 0.88439306\n",
            " 0.89222864 0.90674374 0.86204239 0.87912653 0.87938343 0.87270392\n",
            " 0.82119461 0.80732177 0.79563263 0.83352601 0.83789338 0.82800257\n",
            " 0.80783558 0.83712267 0.87527296 0.86782274 0.88336545 0.86563905\n",
            " 0.86756583 0.85793192 0.84855491 0.81425819 0.76647399 0.75825305\n",
            " 0.78355812 0.79884393 0.78638407 0.78921002 0.7973025  0.77983301\n",
            " 0.7728966  0.79537572 0.82196532 0.85459216 0.87745665 0.87565832\n",
            " 0.87450225 0.90635838 0.91226718 0.92331407 0.92614001 0.91843288\n",
            " 0.93294798 0.91445087 0.93757225 0.92626846 0.90391779 0.88195247\n",
            " 0.93461785 0.97135517 0.95722543 0.99537572 0.97996146 0.99922929\n",
            " 1.         0.97482338 0.95513797 0.93882889 0.92537677 0.91391897\n",
            " 0.90355647 0.8936103  0.8836695  0.87355369 0.8632431  0.85281265\n",
            " 0.84237784 0.83206022 0.82196271 0.81216246 0.80270797 0.7936216\n",
            " 0.78490698 0.77655423 0.76854557 0.76085901]\n",
            "20 day output [[0.75347215]]\n",
            "21 day input [0.84996789 0.87283237 0.89171484 0.86666667 0.89672447 0.90456005\n",
            " 0.90456005 0.91368015 0.92922286 0.94617855 0.90044958 0.90250482\n",
            " 0.93731535 0.95272961 0.96801541 0.97520873 0.95671162 0.97186898\n",
            " 0.95966602 0.92164419 0.92614001 0.91380861 0.88439306 0.89222864\n",
            " 0.90674374 0.86204239 0.87912653 0.87938343 0.87270392 0.82119461\n",
            " 0.80732177 0.79563263 0.83352601 0.83789338 0.82800257 0.80783558\n",
            " 0.83712267 0.87527296 0.86782274 0.88336545 0.86563905 0.86756583\n",
            " 0.85793192 0.84855491 0.81425819 0.76647399 0.75825305 0.78355812\n",
            " 0.79884393 0.78638407 0.78921002 0.7973025  0.77983301 0.7728966\n",
            " 0.79537572 0.82196532 0.85459216 0.87745665 0.87565832 0.87450225\n",
            " 0.90635838 0.91226718 0.92331407 0.92614001 0.91843288 0.93294798\n",
            " 0.91445087 0.93757225 0.92626846 0.90391779 0.88195247 0.93461785\n",
            " 0.97135517 0.95722543 0.99537572 0.97996146 0.99922929 1.\n",
            " 0.97482338 0.95513797 0.93882889 0.92537677 0.91391897 0.90355647\n",
            " 0.8936103  0.8836695  0.87355369 0.8632431  0.85281265 0.84237784\n",
            " 0.83206022 0.82196271 0.81216246 0.80270797 0.7936216  0.78490698\n",
            " 0.77655423 0.76854557 0.76085901 0.75347215]\n",
            "21 day output [[0.7463624]]\n",
            "22 day input [0.87283237 0.89171484 0.86666667 0.89672447 0.90456005 0.90456005\n",
            " 0.91368015 0.92922286 0.94617855 0.90044958 0.90250482 0.93731535\n",
            " 0.95272961 0.96801541 0.97520873 0.95671162 0.97186898 0.95966602\n",
            " 0.92164419 0.92614001 0.91380861 0.88439306 0.89222864 0.90674374\n",
            " 0.86204239 0.87912653 0.87938343 0.87270392 0.82119461 0.80732177\n",
            " 0.79563263 0.83352601 0.83789338 0.82800257 0.80783558 0.83712267\n",
            " 0.87527296 0.86782274 0.88336545 0.86563905 0.86756583 0.85793192\n",
            " 0.84855491 0.81425819 0.76647399 0.75825305 0.78355812 0.79884393\n",
            " 0.78638407 0.78921002 0.7973025  0.77983301 0.7728966  0.79537572\n",
            " 0.82196532 0.85459216 0.87745665 0.87565832 0.87450225 0.90635838\n",
            " 0.91226718 0.92331407 0.92614001 0.91843288 0.93294798 0.91445087\n",
            " 0.93757225 0.92626846 0.90391779 0.88195247 0.93461785 0.97135517\n",
            " 0.95722543 0.99537572 0.97996146 0.99922929 1.         0.97482338\n",
            " 0.95513797 0.93882889 0.92537677 0.91391897 0.90355647 0.8936103\n",
            " 0.8836695  0.87355369 0.8632431  0.85281265 0.84237784 0.83206022\n",
            " 0.82196271 0.81216246 0.80270797 0.7936216  0.78490698 0.77655423\n",
            " 0.76854557 0.76085901 0.75347215 0.74636239]\n",
            "22 day output [[0.73950917]]\n",
            "23 day input [0.89171484 0.86666667 0.89672447 0.90456005 0.90456005 0.91368015\n",
            " 0.92922286 0.94617855 0.90044958 0.90250482 0.93731535 0.95272961\n",
            " 0.96801541 0.97520873 0.95671162 0.97186898 0.95966602 0.92164419\n",
            " 0.92614001 0.91380861 0.88439306 0.89222864 0.90674374 0.86204239\n",
            " 0.87912653 0.87938343 0.87270392 0.82119461 0.80732177 0.79563263\n",
            " 0.83352601 0.83789338 0.82800257 0.80783558 0.83712267 0.87527296\n",
            " 0.86782274 0.88336545 0.86563905 0.86756583 0.85793192 0.84855491\n",
            " 0.81425819 0.76647399 0.75825305 0.78355812 0.79884393 0.78638407\n",
            " 0.78921002 0.7973025  0.77983301 0.7728966  0.79537572 0.82196532\n",
            " 0.85459216 0.87745665 0.87565832 0.87450225 0.90635838 0.91226718\n",
            " 0.92331407 0.92614001 0.91843288 0.93294798 0.91445087 0.93757225\n",
            " 0.92626846 0.90391779 0.88195247 0.93461785 0.97135517 0.95722543\n",
            " 0.99537572 0.97996146 0.99922929 1.         0.97482338 0.95513797\n",
            " 0.93882889 0.92537677 0.91391897 0.90355647 0.8936103  0.8836695\n",
            " 0.87355369 0.8632431  0.85281265 0.84237784 0.83206022 0.82196271\n",
            " 0.81216246 0.80270797 0.7936216  0.78490698 0.77655423 0.76854557\n",
            " 0.76085901 0.75347215 0.74636239 0.73950917]\n",
            "23 day output [[0.73289305]]\n",
            "24 day input [0.86666667 0.89672447 0.90456005 0.90456005 0.91368015 0.92922286\n",
            " 0.94617855 0.90044958 0.90250482 0.93731535 0.95272961 0.96801541\n",
            " 0.97520873 0.95671162 0.97186898 0.95966602 0.92164419 0.92614001\n",
            " 0.91380861 0.88439306 0.89222864 0.90674374 0.86204239 0.87912653\n",
            " 0.87938343 0.87270392 0.82119461 0.80732177 0.79563263 0.83352601\n",
            " 0.83789338 0.82800257 0.80783558 0.83712267 0.87527296 0.86782274\n",
            " 0.88336545 0.86563905 0.86756583 0.85793192 0.84855491 0.81425819\n",
            " 0.76647399 0.75825305 0.78355812 0.79884393 0.78638407 0.78921002\n",
            " 0.7973025  0.77983301 0.7728966  0.79537572 0.82196532 0.85459216\n",
            " 0.87745665 0.87565832 0.87450225 0.90635838 0.91226718 0.92331407\n",
            " 0.92614001 0.91843288 0.93294798 0.91445087 0.93757225 0.92626846\n",
            " 0.90391779 0.88195247 0.93461785 0.97135517 0.95722543 0.99537572\n",
            " 0.97996146 0.99922929 1.         0.97482338 0.95513797 0.93882889\n",
            " 0.92537677 0.91391897 0.90355647 0.8936103  0.8836695  0.87355369\n",
            " 0.8632431  0.85281265 0.84237784 0.83206022 0.82196271 0.81216246\n",
            " 0.80270797 0.7936216  0.78490698 0.77655423 0.76854557 0.76085901\n",
            " 0.75347215 0.74636239 0.73950917 0.73289305]\n",
            "24 day output [[0.72649515]]\n",
            "25 day input [0.89672447 0.90456005 0.90456005 0.91368015 0.92922286 0.94617855\n",
            " 0.90044958 0.90250482 0.93731535 0.95272961 0.96801541 0.97520873\n",
            " 0.95671162 0.97186898 0.95966602 0.92164419 0.92614001 0.91380861\n",
            " 0.88439306 0.89222864 0.90674374 0.86204239 0.87912653 0.87938343\n",
            " 0.87270392 0.82119461 0.80732177 0.79563263 0.83352601 0.83789338\n",
            " 0.82800257 0.80783558 0.83712267 0.87527296 0.86782274 0.88336545\n",
            " 0.86563905 0.86756583 0.85793192 0.84855491 0.81425819 0.76647399\n",
            " 0.75825305 0.78355812 0.79884393 0.78638407 0.78921002 0.7973025\n",
            " 0.77983301 0.7728966  0.79537572 0.82196532 0.85459216 0.87745665\n",
            " 0.87565832 0.87450225 0.90635838 0.91226718 0.92331407 0.92614001\n",
            " 0.91843288 0.93294798 0.91445087 0.93757225 0.92626846 0.90391779\n",
            " 0.88195247 0.93461785 0.97135517 0.95722543 0.99537572 0.97996146\n",
            " 0.99922929 1.         0.97482338 0.95513797 0.93882889 0.92537677\n",
            " 0.91391897 0.90355647 0.8936103  0.8836695  0.87355369 0.8632431\n",
            " 0.85281265 0.84237784 0.83206022 0.82196271 0.81216246 0.80270797\n",
            " 0.7936216  0.78490698 0.77655423 0.76854557 0.76085901 0.75347215\n",
            " 0.74636239 0.73950917 0.73289305 0.72649515]\n",
            "25 day output [[0.7202978]]\n",
            "26 day input [0.90456005 0.90456005 0.91368015 0.92922286 0.94617855 0.90044958\n",
            " 0.90250482 0.93731535 0.95272961 0.96801541 0.97520873 0.95671162\n",
            " 0.97186898 0.95966602 0.92164419 0.92614001 0.91380861 0.88439306\n",
            " 0.89222864 0.90674374 0.86204239 0.87912653 0.87938343 0.87270392\n",
            " 0.82119461 0.80732177 0.79563263 0.83352601 0.83789338 0.82800257\n",
            " 0.80783558 0.83712267 0.87527296 0.86782274 0.88336545 0.86563905\n",
            " 0.86756583 0.85793192 0.84855491 0.81425819 0.76647399 0.75825305\n",
            " 0.78355812 0.79884393 0.78638407 0.78921002 0.7973025  0.77983301\n",
            " 0.7728966  0.79537572 0.82196532 0.85459216 0.87745665 0.87565832\n",
            " 0.87450225 0.90635838 0.91226718 0.92331407 0.92614001 0.91843288\n",
            " 0.93294798 0.91445087 0.93757225 0.92626846 0.90391779 0.88195247\n",
            " 0.93461785 0.97135517 0.95722543 0.99537572 0.97996146 0.99922929\n",
            " 1.         0.97482338 0.95513797 0.93882889 0.92537677 0.91391897\n",
            " 0.90355647 0.8936103  0.8836695  0.87355369 0.8632431  0.85281265\n",
            " 0.84237784 0.83206022 0.82196271 0.81216246 0.80270797 0.7936216\n",
            " 0.78490698 0.77655423 0.76854557 0.76085901 0.75347215 0.74636239\n",
            " 0.73950917 0.73289305 0.72649515 0.72029781]\n",
            "26 day output [[0.7142843]]\n",
            "27 day input [0.90456005 0.91368015 0.92922286 0.94617855 0.90044958 0.90250482\n",
            " 0.93731535 0.95272961 0.96801541 0.97520873 0.95671162 0.97186898\n",
            " 0.95966602 0.92164419 0.92614001 0.91380861 0.88439306 0.89222864\n",
            " 0.90674374 0.86204239 0.87912653 0.87938343 0.87270392 0.82119461\n",
            " 0.80732177 0.79563263 0.83352601 0.83789338 0.82800257 0.80783558\n",
            " 0.83712267 0.87527296 0.86782274 0.88336545 0.86563905 0.86756583\n",
            " 0.85793192 0.84855491 0.81425819 0.76647399 0.75825305 0.78355812\n",
            " 0.79884393 0.78638407 0.78921002 0.7973025  0.77983301 0.7728966\n",
            " 0.79537572 0.82196532 0.85459216 0.87745665 0.87565832 0.87450225\n",
            " 0.90635838 0.91226718 0.92331407 0.92614001 0.91843288 0.93294798\n",
            " 0.91445087 0.93757225 0.92626846 0.90391779 0.88195247 0.93461785\n",
            " 0.97135517 0.95722543 0.99537572 0.97996146 0.99922929 1.\n",
            " 0.97482338 0.95513797 0.93882889 0.92537677 0.91391897 0.90355647\n",
            " 0.8936103  0.8836695  0.87355369 0.8632431  0.85281265 0.84237784\n",
            " 0.83206022 0.82196271 0.81216246 0.80270797 0.7936216  0.78490698\n",
            " 0.77655423 0.76854557 0.76085901 0.75347215 0.74636239 0.73950917\n",
            " 0.73289305 0.72649515 0.72029781 0.7142843 ]\n",
            "27 day output [[0.70843846]]\n",
            "28 day input [0.91368015 0.92922286 0.94617855 0.90044958 0.90250482 0.93731535\n",
            " 0.95272961 0.96801541 0.97520873 0.95671162 0.97186898 0.95966602\n",
            " 0.92164419 0.92614001 0.91380861 0.88439306 0.89222864 0.90674374\n",
            " 0.86204239 0.87912653 0.87938343 0.87270392 0.82119461 0.80732177\n",
            " 0.79563263 0.83352601 0.83789338 0.82800257 0.80783558 0.83712267\n",
            " 0.87527296 0.86782274 0.88336545 0.86563905 0.86756583 0.85793192\n",
            " 0.84855491 0.81425819 0.76647399 0.75825305 0.78355812 0.79884393\n",
            " 0.78638407 0.78921002 0.7973025  0.77983301 0.7728966  0.79537572\n",
            " 0.82196532 0.85459216 0.87745665 0.87565832 0.87450225 0.90635838\n",
            " 0.91226718 0.92331407 0.92614001 0.91843288 0.93294798 0.91445087\n",
            " 0.93757225 0.92626846 0.90391779 0.88195247 0.93461785 0.97135517\n",
            " 0.95722543 0.99537572 0.97996146 0.99922929 1.         0.97482338\n",
            " 0.95513797 0.93882889 0.92537677 0.91391897 0.90355647 0.8936103\n",
            " 0.8836695  0.87355369 0.8632431  0.85281265 0.84237784 0.83206022\n",
            " 0.82196271 0.81216246 0.80270797 0.7936216  0.78490698 0.77655423\n",
            " 0.76854557 0.76085901 0.75347215 0.74636239 0.73950917 0.73289305\n",
            " 0.72649515 0.72029781 0.7142843  0.70843846]\n",
            "28 day output [[0.7027435]]\n",
            "29 day input [0.92922286 0.94617855 0.90044958 0.90250482 0.93731535 0.95272961\n",
            " 0.96801541 0.97520873 0.95671162 0.97186898 0.95966602 0.92164419\n",
            " 0.92614001 0.91380861 0.88439306 0.89222864 0.90674374 0.86204239\n",
            " 0.87912653 0.87938343 0.87270392 0.82119461 0.80732177 0.79563263\n",
            " 0.83352601 0.83789338 0.82800257 0.80783558 0.83712267 0.87527296\n",
            " 0.86782274 0.88336545 0.86563905 0.86756583 0.85793192 0.84855491\n",
            " 0.81425819 0.76647399 0.75825305 0.78355812 0.79884393 0.78638407\n",
            " 0.78921002 0.7973025  0.77983301 0.7728966  0.79537572 0.82196532\n",
            " 0.85459216 0.87745665 0.87565832 0.87450225 0.90635838 0.91226718\n",
            " 0.92331407 0.92614001 0.91843288 0.93294798 0.91445087 0.93757225\n",
            " 0.92626846 0.90391779 0.88195247 0.93461785 0.97135517 0.95722543\n",
            " 0.99537572 0.97996146 0.99922929 1.         0.97482338 0.95513797\n",
            " 0.93882889 0.92537677 0.91391897 0.90355647 0.8936103  0.8836695\n",
            " 0.87355369 0.8632431  0.85281265 0.84237784 0.83206022 0.82196271\n",
            " 0.81216246 0.80270797 0.7936216  0.78490698 0.77655423 0.76854557\n",
            " 0.76085901 0.75347215 0.74636239 0.73950917 0.73289305 0.72649515\n",
            " 0.72029781 0.7142843  0.70843846 0.70274347]\n",
            "29 day output [[0.6971846]]\n",
            "[[0.9551379680633545], [0.9388288855552673], [0.9253767728805542], [0.9139189720153809], [0.9035564661026001], [0.8936102986335754], [0.8836694955825806], [0.8735536932945251], [0.8632431030273438], [0.852812647819519], [0.8423778414726257], [0.8320602178573608], [0.8219627141952515], [0.812162458896637], [0.8027079701423645], [0.7936215996742249], [0.7849069833755493], [0.7765542268753052], [0.7685455679893494], [0.7608590126037598], [0.7534721493721008], [0.7463623881340027], [0.7395091652870178], [0.7328930497169495], [0.7264951467514038], [0.7202978134155273], [0.7142843008041382], [0.7084384560585022], [0.7027434706687927], [0.6971846222877502]]\n"
          ]
        }
      ]
    },
    {
      "cell_type": "code",
      "source": [
        "day_new=np.arange(1,101)\n",
        "day_pred=np.arange(101,131)\n"
      ],
      "metadata": {
        "id": "J6tPBD0q0sJp"
      },
      "execution_count": 55,
      "outputs": []
    },
    {
      "cell_type": "code",
      "source": [
        "len(df1)"
      ],
      "metadata": {
        "colab": {
          "base_uri": "https://localhost:8080/"
        },
        "id": "cpf420Vx07MD",
        "outputId": "b1f0c72b-d3bb-4ee9-e5ba-1df6c034ea0f"
      },
      "execution_count": 56,
      "outputs": [
        {
          "output_type": "execute_result",
          "data": {
            "text/plain": [
              "1510"
            ]
          },
          "metadata": {},
          "execution_count": 56
        }
      ]
    },
    {
      "cell_type": "code",
      "source": [
        "plt.plot(day_new,scaler.inverse_transform(df1[1410:]))\n",
        "plt.plot(day_pred,scaler.inverse_transform(lst_output))"
      ],
      "metadata": {
        "colab": {
          "base_uri": "https://localhost:8080/",
          "height": 282
        },
        "id": "7DU-nubR1EKM",
        "outputId": "0a339b52-2f70-4c6a-a188-a64aee3e88c1"
      },
      "execution_count": 57,
      "outputs": [
        {
          "output_type": "execute_result",
          "data": {
            "text/plain": [
              "[<matplotlib.lines.Line2D at 0x7fb6580d7450>]"
            ]
          },
          "metadata": {},
          "execution_count": 57
        },
        {
          "output_type": "display_data",
          "data": {
            "image/png": "[encoded data removed]",
            "text/plain": [
              "<Figure size 432x288 with 1 Axes>"
            ]
          },
          "metadata": {
            "needs_background": "light"
          }
        }
      ]
    },
    {
      "cell_type": "code",
      "source": [
        "df3=df1.tolist()\n",
        "df3.extend(lst_output)\n",
        "plt.plot(df3[1500:])"
      ],
      "metadata": {
        "colab": {
          "base_uri": "https://localhost:8080/",
          "height": 282
        },
        "id": "Ne42-RKs1Nf2",
        "outputId": "93d52b9c-25c2-46fc-b10e-fa9576b17ab5"
      },
      "execution_count": 60,
      "outputs": [
        {
          "output_type": "execute_result",
          "data": {
            "text/plain": [
              "[<matplotlib.lines.Line2D at 0x7fb64ba0c550>]"
            ]
          },
          "metadata": {},
          "execution_count": 60
        },
        {
          "output_type": "display_data",
          "data": {
            "image/png": "[encoded data removed]",
            "text/plain": [
              "<Figure size 432x288 with 1 Axes>"
            ]
          },
          "metadata": {
            "needs_background": "light"
          }
        }
      ]
    },
    {
      "cell_type": "code",
      "source": [
        "df3=scaler.inverse_transform(df3).tolist()"
      ],
      "metadata": {
        "id": "nSKutRFj1oNj"
      },
      "execution_count": 61,
      "outputs": []
    },
    {
      "cell_type": "code",
      "source": [
        "plt.plot(df3)"
      ],
      "metadata": {
        "colab": {
          "base_uri": "https://localhost:8080/",
          "height": 282
        },
        "id": "MAvBCINf1tyi",
        "outputId": "03208269-e134-4661-f8e5-4c3904d4b0f3"
      },
      "execution_count": 62,
      "outputs": [
        {
          "output_type": "execute_result",
          "data": {
            "text/plain": [
              "[<matplotlib.lines.Line2D at 0x7fb65d9738d0>]"
            ]
          },
          "metadata": {},
          "execution_count": 62
        },
        {
          "output_type": "display_data",
          "data": {
            "image/png": "[encoded data removed]",
            "text/plain": [
              "<Figure size 432x288 with 1 Axes>"
            ]
          },
          "metadata": {
            "needs_background": "light"
          }
        }
      ]
    },
    {
      "cell_type": "code",
      "source": [
        ""
      ],
      "metadata": {
        "id": "KK-BcrFhz_rt"
      },
      "execution_count": null,
      "outputs": []
    },
    {
      "cell_type": "code",
      "source": [
        ""
      ],
      "metadata": {
        "id": "jxIHXdTvnnls"
      },
      "execution_count": null,
      "outputs": []
    }
  ]
}