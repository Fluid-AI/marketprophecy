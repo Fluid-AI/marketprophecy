{
  "cells": [
    {
      "cell_type": "markdown",
      "metadata": {
        "id": "view-in-github",
        "colab_type": "text"
      },
      "source": [
        "<a href=\"https://colab.research.google.com/github/shubham-hub/marketprophecy/blob/main/Shubham__chavhan.ipynb\" target=\"_parent\"><img src=\"https://colab.research.google.com/assets/colab-badge.svg\" alt=\"Open In Colab\"/></a>"
      ]
    },
    {
      "cell_type": "code",
      "execution_count": null,
      "id": "db2d58a3",
      "metadata": {
        "scrolled": true,
        "id": "db2d58a3"
      },
      "outputs": [],
      "source": [
        "#import libraries\n",
        "import pandas as pd\n",
        "import numpy as np\n",
        "import seaborn as sns\n",
        "import matplotlib.pyplot as plt\n",
        "from datetime import datetime\n",
        "from datetime import date\n",
        "import matplotlib.pylab as pylab\n",
        "\n",
        "\n",
        "import warnings\n",
        "warnings.filterwarnings(\"ignore\")"
      ]
    },
    {
      "cell_type": "code",
      "execution_count": null,
      "id": "d3a687ad",
      "metadata": {
        "id": "d3a687ad"
      },
      "outputs": [],
      "source": [
        "### Create the Stacked LSTM model\n",
        "from tensorflow.keras.models import Sequential\n",
        "from tensorflow.keras.layers import Dense\n",
        "from tensorflow.keras.layers import LSTM"
      ]
    },
    {
      "cell_type": "code",
      "execution_count": null,
      "id": "9666e9e5",
      "metadata": {
        "id": "9666e9e5",
        "outputId": "7d81af56-b094-4434-f84d-b699bef68517"
      },
      "outputs": [
        {
          "name": "stdout",
          "output_type": "stream",
          "text": [
            "Requirement already satisfied: keras in c:\\users\\acer\\anaconda3\\lib\\site-packages (2.8.0)\n"
          ]
        }
      ],
      "source": [
        "!pip install keras"
      ]
    },
    {
      "cell_type": "code",
      "execution_count": null,
      "id": "494526fb",
      "metadata": {
        "id": "494526fb"
      },
      "outputs": [],
      "source": [
        "from sklearn.preprocessing import MinMaxScaler\n",
        "from tensorflow.keras.layers import Dropout"
      ]
    },
    {
      "cell_type": "code",
      "execution_count": null,
      "id": "e9e220da",
      "metadata": {
        "id": "e9e220da"
      },
      "outputs": [],
      "source": [
        "#Importing the 2 datasets\n",
        "df_train = pd.read_csv(r'D:\\Projects\\NSE_Training_Data.csv')\n",
        "df_test = pd.read_csv(r'D:\\Projects\\NSE_Out_of_Time_Testing_Data.csv')"
      ]
    },
    {
      "cell_type": "code",
      "execution_count": null,
      "id": "5d287944",
      "metadata": {
        "id": "5d287944"
      },
      "outputs": [],
      "source": [
        "df_test = pd.read_csv(r'D:\\Projects\\NSE_Out_of_Time_Testing_Data.csv')"
      ]
    },
    {
      "cell_type": "code",
      "execution_count": null,
      "id": "6ff5edcd",
      "metadata": {
        "id": "6ff5edcd",
        "outputId": "a2cfc1a6-e4aa-4893-9dba-cebc6f93392f"
      },
      "outputs": [
        {
          "data": {
            "text/html": [
              "<div>\n",
              "<style scoped>\n",
              "    .dataframe tbody tr th:only-of-type {\n",
              "        vertical-align: middle;\n",
              "    }\n",
              "\n",
              "    .dataframe tbody tr th {\n",
              "        vertical-align: top;\n",
              "    }\n",
              "\n",
              "    .dataframe thead th {\n",
              "        text-align: right;\n",
              "    }\n",
              "</style>\n",
              "<table border=\"1\" class=\"dataframe\">\n",
              "  <thead>\n",
              "    <tr style=\"text-align: right;\">\n",
              "      <th></th>\n",
              "      <th>Date</th>\n",
              "      <th>Open</th>\n",
              "      <th>High</th>\n",
              "      <th>Low</th>\n",
              "      <th>Close</th>\n",
              "      <th>Adj Close</th>\n",
              "      <th>Volume</th>\n",
              "    </tr>\n",
              "  </thead>\n",
              "  <tbody>\n",
              "    <tr>\n",
              "      <th>0</th>\n",
              "      <td>2016-01-04</td>\n",
              "      <td>7924.549805</td>\n",
              "      <td>7937.549805</td>\n",
              "      <td>7781.100098</td>\n",
              "      <td>7791.299805</td>\n",
              "      <td>7791.299805</td>\n",
              "      <td>134700.0</td>\n",
              "    </tr>\n",
              "    <tr>\n",
              "      <th>1</th>\n",
              "      <td>2016-01-05</td>\n",
              "      <td>7828.399902</td>\n",
              "      <td>7831.200195</td>\n",
              "      <td>7763.250000</td>\n",
              "      <td>7784.649902</td>\n",
              "      <td>7784.649902</td>\n",
              "      <td>145200.0</td>\n",
              "    </tr>\n",
              "    <tr>\n",
              "      <th>2</th>\n",
              "      <td>2016-01-06</td>\n",
              "      <td>7788.049805</td>\n",
              "      <td>7800.950195</td>\n",
              "      <td>7721.200195</td>\n",
              "      <td>7741.000000</td>\n",
              "      <td>7741.000000</td>\n",
              "      <td>147100.0</td>\n",
              "    </tr>\n",
              "    <tr>\n",
              "      <th>3</th>\n",
              "      <td>2016-01-07</td>\n",
              "      <td>7673.350098</td>\n",
              "      <td>7674.950195</td>\n",
              "      <td>7556.600098</td>\n",
              "      <td>7568.299805</td>\n",
              "      <td>7568.299805</td>\n",
              "      <td>188900.0</td>\n",
              "    </tr>\n",
              "    <tr>\n",
              "      <th>4</th>\n",
              "      <td>2016-01-08</td>\n",
              "      <td>7611.649902</td>\n",
              "      <td>7634.100098</td>\n",
              "      <td>7581.049805</td>\n",
              "      <td>7601.350098</td>\n",
              "      <td>7601.350098</td>\n",
              "      <td>157400.0</td>\n",
              "    </tr>\n",
              "  </tbody>\n",
              "</table>\n",
              "</div>"
            ],
            "text/plain": [
              "         Date         Open         High          Low        Close  \\\n",
              "0  2016-01-04  7924.549805  7937.549805  7781.100098  7791.299805   \n",
              "1  2016-01-05  7828.399902  7831.200195  7763.250000  7784.649902   \n",
              "2  2016-01-06  7788.049805  7800.950195  7721.200195  7741.000000   \n",
              "3  2016-01-07  7673.350098  7674.950195  7556.600098  7568.299805   \n",
              "4  2016-01-08  7611.649902  7634.100098  7581.049805  7601.350098   \n",
              "\n",
              "     Adj Close    Volume  \n",
              "0  7791.299805  134700.0  \n",
              "1  7784.649902  145200.0  \n",
              "2  7741.000000  147100.0  \n",
              "3  7568.299805  188900.0  \n",
              "4  7601.350098  157400.0  "
            ]
          },
          "execution_count": 6,
          "metadata": {},
          "output_type": "execute_result"
        }
      ],
      "source": [
        "#Let's see how our data looks like, and what all features we are having.\n",
        "df_train.head()"
      ]
    },
    {
      "cell_type": "code",
      "execution_count": null,
      "id": "41559180",
      "metadata": {
        "id": "41559180",
        "outputId": "9618fcb3-45ad-4d3b-e2bc-375844efae27"
      },
      "outputs": [
        {
          "name": "stdout",
          "output_type": "stream",
          "text": [
            "<class 'pandas.core.frame.DataFrame'>\n",
            "RangeIndex: 1481 entries, 0 to 1480\n",
            "Data columns (total 7 columns):\n",
            " #   Column     Non-Null Count  Dtype  \n",
            "---  ------     --------------  -----  \n",
            " 0   Date       1481 non-null   object \n",
            " 1   Open       1475 non-null   float64\n",
            " 2   High       1475 non-null   float64\n",
            " 3   Low        1475 non-null   float64\n",
            " 4   Close      1475 non-null   float64\n",
            " 5   Adj Close  1475 non-null   float64\n",
            " 6   Volume     1475 non-null   float64\n",
            "dtypes: float64(6), object(1)\n",
            "memory usage: 81.1+ KB\n"
          ]
        }
      ],
      "source": [
        "df_train.info()"
      ]
    },
    {
      "cell_type": "code",
      "execution_count": null,
      "id": "5618823f",
      "metadata": {
        "id": "5618823f",
        "outputId": "f0a3d874-37bc-4440-8837-0885ec63ac24"
      },
      "outputs": [
        {
          "data": {
            "text/html": [
              "<div>\n",
              "<style scoped>\n",
              "    .dataframe tbody tr th:only-of-type {\n",
              "        vertical-align: middle;\n",
              "    }\n",
              "\n",
              "    .dataframe tbody tr th {\n",
              "        vertical-align: top;\n",
              "    }\n",
              "\n",
              "    .dataframe thead th {\n",
              "        text-align: right;\n",
              "    }\n",
              "</style>\n",
              "<table border=\"1\" class=\"dataframe\">\n",
              "  <thead>\n",
              "    <tr style=\"text-align: right;\">\n",
              "      <th></th>\n",
              "      <th>Date</th>\n",
              "      <th>Open</th>\n",
              "      <th>High</th>\n",
              "      <th>Low</th>\n",
              "      <th>Close</th>\n",
              "      <th>Adj Close</th>\n",
              "      <th>Volume</th>\n",
              "    </tr>\n",
              "  </thead>\n",
              "  <tbody>\n",
              "    <tr>\n",
              "      <th>0</th>\n",
              "      <td>2022-01-03</td>\n",
              "      <td>17387.15039</td>\n",
              "      <td>17646.65039</td>\n",
              "      <td>17383.30078</td>\n",
              "      <td>17625.69922</td>\n",
              "      <td>17625.69922</td>\n",
              "      <td>200500</td>\n",
              "    </tr>\n",
              "    <tr>\n",
              "      <th>1</th>\n",
              "      <td>2022-01-04</td>\n",
              "      <td>17681.40039</td>\n",
              "      <td>17827.59961</td>\n",
              "      <td>17593.55078</td>\n",
              "      <td>17805.25000</td>\n",
              "      <td>17805.25000</td>\n",
              "      <td>247400</td>\n",
              "    </tr>\n",
              "    <tr>\n",
              "      <th>2</th>\n",
              "      <td>2022-01-05</td>\n",
              "      <td>17820.09961</td>\n",
              "      <td>17944.69922</td>\n",
              "      <td>17748.84961</td>\n",
              "      <td>17925.25000</td>\n",
              "      <td>17925.25000</td>\n",
              "      <td>251500</td>\n",
              "    </tr>\n",
              "    <tr>\n",
              "      <th>3</th>\n",
              "      <td>2022-01-06</td>\n",
              "      <td>17768.50000</td>\n",
              "      <td>17797.94922</td>\n",
              "      <td>17655.55078</td>\n",
              "      <td>17745.90039</td>\n",
              "      <td>17745.90039</td>\n",
              "      <td>236500</td>\n",
              "    </tr>\n",
              "    <tr>\n",
              "      <th>4</th>\n",
              "      <td>2022-01-07</td>\n",
              "      <td>17797.59961</td>\n",
              "      <td>17905.00000</td>\n",
              "      <td>17704.55078</td>\n",
              "      <td>17812.69922</td>\n",
              "      <td>17812.69922</td>\n",
              "      <td>239300</td>\n",
              "    </tr>\n",
              "  </tbody>\n",
              "</table>\n",
              "</div>"
            ],
            "text/plain": [
              "         Date         Open         High          Low        Close  \\\n",
              "0  2022-01-03  17387.15039  17646.65039  17383.30078  17625.69922   \n",
              "1  2022-01-04  17681.40039  17827.59961  17593.55078  17805.25000   \n",
              "2  2022-01-05  17820.09961  17944.69922  17748.84961  17925.25000   \n",
              "3  2022-01-06  17768.50000  17797.94922  17655.55078  17745.90039   \n",
              "4  2022-01-07  17797.59961  17905.00000  17704.55078  17812.69922   \n",
              "\n",
              "     Adj Close  Volume  \n",
              "0  17625.69922  200500  \n",
              "1  17805.25000  247400  \n",
              "2  17925.25000  251500  \n",
              "3  17745.90039  236500  \n",
              "4  17812.69922  239300  "
            ]
          },
          "execution_count": 54,
          "metadata": {},
          "output_type": "execute_result"
        }
      ],
      "source": [
        "df_test.head()"
      ]
    },
    {
      "cell_type": "code",
      "execution_count": null,
      "id": "169349f4",
      "metadata": {
        "id": "169349f4",
        "outputId": "03141631-4382-4902-fc50-3bb3cbd27033"
      },
      "outputs": [
        {
          "name": "stdout",
          "output_type": "stream",
          "text": [
            "<class 'pandas.core.frame.DataFrame'>\n",
            "RangeIndex: 23 entries, 0 to 22\n",
            "Data columns (total 7 columns):\n",
            " #   Column     Non-Null Count  Dtype  \n",
            "---  ------     --------------  -----  \n",
            " 0   Date       23 non-null     object \n",
            " 1   Open       23 non-null     float64\n",
            " 2   High       23 non-null     float64\n",
            " 3   Low        23 non-null     float64\n",
            " 4   Close      23 non-null     float64\n",
            " 5   Adj Close  23 non-null     float64\n",
            " 6   Volume     23 non-null     int64  \n",
            "dtypes: float64(5), int64(1), object(1)\n",
            "memory usage: 1.4+ KB\n"
          ]
        }
      ],
      "source": [
        "df_test.info()"
      ]
    },
    {
      "cell_type": "code",
      "execution_count": null,
      "id": "511948f4",
      "metadata": {
        "scrolled": false,
        "id": "511948f4",
        "outputId": "bb9f6142-8e48-4a50-cfa1-2ad147254a6e"
      },
      "outputs": [
        {
          "name": "stdout",
          "output_type": "stream",
          "text": [
            "Dataframe Shape (1481, 7)\n",
            "Null Value Present:  True\n"
          ]
        }
      ],
      "source": [
        "#Print the shape of Dataframe  and Check for Null Values\n",
        "print('Dataframe Shape', df_train. shape)\n",
        "print('Null Value Present: ', df_train.isnull().values.any())"
      ]
    },
    {
      "cell_type": "code",
      "execution_count": null,
      "id": "14d8215b",
      "metadata": {
        "id": "14d8215b",
        "outputId": "b439f5c1-7d66-400a-9b4f-ae3ccb4be244"
      },
      "outputs": [
        {
          "name": "stdout",
          "output_type": "stream",
          "text": [
            "Dataframe Shape (23, 7)\n",
            "Null Value Present:  False\n"
          ]
        }
      ],
      "source": [
        "#Print the shape of Dataframe  and Check for Null Values\n",
        "print('Dataframe Shape', df_test. shape)\n",
        "print('Null Value Present: ', df_test.isnull().values.any())"
      ]
    },
    {
      "cell_type": "code",
      "execution_count": null,
      "id": "4d161177",
      "metadata": {
        "id": "4d161177"
      },
      "outputs": [],
      "source": [
        "#percentage of null values is very less so we can drop null values\n",
        "\n",
        "df_train = df_train.dropna()\n",
        "df_train = df_train.reset_index(drop = True)"
      ]
    },
    {
      "cell_type": "code",
      "execution_count": null,
      "id": "483b5be6",
      "metadata": {
        "id": "483b5be6",
        "outputId": "5ef6bd50-09a7-4742-9aae-d0a03dba1fae"
      },
      "outputs": [
        {
          "name": "stdout",
          "output_type": "stream",
          "text": [
            "duplicated Value Present:  False\n"
          ]
        }
      ],
      "source": [
        "# Check for duplicate rows.\n",
        "print('duplicated Value Present: ', df_train.duplicated().values.any())"
      ]
    },
    {
      "cell_type": "markdown",
      "id": "8ed68efa",
      "metadata": {
        "id": "8ed68efa"
      },
      "source": [
        " The Adjusted Close Value is the final output value that will be forecasted using the Machine Learning model."
      ]
    },
    {
      "cell_type": "code",
      "execution_count": null,
      "id": "f3598799",
      "metadata": {
        "scrolled": true,
        "id": "f3598799",
        "outputId": "e7f5b09a-3d3f-425a-912a-f2c3b302c2b1"
      },
      "outputs": [
        {
          "name": "stdout",
          "output_type": "stream",
          "text": [
            "Dataframe contains stock prices between 2016-01-04 00:00:00  2021-12-31 00:00:00\n",
            "Total Days =  2188 days\n"
          ]
        }
      ],
      "source": [
        "print(f'Dataframe contains stock prices between {df_train.Date.min()}  {df_train.Date.max()}')\n",
        "print(f'Total Days =  {(df_train.Date.max() - df_train.Date.min()).days} days')"
      ]
    },
    {
      "cell_type": "code",
      "execution_count": null,
      "id": "88b7bcb5",
      "metadata": {
        "scrolled": true,
        "id": "88b7bcb5",
        "outputId": "0a20325c-056b-4f85-8e45-ae9085fb3910"
      },
      "outputs": [
        {
          "data": {
            "text/html": [
              "<div>\n",
              "<style scoped>\n",
              "    .dataframe tbody tr th:only-of-type {\n",
              "        vertical-align: middle;\n",
              "    }\n",
              "\n",
              "    .dataframe tbody tr th {\n",
              "        vertical-align: top;\n",
              "    }\n",
              "\n",
              "    .dataframe thead th {\n",
              "        text-align: right;\n",
              "    }\n",
              "</style>\n",
              "<table border=\"1\" class=\"dataframe\">\n",
              "  <thead>\n",
              "    <tr style=\"text-align: right;\">\n",
              "      <th></th>\n",
              "      <th>Open</th>\n",
              "      <th>High</th>\n",
              "      <th>Low</th>\n",
              "      <th>Close</th>\n",
              "      <th>Adj Close</th>\n",
              "      <th>Volume</th>\n",
              "    </tr>\n",
              "  </thead>\n",
              "  <tbody>\n",
              "    <tr>\n",
              "      <th>count</th>\n",
              "      <td>1475.000000</td>\n",
              "      <td>1475.000000</td>\n",
              "      <td>1475.000000</td>\n",
              "      <td>1475.000000</td>\n",
              "      <td>1475.000000</td>\n",
              "      <td>1.475000e+03</td>\n",
              "    </tr>\n",
              "    <tr>\n",
              "      <th>mean</th>\n",
              "      <td>11190.630104</td>\n",
              "      <td>11243.279799</td>\n",
              "      <td>11114.862020</td>\n",
              "      <td>11180.224848</td>\n",
              "      <td>11180.224848</td>\n",
              "      <td>3.672148e+05</td>\n",
              "    </tr>\n",
              "    <tr>\n",
              "      <th>std</th>\n",
              "      <td>2605.404423</td>\n",
              "      <td>2613.649325</td>\n",
              "      <td>2588.183872</td>\n",
              "      <td>2602.005796</td>\n",
              "      <td>2602.005796</td>\n",
              "      <td>2.277599e+05</td>\n",
              "    </tr>\n",
              "    <tr>\n",
              "      <th>min</th>\n",
              "      <td>7023.649902</td>\n",
              "      <td>7034.200195</td>\n",
              "      <td>6825.799805</td>\n",
              "      <td>6970.600098</td>\n",
              "      <td>6970.600098</td>\n",
              "      <td>0.000000e+00</td>\n",
              "    </tr>\n",
              "    <tr>\n",
              "      <th>25%</th>\n",
              "      <td>9362.950195</td>\n",
              "      <td>9404.100098</td>\n",
              "      <td>9290.100097</td>\n",
              "      <td>9315.899902</td>\n",
              "      <td>9315.899902</td>\n",
              "      <td>1.956000e+05</td>\n",
              "    </tr>\n",
              "    <tr>\n",
              "      <th>50%</th>\n",
              "      <td>10781.849610</td>\n",
              "      <td>10816.349610</td>\n",
              "      <td>10718.750000</td>\n",
              "      <td>10769.150390</td>\n",
              "      <td>10769.150390</td>\n",
              "      <td>2.906000e+05</td>\n",
              "    </tr>\n",
              "    <tr>\n",
              "      <th>75%</th>\n",
              "      <td>11925.699710</td>\n",
              "      <td>11968.899905</td>\n",
              "      <td>11847.475100</td>\n",
              "      <td>11914.125005</td>\n",
              "      <td>11914.125005</td>\n",
              "      <td>5.092500e+05</td>\n",
              "    </tr>\n",
              "    <tr>\n",
              "      <th>max</th>\n",
              "      <td>18602.349610</td>\n",
              "      <td>18604.449220</td>\n",
              "      <td>18445.300780</td>\n",
              "      <td>18477.050780</td>\n",
              "      <td>18477.050780</td>\n",
              "      <td>1.811000e+06</td>\n",
              "    </tr>\n",
              "  </tbody>\n",
              "</table>\n",
              "</div>"
            ],
            "text/plain": [
              "               Open          High           Low         Close     Adj Close  \\\n",
              "count   1475.000000   1475.000000   1475.000000   1475.000000   1475.000000   \n",
              "mean   11190.630104  11243.279799  11114.862020  11180.224848  11180.224848   \n",
              "std     2605.404423   2613.649325   2588.183872   2602.005796   2602.005796   \n",
              "min     7023.649902   7034.200195   6825.799805   6970.600098   6970.600098   \n",
              "25%     9362.950195   9404.100098   9290.100097   9315.899902   9315.899902   \n",
              "50%    10781.849610  10816.349610  10718.750000  10769.150390  10769.150390   \n",
              "75%    11925.699710  11968.899905  11847.475100  11914.125005  11914.125005   \n",
              "max    18602.349610  18604.449220  18445.300780  18477.050780  18477.050780   \n",
              "\n",
              "             Volume  \n",
              "count  1.475000e+03  \n",
              "mean   3.672148e+05  \n",
              "std    2.277599e+05  \n",
              "min    0.000000e+00  \n",
              "25%    1.956000e+05  \n",
              "50%    2.906000e+05  \n",
              "75%    5.092500e+05  \n",
              "max    1.811000e+06  "
            ]
          },
          "execution_count": 84,
          "metadata": {},
          "output_type": "execute_result"
        }
      ],
      "source": [
        "df_train.describe()"
      ]
    },
    {
      "cell_type": "code",
      "execution_count": null,
      "id": "52b21eaf",
      "metadata": {
        "id": "52b21eaf",
        "outputId": "80607b78-e1a1-47ab-cfcf-b070a5d780cc"
      },
      "outputs": [
        {
          "data": {
            "text/plain": [
              "<AxesSubplot:>"
            ]
          },
          "execution_count": 59,
          "metadata": {},
          "output_type": "execute_result"
        },
        {
          "data": {
            "image/png": "[encoded data removed]",
            "text/plain": [
              "<Figure size 432x288 with 1 Axes>"
            ]
          },
          "metadata": {
            "needs_background": "light"
          },
          "output_type": "display_data"
        }
      ],
      "source": [
        "#Plot the True Adj Close Value\n",
        "df_train['Adj Close'].plot()"
      ]
    },
    {
      "cell_type": "code",
      "execution_count": null,
      "id": "c99e4c4d",
      "metadata": {
        "id": "c99e4c4d"
      },
      "outputs": [],
      "source": [
        "df_train['Close'] = pd.to_numeric(df_train.Close,errors='coerce') \n",
        "df_test['Close'] = pd.to_numeric(df_test.Close,errors='coerce') \n",
        "\n",
        "\n",
        "#df_test['Date'] = pd.to_datetime(df_test['Date'])"
      ]
    },
    {
      "cell_type": "code",
      "execution_count": null,
      "id": "58536141",
      "metadata": {
        "id": "58536141"
      },
      "outputs": [],
      "source": [
        "#Set Target Variable\n",
        "trainData = df_train.iloc[:,4:5].values\n",
        "\n",
        "\n",
        "#Selecting the Features\n",
        "features = ['Open', 'High', 'Low','Volume']"
      ]
    },
    {
      "cell_type": "code",
      "execution_count": null,
      "id": "5869b299",
      "metadata": {
        "id": "5869b299"
      },
      "outputs": [],
      "source": [
        "testData_1 = df_test.copy()"
      ]
    },
    {
      "cell_type": "code",
      "execution_count": null,
      "id": "5a4bb43c",
      "metadata": {
        "id": "5a4bb43c",
        "outputId": "a98a6d66-65ba-4288-9516-139706c912aa"
      },
      "outputs": [
        {
          "data": {
            "text/html": [
              "<div>\n",
              "<style scoped>\n",
              "    .dataframe tbody tr th:only-of-type {\n",
              "        vertical-align: middle;\n",
              "    }\n",
              "\n",
              "    .dataframe tbody tr th {\n",
              "        vertical-align: top;\n",
              "    }\n",
              "\n",
              "    .dataframe thead th {\n",
              "        text-align: right;\n",
              "    }\n",
              "</style>\n",
              "<table border=\"1\" class=\"dataframe\">\n",
              "  <thead>\n",
              "    <tr style=\"text-align: right;\">\n",
              "      <th></th>\n",
              "      <th>Date</th>\n",
              "      <th>Open</th>\n",
              "      <th>High</th>\n",
              "      <th>Low</th>\n",
              "      <th>Close</th>\n",
              "      <th>Adj Close</th>\n",
              "      <th>Volume</th>\n",
              "    </tr>\n",
              "  </thead>\n",
              "  <tbody>\n",
              "    <tr>\n",
              "      <th>0</th>\n",
              "      <td>2022-01-03</td>\n",
              "      <td>17387.15039</td>\n",
              "      <td>17646.65039</td>\n",
              "      <td>17383.30078</td>\n",
              "      <td>17625.69922</td>\n",
              "      <td>17625.69922</td>\n",
              "      <td>200500</td>\n",
              "    </tr>\n",
              "    <tr>\n",
              "      <th>1</th>\n",
              "      <td>2022-01-04</td>\n",
              "      <td>17681.40039</td>\n",
              "      <td>17827.59961</td>\n",
              "      <td>17593.55078</td>\n",
              "      <td>17805.25000</td>\n",
              "      <td>17805.25000</td>\n",
              "      <td>247400</td>\n",
              "    </tr>\n",
              "    <tr>\n",
              "      <th>2</th>\n",
              "      <td>2022-01-05</td>\n",
              "      <td>17820.09961</td>\n",
              "      <td>17944.69922</td>\n",
              "      <td>17748.84961</td>\n",
              "      <td>17925.25000</td>\n",
              "      <td>17925.25000</td>\n",
              "      <td>251500</td>\n",
              "    </tr>\n",
              "    <tr>\n",
              "      <th>3</th>\n",
              "      <td>2022-01-06</td>\n",
              "      <td>17768.50000</td>\n",
              "      <td>17797.94922</td>\n",
              "      <td>17655.55078</td>\n",
              "      <td>17745.90039</td>\n",
              "      <td>17745.90039</td>\n",
              "      <td>236500</td>\n",
              "    </tr>\n",
              "    <tr>\n",
              "      <th>4</th>\n",
              "      <td>2022-01-07</td>\n",
              "      <td>17797.59961</td>\n",
              "      <td>17905.00000</td>\n",
              "      <td>17704.55078</td>\n",
              "      <td>17812.69922</td>\n",
              "      <td>17812.69922</td>\n",
              "      <td>239300</td>\n",
              "    </tr>\n",
              "    <tr>\n",
              "      <th>5</th>\n",
              "      <td>2022-01-10</td>\n",
              "      <td>17913.30078</td>\n",
              "      <td>18017.44922</td>\n",
              "      <td>17879.15039</td>\n",
              "      <td>18003.30078</td>\n",
              "      <td>18003.30078</td>\n",
              "      <td>232400</td>\n",
              "    </tr>\n",
              "    <tr>\n",
              "      <th>6</th>\n",
              "      <td>2022-01-11</td>\n",
              "      <td>17997.75000</td>\n",
              "      <td>18081.25000</td>\n",
              "      <td>17964.40039</td>\n",
              "      <td>18055.75000</td>\n",
              "      <td>18055.75000</td>\n",
              "      <td>220200</td>\n",
              "    </tr>\n",
              "    <tr>\n",
              "      <th>7</th>\n",
              "      <td>2022-01-12</td>\n",
              "      <td>18170.40039</td>\n",
              "      <td>18227.94922</td>\n",
              "      <td>18128.80078</td>\n",
              "      <td>18212.34961</td>\n",
              "      <td>18212.34961</td>\n",
              "      <td>245000</td>\n",
              "    </tr>\n",
              "    <tr>\n",
              "      <th>8</th>\n",
              "      <td>2022-01-13</td>\n",
              "      <td>18257.00000</td>\n",
              "      <td>18272.25000</td>\n",
              "      <td>18163.80078</td>\n",
              "      <td>18257.80078</td>\n",
              "      <td>18257.80078</td>\n",
              "      <td>303700</td>\n",
              "    </tr>\n",
              "    <tr>\n",
              "      <th>9</th>\n",
              "      <td>2022-01-14</td>\n",
              "      <td>18185.00000</td>\n",
              "      <td>18286.94922</td>\n",
              "      <td>18119.65039</td>\n",
              "      <td>18255.75000</td>\n",
              "      <td>18255.75000</td>\n",
              "      <td>229500</td>\n",
              "    </tr>\n",
              "    <tr>\n",
              "      <th>10</th>\n",
              "      <td>2022-01-17</td>\n",
              "      <td>18235.65039</td>\n",
              "      <td>18321.55078</td>\n",
              "      <td>18228.75000</td>\n",
              "      <td>18308.09961</td>\n",
              "      <td>18308.09961</td>\n",
              "      <td>266700</td>\n",
              "    </tr>\n",
              "    <tr>\n",
              "      <th>11</th>\n",
              "      <td>2022-01-18</td>\n",
              "      <td>18337.19922</td>\n",
              "      <td>18350.94922</td>\n",
              "      <td>18085.90039</td>\n",
              "      <td>18113.05078</td>\n",
              "      <td>18113.05078</td>\n",
              "      <td>227500</td>\n",
              "    </tr>\n",
              "    <tr>\n",
              "      <th>12</th>\n",
              "      <td>2022-01-19</td>\n",
              "      <td>18129.19922</td>\n",
              "      <td>18129.19922</td>\n",
              "      <td>17884.90039</td>\n",
              "      <td>17938.40039</td>\n",
              "      <td>17938.40039</td>\n",
              "      <td>276700</td>\n",
              "    </tr>\n",
              "    <tr>\n",
              "      <th>13</th>\n",
              "      <td>2022-01-20</td>\n",
              "      <td>17921.00000</td>\n",
              "      <td>17943.69922</td>\n",
              "      <td>17648.44922</td>\n",
              "      <td>17757.00000</td>\n",
              "      <td>17757.00000</td>\n",
              "      <td>258100</td>\n",
              "    </tr>\n",
              "    <tr>\n",
              "      <th>14</th>\n",
              "      <td>2022-01-21</td>\n",
              "      <td>17613.69922</td>\n",
              "      <td>17707.59961</td>\n",
              "      <td>17485.84961</td>\n",
              "      <td>17617.15039</td>\n",
              "      <td>17617.15039</td>\n",
              "      <td>277600</td>\n",
              "    </tr>\n",
              "    <tr>\n",
              "      <th>15</th>\n",
              "      <td>2022-01-24</td>\n",
              "      <td>17575.15039</td>\n",
              "      <td>17599.40039</td>\n",
              "      <td>16997.84961</td>\n",
              "      <td>17149.09961</td>\n",
              "      <td>17149.09961</td>\n",
              "      <td>323800</td>\n",
              "    </tr>\n",
              "    <tr>\n",
              "      <th>16</th>\n",
              "      <td>2022-01-25</td>\n",
              "      <td>17001.55078</td>\n",
              "      <td>17309.15039</td>\n",
              "      <td>16836.80078</td>\n",
              "      <td>17277.94922</td>\n",
              "      <td>17277.94922</td>\n",
              "      <td>326500</td>\n",
              "    </tr>\n",
              "    <tr>\n",
              "      <th>17</th>\n",
              "      <td>2022-01-27</td>\n",
              "      <td>17062.00000</td>\n",
              "      <td>17182.50000</td>\n",
              "      <td>16866.75000</td>\n",
              "      <td>17110.15039</td>\n",
              "      <td>17110.15039</td>\n",
              "      <td>395600</td>\n",
              "    </tr>\n",
              "    <tr>\n",
              "      <th>18</th>\n",
              "      <td>2022-01-28</td>\n",
              "      <td>17208.30078</td>\n",
              "      <td>17373.50000</td>\n",
              "      <td>17077.09961</td>\n",
              "      <td>17101.94922</td>\n",
              "      <td>17101.94922</td>\n",
              "      <td>355300</td>\n",
              "    </tr>\n",
              "    <tr>\n",
              "      <th>19</th>\n",
              "      <td>2022-01-31</td>\n",
              "      <td>17301.05078</td>\n",
              "      <td>17410.00000</td>\n",
              "      <td>17264.15039</td>\n",
              "      <td>17339.84961</td>\n",
              "      <td>17339.84961</td>\n",
              "      <td>321700</td>\n",
              "    </tr>\n",
              "    <tr>\n",
              "      <th>20</th>\n",
              "      <td>2022-02-01</td>\n",
              "      <td>17529.44922</td>\n",
              "      <td>17622.40039</td>\n",
              "      <td>17244.55078</td>\n",
              "      <td>17576.84961</td>\n",
              "      <td>17576.84961</td>\n",
              "      <td>386400</td>\n",
              "    </tr>\n",
              "    <tr>\n",
              "      <th>21</th>\n",
              "      <td>2022-02-02</td>\n",
              "      <td>17706.19922</td>\n",
              "      <td>17794.59961</td>\n",
              "      <td>17674.80078</td>\n",
              "      <td>17780.00000</td>\n",
              "      <td>17780.00000</td>\n",
              "      <td>271200</td>\n",
              "    </tr>\n",
              "    <tr>\n",
              "      <th>22</th>\n",
              "      <td>2022-02-03</td>\n",
              "      <td>17767.75000</td>\n",
              "      <td>17781.15039</td>\n",
              "      <td>17511.15039</td>\n",
              "      <td>17560.19922</td>\n",
              "      <td>17560.19922</td>\n",
              "      <td>226600</td>\n",
              "    </tr>\n",
              "  </tbody>\n",
              "</table>\n",
              "</div>"
            ],
            "text/plain": [
              "          Date         Open         High          Low        Close  \\\n",
              "0   2022-01-03  17387.15039  17646.65039  17383.30078  17625.69922   \n",
              "1   2022-01-04  17681.40039  17827.59961  17593.55078  17805.25000   \n",
              "2   2022-01-05  17820.09961  17944.69922  17748.84961  17925.25000   \n",
              "3   2022-01-06  17768.50000  17797.94922  17655.55078  17745.90039   \n",
              "4   2022-01-07  17797.59961  17905.00000  17704.55078  17812.69922   \n",
              "5   2022-01-10  17913.30078  18017.44922  17879.15039  18003.30078   \n",
              "6   2022-01-11  17997.75000  18081.25000  17964.40039  18055.75000   \n",
              "7   2022-01-12  18170.40039  18227.94922  18128.80078  18212.34961   \n",
              "8   2022-01-13  18257.00000  18272.25000  18163.80078  18257.80078   \n",
              "9   2022-01-14  18185.00000  18286.94922  18119.65039  18255.75000   \n",
              "10  2022-01-17  18235.65039  18321.55078  18228.75000  18308.09961   \n",
              "11  2022-01-18  18337.19922  18350.94922  18085.90039  18113.05078   \n",
              "12  2022-01-19  18129.19922  18129.19922  17884.90039  17938.40039   \n",
              "13  2022-01-20  17921.00000  17943.69922  17648.44922  17757.00000   \n",
              "14  2022-01-21  17613.69922  17707.59961  17485.84961  17617.15039   \n",
              "15  2022-01-24  17575.15039  17599.40039  16997.84961  17149.09961   \n",
              "16  2022-01-25  17001.55078  17309.15039  16836.80078  17277.94922   \n",
              "17  2022-01-27  17062.00000  17182.50000  16866.75000  17110.15039   \n",
              "18  2022-01-28  17208.30078  17373.50000  17077.09961  17101.94922   \n",
              "19  2022-01-31  17301.05078  17410.00000  17264.15039  17339.84961   \n",
              "20  2022-02-01  17529.44922  17622.40039  17244.55078  17576.84961   \n",
              "21  2022-02-02  17706.19922  17794.59961  17674.80078  17780.00000   \n",
              "22  2022-02-03  17767.75000  17781.15039  17511.15039  17560.19922   \n",
              "\n",
              "      Adj Close  Volume  \n",
              "0   17625.69922  200500  \n",
              "1   17805.25000  247400  \n",
              "2   17925.25000  251500  \n",
              "3   17745.90039  236500  \n",
              "4   17812.69922  239300  \n",
              "5   18003.30078  232400  \n",
              "6   18055.75000  220200  \n",
              "7   18212.34961  245000  \n",
              "8   18257.80078  303700  \n",
              "9   18255.75000  229500  \n",
              "10  18308.09961  266700  \n",
              "11  18113.05078  227500  \n",
              "12  17938.40039  276700  \n",
              "13  17757.00000  258100  \n",
              "14  17617.15039  277600  \n",
              "15  17149.09961  323800  \n",
              "16  17277.94922  326500  \n",
              "17  17110.15039  395600  \n",
              "18  17101.94922  355300  \n",
              "19  17339.84961  321700  \n",
              "20  17576.84961  386400  \n",
              "21  17780.00000  271200  \n",
              "22  17560.19922  226600  "
            ]
          },
          "execution_count": 101,
          "metadata": {},
          "output_type": "execute_result"
        }
      ],
      "source": [
        "testData_1"
      ]
    },
    {
      "cell_type": "code",
      "execution_count": null,
      "id": "d6bf41d2",
      "metadata": {
        "id": "d6bf41d2"
      },
      "outputs": [],
      "source": [
        "x_test = []\n",
        "\n",
        "y_test = []\n",
        "\n",
        "for i in range (60,23): #60: timestep // 23: Length of the data\n",
        "    x_test.append(trainData[i-60:i,0]) \n",
        "    x_test.append(trainData [i,0])\n",
        "\n",
        "\n",
        "x_test,y_test = np.array(x_test), np.array(y_test)"
      ]
    },
    {
      "cell_type": "code",
      "execution_count": null,
      "id": "76bd6a9d",
      "metadata": {
        "id": "76bd6a9d"
      },
      "outputs": [],
      "source": [
        "from sklearn.preprocessing import MinMaxScaler"
      ]
    },
    {
      "cell_type": "code",
      "execution_count": null,
      "id": "7a414b51",
      "metadata": {
        "id": "7a414b51"
      },
      "outputs": [],
      "source": [
        "sc = MinMaxScaler (feature_range=(0,1)) \n"
      ]
    },
    {
      "cell_type": "code",
      "execution_count": null,
      "id": "38ee2879",
      "metadata": {
        "id": "38ee2879",
        "outputId": "b8089079-f3d4-438f-f97b-a230b6986aba"
      },
      "outputs": [
        {
          "data": {
            "text/plain": [
              "(1475, 1)"
            ]
          },
          "execution_count": 23,
          "metadata": {},
          "output_type": "execute_result"
        }
      ],
      "source": [
        "#Scaling\n",
        "sc = MinMaxScaler (feature_range=(0,1)) \n",
        "trainData = sc.fit_transform (trainData) \n",
        "trainData.shape"
      ]
    },
    {
      "cell_type": "code",
      "execution_count": null,
      "id": "d03dcf93",
      "metadata": {
        "id": "d03dcf93",
        "outputId": "12c28591-3e52-4db8-b8a1-0cfe6c363c3d"
      },
      "outputs": [
        {
          "data": {
            "text/plain": [
              "(23, 1)"
            ]
          },
          "execution_count": 60,
          "metadata": {},
          "output_type": "execute_result"
        }
      ],
      "source": [
        "#Scaling\n",
        "sc = MinMaxScaler (feature_range=(0,1)) \n",
        "trainData = sc.fit_transform (testData) \n",
        "testData.shape"
      ]
    },
    {
      "cell_type": "code",
      "execution_count": null,
      "id": "80b98135",
      "metadata": {
        "id": "80b98135"
      },
      "outputs": [],
      "source": [
        "x_train = []\n",
        "\n",
        "y_train = []\n",
        "\n",
        "for i in range (60,1475): #60: timestep // 1475: Length of the data\n",
        "    x_train.append(trainData[i-60:i,0]) \n",
        "    y_train.append(trainData [i,0])\n",
        "\n",
        "\n",
        "x_train,y_train = np.array(x_train), np.array(y_train)"
      ]
    },
    {
      "cell_type": "code",
      "execution_count": null,
      "id": "31da8f86",
      "metadata": {
        "id": "31da8f86",
        "outputId": "9dbf529f-71b1-47d3-e0d1-2ad831546cb2"
      },
      "outputs": [
        {
          "data": {
            "text/plain": [
              "(1415, 60, 1)"
            ]
          },
          "execution_count": 26,
          "metadata": {},
          "output_type": "execute_result"
        }
      ],
      "source": [
        "x_train = np.reshape(x_train,(x_train.shape[0],x_train.shape [1],1)) #adding the batch_size axis \n",
        "x_train.shape"
      ]
    },
    {
      "cell_type": "code",
      "execution_count": null,
      "id": "68e1dd6b",
      "metadata": {
        "id": "68e1dd6b"
      },
      "outputs": [],
      "source": [
        "model = Sequential()\n",
        "\n",
        "model.add(LSTM(units=100, return_sequences = True, input_shape=(x_train.shape[1],1))) \n",
        "model.add(Dropout(0.2))\n",
        "\n",
        "model.add(LSTM(units=100, return_sequences = True)) \n",
        "model.add(Dropout(0.2))\n",
        "\n",
        "model.add(LSTM(units=108, return_sequences = True))\n",
        "model.add(Dropout(0.2))\n",
        "\n",
        "model.add(LSTM(units=100, return_sequences = False))\n",
        "model.add(Dropout(0.2))\n",
        "\n",
        "model.add(Dense(units=1))\n",
        "model.compile(optimizer='adam',loss=\"mean_squared_error\")"
      ]
    },
    {
      "cell_type": "code",
      "execution_count": null,
      "id": "ddcb7f88",
      "metadata": {
        "id": "ddcb7f88",
        "outputId": "de13941b-eb63-4268-a345-fcb539d1643c"
      },
      "outputs": [
        {
          "name": "stdout",
          "output_type": "stream",
          "text": [
            "Epoch 1/20\n",
            "45/45 - 22s - loss: 0.0148 - 22s/epoch - 491ms/step\n",
            "Epoch 2/20\n",
            "45/45 - 9s - loss: 0.0027 - 9s/epoch - 195ms/step\n",
            "Epoch 3/20\n",
            "45/45 - 9s - loss: 0.0025 - 9s/epoch - 193ms/step\n",
            "Epoch 4/20\n",
            "45/45 - 13s - loss: 0.0028 - 13s/epoch - 279ms/step\n",
            "Epoch 5/20\n",
            "45/45 - 14s - loss: 0.0020 - 14s/epoch - 320ms/step\n",
            "Epoch 6/20\n",
            "45/45 - 11s - loss: 0.0019 - 11s/epoch - 244ms/step\n",
            "Epoch 7/20\n",
            "45/45 - 11s - loss: 0.0025 - 11s/epoch - 253ms/step\n",
            "Epoch 8/20\n",
            "45/45 - 10s - loss: 0.0022 - 10s/epoch - 217ms/step\n",
            "Epoch 9/20\n",
            "45/45 - 9s - loss: 0.0018 - 9s/epoch - 208ms/step\n",
            "Epoch 10/20\n",
            "45/45 - 14s - loss: 0.0017 - 14s/epoch - 308ms/step\n",
            "Epoch 11/20\n",
            "45/45 - 10s - loss: 0.0016 - 10s/epoch - 220ms/step\n",
            "Epoch 12/20\n",
            "45/45 - 9s - loss: 0.0016 - 9s/epoch - 194ms/step\n",
            "Epoch 13/20\n",
            "45/45 - 9s - loss: 0.0017 - 9s/epoch - 191ms/step\n",
            "Epoch 14/20\n",
            "45/45 - 9s - loss: 0.0014 - 9s/epoch - 202ms/step\n",
            "Epoch 15/20\n",
            "45/45 - 9s - loss: 0.0015 - 9s/epoch - 195ms/step\n",
            "Epoch 16/20\n",
            "45/45 - 10s - loss: 0.0014 - 10s/epoch - 231ms/step\n",
            "Epoch 17/20\n",
            "45/45 - 9s - loss: 0.0013 - 9s/epoch - 195ms/step\n",
            "Epoch 18/20\n",
            "45/45 - 9s - loss: 0.0014 - 9s/epoch - 195ms/step\n",
            "Epoch 19/20\n",
            "45/45 - 9s - loss: 0.0014 - 9s/epoch - 192ms/step\n",
            "Epoch 20/20\n",
            "45/45 - 9s - loss: 0.0013 - 9s/epoch - 189ms/step\n"
          ]
        }
      ],
      "source": [
        "hist = model.fit(x_train, y_train, epochs = 20, batch_size = 32, verbose=2)"
      ]
    },
    {
      "cell_type": "code",
      "execution_count": null,
      "id": "ce08b169",
      "metadata": {
        "id": "ce08b169",
        "outputId": "96745e8c-4acd-493a-c635-19ba9135231b"
      },
      "outputs": [
        {
          "data": {
            "image/png": "[encoded data removed]",
            "text/plain": [
              "<Figure size 432x288 with 1 Axes>"
            ]
          },
          "metadata": {
            "needs_background": "light"
          },
          "output_type": "display_data"
        }
      ],
      "source": [
        "plt.plot(hist.history['loss'])\n",
        "plt.title('Training model loss')\n",
        "plt.ylabel('loss')\n",
        "plt.xlabel('epoch')\n",
        "plt.legend (['train'], loc='upper left')\n",
        "plt.show()"
      ]
    },
    {
      "cell_type": "code",
      "execution_count": null,
      "id": "62ac9632",
      "metadata": {
        "id": "62ac9632"
      },
      "outputs": [],
      "source": [
        ""
      ]
    },
    {
      "cell_type": "code",
      "execution_count": null,
      "id": "0786252c",
      "metadata": {
        "id": "0786252c"
      },
      "outputs": [],
      "source": [
        ""
      ]
    },
    {
      "cell_type": "code",
      "execution_count": null,
      "id": "e4ae8151",
      "metadata": {
        "id": "e4ae8151"
      },
      "outputs": [],
      "source": [
        ""
      ]
    },
    {
      "cell_type": "code",
      "execution_count": null,
      "id": "fc900011",
      "metadata": {
        "id": "fc900011"
      },
      "outputs": [],
      "source": [
        ""
      ]
    }
  ],
  "metadata": {
    "kernelspec": {
      "display_name": "Python 3",
      "language": "python",
      "name": "python3"
    },
    "language_info": {
      "codemirror_mode": {
        "name": "ipython",
        "version": 3
      },
      "file_extension": ".py",
      "mimetype": "text/x-python",
      "name": "python",
      "nbconvert_exporter": "python",
      "pygments_lexer": "ipython3",
      "version": "3.8.8"
    },
    "colab": {
      "name": "Shubham _chavhan.ipynb",
      "provenance": [],
      "include_colab_link": true
    }
  },
  "nbformat": 4,
  "nbformat_minor": 5
}