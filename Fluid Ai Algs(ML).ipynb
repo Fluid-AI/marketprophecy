{
 "cells": [
  {
   "cell_type": "code",
   "execution_count": 1,
   "id": "2982cec1",
   "metadata": {},
   "outputs": [],
   "source": [
    "import numpy as np\n",
    "import pandas as pd\n",
    "import matplotlib.pyplot as plt"
   ]
  },
  {
   "cell_type": "code",
   "execution_count": 2,
   "id": "74d8188f",
   "metadata": {},
   "outputs": [],
   "source": [
    "df=pd.read_csv('NSE Data/NSE Training Data - 1st Jan 2016 to 1st Jan 2022.csv')"
   ]
  },
  {
   "cell_type": "code",
   "execution_count": 3,
   "id": "4ec8d5da",
   "metadata": {
    "scrolled": true
   },
   "outputs": [
    {
     "name": "stdout",
     "output_type": "stream",
     "text": [
      "<class 'pandas.core.frame.DataFrame'>\n",
      "RangeIndex: 1481 entries, 0 to 1480\n",
      "Data columns (total 7 columns):\n",
      " #   Column     Non-Null Count  Dtype  \n",
      "---  ------     --------------  -----  \n",
      " 0   Date       1481 non-null   object \n",
      " 1   Open       1475 non-null   float64\n",
      " 2   High       1475 non-null   float64\n",
      " 3   Low        1475 non-null   float64\n",
      " 4   Close      1475 non-null   float64\n",
      " 5   Adj Close  1475 non-null   float64\n",
      " 6   Volume     1475 non-null   float64\n",
      "dtypes: float64(6), object(1)\n",
      "memory usage: 81.1+ KB\n"
     ]
    }
   ],
   "source": [
    "df.info()"
   ]
  },
  {
   "cell_type": "code",
   "execution_count": 4,
   "id": "6092e41b",
   "metadata": {},
   "outputs": [],
   "source": [
    "df1=df.interpolate(limit_direction=\"both\")\n"
   ]
  },
  {
   "cell_type": "code",
   "execution_count": 5,
   "id": "6346e8da",
   "metadata": {},
   "outputs": [],
   "source": [
    "df2=df1[['Close']]"
   ]
  },
  {
   "cell_type": "code",
   "execution_count": 6,
   "id": "39c0ea5a",
   "metadata": {},
   "outputs": [
    {
     "name": "stderr",
     "output_type": "stream",
     "text": [
      "C:\\Users\\harish\\AppData\\Local\\Temp/ipykernel_3908/350617452.py:2: SettingWithCopyWarning: \n",
      "A value is trying to be set on a copy of a slice from a DataFrame.\n",
      "Try using .loc[row_indexer,col_indexer] = value instead\n",
      "\n",
      "See the caveats in the documentation: https://pandas.pydata.org/pandas-docs/stable/user_guide/indexing.html#returning-a-view-versus-a-copy\n",
      "  df2['prediction']=df2['Close'].shift(-forecast)\n"
     ]
    },
    {
     "data": {
      "text/html": [
       "<div>\n",
       "<style scoped>\n",
       "    .dataframe tbody tr th:only-of-type {\n",
       "        vertical-align: middle;\n",
       "    }\n",
       "\n",
       "    .dataframe tbody tr th {\n",
       "        vertical-align: top;\n",
       "    }\n",
       "\n",
       "    .dataframe thead th {\n",
       "        text-align: right;\n",
       "    }\n",
       "</style>\n",
       "<table border=\"1\" class=\"dataframe\">\n",
       "  <thead>\n",
       "    <tr style=\"text-align: right;\">\n",
       "      <th></th>\n",
       "      <th>Close</th>\n",
       "      <th>prediction</th>\n",
       "    </tr>\n",
       "  </thead>\n",
       "  <tbody>\n",
       "    <tr>\n",
       "      <th>0</th>\n",
       "      <td>7791.299805</td>\n",
       "      <td>7298.200195</td>\n",
       "    </tr>\n",
       "    <tr>\n",
       "      <th>1</th>\n",
       "      <td>7784.649902</td>\n",
       "      <td>7215.700195</td>\n",
       "    </tr>\n",
       "    <tr>\n",
       "      <th>2</th>\n",
       "      <td>7741.000000</td>\n",
       "      <td>6976.350098</td>\n",
       "    </tr>\n",
       "    <tr>\n",
       "      <th>3</th>\n",
       "      <td>7568.299805</td>\n",
       "      <td>6980.950195</td>\n",
       "    </tr>\n",
       "    <tr>\n",
       "      <th>4</th>\n",
       "      <td>7601.350098</td>\n",
       "      <td>7162.950195</td>\n",
       "    </tr>\n",
       "  </tbody>\n",
       "</table>\n",
       "</div>"
      ],
      "text/plain": [
       "         Close   prediction\n",
       "0  7791.299805  7298.200195\n",
       "1  7784.649902  7215.700195\n",
       "2  7741.000000  6976.350098\n",
       "3  7568.299805  6980.950195\n",
       "4  7601.350098  7162.950195"
      ]
     },
     "execution_count": 6,
     "metadata": {},
     "output_type": "execute_result"
    }
   ],
   "source": [
    "forecast=25\n",
    "df2['prediction']=df2['Close'].shift(-forecast)\n",
    "df2.head()"
   ]
  },
  {
   "cell_type": "code",
   "execution_count": 7,
   "id": "76c5b898",
   "metadata": {},
   "outputs": [
    {
     "data": {
      "text/html": [
       "<div>\n",
       "<style scoped>\n",
       "    .dataframe tbody tr th:only-of-type {\n",
       "        vertical-align: middle;\n",
       "    }\n",
       "\n",
       "    .dataframe tbody tr th {\n",
       "        vertical-align: top;\n",
       "    }\n",
       "\n",
       "    .dataframe thead th {\n",
       "        text-align: right;\n",
       "    }\n",
       "</style>\n",
       "<table border=\"1\" class=\"dataframe\">\n",
       "  <thead>\n",
       "    <tr style=\"text-align: right;\">\n",
       "      <th></th>\n",
       "      <th>Close</th>\n",
       "      <th>prediction</th>\n",
       "    </tr>\n",
       "  </thead>\n",
       "  <tbody>\n",
       "    <tr>\n",
       "      <th>1476</th>\n",
       "      <td>17086.250000</td>\n",
       "      <td>NaN</td>\n",
       "    </tr>\n",
       "    <tr>\n",
       "      <th>1477</th>\n",
       "      <td>17233.250000</td>\n",
       "      <td>NaN</td>\n",
       "    </tr>\n",
       "    <tr>\n",
       "      <th>1478</th>\n",
       "      <td>17213.599609</td>\n",
       "      <td>NaN</td>\n",
       "    </tr>\n",
       "    <tr>\n",
       "      <th>1479</th>\n",
       "      <td>17203.949219</td>\n",
       "      <td>NaN</td>\n",
       "    </tr>\n",
       "    <tr>\n",
       "      <th>1480</th>\n",
       "      <td>17354.050781</td>\n",
       "      <td>NaN</td>\n",
       "    </tr>\n",
       "  </tbody>\n",
       "</table>\n",
       "</div>"
      ],
      "text/plain": [
       "             Close  prediction\n",
       "1476  17086.250000         NaN\n",
       "1477  17233.250000         NaN\n",
       "1478  17213.599609         NaN\n",
       "1479  17203.949219         NaN\n",
       "1480  17354.050781         NaN"
      ]
     },
     "execution_count": 7,
     "metadata": {},
     "output_type": "execute_result"
    }
   ],
   "source": [
    "df2.tail()"
   ]
  },
  {
   "cell_type": "code",
   "execution_count": 8,
   "id": "b67be57c",
   "metadata": {},
   "outputs": [
    {
     "name": "stdout",
     "output_type": "stream",
     "text": [
      "[[ 7791.299805]\n",
      " [ 7784.649902]\n",
      " [ 7741.      ]\n",
      " ...\n",
      " [17415.050781]\n",
      " [17536.25    ]\n",
      " [17026.449219]]\n"
     ]
    },
    {
     "name": "stderr",
     "output_type": "stream",
     "text": [
      "C:\\Users\\harish\\AppData\\Local\\Temp/ipykernel_3908/2475577436.py:1: FutureWarning: In a future version of pandas all arguments of DataFrame.drop except for the argument 'labels' will be keyword-only\n",
      "  X=np.array(df2.drop(['prediction'],1))\n"
     ]
    }
   ],
   "source": [
    "X=np.array(df2.drop(['prediction'],1))\n",
    "X=X[:-forecast]\n",
    "print(X)"
   ]
  },
  {
   "cell_type": "code",
   "execution_count": 9,
   "id": "ecc83053",
   "metadata": {},
   "outputs": [
    {
     "name": "stdout",
     "output_type": "stream",
     "text": [
      "[ 7298.200195  7215.700195  6976.350098 ... 17213.599609 17203.949219\n",
      " 17354.050781]\n"
     ]
    }
   ],
   "source": [
    "Y=np.array(df2['prediction'])\n",
    "Y=Y[:-forecast]\n",
    "print(Y)"
   ]
  },
  {
   "cell_type": "code",
   "execution_count": 10,
   "id": "5c817fd9",
   "metadata": {},
   "outputs": [],
   "source": [
    "from sklearn.model_selection import train_test_split\n",
    "X_train,X_test,Y_train,Y_test=train_test_split(X,Y,test_size=0.3)"
   ]
  },
  {
   "cell_type": "code",
   "execution_count": 11,
   "id": "cd108d60",
   "metadata": {},
   "outputs": [],
   "source": [
    "from sklearn.svm import SVR\n",
    "from sklearn.linear_model import LinearRegression\n",
    "from sklearn.ensemble import RandomForestRegressor"
   ]
  },
  {
   "cell_type": "code",
   "execution_count": 12,
   "id": "87fe0aba",
   "metadata": {},
   "outputs": [],
   "source": [
    "X_train=X_train.reshape(-1,1)\n",
    "X_test=X_test.reshape(-1,1)"
   ]
  },
  {
   "cell_type": "code",
   "execution_count": 13,
   "id": "eae9afdd",
   "metadata": {},
   "outputs": [
    {
     "data": {
      "text/plain": [
       "SVR(C=1000, gamma=0.0001)"
      ]
     },
     "execution_count": 13,
     "metadata": {},
     "output_type": "execute_result"
    }
   ],
   "source": [
    "svr_rbf=SVR(kernel='rbf',C=1000,gamma=0.0001)\n",
    "svr_rbf.fit(X_train,Y_train)"
   ]
  },
  {
   "cell_type": "code",
   "execution_count": 14,
   "id": "1d4fb246",
   "metadata": {},
   "outputs": [
    {
     "name": "stdout",
     "output_type": "stream",
     "text": [
      "0.8924533998813564\n"
     ]
    }
   ],
   "source": [
    "svr_confidence=svr_rbf.score(X_test,Y_test)\n",
    "print(svr_confidence)"
   ]
  },
  {
   "cell_type": "code",
   "execution_count": 15,
   "id": "a5801dbe",
   "metadata": {},
   "outputs": [
    {
     "data": {
      "text/plain": [
       "LinearRegression()"
      ]
     },
     "execution_count": 15,
     "metadata": {},
     "output_type": "execute_result"
    }
   ],
   "source": [
    "lr=LinearRegression()\n",
    "lr.fit(X_train,Y_train)"
   ]
  },
  {
   "cell_type": "code",
   "execution_count": 16,
   "id": "b66fa4d4",
   "metadata": {},
   "outputs": [
    {
     "name": "stdout",
     "output_type": "stream",
     "text": [
      "0.92189487016422\n"
     ]
    }
   ],
   "source": [
    "lr_confidence=lr.score(X_test,Y_test)\n",
    "print(lr_confidence)"
   ]
  },
  {
   "cell_type": "code",
   "execution_count": 17,
   "id": "18e5ce9d",
   "metadata": {},
   "outputs": [
    {
     "data": {
      "text/plain": [
       "RandomForestRegressor(criterion='absolute_error', n_estimators=300,\n",
       "                      random_state=0)"
      ]
     },
     "execution_count": 17,
     "metadata": {},
     "output_type": "execute_result"
    }
   ],
   "source": [
    "regr = RandomForestRegressor(n_estimators=300,random_state=0,criterion = \"absolute_error\")\n",
    "regr.fit(X_train,Y_train)"
   ]
  },
  {
   "cell_type": "code",
   "execution_count": 18,
   "id": "7fa2608b",
   "metadata": {},
   "outputs": [
    {
     "name": "stdout",
     "output_type": "stream",
     "text": [
      "0.9296617451379978\n"
     ]
    }
   ],
   "source": [
    "regr_confidence=regr.score(X_test,Y_test)\n",
    "print(regr_confidence)"
   ]
  },
  {
   "cell_type": "code",
   "execution_count": 19,
   "id": "49845d3b",
   "metadata": {},
   "outputs": [
    {
     "name": "stderr",
     "output_type": "stream",
     "text": [
      "C:\\Users\\harish\\AppData\\Local\\Temp/ipykernel_3908/3512807292.py:1: FutureWarning: In a future version of pandas all arguments of DataFrame.drop except for the argument 'labels' will be keyword-only\n",
      "  x_forecast=np.array(df2.drop(['prediction'],1))[-forecast:]\n"
     ]
    },
    {
     "name": "stdout",
     "output_type": "stream",
     "text": [
      "[17205.7138402  17135.21894867 17318.25773586 17552.16128053\n",
      " 17347.94911603 17064.52555648 17328.0212315  17620.01533777\n",
      " 17666.94511625 17661.41629606 17518.88132378 17475.68802365\n",
      " 17372.5612212  17399.46386532 17137.21173712 16767.54947908\n",
      " 16923.63502326 17107.56900888 17224.29698111 17155.69562821\n",
      " 17237.8981519  17384.3681032  17364.78856705 17355.17297417\n",
      " 17504.73330394]\n",
      "[17770.34596329 17803.72774064 17738.25554029 17882.34559909\n",
      " 17738.25554029 17799.98526667 17738.25554029 17814.68855444\n",
      " 18030.62354148 18031.13520815 18304.09800121 18082.92093758\n",
      " 17793.65038414 18042.44942065 17803.72774064 17758.22144538\n",
      " 17658.18391919 17798.02443334 17770.34596329 17790.84076793\n",
      " 17770.34596329 17913.88827486 17760.75831382 17760.75831382\n",
      " 18304.3777342 ]\n"
     ]
    }
   ],
   "source": [
    "x_forecast=np.array(df2.drop(['prediction'],1))[-forecast:]\n",
    "lr_prediction=lr.predict(x_forecast)\n",
    "regr_prediction=regr.predict(x_forecast)\n",
    "print(lr_prediction)\n",
    "print(regr_prediction)"
   ]
  },
  {
   "cell_type": "code",
   "execution_count": 20,
   "id": "12da2183",
   "metadata": {},
   "outputs": [
    {
     "name": "stdout",
     "output_type": "stream",
     "text": [
      "[14218.55636553 13794.89159619 13983.43694704 17285.62074504\n",
      " 13790.86012048 13558.99729472 13900.18316125 16624.7175352\n",
      " 16994.43243807 16930.59433196 17452.55232084 16682.14508091\n",
      " 13849.46625416 14247.64391675 13801.2209444  16432.5223708\n",
      " 13604.00800083 13723.80463528 14340.26285059 13876.15030608\n",
      " 14397.86072193 13978.40968733 13802.23758719 13781.71233285\n",
      " 17328.53451638]\n"
     ]
    }
   ],
   "source": [
    "svm_prediction=svr_rbf.predict(x_forecast)\n",
    "print(svm_prediction)"
   ]
  },
  {
   "cell_type": "code",
   "execution_count": 21,
   "id": "f29ab6ad",
   "metadata": {},
   "outputs": [],
   "source": [
    "actualdata=pd.read_csv('NSE Data/NSE Out of Time Testing Data - 1st Jan 2022 to 4th Feb 2022.csv')\n",
    "df3=actualdata['Close'].shift(+2)"
   ]
  },
  {
   "cell_type": "code",
   "execution_count": 22,
   "id": "01689a80",
   "metadata": {},
   "outputs": [
    {
     "data": {
      "text/plain": [
       "0             NaN\n",
       "1             NaN\n",
       "2    17625.699219\n",
       "3    17805.250000\n",
       "4    17925.250000\n",
       "Name: Close, dtype: float64"
      ]
     },
     "execution_count": 22,
     "metadata": {},
     "output_type": "execute_result"
    }
   ],
   "source": [
    "df3.head()"
   ]
  },
  {
   "cell_type": "code",
   "execution_count": 23,
   "id": "de8e7c8c",
   "metadata": {},
   "outputs": [
    {
     "data": {
      "image/png": "[encoded data removed]",
      "text/plain": [
       "<Figure size 576x432 with 1 Axes>"
      ]
     },
     "metadata": {
      "needs_background": "light"
     },
     "output_type": "display_data"
    }
   ],
   "source": [
    "import matplotlib.pyplot as plt\n",
    "plt.figure(figsize=(8,6))\n",
    "plt.plot(lr_prediction,label='lr_reg')\n",
    "#plt.plot(svm_prediction,label='svr')\n",
    "plt.plot(df3,label=\"test_data\")\n",
    "plt.plot(regr_prediction,label='rf_reg' )\n",
    "plt.legend()\n",
    "plt.show()"
   ]
  },
  {
   "cell_type": "code",
   "execution_count": null,
   "id": "8e61f05b",
   "metadata": {},
   "outputs": [],
   "source": [
    "\n"
   ]
  },
  {
   "cell_type": "code",
   "execution_count": null,
   "id": "41742fb5",
   "metadata": {},
   "outputs": [],
   "source": []
  },
  {
   "cell_type": "code",
   "execution_count": null,
   "id": "abf1af91",
   "metadata": {},
   "outputs": [],
   "source": []
  },
  {
   "cell_type": "code",
   "execution_count": null,
   "id": "57926d3e",
   "metadata": {},
   "outputs": [],
   "source": []
  },
  {
   "cell_type": "code",
   "execution_count": null,
   "id": "d5b5bf2f",
   "metadata": {},
   "outputs": [],
   "source": []
  },
  {
   "cell_type": "code",
   "execution_count": null,
   "id": "058c58a8",
   "metadata": {},
   "outputs": [],
   "source": []
  }
 ],
 "metadata": {
  "kernelspec": {
   "display_name": "Python 3 (ipykernel)",
   "language": "python",
   "name": "python3"
  },
  "language_info": {
   "codemirror_mode": {
    "name": "ipython",
    "version": 3
   },
   "file_extension": ".py",
   "mimetype": "text/x-python",
   "name": "python",
   "nbconvert_exporter": "python",
   "pygments_lexer": "ipython3",
   "version": "3.9.7"
  }
 },
 "nbformat": 4,
 "nbformat_minor": 5
}
